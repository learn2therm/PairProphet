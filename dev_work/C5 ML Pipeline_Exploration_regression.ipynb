{
 "cells": [
  {
   "cell_type": "markdown",
   "id": "6c1fdfb1",
   "metadata": {},
   "source": [
    "Copy of other ML notebook with new dataset"
   ]
  },
  {
   "cell_type": "code",
   "execution_count": 1,
   "id": "61c53eee",
   "metadata": {},
   "outputs": [],
   "source": [
    "import matplotlib.pyplot as plt\n",
    "import seaborn as sns\n",
    "import pandas as pd\n",
    "import numpy as np\n",
    "import os\n",
    "import scipy.stats\n",
    "import sklearn.preprocessing\n",
    "import sklearn.model_selection\n",
    "import sklearn.neighbors\n",
    "import sklearn.ensemble\n",
    "import sklearn.feature_selection\n",
    "import unittest"
   ]
  },
  {
   "cell_type": "markdown",
   "id": "5e5f326c",
   "metadata": {},
   "source": [
    "Things I've tried to improve model: \n",
    "\n",
    "1. drop bit scores over 1000\n",
    "2. Switch to 85/15 train/test split\n",
    "3. Lasso regression - not great\n",
    "4. Ridge regression - R2 = 0.87, about the same as normal Linear regression\n",
    "5. KNN regression (n_neighbors optimized at 8) gives best result, R2 = ~0.93 --> \n",
    "*got it up to .942 by removing a few features\n",
    "6. Decision tree regressor was slightly worse than KNN\n"
   ]
  },
  {
   "cell_type": "code",
   "execution_count": 2,
   "id": "ba87d47f",
   "metadata": {},
   "outputs": [
    {
     "name": "stdout",
     "output_type": "stream",
     "text": [
      "/Users/loganroberts/Learn2Therm/ValidProt/data\n"
     ]
    }
   ],
   "source": [
    "cd /Users/loganroberts/Learn2Therm/ValidProt/data"
   ]
  },
  {
   "cell_type": "code",
   "execution_count": 104,
   "id": "f90c1cdd",
   "metadata": {},
   "outputs": [],
   "source": [
    "#convert to pandas df\n",
    "df_original = pd.read_csv('learn2therm_sample_50k/learn2therm_sample_50k.csv')"
   ]
  },
  {
   "cell_type": "code",
   "execution_count": 4,
   "id": "96d2c565",
   "metadata": {
    "scrolled": true
   },
   "outputs": [
    {
     "data": {
      "text/html": [
       "<div>\n",
       "<style scoped>\n",
       "    .dataframe tbody tr th:only-of-type {\n",
       "        vertical-align: middle;\n",
       "    }\n",
       "\n",
       "    .dataframe tbody tr th {\n",
       "        vertical-align: top;\n",
       "    }\n",
       "\n",
       "    .dataframe thead th {\n",
       "        text-align: right;\n",
       "    }\n",
       "</style>\n",
       "<table border=\"1\" class=\"dataframe\">\n",
       "  <thead>\n",
       "    <tr style=\"text-align: right;\">\n",
       "      <th></th>\n",
       "      <th>Unnamed: 0</th>\n",
       "      <th>local_gap_compressed_percent_id</th>\n",
       "      <th>scaled_local_query_percent_id</th>\n",
       "      <th>scaled_local_symmetric_percent_id</th>\n",
       "      <th>query_align_len</th>\n",
       "      <th>query_align_cov</th>\n",
       "      <th>subject_align_len</th>\n",
       "      <th>subject_align_cov</th>\n",
       "      <th>bit_score</th>\n",
       "      <th>thermo_index</th>\n",
       "      <th>...</th>\n",
       "      <th>bit_score_16s</th>\n",
       "      <th>m_ogt</th>\n",
       "      <th>t_ogt</th>\n",
       "      <th>ogt_difference</th>\n",
       "      <th>m_protein_seq</th>\n",
       "      <th>t_protein_seq</th>\n",
       "      <th>m_protein_desc</th>\n",
       "      <th>t_protein_desc</th>\n",
       "      <th>m_protein_len</th>\n",
       "      <th>t_protein_len</th>\n",
       "    </tr>\n",
       "  </thead>\n",
       "  <tbody>\n",
       "    <tr>\n",
       "      <th>0</th>\n",
       "      <td>0</td>\n",
       "      <td>0.287582</td>\n",
       "      <td>0.217822</td>\n",
       "      <td>0.215686</td>\n",
       "      <td>160</td>\n",
       "      <td>0.792079</td>\n",
       "      <td>152</td>\n",
       "      <td>0.737864</td>\n",
       "      <td>131</td>\n",
       "      <td>875</td>\n",
       "      <td>...</td>\n",
       "      <td>1153.0</td>\n",
       "      <td>27.5</td>\n",
       "      <td>50.0</td>\n",
       "      <td>22.5</td>\n",
       "      <td>MAESGTSRRADHLVPVPGPDAEPPAVADELLRAVGRGDEQAFGRLY...</td>\n",
       "      <td>MPSQITESERIELAERFERDALPLLDQLYSAALRMTRNPADAEDLV...</td>\n",
       "      <td>ECF RNA polymerase sigma factor SigK</td>\n",
       "      <td>sigma-70 family RNA polymerase sigma factor</td>\n",
       "      <td>206</td>\n",
       "      <td>202</td>\n",
       "    </tr>\n",
       "    <tr>\n",
       "      <th>1</th>\n",
       "      <td>1</td>\n",
       "      <td>0.319635</td>\n",
       "      <td>0.295359</td>\n",
       "      <td>0.297872</td>\n",
       "      <td>218</td>\n",
       "      <td>0.919831</td>\n",
       "      <td>226</td>\n",
       "      <td>0.969957</td>\n",
       "      <td>282</td>\n",
       "      <td>11324</td>\n",
       "      <td>...</td>\n",
       "      <td>1014.0</td>\n",
       "      <td>25.0</td>\n",
       "      <td>54.0</td>\n",
       "      <td>29.0</td>\n",
       "      <td>MARIALVDDDRNILTSVSMTLEAEGFEVETYNDGQSALDAFNKRMP...</td>\n",
       "      <td>MRVLLVEDDPNTSRSIEMMLTHANLNVYATDMGEEGIDLAKLYDYD...</td>\n",
       "      <td>response regulator transcription factor</td>\n",
       "      <td>response regulator transcription factor</td>\n",
       "      <td>233</td>\n",
       "      <td>237</td>\n",
       "    </tr>\n",
       "    <tr>\n",
       "      <th>2</th>\n",
       "      <td>2</td>\n",
       "      <td>0.279621</td>\n",
       "      <td>0.234127</td>\n",
       "      <td>0.218924</td>\n",
       "      <td>211</td>\n",
       "      <td>0.837302</td>\n",
       "      <td>210</td>\n",
       "      <td>0.731707</td>\n",
       "      <td>96</td>\n",
       "      <td>875</td>\n",
       "      <td>...</td>\n",
       "      <td>1138.0</td>\n",
       "      <td>28.0</td>\n",
       "      <td>50.0</td>\n",
       "      <td>22.0</td>\n",
       "      <td>MKDTVVFVTGAARGIGAHTARLAVARGARVALVGLEPHLLADLAAE...</td>\n",
       "      <td>MTPEQIFSGQTAIVTGGASGIGAATVEHIARRGGRVFSVDLSYDSP...</td>\n",
       "      <td>SDR family oxidoreductase</td>\n",
       "      <td>SDR family oxidoreductase</td>\n",
       "      <td>287</td>\n",
       "      <td>252</td>\n",
       "    </tr>\n",
       "    <tr>\n",
       "      <th>3</th>\n",
       "      <td>3</td>\n",
       "      <td>0.327273</td>\n",
       "      <td>0.200743</td>\n",
       "      <td>0.214712</td>\n",
       "      <td>166</td>\n",
       "      <td>0.617100</td>\n",
       "      <td>163</td>\n",
       "      <td>0.696581</td>\n",
       "      <td>175</td>\n",
       "      <td>875</td>\n",
       "      <td>...</td>\n",
       "      <td>1077.0</td>\n",
       "      <td>28.0</td>\n",
       "      <td>50.0</td>\n",
       "      <td>22.0</td>\n",
       "      <td>MTSGLWERVLDGVWVTIQLLVLSALLATAVSFVVGIARTHRLWIVR...</td>\n",
       "      <td>MAMSRRKRGQLARGIQYAILVIVVVVLALLADWGKIGKAFFDWEAA...</td>\n",
       "      <td>ectoine/hydroxyectoine ABC transporter permeas...</td>\n",
       "      <td>amino acid ABC transporter permease</td>\n",
       "      <td>234</td>\n",
       "      <td>269</td>\n",
       "    </tr>\n",
       "    <tr>\n",
       "      <th>4</th>\n",
       "      <td>4</td>\n",
       "      <td>0.338710</td>\n",
       "      <td>0.318182</td>\n",
       "      <td>0.287671</td>\n",
       "      <td>60</td>\n",
       "      <td>0.909091</td>\n",
       "      <td>71</td>\n",
       "      <td>0.887500</td>\n",
       "      <td>61</td>\n",
       "      <td>9827</td>\n",
       "      <td>...</td>\n",
       "      <td>991.0</td>\n",
       "      <td>30.0</td>\n",
       "      <td>50.0</td>\n",
       "      <td>20.0</td>\n",
       "      <td>MIISLRRGLRFIRFIVFFAALVYLFYHVLDLFNGWISPVDQYQMPT...</td>\n",
       "      <td>MKRMVWRTLKVFIIFIACTLLFYFGLRFMHLEYEQFHRYEPPEGPA...</td>\n",
       "      <td>YqzK family protein</td>\n",
       "      <td>YqzK family protein</td>\n",
       "      <td>80</td>\n",
       "      <td>66</td>\n",
       "    </tr>\n",
       "  </tbody>\n",
       "</table>\n",
       "<p>5 rows × 30 columns</p>\n",
       "</div>"
      ],
      "text/plain": [
       "   Unnamed: 0  local_gap_compressed_percent_id  scaled_local_query_percent_id  \\\n",
       "0           0                         0.287582                       0.217822   \n",
       "1           1                         0.319635                       0.295359   \n",
       "2           2                         0.279621                       0.234127   \n",
       "3           3                         0.327273                       0.200743   \n",
       "4           4                         0.338710                       0.318182   \n",
       "\n",
       "   scaled_local_symmetric_percent_id  query_align_len  query_align_cov  \\\n",
       "0                           0.215686              160         0.792079   \n",
       "1                           0.297872              218         0.919831   \n",
       "2                           0.218924              211         0.837302   \n",
       "3                           0.214712              166         0.617100   \n",
       "4                           0.287671               60         0.909091   \n",
       "\n",
       "   subject_align_len  subject_align_cov  bit_score  thermo_index  ...  \\\n",
       "0                152           0.737864        131           875  ...   \n",
       "1                226           0.969957        282         11324  ...   \n",
       "2                210           0.731707         96           875  ...   \n",
       "3                163           0.696581        175           875  ...   \n",
       "4                 71           0.887500         61          9827  ...   \n",
       "\n",
       "   bit_score_16s  m_ogt  t_ogt  ogt_difference  \\\n",
       "0         1153.0   27.5   50.0            22.5   \n",
       "1         1014.0   25.0   54.0            29.0   \n",
       "2         1138.0   28.0   50.0            22.0   \n",
       "3         1077.0   28.0   50.0            22.0   \n",
       "4          991.0   30.0   50.0            20.0   \n",
       "\n",
       "                                       m_protein_seq  \\\n",
       "0  MAESGTSRRADHLVPVPGPDAEPPAVADELLRAVGRGDEQAFGRLY...   \n",
       "1  MARIALVDDDRNILTSVSMTLEAEGFEVETYNDGQSALDAFNKRMP...   \n",
       "2  MKDTVVFVTGAARGIGAHTARLAVARGARVALVGLEPHLLADLAAE...   \n",
       "3  MTSGLWERVLDGVWVTIQLLVLSALLATAVSFVVGIARTHRLWIVR...   \n",
       "4  MIISLRRGLRFIRFIVFFAALVYLFYHVLDLFNGWISPVDQYQMPT...   \n",
       "\n",
       "                                       t_protein_seq  \\\n",
       "0  MPSQITESERIELAERFERDALPLLDQLYSAALRMTRNPADAEDLV...   \n",
       "1  MRVLLVEDDPNTSRSIEMMLTHANLNVYATDMGEEGIDLAKLYDYD...   \n",
       "2  MTPEQIFSGQTAIVTGGASGIGAATVEHIARRGGRVFSVDLSYDSP...   \n",
       "3  MAMSRRKRGQLARGIQYAILVIVVVVLALLADWGKIGKAFFDWEAA...   \n",
       "4  MKRMVWRTLKVFIIFIACTLLFYFGLRFMHLEYEQFHRYEPPEGPA...   \n",
       "\n",
       "                                      m_protein_desc  \\\n",
       "0               ECF RNA polymerase sigma factor SigK   \n",
       "1            response regulator transcription factor   \n",
       "2                          SDR family oxidoreductase   \n",
       "3  ectoine/hydroxyectoine ABC transporter permeas...   \n",
       "4                                YqzK family protein   \n",
       "\n",
       "                                t_protein_desc  m_protein_len  t_protein_len  \n",
       "0  sigma-70 family RNA polymerase sigma factor            206            202  \n",
       "1      response regulator transcription factor            233            237  \n",
       "2                    SDR family oxidoreductase            287            252  \n",
       "3          amino acid ABC transporter permease            234            269  \n",
       "4                          YqzK family protein             80             66  \n",
       "\n",
       "[5 rows x 30 columns]"
      ]
     },
     "execution_count": 4,
     "metadata": {},
     "output_type": "execute_result"
    }
   ],
   "source": [
    "df_original.head()"
   ]
  },
  {
   "cell_type": "code",
   "execution_count": 5,
   "id": "084d9561",
   "metadata": {},
   "outputs": [],
   "source": [
    "#get rid of stuff that isn't quantitative\n",
    "\n",
    "df = df_original.drop(columns = ['Unnamed: 0','thermo_index', 'm_protein_seq', 't_protein_seq',\n",
    "                        'm_protein_desc', 't_protein_desc'])"
   ]
  },
  {
   "cell_type": "code",
   "execution_count": 6,
   "id": "eea27e6c",
   "metadata": {},
   "outputs": [
    {
     "data": {
      "text/html": [
       "<div>\n",
       "<style scoped>\n",
       "    .dataframe tbody tr th:only-of-type {\n",
       "        vertical-align: middle;\n",
       "    }\n",
       "\n",
       "    .dataframe tbody tr th {\n",
       "        vertical-align: top;\n",
       "    }\n",
       "\n",
       "    .dataframe thead th {\n",
       "        text-align: right;\n",
       "    }\n",
       "</style>\n",
       "<table border=\"1\" class=\"dataframe\">\n",
       "  <thead>\n",
       "    <tr style=\"text-align: right;\">\n",
       "      <th></th>\n",
       "      <th>local_gap_compressed_percent_id</th>\n",
       "      <th>scaled_local_query_percent_id</th>\n",
       "      <th>scaled_local_symmetric_percent_id</th>\n",
       "      <th>query_align_len</th>\n",
       "      <th>query_align_cov</th>\n",
       "      <th>subject_align_len</th>\n",
       "      <th>subject_align_cov</th>\n",
       "      <th>bit_score</th>\n",
       "      <th>meso_index</th>\n",
       "      <th>prot_pair_index</th>\n",
       "      <th>...</th>\n",
       "      <th>scaled_local_query_percent_id_16s</th>\n",
       "      <th>scaled_local_symmetric_percent_id_16s</th>\n",
       "      <th>query_align_cov_16s</th>\n",
       "      <th>subject_align_cov_16s</th>\n",
       "      <th>bit_score_16s</th>\n",
       "      <th>m_ogt</th>\n",
       "      <th>t_ogt</th>\n",
       "      <th>ogt_difference</th>\n",
       "      <th>m_protein_len</th>\n",
       "      <th>t_protein_len</th>\n",
       "    </tr>\n",
       "  </thead>\n",
       "  <tbody>\n",
       "    <tr>\n",
       "      <th>0</th>\n",
       "      <td>0.287582</td>\n",
       "      <td>0.217822</td>\n",
       "      <td>0.215686</td>\n",
       "      <td>160</td>\n",
       "      <td>0.792079</td>\n",
       "      <td>152</td>\n",
       "      <td>0.737864</td>\n",
       "      <td>131</td>\n",
       "      <td>12897</td>\n",
       "      <td>48641291</td>\n",
       "      <td>...</td>\n",
       "      <td>0.921620</td>\n",
       "      <td>0.926461</td>\n",
       "      <td>0.998040</td>\n",
       "      <td>0.998020</td>\n",
       "      <td>1153.0</td>\n",
       "      <td>27.5</td>\n",
       "      <td>50.0</td>\n",
       "      <td>22.5</td>\n",
       "      <td>206</td>\n",
       "      <td>202</td>\n",
       "    </tr>\n",
       "    <tr>\n",
       "      <th>1</th>\n",
       "      <td>0.319635</td>\n",
       "      <td>0.295359</td>\n",
       "      <td>0.297872</td>\n",
       "      <td>218</td>\n",
       "      <td>0.919831</td>\n",
       "      <td>226</td>\n",
       "      <td>0.969957</td>\n",
       "      <td>282</td>\n",
       "      <td>13026</td>\n",
       "      <td>92992745</td>\n",
       "      <td>...</td>\n",
       "      <td>0.900068</td>\n",
       "      <td>0.902522</td>\n",
       "      <td>1.000000</td>\n",
       "      <td>1.000000</td>\n",
       "      <td>1014.0</td>\n",
       "      <td>25.0</td>\n",
       "      <td>54.0</td>\n",
       "      <td>29.0</td>\n",
       "      <td>233</td>\n",
       "      <td>237</td>\n",
       "    </tr>\n",
       "    <tr>\n",
       "      <th>2</th>\n",
       "      <td>0.279621</td>\n",
       "      <td>0.234127</td>\n",
       "      <td>0.218924</td>\n",
       "      <td>211</td>\n",
       "      <td>0.837302</td>\n",
       "      <td>210</td>\n",
       "      <td>0.731707</td>\n",
       "      <td>96</td>\n",
       "      <td>8203</td>\n",
       "      <td>157628663</td>\n",
       "      <td>...</td>\n",
       "      <td>0.919007</td>\n",
       "      <td>0.923531</td>\n",
       "      <td>1.000000</td>\n",
       "      <td>1.000000</td>\n",
       "      <td>1138.0</td>\n",
       "      <td>28.0</td>\n",
       "      <td>50.0</td>\n",
       "      <td>22.0</td>\n",
       "      <td>287</td>\n",
       "      <td>252</td>\n",
       "    </tr>\n",
       "    <tr>\n",
       "      <th>3</th>\n",
       "      <td>0.327273</td>\n",
       "      <td>0.200743</td>\n",
       "      <td>0.214712</td>\n",
       "      <td>166</td>\n",
       "      <td>0.617100</td>\n",
       "      <td>163</td>\n",
       "      <td>0.696581</td>\n",
       "      <td>175</td>\n",
       "      <td>3340</td>\n",
       "      <td>136708305</td>\n",
       "      <td>...</td>\n",
       "      <td>0.908556</td>\n",
       "      <td>0.909745</td>\n",
       "      <td>0.996734</td>\n",
       "      <td>0.996726</td>\n",
       "      <td>1077.0</td>\n",
       "      <td>28.0</td>\n",
       "      <td>50.0</td>\n",
       "      <td>22.0</td>\n",
       "      <td>234</td>\n",
       "      <td>269</td>\n",
       "    </tr>\n",
       "    <tr>\n",
       "      <th>4</th>\n",
       "      <td>0.338710</td>\n",
       "      <td>0.318182</td>\n",
       "      <td>0.287671</td>\n",
       "      <td>60</td>\n",
       "      <td>0.909091</td>\n",
       "      <td>71</td>\n",
       "      <td>0.887500</td>\n",
       "      <td>61</td>\n",
       "      <td>14020</td>\n",
       "      <td>133672542</td>\n",
       "      <td>...</td>\n",
       "      <td>0.883142</td>\n",
       "      <td>0.887107</td>\n",
       "      <td>0.998084</td>\n",
       "      <td>0.998067</td>\n",
       "      <td>991.0</td>\n",
       "      <td>30.0</td>\n",
       "      <td>50.0</td>\n",
       "      <td>20.0</td>\n",
       "      <td>80</td>\n",
       "      <td>66</td>\n",
       "    </tr>\n",
       "  </tbody>\n",
       "</table>\n",
       "<p>5 rows × 24 columns</p>\n",
       "</div>"
      ],
      "text/plain": [
       "   local_gap_compressed_percent_id  scaled_local_query_percent_id  \\\n",
       "0                         0.287582                       0.217822   \n",
       "1                         0.319635                       0.295359   \n",
       "2                         0.279621                       0.234127   \n",
       "3                         0.327273                       0.200743   \n",
       "4                         0.338710                       0.318182   \n",
       "\n",
       "   scaled_local_symmetric_percent_id  query_align_len  query_align_cov  \\\n",
       "0                           0.215686              160         0.792079   \n",
       "1                           0.297872              218         0.919831   \n",
       "2                           0.218924              211         0.837302   \n",
       "3                           0.214712              166         0.617100   \n",
       "4                           0.287671               60         0.909091   \n",
       "\n",
       "   subject_align_len  subject_align_cov  bit_score  meso_index  \\\n",
       "0                152           0.737864        131       12897   \n",
       "1                226           0.969957        282       13026   \n",
       "2                210           0.731707         96        8203   \n",
       "3                163           0.696581        175        3340   \n",
       "4                 71           0.887500         61       14020   \n",
       "\n",
       "   prot_pair_index  ...  scaled_local_query_percent_id_16s  \\\n",
       "0         48641291  ...                           0.921620   \n",
       "1         92992745  ...                           0.900068   \n",
       "2        157628663  ...                           0.919007   \n",
       "3        136708305  ...                           0.908556   \n",
       "4        133672542  ...                           0.883142   \n",
       "\n",
       "   scaled_local_symmetric_percent_id_16s  query_align_cov_16s  \\\n",
       "0                               0.926461             0.998040   \n",
       "1                               0.902522             1.000000   \n",
       "2                               0.923531             1.000000   \n",
       "3                               0.909745             0.996734   \n",
       "4                               0.887107             0.998084   \n",
       "\n",
       "   subject_align_cov_16s  bit_score_16s  m_ogt  t_ogt  ogt_difference  \\\n",
       "0               0.998020         1153.0   27.5   50.0            22.5   \n",
       "1               1.000000         1014.0   25.0   54.0            29.0   \n",
       "2               1.000000         1138.0   28.0   50.0            22.0   \n",
       "3               0.996726         1077.0   28.0   50.0            22.0   \n",
       "4               0.998067          991.0   30.0   50.0            20.0   \n",
       "\n",
       "   m_protein_len  t_protein_len  \n",
       "0            206            202  \n",
       "1            233            237  \n",
       "2            287            252  \n",
       "3            234            269  \n",
       "4             80             66  \n",
       "\n",
       "[5 rows x 24 columns]"
      ]
     },
     "execution_count": 6,
     "metadata": {},
     "output_type": "execute_result"
    }
   ],
   "source": [
    "df.head()"
   ]
  },
  {
   "cell_type": "markdown",
   "id": "07cc3a80",
   "metadata": {},
   "source": [
    "from pairplot below, it looks like query_align_cov_16s and subject_align_cov_16s dont correlate with anything"
   ]
  },
  {
   "cell_type": "code",
   "execution_count": 7,
   "id": "36d8dadb",
   "metadata": {
    "scrolled": true
   },
   "outputs": [],
   "source": [
    "# sns.pairplot(df.sample(500),height = 4)\n",
    "\n",
    "#i dont see much higher-order correlation, so it's likely we can use linear regression"
   ]
  },
  {
   "cell_type": "code",
   "execution_count": 8,
   "id": "91079edd",
   "metadata": {},
   "outputs": [],
   "source": [
    "df = df.drop(columns = ['query_align_cov_16s', 'subject_align_cov_16s'])"
   ]
  },
  {
   "cell_type": "code",
   "execution_count": 9,
   "id": "7929625e",
   "metadata": {
    "scrolled": true
   },
   "outputs": [
    {
     "data": {
      "text/html": [
       "<div>\n",
       "<style scoped>\n",
       "    .dataframe tbody tr th:only-of-type {\n",
       "        vertical-align: middle;\n",
       "    }\n",
       "\n",
       "    .dataframe tbody tr th {\n",
       "        vertical-align: top;\n",
       "    }\n",
       "\n",
       "    .dataframe thead th {\n",
       "        text-align: right;\n",
       "    }\n",
       "</style>\n",
       "<table border=\"1\" class=\"dataframe\">\n",
       "  <thead>\n",
       "    <tr style=\"text-align: right;\">\n",
       "      <th></th>\n",
       "      <th>local_gap_compressed_percent_id</th>\n",
       "      <th>scaled_local_query_percent_id</th>\n",
       "      <th>scaled_local_symmetric_percent_id</th>\n",
       "      <th>query_align_len</th>\n",
       "      <th>query_align_cov</th>\n",
       "      <th>subject_align_len</th>\n",
       "      <th>subject_align_cov</th>\n",
       "      <th>bit_score</th>\n",
       "      <th>meso_index</th>\n",
       "      <th>prot_pair_index</th>\n",
       "      <th>...</th>\n",
       "      <th>taxa_pair_index</th>\n",
       "      <th>local_gap_compressed_percent_id_16s</th>\n",
       "      <th>scaled_local_query_percent_id_16s</th>\n",
       "      <th>scaled_local_symmetric_percent_id_16s</th>\n",
       "      <th>bit_score_16s</th>\n",
       "      <th>m_ogt</th>\n",
       "      <th>t_ogt</th>\n",
       "      <th>ogt_difference</th>\n",
       "      <th>m_protein_len</th>\n",
       "      <th>t_protein_len</th>\n",
       "    </tr>\n",
       "  </thead>\n",
       "  <tbody>\n",
       "    <tr>\n",
       "      <th>count</th>\n",
       "      <td>50000.000000</td>\n",
       "      <td>50000.000000</td>\n",
       "      <td>50000.000000</td>\n",
       "      <td>50000.000000</td>\n",
       "      <td>50000.000000</td>\n",
       "      <td>50000.000000</td>\n",
       "      <td>50000.000000</td>\n",
       "      <td>50000.00000</td>\n",
       "      <td>50000.000000</td>\n",
       "      <td>5.000000e+04</td>\n",
       "      <td>...</td>\n",
       "      <td>50000.000000</td>\n",
       "      <td>50000.000000</td>\n",
       "      <td>50000.000000</td>\n",
       "      <td>50000.000000</td>\n",
       "      <td>50000.000000</td>\n",
       "      <td>50000.000000</td>\n",
       "      <td>50000.000000</td>\n",
       "      <td>50000.000000</td>\n",
       "      <td>50000.000000</td>\n",
       "      <td>50000.000000</td>\n",
       "    </tr>\n",
       "    <tr>\n",
       "      <th>mean</th>\n",
       "      <td>0.349026</td>\n",
       "      <td>0.276478</td>\n",
       "      <td>0.270792</td>\n",
       "      <td>206.011660</td>\n",
       "      <td>0.791507</td>\n",
       "      <td>205.414920</td>\n",
       "      <td>0.770875</td>\n",
       "      <td>230.63206</td>\n",
       "      <td>8098.858120</td>\n",
       "      <td>9.105934e+07</td>\n",
       "      <td>...</td>\n",
       "      <td>362827.905140</td>\n",
       "      <td>0.906828</td>\n",
       "      <td>0.903266</td>\n",
       "      <td>0.904959</td>\n",
       "      <td>1061.404480</td>\n",
       "      <td>27.348365</td>\n",
       "      <td>51.505410</td>\n",
       "      <td>24.157045</td>\n",
       "      <td>269.985200</td>\n",
       "      <td>261.367700</td>\n",
       "    </tr>\n",
       "    <tr>\n",
       "      <th>std</th>\n",
       "      <td>0.096608</td>\n",
       "      <td>0.114404</td>\n",
       "      <td>0.116039</td>\n",
       "      <td>64.260901</td>\n",
       "      <td>0.144893</td>\n",
       "      <td>64.430548</td>\n",
       "      <td>0.179955</td>\n",
       "      <td>186.44859</td>\n",
       "      <td>4608.982941</td>\n",
       "      <td>5.233883e+07</td>\n",
       "      <td>...</td>\n",
       "      <td>229264.926253</td>\n",
       "      <td>0.015240</td>\n",
       "      <td>0.015626</td>\n",
       "      <td>0.015300</td>\n",
       "      <td>75.659661</td>\n",
       "      <td>3.737201</td>\n",
       "      <td>3.816972</td>\n",
       "      <td>3.586797</td>\n",
       "      <td>65.935753</td>\n",
       "      <td>69.675548</td>\n",
       "    </tr>\n",
       "    <tr>\n",
       "      <th>min</th>\n",
       "      <td>0.164103</td>\n",
       "      <td>0.081301</td>\n",
       "      <td>0.045977</td>\n",
       "      <td>19.000000</td>\n",
       "      <td>0.284553</td>\n",
       "      <td>19.000000</td>\n",
       "      <td>0.082019</td>\n",
       "      <td>35.00000</td>\n",
       "      <td>5.000000</td>\n",
       "      <td>1.219000e+03</td>\n",
       "      <td>...</td>\n",
       "      <td>4885.000000</td>\n",
       "      <td>0.876590</td>\n",
       "      <td>0.836055</td>\n",
       "      <td>0.880026</td>\n",
       "      <td>891.000000</td>\n",
       "      <td>7.000000</td>\n",
       "      <td>41.000000</td>\n",
       "      <td>20.000000</td>\n",
       "      <td>30.000000</td>\n",
       "      <td>27.000000</td>\n",
       "    </tr>\n",
       "    <tr>\n",
       "      <th>25%</th>\n",
       "      <td>0.293750</td>\n",
       "      <td>0.204545</td>\n",
       "      <td>0.202020</td>\n",
       "      <td>172.000000</td>\n",
       "      <td>0.673288</td>\n",
       "      <td>172.000000</td>\n",
       "      <td>0.656854</td>\n",
       "      <td>118.00000</td>\n",
       "      <td>4121.000000</td>\n",
       "      <td>4.645832e+07</td>\n",
       "      <td>...</td>\n",
       "      <td>173976.750000</td>\n",
       "      <td>0.895995</td>\n",
       "      <td>0.893020</td>\n",
       "      <td>0.893531</td>\n",
       "      <td>1009.000000</td>\n",
       "      <td>27.000000</td>\n",
       "      <td>50.000000</td>\n",
       "      <td>22.000000</td>\n",
       "      <td>233.000000</td>\n",
       "      <td>226.000000</td>\n",
       "    </tr>\n",
       "    <tr>\n",
       "      <th>50%</th>\n",
       "      <td>0.325000</td>\n",
       "      <td>0.250000</td>\n",
       "      <td>0.244648</td>\n",
       "      <td>210.000000</td>\n",
       "      <td>0.811321</td>\n",
       "      <td>209.000000</td>\n",
       "      <td>0.806584</td>\n",
       "      <td>186.00000</td>\n",
       "      <td>8046.000000</td>\n",
       "      <td>9.160212e+07</td>\n",
       "      <td>...</td>\n",
       "      <td>312362.000000</td>\n",
       "      <td>0.905983</td>\n",
       "      <td>0.902326</td>\n",
       "      <td>0.903543</td>\n",
       "      <td>1056.000000</td>\n",
       "      <td>28.000000</td>\n",
       "      <td>52.500000</td>\n",
       "      <td>24.500000</td>\n",
       "      <td>267.000000</td>\n",
       "      <td>260.000000</td>\n",
       "    </tr>\n",
       "    <tr>\n",
       "      <th>75%</th>\n",
       "      <td>0.367257</td>\n",
       "      <td>0.308300</td>\n",
       "      <td>0.301639</td>\n",
       "      <td>240.000000</td>\n",
       "      <td>0.923077</td>\n",
       "      <td>240.000000</td>\n",
       "      <td>0.923077</td>\n",
       "      <td>267.00000</td>\n",
       "      <td>12103.000000</td>\n",
       "      <td>1.360713e+08</td>\n",
       "      <td>...</td>\n",
       "      <td>617814.000000</td>\n",
       "      <td>0.916172</td>\n",
       "      <td>0.912576</td>\n",
       "      <td>0.914698</td>\n",
       "      <td>1108.000000</td>\n",
       "      <td>29.000000</td>\n",
       "      <td>52.500000</td>\n",
       "      <td>24.500000</td>\n",
       "      <td>317.000000</td>\n",
       "      <td>311.000000</td>\n",
       "    </tr>\n",
       "    <tr>\n",
       "      <th>max</th>\n",
       "      <td>0.985075</td>\n",
       "      <td>0.985075</td>\n",
       "      <td>0.985075</td>\n",
       "      <td>400.000000</td>\n",
       "      <td>1.000000</td>\n",
       "      <td>399.000000</td>\n",
       "      <td>1.000000</td>\n",
       "      <td>1788.00000</td>\n",
       "      <td>16564.000000</td>\n",
       "      <td>1.814866e+08</td>\n",
       "      <td>...</td>\n",
       "      <td>744518.000000</td>\n",
       "      <td>0.999351</td>\n",
       "      <td>0.993544</td>\n",
       "      <td>0.996439</td>\n",
       "      <td>1679.000000</td>\n",
       "      <td>40.000000</td>\n",
       "      <td>78.000000</td>\n",
       "      <td>56.000000</td>\n",
       "      <td>400.000000</td>\n",
       "      <td>400.000000</td>\n",
       "    </tr>\n",
       "  </tbody>\n",
       "</table>\n",
       "<p>8 rows × 22 columns</p>\n",
       "</div>"
      ],
      "text/plain": [
       "       local_gap_compressed_percent_id  scaled_local_query_percent_id  \\\n",
       "count                     50000.000000                   50000.000000   \n",
       "mean                          0.349026                       0.276478   \n",
       "std                           0.096608                       0.114404   \n",
       "min                           0.164103                       0.081301   \n",
       "25%                           0.293750                       0.204545   \n",
       "50%                           0.325000                       0.250000   \n",
       "75%                           0.367257                       0.308300   \n",
       "max                           0.985075                       0.985075   \n",
       "\n",
       "       scaled_local_symmetric_percent_id  query_align_len  query_align_cov  \\\n",
       "count                       50000.000000     50000.000000     50000.000000   \n",
       "mean                            0.270792       206.011660         0.791507   \n",
       "std                             0.116039        64.260901         0.144893   \n",
       "min                             0.045977        19.000000         0.284553   \n",
       "25%                             0.202020       172.000000         0.673288   \n",
       "50%                             0.244648       210.000000         0.811321   \n",
       "75%                             0.301639       240.000000         0.923077   \n",
       "max                             0.985075       400.000000         1.000000   \n",
       "\n",
       "       subject_align_len  subject_align_cov    bit_score    meso_index  \\\n",
       "count       50000.000000       50000.000000  50000.00000  50000.000000   \n",
       "mean          205.414920           0.770875    230.63206   8098.858120   \n",
       "std            64.430548           0.179955    186.44859   4608.982941   \n",
       "min            19.000000           0.082019     35.00000      5.000000   \n",
       "25%           172.000000           0.656854    118.00000   4121.000000   \n",
       "50%           209.000000           0.806584    186.00000   8046.000000   \n",
       "75%           240.000000           0.923077    267.00000  12103.000000   \n",
       "max           399.000000           1.000000   1788.00000  16564.000000   \n",
       "\n",
       "       prot_pair_index  ...  taxa_pair_index  \\\n",
       "count     5.000000e+04  ...     50000.000000   \n",
       "mean      9.105934e+07  ...    362827.905140   \n",
       "std       5.233883e+07  ...    229264.926253   \n",
       "min       1.219000e+03  ...      4885.000000   \n",
       "25%       4.645832e+07  ...    173976.750000   \n",
       "50%       9.160212e+07  ...    312362.000000   \n",
       "75%       1.360713e+08  ...    617814.000000   \n",
       "max       1.814866e+08  ...    744518.000000   \n",
       "\n",
       "       local_gap_compressed_percent_id_16s  scaled_local_query_percent_id_16s  \\\n",
       "count                         50000.000000                       50000.000000   \n",
       "mean                              0.906828                           0.903266   \n",
       "std                               0.015240                           0.015626   \n",
       "min                               0.876590                           0.836055   \n",
       "25%                               0.895995                           0.893020   \n",
       "50%                               0.905983                           0.902326   \n",
       "75%                               0.916172                           0.912576   \n",
       "max                               0.999351                           0.993544   \n",
       "\n",
       "       scaled_local_symmetric_percent_id_16s  bit_score_16s         m_ogt  \\\n",
       "count                           50000.000000   50000.000000  50000.000000   \n",
       "mean                                0.904959    1061.404480     27.348365   \n",
       "std                                 0.015300      75.659661      3.737201   \n",
       "min                                 0.880026     891.000000      7.000000   \n",
       "25%                                 0.893531    1009.000000     27.000000   \n",
       "50%                                 0.903543    1056.000000     28.000000   \n",
       "75%                                 0.914698    1108.000000     29.000000   \n",
       "max                                 0.996439    1679.000000     40.000000   \n",
       "\n",
       "              t_ogt  ogt_difference  m_protein_len  t_protein_len  \n",
       "count  50000.000000    50000.000000   50000.000000   50000.000000  \n",
       "mean      51.505410       24.157045     269.985200     261.367700  \n",
       "std        3.816972        3.586797      65.935753      69.675548  \n",
       "min       41.000000       20.000000      30.000000      27.000000  \n",
       "25%       50.000000       22.000000     233.000000     226.000000  \n",
       "50%       52.500000       24.500000     267.000000     260.000000  \n",
       "75%       52.500000       24.500000     317.000000     311.000000  \n",
       "max       78.000000       56.000000     400.000000     400.000000  \n",
       "\n",
       "[8 rows x 22 columns]"
      ]
     },
     "execution_count": 9,
     "metadata": {},
     "output_type": "execute_result"
    }
   ],
   "source": [
    "df.describe()"
   ]
  },
  {
   "cell_type": "code",
   "execution_count": 10,
   "id": "88847cb0",
   "metadata": {
    "scrolled": true
   },
   "outputs": [
    {
     "data": {
      "text/plain": [
       "Text(0, 0.5, 'Count')"
      ]
     },
     "execution_count": 10,
     "metadata": {},
     "output_type": "execute_result"
    },
    {
     "data": {
      "image/png": "[encoded data removed]",
      "text/plain": [
       "<Figure size 432x288 with 1 Axes>"
      ]
     },
     "metadata": {
      "needs_background": "light"
     },
     "output_type": "display_data"
    }
   ],
   "source": [
    "#plot empirical distribution of scaled_local_query_percent_id\n",
    "\n",
    "target = df['bit_score']\n",
    "#create histplot\n",
    "fig, ax = plt.subplots()\n",
    "\n",
    "sns.histplot(data = df, x = target)\n",
    "\n",
    "ax.set_title('Sample Histogram', fontsize=16)\n",
    "ax.set_xlabel('Bit Score', fontsize=14)\n",
    "ax.set_ylabel('Count', fontsize=14)"
   ]
  },
  {
   "cell_type": "code",
   "execution_count": 11,
   "id": "1ae01ea9",
   "metadata": {
    "scrolled": true
   },
   "outputs": [
    {
     "name": "stdout",
     "output_type": "stream",
     "text": [
      "The mean is: 230.63206 and the standard deviation is: 186.4485895406217.\n",
      "The minimum bit score is: 35 and the maximum bit score is: 1788.\n"
     ]
    }
   ],
   "source": [
    "print('The mean is: {} and the standard deviation is: {}.'.format(target.mean(),target.std())) \n",
    "\n",
    "print('The minimum bit score is: {} and the maximum bit score is: {}.'.format(target.min(),target.max()))"
   ]
  },
  {
   "cell_type": "markdown",
   "id": "90871d01",
   "metadata": {},
   "source": [
    "1) Split dev and test data:"
   ]
  },
  {
   "cell_type": "code",
   "execution_count": 12,
   "id": "f82b3eb7",
   "metadata": {},
   "outputs": [
    {
     "name": "stderr",
     "output_type": "stream",
     "text": [
      "<ipython-input-12-b8ac4588c83c>:3: FutureWarning: The default value of numeric_only in DataFrame.corr is deprecated. In a future version, it will default to False. Select only valid columns or specify the value of numeric_only to silence this warning.\n",
      "  pearson_corr = df_original.corr(method = 'pearson')['bit_score']\n"
     ]
    },
    {
     "data": {
      "text/plain": [
       "Unnamed: 0                                True\n",
       "local_gap_compressed_percent_id          False\n",
       "scaled_local_query_percent_id            False\n",
       "scaled_local_symmetric_percent_id        False\n",
       "query_align_len                          False\n",
       "query_align_cov                          False\n",
       "subject_align_len                        False\n",
       "subject_align_cov                        False\n",
       "bit_score                                False\n",
       "thermo_index                              True\n",
       "meso_index                                True\n",
       "prot_pair_index                           True\n",
       "meso_protein_int_index                    True\n",
       "thermo_protein_int_index                  True\n",
       "taxa_pair_index                           True\n",
       "local_gap_compressed_percent_id_16s       True\n",
       "scaled_local_query_percent_id_16s         True\n",
       "scaled_local_symmetric_percent_id_16s     True\n",
       "query_align_cov_16s                       True\n",
       "subject_align_cov_16s                     True\n",
       "bit_score_16s                             True\n",
       "m_ogt                                     True\n",
       "t_ogt                                     True\n",
       "ogt_difference                            True\n",
       "m_protein_len                            False\n",
       "t_protein_len                            False\n",
       "Name: bit_score, dtype: bool"
      ]
     },
     "execution_count": 12,
     "metadata": {},
     "output_type": "execute_result"
    }
   ],
   "source": [
    "#see if there is a linear correlation between feature and target\n",
    "\n",
    "pearson_corr = df_original.corr(method = 'pearson')['bit_score']\n",
    "\n",
    "pearson_corr.abs() < 0.1"
   ]
  },
  {
   "cell_type": "code",
   "execution_count": 13,
   "id": "1c4c47a9",
   "metadata": {},
   "outputs": [],
   "source": [
    "#lets remove some stuff with low pearson correlation. We're gonna keep meso and thermo ogt for now <-- NVM\n",
    "\n",
    "df = df.drop(columns = ['meso_index', 'meso_protein_int_index', 'local_gap_compressed_percent_id_16s', \n",
    "                        'scaled_local_query_percent_id_16s', 'scaled_local_symmetric_percent_id_16s',\n",
    "                       'bit_score_16s', 'm_ogt', 't_ogt', 'taxa_pair_index', 'thermo_protein_int_index'\n",
    "                       , 'prot_pair_index', 'ogt_difference'])"
   ]
  },
  {
   "cell_type": "code",
   "execution_count": 44,
   "id": "af9f23cf",
   "metadata": {
    "scrolled": true
   },
   "outputs": [
    {
     "name": "stdout",
     "output_type": "stream",
     "text": [
      "(42500, 10)\n",
      "(7500, 10)\n",
      "(36125, 10)\n",
      "(6375, 10)\n"
     ]
    }
   ],
   "source": [
    "#choosing 80/20 split instead of 85/15 because of volume of data\n",
    "\n",
    "dev, test = sklearn.model_selection.train_test_split(df, test_size=0.15, random_state=1)\n",
    "\n",
    "#might want to name the above split train/val, since we don't really have \"test data\" yet\n",
    "train, val = sklearn.model_selection.train_test_split(dev, test_size=0.15, random_state=1)\n",
    "\n",
    "print(dev.shape)\n",
    "print(test.shape)\n",
    "print(train.shape)\n",
    "print(val.shape)"
   ]
  },
  {
   "cell_type": "code",
   "execution_count": 36,
   "id": "8470550d",
   "metadata": {
    "scrolled": false
   },
   "outputs": [
    {
     "data": {
      "text/plain": [
       "['local_gap_compressed_percent_id',\n",
       " 'scaled_local_query_percent_id',\n",
       " 'scaled_local_symmetric_percent_id',\n",
       " 'query_align_len',\n",
       " 'query_align_cov',\n",
       " 'subject_align_len',\n",
       " 'subject_align_cov',\n",
       " 'm_protein_len',\n",
       " 't_protein_len']"
      ]
     },
     "execution_count": 36,
     "metadata": {},
     "output_type": "execute_result"
    }
   ],
   "source": [
    "input_features = [columns for columns in df]\n",
    "input_features.remove('bit_score')\n",
    "input_features"
   ]
  },
  {
   "cell_type": "code",
   "execution_count": 37,
   "id": "6ec295ed",
   "metadata": {},
   "outputs": [],
   "source": [
    "target_feature = 'bit_score'"
   ]
  },
  {
   "cell_type": "code",
   "execution_count": 38,
   "id": "1ab62bff",
   "metadata": {
    "scrolled": true
   },
   "outputs": [
    {
     "name": "stdout",
     "output_type": "stream",
     "text": [
      "(42500, 9) (7500, 9) (42500, 1) (7500, 1)\n"
     ]
    }
   ],
   "source": [
    "#predicting values \n",
    "\n",
    "dev_X = dev[input_features].values\n",
    "test_X = test[input_features].values\n",
    "\n",
    "dev_y = dev[target_feature].values.reshape(-1,1)\n",
    "test_y = test[target_feature].values.reshape(-1,1)  \n",
    "\n",
    "print(dev_X.shape, test_X.shape, dev_y.shape, test_y.shape)"
   ]
  },
  {
   "cell_type": "markdown",
   "id": "c374f2d7",
   "metadata": {},
   "source": [
    "2) Scale the data"
   ]
  },
  {
   "cell_type": "code",
   "execution_count": 39,
   "id": "2b48b2e5",
   "metadata": {},
   "outputs": [],
   "source": [
    "scaler = sklearn.preprocessing.StandardScaler()\n",
    "dev_X = scaler.fit_transform(dev_X)\n",
    "test_X = scaler.fit_transform(test_X)"
   ]
  },
  {
   "cell_type": "markdown",
   "id": "03d6ed6d",
   "metadata": {},
   "source": [
    "3) Regularize the data -L1 or L2? Read online"
   ]
  },
  {
   "cell_type": "code",
   "execution_count": null,
   "id": "10d43028",
   "metadata": {},
   "outputs": [],
   "source": []
  },
  {
   "cell_type": "markdown",
   "id": "c3022371",
   "metadata": {},
   "source": [
    "4. Train the model"
   ]
  },
  {
   "cell_type": "code",
   "execution_count": 40,
   "id": "be4e09b0",
   "metadata": {},
   "outputs": [
    {
     "data": {
      "text/html": [
       "<style>#sk-container-id-2 {color: black;background-color: white;}#sk-container-id-2 pre{padding: 0;}#sk-container-id-2 div.sk-toggleable {background-color: white;}#sk-container-id-2 label.sk-toggleable__label {cursor: pointer;display: block;width: 100%;margin-bottom: 0;padding: 0.3em;box-sizing: border-box;text-align: center;}#sk-container-id-2 label.sk-toggleable__label-arrow:before {content: \"▸\";float: left;margin-right: 0.25em;color: #696969;}#sk-container-id-2 label.sk-toggleable__label-arrow:hover:before {color: black;}#sk-container-id-2 div.sk-estimator:hover label.sk-toggleable__label-arrow:before {color: black;}#sk-container-id-2 div.sk-toggleable__content {max-height: 0;max-width: 0;overflow: hidden;text-align: left;background-color: #f0f8ff;}#sk-container-id-2 div.sk-toggleable__content pre {margin: 0.2em;color: black;border-radius: 0.25em;background-color: #f0f8ff;}#sk-container-id-2 input.sk-toggleable__control:checked~div.sk-toggleable__content {max-height: 200px;max-width: 100%;overflow: auto;}#sk-container-id-2 input.sk-toggleable__control:checked~label.sk-toggleable__label-arrow:before {content: \"▾\";}#sk-container-id-2 div.sk-estimator input.sk-toggleable__control:checked~label.sk-toggleable__label {background-color: #d4ebff;}#sk-container-id-2 div.sk-label input.sk-toggleable__control:checked~label.sk-toggleable__label {background-color: #d4ebff;}#sk-container-id-2 input.sk-hidden--visually {border: 0;clip: rect(1px 1px 1px 1px);clip: rect(1px, 1px, 1px, 1px);height: 1px;margin: -1px;overflow: hidden;padding: 0;position: absolute;width: 1px;}#sk-container-id-2 div.sk-estimator {font-family: monospace;background-color: #f0f8ff;border: 1px dotted black;border-radius: 0.25em;box-sizing: border-box;margin-bottom: 0.5em;}#sk-container-id-2 div.sk-estimator:hover {background-color: #d4ebff;}#sk-container-id-2 div.sk-parallel-item::after {content: \"\";width: 100%;border-bottom: 1px solid gray;flex-grow: 1;}#sk-container-id-2 div.sk-label:hover label.sk-toggleable__label {background-color: #d4ebff;}#sk-container-id-2 div.sk-serial::before {content: \"\";position: absolute;border-left: 1px solid gray;box-sizing: border-box;top: 0;bottom: 0;left: 50%;z-index: 0;}#sk-container-id-2 div.sk-serial {display: flex;flex-direction: column;align-items: center;background-color: white;padding-right: 0.2em;padding-left: 0.2em;position: relative;}#sk-container-id-2 div.sk-item {position: relative;z-index: 1;}#sk-container-id-2 div.sk-parallel {display: flex;align-items: stretch;justify-content: center;background-color: white;position: relative;}#sk-container-id-2 div.sk-item::before, #sk-container-id-2 div.sk-parallel-item::before {content: \"\";position: absolute;border-left: 1px solid gray;box-sizing: border-box;top: 0;bottom: 0;left: 50%;z-index: -1;}#sk-container-id-2 div.sk-parallel-item {display: flex;flex-direction: column;z-index: 1;position: relative;background-color: white;}#sk-container-id-2 div.sk-parallel-item:first-child::after {align-self: flex-end;width: 50%;}#sk-container-id-2 div.sk-parallel-item:last-child::after {align-self: flex-start;width: 50%;}#sk-container-id-2 div.sk-parallel-item:only-child::after {width: 0;}#sk-container-id-2 div.sk-dashed-wrapped {border: 1px dashed gray;margin: 0 0.4em 0.5em 0.4em;box-sizing: border-box;padding-bottom: 0.4em;background-color: white;}#sk-container-id-2 div.sk-label label {font-family: monospace;font-weight: bold;display: inline-block;line-height: 1.2em;}#sk-container-id-2 div.sk-label-container {text-align: center;}#sk-container-id-2 div.sk-container {/* jupyter's `normalize.less` sets `[hidden] { display: none; }` but bootstrap.min.css set `[hidden] { display: none !important; }` so we also need the `!important` here to be able to override the default hidden behavior on the sphinx rendered scikit-learn.org. See: https://github.com/scikit-learn/scikit-learn/issues/21755 */display: inline-block !important;position: relative;}#sk-container-id-2 div.sk-text-repr-fallback {display: none;}</style><div id=\"sk-container-id-2\" class=\"sk-top-container\"><div class=\"sk-text-repr-fallback\"><pre>KNeighborsRegressor(n_neighbors=10)</pre><b>In a Jupyter environment, please rerun this cell to show the HTML representation or trust the notebook. <br />On GitHub, the HTML representation is unable to render, please try loading this page with nbviewer.org.</b></div><div class=\"sk-container\" hidden><div class=\"sk-item\"><div class=\"sk-estimator sk-toggleable\"><input class=\"sk-toggleable__control sk-hidden--visually\" id=\"sk-estimator-id-2\" type=\"checkbox\" checked><label for=\"sk-estimator-id-2\" class=\"sk-toggleable__label sk-toggleable__label-arrow\">KNeighborsRegressor</label><div class=\"sk-toggleable__content\"><pre>KNeighborsRegressor(n_neighbors=10)</pre></div></div></div></div></div>"
      ],
      "text/plain": [
       "KNeighborsRegressor(n_neighbors=10)"
      ]
     },
     "execution_count": 40,
     "metadata": {},
     "output_type": "execute_result"
    }
   ],
   "source": [
    "#KNN gives a better fit\n",
    "\n",
    "model = sklearn.neighbors.KNeighborsRegressor(n_neighbors=10)\n",
    "model.fit(dev_X, dev_y)"
   ]
  },
  {
   "cell_type": "markdown",
   "id": "69ebf269",
   "metadata": {},
   "source": [
    "5. Test the model, report MSE and MAE"
   ]
  },
  {
   "cell_type": "code",
   "execution_count": 41,
   "id": "c73327e9",
   "metadata": {
    "scrolled": true
   },
   "outputs": [
    {
     "name": "stdout",
     "output_type": "stream",
     "text": [
      "R2 score is: 0.9419240911144752\n"
     ]
    },
    {
     "data": {
      "text/plain": [
       "array([[187.4],\n",
       "       [233.3],\n",
       "       [220.3],\n",
       "       [121.2],\n",
       "       [148. ],\n",
       "       [156.6],\n",
       "       [412.1],\n",
       "       [ 73.2],\n",
       "       [228.3],\n",
       "       [313.2]])"
      ]
     },
     "execution_count": 41,
     "metadata": {},
     "output_type": "execute_result"
    }
   ],
   "source": [
    "R2 = model.score(test_X, test_y)\n",
    "print('R2 score is: {}'.format(R2))\n",
    "\n",
    "preds = model.predict(test_X)\n",
    "preds[0:10]"
   ]
  },
  {
   "cell_type": "code",
   "execution_count": 42,
   "id": "4e9dce62",
   "metadata": {},
   "outputs": [
    {
     "name": "stdout",
     "output_type": "stream",
     "text": [
      "y = 0.932x + 16.911\n",
      "R2 = 0.9419\n"
     ]
    },
    {
     "data": {
      "image/png": "[encoded data removed]",
      "text/plain": [
       "<Figure size 432x288 with 1 Axes>"
      ]
     },
     "metadata": {
      "needs_background": "light"
     },
     "output_type": "display_data"
    }
   ],
   "source": [
    "# make a plot to show the fit\n",
    "fig, ax = plt.subplots()\n",
    "\n",
    "# plot the actual vs. predicted values\n",
    "ax.scatter(test_y, preds, c='magenta',s=1, label='Parity Plot')\n",
    "plt.xlabel(\"Actual Values\", fontsize=12)\n",
    "plt.ylabel(\"Predicted Values\", fontsize=12)\n",
    "plt.title('Parity Plot - Bit Score', fontsize=15)\n",
    "\n",
    "#plot line of best fit\n",
    "slope, intercept = np.polyfit(np.ravel(test_y), preds, 1)\n",
    "plt.plot(np.ravel(test_y), slope*np.ravel(test_y) + intercept, c='black', lw=1)\n",
    "print('y = {}x + {}'.format(round(float(slope),4), round(float(intercept),4)))\n",
    "print('R2 = {}'.format(round(R2,4)))\n",
    "\n",
    "#add mean squared error "
   ]
  },
  {
   "cell_type": "code",
   "execution_count": 43,
   "id": "2626915b",
   "metadata": {
    "scrolled": true
   },
   "outputs": [
    {
     "name": "stdout",
     "output_type": "stream",
     "text": [
      "The MAE is : 34.4435 and the MSE is: 44.9996\n",
      "The mean bit score is: 230.63206 and the standard deviation is: 186.4485895406217.\n",
      "The relative std. deviation is: 0.8084.\n"
     ]
    }
   ],
   "source": [
    "mae = sklearn.metrics.mean_absolute_error(test_y, preds)\n",
    "rmse = sklearn.metrics.mean_squared_error(test_y, preds, squared=False)\n",
    "relative_std = (scipy.stats.variation(target, axis=0))\n",
    "\n",
    "print(\"The MAE is : {} and the MSE is: {}\".format(round(mae,4), round(rmse,4)))\n",
    "\n",
    "print(\"The mean bit score is: {} and the standard deviation is: {}.\".format(target.mean(),target.std())) \n",
    "\n",
    "print(\"The relative std. deviation is: {}.\".format(round(relative_std, 4)))"
   ]
  },
  {
   "cell_type": "markdown",
   "id": "fc1343f0",
   "metadata": {},
   "source": [
    "Make stuff from above into functions."
   ]
  },
  {
   "cell_type": "markdown",
   "id": "d8cac0ed",
   "metadata": {},
   "source": [
    "Make wrapper function below: takes parameters, a training dataframe, and test data. It returns the classification for the input data.\n",
    "\n",
    "Note: 'Test set' code below should be renamed to 'validation set'. Should have interactive way to pass through test data."
   ]
  },
  {
   "cell_type": "code",
   "execution_count": 34,
   "id": "c9667488",
   "metadata": {},
   "outputs": [],
   "source": [
    "def kNN_wrapper(dataframe):\n",
    "    \"\"\"\n",
    "    Takes dataframe and runs it through kNN model.\n",
    "    \n",
    "    Params\n",
    "    ----------\n",
    "    dataframe: Pandas dataframe \n",
    "\n",
    "    Returns\n",
    "    -------\n",
    "    -Pearson correlation\n",
    "    -Target feature predictions\n",
    "    -Parity plot\n",
    "    \n",
    "    \"\"\"\n",
    "\n",
    "    #user inputs target feature\n",
    "    target = input(\"Type target: \")\n",
    "    \n",
    "    #define input features\n",
    "    input_features = [columns for columns in df]\n",
    "    \n",
    "    input_features = input_features.remove(target)\n",
    "\n",
    "    #train the model based off data split\n",
    "    p_corr, model, test_X, test_y = train_reg(split_data(df)[0], split_data(df)[1], columns = input_features, \n",
    "                                          target=target)\n",
    "    \n",
    "    #test the model and return predictions\n",
    "    preds = test_reg(model, test_X, test_y)\n",
    "    \n",
    "    #plot the results of the model\n",
    "    plot_regression(model, test_X, test_y)\n",
    "    \n",
    "    return p_corr, preds"
   ]
  },
  {
   "cell_type": "code",
   "execution_count": 23,
   "id": "75c69940",
   "metadata": {},
   "outputs": [],
   "source": [
    "def split_data(dataframe):\n",
    "    \"\"\"\n",
    "    Takesdataframe and splits it into dev and test sets.\n",
    "    \n",
    "    Params\n",
    "    ----------\n",
    "    dataframe: Pandas dataframe \n",
    "\n",
    "    Returns\n",
    "    -------\n",
    "    -Dev and test data\n",
    "    \n",
    "    \"\"\"\n",
    "    \n",
    "    #test input data type\n",
    "    if \"pandas.core.frame.DataFrame\" not in str(type(dataframe)):\n",
    "        raise ValueError(\"Wrong input type!\")\n",
    "    else:\n",
    "        pass\n",
    "    \n",
    "    #split data\n",
    "    dev, test = sklearn.model_selection.train_test_split(dataframe, test_size=0.15, random_state=1)\n",
    "    \n",
    "    return dev, test"
   ]
  },
  {
   "cell_type": "code",
   "execution_count": 24,
   "id": "b6d36083",
   "metadata": {},
   "outputs": [
    {
     "name": "stderr",
     "output_type": "stream",
     "text": [
      "..\n",
      "----------------------------------------------------------------------\n",
      "Ran 2 tests in 0.009s\n",
      "\n",
      "OK\n"
     ]
    }
   ],
   "source": [
    "class TestDataSplit(unittest.TestCase):\n",
    "    \n",
    "    def test_data_split_input(self):\n",
    "    \n",
    "        #test that input data type is correct\n",
    "        \n",
    "        try:\n",
    "            split_data([1,2,3])\n",
    "            self.assertTrue(False)\n",
    "        except ValueError:\n",
    "            self.assertTrue(True)\n",
    "    \n",
    "    def test_data_split_output(self):\n",
    "    \n",
    "        #test that output data type is correct\n",
    "        \n",
    "        if \"tuple\" in str(type(split_data(df))):\n",
    "            self.assertTrue(True)\n",
    "        else:\n",
    "            self.assertTrue(False)\n",
    "\n",
    "            \n",
    "#why only running one test?\n",
    "suite = unittest.TestLoader().loadTestsFromTestCase(TestDataSplit)\n",
    "_ = unittest.TextTestRunner().run(suite)"
   ]
  },
  {
   "cell_type": "code",
   "execution_count": 25,
   "id": "bf1d563c",
   "metadata": {},
   "outputs": [],
   "source": [
    "def train_reg(dev, test, columns = [],  target = []):\n",
    "    \"\"\"\n",
    "    Takes dev and test dataframes and trains a standard Linear Regression model with selected data.\n",
    "    \n",
    "    Params\n",
    "    ----------\n",
    "    dev, test: Pandas dataframe previously split\n",
    "    columns: list of strings, representing input features\n",
    "    target: list of strings, representing target feature(s)\n",
    "\n",
    "    Returns\n",
    "    -------\n",
    "    -Pearson correlation between each input and the output feature\n",
    "    -Linear regression model\n",
    "    -input test data vector (numpy array)\n",
    "    -feature test vector (numpy array)\n",
    "    \"\"\"\n",
    "    \n",
    "    #test input arguments\n",
    "    assert \"pandas.core.frame.DataFrame\" in str(type(dev))\n",
    "    assert \"pandas.core.frame.DataFrame\" in str(type(test))\n",
    "    assert \"str\" in str(type(columns[0]))\n",
    "    assert \"str\" in str(type(target[0]))\n",
    "    assert columns[0] in dev\n",
    "    assert target in test\n",
    "   \n",
    "    #split into input and output feature(s)\n",
    "    dev_X = dev[columns].values\n",
    "    test_X = test[columns].values\n",
    "\n",
    "    dev_y = dev[target].values.reshape(-1,1)\n",
    "    test_y = test[target].values.reshape(-1,1)\n",
    "    \n",
    "    #return pearson correlation for linear correlation\n",
    "    pearson_corr = dev.corr(method = 'pearson')[target]\n",
    "    \n",
    "    #scale data\n",
    "    scaler = sklearn.preprocessing.StandardScaler()\n",
    "    dev_X = scaler.fit_transform(dev_X)\n",
    "    test_X = scaler.fit_transform(test_X)\n",
    "    \n",
    "    #train model\n",
    "    model = sklearn.neighbors.KNeighborsRegressor(n_neighbors=10)\n",
    "    model = model.fit(dev_X, dev_y)\n",
    "    \n",
    "    return pearson_corr, model, test_X, test_y\n",
    "    "
   ]
  },
  {
   "cell_type": "code",
   "execution_count": 26,
   "id": "e40acd6d",
   "metadata": {},
   "outputs": [],
   "source": [
    "p_corr, model, test_X, test_y = train_reg(split_data(df)[0], split_data(df)[1], columns = input_features, \n",
    "                                          target = target_feature)"
   ]
  },
  {
   "cell_type": "markdown",
   "id": "312e2b9f",
   "metadata": {},
   "source": [
    "For training test, check that train and test data follow similar distribution. (Bootstrap)."
   ]
  },
  {
   "cell_type": "code",
   "execution_count": 27,
   "id": "8c444245",
   "metadata": {},
   "outputs": [],
   "source": [
    "#JSD, from L4 notebook\n",
    "\n",
    "def JSD_dev_and_test(data_sample_1, data_sample_2, axis=None):\n",
    "    \"\"\"Jensen-Shannon divergence between two data samples.\n",
    "    \n",
    "    Formatted for use with scipy bootstrapping. Creates a vector of values covering\n",
    "    the data range, the fits scipy historgram PDFs to both data samples. Each PDF is\n",
    "    evaluated at the vector of values, and those PDF values are used to compute\n",
    "    JSD. Note that becaue the empirical distribution is a histogram, JSD will rarely\n",
    "    be less than about ~0.1 due to discretization artifacts.\n",
    "    \n",
    "    Parameters\n",
    "    ----------\n",
    "    data_sample_1 : numpy array or pandas series\n",
    "        observations in sample 1\n",
    "    data_sample_2 : numpy array or pandas series\n",
    "        observations in sample 2\n",
    "    axis : ignored\n",
    "    \n",
    "    Returns\n",
    "    -------\n",
    "    float : Value of JSD\n",
    "    \"\"\"\n",
    "    # get the min and max values to compute PDF\n",
    "    global_minimum = min([data_sample_1.min(), data_sample_2.min()])\n",
    "    global_maximum = min([data_sample_1.max(), data_sample_2.max()])\n",
    "    width = global_maximum - global_minimum\n",
    "    \n",
    "    x = np.linspace(global_minimum - 0.1*width, global_maximum + 0.1*width, 1000)\n",
    "    \n",
    "    # create empirical PDFs for the samples\n",
    "    s1_distro = scipy.stats.rv_histogram(np.histogram(data_sample_1))\n",
    "    s2_distro = scipy.stats.rv_histogram(np.histogram(data_sample_2))\n",
    "    \n",
    "    # compute JSD\n",
    "    JSD = scipy.spatial.distance.jensenshannon(s1_distro.pdf(x), s2_distro.pdf(x))\n",
    "    return [JSD]"
   ]
  },
  {
   "cell_type": "code",
   "execution_count": 28,
   "id": "caa35d3a",
   "metadata": {},
   "outputs": [],
   "source": [
    "#cite Evan\n",
    "\n",
    "JSD = (scipy.stats.bootstrap(\n",
    "    (split_data(df)),\n",
    "    JSD_dev_and_test,\n",
    "    n_resamples=1000,\n",
    "    batch=5,\n",
    "    method='percentile'\n",
    "))"
   ]
  },
  {
   "cell_type": "code",
   "execution_count": 29,
   "id": "46729a81",
   "metadata": {
    "scrolled": true
   },
   "outputs": [
    {
     "name": "stderr",
     "output_type": "stream",
     "text": [
      "...\n",
      "----------------------------------------------------------------------\n",
      "Ran 3 tests in 10.435s\n",
      "\n",
      "OK\n"
     ]
    }
   ],
   "source": [
    "#test code-need to update\n",
    "\n",
    "class TestModelTraining(unittest.TestCase):\n",
    "    \n",
    "    def test_invalid_inputs(self):\n",
    "    \n",
    "        #test that input data type is correct\n",
    "        \n",
    "        try:\n",
    "            train_reg([1,2,3], [4,5,6], columns = 'string', target = 'string')\n",
    "            self.assertTrue(False)\n",
    "        except AssertionError:\n",
    "            self.assertTrue(True)\n",
    "    \n",
    "    def test_input_distro(self):\n",
    "        \n",
    "        #test that dev and test data have similar distribution via Jensen Shannon Distribution\n",
    "        \n",
    "        JSD = (\n",
    "            scipy.stats.bootstrap((split_data(df)), \n",
    "                                  JSD_dev_and_test, n_resamples=1000, \n",
    "                                  batch=5, method='percentile')\n",
    "        )\n",
    "\n",
    "        div = JSD.confidence_interval[1]\n",
    "        \n",
    "        #asserts that the divergence between data sets is sufficiently low\n",
    "        assert abs(div) < 0.3, \"Warning! High JSD between dev and test set!\"\n",
    "        \n",
    "    def test_output_format(self):\n",
    "        \n",
    "        #asserts that function returns 4 objects to be assigned to pearson_corr, model, test_X, test_y\n",
    "        assert len(train_reg(split_data(df)[0], split_data(df)[1], columns = input_features, \n",
    "                                          target = target_feature)) == 4\n",
    "        \n",
    "\n",
    "suite = unittest.TestLoader().loadTestsFromTestCase(TestModelTraining)\n",
    "_ = unittest.TextTestRunner().run(suite)"
   ]
  },
  {
   "cell_type": "markdown",
   "id": "0e9828ca",
   "metadata": {},
   "source": [
    "Should ask Dave for more info about specific unit test formats."
   ]
  },
  {
   "cell_type": "markdown",
   "id": "eb2642fd",
   "metadata": {},
   "source": [
    "Write an accuracy test. Maybe move the pearson correlation to a unit test to ensure that all variables are valuable to the model."
   ]
  },
  {
   "cell_type": "code",
   "execution_count": 30,
   "id": "47f766ab",
   "metadata": {},
   "outputs": [],
   "source": [
    "def test_reg(model, test_X, test_y):\n",
    "    \n",
    "    \"\"\"\n",
    "    Takes a trained model and test data and tests the model.\n",
    "    \n",
    "    Params\n",
    "    ----------\n",
    "    model: sklearn.linear_model\n",
    "    test_X: numpy array\n",
    "    test_y: numpy array\n",
    "\n",
    "    Returns\n",
    "    -------\n",
    "    -Vector of predictions based on the model (numpy array)\n",
    "    -prints R2 score of the model\n",
    "    -prints mean absolute error and mean squared error from model\n",
    "    -prints mean, standard deviation, and relative standard deviation for the target feature\n",
    "    \"\"\"\n",
    "    \n",
    "    #test input arguments\n",
    "    assert \"sklearn\" in str(type(model))\n",
    "    assert \"numpy.ndarray\" in str(type(test_X))\n",
    "    assert \"numpy.ndarray\" in str(type(test_y))\n",
    "    \n",
    "    R2 = model.score(test_X, test_y)\n",
    "    \n",
    "    print('R2 score is: {}'.format(round(R2,4)))\n",
    "    \n",
    "    preds = model.predict(test_X)\n",
    "\n",
    "    mae = sklearn.metrics.mean_absolute_error(test_y, preds)\n",
    "    rmse = sklearn.metrics.mean_squared_error(test_y, preds, squared=False)\n",
    "    \n",
    "    mae = sklearn.metrics.mean_absolute_error(test_y, preds)\n",
    "    rmse = sklearn.metrics.mean_squared_error(test_y, preds, squared=False)\n",
    "    relative_std = (scipy.stats.variation(target, axis=0))\n",
    "\n",
    "    print(\"The MAE is: {} and the MSE is: {}\".format(round(mae,4), round(rmse,4)))\n",
    "\n",
    "    print(\"The mean bit score is: {} and the standard deviation is: {}.\".format(target.mean(),target.std())) \n",
    "\n",
    "    print(\"The relative std. deviation is: {}.\".format(round(relative_std, 4)))\n",
    "    \n",
    "    return preds"
   ]
  },
  {
   "cell_type": "code",
   "execution_count": 31,
   "id": "7bbb0242",
   "metadata": {},
   "outputs": [
    {
     "name": "stdout",
     "output_type": "stream",
     "text": [
      "R2 score is: 0.9419\n",
      "The MAE is: 34.4435 and the MSE is: 44.9996\n",
      "The mean bit score is: 230.63206 and the standard deviation is: 186.4485895406217.\n",
      "The relative std. deviation is: 0.8084.\n"
     ]
    },
    {
     "data": {
      "text/plain": [
       "array([[187.4],\n",
       "       [233.3],\n",
       "       [220.3],\n",
       "       ...,\n",
       "       [131.5],\n",
       "       [321.4],\n",
       "       [167.9]])"
      ]
     },
     "execution_count": 31,
     "metadata": {},
     "output_type": "execute_result"
    }
   ],
   "source": [
    "preds = test_reg(model, test_X, test_y)\n",
    "preds"
   ]
  },
  {
   "cell_type": "markdown",
   "id": "b9b79929",
   "metadata": {},
   "source": [
    "A good test here can be adding outliers and seeing how much the score and predictions change (probably for the above function)."
   ]
  },
  {
   "cell_type": "code",
   "execution_count": 32,
   "id": "dae1e64f",
   "metadata": {},
   "outputs": [],
   "source": [
    "def plot_regression(model, test_X, test_y):\n",
    "    \"\"\"\n",
    "    Takes a test Linear Regression ML model and plots the predictions against actual values.\n",
    "    \n",
    "    Params\n",
    "    ----------\n",
    "    model: sklearn.linear_model\n",
    "    test_X: numpy array\n",
    "    test_y: numpy array\n",
    "\n",
    "    Returns\n",
    "    -------\n",
    "    -Parity plot of predictions vs. observations\n",
    "    -Equation of line of best fit (always linear)\n",
    "    -R2 score\n",
    "    \"\"\"\n",
    "    \n",
    "    #test input arguments\n",
    "    assert \"sklearn\" in str(type(model))\n",
    "    assert \"numpy.ndarray\" in str(type(test_X))\n",
    "    assert \"numpy.ndarray\" in str(type(test_y))\n",
    "    \n",
    "    R2 = model.score(test_X, test_y)\n",
    "    preds = test_reg(model, test_X, test_y)\n",
    "    \n",
    "    # make a plot to show the fit\n",
    "    fig, ax = plt.subplots()\n",
    "\n",
    "    # plot the actual vs. predicted values\n",
    "    ax.scatter(test_y, preds, c='magenta',s=1, label='Parity Plot')\n",
    "    plt.xlabel(\"Actual Values\", fontsize=12)\n",
    "    plt.ylabel(\"Predicted Values\", fontsize=12)\n",
    "    plt.title('Parity Plot - Bit Score', fontsize=15)\n",
    "\n",
    "    #plot line of best fit\n",
    "    slope, intercept = np.polyfit(np.ravel(test_y), preds, 1)\n",
    "    plt.plot(np.ravel(test_y), slope*np.ravel(test_y) + intercept, c='black', lw=1)\n",
    "    print('y = {}x + {}'.format(round(float(slope),4), round(float(intercept),4)))\n",
    "    print('R2 = {}'.format(round(R2,4)))"
   ]
  },
  {
   "cell_type": "code",
   "execution_count": 33,
   "id": "c923e39b",
   "metadata": {},
   "outputs": [
    {
     "name": "stdout",
     "output_type": "stream",
     "text": [
      "R2 score is: 0.9419\n",
      "The MAE is: 34.4435 and the MSE is: 44.9996\n",
      "The mean bit score is: 230.63206 and the standard deviation is: 186.4485895406217.\n",
      "The relative std. deviation is: 0.8084.\n",
      "y = 0.932x + 16.911\n",
      "R2 = 0.9419\n"
     ]
    },
    {
     "data": {
      "image/png": "[encoded data removed]",
      "text/plain": [
       "<Figure size 432x288 with 1 Axes>"
      ]
     },
     "metadata": {
      "needs_background": "light"
     },
     "output_type": "display_data"
    }
   ],
   "source": [
    "plot_regression(model, test_X, test_y)"
   ]
  },
  {
   "cell_type": "code",
   "execution_count": null,
   "id": "90d003f1",
   "metadata": {},
   "outputs": [],
   "source": []
  },
  {
   "cell_type": "markdown",
   "id": "d3c0b08d",
   "metadata": {},
   "source": [
    "THESE ARE OLDER FUNCTIONS. IF ABOVE FUNCTIONS WORK, CLEAN THESE OUT."
   ]
  },
  {
   "cell_type": "markdown",
   "id": "30b8eec8",
   "metadata": {},
   "source": [
    "def train_reg(dataframe, columns = [],  target = []):\n",
    "    \"\"\"\n",
    "    Takes a dataframe and trains a Linear Ridge (L2 regularization) Regression model with selected data.\n",
    "    \n",
    "    Params\n",
    "    ----------\n",
    "    dataframe: Pandas dataframe\n",
    "    columns: list of strings, representing input features\n",
    "    target: list of strings, representing target feature(s)\n",
    "\n",
    "    Returns\n",
    "    -------\n",
    "    -Pearson correlation between each input and the output feature\n",
    "    -Linear regression model\n",
    "    -input test data vector (numpy array)\n",
    "    -feature test vector (numpy array)\n",
    "    \"\"\"\n",
    "    \n",
    "    #split data\n",
    "    dev, test = sklearn.model_selection.train_test_split(dataframe, test_size=0.20, random_state=1)\n",
    "    \n",
    "    #split into input and output feature(s)\n",
    "    dev_X = dev[columns].values\n",
    "    test_X = test[columns].values\n",
    "\n",
    "    dev_y = dev[target].values.reshape(-1,1)\n",
    "    test_y = test[target].values.reshape(-1,1)\n",
    "    \n",
    "    #return pearson correlation for linear correlation\n",
    "    pearson_corr = dev.corr(method = 'pearson')[target]\n",
    "    \n",
    "    #scale data\n",
    "    scaler = sklearn.preprocessing.StandardScaler()\n",
    "    dev_X = scaler.fit_transform(dev_X)\n",
    "    test_X = scaler.fit_transform(test_X)\n",
    "    \n",
    "    #train model\n",
    "    model = sklearn.linear_model.Ridge()\n",
    "    model = model.fit(dev_X, dev_y)\n",
    "    \n",
    "    return pearson_corr, model, test_X, test_y\n",
    "    "
   ]
  },
  {
   "cell_type": "markdown",
   "id": "9dd96815",
   "metadata": {},
   "source": [
    "p_corr, model, test_X, test_y = train_reg(df, columns = ['meso_ogt', 'thermo_ogt', \n",
    "                                                         'scaled_local_symmetric_percent_id',\n",
    "                                                         'local_E_value','local_gap_compressed_percent_id'], \n",
    "                                          target = ['scaled_local_query_percent_id'])"
   ]
  },
  {
   "cell_type": "markdown",
   "id": "3b323834",
   "metadata": {},
   "source": [
    "#test code"
   ]
  },
  {
   "cell_type": "markdown",
   "id": "9a205f8b",
   "metadata": {},
   "source": [
    "def test_reg(model, test_X, test_y):\n",
    "    \n",
    "    \"\"\"\n",
    "    Takes a trained model and test data and tests the model.\n",
    "    \n",
    "    Params\n",
    "    ----------\n",
    "    model: sklearn.linear_model\n",
    "    test_X: numpy array\n",
    "    test_y: numpy array\n",
    "\n",
    "    Returns\n",
    "    -------\n",
    "    -Vector of predictions based on the model (numpy array)\n",
    "    -prints R2 score of the model\n",
    "    -prints mean absolute error and mean squared error from model\n",
    "    \"\"\"\n",
    "    \n",
    "    R2 = model.score(test_X, test_y)\n",
    "    \n",
    "    print('R2 score is: {}'.format(R2))\n",
    "\n",
    "    preds = model.predict(test_X)\n",
    "\n",
    "    mae = sklearn.metrics.mean_absolute_error(test_y, preds)\n",
    "    mse = sklearn.metrics.mean_squared_error(test_y, preds)\n",
    "\n",
    "    print(\"The MAE is : {} and the MSE is: {}\".format(round(mae,6), round(mse,6)))\n",
    "    \n",
    "    return preds"
   ]
  },
  {
   "cell_type": "markdown",
   "id": "0870af4c",
   "metadata": {},
   "source": [
    "preds = test_reg(model, test_X, test_y)\n",
    "preds"
   ]
  },
  {
   "cell_type": "markdown",
   "id": "ba5a56b8",
   "metadata": {},
   "source": [
    "def plot_regression(model, test_X, test_y):\n",
    "    \"\"\"\n",
    "    Takes a test Linear Regression ML model and plots the predictions against actual values.\n",
    "    \n",
    "    Params\n",
    "    ----------\n",
    "    model: sklearn.linear_model\n",
    "    test_X: numpy array\n",
    "    test_y: numpy array\n",
    "\n",
    "    Returns\n",
    "    -------\n",
    "    -Parity plot of predictions vs. observations\n",
    "    -Equation of line of best fit (always linear)\n",
    "    -R2 score\n",
    "    \"\"\"\n",
    "    preds = test_reg(model, test_X, test_y)\n",
    "    \n",
    "    # make a plot to show the fit\n",
    "    fig, ax = plt.subplots()\n",
    "\n",
    "    # plot the actual vs. predicted values\n",
    "    ax.scatter(test_y, preds, c='b',s=6, label='Parity Plot')\n",
    "    plt.xlabel(\"Actual Values\", fontsize=12)\n",
    "    plt.ylabel(\"Predicted Values\", fontsize=12)\n",
    "    plt.title('Parity Plot', fontsize=15)\n",
    "\n",
    "    #plot line of best fit\n",
    "    slope, intercept = np.polyfit(np.ravel(test_y), preds, 1)\n",
    "    plt.plot(np.ravel(test_y), slope*np.ravel(test_y) + intercept, c='green', lw=1)\n",
    "    print('y = {}x + {}'.format(round(float(slope),4), round(float(intercept),4)))\n",
    "    print('R2 = {}'.format(round(R2,4)))"
   ]
  },
  {
   "cell_type": "code",
   "execution_count": null,
   "id": "0a045b81",
   "metadata": {},
   "outputs": [],
   "source": []
  }
 ],
 "metadata": {
  "kernelspec": {
   "display_name": "Python 3",
   "language": "python",
   "name": "python3"
  },
  "language_info": {
   "codemirror_mode": {
    "name": "ipython",
    "version": 3
   },
   "file_extension": ".py",
   "mimetype": "text/x-python",
   "name": "python",
   "nbconvert_exporter": "python",
   "pygments_lexer": "ipython3",
   "version": "3.9.0"
  }
 },
 "nbformat": 4,
 "nbformat_minor": 5
}
