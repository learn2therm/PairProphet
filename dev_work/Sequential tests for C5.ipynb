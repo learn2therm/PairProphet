{
 "cells": [
  {
   "cell_type": "code",
   "execution_count": 33,
   "id": "ddb70b91",
   "metadata": {
    "scrolled": true
   },
   "outputs": [],
   "source": [
    "import matplotlib.pyplot as plt\n",
    "import seaborn as sns\n",
    "import pandas as pd\n",
    "import numpy as np\n",
    "import os\n",
    "import scipy.stats\n",
    "import sklearn.preprocessing\n",
    "import sklearn.model_selection\n",
    "import sklearn.neighbors\n",
    "import sklearn.ensemble\n",
    "import sklearn.feature_selection\n",
    "import unittest"
   ]
  },
  {
   "cell_type": "code",
   "execution_count": 34,
   "id": "ebfc26f1",
   "metadata": {},
   "outputs": [
    {
     "name": "stdout",
     "output_type": "stream",
     "text": [
      "/Users/loganroberts/Learn2Therm/ValidProt/Components\n"
     ]
    }
   ],
   "source": [
    "cd /Users/loganroberts/Learn2Therm/ValidProt/Components"
   ]
  },
  {
   "cell_type": "code",
   "execution_count": 35,
   "id": "aa0615a4",
   "metadata": {},
   "outputs": [],
   "source": [
    "df_original = pd.read_csv('learn2therm_sample_50k.csv')"
   ]
  },
  {
   "cell_type": "code",
   "execution_count": 36,
   "id": "39765390",
   "metadata": {},
   "outputs": [],
   "source": [
    "categories = df_original['t_protein_desc'].value_counts()\n",
    "categories = categories.iloc[categories.values > 500]\n",
    "categories_dict = {item: None for item in categories.index}\n",
    "\n",
    "list_of_cats = list(categories_dict.keys())\n",
    "list_of_cats\n",
    "\n",
    "df = df_original[df_original.t_protein_desc.isin(list_of_cats)]"
   ]
  },
  {
   "cell_type": "code",
   "execution_count": 37,
   "id": "0ef984b1",
   "metadata": {},
   "outputs": [],
   "source": [
    "columns_to_keep = ['bit_score','local_gap_compressed_percent_id','scaled_local_query_percent_id',\n",
    "                      'scaled_local_symmetric_percent_id','query_align_len', 'query_align_cov',\n",
    "                      'subject_align_len', 'subject_align_cov', 'm_protein_len', 't_protein_len', 't_protein_desc']"
   ]
  },
  {
   "cell_type": "code",
   "execution_count": 38,
   "id": "137540f5",
   "metadata": {},
   "outputs": [],
   "source": [
    "def input_cleaning_wrapper(dataframe):\n",
    "    \n",
    "    #check type of dataframe\n",
    "    check = check_input_type(dataframe)\n",
    "    \n",
    "    #clean out unnecessary columns\n",
    "    clean = clean_input_columns(check)\n",
    "    \n",
    "    #verify necessary columns are present\n",
    "    verify_input = verify_input_columns(clean)\n",
    "    \n",
    "    #check for NaN's\n",
    "    check_NANs = check_input_NANs(verify_input)\n",
    "    \n",
    "    #verify every protein has a pair\n",
    "    verify_pairs = verify_protein_pairs(check_NANs)\n",
    "    \n",
    "    print('The new shape of the dataframe is:{}'.format(verify_pairs.shape))\n",
    "    \n",
    "    return verify_pairs"
   ]
  },
  {
   "cell_type": "code",
   "execution_count": 42,
   "id": "b81198bb",
   "metadata": {},
   "outputs": [
    {
     "name": "stdout",
     "output_type": "stream",
     "text": [
      "DataFrame does not have any NaN values.\n",
      "Dataframe now has 23783 rows.\n",
      "OK!\n",
      "The new shape of the dataframe is:(23783, 11)\n"
     ]
    }
   ],
   "source": [
    "input_cleaned = input_cleaning_wrapper(df)"
   ]
  },
  {
   "cell_type": "code",
   "execution_count": 43,
   "id": "d31857ad",
   "metadata": {},
   "outputs": [],
   "source": [
    "def kNN_wrapper(dataframe):\n",
    "    \"\"\"\n",
    "    Takes dataframe and runs it through kNN model.\n",
    "    \n",
    "    Params\n",
    "    ----------\n",
    "    dataframe: Pandas dataframe \n",
    "\n",
    "    Returns\n",
    "    -------\n",
    "    -Pearson correlation\n",
    "    -Target feature predictions\n",
    "    -Parity plot\n",
    "    \n",
    "    \"\"\"\n",
    "    \n",
    "    assert 'pandas.core.frame.DataFrame' in str(type(dataframe))\n",
    "\n",
    "    #user inputs target feature\n",
    "    target = 't_protein_desc'\n",
    "    \n",
    "    #define input features\n",
    "    input_features = [columns for columns in dataframe]\n",
    "    \n",
    "    input_features.remove(target)\n",
    "    \n",
    "    print(input_features)\n",
    "\n",
    "    #train the model based off data split\n",
    "    model, dev_X, dev_y, test_X, test_y = train_reg(\n",
    "                                        split_data(dataframe)[0], split_data(dataframe)[1], \n",
    "                                        columns=input_features, target=target\n",
    "                                                   )\n",
    "    \n",
    "    #test the model and return predictions\n",
    "    preds = test_reg(model, test_X, test_y)\n",
    "    \n",
    "    #plot the results of the model\n",
    "    plot_regression(model, test_X, test_y)\n",
    "    \n",
    "    return preds"
   ]
  },
  {
   "cell_type": "code",
   "execution_count": 44,
   "id": "951e8929",
   "metadata": {},
   "outputs": [
    {
     "name": "stdout",
     "output_type": "stream",
     "text": [
      "['local_gap_compressed_percent_id', 'scaled_local_query_percent_id', 'scaled_local_symmetric_percent_id', 'query_align_len', 'query_align_cov', 'subject_align_len', 'subject_align_cov', 'bit_score', 'm_protein_len', 't_protein_len']\n",
      "Model score is: 0.6485\n",
      "Model score is: 0.6485\n"
     ]
    },
    {
     "data": {
      "text/plain": [
       "array(['ABC transporter ATP-binding protein',\n",
       "       'response regulator transcription factor',\n",
       "       'ABC transporter ATP-binding protein', ...,\n",
       "       'SDR family oxidoreductase', 'SDR family oxidoreductase',\n",
       "       'response regulator transcription factor'], dtype=object)"
      ]
     },
     "execution_count": 44,
     "metadata": {},
     "output_type": "execute_result"
    },
    {
     "data": {
      "image/png": "[encoded data removed]",
      "text/plain": [
       "<Figure size 432x288 with 2 Axes>"
      ]
     },
     "metadata": {
      "needs_background": "light"
     },
     "output_type": "display_data"
    }
   ],
   "source": [
    "kNN_wrapper(input_cleaned)"
   ]
  },
  {
   "cell_type": "code",
   "execution_count": 6,
   "id": "5328134a",
   "metadata": {},
   "outputs": [],
   "source": [
    "def split_data(dataframe):\n",
    "    \"\"\"\n",
    "    Takes dataframe and splits it into dev and test sets.\n",
    "    \n",
    "    Params\n",
    "    ----------\n",
    "    dataframe: Pandas dataframe \n",
    "\n",
    "    Returns\n",
    "    -------\n",
    "    -Dev and test data\n",
    "    \n",
    "    \"\"\"\n",
    "    \n",
    "    #test input data type\n",
    "    if \"pandas.core.frame.DataFrame\" not in str(type(dataframe)):\n",
    "        raise ValueError(\"Wrong input type!\")\n",
    "    else:\n",
    "        pass\n",
    "    \n",
    "    #split data\n",
    "    dev, test = sklearn.model_selection.train_test_split(dataframe, test_size=0.15, random_state=1)\n",
    "    \n",
    "    return dev, test"
   ]
  },
  {
   "cell_type": "code",
   "execution_count": 7,
   "id": "a9367a75",
   "metadata": {},
   "outputs": [],
   "source": [
    "def train_reg(dev, test, columns = [],  target = []):\n",
    "    \"\"\"\n",
    "    Takes dev and test dataframes and trains a standard Linear Regression model with selected data.\n",
    "    \n",
    "    Params\n",
    "    ----------\n",
    "    dev, test: Pandas dataframe previously split\n",
    "    columns: list of strings, representing input features\n",
    "    target: list of strings, representing target feature(s)\n",
    "\n",
    "    Returns\n",
    "    -------\n",
    "    -Pearson correlation between each input and the output feature\n",
    "    -Linear regression model\n",
    "    -input test data vector (numpy array)\n",
    "    -feature test vector (numpy array)\n",
    "    \"\"\"\n",
    "    \n",
    "    #test input arguments\n",
    "    assert \"pandas.core.frame.DataFrame\" in str(type(dev))\n",
    "    assert \"pandas.core.frame.DataFrame\" in str(type(test))\n",
    "    assert \"str\" in str(type(columns[0]))\n",
    "    assert \"str\" in str(type(target[0]))\n",
    "   \n",
    "    #split into input and output feature(s)\n",
    "    dev_X = dev[columns].values\n",
    "    test_X = test[columns].values\n",
    "\n",
    "    dev_y = dev[target].values.reshape(-1,1)\n",
    "    test_y = test[target].values.reshape(-1,1)\n",
    "    \n",
    "    #scale data\n",
    "    scaler = sklearn.preprocessing.StandardScaler()\n",
    "    dev_X = scaler.fit_transform(dev_X)\n",
    "    test_X = scaler.fit_transform(test_X)\n",
    "    \n",
    "    #train model\n",
    "    model = sklearn.neighbors.KNeighborsClassifier(n_neighbors=20)\n",
    "    model = model.fit(dev_X, dev_y.ravel())\n",
    "    \n",
    "    return model, dev_X, dev_y, test_X, test_y"
   ]
  },
  {
   "cell_type": "code",
   "execution_count": 8,
   "id": "14b20a85",
   "metadata": {},
   "outputs": [],
   "source": [
    "def test_reg(model, test_X, test_y):\n",
    "    \n",
    "    \"\"\"\n",
    "    Takes a trained model and test data and tests the model.\n",
    "    \n",
    "    Params\n",
    "    ----------\n",
    "    model: sklearn.neighbors.KNeighborsClassifier\n",
    "    test_X: numpy array\n",
    "    test_y: numpy array\n",
    "\n",
    "    Returns\n",
    "    -------\n",
    "    -Vector of predictions based on the model (numpy array)\n",
    "    -prints R2 score of the model\n",
    "    -prints mean absolute error and mean squared error from model\n",
    "    -prints mean, standard deviation, and relative standard deviation for the target feature\n",
    "    \"\"\"\n",
    "    \n",
    "    #test input arguments\n",
    "    assert \"sklearn\" in str(type(model))\n",
    "    assert \"numpy.ndarray\" in str(type(test_X))\n",
    "    assert \"numpy.ndarray\" in str(type(test_y))\n",
    "    \n",
    "    score = model.score(test_X, test_y)\n",
    "    \n",
    "    print('Model score is: {}'.format(round(score,4)))\n",
    "    \n",
    "    preds = model.predict(test_X)\n",
    "    \n",
    "    return preds"
   ]
  },
  {
   "cell_type": "code",
   "execution_count": 9,
   "id": "946198c6",
   "metadata": {},
   "outputs": [],
   "source": [
    "def plot_regression(model, test_X, test_y):\n",
    "    \"\"\"\n",
    "    Takes a test KNN Classifier model and plots the confusion matrix.\n",
    "    \n",
    "    Params\n",
    "    ----------\n",
    "    model: sklearn.neighbors.KNeighborsClassifier\n",
    "    test_X: numpy array\n",
    "    test_y: numpy array\n",
    "\n",
    "    Returns\n",
    "    -------\n",
    "    -Confusion predictions vs. observations\n",
    "    -Model score\n",
    "    \"\"\"\n",
    "    \n",
    "    #test input arguments\n",
    "    assert \"sklearn\" in str(type(model))\n",
    "    assert \"numpy.ndarray\" in str(type(test_X))\n",
    "    assert \"numpy.ndarray\" in str(type(test_y))\n",
    "    \n",
    "    score = model.score(test_X, test_y)\n",
    "    preds = test_reg(model, test_X, test_y)\n",
    "   \n",
    "    # plot confusion matrix\n",
    "    confusion_matrix = sklearn.metrics.confusion_matrix(preds, test_y)\n",
    "    cm_plot = sklearn.metrics.ConfusionMatrixDisplay(confusion_matrix)\n",
    "    \n",
    "    cm_plot.plot(cmap=plt.cm.Blues)\n",
    "    cm_plot.ax_.set_title('Confusion Matrix')\n",
    "    "
   ]
  },
  {
   "cell_type": "code",
   "execution_count": 10,
   "id": "549a269c",
   "metadata": {},
   "outputs": [],
   "source": [
    "def check_input_type(dataframe):\n",
    "    \"\"\"\n",
    "    Takes in input dataframe and asserts that it is the correct data type.\n",
    "    \"\"\"\n",
    "    assert \"pandas.core.frame.DataFrame\" in str(type(dataframe)), 'Not a pandas dataframe!'\n",
    "    \n",
    "    return dataframe\n",
    "\n",
    "def clean_input_columns(dataframe):\n",
    "    \"\"\"\n",
    "    We want to clean certain columns out of the Pfam dataframe.\n",
    "    Need to eliminate identifier columns + columns that don't have linear relationship with bit score.\n",
    "\n",
    "    Input: Pandas dataframe (from Pfam)\n",
    "    Output: Updated dataframe.\n",
    "    \"\"\"\n",
    "\n",
    "    for title in dataframe:\n",
    "        if title not in columns_to_keep:\n",
    "            dataframe = dataframe.drop(columns = title)\n",
    "        else:\n",
    "            pass\n",
    "\n",
    "    return dataframe\n",
    "\n",
    "def verify_input_columns(dataframe):\n",
    "    \"\"\"\n",
    "    This function raises an error is one of the columns we need for the model is not\n",
    "    present in the dataframe.\n",
    "\n",
    "    Input: Pandas dataframe.\n",
    "    Output: Pandas dataframe.\n",
    "    \"\"\"    \n",
    "    for title in columns_to_keep:\n",
    "\n",
    "        if title not in dataframe:\n",
    "            raise KeyError\n",
    "        else:\n",
    "            pass\n",
    "\n",
    "    return dataframe\n",
    "\n",
    "def check_input_NANs(dataframe):\n",
    "    \"\"\"\n",
    "    Checks for NaN values in input dataframe. Removes rows with NaN values present.\n",
    "\n",
    "    Input: Pandas dataframe\n",
    "    Output: Pandas dataframe\n",
    "\n",
    "    \"\"\"\n",
    "    has_nan = dataframe.isna().any().any()\n",
    "    nan_rows = dataframe[dataframe.isna().any(axis=1)]\n",
    "\n",
    "    if has_nan:\n",
    "        print('Dataframe has {} rows with NaN values!'.format(len(nan_rows)))\n",
    "    else:\n",
    "        print(\"DataFrame does not have any NaN values.\")\n",
    "\n",
    "    #Drop rows with NaN's\n",
    "    dataframe = dataframe.dropna()\n",
    "    print('Dataframe now has {} rows.'.format(len(dataframe)))\n",
    "\n",
    "    return dataframe\n",
    "\n",
    "def verify_protein_pairs(dataframe):\n",
    "    \"\"\"\n",
    "    Checks that input data has two protein sequences. Will need to generalize this function other data sets \n",
    "    to simply make sure two sequences are entered. Code below is for our protein database\n",
    "    \"\"\"\n",
    "    assert 'm_protein_len' in dataframe, 'Dataframe missing mesophillic sequence!'\n",
    "    assert 't_protein_len' in dataframe, 'Dataframe missing thermophillic sequence!'\n",
    "\n",
    "    print('OK!')\n",
    "    return dataframe\n",
    "\n"
   ]
  },
  {
   "cell_type": "code",
   "execution_count": null,
   "id": "b81618ed",
   "metadata": {},
   "outputs": [],
   "source": []
  }
 ],
 "metadata": {
  "kernelspec": {
   "display_name": "Python 3 (ipykernel)",
   "language": "python",
   "name": "python3"
  },
  "language_info": {
   "codemirror_mode": {
    "name": "ipython",
    "version": 3
   },
   "file_extension": ".py",
   "mimetype": "text/x-python",
   "name": "python",
   "nbconvert_exporter": "python",
   "pygments_lexer": "ipython3",
   "version": "3.10.4"
  }
 },
 "nbformat": 4,
 "nbformat_minor": 5
}
