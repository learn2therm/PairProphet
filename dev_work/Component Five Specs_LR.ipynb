{
 "cells": [
  {
   "cell_type": "code",
   "execution_count": 1,
   "id": "c9477b4a",
   "metadata": {},
   "outputs": [],
   "source": [
    "#imports\n",
    "import matplotlib.pyplot as plt\n",
    "import seaborn as sns\n",
    "import pandas as pd\n",
    "import numpy as np\n",
    "import scipy.stats\n",
    "import sklearn.preprocessing\n",
    "import sklearn.model_selection\n",
    "import sklearn.neighbors\n",
    "import duckdb\n",
    "import unittest"
   ]
  },
  {
   "cell_type": "code",
   "execution_count": 2,
   "id": "5478fd42",
   "metadata": {},
   "outputs": [
    {
     "data": {
      "text/html": [
       "<div>\n",
       "<style scoped>\n",
       "    .dataframe tbody tr th:only-of-type {\n",
       "        vertical-align: middle;\n",
       "    }\n",
       "\n",
       "    .dataframe tbody tr th {\n",
       "        vertical-align: top;\n",
       "    }\n",
       "\n",
       "    .dataframe thead th {\n",
       "        text-align: right;\n",
       "    }\n",
       "</style>\n",
       "<table border=\"1\" class=\"dataframe\">\n",
       "  <thead>\n",
       "    <tr style=\"text-align: right;\">\n",
       "      <th></th>\n",
       "      <th>Unnamed: 0</th>\n",
       "      <th>prot_pair_index</th>\n",
       "      <th>meso_seq</th>\n",
       "      <th>thermo_seq</th>\n",
       "      <th>meso_ogt</th>\n",
       "      <th>thermo_ogt</th>\n",
       "      <th>scaled_local_symmetric_percent_id</th>\n",
       "      <th>local_E_value</th>\n",
       "      <th>scaled_local_query_percent_id</th>\n",
       "      <th>local_gap_compressed_percent_id</th>\n",
       "    </tr>\n",
       "  </thead>\n",
       "  <tbody>\n",
       "    <tr>\n",
       "      <th>0</th>\n",
       "      <td>1256842</td>\n",
       "      <td>126227630</td>\n",
       "      <td>MLLSDRDLVSEIKSGDLSLEPFEPALLQPSSIDVRLDRFFRVFNNH...</td>\n",
       "      <td>MLLSDRDLRKELESGRLELDPFDPAMLQPSSIDVRLDRFFRVFDNT...</td>\n",
       "      <td>27.5</td>\n",
       "      <td>45.0</td>\n",
       "      <td>0.777202</td>\n",
       "      <td>0.0</td>\n",
       "      <td>0.773196</td>\n",
       "      <td>0.802139</td>\n",
       "    </tr>\n",
       "    <tr>\n",
       "      <th>1</th>\n",
       "      <td>1456567</td>\n",
       "      <td>169784592</td>\n",
       "      <td>MRFEGTSGYVATDDLKVAVNAAIALERPLLVKGEPGTGKTVLAVEV...</td>\n",
       "      <td>MKFTGSDSYVATEDLMIAVNAAVTLERPLLVKGEPGTGKTELARQV...</td>\n",
       "      <td>30.0</td>\n",
       "      <td>54.0</td>\n",
       "      <td>0.782143</td>\n",
       "      <td>0.0</td>\n",
       "      <td>0.784946</td>\n",
       "      <td>0.784946</td>\n",
       "    </tr>\n",
       "    <tr>\n",
       "      <th>2</th>\n",
       "      <td>874464</td>\n",
       "      <td>31933768</td>\n",
       "      <td>MAYETINVDVQDHVCLIKLHRPEALNALNAALVSELCTALEEADAS...</td>\n",
       "      <td>MAYKTIIVEIEDHVALIKLNRPEALNALNSELLGELAQAVTEADAN...</td>\n",
       "      <td>19.5</td>\n",
       "      <td>54.0</td>\n",
       "      <td>0.775194</td>\n",
       "      <td>0.0</td>\n",
       "      <td>0.775194</td>\n",
       "      <td>0.775194</td>\n",
       "    </tr>\n",
       "    <tr>\n",
       "      <th>3</th>\n",
       "      <td>560201</td>\n",
       "      <td>32409414</td>\n",
       "      <td>MAIRKYKPTTPGRRGSSVADFAEITRSTPEKSLLRPLSKTGGRNNQ...</td>\n",
       "      <td>MGIRKYKPTTPGRRGASVADFVELTRREPEKSLLRPLPKKGGRNNR...</td>\n",
       "      <td>28.0</td>\n",
       "      <td>52.5</td>\n",
       "      <td>0.787770</td>\n",
       "      <td>0.0</td>\n",
       "      <td>0.790614</td>\n",
       "      <td>0.802198</td>\n",
       "    </tr>\n",
       "    <tr>\n",
       "      <th>4</th>\n",
       "      <td>33257</td>\n",
       "      <td>175862226</td>\n",
       "      <td>MLQRLQDRVAVVTGGGSGIGLATVRRFAAEGAKVVVADIDAAAGEA...</td>\n",
       "      <td>MSEDIICRRLTGRTAVVTGAGSGIGLASARRLASEGANVVCADVDE...</td>\n",
       "      <td>28.0</td>\n",
       "      <td>45.0</td>\n",
       "      <td>0.788350</td>\n",
       "      <td>0.0</td>\n",
       "      <td>0.780769</td>\n",
       "      <td>0.802372</td>\n",
       "    </tr>\n",
       "  </tbody>\n",
       "</table>\n",
       "</div>"
      ],
      "text/plain": [
       "   Unnamed: 0  prot_pair_index  \\\n",
       "0     1256842        126227630   \n",
       "1     1456567        169784592   \n",
       "2      874464         31933768   \n",
       "3      560201         32409414   \n",
       "4       33257        175862226   \n",
       "\n",
       "                                            meso_seq  \\\n",
       "0  MLLSDRDLVSEIKSGDLSLEPFEPALLQPSSIDVRLDRFFRVFNNH...   \n",
       "1  MRFEGTSGYVATDDLKVAVNAAIALERPLLVKGEPGTGKTVLAVEV...   \n",
       "2  MAYETINVDVQDHVCLIKLHRPEALNALNAALVSELCTALEEADAS...   \n",
       "3  MAIRKYKPTTPGRRGSSVADFAEITRSTPEKSLLRPLSKTGGRNNQ...   \n",
       "4  MLQRLQDRVAVVTGGGSGIGLATVRRFAAEGAKVVVADIDAAAGEA...   \n",
       "\n",
       "                                          thermo_seq  meso_ogt  thermo_ogt  \\\n",
       "0  MLLSDRDLRKELESGRLELDPFDPAMLQPSSIDVRLDRFFRVFDNT...      27.5        45.0   \n",
       "1  MKFTGSDSYVATEDLMIAVNAAVTLERPLLVKGEPGTGKTELARQV...      30.0        54.0   \n",
       "2  MAYKTIIVEIEDHVALIKLNRPEALNALNSELLGELAQAVTEADAN...      19.5        54.0   \n",
       "3  MGIRKYKPTTPGRRGASVADFVELTRREPEKSLLRPLPKKGGRNNR...      28.0        52.5   \n",
       "4  MSEDIICRRLTGRTAVVTGAGSGIGLASARRLASEGANVVCADVDE...      28.0        45.0   \n",
       "\n",
       "   scaled_local_symmetric_percent_id  local_E_value  \\\n",
       "0                           0.777202            0.0   \n",
       "1                           0.782143            0.0   \n",
       "2                           0.775194            0.0   \n",
       "3                           0.787770            0.0   \n",
       "4                           0.788350            0.0   \n",
       "\n",
       "   scaled_local_query_percent_id  local_gap_compressed_percent_id  \n",
       "0                       0.773196                         0.802139  \n",
       "1                       0.784946                         0.784946  \n",
       "2                       0.775194                         0.775194  \n",
       "3                       0.790614                         0.802198  \n",
       "4                       0.780769                         0.802372  "
      ]
     },
     "execution_count": 2,
     "metadata": {},
     "output_type": "execute_result"
    }
   ],
   "source": [
    "df = pd.read_csv(\"/Users/loganroberts/Learn2Therm/ValidProt/data/Sample.csv\")\n",
    "df.head()"
   ]
  },
  {
   "cell_type": "markdown",
   "id": "4c7ada06",
   "metadata": {},
   "source": [
    "# Software Component Five: s5.0_relation.py\n",
    "\n",
    "**Params:** \n",
    "\n",
    "**Inputs:** Pandas Dataframe containing Pfam return data. Includes quantitative features (ID, some metric of percent similarlity) and string of amino acid sequence.\n",
    "\n",
    "**Outputs:** Quantitative functional similarlity metric.\n",
    "\n",
    "**Metrics:**\n",
    "\n",
    "**Packages:** pandas, numpy, scipy, seaborn, fuzzywuzzy, unittest\n",
    "\n",
    "***\n",
    "***"
   ]
  },
  {
   "cell_type": "markdown",
   "id": "46814318",
   "metadata": {},
   "source": [
    "**Subcomponent 1**: Test for pandas dataframe input (**ALREADY TESTED WITH CODE**)\n",
    "\n",
    "**Use case**: User takes data from component 4 (where data is processed into pandas dataframe) and wants to pass it into relationship component."
   ]
  },
  {
   "cell_type": "markdown",
   "id": "21f59e36",
   "metadata": {},
   "source": [
    "```\n",
    "\n",
    "def check_input_type(dataframe):\n",
    "    tests that input data is a pandas dataframe with assert statement. \n",
    "    assert \"pandas.core.frame.DataFrame\" in str(type(dataframe)) \n",
    "    Output should pass unless assert statement fails.\n",
    "\n",
    "```"
   ]
  },
  {
   "cell_type": "code",
   "execution_count": 3,
   "id": "5d2f0b79",
   "metadata": {},
   "outputs": [],
   "source": [
    "#CODE - Function 1-1\n",
    "\n",
    "def check_input_type(dataframe):\n",
    "    \"\"\"\n",
    "    Takes in input dataframe and asserts that it is the correct data type.\n",
    "    \"\"\"\n",
    "    assert \"pandas.core.frame.DataFrame\" in str(type(dataframe)), 'Not a pandas dataframe!'"
   ]
  },
  {
   "cell_type": "code",
   "execution_count": 4,
   "id": "8778061d",
   "metadata": {},
   "outputs": [
    {
     "name": "stderr",
     "output_type": "stream",
     "text": [
      ".\n",
      "----------------------------------------------------------------------\n",
      "Ran 1 test in 0.001s\n",
      "\n",
      "OK\n"
     ]
    }
   ],
   "source": [
    "#TEST CODE 1-1\n",
    "\n",
    "import unittest\n",
    "\n",
    "#unit tests - function 1 \n",
    "class TestInputType(unittest.TestCase):\n",
    "    \n",
    "    def test_input_type(self): \n",
    "        \"\"\"\n",
    "        Tests that input data is a pandas dataframe.\n",
    "        \n",
    "        \"\"\"\n",
    "        try:\n",
    "            check_input_type([4,3])\n",
    "            self.assertTrue(False)\n",
    "        except AssertionError:\n",
    "            self.assertTrue(True)\n",
    "        \n",
    "suite = unittest.TestLoader().loadTestsFromTestCase(TestInputType)\n",
    "_ = unittest.TextTestRunner().run(suite)"
   ]
  },
  {
   "cell_type": "markdown",
   "id": "092d5915",
   "metadata": {},
   "source": [
    "***\n",
    "***"
   ]
  },
  {
   "cell_type": "markdown",
   "id": "1d848e6a",
   "metadata": {},
   "source": [
    "**Subcomponent 2**: Checks that input data is cleaned property (does it have all of the features we need, and are the features we don't need removed).\n",
    "\n",
    "**Use case**: Input data does not include local E value, which we need as an input to our model."
   ]
  },
  {
   "cell_type": "code",
   "execution_count": 5,
   "id": "95b28be1",
   "metadata": {},
   "outputs": [],
   "source": [
    "#CODE - Function 2-1\n",
    "\n",
    "def clean_input_columns(dataframe):\n",
    "    \"\"\"\n",
    "    We want to clean certain columns out of the Pfam dataframe. For now, let's ensure that the dataframe \n",
    "    is missing 'Unnamed: 0', 'meso_seq', 'thermo_seq', and 'prot_pair_index'.\n",
    "    \n",
    "    Input: Pandas dataframe (from Pfam)\n",
    "    Output: Updated dataframe.\n",
    "    \"\"\"\n",
    "    \n",
    "    for title in ['Unnamed: 0','meso_seq', 'thermo_seq', 'prot_pair_index']:\n",
    "        if title in dataframe:\n",
    "            dataframe = dataframe.drop(columns = title)\n",
    "        else:\n",
    "            pass\n",
    "    \n",
    "    return dataframe"
   ]
  },
  {
   "cell_type": "code",
   "execution_count": 6,
   "id": "aba23f6c",
   "metadata": {},
   "outputs": [],
   "source": [
    "#CODE - Function 2-2\n",
    "\n",
    "def verify_input_columns(dataframe):\n",
    "    for title in ['meso_ogt', 'thermo_ogt', 'scaled_local_symmetric_percent_id',\n",
    "                  'local_E_value', 'scaled_local_query_percent_id', 'local_gap_compressed_percent_id']:\n",
    "        \n",
    "        if title not in dataframe:\n",
    "            raise KeyError\n",
    "        else:\n",
    "            pass\n",
    "    \n",
    "    return dataframe"
   ]
  },
  {
   "cell_type": "code",
   "execution_count": 7,
   "id": "9e7172e7",
   "metadata": {
    "scrolled": true
   },
   "outputs": [
    {
     "name": "stderr",
     "output_type": "stream",
     "text": [
      "..\n",
      "----------------------------------------------------------------------\n",
      "Ran 2 tests in 0.020s\n",
      "\n",
      "OK\n"
     ]
    }
   ],
   "source": [
    "#TESTS - 2-1/2\n",
    "\n",
    "import unittest\n",
    "\n",
    "class TestInputCleaning(unittest.TestCase):\n",
    "\n",
    "    \n",
    "    def test_input_cleaning(self):\n",
    "        for title in ['Unnamed: 0','meso_seq', 'thermo_seq', 'prot_pair_index']:\n",
    "            assert title not in clean_input_columns(df)\n",
    "    \n",
    "    def test_column_verification(self):\n",
    "        \n",
    "        try:\n",
    "            verify_input_columns(df.drop(columns='meso_ogt'))\n",
    "            self.assertTrue(False)\n",
    "        except KeyError:\n",
    "            self.assertTrue(True)\n",
    "            \n",
    "            \n",
    "suite = unittest.TestLoader().loadTestsFromTestCase(TestInputCleaning)\n",
    "_ = unittest.TextTestRunner().run(suite)"
   ]
  },
  {
   "cell_type": "code",
   "execution_count": 8,
   "id": "1542e9de",
   "metadata": {},
   "outputs": [],
   "source": [
    "#CODE - Function 2-3\n",
    "\n",
    "def check_input_NANs(dataframe):\n",
    "    \"\"\"\n",
    "    Checks for NaN values in input dataframe. Removes rows with NaN values present.\n",
    "\n",
    "    Input: Pandas dataframe\n",
    "    Output: Pandas dataframe\n",
    "\n",
    "    \"\"\"\n",
    "    has_nan = dataframe.isna().any().any()\n",
    "    nan_rows = dataframe[dataframe.isna().any(axis=1)]\n",
    "\n",
    "    if has_nan:\n",
    "        print('Dataframe has {} rows with NaN values!'.format(len(nan_rows)))\n",
    "    else:\n",
    "        print(\"DataFrame does not have any NaN values.\")\n",
    "\n",
    "    #Drop rows with NaN's\n",
    "    dataframe = dataframe.dropna()\n",
    "    print('Dataframe now has {} rows.'.format(len(dataframe)))\n",
    "\n",
    "    return dataframe"
   ]
  },
  {
   "cell_type": "code",
   "execution_count": 9,
   "id": "f3f656c1",
   "metadata": {},
   "outputs": [
    {
     "name": "stderr",
     "output_type": "stream",
     "text": [
      "."
     ]
    },
    {
     "name": "stdout",
     "output_type": "stream",
     "text": [
      "Dataframe has 10000 rows with NaN values!\n",
      "Dataframe now has 0 rows.\n"
     ]
    },
    {
     "name": "stderr",
     "output_type": "stream",
     "text": [
      "\n",
      "----------------------------------------------------------------------\n",
      "Ran 1 test in 0.025s\n",
      "\n",
      "OK\n"
     ]
    }
   ],
   "source": [
    "#TEST 2-3\n",
    "\n",
    "import unittest\n",
    "\n",
    "class TestForNans(unittest.TestCase):\n",
    "\n",
    "    def test_input_Nans(self):\n",
    "        df['another_column'] = pd.DataFrame([np.nan for i in range(len(df))])\n",
    "        \n",
    "        assert check_input_NANs(df).isna().any().any() == False\n",
    "            \n",
    "suite = unittest.TestLoader().loadTestsFromTestCase(TestForNans)\n",
    "_ = unittest.TextTestRunner().run(suite)"
   ]
  },
  {
   "cell_type": "code",
   "execution_count": 10,
   "id": "3d2c8b84",
   "metadata": {},
   "outputs": [],
   "source": [
    "#FUNCTION 2-4\n",
    "\n",
    "def verify_protein_pairs(dataframe):\n",
    "    \"\"\"\n",
    "    Checks that input data has two protein sequences. Will need to generalize this function other data sets \n",
    "    to simply make sure two sequences are entered. Code below is for our protein database\n",
    "    \"\"\"\n",
    "    assert 'meso_ogt' in dataframe, 'Dataframe missing mesophillic sequence!'\n",
    "    assert 'thermo_ogt' in dataframe, 'Dataframe missing thermophillic sequence!'\n",
    "    \n",
    "    #ensure every entry has a thermophillic and mesophillic sequence \n",
    "    if len(dataframe['meso_ogt']) != len(dataframe['thermo_ogt']):\n",
    "        raise ValueError\n",
    "    else:\n",
    "        print('OK!')"
   ]
  },
  {
   "cell_type": "code",
   "execution_count": 11,
   "id": "ff7a43df",
   "metadata": {
    "scrolled": true
   },
   "outputs": [
    {
     "name": "stdout",
     "output_type": "stream",
     "text": [
      "OK!\n"
     ]
    }
   ],
   "source": [
    "verify_protein_pairs(df)"
   ]
  },
  {
   "cell_type": "code",
   "execution_count": 13,
   "id": "f28d5918",
   "metadata": {},
   "outputs": [
    {
     "name": "stderr",
     "output_type": "stream",
     "text": [
      "<ipython-input-10-2e0db47c4721>:8: FutureWarning: elementwise comparison failed; returning scalar instead, but in the future will perform elementwise comparison\n",
      "  assert 'meso_ogt' in dataframe, 'Dataframe missing mesophillic sequence!'\n",
      "F\n",
      "======================================================================\n",
      "FAIL: test_protein_pair (__main__.TestProteinPairs)\n",
      "----------------------------------------------------------------------\n",
      "Traceback (most recent call last):\n",
      "  File \"<ipython-input-13-40856f54f551>\", line 17, in test_protein_pair\n",
      "    verify_protein_pairs(df.iloc[:-1, 0].values)\n",
      "  File \"<ipython-input-10-2e0db47c4721>\", line 8, in verify_protein_pairs\n",
      "    assert 'meso_ogt' in dataframe, 'Dataframe missing mesophillic sequence!'\n",
      "AssertionError: Dataframe missing mesophillic sequence!\n",
      "\n",
      "----------------------------------------------------------------------\n",
      "Ran 1 test in 0.005s\n",
      "\n",
      "FAILED (failures=1)\n"
     ]
    }
   ],
   "source": [
    "#TEST 2-4 \n",
    "import unittest\n",
    "\n",
    "class TestProteinPairs(unittest.TestCase):\n",
    "    \n",
    "    def test_protein_pair(self):\n",
    "        \n",
    "        try:\n",
    "            verify_protein_pairs(df.drop(columns = 'meso_ogt'))\n",
    "            self.assertTrue(False)\n",
    "        except AssertionError:\n",
    "            self.assertTrue(True)\n",
    "        \n",
    "        \n",
    "        #need to figure out how to write this second test correctly\n",
    "        try:\n",
    "            verify_protein_pairs(df.iloc[:-1, 0].values)\n",
    "            self.assertTrue(False)\n",
    "        except ValueError:\n",
    "            self.assertTrue(True)\n",
    "            \n",
    "suite = unittest.TestLoader().loadTestsFromTestCase(TestProteinPairs)\n",
    "_ = unittest.TextTestRunner().run(suite)"
   ]
  },
  {
   "cell_type": "markdown",
   "id": "4fbea93f",
   "metadata": {},
   "source": [
    "***\n",
    "***"
   ]
  },
  {
   "cell_type": "markdown",
   "id": "cb70683a",
   "metadata": {},
   "source": [
    "**Subcomponent 3**: Train the model with sample data. (**NOT TESTED WITH CODE**)\n",
    "\n",
    "**Use case**:"
   ]
  },
  {
   "cell_type": "markdown",
   "id": "bf9ee196",
   "metadata": {},
   "source": [
    "```\n",
    "def train_model(dataframe):\n",
    "    import scipy, numpy\n",
    "    Split data into dev and test (0.8/0.2 for now)\n",
    "    Train model (KNN Linear Regression for now)\n",
    "    Output: Print('Training successful!')\n",
    "```"
   ]
  },
  {
   "cell_type": "markdown",
   "id": "be13bd0d",
   "metadata": {},
   "source": [
    "**Test**: \n",
    "\n",
    "1) assert len(dataframe)*0.8 == len(dev_data)"
   ]
  },
  {
   "cell_type": "markdown",
   "id": "9949eb32",
   "metadata": {},
   "source": [
    "***\n",
    "***"
   ]
  },
  {
   "cell_type": "markdown",
   "id": "9da48462",
   "metadata": {},
   "source": [
    "**Subcomponent 4**: Test the model with sample data. (**NOT TESTED WITH CODE**)\n",
    "\n",
    "**Use case**:"
   ]
  },
  {
   "cell_type": "markdown",
   "id": "4cc10c78",
   "metadata": {},
   "source": [
    "```\n",
    "def test_model(dataframe):\n",
    "    Runs data through model (linear regression (KNN?)\n",
    "    Output: Returns model_score, confusion matrix, MSE\n",
    "```"
   ]
  },
  {
   "cell_type": "markdown",
   "id": "624fea62",
   "metadata": {},
   "source": [
    "**Test**: "
   ]
  },
  {
   "cell_type": "markdown",
   "id": "36a1e069",
   "metadata": {},
   "source": [
    "***\n",
    "***"
   ]
  },
  {
   "cell_type": "markdown",
   "id": "cc838802",
   "metadata": {},
   "source": [
    "**Subcomponent 5**: Run confidence test on model output. (**NOT TESTED WITH CODE**)\n",
    "\n",
    "**Use case:**"
   ]
  },
  {
   "cell_type": "markdown",
   "id": "ea2f63fc",
   "metadata": {},
   "source": [
    "```\n",
    "def check_model_confidence(model_score, ci_data):\n",
    "    Runs a statistical test on model output and compares it to sample\n",
    "    Output: Returns a confidence score along with the model score\n",
    "```"
   ]
  },
  {
   "cell_type": "markdown",
   "id": "db29eebe",
   "metadata": {},
   "source": [
    "**Test**: \n",
    "1) Run confidence test on some data for which we know the confidence score assert that the score is correct using numpy.isclose( )"
   ]
  },
  {
   "cell_type": "markdown",
   "id": "42bb3a51",
   "metadata": {},
   "source": [
    "***\n",
    "***"
   ]
  },
  {
   "cell_type": "markdown",
   "id": "bbc870d0",
   "metadata": {},
   "source": [
    "**Subcomponent 6**: Calculate a 'functionality' metric that is the ultimate output of component five. This will factor in information from multiple software, not just Pfam. This will be built during spring quarter. (**NOT TESTED WITH CODE**)\n",
    "\n",
    "**Use case:** We need to test that our protein pairs have a near maximal functionality score! This can be used as a basis for eventual user input scores."
   ]
  },
  {
   "cell_type": "markdown",
   "id": "1b2ff489",
   "metadata": {},
   "source": [
    "```\n",
    "def calculate_functionality(model_score, dataframe):\n",
    "    runs user input data through some mathematical manipulation of their model score and input data\n",
    "    Output: returns a functionality score, print statement categorizing functionality score\n",
    "```"
   ]
  },
  {
   "cell_type": "markdown",
   "id": "e9680a04",
   "metadata": {},
   "source": [
    "**Test**: "
   ]
  },
  {
   "cell_type": "markdown",
   "id": "fc70508c",
   "metadata": {},
   "source": [
    "***\n",
    "***"
   ]
  },
  {
   "cell_type": "markdown",
   "id": "505921de",
   "metadata": {},
   "source": [
    "# Plan Outline"
   ]
  },
  {
   "cell_type": "markdown",
   "id": "0e089f73",
   "metadata": {},
   "source": [
    "1. Get data from component 4. This should already be in a pandas dataframe (data prep is included in C4)\n",
    "2. Clean the data to prepare it for model training and testing\n",
    "3. Train and test the model, return scores, MSE, and any other necessary indicator of model performance\n",
    "4. Run confidence test on model output to determine quality of output\n",
    "5. Input new user data and return a functionality score for the input protein pair"
   ]
  },
  {
   "cell_type": "code",
   "execution_count": null,
   "id": "02663a78",
   "metadata": {},
   "outputs": [],
   "source": []
  }
 ],
 "metadata": {
  "kernelspec": {
   "display_name": "Python 3",
   "language": "python",
   "name": "python3"
  },
  "language_info": {
   "codemirror_mode": {
    "name": "ipython",
    "version": 3
   },
   "file_extension": ".py",
   "mimetype": "text/x-python",
   "name": "python",
   "nbconvert_exporter": "python",
   "pygments_lexer": "ipython3",
   "version": "3.9.0"
  }
 },
 "nbformat": 4,
 "nbformat_minor": 5
}
