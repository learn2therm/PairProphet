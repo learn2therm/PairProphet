{
 "cells": [
  {
   "cell_type": "code",
   "execution_count": 1,
   "id": "7c493aff",
   "metadata": {},
   "outputs": [],
   "source": [
    "from FAFSA.preprocessing import connect_db, build_fafsa"
   ]
  },
  {
   "cell_type": "code",
   "execution_count": 3,
   "id": "9b3ba299",
   "metadata": {},
   "outputs": [
    {
     "name": "stdout",
     "output_type": "stream",
     "text": [
      "DuckDB version 0.7.1 detected.\n",
      "Connecting to database...\n",
      "Connection established! Execution time: 0.5272319316864014 seconds\n"
     ]
    }
   ],
   "source": [
    "# Connect to example database file\n",
    "con = connect_db('/mnt/s/FAFSA/l2t_lite.db')"
   ]
  },
  {
   "cell_type": "code",
   "execution_count": null,
   "id": "4aa94b51",
   "metadata": {},
   "outputs": [],
   "source": [
    "# Build example fafsa database from example l2t\n",
    "\n",
    "build_fafsa(con)"
   ]
  }
 ],
 "metadata": {
  "kernelspec": {
   "display_name": "Python 3 (ipykernel)",
   "language": "python",
   "name": "python3"
  },
  "language_info": {
   "codemirror_mode": {
    "name": "ipython",
    "version": 3
   },
   "file_extension": ".py",
   "mimetype": "text/x-python",
   "name": "python",
   "nbconvert_exporter": "python",
   "pygments_lexer": "ipython3",
   "version": "3.11.3"
  }
 },
 "nbformat": 4,
 "nbformat_minor": 5
}
