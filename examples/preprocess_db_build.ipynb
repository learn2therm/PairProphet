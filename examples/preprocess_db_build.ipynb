{
 "cells": [
  {
   "cell_type": "markdown",
   "id": "18f46f51",
   "metadata": {},
   "source": [
    "### Demonstrates use of the build_pairpro function for converting learn2thermDB files\n",
    "*To do: Update this once OMA is onboarded*  \n",
    "*Note: Sequence alignment is not calculated since it is supplied in learn2thermDB*"
   ]
  },
  {
   "cell_type": "code",
   "execution_count": 1,
   "id": "7c493aff",
   "metadata": {},
   "outputs": [],
   "source": [
    "import os\n",
    "\n",
    "from pairpro import preprocessing"
   ]
  },
  {
   "cell_type": "code",
   "execution_count": 19,
   "id": "9b3ba299",
   "metadata": {},
   "outputs": [
    {
     "name": "stdout",
     "output_type": "stream",
     "text": [
      "Connecting to database...\n",
      "Connection established! Execution time: 0.02022552490234375 seconds\n"
     ]
    }
   ],
   "source": [
    "# Connect to example database file\n",
    "con, tables = preprocessing.connect_db('../data/l2t_50k.db')"
   ]
  },
  {
   "cell_type": "code",
   "execution_count": 20,
   "id": "c3e1090b",
   "metadata": {},
   "outputs": [
    {
     "name": "stdout",
     "output_type": "stream",
     "text": [
      "       table_name\n",
      "0  taxa_pairs_lab\n",
      "1      taxa_pairs\n",
      "2            taxa\n",
      "3        proteins\n",
      "4   protein_pairs\n"
     ]
    }
   ],
   "source": [
    "# This is the general structure of a learn2thermDB file\n",
    "print(tables)"
   ]
  },
  {
   "cell_type": "code",
   "execution_count": 21,
   "id": "e0629887",
   "metadata": {},
   "outputs": [],
   "source": [
    "# This is a temporary directory for storing the output database of the make_blast_df function\n",
    "if not os.path.exists('tmp'):\n",
    "    os.mkdir('tmp')"
   ]
  },
  {
   "cell_type": "code",
   "execution_count": 22,
   "id": "4aa94b51",
   "metadata": {},
   "outputs": [
    {
     "name": "stdout",
     "output_type": "stream",
     "text": [
      "Constructing pairpro_taxa_pairs...\n",
      "Finished constructing pairpro_taxa_pairs. Execution time:\n",
      "          0.0023832321166992188 seconds\n",
      "Constructing pairpro_taxa...\n",
      "Finished constructing pairpro_taxa. Execution time:\n",
      "          0.0021681785583496094 seconds\n",
      "Filtering on ogt and 16S sequence parameters...\n",
      "Finished filtering. Execution time: 0.0027234554290771484 seconds\n",
      "Constructing pairpro_protein_pairs...\n",
      "Finished constructing pairpro_protein_pairs. Execution time:\n",
      "          0.014923572540283203 seconds\n",
      "Constructing pairpro_proteins...\n",
      "Finished constructing pairpro_proteins. Execution time:\n",
      "          0.018204927444458008 seconds\n",
      "Constructing final dataset...\n",
      "Transferring data to new database /tmp/example_pairpro_4.db\n",
      "Finishing up...\n",
      "Connecting to database...\n",
      "Connection established! Execution time: 0.018743515014648438 seconds\n",
      "Finished. Total execution time: 0.1580944061279297 seconds\n"
     ]
    }
   ],
   "source": [
    "# Build example PairProphet database from example l2t\n",
    "\n",
    "con, filename = preprocessing.build_pairpro(con, '/tmp/example_pairpro.db')"
   ]
  },
  {
   "cell_type": "code",
   "execution_count": 23,
   "id": "a77b8221",
   "metadata": {},
   "outputs": [
    {
     "name": "stdout",
     "output_type": "stream",
     "text": [
      "example_pairpro_4\n"
     ]
    }
   ],
   "source": [
    "# Name of new database. The original learn2thermDB file should be unaffected by build_pairpro()\n",
    "print(filename)"
   ]
  },
  {
   "cell_type": "code",
   "execution_count": 27,
   "id": "6db2f77e",
   "metadata": {},
   "outputs": [
    {
     "data": {
      "text/html": [
       "<div>\n",
       "<style scoped>\n",
       "    .dataframe tbody tr th:only-of-type {\n",
       "        vertical-align: middle;\n",
       "    }\n",
       "\n",
       "    .dataframe tbody tr th {\n",
       "        vertical-align: top;\n",
       "    }\n",
       "\n",
       "    .dataframe thead th {\n",
       "        text-align: right;\n",
       "    }\n",
       "</style>\n",
       "<table border=\"1\" class=\"dataframe\">\n",
       "  <thead>\n",
       "    <tr style=\"text-align: right;\">\n",
       "      <th></th>\n",
       "      <th>thermo_pid</th>\n",
       "      <th>meso_pid</th>\n",
       "      <th>local_gap_compressed_percent_id</th>\n",
       "      <th>scaled_local_query_percent_id</th>\n",
       "      <th>scaled_local_symmetric_percent_id</th>\n",
       "      <th>local_E_value</th>\n",
       "      <th>query_align_start</th>\n",
       "      <th>query_align_end</th>\n",
       "      <th>subject_align_end</th>\n",
       "      <th>subject_align_start</th>\n",
       "      <th>...</th>\n",
       "      <th>thermo_taxid</th>\n",
       "      <th>meso_taxid</th>\n",
       "      <th>m_ogt</th>\n",
       "      <th>t_ogt</th>\n",
       "      <th>ogt_difference</th>\n",
       "      <th>m_protein_seq</th>\n",
       "      <th>t_protein_seq</th>\n",
       "      <th>meso_pdb</th>\n",
       "      <th>thermo_pdb</th>\n",
       "      <th>pair_id</th>\n",
       "    </tr>\n",
       "  </thead>\n",
       "  <tbody>\n",
       "    <tr>\n",
       "      <th>0</th>\n",
       "      <td>A0A2W7RQ16</td>\n",
       "      <td>A0A327VJ32</td>\n",
       "      <td>0.303279</td>\n",
       "      <td>0.291339</td>\n",
       "      <td>0.290196</td>\n",
       "      <td>2.170000e-12</td>\n",
       "      <td>7</td>\n",
       "      <td>127</td>\n",
       "      <td>128</td>\n",
       "      <td>7</td>\n",
       "      <td>...</td>\n",
       "      <td>1004304</td>\n",
       "      <td>1539050</td>\n",
       "      <td>25.0</td>\n",
       "      <td>45.0</td>\n",
       "      <td>20.0</td>\n",
       "      <td>MTRINYSSGATWEDKVGYSRAVRTGNIIEVSGTVAEDEGKVVAEGN...</td>\n",
       "      <td>MHYQRISSGSVYEEQMCYSRAVVAAPFIFVSGTTGFNYATMTIADD...</td>\n",
       "      <td>NaN</td>\n",
       "      <td>NaN</td>\n",
       "      <td>6767</td>\n",
       "    </tr>\n",
       "    <tr>\n",
       "      <th>1</th>\n",
       "      <td>A0A2W7RTL2</td>\n",
       "      <td>A0A327VMA9</td>\n",
       "      <td>0.644068</td>\n",
       "      <td>0.567164</td>\n",
       "      <td>0.584615</td>\n",
       "      <td>4.180000e-24</td>\n",
       "      <td>6</td>\n",
       "      <td>64</td>\n",
       "      <td>61</td>\n",
       "      <td>3</td>\n",
       "      <td>...</td>\n",
       "      <td>1004304</td>\n",
       "      <td>1539050</td>\n",
       "      <td>25.0</td>\n",
       "      <td>45.0</td>\n",
       "      <td>20.0</td>\n",
       "      <td>MQTGVVKFFNETKGFGFIKIEGTNQEIFVHVSGIKESIGENDRVVF...</td>\n",
       "      <td>MSTKITGTVKFFNEEKGFGFIKHDDSNKETFVHANGLIDQIEANDK...</td>\n",
       "      <td>NaN</td>\n",
       "      <td>NaN</td>\n",
       "      <td>6880</td>\n",
       "    </tr>\n",
       "    <tr>\n",
       "      <th>2</th>\n",
       "      <td>A0A2W7RYG8</td>\n",
       "      <td>A0A327W1Z1</td>\n",
       "      <td>0.538462</td>\n",
       "      <td>0.477273</td>\n",
       "      <td>0.473684</td>\n",
       "      <td>4.340000e-40</td>\n",
       "      <td>12</td>\n",
       "      <td>128</td>\n",
       "      <td>130</td>\n",
       "      <td>14</td>\n",
       "      <td>...</td>\n",
       "      <td>1004304</td>\n",
       "      <td>1539050</td>\n",
       "      <td>25.0</td>\n",
       "      <td>45.0</td>\n",
       "      <td>20.0</td>\n",
       "      <td>MARKGNKNKRRNLEKLSHKYRLVIMNDETYDEVTSFKLSRMSVYIA...</td>\n",
       "      <td>MAKQIFETNTFKRLRNQYRLVIINDDTYEELVTFKLSRLSVYVAFS...</td>\n",
       "      <td>NaN</td>\n",
       "      <td>NaN</td>\n",
       "      <td>7492</td>\n",
       "    </tr>\n",
       "    <tr>\n",
       "      <th>3</th>\n",
       "      <td>A0A2W7RR29</td>\n",
       "      <td>A0A327W5V0</td>\n",
       "      <td>0.660714</td>\n",
       "      <td>0.599190</td>\n",
       "      <td>0.609053</td>\n",
       "      <td>7.720000e-113</td>\n",
       "      <td>24</td>\n",
       "      <td>247</td>\n",
       "      <td>239</td>\n",
       "      <td>16</td>\n",
       "      <td>...</td>\n",
       "      <td>1004304</td>\n",
       "      <td>1539050</td>\n",
       "      <td>25.0</td>\n",
       "      <td>45.0</td>\n",
       "      <td>20.0</td>\n",
       "      <td>MMSSMSKNINTHLVEIKDYFKVAISVDCVIFGFNNDELKVLLIESD...</td>\n",
       "      <td>MKPKSVQTEPAAQRPLITDVKALVNSYPRVPITVDCVIFGFDGEEL...</td>\n",
       "      <td>NaN</td>\n",
       "      <td>NaN</td>\n",
       "      <td>7728</td>\n",
       "    </tr>\n",
       "    <tr>\n",
       "      <th>4</th>\n",
       "      <td>A0A2W7RR29</td>\n",
       "      <td>A0A327VM41</td>\n",
       "      <td>0.414747</td>\n",
       "      <td>0.364372</td>\n",
       "      <td>0.376569</td>\n",
       "      <td>4.440000e-58</td>\n",
       "      <td>28</td>\n",
       "      <td>243</td>\n",
       "      <td>227</td>\n",
       "      <td>11</td>\n",
       "      <td>...</td>\n",
       "      <td>1004304</td>\n",
       "      <td>1539050</td>\n",
       "      <td>25.0</td>\n",
       "      <td>45.0</td>\n",
       "      <td>20.0</td>\n",
       "      <td>MNAASFYSKAPRHLVAVDCIIFGFDEGKLKLLVIKRKVAPMAGEWS...</td>\n",
       "      <td>MKPKSVQTEPAAQRPLITDVKALVNSYPRVPITVDCVIFGFDGEEL...</td>\n",
       "      <td>NaN</td>\n",
       "      <td>NaN</td>\n",
       "      <td>6868</td>\n",
       "    </tr>\n",
       "  </tbody>\n",
       "</table>\n",
       "<p>5 rows × 25 columns</p>\n",
       "</div>"
      ],
      "text/plain": [
       "   thermo_pid    meso_pid  local_gap_compressed_percent_id  \\\n",
       "0  A0A2W7RQ16  A0A327VJ32                         0.303279   \n",
       "1  A0A2W7RTL2  A0A327VMA9                         0.644068   \n",
       "2  A0A2W7RYG8  A0A327W1Z1                         0.538462   \n",
       "3  A0A2W7RR29  A0A327W5V0                         0.660714   \n",
       "4  A0A2W7RR29  A0A327VM41                         0.414747   \n",
       "\n",
       "   scaled_local_query_percent_id  scaled_local_symmetric_percent_id  \\\n",
       "0                       0.291339                           0.290196   \n",
       "1                       0.567164                           0.584615   \n",
       "2                       0.477273                           0.473684   \n",
       "3                       0.599190                           0.609053   \n",
       "4                       0.364372                           0.376569   \n",
       "\n",
       "   local_E_value  query_align_start  query_align_end  subject_align_end  \\\n",
       "0   2.170000e-12                  7              127                128   \n",
       "1   4.180000e-24                  6               64                 61   \n",
       "2   4.340000e-40                 12              128                130   \n",
       "3  7.720000e-113                 24              247                239   \n",
       "4   4.440000e-58                 28              243                227   \n",
       "\n",
       "   subject_align_start  ...  thermo_taxid  meso_taxid  m_ogt  t_ogt  \\\n",
       "0                    7  ...       1004304     1539050   25.0   45.0   \n",
       "1                    3  ...       1004304     1539050   25.0   45.0   \n",
       "2                   14  ...       1004304     1539050   25.0   45.0   \n",
       "3                   16  ...       1004304     1539050   25.0   45.0   \n",
       "4                   11  ...       1004304     1539050   25.0   45.0   \n",
       "\n",
       "   ogt_difference                                      m_protein_seq  \\\n",
       "0            20.0  MTRINYSSGATWEDKVGYSRAVRTGNIIEVSGTVAEDEGKVVAEGN...   \n",
       "1            20.0  MQTGVVKFFNETKGFGFIKIEGTNQEIFVHVSGIKESIGENDRVVF...   \n",
       "2            20.0  MARKGNKNKRRNLEKLSHKYRLVIMNDETYDEVTSFKLSRMSVYIA...   \n",
       "3            20.0  MMSSMSKNINTHLVEIKDYFKVAISVDCVIFGFNNDELKVLLIESD...   \n",
       "4            20.0  MNAASFYSKAPRHLVAVDCIIFGFDEGKLKLLVIKRKVAPMAGEWS...   \n",
       "\n",
       "                                       t_protein_seq  meso_pdb  thermo_pdb  \\\n",
       "0  MHYQRISSGSVYEEQMCYSRAVVAAPFIFVSGTTGFNYATMTIADD...       NaN         NaN   \n",
       "1  MSTKITGTVKFFNEEKGFGFIKHDDSNKETFVHANGLIDQIEANDK...       NaN         NaN   \n",
       "2  MAKQIFETNTFKRLRNQYRLVIINDDTYEELVTFKLSRLSVYVAFS...       NaN         NaN   \n",
       "3  MKPKSVQTEPAAQRPLITDVKALVNSYPRVPITVDCVIFGFDGEEL...       NaN         NaN   \n",
       "4  MKPKSVQTEPAAQRPLITDVKALVNSYPRVPITVDCVIFGFDGEEL...       NaN         NaN   \n",
       "\n",
       "   pair_id  \n",
       "0     6767  \n",
       "1     6880  \n",
       "2     7492  \n",
       "3     7728  \n",
       "4     6868  \n",
       "\n",
       "[5 rows x 25 columns]"
      ]
     },
     "execution_count": 27,
     "metadata": {},
     "output_type": "execute_result"
    }
   ],
   "source": [
    "'''\n",
    "This is the structure of the PairProphet data table saved in the new db file\n",
    "Note that the con object returned by build_pairpro() is not the same as the input con\n",
    "which is closed during execution. This protects the original db file.\n",
    "'''\n",
    "con.execute(\"\"\"SELECT * FROM pairpro.final LIMIT 5\"\"\").df()"
   ]
  },
  {
   "cell_type": "markdown",
   "id": "afbf2819",
   "metadata": {},
   "source": [
    "**Execute cell below to clean up tmp and database files**"
   ]
  },
  {
   "cell_type": "code",
   "execution_count": 29,
   "id": "bd976a3a",
   "metadata": {},
   "outputs": [],
   "source": [
    "con.close()\n",
    "for f in os.listdir('tmp'):\n",
    "    os.remove(os.path.join('tmp', f))\n",
    "os.rmdir('tmp')"
   ]
  }
 ],
 "metadata": {
  "kernelspec": {
   "display_name": "Python 3 (ipykernel)",
   "language": "python",
   "name": "python3"
  },
  "language_info": {
   "codemirror_mode": {
    "name": "ipython",
    "version": 3
   },
   "file_extension": ".py",
   "mimetype": "text/x-python",
   "name": "python",
   "nbconvert_exporter": "python",
   "pygments_lexer": "ipython3",
   "version": "3.10.9"
  }
 },
 "nbformat": 4,
 "nbformat_minor": 5
}
