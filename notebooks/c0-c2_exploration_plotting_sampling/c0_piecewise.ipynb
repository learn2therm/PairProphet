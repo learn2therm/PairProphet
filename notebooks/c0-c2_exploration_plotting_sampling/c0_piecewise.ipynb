{
 "cells": [
  {
   "cell_type": "code",
   "execution_count": 1,
   "id": "c32f2b09",
   "metadata": {},
   "outputs": [],
   "source": [
    "import pandas as pd\n",
    "import numpy as np\n",
    "import duckdb\n",
    "import time"
   ]
  },
  {
   "cell_type": "code",
   "execution_count": 3,
   "id": "cc1e4d1e",
   "metadata": {},
   "outputs": [],
   "source": [
    "def connect_db(path: str):\n",
    "    '''Runs duckdb.connect() function on database path with timing. Returns a \n",
    "duckdb.DuckDBPyConnection object'''\n",
    "    \n",
    "    st = time.time()\n",
    "\n",
    "    print('Connecting to database...')\n",
    "    con = duckdb.connect(path)\n",
    "\n",
    "    et = time.time()\n",
    "    elapsed_time = et - st\n",
    "    print(f'Connection established! Execution time: {elapsed_time} seconds')\n",
    "    return con"
   ]
  },
  {
   "cell_type": "code",
   "execution_count": 4,
   "id": "27360db1",
   "metadata": {},
   "outputs": [
    {
     "name": "stdout",
     "output_type": "stream",
     "text": [
      "Connecting to database...\n",
      "Connection established! Execution time: 0.29888248443603516 seconds\n"
     ]
    }
   ],
   "source": [
    "con = connect_db('/mnt/c/Users/ryanf/Desktop/validprot_testing')"
   ]
  },
  {
   "cell_type": "code",
   "execution_count": 7,
   "id": "df351f55",
   "metadata": {},
   "outputs": [
    {
     "data": {
      "text/plain": [
       "'0.6.1'"
      ]
     },
     "execution_count": 7,
     "metadata": {},
     "output_type": "execute_result"
    }
   ],
   "source": [
    "duckdb.__version__"
   ]
  },
  {
   "cell_type": "markdown",
   "id": "251cc70c",
   "metadata": {},
   "source": [
    "## Taxa pairs"
   ]
  },
  {
   "cell_type": "code",
   "execution_count": 4,
   "id": "b756809e",
   "metadata": {},
   "outputs": [
    {
     "data": {
      "text/plain": [
       "<duckdb.DuckDBPyConnection at 0x7f637a01eef0>"
      ]
     },
     "execution_count": 4,
     "metadata": {},
     "output_type": "execute_result"
    }
   ],
   "source": [
    "# Builds ValidProt taxa pair table using only paired taxa from learn2therm\n",
    "taxa_pairs_cmd = \"\"\"CREATE OR REPLACE TABLE vp_taxa_pairs AS SELECT * FROM taxa_pairs WHERE is_pair = True\"\"\"\n",
    "con.execute(taxa_pairs_cmd)"
   ]
  },
  {
   "cell_type": "code",
   "execution_count": 5,
   "id": "32fec700",
   "metadata": {},
   "outputs": [
    {
     "name": "stdout",
     "output_type": "stream",
     "text": [
      "   count(thermo_index)\n",
      "0                  199\n"
     ]
    },
    {
     "data": {
      "text/html": [
       "<div>\n",
       "<style scoped>\n",
       "    .dataframe tbody tr th:only-of-type {\n",
       "        vertical-align: middle;\n",
       "    }\n",
       "\n",
       "    .dataframe tbody tr th {\n",
       "        vertical-align: top;\n",
       "    }\n",
       "\n",
       "    .dataframe thead th {\n",
       "        text-align: right;\n",
       "    }\n",
       "</style>\n",
       "<table border=\"1\" class=\"dataframe\">\n",
       "  <thead>\n",
       "    <tr style=\"text-align: right;\">\n",
       "      <th></th>\n",
       "      <th>thermo_index</th>\n",
       "      <th>meso_index</th>\n",
       "      <th>local_gap_compressed_percent_id</th>\n",
       "      <th>scaled_local_query_percent_id</th>\n",
       "      <th>scaled_local_symmetric_percent_id</th>\n",
       "      <th>local_E_value</th>\n",
       "      <th>query_align_start</th>\n",
       "      <th>query_align_end</th>\n",
       "      <th>subject_align_end</th>\n",
       "      <th>subject_align_start</th>\n",
       "      <th>query_align_len</th>\n",
       "      <th>query_align_cov</th>\n",
       "      <th>subject_align_len</th>\n",
       "      <th>subject_align_cov</th>\n",
       "      <th>bit_score</th>\n",
       "      <th>taxa_pair_index</th>\n",
       "      <th>is_pair</th>\n",
       "    </tr>\n",
       "  </thead>\n",
       "  <tbody>\n",
       "    <tr>\n",
       "      <th>0</th>\n",
       "      <td>14062</td>\n",
       "      <td>12750</td>\n",
       "      <td>0.935336</td>\n",
       "      <td>0.934116</td>\n",
       "      <td>0.934116</td>\n",
       "      <td>0.0</td>\n",
       "      <td>8</td>\n",
       "      <td>1533</td>\n",
       "      <td>1533</td>\n",
       "      <td>8</td>\n",
       "      <td>1526</td>\n",
       "      <td>0.995434</td>\n",
       "      <td>1526</td>\n",
       "      <td>0.995434</td>\n",
       "      <td>1214.0</td>\n",
       "      <td>617768</td>\n",
       "      <td>True</td>\n",
       "    </tr>\n",
       "  </tbody>\n",
       "</table>\n",
       "</div>"
      ],
      "text/plain": [
       "   thermo_index  meso_index  local_gap_compressed_percent_id  \\\n",
       "0         14062       12750                         0.935336   \n",
       "\n",
       "   scaled_local_query_percent_id  scaled_local_symmetric_percent_id  \\\n",
       "0                       0.934116                           0.934116   \n",
       "\n",
       "   local_E_value  query_align_start  query_align_end  subject_align_end  \\\n",
       "0            0.0                  8             1533               1533   \n",
       "\n",
       "   subject_align_start  query_align_len  query_align_cov  subject_align_len  \\\n",
       "0                    8             1526         0.995434               1526   \n",
       "\n",
       "   subject_align_cov  bit_score  taxa_pair_index  is_pair  \n",
       "0           0.995434     1214.0           617768     True  "
      ]
     },
     "execution_count": 5,
     "metadata": {},
     "output_type": "execute_result"
    }
   ],
   "source": [
    "print(con.execute(\"\"\"SELECT COUNT(thermo_index) FROM vp_taxa_pairs\"\"\").df())\n",
    "con.execute(\"\"\"SELECT * FROM vp_taxa_pairs LIMIT 1\"\"\").df()"
   ]
  },
  {
   "cell_type": "markdown",
   "id": "7b97e40a",
   "metadata": {},
   "source": [
    "## Taxa"
   ]
  },
  {
   "cell_type": "code",
   "execution_count": 6,
   "id": "534cd306",
   "metadata": {},
   "outputs": [
    {
     "data": {
      "text/plain": [
       "<duckdb.DuckDBPyConnection at 0x7f637a01eef0>"
      ]
     },
     "execution_count": 6,
     "metadata": {},
     "output_type": "execute_result"
    }
   ],
   "source": [
    "# Commands to identify all taxa that are implicated in learn2therm pairs.\n",
    "meso_cmd = \"\"\"SELECT DISTINCT meso_index\n",
    "FROM taxa_pairs\n",
    "WHERE is_pair = True\"\"\"\n",
    "\n",
    "thermo_cmd = \"\"\"SELECT DISTINCT thermo_index\n",
    "FROM taxa_pairs\n",
    "WHERE is_pair = True\"\"\"\n",
    "\n",
    "useful_thermo = con.execute(thermo_cmd).df()\n",
    "useful_meso = con.execute(meso_cmd).df()\n",
    "\n",
    "# Generates tuple object containing all relevant taxa\n",
    "useful_taxa = tuple([i for i in useful_meso['meso_index']] + [i for i in useful_thermo['thermo_index']])\n",
    "\n",
    "# Builds ValidProt taxa table using only paired taxa from learn2therm.\n",
    "taxa_cmd = f\"\"\"CREATE OR REPLACE TABLE vp_taxa AS SELECT * FROM taxa WHERE taxa_index IN {useful_taxa}\"\"\"\n",
    "con.execute(taxa_cmd)"
   ]
  },
  {
   "cell_type": "code",
   "execution_count": 7,
   "id": "1205dbcf",
   "metadata": {},
   "outputs": [
    {
     "name": "stdout",
     "output_type": "stream",
     "text": [
      "   count(taxa_index)\n",
      "0                250\n"
     ]
    },
    {
     "data": {
      "text/html": [
       "<div>\n",
       "<style scoped>\n",
       "    .dataframe tbody tr th:only-of-type {\n",
       "        vertical-align: middle;\n",
       "    }\n",
       "\n",
       "    .dataframe tbody tr th {\n",
       "        vertical-align: top;\n",
       "    }\n",
       "\n",
       "    .dataframe thead th {\n",
       "        text-align: right;\n",
       "    }\n",
       "</style>\n",
       "<table border=\"1\" class=\"dataframe\">\n",
       "  <thead>\n",
       "    <tr style=\"text-align: right;\">\n",
       "      <th></th>\n",
       "      <th>taxa_index</th>\n",
       "      <th>ncbi_taxid</th>\n",
       "      <th>record_name</th>\n",
       "      <th>filepath</th>\n",
       "      <th>taxonomy</th>\n",
       "      <th>organism</th>\n",
       "      <th>bacdive_id</th>\n",
       "      <th>ogt_scraped_string</th>\n",
       "      <th>seq_16srRNA</th>\n",
       "      <th>len_16s</th>\n",
       "      <th>ogt</th>\n",
       "      <th>thermophile_label</th>\n",
       "    </tr>\n",
       "  </thead>\n",
       "  <tbody>\n",
       "    <tr>\n",
       "      <th>0</th>\n",
       "      <td>31</td>\n",
       "      <td>400768</td>\n",
       "      <td>NZ_JAFBCF010000001</td>\n",
       "      <td>./data/refseq/bacteria/GCF_016907535.1_ASM1690...</td>\n",
       "      <td>Bacteria Actinobacteria Propionibacteriales Pr...</td>\n",
       "      <td>Microlunatus panaciterrae</td>\n",
       "      <td>12627</td>\n",
       "      <td>28</td>\n",
       "      <td>TCAACGGAGAGTTTGATCCTGGCTCAGGACGAACGCTGGCGGCGTG...</td>\n",
       "      <td>1519</td>\n",
       "      <td>28.0</td>\n",
       "      <td>False</td>\n",
       "    </tr>\n",
       "  </tbody>\n",
       "</table>\n",
       "</div>"
      ],
      "text/plain": [
       "   taxa_index  ncbi_taxid         record_name  \\\n",
       "0          31      400768  NZ_JAFBCF010000001   \n",
       "\n",
       "                                            filepath  \\\n",
       "0  ./data/refseq/bacteria/GCF_016907535.1_ASM1690...   \n",
       "\n",
       "                                            taxonomy  \\\n",
       "0  Bacteria Actinobacteria Propionibacteriales Pr...   \n",
       "\n",
       "                    organism  bacdive_id ogt_scraped_string  \\\n",
       "0  Microlunatus panaciterrae       12627                 28   \n",
       "\n",
       "                                         seq_16srRNA  len_16s   ogt  \\\n",
       "0  TCAACGGAGAGTTTGATCCTGGCTCAGGACGAACGCTGGCGGCGTG...     1519  28.0   \n",
       "\n",
       "   thermophile_label  \n",
       "0              False  "
      ]
     },
     "execution_count": 7,
     "metadata": {},
     "output_type": "execute_result"
    }
   ],
   "source": [
    "print(con.execute(\"\"\"SELECT COUNT(taxa_index) FROM vp_taxa\"\"\").df())\n",
    "con.execute(\"\"\"SELECT * FROM vp_taxa LIMIT 1\"\"\").df()"
   ]
  },
  {
   "cell_type": "markdown",
   "id": "91f4d828",
   "metadata": {},
   "source": [
    "## ogt and 16S filtered pairs"
   ]
  },
  {
   "cell_type": "code",
   "execution_count": 8,
   "id": "76cbadfc",
   "metadata": {},
   "outputs": [
    {
     "data": {
      "text/plain": [
       "<duckdb.DuckDBPyConnection at 0x7f637a01eef0>"
      ]
     },
     "execution_count": 8,
     "metadata": {},
     "output_type": "execute_result"
    }
   ],
   "source": [
    "min_ogt_diff = 20\n",
    "min_16s = 1300\n",
    "# Builds ValidProt table containing taxa pairs and their associated optimal growth temperatures (ogt). \n",
    "# Excludes short 16S sequences and pairs with ogt spread below cutoff value from function input.\n",
    "ogt_pairs_cmd = f\"\"\"CREATE OR REPLACE TABLE vp_ogt_taxa_pairs AS SELECT vp_taxa_pairs.*,\n",
    "                taxa_m.ogt AS meso_ogt,\n",
    "                taxa_t.ogt AS thermo_ogt,\n",
    "                taxa_t.ogt - taxa_m.ogt AS ogt_diff,\n",
    "                taxa_m.len_16s AS meso_16s_len,\n",
    "                taxa_t.len_16s AS thermo_16s_len\n",
    "                FROM vp_taxa_pairs\n",
    "                JOIN vp_taxa AS taxa_m ON (vp_taxa_pairs.meso_index = taxa_m.taxa_index)\n",
    "                JOIN vp_taxa AS taxa_t ON (vp_taxa_pairs.thermo_index = taxa_t.taxa_index)\n",
    "                WHERE ogt_diff >= {min_ogt_diff}\n",
    "                AND meso_16s_len >= {min_16s}\n",
    "                AND thermo_16s_len >= {min_16s}\"\"\"\n",
    "con.execute(ogt_pairs_cmd)"
   ]
  },
  {
   "cell_type": "code",
   "execution_count": 9,
   "id": "a61cc19f",
   "metadata": {},
   "outputs": [
    {
     "name": "stdout",
     "output_type": "stream",
     "text": [
      "   count(meso_index)\n",
      "0                253\n"
     ]
    },
    {
     "data": {
      "text/html": [
       "<div>\n",
       "<style scoped>\n",
       "    .dataframe tbody tr th:only-of-type {\n",
       "        vertical-align: middle;\n",
       "    }\n",
       "\n",
       "    .dataframe tbody tr th {\n",
       "        vertical-align: top;\n",
       "    }\n",
       "\n",
       "    .dataframe thead th {\n",
       "        text-align: right;\n",
       "    }\n",
       "</style>\n",
       "<table border=\"1\" class=\"dataframe\">\n",
       "  <thead>\n",
       "    <tr style=\"text-align: right;\">\n",
       "      <th></th>\n",
       "      <th>thermo_index</th>\n",
       "      <th>meso_index</th>\n",
       "      <th>local_gap_compressed_percent_id</th>\n",
       "      <th>scaled_local_query_percent_id</th>\n",
       "      <th>scaled_local_symmetric_percent_id</th>\n",
       "      <th>local_E_value</th>\n",
       "      <th>query_align_start</th>\n",
       "      <th>query_align_end</th>\n",
       "      <th>subject_align_end</th>\n",
       "      <th>subject_align_start</th>\n",
       "      <th>...</th>\n",
       "      <th>subject_align_len</th>\n",
       "      <th>subject_align_cov</th>\n",
       "      <th>bit_score</th>\n",
       "      <th>taxa_pair_index</th>\n",
       "      <th>is_pair</th>\n",
       "      <th>meso_ogt</th>\n",
       "      <th>thermo_ogt</th>\n",
       "      <th>ogt_diff</th>\n",
       "      <th>meso_16s_len</th>\n",
       "      <th>thermo_16s_len</th>\n",
       "    </tr>\n",
       "  </thead>\n",
       "  <tbody>\n",
       "    <tr>\n",
       "      <th>0</th>\n",
       "      <td>875</td>\n",
       "      <td>16030</td>\n",
       "      <td>0.917979</td>\n",
       "      <td>0.913782</td>\n",
       "      <td>0.909919</td>\n",
       "      <td>0.0</td>\n",
       "      <td>6</td>\n",
       "      <td>1531</td>\n",
       "      <td>1544</td>\n",
       "      <td>6</td>\n",
       "      <td>...</td>\n",
       "      <td>1539</td>\n",
       "      <td>0.996762</td>\n",
       "      <td>1098.0</td>\n",
       "      <td>32298</td>\n",
       "      <td>True</td>\n",
       "      <td>28.0</td>\n",
       "      <td>50.0</td>\n",
       "      <td>22.0</td>\n",
       "      <td>1544</td>\n",
       "      <td>1531</td>\n",
       "    </tr>\n",
       "  </tbody>\n",
       "</table>\n",
       "<p>1 rows × 22 columns</p>\n",
       "</div>"
      ],
      "text/plain": [
       "   thermo_index  meso_index  local_gap_compressed_percent_id  \\\n",
       "0           875       16030                         0.917979   \n",
       "\n",
       "   scaled_local_query_percent_id  scaled_local_symmetric_percent_id  \\\n",
       "0                       0.913782                           0.909919   \n",
       "\n",
       "   local_E_value  query_align_start  query_align_end  subject_align_end  \\\n",
       "0            0.0                  6             1531               1544   \n",
       "\n",
       "   subject_align_start  ...  subject_align_len  subject_align_cov  bit_score  \\\n",
       "0                    6  ...               1539           0.996762     1098.0   \n",
       "\n",
       "   taxa_pair_index  is_pair  meso_ogt  thermo_ogt  ogt_diff  meso_16s_len  \\\n",
       "0            32298     True      28.0        50.0      22.0          1544   \n",
       "\n",
       "   thermo_16s_len  \n",
       "0            1531  \n",
       "\n",
       "[1 rows x 22 columns]"
      ]
     },
     "execution_count": 9,
     "metadata": {},
     "output_type": "execute_result"
    }
   ],
   "source": [
    "print(con.execute(\"\"\"SELECT COUNT(meso_index) FROM vp_ogt_taxa_pairs\"\"\").df())\n",
    "con.execute(\"\"\"SELECT * FROM vp_ogt_taxa_pairs LIMIT 1\"\"\").df()"
   ]
  },
  {
   "cell_type": "markdown",
   "id": "1c5678c5",
   "metadata": {},
   "source": [
    "## Protein pairs"
   ]
  },
  {
   "cell_type": "code",
   "execution_count": 10,
   "id": "a009d714",
   "metadata": {},
   "outputs": [
    {
     "data": {
      "text/plain": [
       "<duckdb.DuckDBPyConnection at 0x7f637a01eef0>"
      ]
     },
     "execution_count": 10,
     "metadata": {},
     "output_type": "execute_result"
    }
   ],
   "source": [
    "# Builds ValidProt table containing protein pairs \n",
    "protein_pair_cmd = \"\"\"CREATE OR REPLACE TABLE vp_protein_pairs AS SELECT protein_pairs.*,\n",
    "                otp.local_gap_compressed_percent_id AS local_gap_compressed_percent_id_16s,\n",
    "                otp.scaled_local_query_percent_id AS scaled_local_query_percent_id_16s,\n",
    "                otp.scaled_local_symmetric_percent_id AS scaled_local_symmetric_percent_id_16s,\n",
    "                otp.query_align_cov AS query_align_cov_16s,\n",
    "                otp.subject_align_cov AS subject_align_cov_16s,\n",
    "                otp.bit_score AS bit_score_16s,\n",
    "                otp.meso_ogt AS m_ogt,\n",
    "                otp.thermo_ogt AS t_ogt,\n",
    "                otp.ogt_diff AS ogt_difference\n",
    "                FROM protein_pairs \n",
    "                INNER JOIN vp_ogt_taxa_pairs AS otp ON (protein_pairs.taxa_pair_index = otp.taxa_pair_index)\"\"\"\n",
    "\n",
    "con.execute(protein_pair_cmd)"
   ]
  },
  {
   "cell_type": "code",
   "execution_count": 11,
   "id": "9f309a7e",
   "metadata": {},
   "outputs": [
    {
     "name": "stdout",
     "output_type": "stream",
     "text": [
      "   count(meso_index)\n",
      "0                263\n"
     ]
    },
    {
     "data": {
      "text/html": [
       "<div>\n",
       "<style scoped>\n",
       "    .dataframe tbody tr th:only-of-type {\n",
       "        vertical-align: middle;\n",
       "    }\n",
       "\n",
       "    .dataframe tbody tr th {\n",
       "        vertical-align: top;\n",
       "    }\n",
       "\n",
       "    .dataframe thead th {\n",
       "        text-align: right;\n",
       "    }\n",
       "</style>\n",
       "<table border=\"1\" class=\"dataframe\">\n",
       "  <thead>\n",
       "    <tr style=\"text-align: right;\">\n",
       "      <th></th>\n",
       "      <th>thermo_protein_index</th>\n",
       "      <th>meso_protein_index</th>\n",
       "      <th>local_gap_compressed_percent_id</th>\n",
       "      <th>scaled_local_query_percent_id</th>\n",
       "      <th>scaled_local_symmetric_percent_id</th>\n",
       "      <th>local_E_value</th>\n",
       "      <th>query_align_start</th>\n",
       "      <th>query_align_end</th>\n",
       "      <th>subject_align_end</th>\n",
       "      <th>subject_align_start</th>\n",
       "      <th>...</th>\n",
       "      <th>taxa_pair_index</th>\n",
       "      <th>local_gap_compressed_percent_id_16s</th>\n",
       "      <th>scaled_local_query_percent_id_16s</th>\n",
       "      <th>scaled_local_symmetric_percent_id_16s</th>\n",
       "      <th>query_align_cov_16s</th>\n",
       "      <th>subject_align_cov_16s</th>\n",
       "      <th>bit_score_16s</th>\n",
       "      <th>m_ogt</th>\n",
       "      <th>t_ogt</th>\n",
       "      <th>ogt_difference</th>\n",
       "    </tr>\n",
       "  </thead>\n",
       "  <tbody>\n",
       "    <tr>\n",
       "      <th>0</th>\n",
       "      <td>875.2516</td>\n",
       "      <td>16030.1214</td>\n",
       "      <td>0.308725</td>\n",
       "      <td>0.166667</td>\n",
       "      <td>0.154882</td>\n",
       "      <td>0.0185</td>\n",
       "      <td>56</td>\n",
       "      <td>210</td>\n",
       "      <td>250</td>\n",
       "      <td>91</td>\n",
       "      <td>...</td>\n",
       "      <td>32298</td>\n",
       "      <td>0.917979</td>\n",
       "      <td>0.913782</td>\n",
       "      <td>0.909919</td>\n",
       "      <td>0.996734</td>\n",
       "      <td>0.996762</td>\n",
       "      <td>1098.0</td>\n",
       "      <td>28.0</td>\n",
       "      <td>50.0</td>\n",
       "      <td>22.0</td>\n",
       "    </tr>\n",
       "  </tbody>\n",
       "</table>\n",
       "<p>1 rows × 30 columns</p>\n",
       "</div>"
      ],
      "text/plain": [
       "  thermo_protein_index meso_protein_index  local_gap_compressed_percent_id  \\\n",
       "0             875.2516         16030.1214                         0.308725   \n",
       "\n",
       "   scaled_local_query_percent_id  scaled_local_symmetric_percent_id  \\\n",
       "0                       0.166667                           0.154882   \n",
       "\n",
       "   local_E_value  query_align_start  query_align_end  subject_align_end  \\\n",
       "0         0.0185                 56              210                250   \n",
       "\n",
       "   subject_align_start  ...  taxa_pair_index  \\\n",
       "0                   91  ...            32298   \n",
       "\n",
       "   local_gap_compressed_percent_id_16s  scaled_local_query_percent_id_16s  \\\n",
       "0                             0.917979                           0.913782   \n",
       "\n",
       "   scaled_local_symmetric_percent_id_16s  query_align_cov_16s  \\\n",
       "0                               0.909919             0.996734   \n",
       "\n",
       "   subject_align_cov_16s  bit_score_16s  m_ogt  t_ogt  ogt_difference  \n",
       "0               0.996762         1098.0   28.0   50.0            22.0  \n",
       "\n",
       "[1 rows x 30 columns]"
      ]
     },
     "execution_count": 11,
     "metadata": {},
     "output_type": "execute_result"
    }
   ],
   "source": [
    "print(con.execute(\"\"\"SELECT COUNT(meso_index) FROM vp_protein_pairs\"\"\").df())\n",
    "con.execute(\"\"\"SELECT * FROM vp_protein_pairs LIMIT 1\"\"\").df()"
   ]
  },
  {
   "cell_type": "code",
   "execution_count": 12,
   "id": "9b7d52d9",
   "metadata": {},
   "outputs": [
    {
     "data": {
      "text/plain": [
       "<duckdb.DuckDBPyConnection at 0x7f637a01eef0>"
      ]
     },
     "execution_count": 12,
     "metadata": {},
     "output_type": "execute_result"
    }
   ],
   "source": [
    "# Builds ValidProt table containing proteins that belong to taxa pairs from vp_taxa_pairs.\n",
    "prot_filt_cmd = \"\"\"CREATE OR REPLACE TABLE vp_proteins AS SELECT *\n",
    "FROM proteins\n",
    "WHERE protein_int_index IN (SELECT DISTINCT meso_protein_int_index FROM vp_protein_pairs) OR\n",
    "protein_int_index IN (SELECT DISTINCT thermo_protein_int_index FROM vp_protein_pairs)\n",
    "\"\"\"\n",
    "con.execute(prot_filt_cmd)"
   ]
  },
  {
   "cell_type": "code",
   "execution_count": 13,
   "id": "5fec1091",
   "metadata": {},
   "outputs": [
    {
     "name": "stdout",
     "output_type": "stream",
     "text": [
      "   count(protein_int_index)\n",
      "0                       264\n"
     ]
    },
    {
     "data": {
      "text/html": [
       "<div>\n",
       "<style scoped>\n",
       "    .dataframe tbody tr th:only-of-type {\n",
       "        vertical-align: middle;\n",
       "    }\n",
       "\n",
       "    .dataframe tbody tr th {\n",
       "        vertical-align: top;\n",
       "    }\n",
       "\n",
       "    .dataframe thead th {\n",
       "        text-align: right;\n",
       "    }\n",
       "</style>\n",
       "<table border=\"1\" class=\"dataframe\">\n",
       "  <thead>\n",
       "    <tr style=\"text-align: right;\">\n",
       "      <th></th>\n",
       "      <th>taxa_index</th>\n",
       "      <th>protein_index</th>\n",
       "      <th>protein_seq</th>\n",
       "      <th>protein_desc</th>\n",
       "      <th>protein_len</th>\n",
       "      <th>protein_int_index</th>\n",
       "    </tr>\n",
       "  </thead>\n",
       "  <tbody>\n",
       "    <tr>\n",
       "      <th>0</th>\n",
       "      <td>7626</td>\n",
       "      <td>7626.1967</td>\n",
       "      <td>MATLKAQHLAKSYKGRQVVRDVSLSIESGQIVGLLGPNGAGKTTCF...</td>\n",
       "      <td>LPS export ABC transporter ATP-binding protein</td>\n",
       "      <td>241</td>\n",
       "      <td>20546221</td>\n",
       "    </tr>\n",
       "  </tbody>\n",
       "</table>\n",
       "</div>"
      ],
      "text/plain": [
       "   taxa_index protein_index  \\\n",
       "0        7626     7626.1967   \n",
       "\n",
       "                                         protein_seq  \\\n",
       "0  MATLKAQHLAKSYKGRQVVRDVSLSIESGQIVGLLGPNGAGKTTCF...   \n",
       "\n",
       "                                     protein_desc  protein_len  \\\n",
       "0  LPS export ABC transporter ATP-binding protein          241   \n",
       "\n",
       "   protein_int_index  \n",
       "0           20546221  "
      ]
     },
     "execution_count": 13,
     "metadata": {},
     "output_type": "execute_result"
    }
   ],
   "source": [
    "print(con.execute(\"\"\"SELECT COUNT(protein_int_index) FROM vp_proteins\"\"\").df())\n",
    "con.execute(\"\"\"SELECT * FROM vp_proteins LIMIT 1\"\"\").df()"
   ]
  },
  {
   "cell_type": "markdown",
   "id": "cbd73530",
   "metadata": {},
   "source": [
    "## Final table"
   ]
  },
  {
   "cell_type": "code",
   "execution_count": 14,
   "id": "de191351",
   "metadata": {},
   "outputs": [
    {
     "data": {
      "text/plain": [
       "<duckdb.DuckDBPyConnection at 0x7f637a01eef0>"
      ]
     },
     "execution_count": 14,
     "metadata": {},
     "output_type": "execute_result"
    }
   ],
   "source": [
    "big_table_cmd = \"\"\"CREATE OR REPLACE TABLE vp_final AS SELECT vp_protein_pairs.*,\n",
    "proteins_m.protein_seq AS m_protein_seq,\n",
    "proteins_t.protein_seq AS t_protein_seq,\n",
    "proteins_m.protein_desc AS m_protein_desc,\n",
    "proteins_t.protein_desc AS t_protein_desc,\n",
    "proteins_m.protein_len AS m_protein_len,\n",
    "proteins_t.protein_len AS t_protein_len\n",
    "FROM vp_protein_pairs\n",
    "JOIN vp_proteins AS proteins_m ON (vp_protein_pairs.meso_protein_int_index = proteins_m.protein_int_index)\n",
    "JOIN vp_proteins AS proteins_t ON (vp_protein_pairs.thermo_protein_int_index = proteins_t.protein_int_index)\"\"\"\n",
    "\n",
    "con.execute(big_table_cmd)"
   ]
  },
  {
   "cell_type": "code",
   "execution_count": 15,
   "id": "5a4cb42f",
   "metadata": {},
   "outputs": [
    {
     "name": "stdout",
     "output_type": "stream",
     "text": [
      "   count(meso_protein_int_index)\n",
      "0                            269\n"
     ]
    },
    {
     "data": {
      "text/html": [
       "<div>\n",
       "<style scoped>\n",
       "    .dataframe tbody tr th:only-of-type {\n",
       "        vertical-align: middle;\n",
       "    }\n",
       "\n",
       "    .dataframe tbody tr th {\n",
       "        vertical-align: top;\n",
       "    }\n",
       "\n",
       "    .dataframe thead th {\n",
       "        text-align: right;\n",
       "    }\n",
       "</style>\n",
       "<table border=\"1\" class=\"dataframe\">\n",
       "  <thead>\n",
       "    <tr style=\"text-align: right;\">\n",
       "      <th></th>\n",
       "      <th>thermo_protein_index</th>\n",
       "      <th>meso_protein_index</th>\n",
       "      <th>local_gap_compressed_percent_id</th>\n",
       "      <th>scaled_local_query_percent_id</th>\n",
       "      <th>scaled_local_symmetric_percent_id</th>\n",
       "      <th>local_E_value</th>\n",
       "      <th>query_align_start</th>\n",
       "      <th>query_align_end</th>\n",
       "      <th>subject_align_end</th>\n",
       "      <th>subject_align_start</th>\n",
       "      <th>...</th>\n",
       "      <th>bit_score_16s</th>\n",
       "      <th>m_ogt</th>\n",
       "      <th>t_ogt</th>\n",
       "      <th>ogt_difference</th>\n",
       "      <th>m_protein_seq</th>\n",
       "      <th>t_protein_seq</th>\n",
       "      <th>m_protein_desc</th>\n",
       "      <th>t_protein_desc</th>\n",
       "      <th>m_protein_len</th>\n",
       "      <th>t_protein_len</th>\n",
       "    </tr>\n",
       "  </thead>\n",
       "  <tbody>\n",
       "    <tr>\n",
       "      <th>0</th>\n",
       "      <td>7134.186</td>\n",
       "      <td>14485.58</td>\n",
       "      <td>0.384106</td>\n",
       "      <td>0.246809</td>\n",
       "      <td>0.216418</td>\n",
       "      <td>4.740000e-07</td>\n",
       "      <td>30</td>\n",
       "      <td>183</td>\n",
       "      <td>256</td>\n",
       "      <td>89</td>\n",
       "      <td>...</td>\n",
       "      <td>1051.0</td>\n",
       "      <td>27.5</td>\n",
       "      <td>52.5</td>\n",
       "      <td>25.0</td>\n",
       "      <td>MTRPEEPIEEVRVDVESARAANRANWDDRARVHADSTEYDLPGLAA...</td>\n",
       "      <td>MIWRLVRAALEEQVEVAARSVLDVVDAGGGTGNLAVPIARLGHRVT...</td>\n",
       "      <td>methyltransferase domain-containing protein</td>\n",
       "      <td>methyltransferase domain-containing protein</td>\n",
       "      <td>301</td>\n",
       "      <td>235</td>\n",
       "    </tr>\n",
       "  </tbody>\n",
       "</table>\n",
       "<p>1 rows × 36 columns</p>\n",
       "</div>"
      ],
      "text/plain": [
       "  thermo_protein_index meso_protein_index  local_gap_compressed_percent_id  \\\n",
       "0             7134.186           14485.58                         0.384106   \n",
       "\n",
       "   scaled_local_query_percent_id  scaled_local_symmetric_percent_id  \\\n",
       "0                       0.246809                           0.216418   \n",
       "\n",
       "   local_E_value  query_align_start  query_align_end  subject_align_end  \\\n",
       "0   4.740000e-07                 30              183                256   \n",
       "\n",
       "   subject_align_start  ...  bit_score_16s  m_ogt  t_ogt  ogt_difference  \\\n",
       "0                   89  ...         1051.0   27.5   52.5            25.0   \n",
       "\n",
       "                                       m_protein_seq  \\\n",
       "0  MTRPEEPIEEVRVDVESARAANRANWDDRARVHADSTEYDLPGLAA...   \n",
       "\n",
       "                                       t_protein_seq  \\\n",
       "0  MIWRLVRAALEEQVEVAARSVLDVVDAGGGTGNLAVPIARLGHRVT...   \n",
       "\n",
       "                                m_protein_desc  \\\n",
       "0  methyltransferase domain-containing protein   \n",
       "\n",
       "                                t_protein_desc  m_protein_len  t_protein_len  \n",
       "0  methyltransferase domain-containing protein            301            235  \n",
       "\n",
       "[1 rows x 36 columns]"
      ]
     },
     "execution_count": 15,
     "metadata": {},
     "output_type": "execute_result"
    }
   ],
   "source": [
    "print(con.execute(\"\"\"SELECT COUNT(meso_protein_int_index) FROM vp_final\"\"\").df())\n",
    "con.execute(\"\"\"SELECT * FROM vp_final LIMIT 1\"\"\").df()"
   ]
  },
  {
   "cell_type": "code",
   "execution_count": 16,
   "id": "6e6f422e",
   "metadata": {},
   "outputs": [],
   "source": [
    "con.commit()\n",
    "con.close()"
   ]
  },
  {
   "cell_type": "code",
   "execution_count": 18,
   "id": "f71637be",
   "metadata": {},
   "outputs": [
    {
     "data": {
      "text/html": [
       "<div>\n",
       "<style scoped>\n",
       "    .dataframe tbody tr th:only-of-type {\n",
       "        vertical-align: middle;\n",
       "    }\n",
       "\n",
       "    .dataframe tbody tr th {\n",
       "        vertical-align: top;\n",
       "    }\n",
       "\n",
       "    .dataframe thead th {\n",
       "        text-align: right;\n",
       "    }\n",
       "</style>\n",
       "<table border=\"1\" class=\"dataframe\">\n",
       "  <thead>\n",
       "    <tr style=\"text-align: right;\">\n",
       "      <th></th>\n",
       "      <th>table_name</th>\n",
       "    </tr>\n",
       "  </thead>\n",
       "  <tbody>\n",
       "    <tr>\n",
       "      <th>0</th>\n",
       "      <td>vp_final</td>\n",
       "    </tr>\n",
       "    <tr>\n",
       "      <th>1</th>\n",
       "      <td>vp_proteins</td>\n",
       "    </tr>\n",
       "    <tr>\n",
       "      <th>2</th>\n",
       "      <td>vp_protein_pairs</td>\n",
       "    </tr>\n",
       "    <tr>\n",
       "      <th>3</th>\n",
       "      <td>vp_ogt_taxa_pairs</td>\n",
       "    </tr>\n",
       "    <tr>\n",
       "      <th>4</th>\n",
       "      <td>vp_taxa</td>\n",
       "    </tr>\n",
       "    <tr>\n",
       "      <th>5</th>\n",
       "      <td>vp_taxa_pairs</td>\n",
       "    </tr>\n",
       "    <tr>\n",
       "      <th>6</th>\n",
       "      <td>protein_pairs</td>\n",
       "    </tr>\n",
       "    <tr>\n",
       "      <th>7</th>\n",
       "      <td>proteins</td>\n",
       "    </tr>\n",
       "    <tr>\n",
       "      <th>8</th>\n",
       "      <td>taxa_pairs</td>\n",
       "    </tr>\n",
       "    <tr>\n",
       "      <th>9</th>\n",
       "      <td>taxa</td>\n",
       "    </tr>\n",
       "  </tbody>\n",
       "</table>\n",
       "</div>"
      ],
      "text/plain": [
       "          table_name\n",
       "0           vp_final\n",
       "1        vp_proteins\n",
       "2   vp_protein_pairs\n",
       "3  vp_ogt_taxa_pairs\n",
       "4            vp_taxa\n",
       "5      vp_taxa_pairs\n",
       "6      protein_pairs\n",
       "7           proteins\n",
       "8         taxa_pairs\n",
       "9               taxa"
      ]
     },
     "execution_count": 18,
     "metadata": {},
     "output_type": "execute_result"
    }
   ],
   "source": [
    "con.execute(\"\"\"SELECT TABLE_NAME\n",
    "FROM INFORMATION_SCHEMA.TABLES\n",
    "WHERE TABLE_TYPE='BASE TABLE'\"\"\").df()"
   ]
  },
  {
   "cell_type": "code",
   "execution_count": 2,
   "id": "fb4a34f7",
   "metadata": {},
   "outputs": [
    {
     "name": "stdout",
     "output_type": "stream",
     "text": [
      "0\n",
      "1\n",
      "2\n",
      "3\n",
      "4\n",
      "5\n",
      "6\n",
      "7\n",
      "8\n",
      "9\n"
     ]
    }
   ],
   "source": [
    "for i in range(0,10):\n",
    "    print(i)"
   ]
  },
  {
   "cell_type": "code",
   "execution_count": 4,
   "id": "4eac01b0",
   "metadata": {},
   "outputs": [
    {
     "data": {
      "text/plain": [
       "'../c0_preprocessing'"
      ]
     },
     "execution_count": 4,
     "metadata": {},
     "output_type": "execute_result"
    }
   ],
   "source": [
    "import os\n",
    "os.path.join('..','c0_preprocessing')"
   ]
  },
  {
   "cell_type": "code",
   "execution_count": 7,
   "id": "15cd9380",
   "metadata": {},
   "outputs": [],
   "source": [
    "import duckdb\n",
    "\n",
    "con = duckdb.connect('validprot_empty')"
   ]
  },
  {
   "cell_type": "code",
   "execution_count": 8,
   "id": "c1e41747",
   "metadata": {},
   "outputs": [],
   "source": [
    "con.commit()\n",
    "con.close()"
   ]
  },
  {
   "cell_type": "code",
   "execution_count": null,
   "id": "b3890ab3",
   "metadata": {},
   "outputs": [],
   "source": []
  }
 ],
 "metadata": {
  "kernelspec": {
   "display_name": "Python 3 (ipykernel)",
   "language": "python",
   "name": "python3"
  },
  "language_info": {
   "codemirror_mode": {
    "name": "ipython",
    "version": 3
   },
   "file_extension": ".py",
   "mimetype": "text/x-python",
   "name": "python",
   "nbconvert_exporter": "python",
   "pygments_lexer": "ipython3",
   "version": "3.10.8"
  }
 },
 "nbformat": 4,
 "nbformat_minor": 5
}
