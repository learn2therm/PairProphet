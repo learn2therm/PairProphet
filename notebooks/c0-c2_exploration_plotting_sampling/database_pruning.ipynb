{
 "cells": [
  {
   "cell_type": "markdown",
   "id": "a0ee121d",
   "metadata": {},
   "source": [
    "## Database pruning notebook\n",
    "\n",
    "__Do not attempt to run this code unless you are trying to reproduce data generated from the original l2t database Feb. 2023.__ In that case you will need to change path in connect_db.\n",
    "Component 0 is written to do all of the table creation in the original database without deleting the original.\n",
    "\n",
    "This is basically a practice notebook for c0."
   ]
  },
  {
   "cell_type": "code",
   "execution_count": 7,
   "id": "5e0c3d10",
   "metadata": {},
   "outputs": [],
   "source": [
    "# con.commit()\n",
    "# con.close()"
   ]
  },
  {
   "cell_type": "code",
   "execution_count": 2,
   "id": "8c07e4c9",
   "metadata": {},
   "outputs": [],
   "source": [
    "import pandas as pd\n",
    "import numpy as np\n",
    "import duckdb\n",
    "import time"
   ]
  },
  {
   "cell_type": "code",
   "execution_count": 3,
   "id": "7bca55fb",
   "metadata": {},
   "outputs": [],
   "source": [
    "# Will be part of c0\n",
    "def connect_db(path: str):\n",
    "    '''Runs duckdb.connect() function on database path with timing. Returns a \n",
    "duckdb.DuckDBPyConnection object'''\n",
    "    \n",
    "    st = time.time()\n",
    "\n",
    "    print('Connecting to database...')\n",
    "    con = duckdb.connect(path)\n",
    "\n",
    "    et = time.time()\n",
    "    elapsed_time = et - st\n",
    "    print(f'Connection established! Execution time: {elapsed_time} seconds')\n",
    "    return con"
   ]
  },
  {
   "cell_type": "code",
   "execution_count": 5,
   "id": "76cf0b07",
   "metadata": {},
   "outputs": [
    {
     "name": "stdout",
     "output_type": "stream",
     "text": [
      "Connecting to database...\n",
      "Connection established! Execution time: 16.785990953445435 seconds\n"
     ]
    }
   ],
   "source": [
    "con = connect_db('/mnt/c/Users/Ryan/Documents/database')"
   ]
  },
  {
   "cell_type": "markdown",
   "id": "1fde6b68",
   "metadata": {},
   "source": [
    "__Initial sizes__\n",
    "\n",
    "proteins: 6 x 65427472 <br/>\n",
    "protein_pairs: 21 x 181500502 <br/>\n",
    "taxa: 10 x 16664 <br/>\n",
    "taxa_pairs: 17 x 750633"
   ]
  },
  {
   "cell_type": "code",
   "execution_count": 31,
   "id": "01ffcdf1",
   "metadata": {},
   "outputs": [
    {
     "data": {
      "text/plain": [
       "<duckdb.DuckDBPyConnection at 0x7f88f71e78b0>"
      ]
     },
     "execution_count": 31,
     "metadata": {},
     "output_type": "execute_result"
    }
   ],
   "source": [
    "cmd = \"\"\"CREATE OR REPLACE TABLE proteins_temp as SELECT * FROM proteins\"\"\"\n",
    "con.execute(cmd)"
   ]
  },
  {
   "cell_type": "code",
   "execution_count": 35,
   "id": "7ff80df1",
   "metadata": {},
   "outputs": [
    {
     "data": {
      "text/html": [
       "<div>\n",
       "<style scoped>\n",
       "    .dataframe tbody tr th:only-of-type {\n",
       "        vertical-align: middle;\n",
       "    }\n",
       "\n",
       "    .dataframe tbody tr th {\n",
       "        vertical-align: top;\n",
       "    }\n",
       "\n",
       "    .dataframe thead th {\n",
       "        text-align: right;\n",
       "    }\n",
       "</style>\n",
       "<table border=\"1\" class=\"dataframe\">\n",
       "  <thead>\n",
       "    <tr style=\"text-align: right;\">\n",
       "      <th></th>\n",
       "      <th>taxa_index</th>\n",
       "      <th>protein_index</th>\n",
       "      <th>protein_seq</th>\n",
       "      <th>protein_desc</th>\n",
       "      <th>protein_len</th>\n",
       "      <th>protein_int_index</th>\n",
       "    </tr>\n",
       "  </thead>\n",
       "  <tbody>\n",
       "    <tr>\n",
       "      <th>0</th>\n",
       "      <td>4417</td>\n",
       "      <td>4417.0</td>\n",
       "      <td>MSKYDEALARMQLRSNEAFERITGQTVEQYQQEQRQNRMPTTAQLA...</td>\n",
       "      <td>hypothetical protein</td>\n",
       "      <td>4602</td>\n",
       "      <td>0</td>\n",
       "    </tr>\n",
       "  </tbody>\n",
       "</table>\n",
       "</div>"
      ],
      "text/plain": [
       "   taxa_index protein_index  \\\n",
       "0        4417        4417.0   \n",
       "\n",
       "                                         protein_seq          protein_desc  \\\n",
       "0  MSKYDEALARMQLRSNEAFERITGQTVEQYQQEQRQNRMPTTAQLA...  hypothetical protein   \n",
       "\n",
       "   protein_len  protein_int_index  \n",
       "0         4602                  0  "
      ]
     },
     "execution_count": 35,
     "metadata": {},
     "output_type": "execute_result"
    }
   ],
   "source": [
    "con.execute(\"\"\"SELECT * FROM proteins LIMIT 1\"\"\").df()"
   ]
  },
  {
   "cell_type": "markdown",
   "id": "2d14aeae",
   "metadata": {},
   "source": [
    "#### First remove unnecessary columns from all 4 data tables."
   ]
  },
  {
   "cell_type": "code",
   "execution_count": 33,
   "id": "7bedabee",
   "metadata": {},
   "outputs": [
    {
     "name": "stdout",
     "output_type": "stream",
     "text": [
      "Table proteins_temp cleaned.\n"
     ]
    },
    {
     "ename": "CatalogException",
     "evalue": "Catalog Error: Table with name protein_pairs_temp does not exist!\nDid you mean \"protein_pairs\"?",
     "output_type": "error",
     "traceback": [
      "\u001b[0;31m---------------------------------------------------------------------------\u001b[0m",
      "\u001b[0;31mCatalogException\u001b[0m                          Traceback (most recent call last)",
      "Cell \u001b[0;32mIn[33], line 15\u001b[0m\n\u001b[1;32m     11\u001b[0m \u001b[38;5;28;01mfor\u001b[39;00m col \u001b[38;5;129;01min\u001b[39;00m tables[table]:\n\u001b[1;32m     12\u001b[0m     cmd \u001b[38;5;241m=\u001b[39m \u001b[38;5;124mf\u001b[39m\u001b[38;5;124m\"\"\"\u001b[39m\u001b[38;5;124mALTER TABLE \u001b[39m\u001b[38;5;132;01m{\u001b[39;00mtable\u001b[38;5;132;01m}\u001b[39;00m\u001b[38;5;124m \u001b[39m\n\u001b[1;32m     13\u001b[0m \u001b[38;5;124m    DROP COLUMN IF EXISTS \u001b[39m\u001b[38;5;132;01m{\u001b[39;00mcol\u001b[38;5;132;01m}\u001b[39;00m\u001b[38;5;124m\"\"\"\u001b[39m\n\u001b[0;32m---> 15\u001b[0m     \u001b[43mcon\u001b[49m\u001b[38;5;241;43m.\u001b[39;49m\u001b[43mexecute\u001b[49m\u001b[43m(\u001b[49m\u001b[43mcmd\u001b[49m\u001b[43m)\u001b[49m\n\u001b[1;32m     16\u001b[0m \u001b[38;5;28mprint\u001b[39m(\u001b[38;5;124mf\u001b[39m\u001b[38;5;124m'\u001b[39m\u001b[38;5;124mTable \u001b[39m\u001b[38;5;132;01m{\u001b[39;00mtable\u001b[38;5;132;01m}\u001b[39;00m\u001b[38;5;124m cleaned.\u001b[39m\u001b[38;5;124m'\u001b[39m)\n",
      "\u001b[0;31mCatalogException\u001b[0m: Catalog Error: Table with name protein_pairs_temp does not exist!\nDid you mean \"protein_pairs\"?"
     ]
    }
   ],
   "source": [
    "# proteins_del = ['protein_index']\n",
    "# protein_pairs_del = ['thermo_protein_index', 'meso_protein_index', 'local_E_value', 'query_align_start', 'query_align_end', \n",
    "#                      'subject_align_start', 'subject_align_end']\n",
    "# taxa_del = ['filepath','ogt_scraped_string']\n",
    "# taxa_pairs_del = ['local_E_value', 'query_align_start', 'query_align_end', 'subject_align_start', 'subject_align_end']\n",
    "\n",
    "# tables = {'proteins_temp':proteins_del, 'protein_pairs_temp':protein_pairs_del, 'taxa_temp':taxa_del, 'taxa_pairs_temp':taxa_pairs_del}\n",
    "\n",
    "# # Drop unnecessary columns from tables\n",
    "# for table in tables:\n",
    "#     for col in tables[table]:\n",
    "#         cmd = f\"\"\"ALTER TABLE {table} \n",
    "#         DROP COLUMN IF EXISTS {col}\"\"\"\n",
    "\n",
    "#         con.execute(cmd)\n",
    "#     print(f'Table {table} cleaned.')"
   ]
  },
  {
   "cell_type": "markdown",
   "id": "acca528e",
   "metadata": {},
   "source": [
    "__New sizes__\n",
    "\n",
    "proteins: 5 x 65427472 <br/>\n",
    "protein_pairs: 14 x 181500502 <br/>\n",
    "taxa: 8 x 16664 <br/>\n",
    "taxa_pairs: 12 x 750633"
   ]
  },
  {
   "cell_type": "markdown",
   "id": "d1e52c4b",
   "metadata": {},
   "source": [
    "#### Remove unnecessary taxa and taxa non-pairs"
   ]
  },
  {
   "cell_type": "code",
   "execution_count": null,
   "id": "9077410a",
   "metadata": {},
   "outputs": [],
   "source": [
    "taxa_pairs_cmd = \"\"\"CREATE OR REPLACE TABLE useful_taxa_pairs AS SELECT * FROM taxa_pairs_temp WHERE is_pair = True\"\"\"\n",
    "con.execute(taxa_pairs_cmd)\n",
    "\n",
    "con.execute(\"\"\"DROP TABLE IF EXISTS taxa_pairs\"\"\")\n",
    "\n",
    "meso_cmd = \"\"\"SELECT DISTINCT meso_index\n",
    "FROM useful_taxa_pairs\"\"\"\n",
    "\n",
    "useful_meso = con.execute(meso_cmd).df()\n",
    "\n",
    "thermo_cmd = \"\"\"SELECT DISTINCT thermo_index\n",
    "FROM useful_taxa_pairs\"\"\"\n",
    "\n",
    "useful_thermo = con.execute(thermo_cmd).df()\n",
    "useful_taxa = tuple([i for i in useful_meso['meso_index']] + [i for i in useful_thermo['thermo_index']])"
   ]
  },
  {
   "cell_type": "code",
   "execution_count": 41,
   "id": "7a6dfd28",
   "metadata": {},
   "outputs": [],
   "source": [
    "taxa_pairs_cmd = \"\"\"CREATE OR REPLACE TABLE useful_taxa_pairs AS SELECT * FROM taxa_pairs WHERE is_pair = True\"\"\"\n",
    "con.execute(taxa_pairs_cmd)\n",
    "\n",
    "meso_cmd = \"\"\"SELECT DISTINCT meso_index\n",
    "FROM useful_taxa_pairs\"\"\"\n",
    "\n",
    "useful_meso = con.execute(meso_cmd).df()\n",
    "\n",
    "thermo_cmd = \"\"\"SELECT DISTINCT thermo_index\n",
    "FROM useful_taxa_pairs\"\"\"\n",
    "\n",
    "useful_thermo = con.execute(thermo_cmd).df()\n",
    "useful_taxa = tuple([i for i in useful_meso['meso_index']] + [i for i in useful_thermo['thermo_index']])"
   ]
  },
  {
   "cell_type": "code",
   "execution_count": 7,
   "id": "019a5d49",
   "metadata": {},
   "outputs": [
    {
     "data": {
      "text/plain": [
       "<duckdb.DuckDBPyConnection at 0x7f9ca555d730>"
      ]
     },
     "execution_count": 7,
     "metadata": {},
     "output_type": "execute_result"
    }
   ],
   "source": [
    "taxa_cmd = f\"\"\"CREATE OR REPLACE TABLE useful_taxa AS SELECT * FROM taxa WHERE taxa_index IN {useful_taxa}\"\"\"\n",
    "\n",
    "con.execute(taxa_cmd)\n"
   ]
  },
  {
   "cell_type": "markdown",
   "id": "e10c5cbe",
   "metadata": {},
   "source": [
    "__New sizes__\n",
    "\n",
    "proteins: 5 x 65427472 <br/>\n",
    "protein_pairs: 14 x 181500502 <br/>\n",
    "taxa -> useful_taxa: 8 x 2533 <br/>\n",
    "taxa_pairs -> useful taxa_pairs: 12 x 13784 <br/>\n",
    "\n",
    "__Remove pairs with <20 C ogt difference__"
   ]
  },
  {
   "cell_type": "code",
   "execution_count": 39,
   "id": "7baf39ac",
   "metadata": {},
   "outputs": [
    {
     "data": {
      "text/plain": [
       "<duckdb.DuckDBPyConnection at 0x7f9ca555d730>"
      ]
     },
     "execution_count": 39,
     "metadata": {},
     "output_type": "execute_result"
    }
   ],
   "source": [
    "con.execute(f\"\"\"CREATE OR REPLACE TABLE ogt_taxa_pairs AS SELECT taxa_pairs.*,\n",
    "taxa_m.ogt AS meso_ogt,\n",
    "taxa_t.ogt AS thermo_ogt,\n",
    "taxa_t.ogt - taxa_m.ogt AS ogt_diff,\n",
    "taxa_m.len_16s AS meso_16s_len,\n",
    "taxa_t.len_16s AS thermo_16s_len\n",
    "FROM taxa_pairs\n",
    "JOIN taxa AS taxa_m ON (taxa_pairs.meso_index = taxa_m.taxa_index)\n",
    "JOIN taxa AS taxa_t ON (taxa_pairs.thermo_index = taxa_t.taxa_index)\n",
    "WHERE taxa_pairs.is_pair = True\n",
    "AND meso_16s_len >= 1300\n",
    "AND thermo_16s_len >= 1300\"\"\")\n",
    "\n",
    "con.execute(\"\"\"CREATE OR REPLACE TABLE wide_taxa_pairs AS SELECT * FROM ogt_taxa_pairs WHERE (ogt_diff >= 20)\"\"\")"
   ]
  },
  {
   "cell_type": "code",
   "execution_count": 41,
   "id": "e9d82f62",
   "metadata": {},
   "outputs": [
    {
     "data": {
      "text/html": [
       "<div>\n",
       "<style scoped>\n",
       "    .dataframe tbody tr th:only-of-type {\n",
       "        vertical-align: middle;\n",
       "    }\n",
       "\n",
       "    .dataframe tbody tr th {\n",
       "        vertical-align: top;\n",
       "    }\n",
       "\n",
       "    .dataframe thead th {\n",
       "        text-align: right;\n",
       "    }\n",
       "</style>\n",
       "<table border=\"1\" class=\"dataframe\">\n",
       "  <thead>\n",
       "    <tr style=\"text-align: right;\">\n",
       "      <th></th>\n",
       "      <th>count(meso_ogt)</th>\n",
       "    </tr>\n",
       "  </thead>\n",
       "  <tbody>\n",
       "    <tr>\n",
       "      <th>0</th>\n",
       "      <td>4434</td>\n",
       "    </tr>\n",
       "  </tbody>\n",
       "</table>\n",
       "</div>"
      ],
      "text/plain": [
       "   count(meso_ogt)\n",
       "0             4434"
      ]
     },
     "execution_count": 41,
     "metadata": {},
     "output_type": "execute_result"
    }
   ],
   "source": [
    "con.execute(\"\"\"SELECT COUNT(meso_ogt) FROM wide_taxa_pairs\"\"\").df()"
   ]
  },
  {
   "cell_type": "code",
   "execution_count": 42,
   "id": "dcff1071",
   "metadata": {},
   "outputs": [
    {
     "data": {
      "text/plain": [
       "Index(['thermo_index', 'meso_index', 'local_gap_compressed_percent_id',\n",
       "       'scaled_local_query_percent_id', 'scaled_local_symmetric_percent_id',\n",
       "       'query_align_len', 'query_align_cov', 'subject_align_len',\n",
       "       'subject_align_cov', 'bit_score', 'taxa_pair_index', 'is_pair',\n",
       "       'meso_ogt', 'thermo_ogt', 'ogt_diff', 'meso_16s_len', 'thermo_16s_len'],\n",
       "      dtype='object')"
      ]
     },
     "execution_count": 42,
     "metadata": {},
     "output_type": "execute_result"
    }
   ],
   "source": [
    "con.execute(\"\"\"SELECT * FROM wide_taxa_pairs LIMIT 1\"\"\").df().columns"
   ]
  },
  {
   "cell_type": "markdown",
   "id": "7d534b17",
   "metadata": {},
   "source": [
    "__There are 4434 taxa pairs in this database with 20 or greater difference in growth temp and a full 16S read (>= 1300 bp).__\n",
    "\n",
    "__New sizes__\n",
    "\n",
    "proteins: 5 x 65427472 <br/>\n",
    "protein_pairs: 14 x 181500502 <br/>\n",
    "useful_taxa -> merged away\n",
    "ogt_taxa_pairs -> wide_taxa_pairs: 17 x 4434 <br/>\n",
    "\n",
    "We should be left with about 50 million protein pairs."
   ]
  },
  {
   "cell_type": "code",
   "execution_count": 36,
   "id": "4eb59a9f",
   "metadata": {},
   "outputs": [],
   "source": [
    "final_cmd = \"\"\"CREATE OR REPLACE TABLE final_dataset AS SELECT protein_pairs.*,\n",
    "wtp.local_gap_compressed_percent_id AS local_gap_compressed_percent_id_16s,\n",
    "wtp.scaled_local_query_percent_id AS scaled_local_query_percent_id_16s,\n",
    "wtp.scaled_local_symmetric_percent_id AS scaled_local_symmetric_percent_id_16s,\n",
    "wtp.query_align_cov AS query_align_cov_16s,\n",
    "wtp.subject_align_cov AS subject_align_cov_16s,\n",
    "wtp.bit_score AS bit_score_16s,\n",
    "wtp.meso_ogt AS m_ogt,\n",
    "wtp.thermo_ogt AS t_ogt,\n",
    "wtp.ogt_diff AS ogt_difference\n",
    "FROM protein_pairs \n",
    "INNER JOIN wide_taxa_pairs AS wtp ON (protein_pairs.taxa_pair_index = wtp.taxa_pair_index)\n",
    "\"\"\"\n",
    "final_proteins = con.execute(final_cmd)\n"
   ]
  },
  {
   "cell_type": "code",
   "execution_count": 38,
   "id": "f5e1f0ae",
   "metadata": {},
   "outputs": [
    {
     "data": {
      "text/html": [
       "<div>\n",
       "<style scoped>\n",
       "    .dataframe tbody tr th:only-of-type {\n",
       "        vertical-align: middle;\n",
       "    }\n",
       "\n",
       "    .dataframe tbody tr th {\n",
       "        vertical-align: top;\n",
       "    }\n",
       "\n",
       "    .dataframe thead th {\n",
       "        text-align: right;\n",
       "    }\n",
       "</style>\n",
       "<table border=\"1\" class=\"dataframe\">\n",
       "  <thead>\n",
       "    <tr style=\"text-align: right;\">\n",
       "      <th></th>\n",
       "      <th>local_gap_compressed_percent_id</th>\n",
       "      <th>scaled_local_query_percent_id</th>\n",
       "      <th>scaled_local_symmetric_percent_id</th>\n",
       "      <th>query_align_len</th>\n",
       "      <th>query_align_cov</th>\n",
       "      <th>subject_align_len</th>\n",
       "      <th>subject_align_cov</th>\n",
       "      <th>bit_score</th>\n",
       "      <th>thermo_index</th>\n",
       "      <th>meso_index</th>\n",
       "      <th>...</th>\n",
       "      <th>taxa_pair_index</th>\n",
       "      <th>local_gap_compressed_percent_id_16s</th>\n",
       "      <th>scaled_local_query_percent_id_16s</th>\n",
       "      <th>scaled_local_symmetric_percent_id_16s</th>\n",
       "      <th>query_align_cov_16s</th>\n",
       "      <th>subject_align_cov_16s</th>\n",
       "      <th>bit_score_16s</th>\n",
       "      <th>m_ogt</th>\n",
       "      <th>t_ogt</th>\n",
       "      <th>ogt_difference</th>\n",
       "    </tr>\n",
       "  </thead>\n",
       "  <tbody>\n",
       "    <tr>\n",
       "      <th>0</th>\n",
       "      <td>0.391566</td>\n",
       "      <td>0.323383</td>\n",
       "      <td>0.343915</td>\n",
       "      <td>169</td>\n",
       "      <td>0.840796</td>\n",
       "      <td>161</td>\n",
       "      <td>0.909605</td>\n",
       "      <td>223</td>\n",
       "      <td>6048</td>\n",
       "      <td>6684</td>\n",
       "      <td>...</td>\n",
       "      <td>258957</td>\n",
       "      <td>0.893891</td>\n",
       "      <td>0.866044</td>\n",
       "      <td>0.88142</td>\n",
       "      <td>0.996885</td>\n",
       "      <td>0.996772</td>\n",
       "      <td>966.0</td>\n",
       "      <td>28.0</td>\n",
       "      <td>50.0</td>\n",
       "      <td>22.0</td>\n",
       "    </tr>\n",
       "  </tbody>\n",
       "</table>\n",
       "<p>1 rows × 23 columns</p>\n",
       "</div>"
      ],
      "text/plain": [
       "   local_gap_compressed_percent_id  scaled_local_query_percent_id  \\\n",
       "0                         0.391566                       0.323383   \n",
       "\n",
       "   scaled_local_symmetric_percent_id  query_align_len  query_align_cov  \\\n",
       "0                           0.343915              169         0.840796   \n",
       "\n",
       "   subject_align_len  subject_align_cov  bit_score  thermo_index  meso_index  \\\n",
       "0                161           0.909605        223          6048        6684   \n",
       "\n",
       "   ...  taxa_pair_index  local_gap_compressed_percent_id_16s  \\\n",
       "0  ...           258957                             0.893891   \n",
       "\n",
       "   scaled_local_query_percent_id_16s  scaled_local_symmetric_percent_id_16s  \\\n",
       "0                           0.866044                                0.88142   \n",
       "\n",
       "   query_align_cov_16s  subject_align_cov_16s  bit_score_16s  m_ogt  t_ogt  \\\n",
       "0             0.996885               0.996772          966.0   28.0   50.0   \n",
       "\n",
       "   ogt_difference  \n",
       "0            22.0  \n",
       "\n",
       "[1 rows x 23 columns]"
      ]
     },
     "execution_count": 38,
     "metadata": {},
     "output_type": "execute_result"
    }
   ],
   "source": [
    "con.execute(\"\"\"SELECT * FROM final_dataset LIMIT 1\"\"\").df()"
   ]
  },
  {
   "cell_type": "code",
   "execution_count": 29,
   "id": "ba03e8f0",
   "metadata": {},
   "outputs": [
    {
     "data": {
      "text/html": [
       "<div>\n",
       "<style scoped>\n",
       "    .dataframe tbody tr th:only-of-type {\n",
       "        vertical-align: middle;\n",
       "    }\n",
       "\n",
       "    .dataframe tbody tr th {\n",
       "        vertical-align: top;\n",
       "    }\n",
       "\n",
       "    .dataframe thead th {\n",
       "        text-align: right;\n",
       "    }\n",
       "</style>\n",
       "<table border=\"1\" class=\"dataframe\">\n",
       "  <thead>\n",
       "    <tr style=\"text-align: right;\">\n",
       "      <th></th>\n",
       "      <th>count(prot_pair_index)</th>\n",
       "    </tr>\n",
       "  </thead>\n",
       "  <tbody>\n",
       "    <tr>\n",
       "      <th>0</th>\n",
       "      <td>53302409</td>\n",
       "    </tr>\n",
       "  </tbody>\n",
       "</table>\n",
       "</div>"
      ],
      "text/plain": [
       "   count(prot_pair_index)\n",
       "0                53302409"
      ]
     },
     "execution_count": 29,
     "metadata": {},
     "output_type": "execute_result"
    }
   ],
   "source": [
    "con.execute(\"\"\"SELECT COUNT(prot_pair_index) FROM final_dataset\"\"\").df()"
   ]
  },
  {
   "cell_type": "markdown",
   "id": "c1dd7240",
   "metadata": {},
   "source": [
    "__Looks good!__\n",
    "\n",
    "proteins: 5 x 65427472 <br/>\n",
    "protein_pairs _> final_dataset:  x 53302409 <br/>\n",
    "ogt_taxa_pairs -> wide_taxa_pairs: 17 x 4434 <br/>\n",
    "\n",
    "__Finally, we can drop all taxa_pairs tables and filter out unused proteins.__"
   ]
  },
  {
   "cell_type": "code",
   "execution_count": 44,
   "id": "44ec70fc",
   "metadata": {},
   "outputs": [
    {
     "data": {
      "text/html": [
       "<div>\n",
       "<style scoped>\n",
       "    .dataframe tbody tr th:only-of-type {\n",
       "        vertical-align: middle;\n",
       "    }\n",
       "\n",
       "    .dataframe tbody tr th {\n",
       "        vertical-align: top;\n",
       "    }\n",
       "\n",
       "    .dataframe thead th {\n",
       "        text-align: right;\n",
       "    }\n",
       "</style>\n",
       "<table border=\"1\" class=\"dataframe\">\n",
       "  <thead>\n",
       "    <tr style=\"text-align: right;\">\n",
       "      <th></th>\n",
       "      <th>table_name</th>\n",
       "    </tr>\n",
       "  </thead>\n",
       "  <tbody>\n",
       "    <tr>\n",
       "      <th>0</th>\n",
       "      <td>final_dataset</td>\n",
       "    </tr>\n",
       "    <tr>\n",
       "      <th>1</th>\n",
       "      <td>wide_taxa_pairs</td>\n",
       "    </tr>\n",
       "    <tr>\n",
       "      <th>2</th>\n",
       "      <td>ogt_taxa_pairs</td>\n",
       "    </tr>\n",
       "    <tr>\n",
       "      <th>3</th>\n",
       "      <td>taxa</td>\n",
       "    </tr>\n",
       "    <tr>\n",
       "      <th>4</th>\n",
       "      <td>proteins</td>\n",
       "    </tr>\n",
       "    <tr>\n",
       "      <th>5</th>\n",
       "      <td>taxa_pairs</td>\n",
       "    </tr>\n",
       "    <tr>\n",
       "      <th>6</th>\n",
       "      <td>protein_pairs</td>\n",
       "    </tr>\n",
       "    <tr>\n",
       "      <th>7</th>\n",
       "      <td>useful_taxa</td>\n",
       "    </tr>\n",
       "    <tr>\n",
       "      <th>8</th>\n",
       "      <td>useful_taxa_pairs</td>\n",
       "    </tr>\n",
       "  </tbody>\n",
       "</table>\n",
       "</div>"
      ],
      "text/plain": [
       "          table_name\n",
       "0      final_dataset\n",
       "1    wide_taxa_pairs\n",
       "2     ogt_taxa_pairs\n",
       "3               taxa\n",
       "4           proteins\n",
       "5         taxa_pairs\n",
       "6      protein_pairs\n",
       "7        useful_taxa\n",
       "8  useful_taxa_pairs"
      ]
     },
     "execution_count": 44,
     "metadata": {},
     "output_type": "execute_result"
    }
   ],
   "source": [
    "con.execute(\"\"\"SELECT TABLE_NAME\n",
    "FROM INFORMATION_SCHEMA.TABLES\n",
    "WHERE TABLE_TYPE='BASE TABLE'\"\"\").df()"
   ]
  },
  {
   "cell_type": "code",
   "execution_count": 93,
   "id": "7b568fe7",
   "metadata": {},
   "outputs": [
    {
     "ename": "CatalogException",
     "evalue": "Catalog Error: Table with name proteins does not exist!\nDid you mean \"proteins_id\"?\nLINE 2: FROM proteins\n             ^",
     "output_type": "error",
     "traceback": [
      "\u001b[0;31m---------------------------------------------------------------------------\u001b[0m",
      "\u001b[0;31mCatalogException\u001b[0m                          Traceback (most recent call last)",
      "Cell \u001b[0;32mIn[93], line 6\u001b[0m\n\u001b[1;32m      1\u001b[0m prot_filt_cmd \u001b[38;5;241m=\u001b[39m \u001b[38;5;124m\"\"\"\u001b[39m\u001b[38;5;124mCREATE OR REPLACE TABLE final_proteins AS SELECT *\u001b[39m\n\u001b[1;32m      2\u001b[0m \u001b[38;5;124mFROM proteins\u001b[39m\n\u001b[1;32m      3\u001b[0m \u001b[38;5;124mWHERE protein_int_index IN (SELECT DISTINCT meso_protein_int_index FROM protein_pairs) OR\u001b[39m\n\u001b[1;32m      4\u001b[0m \u001b[38;5;124mprotein_int_index IN (SELECT DISTINCT thermo_protein_int_index FROM protein_pairs)\u001b[39m\n\u001b[1;32m      5\u001b[0m \u001b[38;5;124m\"\"\"\u001b[39m\n\u001b[0;32m----> 6\u001b[0m \u001b[43mcon\u001b[49m\u001b[38;5;241;43m.\u001b[39;49m\u001b[43mexecute\u001b[49m\u001b[43m(\u001b[49m\u001b[43mprot_filt_cmd\u001b[49m\u001b[43m)\u001b[49m\n\u001b[1;32m      7\u001b[0m con\u001b[38;5;241m.\u001b[39mexecute(\u001b[38;5;124m\"\"\"\u001b[39m\u001b[38;5;124mSELECT COUNT(protein_int_index) FROM final_proteins\u001b[39m\u001b[38;5;124m\"\"\"\u001b[39m)\u001b[38;5;241m.\u001b[39mdf()\n",
      "\u001b[0;31mCatalogException\u001b[0m: Catalog Error: Table with name proteins does not exist!\nDid you mean \"proteins_id\"?\nLINE 2: FROM proteins\n             ^"
     ]
    }
   ],
   "source": [
    "prot_filt_cmd = \"\"\"CREATE OR REPLACE TABLE final_proteins AS SELECT *\n",
    "FROM proteins\n",
    "WHERE protein_int_index IN (SELECT DISTINCT meso_protein_int_index FROM protein_pairs) OR\n",
    "protein_int_index IN (SELECT DISTINCT thermo_protein_int_index FROM protein_pairs)\n",
    "\"\"\"\n",
    "con.execute(prot_filt_cmd)\n",
    "con.execute(\"\"\"SELECT COUNT(protein_int_index) FROM final_proteins\"\"\").df()"
   ]
  },
  {
   "cell_type": "markdown",
   "id": "9995ce1f",
   "metadata": {},
   "source": [
    "__Final DB structure__\n",
    "\n",
    "final_proteins: 5 x 6712218 <br/>\n",
    "final_dataset:  x 53302409 <br/>\n",
    " <br/>"
   ]
  },
  {
   "cell_type": "code",
   "execution_count": 52,
   "id": "c8c8ad52",
   "metadata": {},
   "outputs": [
    {
     "data": {
      "text/html": [
       "<div>\n",
       "<style scoped>\n",
       "    .dataframe tbody tr th:only-of-type {\n",
       "        vertical-align: middle;\n",
       "    }\n",
       "\n",
       "    .dataframe tbody tr th {\n",
       "        vertical-align: top;\n",
       "    }\n",
       "\n",
       "    .dataframe thead th {\n",
       "        text-align: right;\n",
       "    }\n",
       "</style>\n",
       "<table border=\"1\" class=\"dataframe\">\n",
       "  <thead>\n",
       "    <tr style=\"text-align: right;\">\n",
       "      <th></th>\n",
       "      <th>local_gap_compressed_percent_id</th>\n",
       "      <th>scaled_local_query_percent_id</th>\n",
       "      <th>scaled_local_symmetric_percent_id</th>\n",
       "      <th>query_align_len</th>\n",
       "      <th>query_align_cov</th>\n",
       "      <th>subject_align_len</th>\n",
       "      <th>subject_align_cov</th>\n",
       "      <th>bit_score</th>\n",
       "      <th>thermo_index</th>\n",
       "      <th>meso_index</th>\n",
       "      <th>...</th>\n",
       "      <th>bit_score_16s</th>\n",
       "      <th>m_ogt</th>\n",
       "      <th>t_ogt</th>\n",
       "      <th>ogt_difference</th>\n",
       "      <th>m_protein_seq</th>\n",
       "      <th>t_protein_seq</th>\n",
       "      <th>m_protein_desc</th>\n",
       "      <th>t_protein_desc</th>\n",
       "      <th>m_protein_len</th>\n",
       "      <th>t_protein_len</th>\n",
       "    </tr>\n",
       "  </thead>\n",
       "  <tbody>\n",
       "    <tr>\n",
       "      <th>0</th>\n",
       "      <td>0.583062</td>\n",
       "      <td>0.535928</td>\n",
       "      <td>0.555039</td>\n",
       "      <td>322</td>\n",
       "      <td>0.964072</td>\n",
       "      <td>306</td>\n",
       "      <td>0.983923</td>\n",
       "      <td>911</td>\n",
       "      <td>1674</td>\n",
       "      <td>8890</td>\n",
       "      <td>...</td>\n",
       "      <td>971.0</td>\n",
       "      <td>30.0</td>\n",
       "      <td>57.5</td>\n",
       "      <td>27.5</td>\n",
       "      <td>MRAGALGVGRYLPEKVVTNFDLEKQMDTSDEWIRTRTGIEERRYAA...</td>\n",
       "      <td>MRSVGILGTGAHLPEKVLTNFDLEKMVDTSDEWIVSRTGIRERRIA...</td>\n",
       "      <td>ketoacyl-ACP synthase III</td>\n",
       "      <td>ketoacyl-ACP synthase III</td>\n",
       "      <td>311</td>\n",
       "      <td>334</td>\n",
       "    </tr>\n",
       "  </tbody>\n",
       "</table>\n",
       "<p>1 rows × 29 columns</p>\n",
       "</div>"
      ],
      "text/plain": [
       "   local_gap_compressed_percent_id  scaled_local_query_percent_id  \\\n",
       "0                         0.583062                       0.535928   \n",
       "\n",
       "   scaled_local_symmetric_percent_id  query_align_len  query_align_cov  \\\n",
       "0                           0.555039              322         0.964072   \n",
       "\n",
       "   subject_align_len  subject_align_cov  bit_score  thermo_index  meso_index  \\\n",
       "0                306           0.983923        911          1674        8890   \n",
       "\n",
       "   ...  bit_score_16s  m_ogt  t_ogt  ogt_difference  \\\n",
       "0  ...          971.0   30.0   57.5            27.5   \n",
       "\n",
       "                                       m_protein_seq  \\\n",
       "0  MRAGALGVGRYLPEKVVTNFDLEKQMDTSDEWIRTRTGIEERRYAA...   \n",
       "\n",
       "                                       t_protein_seq  \\\n",
       "0  MRSVGILGTGAHLPEKVLTNFDLEKMVDTSDEWIVSRTGIRERRIA...   \n",
       "\n",
       "              m_protein_desc             t_protein_desc  m_protein_len  \\\n",
       "0  ketoacyl-ACP synthase III  ketoacyl-ACP synthase III            311   \n",
       "\n",
       "   t_protein_len  \n",
       "0            334  \n",
       "\n",
       "[1 rows x 29 columns]"
      ]
     },
     "execution_count": 52,
     "metadata": {},
     "output_type": "execute_result"
    }
   ],
   "source": [
    "big_table_cmd = \"\"\"CREATE OR REPLACE TABLE big_table AS SELECT final_dataset.*,\n",
    "proteins_m.protein_seq AS m_protein_seq,\n",
    "proteins_t.protein_seq AS t_protein_seq,\n",
    "proteins_m.protein_desc AS m_protein_desc,\n",
    "proteins_t.protein_desc AS t_protein_desc,\n",
    "proteins_m.protein_len AS m_protein_len,\n",
    "proteins_t.protein_len AS t_protein_len\n",
    "FROM final_dataset\n",
    "JOIN final_proteins AS proteins_m ON (final_dataset.meso_protein_int_index = proteins_m.protein_int_index)\n",
    "JOIN final_proteins AS proteins_t ON (final_dataset.thermo_protein_int_index = proteins_t.protein_int_index)\"\"\"\n",
    "\n",
    "con.execute(big_table_cmd)\n",
    "con.execute(\"\"\"SELECT * FROM big_table LIMIT 1\"\"\").df()"
   ]
  },
  {
   "cell_type": "code",
   "execution_count": 60,
   "id": "e4d3ba14",
   "metadata": {},
   "outputs": [
    {
     "data": {
      "text/html": [
       "<div>\n",
       "<style scoped>\n",
       "    .dataframe tbody tr th:only-of-type {\n",
       "        vertical-align: middle;\n",
       "    }\n",
       "\n",
       "    .dataframe tbody tr th {\n",
       "        vertical-align: top;\n",
       "    }\n",
       "\n",
       "    .dataframe thead th {\n",
       "        text-align: right;\n",
       "    }\n",
       "</style>\n",
       "<table border=\"1\" class=\"dataframe\">\n",
       "  <thead>\n",
       "    <tr style=\"text-align: right;\">\n",
       "      <th></th>\n",
       "      <th>table_name</th>\n",
       "    </tr>\n",
       "  </thead>\n",
       "  <tbody>\n",
       "    <tr>\n",
       "      <th>0</th>\n",
       "      <td>big_table</td>\n",
       "    </tr>\n",
       "    <tr>\n",
       "      <th>1</th>\n",
       "      <td>final_proteins</td>\n",
       "    </tr>\n",
       "    <tr>\n",
       "      <th>2</th>\n",
       "      <td>final_dataset</td>\n",
       "    </tr>\n",
       "    <tr>\n",
       "      <th>3</th>\n",
       "      <td>ogt_taxa_pairs</td>\n",
       "    </tr>\n",
       "  </tbody>\n",
       "</table>\n",
       "</div>"
      ],
      "text/plain": [
       "       table_name\n",
       "0       big_table\n",
       "1  final_proteins\n",
       "2   final_dataset\n",
       "3  ogt_taxa_pairs"
      ]
     },
     "execution_count": 60,
     "metadata": {},
     "output_type": "execute_result"
    }
   ],
   "source": [
    "final_drop = ['proteins', 'wide_taxa_pairs', 'wide_ogt_pairs', 'taxa', 'taxa_pairs', 'protein_pairs', 'useful_taxa', 'useful_taxa_pairs']\n",
    "for table in final_drop:\n",
    "    con.execute(f\"\"\"DROP TABLE IF EXISTS {table}\"\"\")\n",
    "    \n",
    "con.execute(\"\"\"SELECT TABLE_NAME\n",
    "FROM INFORMATION_SCHEMA.TABLES\n",
    "WHERE TABLE_TYPE='BASE TABLE'\"\"\").df()"
   ]
  },
  {
   "cell_type": "code",
   "execution_count": 61,
   "id": "cdb20c5c",
   "metadata": {},
   "outputs": [],
   "source": [
    "con.commit()\n",
    "con.close()"
   ]
  },
  {
   "cell_type": "code",
   "execution_count": 53,
   "id": "07ed03fc",
   "metadata": {},
   "outputs": [
    {
     "data": {
      "text/html": [
       "<div>\n",
       "<style scoped>\n",
       "    .dataframe tbody tr th:only-of-type {\n",
       "        vertical-align: middle;\n",
       "    }\n",
       "\n",
       "    .dataframe tbody tr th {\n",
       "        vertical-align: top;\n",
       "    }\n",
       "\n",
       "    .dataframe thead th {\n",
       "        text-align: right;\n",
       "    }\n",
       "</style>\n",
       "<table border=\"1\" class=\"dataframe\">\n",
       "  <thead>\n",
       "    <tr style=\"text-align: right;\">\n",
       "      <th></th>\n",
       "      <th>count(t_protein_len)</th>\n",
       "    </tr>\n",
       "  </thead>\n",
       "  <tbody>\n",
       "    <tr>\n",
       "      <th>0</th>\n",
       "      <td>53302409</td>\n",
       "    </tr>\n",
       "  </tbody>\n",
       "</table>\n",
       "</div>"
      ],
      "text/plain": [
       "   count(t_protein_len)\n",
       "0              53302409"
      ]
     },
     "execution_count": 53,
     "metadata": {},
     "output_type": "execute_result"
    }
   ],
   "source": [
    "con.execute(\"\"\"SELECT COUNT(t_protein_len) FROM big_table\"\"\").df()"
   ]
  },
  {
   "cell_type": "code",
   "execution_count": 54,
   "id": "68d2f851",
   "metadata": {},
   "outputs": [],
   "source": [
    "sample_df = con.execute(\"\"\"SELECT * FROM big_table USING SAMPLE 50000\"\"\").df()"
   ]
  },
  {
   "cell_type": "code",
   "execution_count": 55,
   "id": "ddb4c57a",
   "metadata": {},
   "outputs": [
    {
     "data": {
      "text/html": [
       "<div>\n",
       "<style scoped>\n",
       "    .dataframe tbody tr th:only-of-type {\n",
       "        vertical-align: middle;\n",
       "    }\n",
       "\n",
       "    .dataframe tbody tr th {\n",
       "        vertical-align: top;\n",
       "    }\n",
       "\n",
       "    .dataframe thead th {\n",
       "        text-align: right;\n",
       "    }\n",
       "</style>\n",
       "<table border=\"1\" class=\"dataframe\">\n",
       "  <thead>\n",
       "    <tr style=\"text-align: right;\">\n",
       "      <th></th>\n",
       "      <th>local_gap_compressed_percent_id</th>\n",
       "      <th>scaled_local_query_percent_id</th>\n",
       "      <th>scaled_local_symmetric_percent_id</th>\n",
       "      <th>query_align_len</th>\n",
       "      <th>query_align_cov</th>\n",
       "      <th>subject_align_len</th>\n",
       "      <th>subject_align_cov</th>\n",
       "      <th>bit_score</th>\n",
       "      <th>thermo_index</th>\n",
       "      <th>meso_index</th>\n",
       "      <th>...</th>\n",
       "      <th>bit_score_16s</th>\n",
       "      <th>m_ogt</th>\n",
       "      <th>t_ogt</th>\n",
       "      <th>ogt_difference</th>\n",
       "      <th>m_protein_seq</th>\n",
       "      <th>t_protein_seq</th>\n",
       "      <th>m_protein_desc</th>\n",
       "      <th>t_protein_desc</th>\n",
       "      <th>m_protein_len</th>\n",
       "      <th>t_protein_len</th>\n",
       "    </tr>\n",
       "  </thead>\n",
       "  <tbody>\n",
       "    <tr>\n",
       "      <th>0</th>\n",
       "      <td>0.287582</td>\n",
       "      <td>0.217822</td>\n",
       "      <td>0.215686</td>\n",
       "      <td>160</td>\n",
       "      <td>0.792079</td>\n",
       "      <td>152</td>\n",
       "      <td>0.737864</td>\n",
       "      <td>131</td>\n",
       "      <td>875</td>\n",
       "      <td>12897</td>\n",
       "      <td>...</td>\n",
       "      <td>1153.0</td>\n",
       "      <td>27.5</td>\n",
       "      <td>50.0</td>\n",
       "      <td>22.5</td>\n",
       "      <td>MAESGTSRRADHLVPVPGPDAEPPAVADELLRAVGRGDEQAFGRLY...</td>\n",
       "      <td>MPSQITESERIELAERFERDALPLLDQLYSAALRMTRNPADAEDLV...</td>\n",
       "      <td>ECF RNA polymerase sigma factor SigK</td>\n",
       "      <td>sigma-70 family RNA polymerase sigma factor</td>\n",
       "      <td>206</td>\n",
       "      <td>202</td>\n",
       "    </tr>\n",
       "    <tr>\n",
       "      <th>1</th>\n",
       "      <td>0.319635</td>\n",
       "      <td>0.295359</td>\n",
       "      <td>0.297872</td>\n",
       "      <td>218</td>\n",
       "      <td>0.919831</td>\n",
       "      <td>226</td>\n",
       "      <td>0.969957</td>\n",
       "      <td>282</td>\n",
       "      <td>11324</td>\n",
       "      <td>13026</td>\n",
       "      <td>...</td>\n",
       "      <td>1014.0</td>\n",
       "      <td>25.0</td>\n",
       "      <td>54.0</td>\n",
       "      <td>29.0</td>\n",
       "      <td>MARIALVDDDRNILTSVSMTLEAEGFEVETYNDGQSALDAFNKRMP...</td>\n",
       "      <td>MRVLLVEDDPNTSRSIEMMLTHANLNVYATDMGEEGIDLAKLYDYD...</td>\n",
       "      <td>response regulator transcription factor</td>\n",
       "      <td>response regulator transcription factor</td>\n",
       "      <td>233</td>\n",
       "      <td>237</td>\n",
       "    </tr>\n",
       "    <tr>\n",
       "      <th>2</th>\n",
       "      <td>0.279621</td>\n",
       "      <td>0.234127</td>\n",
       "      <td>0.218924</td>\n",
       "      <td>211</td>\n",
       "      <td>0.837302</td>\n",
       "      <td>210</td>\n",
       "      <td>0.731707</td>\n",
       "      <td>96</td>\n",
       "      <td>875</td>\n",
       "      <td>8203</td>\n",
       "      <td>...</td>\n",
       "      <td>1138.0</td>\n",
       "      <td>28.0</td>\n",
       "      <td>50.0</td>\n",
       "      <td>22.0</td>\n",
       "      <td>MKDTVVFVTGAARGIGAHTARLAVARGARVALVGLEPHLLADLAAE...</td>\n",
       "      <td>MTPEQIFSGQTAIVTGGASGIGAATVEHIARRGGRVFSVDLSYDSP...</td>\n",
       "      <td>SDR family oxidoreductase</td>\n",
       "      <td>SDR family oxidoreductase</td>\n",
       "      <td>287</td>\n",
       "      <td>252</td>\n",
       "    </tr>\n",
       "    <tr>\n",
       "      <th>3</th>\n",
       "      <td>0.327273</td>\n",
       "      <td>0.200743</td>\n",
       "      <td>0.214712</td>\n",
       "      <td>166</td>\n",
       "      <td>0.617100</td>\n",
       "      <td>163</td>\n",
       "      <td>0.696581</td>\n",
       "      <td>175</td>\n",
       "      <td>875</td>\n",
       "      <td>3340</td>\n",
       "      <td>...</td>\n",
       "      <td>1077.0</td>\n",
       "      <td>28.0</td>\n",
       "      <td>50.0</td>\n",
       "      <td>22.0</td>\n",
       "      <td>MTSGLWERVLDGVWVTIQLLVLSALLATAVSFVVGIARTHRLWIVR...</td>\n",
       "      <td>MAMSRRKRGQLARGIQYAILVIVVVVLALLADWGKIGKAFFDWEAA...</td>\n",
       "      <td>ectoine/hydroxyectoine ABC transporter permeas...</td>\n",
       "      <td>amino acid ABC transporter permease</td>\n",
       "      <td>234</td>\n",
       "      <td>269</td>\n",
       "    </tr>\n",
       "    <tr>\n",
       "      <th>4</th>\n",
       "      <td>0.338710</td>\n",
       "      <td>0.318182</td>\n",
       "      <td>0.287671</td>\n",
       "      <td>60</td>\n",
       "      <td>0.909091</td>\n",
       "      <td>71</td>\n",
       "      <td>0.887500</td>\n",
       "      <td>61</td>\n",
       "      <td>9827</td>\n",
       "      <td>14020</td>\n",
       "      <td>...</td>\n",
       "      <td>991.0</td>\n",
       "      <td>30.0</td>\n",
       "      <td>50.0</td>\n",
       "      <td>20.0</td>\n",
       "      <td>MIISLRRGLRFIRFIVFFAALVYLFYHVLDLFNGWISPVDQYQMPT...</td>\n",
       "      <td>MKRMVWRTLKVFIIFIACTLLFYFGLRFMHLEYEQFHRYEPPEGPA...</td>\n",
       "      <td>YqzK family protein</td>\n",
       "      <td>YqzK family protein</td>\n",
       "      <td>80</td>\n",
       "      <td>66</td>\n",
       "    </tr>\n",
       "  </tbody>\n",
       "</table>\n",
       "<p>5 rows × 29 columns</p>\n",
       "</div>"
      ],
      "text/plain": [
       "   local_gap_compressed_percent_id  scaled_local_query_percent_id  \\\n",
       "0                         0.287582                       0.217822   \n",
       "1                         0.319635                       0.295359   \n",
       "2                         0.279621                       0.234127   \n",
       "3                         0.327273                       0.200743   \n",
       "4                         0.338710                       0.318182   \n",
       "\n",
       "   scaled_local_symmetric_percent_id  query_align_len  query_align_cov  \\\n",
       "0                           0.215686              160         0.792079   \n",
       "1                           0.297872              218         0.919831   \n",
       "2                           0.218924              211         0.837302   \n",
       "3                           0.214712              166         0.617100   \n",
       "4                           0.287671               60         0.909091   \n",
       "\n",
       "   subject_align_len  subject_align_cov  bit_score  thermo_index  meso_index  \\\n",
       "0                152           0.737864        131           875       12897   \n",
       "1                226           0.969957        282         11324       13026   \n",
       "2                210           0.731707         96           875        8203   \n",
       "3                163           0.696581        175           875        3340   \n",
       "4                 71           0.887500         61          9827       14020   \n",
       "\n",
       "   ...  bit_score_16s  m_ogt  t_ogt  ogt_difference  \\\n",
       "0  ...         1153.0   27.5   50.0            22.5   \n",
       "1  ...         1014.0   25.0   54.0            29.0   \n",
       "2  ...         1138.0   28.0   50.0            22.0   \n",
       "3  ...         1077.0   28.0   50.0            22.0   \n",
       "4  ...          991.0   30.0   50.0            20.0   \n",
       "\n",
       "                                       m_protein_seq  \\\n",
       "0  MAESGTSRRADHLVPVPGPDAEPPAVADELLRAVGRGDEQAFGRLY...   \n",
       "1  MARIALVDDDRNILTSVSMTLEAEGFEVETYNDGQSALDAFNKRMP...   \n",
       "2  MKDTVVFVTGAARGIGAHTARLAVARGARVALVGLEPHLLADLAAE...   \n",
       "3  MTSGLWERVLDGVWVTIQLLVLSALLATAVSFVVGIARTHRLWIVR...   \n",
       "4  MIISLRRGLRFIRFIVFFAALVYLFYHVLDLFNGWISPVDQYQMPT...   \n",
       "\n",
       "                                       t_protein_seq  \\\n",
       "0  MPSQITESERIELAERFERDALPLLDQLYSAALRMTRNPADAEDLV...   \n",
       "1  MRVLLVEDDPNTSRSIEMMLTHANLNVYATDMGEEGIDLAKLYDYD...   \n",
       "2  MTPEQIFSGQTAIVTGGASGIGAATVEHIARRGGRVFSVDLSYDSP...   \n",
       "3  MAMSRRKRGQLARGIQYAILVIVVVVLALLADWGKIGKAFFDWEAA...   \n",
       "4  MKRMVWRTLKVFIIFIACTLLFYFGLRFMHLEYEQFHRYEPPEGPA...   \n",
       "\n",
       "                                      m_protein_desc  \\\n",
       "0               ECF RNA polymerase sigma factor SigK   \n",
       "1            response regulator transcription factor   \n",
       "2                          SDR family oxidoreductase   \n",
       "3  ectoine/hydroxyectoine ABC transporter permeas...   \n",
       "4                                YqzK family protein   \n",
       "\n",
       "                                t_protein_desc  m_protein_len  t_protein_len  \n",
       "0  sigma-70 family RNA polymerase sigma factor            206            202  \n",
       "1      response regulator transcription factor            233            237  \n",
       "2                    SDR family oxidoreductase            287            252  \n",
       "3          amino acid ABC transporter permease            234            269  \n",
       "4                          YqzK family protein             80             66  \n",
       "\n",
       "[5 rows x 29 columns]"
      ]
     },
     "execution_count": 55,
     "metadata": {},
     "output_type": "execute_result"
    }
   ],
   "source": [
    "sample_df.head()"
   ]
  },
  {
   "cell_type": "code",
   "execution_count": 57,
   "id": "939adb99",
   "metadata": {},
   "outputs": [],
   "source": [
    "sample_df.to_csv(path_or_buf = '/mnt/c/Users/Ryan/Documents/learn2therm_50k.csv')"
   ]
  },
  {
   "cell_type": "code",
   "execution_count": 8,
   "id": "1f3a61b0",
   "metadata": {},
   "outputs": [],
   "source": [
    "# protein_df = con.execute(\"\"\"SELECT protein_seq FROM final_proteins\"\"\").df()\n",
    "# protein_df.to_csv(path_or_buf = '/mnt/c/Users/Ryan/Documents/all_proteins.csv')\n",
    "\n",
    "# con.execute(\"\"\"SELECT * FROM final_proteins LIMIT 1\"\"\").df()"
   ]
  },
  {
   "cell_type": "code",
   "execution_count": 101,
   "id": "60a5b362",
   "metadata": {},
   "outputs": [],
   "source": [
    "thermos = con.execute(\"\"\"SELECT DISTINCT thermo_protein_int_index FROM final_dataset\"\"\").df()\n",
    "mesos = con.execute(\"\"\"SELECT DISTINCT meso_protein_int_index FROM final_dataset\"\"\").df()"
   ]
  },
  {
   "cell_type": "code",
   "execution_count": 102,
   "id": "e6332153",
   "metadata": {},
   "outputs": [],
   "source": [
    "t_list = [i for i in thermos['thermo_protein_int_index']]\n",
    "m_list = [i for i in mesos['meso_protein_int_index']]\n",
    "meso_idx_str = ', '.join(map(str, m_list))\n",
    "thermo_idx_str = ', '.join(map(str, t_list))"
   ]
  },
  {
   "cell_type": "code",
   "execution_count": 103,
   "id": "a77fb5fa",
   "metadata": {},
   "outputs": [
    {
     "data": {
      "text/plain": [
       "4108740"
      ]
     },
     "execution_count": 103,
     "metadata": {},
     "output_type": "execute_result"
    }
   ],
   "source": [
    "len(m_list)"
   ]
  },
  {
   "cell_type": "code",
   "execution_count": 105,
   "id": "086e44e0",
   "metadata": {},
   "outputs": [
    {
     "data": {
      "text/html": [
       "<div>\n",
       "<style scoped>\n",
       "    .dataframe tbody tr th:only-of-type {\n",
       "        vertical-align: middle;\n",
       "    }\n",
       "\n",
       "    .dataframe tbody tr th {\n",
       "        vertical-align: top;\n",
       "    }\n",
       "\n",
       "    .dataframe thead th {\n",
       "        text-align: right;\n",
       "    }\n",
       "</style>\n",
       "<table border=\"1\" class=\"dataframe\">\n",
       "  <thead>\n",
       "    <tr style=\"text-align: right;\">\n",
       "      <th></th>\n",
       "      <th>protein_seq</th>\n",
       "      <th>protein_int_index</th>\n",
       "      <th>identity</th>\n",
       "    </tr>\n",
       "  </thead>\n",
       "  <tbody>\n",
       "    <tr>\n",
       "      <th>0</th>\n",
       "      <td>MLATITFVFLALLFIVLKLVLVVQMKEVCVIERLGKFRAVLAPGLH...</td>\n",
       "      <td>60589906</td>\n",
       "      <td>m</td>\n",
       "    </tr>\n",
       "  </tbody>\n",
       "</table>\n",
       "</div>"
      ],
      "text/plain": [
       "                                         protein_seq  protein_int_index  \\\n",
       "0  MLATITFVFLALLFIVLKLVLVVQMKEVCVIERLGKFRAVLAPGLH...           60589906   \n",
       "\n",
       "  identity  \n",
       "0        m  "
      ]
     },
     "execution_count": 105,
     "metadata": {},
     "output_type": "execute_result"
    }
   ],
   "source": [
    "con.execute(f\"\"\"CREATE OR REPLACE TABLE proteins_id AS\n",
    "SELECT protein_seq,\n",
    "protein_int_index,\n",
    "CASE WHEN final_proteins.protein_int_index IN ({meso_idx_str}) THEN 'm'\n",
    "WHEN final_proteins.protein_int_index IN ({thermo_idx_str}) THEN 't'\n",
    "END AS  identity\n",
    "FROM final_proteins\"\"\")\n",
    "\n",
    "con.execute(\"\"\"SELECT * FROM proteins_id LIMIT 1\"\"\").df()"
   ]
  },
  {
   "cell_type": "code",
   "execution_count": 107,
   "id": "057258e6",
   "metadata": {},
   "outputs": [],
   "source": [
    "proteins_id = con.execute(\"\"\"SELECT * FROM proteins_id\"\"\").df()"
   ]
  },
  {
   "cell_type": "code",
   "execution_count": 108,
   "id": "dae81ffe",
   "metadata": {},
   "outputs": [],
   "source": [
    "proteins_id.dropna(inplace = True)"
   ]
  },
  {
   "cell_type": "code",
   "execution_count": 111,
   "id": "31075f74",
   "metadata": {},
   "outputs": [],
   "source": [
    "proteins_id.to_csv(path_or_buf = '/mnt/c/Users/Ryan/Documents/proteins_id.csv')"
   ]
  },
  {
   "cell_type": "code",
   "execution_count": 109,
   "id": "03c66b13",
   "metadata": {},
   "outputs": [
    {
     "data": {
      "text/plain": [
       "m    4108740\n",
       "t     153695\n",
       "Name: identity, dtype: int64"
      ]
     },
     "execution_count": 109,
     "metadata": {},
     "output_type": "execute_result"
    }
   ],
   "source": [
    "proteins_id['identity'].value_counts()"
   ]
  },
  {
   "cell_type": "code",
   "execution_count": 110,
   "id": "befb7e62",
   "metadata": {},
   "outputs": [
    {
     "data": {
      "text/plain": [
       "(4262435, 3)"
      ]
     },
     "execution_count": 110,
     "metadata": {},
     "output_type": "execute_result"
    }
   ],
   "source": [
    "proteins_id.shape"
   ]
  },
  {
   "cell_type": "code",
   "execution_count": 9,
   "id": "c44afee7",
   "metadata": {},
   "outputs": [
    {
     "data": {
      "text/plain": [
       "2449783"
      ]
     },
     "execution_count": 9,
     "metadata": {},
     "output_type": "execute_result"
    }
   ],
   "source": [
    "proteins_id = pd.read_csv('/mnt/c/Users/Ryan/Documents/proteins_id.csv')\n",
    "sum(proteins_id['identity'].isna())"
   ]
  },
  {
   "cell_type": "code",
   "execution_count": 14,
   "id": "c8475426",
   "metadata": {},
   "outputs": [
    {
     "data": {
      "text/html": [
       "<div>\n",
       "<style scoped>\n",
       "    .dataframe tbody tr th:only-of-type {\n",
       "        vertical-align: middle;\n",
       "    }\n",
       "\n",
       "    .dataframe tbody tr th {\n",
       "        vertical-align: top;\n",
       "    }\n",
       "\n",
       "    .dataframe thead th {\n",
       "        text-align: right;\n",
       "    }\n",
       "</style>\n",
       "<table border=\"1\" class=\"dataframe\">\n",
       "  <thead>\n",
       "    <tr style=\"text-align: right;\">\n",
       "      <th></th>\n",
       "      <th>Unnamed: 0</th>\n",
       "      <th>protein_seq</th>\n",
       "      <th>identity</th>\n",
       "    </tr>\n",
       "  </thead>\n",
       "  <tbody>\n",
       "    <tr>\n",
       "      <th>6712208</th>\n",
       "      <td>6712208</td>\n",
       "      <td>MTVDRMILRELLEKGSDEDLLREMIGFVAQRMMDLEVESLCGAAPG...</td>\n",
       "      <td>NaN</td>\n",
       "    </tr>\n",
       "    <tr>\n",
       "      <th>6712209</th>\n",
       "      <td>6712209</td>\n",
       "      <td>MGQGYSSDLRVRIIGAIEGGSSCRSAARRFGVSPSTSIRLAQRKAK...</td>\n",
       "      <td>NaN</td>\n",
       "    </tr>\n",
       "    <tr>\n",
       "      <th>6712210</th>\n",
       "      <td>6712210</td>\n",
       "      <td>MFRALALSAFLAFTALGLSGVASTQVTHTPQQPYAHLHSRPIKALS...</td>\n",
       "      <td>NaN</td>\n",
       "    </tr>\n",
       "    <tr>\n",
       "      <th>6712211</th>\n",
       "      <td>6712211</td>\n",
       "      <td>MTHTSHPDVINRLKRAHGHLASTIAMIEDGRSCLEVAQQMHAVIRA...</td>\n",
       "      <td>NaN</td>\n",
       "    </tr>\n",
       "    <tr>\n",
       "      <th>6712212</th>\n",
       "      <td>6712212</td>\n",
       "      <td>MAFGADAHAHGVAEGDKGYIQEITGIHLLPFMYLGAKHMVTGYDHL...</td>\n",
       "      <td>NaN</td>\n",
       "    </tr>\n",
       "    <tr>\n",
       "      <th>6712213</th>\n",
       "      <td>6712213</td>\n",
       "      <td>MYNTDIPSRAELPSSAQLVRSTLIAATTAAALLVTTILPAEYGIDP...</td>\n",
       "      <td>NaN</td>\n",
       "    </tr>\n",
       "    <tr>\n",
       "      <th>6712214</th>\n",
       "      <td>6712214</td>\n",
       "      <td>MTLPFNPFRIDWNDCTFGQWEALLARCKRPTLLQTWQYGVAMAKVE...</td>\n",
       "      <td>NaN</td>\n",
       "    </tr>\n",
       "    <tr>\n",
       "      <th>6712215</th>\n",
       "      <td>6712215</td>\n",
       "      <td>MIGNNDGPAVLKSAGWETVSAYAEITVDGTHLVLCHYAFRTWNGMH...</td>\n",
       "      <td>NaN</td>\n",
       "    </tr>\n",
       "  </tbody>\n",
       "</table>\n",
       "</div>"
      ],
      "text/plain": [
       "         Unnamed: 0                                        protein_seq  \\\n",
       "6712208     6712208  MTVDRMILRELLEKGSDEDLLREMIGFVAQRMMDLEVESLCGAAPG...   \n",
       "6712209     6712209  MGQGYSSDLRVRIIGAIEGGSSCRSAARRFGVSPSTSIRLAQRKAK...   \n",
       "6712210     6712210  MFRALALSAFLAFTALGLSGVASTQVTHTPQQPYAHLHSRPIKALS...   \n",
       "6712211     6712211  MTHTSHPDVINRLKRAHGHLASTIAMIEDGRSCLEVAQQMHAVIRA...   \n",
       "6712212     6712212  MAFGADAHAHGVAEGDKGYIQEITGIHLLPFMYLGAKHMVTGYDHL...   \n",
       "6712213     6712213  MYNTDIPSRAELPSSAQLVRSTLIAATTAAALLVTTILPAEYGIDP...   \n",
       "6712214     6712214  MTLPFNPFRIDWNDCTFGQWEALLARCKRPTLLQTWQYGVAMAKVE...   \n",
       "6712215     6712215  MIGNNDGPAVLKSAGWETVSAYAEITVDGTHLVLCHYAFRTWNGMH...   \n",
       "\n",
       "        identity  \n",
       "6712208      NaN  \n",
       "6712209      NaN  \n",
       "6712210      NaN  \n",
       "6712211      NaN  \n",
       "6712212      NaN  \n",
       "6712213      NaN  \n",
       "6712214      NaN  \n",
       "6712215      NaN  "
      ]
     },
     "execution_count": 14,
     "metadata": {},
     "output_type": "execute_result"
    }
   ],
   "source": [
    "proteins_id.iloc[-10:-2]"
   ]
  }
 ],
 "metadata": {
  "kernelspec": {
   "display_name": "Python 3 (ipykernel)",
   "language": "python",
   "name": "python3"
  },
  "language_info": {
   "codemirror_mode": {
    "name": "ipython",
    "version": 3
   },
   "file_extension": ".py",
   "mimetype": "text/x-python",
   "name": "python",
   "nbconvert_exporter": "python",
   "pygments_lexer": "ipython3",
   "version": "3.10.8"
  }
 },
 "nbformat": 4,
 "nbformat_minor": 5
}
