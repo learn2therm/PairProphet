{
 "cells": [
  {
   "cell_type": "code",
   "execution_count": 34,
   "id": "d3ebbba7",
   "metadata": {},
   "outputs": [],
   "source": [
    "import pandas as pd\n",
    "import numpy as np\n",
    "\n",
    "import duckdb\n",
    "import time\n",
    "import matplotlib.pyplot as plt\n",
    "import seaborn as sns"
   ]
  },
  {
   "cell_type": "code",
   "execution_count": 68,
   "id": "6b517707",
   "metadata": {},
   "outputs": [],
   "source": [
    "def connect_db(path: str):\n",
    "    '''Runs duckdb.connect() function on database path with timing. Returns a \n",
    "duckdb.DuckDBPyConnection object'''\n",
    "    \n",
    "    st = time.time()\n",
    "\n",
    "    print('Connecting to database...')\n",
    "    con = duckdb.connect(path)\n",
    "\n",
    "    et = time.time()\n",
    "    elapsed_time = et - st\n",
    "    print(f'Connection established! Execution time: {elapsed_time} seconds')\n",
    "    return con\n",
    "\n",
    "def get_sample_size(taxa_pairs, ogt_diff):\n",
    "    cmd = f\"\"\"SELECT COUNT(prot_pair_index) FROM protein_pairs WHERE taxa_pair_index IN\n",
    "    (SELECT taxa_pair_index FROM {taxa_pairs} WHERE (thermo_ogt - meso_ogt >= {ogt_diff}))\"\"\"\n",
    "    return con.execute(cmd).df().values"
   ]
  },
  {
   "cell_type": "code",
   "execution_count": 36,
   "id": "c32cb044",
   "metadata": {},
   "outputs": [
    {
     "name": "stdout",
     "output_type": "stream",
     "text": [
      "Connecting to database...\n",
      "Connection established! Execution time: 18.168161392211914 seconds\n"
     ]
    }
   ],
   "source": [
    "con = connect_db('/mnt/c/Users/Ryan/Documents/database')"
   ]
  },
  {
   "cell_type": "markdown",
   "id": "f82f1061",
   "metadata": {},
   "source": [
    "### Protein pair sampling space is significantly affected by $\\Delta$ogt\n",
    "\n",
    "This notebook investigates whether pairs in protein_pairs from the learn2therm dataset belong to thermo/meso pairs with very small differences in optimal growth temperature. For example, bacteria growing at 37 C vs 42 C would be considered a pair."
   ]
  },
  {
   "cell_type": "code",
   "execution_count": 45,
   "id": "3e329224",
   "metadata": {},
   "outputs": [
    {
     "data": {
      "text/plain": [
       "<duckdb.DuckDBPyConnection at 0x7f97d0e73930>"
      ]
     },
     "execution_count": 45,
     "metadata": {},
     "output_type": "execute_result"
    }
   ],
   "source": [
    "add_ogt_cmd = f\"\"\"CREATE OR REPLACE TABLE ogt_taxa_pairs AS SELECT *,\n",
    "taxa_m.ogt AS meso_ogt,\n",
    "taxa_t.ogt AS thermo_ogt,\n",
    "taxa_t.ogt - taxa_m.ogt AS ogt_diff\n",
    "FROM taxa_pairs\n",
    "JOIN taxa AS taxa_m ON (taxa_pairs.meso_index = taxa_m.taxa_index)\n",
    "JOIN taxa AS taxa_t ON (taxa_pairs.thermo_index = taxa_t.taxa_index)\n",
    "WHERE taxa_pairs.is_pair = True\"\"\"\n",
    "\n",
    "con.execute(add_ogt_cmd)"
   ]
  },
  {
   "cell_type": "code",
   "execution_count": 47,
   "id": "51d25ba8",
   "metadata": {},
   "outputs": [
    {
     "name": "stdout",
     "output_type": "stream",
     "text": [
      "Relevant taxa pairs: [[13784]]\n"
     ]
    }
   ],
   "source": [
    "print(f'Relevant taxa pairs: {con.execute(\"\"\"SELECT COUNT(taxa_pair_index) FROM ogt_taxa_pairs\"\"\").df().values}')"
   ]
  },
  {
   "cell_type": "markdown",
   "id": "c2d38f58",
   "metadata": {},
   "source": [
    "These 13784 are the 'true' taxa pairs based on the value of is_true. All others should not be represented in protein_pairs."
   ]
  },
  {
   "cell_type": "code",
   "execution_count": 103,
   "id": "393693fb",
   "metadata": {},
   "outputs": [
    {
     "name": "stdout",
     "output_type": "stream",
     "text": [
      "Percentage remaining for ogt_diff cutoff:\n",
      "0 deg C: 100.0 or 181500502 pairs\n",
      "2 deg C: 99.9 or 181310321 pairs\n",
      "5 deg C: 98.83 or 179370579 pairs\n",
      "10 deg C: 90.97 or 165106546 pairs\n",
      "15 deg C: 68.02 or 123451370 pairs\n",
      "20 deg C: 29.67 or 53845080 pairs\n",
      "25 deg C: 7.36 or 13361629 pairs\n",
      "30 deg C: 2.39 or 4340704 pairs\n",
      "40 deg C: 0.21 or 382187 pairs\n",
      "50 deg C: 0.03 or 48870 pairs\n",
      "55 deg C: 0.0 or 4189 pairs\n",
      "60 deg C: 0.0 or 0 pairs\n"
     ]
    }
   ],
   "source": [
    "ogt_diffs = [0, 2, 5, 10, 15, 20, 25, 30, 40, 50, 55, 60]\n",
    "num_pairs = []\n",
    "\n",
    "for val in ogt_diffs:\n",
    "    num_pairs.append(get_sample_size('ogt_taxa_pairs', val))\n",
    "\n",
    "num_pairs = [int(i) for i in num_pairs]\n",
    "\n",
    "print('Percentage remaining for ogt_diff cutoff:')\n",
    "for i, n in enumerate(num_pairs):\n",
    "    perc = n*100/181500502\n",
    "    print(f'{ogt_diffs[i]} deg C: {round(perc, 2)} or {n} pairs')"
   ]
  },
  {
   "cell_type": "code",
   "execution_count": 101,
   "id": "6c10c6cf",
   "metadata": {},
   "outputs": [
    {
     "data": {
      "image/png": "[encoded data removed]",
      "text/plain": [
       "<Figure size 640x480 with 1 Axes>"
      ]
     },
     "metadata": {},
     "output_type": "display_data"
    }
   ],
   "source": [
    "sns.lineplot(x = ogt_diffs, y = num_pairs)\n",
    "plt.ylabel('Number of pairs')\n",
    "plt.xlabel('ogt diff')\n",
    "plt.yscale('log')\n",
    "plt.ylim(1,num_pairs[0]*5);"
   ]
  },
  {
   "cell_type": "code",
   "execution_count": null,
   "id": "f44fc8d5",
   "metadata": {},
   "outputs": [],
   "source": [
    "# Need to explore number of protein pairs per taxa pair for different ogt_diff values"
   ]
  },
  {
   "cell_type": "markdown",
   "id": "42ca8c07",
   "metadata": {},
   "source": [
    "### Summary\n",
    "There are few samples with high ogt difference. We should include ogt_diff as a feature in our model and sample it selectively to provide enough examples of high-difference pairs."
   ]
  },
  {
   "cell_type": "code",
   "execution_count": null,
   "id": "c50a5dbf",
   "metadata": {},
   "outputs": [],
   "source": []
  }
 ],
 "metadata": {
  "kernelspec": {
   "display_name": "Python 3 (ipykernel)",
   "language": "python",
   "name": "python3"
  },
  "language_info": {
   "codemirror_mode": {
    "name": "ipython",
    "version": 3
   },
   "file_extension": ".py",
   "mimetype": "text/x-python",
   "name": "python",
   "nbconvert_exporter": "python",
   "pygments_lexer": "ipython3",
   "version": "3.10.9"
  }
 },
 "nbformat": 4,
 "nbformat_minor": 5
}
