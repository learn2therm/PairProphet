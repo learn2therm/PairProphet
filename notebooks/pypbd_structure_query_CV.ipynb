{
 "cells": [
  {
   "attachments": {},
   "cell_type": "markdown",
   "metadata": {},
   "source": [
    "##### The purpose of this notebook is to determine whether inquiring multiple protein sequences using `pypdb` is possible. Single sequence query has been done in the `pypdb_testing_CV.ipynb`."
   ]
  },
  {
   "cell_type": "code",
   "execution_count": 1,
   "metadata": {},
   "outputs": [],
   "source": [
    "import json\n",
    "import pandas as pd\n",
    "from pypdb import *"
   ]
  },
  {
   "cell_type": "code",
   "execution_count": 4,
   "metadata": {},
   "outputs": [
    {
     "name": "stdout",
     "output_type": "stream",
     "text": [
      "None\n"
     ]
    },
    {
     "name": "stderr",
     "output_type": "stream",
     "text": [
      "c:\\Users\\dongn\\miniconda3\\lib\\site-packages\\pypdb\\util\\http_requests.py:65: UserWarning: Too many failures on requests. Exiting...\n",
      "  warnings.warn(\"Too many failures on requests. Exiting...\")\n",
      "c:\\Users\\dongn\\miniconda3\\lib\\site-packages\\pypdb\\pypdb.py:293: UserWarning: Retrieval failed, returning None\n",
      "  warnings.warn(\"Retrieval failed, returning None\")\n"
     ]
    }
   ],
   "source": [
    "# multiple sequences query is not supported in RCSB, hence `pypdb` doesn't support it either\n",
    "return_polymer_entity = Query(\"MLLSDRDLVSEIKSGDLSLEPFEPALLQPSSIDVRLDRFFRVFNNHLYTHIDPAEQQDDLTAEVEVTDGEAFVLHPGEFVLASTLEVITLGDQLAGRLEGKSSLGRLGLLTHSTAGFIDPGFSGHVTLELSNVANLPIKLWPGMKIGQLCIFRLSSPAEHPYGSAVYGSRYQGQRGPTPSRSAQNFRLWPTS, MAYETINVDVQDHVCLIKLHRPEALNALNAALVSELCTALEEADASDKVRCIVLTGSEKAFAAGADIKEMSEMSFTDVYSSNLFAQVNDRIIAIRKPIIAAVAGYALGGGCELAMLCDFIIAAETAKFGQPEINLGVVAGIGGTQRLTRFVGKSKSMDMNLTGRFMGAEEAERAGLVSRVVPAKKLVDEAMAAAHKIAEKSQLTAVAVKEAVNRSYELTLSEGMLFERRAFHSMFATEDQKEGMAAFLEKREAQFRDK\", query_type=\"sequence\", return_type=\"polymer_entity\")\n",
    "\n",
    "print(return_polymer_entity.search())"
   ]
  },
  {
   "cell_type": "code",
   "execution_count": 6,
   "metadata": {},
   "outputs": [
    {
     "ename": "TypeError",
     "evalue": "__init__() got an unexpected keyword argument 'total_count'",
     "output_type": "error",
     "traceback": [
      "\u001b[1;31m---------------------------------------------------------------------------\u001b[0m",
      "\u001b[1;31mTypeError\u001b[0m                                 Traceback (most recent call last)",
      "Cell \u001b[1;32mIn [6], line 2\u001b[0m\n\u001b[0;32m      1\u001b[0m \u001b[39m# \u001b[39;00m\n\u001b[1;32m----> 2\u001b[0m return_polymer_entity \u001b[39m=\u001b[39m Query(\u001b[39m\"\u001b[39;49m\u001b[39mMLLSDRDLVSEIKSGDLSLEPFEPALLQPSSIDVRLDRFFRVFNNHLYTHIDPAEQQDDLTAEVEVTDGEAFVLHPGEFVLASTLEVITLGDQLAGRLEGKSSLGRLGLLTHSTAGFIDPGFSGHVTLELSNVANLPIKLWPGMKIGQLCIFRLSSPAEHPYGSAVYGSRYQGQRGPTPSRSAQNFRLWPTS\u001b[39;49m\u001b[39m\"\u001b[39;49m, \n\u001b[0;32m      3\u001b[0m           query_type\u001b[39m=\u001b[39;49m\u001b[39m\"\u001b[39;49m\u001b[39msequence\u001b[39;49m\u001b[39m\"\u001b[39;49m, \n\u001b[0;32m      4\u001b[0m           return_type\u001b[39m=\u001b[39;49m\u001b[39m\"\u001b[39;49m\u001b[39mpolymer_entity\u001b[39;49m\u001b[39m\"\u001b[39;49m,\n\u001b[0;32m      5\u001b[0m           total_count \u001b[39m=\u001b[39;49m \u001b[39m\"\u001b[39;49m\u001b[39m3\u001b[39;49m\u001b[39m\"\u001b[39;49m)\n\u001b[0;32m      7\u001b[0m \u001b[39mprint\u001b[39m(return_polymer_entity\u001b[39m.\u001b[39msearch())\n",
      "\u001b[1;31mTypeError\u001b[0m: __init__() got an unexpected keyword argument 'total_count'"
     ]
    }
   ],
   "source": [
    "# pypdb doesn't support total_count argument (which allows user to specify how many results they return)\n",
    "return_polymer_entity = Query(\"MLLSDRDLVSEIKSGDLSLEPFEPALLQPSSIDVRLDRFFRVFNNHLYTHIDPAEQQDDLTAEVEVTDGEAFVLHPGEFVLASTLEVITLGDQLAGRLEGKSSLGRLGLLTHSTAGFIDPGFSGHVTLELSNVANLPIKLWPGMKIGQLCIFRLSSPAEHPYGSAVYGSRYQGQRGPTPSRSAQNFRLWPTS\", \n",
    "          query_type=\"sequence\", \n",
    "          return_type=\"polymer_entity\",\n",
    "          total_count = \"3\")\n",
    "\n",
    "print(return_polymer_entity.search())"
   ]
  }
 ],
 "metadata": {
  "kernelspec": {
   "display_name": "base",
   "language": "python",
   "name": "python3"
  },
  "language_info": {
   "codemirror_mode": {
    "name": "ipython",
    "version": 3
   },
   "file_extension": ".py",
   "mimetype": "text/x-python",
   "name": "python",
   "nbconvert_exporter": "python",
   "pygments_lexer": "ipython3",
   "version": "3.9.15"
  },
  "orig_nbformat": 4,
  "vscode": {
   "interpreter": {
    "hash": "051408e384b092e648d9b352dd01f304a430893716b899343ccdbd06be80db1f"
   }
  }
 },
 "nbformat": 4,
 "nbformat_minor": 2
}
