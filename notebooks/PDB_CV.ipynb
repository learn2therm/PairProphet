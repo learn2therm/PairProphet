{
 "cells": [
  {
   "cell_type": "code",
   "execution_count": null,
   "metadata": {},
   "outputs": [
    {
     "name": "stdout",
     "output_type": "stream",
     "text": [
      "[]\n"
     ]
    }
   ],
   "source": [
    "import requests\n",
    "from bs4 import BeautifulSoup\n",
    "\n",
    "# Enter amino acid sequence\n",
    "sequence = 'ACDEFGHIKLMNPQRSTVWY'\n",
    "\n",
    "# Construct URL with sequence parameter\n",
    "url = f'https://www.rcsb.org/search?request=%7B%22query%22%3A%7B%22type%22%3A%22group%22%2C%22logical_operator%22%3A%22and%22%2C%22nodes%22%3A%5B%7B%22type%22%3A%22terminal%22%2C%22service%22%3A%22text%22%2C%22parameters%22%3A%7B%22attribute%22%3A%22rcsb_polymer_entity_sequence.rcsb_sequence%22%2C%22operator%22%3A%22exact_match%22%2C%22value%22%3A%22{sequence}%22%7D%7D%5D%2C%22return_type%22%3A%22entry%22%7D'\n",
    "\n",
    "# Make HTTP GET request and parse HTML content\n",
    "response = requests.get(url)\n",
    "soup = BeautifulSoup(response.content, 'html.parser')\n",
    "\n",
    "# Find all PDB IDs in search results\n",
    "pdb_ids = [result.find('span', {'class': 'ng-binding'}).text for result in soup.find_all('div', {'class': 'search-hit-details'})]\n",
    "\n",
    "# Print PDB IDs\n",
    "print(pdb_ids)"
   ]
  },
  {
   "cell_type": "code",
   "execution_count": 9,
   "metadata": {},
   "outputs": [],
   "source": [
    "from dataclasses import dataclass\n",
    "from enum import Enum\n",
    "from typing import Any, Dict, Optional, Union"
   ]
  },
  {
   "cell_type": "code",
   "execution_count": 10,
   "metadata": {},
   "outputs": [],
   "source": [
    "class SequenceType(Enum):\n",
    "    \"\"\"Type of sequence being searched.\"\"\"\n",
    "    DNA = \"pdb_dna_sequence\"\n",
    "    RNA = \"pdb_rna_sequence\"\n",
    "    PROTEIN = \"pdb_protein_sequence\"\n",
    "\n",
    "\n",
    "class CannotAutoresolveSequenceTypeError(Exception):\n",
    "    \"\"\"Raised when a sequence is ambiguous as to its `SequenceType`.\"\"\"\n",
    "\n",
    "\n",
    "@dataclass\n",
    "class SequenceOperator:\n",
    "    \"\"\"Default search operator; searches across available fields search,\n",
    "    and returns a hit if a match happens in any field.\"\"\"\n",
    "    sequence: str\n",
    "    # If the sequence type is not specified, tries to autoresolve the type from\n",
    "    # the sequence itself\n",
    "    sequence_type: Optional[SequenceType] = None\n",
    "    # Maximum E Value allowed for results\n",
    "    # (see: https://www.ncbi.nlm.nih.gov/BLAST/tutorial/Altschul-1.html)\n",
    "    evalue_cutoff: float = 100\n",
    "    # Minimum identity cutoff allowed for results\n",
    "    # (see: https://www.ncbi.nlm.nih.gov/books/NBK62051/def-item/identity/)\n",
    "    identity_cutoff: float = 0.95\n",
    "\n",
    "    def __post_init__(self):\n",
    "        if self.sequence_type is None:\n",
    "            self._autoresolve_sequence_type()\n",
    "\n",
    "    def _autoresolve_sequence_type(self):\n",
    "        unique_letters = set(list(self.sequence))\n",
    "\n",
    "        dna_letter_set = set([\"A\", \"T\", \"C\", \"G\"])\n",
    "        rna_letter_set = set([\"A\", \"U\", \"C\", \"G\"])\n",
    "        protein_letter_set = set(list(\"ABCDEFGHIKLMNPQRSTVWXYZ\"))\n",
    "        protein_fingerprint_set = set(list(\"BDEFHIKLMNPQRSVWXYZ\"))\n",
    "        if unique_letters.issubset(dna_letter_set) and \"T\" in unique_letters:\n",
    "            self.sequence_type = SequenceType.DNA\n",
    "        elif unique_letters.issubset(rna_letter_set) and \"U\" in unique_letters:\n",
    "            self.sequence_type = SequenceType.RNA\n",
    "        elif (unique_letters.issubset(protein_letter_set)\n",
    "              and protein_fingerprint_set & unique_letters):\n",
    "            self.sequence_type = SequenceType.PROTEIN\n",
    "        else:\n",
    "            raise CannotAutoresolveSequenceTypeError(\n",
    "                \"Sequence is ambiguous as to its SequenceType: `{}`\".format(\n",
    "                    self.sequence))\n",
    "\n",
    "    def _to_dict(self) -> Dict[str, Any]:\n",
    "        return {\n",
    "            \"evalue_cutoff\": self.evalue_cutoff,\n",
    "            \"identity_cutoff\": self.identity_cutoff,\n",
    "            \"target\": self.sequence_type.value,  # type: ignore\n",
    "            \"value\": self.sequence\n",
    "        }"
   ]
  },
  {
   "cell_type": "code",
   "execution_count": 3,
   "metadata": {},
   "outputs": [],
   "source": [
    "import json"
   ]
  },
  {
   "cell_type": "code",
   "execution_count": 6,
   "metadata": {},
   "outputs": [],
   "source": [
    "search = '''\n",
    "{\n",
    "  \"query\": {\n",
    "    \"type\": \"terminal\",\n",
    "    \"service\": \"sequence\",\n",
    "    \"parameters\": {\n",
    "      \"evalue_cutoff\": 1,\n",
    "      \"identity_cutoff\": 0.9,\n",
    "      \"sequence_type\": \"protein\",\n",
    "      \"value\": \"MTEYKLVVVGAGGVGKSALTIQLIQNHFVDEYDPTIEDSYRKQVVIDGETCLLDILDTAGQEEYSAMRDQYMRTGEGFLCVFAINNTKSFEDIHQYREQIKRVKDSDDVPMVLVGNKCDLPARTVETRQAQDLARSYGIPYIETSAKTRQGVEDAFYTLVREIRQHKLRKLNPPDESGPGCMNCKCVIS\"\n",
    "    }\n",
    "  },\n",
    "  \"request_options\": {\n",
    "    \"scoring_strategy\": \"sequence\"\n",
    "  },\n",
    "  \"return_type\": \"polymer_entity\"\n",
    "}\n",
    "'''"
   ]
  },
  {
   "cell_type": "code",
   "execution_count": 7,
   "metadata": {},
   "outputs": [
    {
     "name": "stdout",
     "output_type": "stream",
     "text": [
      "\n",
      "{\n",
      "  \"query\": {\n",
      "    \"type\": \"terminal\",\n",
      "    \"service\": \"sequence\",\n",
      "    \"parameters\": {\n",
      "      \"evalue_cutoff\": 1,\n",
      "      \"identity_cutoff\": 0.9,\n",
      "      \"sequence_type\": \"protein\",\n",
      "      \"value\": \"MTEYKLVVVGAGGVGKSALTIQLIQNHFVDEYDPTIEDSYRKQVVIDGETCLLDILDTAGQEEYSAMRDQYMRTGEGFLCVFAINNTKSFEDIHQYREQIKRVKDSDDVPMVLVGNKCDLPARTVETRQAQDLARSYGIPYIETSAKTRQGVEDAFYTLVREIRQHKLRKLNPPDESGPGCMNCKCVIS\"\n",
      "    }\n",
      "  },\n",
      "  \"request_options\": {\n",
      "    \"scoring_strategy\": \"sequence\"\n",
      "  },\n",
      "  \"return_type\": \"polymer_entity\"\n",
      "}\n",
      "\n"
     ]
    }
   ],
   "source": [
    "data = json.loads(search)\n",
    "print(search)"
   ]
  }
 ],
 "metadata": {
  "kernelspec": {
   "display_name": "base",
   "language": "python",
   "name": "python3"
  },
  "language_info": {
   "codemirror_mode": {
    "name": "ipython",
    "version": 3
   },
   "file_extension": ".py",
   "mimetype": "text/x-python",
   "name": "python",
   "nbconvert_exporter": "python",
   "pygments_lexer": "ipython3",
   "version": "3.9.15"
  },
  "orig_nbformat": 4,
  "vscode": {
   "interpreter": {
    "hash": "051408e384b092e648d9b352dd01f304a430893716b899343ccdbd06be80db1f"
   }
  }
 },
 "nbformat": 4,
 "nbformat_minor": 2
}
