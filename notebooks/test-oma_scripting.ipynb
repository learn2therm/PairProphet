{
 "cells": [
  {
   "cell_type": "markdown",
   "id": "8189fed0-3718-4cd7-ba40-e146ecd76a14",
   "metadata": {},
   "source": [
    "# OMA scripting\n",
    "# ==============================="
   ]
  },
  {
   "cell_type": "code",
   "execution_count": 1,
   "id": "a7b6e8d1-d15c-498a-8883-9b3647949bd3",
   "metadata": {},
   "outputs": [
    {
     "name": "stderr",
     "output_type": "stream",
     "text": [
      "/gscratch/cheme/users/halanzi/mambaforge/envs/pairpro/lib/python3.10/site-packages/numpy/core/getlimits.py:549: UserWarning: The value of the smallest subnormal for <class 'numpy.float64'> type is zero.\n",
      "  setattr(self, word, getattr(machar, word).flat[0])\n",
      "/gscratch/cheme/users/halanzi/mambaforge/envs/pairpro/lib/python3.10/site-packages/numpy/core/getlimits.py:89: UserWarning: The value of the smallest subnormal for <class 'numpy.float64'> type is zero.\n",
      "  return self._float_to_str(self.smallest_subnormal)\n",
      "/gscratch/cheme/users/halanzi/mambaforge/envs/pairpro/lib/python3.10/site-packages/numpy/core/getlimits.py:549: UserWarning: The value of the smallest subnormal for <class 'numpy.float32'> type is zero.\n",
      "  setattr(self, word, getattr(machar, word).flat[0])\n",
      "/gscratch/cheme/users/halanzi/mambaforge/envs/pairpro/lib/python3.10/site-packages/numpy/core/getlimits.py:89: UserWarning: The value of the smallest subnormal for <class 'numpy.float32'> type is zero.\n",
      "  return self._float_to_str(self.smallest_subnormal)\n"
     ]
    }
   ],
   "source": [
    "# system dependencies\n",
    "import sys\n",
    "import logging\n",
    "import os\n",
    "import time\n",
    "\n",
    "# library dependencies\n",
    "import click\n",
    "import duckdb as ddb\n",
    "import pandas as pd\n",
    "import pyhmmer\n",
    "import joblib\n",
    "from joblib import Parallel, delayed\n",
    "from sklearn.utils import resample\n",
    "from tqdm import tqdm\n",
    "\n",
    "\n",
    "# local dependencies\n",
    "import pairpro.utils as pp_utils\n",
    "# blast\n",
    "import pairpro.user_blast as pp_up\n",
    "# hmmer\n",
    "import pairpro.hmmer as pp_hmmer\n",
    "# structure\n",
    "import pairpro.structures as pp_structures\n",
    "# ML\n",
    "from pairpro.train_val_wrapper import train_val_wrapper"
   ]
  },
  {
   "cell_type": "code",
   "execution_count": 4,
   "id": "ec322cec-aaac-4a3a-86c9-2e5a5304c8e2",
   "metadata": {},
   "outputs": [],
   "source": [
    "####################\n",
    "### PATHS & VARS ###\n",
    "####################\n",
    "# db Paths\n",
    "TEST_DB_PATH = '../tmp/oma.db' \n",
    "\n",
    "# BLAST Paths\n",
    "BLAST_OUTPUT_DIR = '../data/protein_pairs/blast_output/'\n",
    "\n",
    "# HMMER Paths\n",
    "HMM_PATH = '../data/pfam/Pfam-A.hmm'  # ./Pfam-A.hmm\n",
    "PRESS_PATH = '../data/pfam/pfam'\n",
    "HMMER_OUTPUT_DIR = '../data/protein_pairs/'\n",
    "PARSE_HMMER_OUTPUT_DIR = '../data/protein_pairs/parsed_hmmer_output/'\n",
    "WORKER_WAKE_UP_TIME = 25  # this is to ensure that if a worker that is about to be shut down due to previous task completetion doesn't actually start running\n",
    "\n",
    "# Structure Paths\n",
    "STRUCTURE_DIR = '../data/structures/'\n",
    "STRUCTURE_OUTPUT_DIR = '../data/protein_pairs/structures/'\n",
    "\n",
    "# ML Paths\n",
    "MODEL_PATH = '../data/models/'"
   ]
  },
  {
   "cell_type": "code",
   "execution_count": 3,
   "id": "c9fbd1f5-409d-4859-afc1-f3b6530c2be6",
   "metadata": {},
   "outputs": [],
   "source": [
    "##################\n",
    "# Aux. functions #\n",
    "##################\n",
    "\n",
    "# Logan edit of combined dataframe function (need to change function call name in main script):\n",
    "\n",
    "def balance_data(dataframe, target_columns):\n",
    "    \"\"\"\n",
    "    Resamples the dataframe to evenly distribute labels\n",
    "\n",
    "    Args:\n",
    "        dataframe (pandas dataframe): training dataframe\n",
    "        label_columns (list): list of columns to sample from\n",
    "\n",
    "    Returns:\n",
    "        pandas dataframe: New DF with evenly sampled labels\n",
    "    \"\"\"\n",
    "    # Ensure target_columns is a list, even if it's a single column.\n",
    "    if not isinstance(target_columns, list):\n",
    "        target_columns = list(target_columns)\n",
    "\n",
    "    for target in target_columns:\n",
    "        # separate the majority and minority classes\n",
    "        majority_class = dataframe[dataframe[target] == dataframe[target].value_counts().idxmax()]\n",
    "        minority_class = dataframe[dataframe[target] == dataframe[target].value_counts().idxmin()]\n",
    "\n",
    "        #create new dataframe with len(minority_class)\n",
    "        n_samples = len(minority_class)\n",
    "        undersampled_majority = resample(majority_class, n_samples=n_samples, replace=False)\n",
    "\n",
    "        # Combine the undersampled majority class with the minority class\n",
    "        dataframe = pd.concat([undersampled_majority, minority_class])\n",
    "        print(f'DF length reduced to {dataframe.shape}')\n",
    "        print(f'{target} value counts: {dataframe[target].value_counts()}')\n",
    "        \n",
    "    return dataframe"
   ]
  },
  {
   "cell_type": "markdown",
   "id": "348994ec-ba06-4d80-a3ed-4a4044d75591",
   "metadata": {},
   "source": [
    "## Actual script w/o click stuff"
   ]
  },
  {
   "cell_type": "code",
   "execution_count": 5,
   "id": "bc6bda62-4e96-45c9-884d-e9c38d2f8a3a",
   "metadata": {},
   "outputs": [
    {
     "data": {
      "text/plain": [
       "<duckdb.DuckDBPyConnection at 0x7f136c914c30>"
      ]
     },
     "execution_count": 5,
     "metadata": {},
     "output_type": "execute_result"
    }
   ],
   "source": [
    "##### database construction #####\n",
    "\n",
    "con = ddb.connect(TEST_DB_PATH, read_only=False) # create a database. Has to be read_only=False\n",
    "\n",
    "# create main table\n",
    "con.execute(\"\"\"CREATE OR REPLACE TABLE OMA_main AS \n",
    "            (\n",
    "            SELECT query_id, subject_id, pair_id, query, subject \n",
    "            FROM\n",
    "            (\n",
    "                SELECT protein1_uniprot_id AS query_id, protein2_uniprot_id AS subject_id, pair_id, protein1_sequence AS query, protein2_sequence AS subject\n",
    "                FROM combined_pairs\n",
    "            ) \n",
    "            );\"\"\")\n",
    "\n",
    "con.commit() # commit the changes. Otherwise, the table will not be created.\n",
    "\n",
    "# create a table for proteins in pairs\n",
    "con.execute(\"\"\"CREATE OR REPLACE TABLE processed_proteins AS \n",
    "    (\n",
    "        SELECT DISTINCT pid, protein_seq\n",
    "        FROM \n",
    "        (\n",
    "            SELECT protein1_uniprot_id AS pid, protein2_sequence as protein_seq\n",
    "            FROM combined_pairs\n",
    "            UNION ALL\n",
    "            SELECT protein2_uniprot_id AS pid, protein2_sequence as protein_seq\n",
    "            FROM combined_pairs\n",
    "        )   \n",
    "    );\"\"\")\n",
    "\n",
    "con.commit() # commit the changes. Otherwise, the table will not be created."
   ]
  },
  {
   "cell_type": "markdown",
   "id": "62b72984-066c-446a-88f3-c8fd69f95551",
   "metadata": {},
   "source": [
    "**Quick comment**:\n",
    "This works as exepcted. Let's assume. We want to BLAST via Click. We will think about synergy b/w modules later, i.e., ml_feature_list as a way to keep track of choices."
   ]
  },
  {
   "cell_type": "markdown",
   "id": "88fd592e-a30c-40d5-a9f5-070d834638eb",
   "metadata": {},
   "source": [
    "### BLAST"
   ]
  },
  {
   "cell_type": "code",
   "execution_count": 11,
   "id": "4c31b0d1-f5d4-41c3-9760-bc2c8cfa1300",
   "metadata": {},
   "outputs": [
    {
     "name": "stdout",
     "output_type": "stream",
     "text": [
      "Starting to run BLAST\n",
      "DataFrame shape before BLAST processing: (20, 5)\n",
      "Starting to run BLAST\n",
      "BLAST completed in 0.8106026649475098 seconds\n"
     ]
    }
   ],
   "source": [
    "print('Starting to run BLAST')\n",
    "dataframe_for_blast = con.execute(\"SELECT * FROM OMA_main LIMIT 20\").df()\n",
    "print(f\"DataFrame shape before BLAST processing: {dataframe_for_blast.shape}\")\n",
    "\n",
    "# run blast\n",
    "s_time = time.time()\n",
    "print('Starting to run BLAST')\n",
    "blast_df = pp_up.blast_pairs(dataframe_for_blast, cpus=4)\n",
    "print(f'BLAST completed in {time.time()-s_time} seconds')\n",
    "\n",
    "# save blast results to csv\n",
    "blast_df.to_csv(f'{BLAST_OUTPUT_DIR}blast_output.csv', index=False)"
   ]
  },
  {
   "cell_type": "code",
   "execution_count": 10,
   "id": "46b192b9-50fb-46a8-a29b-4ca07d6ad296",
   "metadata": {},
   "outputs": [
    {
     "name": "stdout",
     "output_type": "stream",
     "text": [
      "Starting to run BLAST\n",
      "DataFrame shape before BLAST processing: (402329, 5)\n",
      "Starting to run BLAST\n",
      "Found and skipped 178 invalid row(s) containing invalid amino acid sequences.\n"
     ]
    },
    {
     "ename": "KeyboardInterrupt",
     "evalue": "",
     "output_type": "error",
     "traceback": [
      "\u001b[0;31m---------------------------------------------------------------------------\u001b[0m",
      "\u001b[0;31mKeyboardInterrupt\u001b[0m                         Traceback (most recent call last)",
      "Cell \u001b[0;32mIn[10], line 8\u001b[0m\n\u001b[1;32m      6\u001b[0m s_time \u001b[38;5;241m=\u001b[39m time\u001b[38;5;241m.\u001b[39mtime()\n\u001b[1;32m      7\u001b[0m \u001b[38;5;28mprint\u001b[39m(\u001b[38;5;124m'\u001b[39m\u001b[38;5;124mStarting to run BLAST\u001b[39m\u001b[38;5;124m'\u001b[39m)\n\u001b[0;32m----> 8\u001b[0m blast_df \u001b[38;5;241m=\u001b[39m \u001b[43mpp_up\u001b[49m\u001b[38;5;241;43m.\u001b[39;49m\u001b[43mblast_pairs\u001b[49m\u001b[43m(\u001b[49m\u001b[43mdataframe_for_blast\u001b[49m\u001b[43m,\u001b[49m\u001b[43m \u001b[49m\u001b[43mcpus\u001b[49m\u001b[38;5;241;43m=\u001b[39;49m\u001b[38;5;241;43m4\u001b[39;49m\u001b[43m)\u001b[49m\n\u001b[1;32m      9\u001b[0m \u001b[38;5;28mprint\u001b[39m(\u001b[38;5;124mf\u001b[39m\u001b[38;5;124m'\u001b[39m\u001b[38;5;124mBLAST completed in \u001b[39m\u001b[38;5;132;01m{\u001b[39;00mtime\u001b[38;5;241m.\u001b[39mtime()\u001b[38;5;241m-\u001b[39ms_time\u001b[38;5;132;01m}\u001b[39;00m\u001b[38;5;124m seconds\u001b[39m\u001b[38;5;124m'\u001b[39m)\n\u001b[1;32m     11\u001b[0m \u001b[38;5;66;03m# save blast results to csv\u001b[39;00m\n",
      "File \u001b[0;32m/mmfs1/gscratch/cheme/users/halanzi/git_repos/PairProphet/pairpro/user_blast.py:252\u001b[0m, in \u001b[0;36mblast_pairs\u001b[0;34m(df_in, cpus, mode)\u001b[0m\n\u001b[1;32m    246\u001b[0m scaled_local_query_percent_id \u001b[38;5;241m=\u001b[39m n_matches \u001b[38;5;241m/\u001b[39m query_length\n\u001b[1;32m    248\u001b[0m \u001b[38;5;66;03m# Collect calculated metrics into a list for addition to final_data\u001b[39;00m\n\u001b[1;32m    249\u001b[0m new_row \u001b[38;5;241m=\u001b[39m [gap_comp_pct_id, scaled_local_query_percent_id,\n\u001b[1;32m    250\u001b[0m         scaled_local_symmetric_percent_id, query_length,\n\u001b[1;32m    251\u001b[0m         query_cov, subject_length, subject_cov, best_alignment\u001b[38;5;241m.\u001b[39mscore,\n\u001b[0;32m--> 252\u001b[0m         data[\u001b[38;5;124m'\u001b[39m\u001b[38;5;124mpair_id\u001b[39m\u001b[38;5;124m'\u001b[39m], data[\u001b[38;5;124m'\u001b[39m\u001b[38;5;124mquery_id\u001b[39m\u001b[38;5;124m'\u001b[39m], data[\u001b[38;5;124m'\u001b[39m\u001b[38;5;124msubject_id\u001b[39m\u001b[38;5;124m'\u001b[39m]]\n\u001b[1;32m    253\u001b[0m \u001b[38;5;28;01mreturn\u001b[39;00m new_row\n",
      "File \u001b[0;32m/gscratch/cheme/users/halanzi/mambaforge/envs/pairpro/lib/python3.10/site-packages/joblib/parallel.py:1098\u001b[0m, in \u001b[0;36mParallel.__call__\u001b[0;34m(self, iterable)\u001b[0m\n\u001b[1;32m   1095\u001b[0m     \u001b[38;5;28mself\u001b[39m\u001b[38;5;241m.\u001b[39m_iterating \u001b[38;5;241m=\u001b[39m \u001b[38;5;28;01mFalse\u001b[39;00m\n\u001b[1;32m   1097\u001b[0m \u001b[38;5;28;01mwith\u001b[39;00m \u001b[38;5;28mself\u001b[39m\u001b[38;5;241m.\u001b[39m_backend\u001b[38;5;241m.\u001b[39mretrieval_context():\n\u001b[0;32m-> 1098\u001b[0m     \u001b[38;5;28;43mself\u001b[39;49m\u001b[38;5;241;43m.\u001b[39;49m\u001b[43mretrieve\u001b[49m\u001b[43m(\u001b[49m\u001b[43m)\u001b[49m\n\u001b[1;32m   1099\u001b[0m \u001b[38;5;66;03m# Make sure that we get a last message telling us we are done\u001b[39;00m\n\u001b[1;32m   1100\u001b[0m elapsed_time \u001b[38;5;241m=\u001b[39m time\u001b[38;5;241m.\u001b[39mtime() \u001b[38;5;241m-\u001b[39m \u001b[38;5;28mself\u001b[39m\u001b[38;5;241m.\u001b[39m_start_time\n",
      "File \u001b[0;32m/gscratch/cheme/users/halanzi/mambaforge/envs/pairpro/lib/python3.10/site-packages/joblib/parallel.py:975\u001b[0m, in \u001b[0;36mParallel.retrieve\u001b[0;34m(self)\u001b[0m\n\u001b[1;32m    973\u001b[0m \u001b[38;5;28;01mtry\u001b[39;00m:\n\u001b[1;32m    974\u001b[0m     \u001b[38;5;28;01mif\u001b[39;00m \u001b[38;5;28mgetattr\u001b[39m(\u001b[38;5;28mself\u001b[39m\u001b[38;5;241m.\u001b[39m_backend, \u001b[38;5;124m'\u001b[39m\u001b[38;5;124msupports_timeout\u001b[39m\u001b[38;5;124m'\u001b[39m, \u001b[38;5;28;01mFalse\u001b[39;00m):\n\u001b[0;32m--> 975\u001b[0m         \u001b[38;5;28mself\u001b[39m\u001b[38;5;241m.\u001b[39m_output\u001b[38;5;241m.\u001b[39mextend(\u001b[43mjob\u001b[49m\u001b[38;5;241;43m.\u001b[39;49m\u001b[43mget\u001b[49m\u001b[43m(\u001b[49m\u001b[43mtimeout\u001b[49m\u001b[38;5;241;43m=\u001b[39;49m\u001b[38;5;28;43mself\u001b[39;49m\u001b[38;5;241;43m.\u001b[39;49m\u001b[43mtimeout\u001b[49m\u001b[43m)\u001b[49m)\n\u001b[1;32m    976\u001b[0m     \u001b[38;5;28;01melse\u001b[39;00m:\n\u001b[1;32m    977\u001b[0m         \u001b[38;5;28mself\u001b[39m\u001b[38;5;241m.\u001b[39m_output\u001b[38;5;241m.\u001b[39mextend(job\u001b[38;5;241m.\u001b[39mget())\n",
      "File \u001b[0;32m/gscratch/cheme/users/halanzi/mambaforge/envs/pairpro/lib/python3.10/site-packages/joblib/_parallel_backends.py:567\u001b[0m, in \u001b[0;36mLokyBackend.wrap_future_result\u001b[0;34m(future, timeout)\u001b[0m\n\u001b[1;32m    564\u001b[0m \u001b[38;5;250m\u001b[39m\u001b[38;5;124;03m\"\"\"Wrapper for Future.result to implement the same behaviour as\u001b[39;00m\n\u001b[1;32m    565\u001b[0m \u001b[38;5;124;03mAsyncResults.get from multiprocessing.\"\"\"\u001b[39;00m\n\u001b[1;32m    566\u001b[0m \u001b[38;5;28;01mtry\u001b[39;00m:\n\u001b[0;32m--> 567\u001b[0m     \u001b[38;5;28;01mreturn\u001b[39;00m \u001b[43mfuture\u001b[49m\u001b[38;5;241;43m.\u001b[39;49m\u001b[43mresult\u001b[49m\u001b[43m(\u001b[49m\u001b[43mtimeout\u001b[49m\u001b[38;5;241;43m=\u001b[39;49m\u001b[43mtimeout\u001b[49m\u001b[43m)\u001b[49m\n\u001b[1;32m    568\u001b[0m \u001b[38;5;28;01mexcept\u001b[39;00m CfTimeoutError \u001b[38;5;28;01mas\u001b[39;00m e:\n\u001b[1;32m    569\u001b[0m     \u001b[38;5;28;01mraise\u001b[39;00m \u001b[38;5;167;01mTimeoutError\u001b[39;00m \u001b[38;5;28;01mfrom\u001b[39;00m \u001b[38;5;21;01me\u001b[39;00m\n",
      "File \u001b[0;32m/gscratch/cheme/users/halanzi/mambaforge/envs/pairpro/lib/python3.10/concurrent/futures/_base.py:453\u001b[0m, in \u001b[0;36mFuture.result\u001b[0;34m(self, timeout)\u001b[0m\n\u001b[1;32m    450\u001b[0m \u001b[38;5;28;01melif\u001b[39;00m \u001b[38;5;28mself\u001b[39m\u001b[38;5;241m.\u001b[39m_state \u001b[38;5;241m==\u001b[39m FINISHED:\n\u001b[1;32m    451\u001b[0m     \u001b[38;5;28;01mreturn\u001b[39;00m \u001b[38;5;28mself\u001b[39m\u001b[38;5;241m.\u001b[39m__get_result()\n\u001b[0;32m--> 453\u001b[0m \u001b[38;5;28;43mself\u001b[39;49m\u001b[38;5;241;43m.\u001b[39;49m\u001b[43m_condition\u001b[49m\u001b[38;5;241;43m.\u001b[39;49m\u001b[43mwait\u001b[49m\u001b[43m(\u001b[49m\u001b[43mtimeout\u001b[49m\u001b[43m)\u001b[49m\n\u001b[1;32m    455\u001b[0m \u001b[38;5;28;01mif\u001b[39;00m \u001b[38;5;28mself\u001b[39m\u001b[38;5;241m.\u001b[39m_state \u001b[38;5;129;01min\u001b[39;00m [CANCELLED, CANCELLED_AND_NOTIFIED]:\n\u001b[1;32m    456\u001b[0m     \u001b[38;5;28;01mraise\u001b[39;00m CancelledError()\n",
      "File \u001b[0;32m/gscratch/cheme/users/halanzi/mambaforge/envs/pairpro/lib/python3.10/threading.py:320\u001b[0m, in \u001b[0;36mCondition.wait\u001b[0;34m(self, timeout)\u001b[0m\n\u001b[1;32m    318\u001b[0m \u001b[38;5;28;01mtry\u001b[39;00m:    \u001b[38;5;66;03m# restore state no matter what (e.g., KeyboardInterrupt)\u001b[39;00m\n\u001b[1;32m    319\u001b[0m     \u001b[38;5;28;01mif\u001b[39;00m timeout \u001b[38;5;129;01mis\u001b[39;00m \u001b[38;5;28;01mNone\u001b[39;00m:\n\u001b[0;32m--> 320\u001b[0m         \u001b[43mwaiter\u001b[49m\u001b[38;5;241;43m.\u001b[39;49m\u001b[43macquire\u001b[49m\u001b[43m(\u001b[49m\u001b[43m)\u001b[49m\n\u001b[1;32m    321\u001b[0m         gotit \u001b[38;5;241m=\u001b[39m \u001b[38;5;28;01mTrue\u001b[39;00m\n\u001b[1;32m    322\u001b[0m     \u001b[38;5;28;01melse\u001b[39;00m:\n",
      "\u001b[0;31mKeyboardInterrupt\u001b[0m: "
     ]
    }
   ],
   "source": [
    "print('Starting to run BLAST')\n",
    "dataframe_for_blast = con.execute(\"SELECT * FROM OMA_main\").df()\n",
    "print(f\"DataFrame shape before BLAST processing: {dataframe_for_blast.shape}\")\n",
    "\n",
    "# run blast\n",
    "s_time = time.time()\n",
    "print('Starting to run BLAST')\n",
    "blast_df = pp_up.blast_pairs(dataframe_for_blast, cpus=4)\n",
    "print(f'BLAST completed in {time.time()-s_time} seconds')\n",
    "\n",
    "# save blast results to csv\n",
    "blast_df.to_csv(f'{BLAST_OUTPUT_DIR}blast_output.csv', index=False)"
   ]
  },
  {
   "cell_type": "markdown",
   "id": "85ab54dd-b18c-4f11-8e62-590c304db15d",
   "metadata": {},
   "source": [
    "**Notes**:\n",
    "\n",
    "--\n",
    "\n",
    "* Here we stop and check if we can manupliate duckdb correctly\n",
    "* BLAST takes a bit now..."
   ]
  },
  {
   "cell_type": "code",
   "execution_count": null,
   "id": "e00f7ba9-d4e3-4d60-ac4d-8e3862d6e994",
   "metadata": {},
   "outputs": [],
   "source": []
  },
  {
   "cell_type": "markdown",
   "id": "455c86c1-adf0-4fd9-a25d-dcb1d7431a8a",
   "metadata": {},
   "source": [
    "### HMMER"
   ]
  },
  {
   "cell_type": "code",
   "execution_count": null,
   "id": "cffa9541-5e4d-4e2c-8192-71b724487505",
   "metadata": {},
   "outputs": [],
   "source": []
  },
  {
   "cell_type": "markdown",
   "id": "89d3705c-7613-4fd4-b480-bd885abd7a90",
   "metadata": {},
   "source": [
    "### Structure/FATCAT 2.0"
   ]
  },
  {
   "cell_type": "code",
   "execution_count": null,
   "id": "8c084755-0d11-4ac5-8fd3-fa20c867224d",
   "metadata": {},
   "outputs": [],
   "source": []
  }
 ],
 "metadata": {
  "kernelspec": {
   "display_name": "Python 3 (ipykernel)",
   "language": "python",
   "name": "python3"
  },
  "language_info": {
   "codemirror_mode": {
    "name": "ipython",
    "version": 3
   },
   "file_extension": ".py",
   "mimetype": "text/x-python",
   "name": "python",
   "nbconvert_exporter": "python",
   "pygments_lexer": "ipython3",
   "version": "3.10.12"
  }
 },
 "nbformat": 4,
 "nbformat_minor": 5
}
