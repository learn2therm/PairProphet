{
 "cells": [
  {
   "cell_type": "code",
   "execution_count": 1,
   "metadata": {},
   "outputs": [],
   "source": [
    "from Bio.Blast import NCBIWWW\n",
    "from Bio import SearchIO"
   ]
  },
  {
   "cell_type": "code",
   "execution_count": 3,
   "metadata": {},
   "outputs": [],
   "source": [
    "# Submit blastp query to NCBI server, hsp = high-scoring pair\n",
    "result_handle = NCBIWWW.qblast(\"blastp\", \"nr\", \"MLLSDRDLVSEIKSGDLSLEPFEPALLQPSSIDVRLDRFFRVFNNHLYTHIDPAEQQDDLTAEVEVTDGEAFVLHPGEFVLASTLEVITLGDQLAGRLEGKSSLGRLGLLTHSTAGFIDPGFSGHVTLELSNVANLPIKLWPGMKIGQLCIFRLSSPAEHPYGSAVYGSRYQGQRGPTPSRSAQNFRLWPTS\")\n",
    "with open(\"blast_result.xml\", \"w\") as out_handle:\n",
    "    out_handle.write(result_handle.read())"
   ]
  },
  {
   "cell_type": "code",
   "execution_count": 8,
   "metadata": {},
   "outputs": [],
   "source": [
    "blast_qresult = SearchIO.read(\"blast_result.xml\", \"blast-xml\")"
   ]
  },
  {
   "cell_type": "code",
   "execution_count": 11,
   "metadata": {},
   "outputs": [
    {
     "name": "stdout",
     "output_type": "stream",
     "text": [
      "Program: blastp (2.14.0+)\n",
      "  Query: unnamed (192)\n",
      "         protein product\n",
      " Target: nr\n",
      "   Hits: ----  -----  ----------------------------------------------------------\n",
      "            #  # HSP  ID + description\n",
      "         ----  -----  ----------------------------------------------------------\n",
      "            0      1  ref|WP_184954298.1|  dCTP deaminase [Actinoplanes abuje...\n",
      "            1      1  ref|WP_202997475.1|  dCTP deaminase [Actinoplanes liche...\n",
      "            2      1  ref|WP_203376846.1|  dCTP deaminase [Actinoplanes ovali...\n",
      "            3      1  ref|WP_215795258.1|  dCTP deaminase [Actinoplanes bogor...\n",
      "            4      1  ref|WP_020516870.1|  dCTP deaminase [Actinoplanes globi...\n",
      "            5      1  ref|WP_030438386.1|  dCTP deaminase [Actinoplanes subtr...\n",
      "            6      1  ref|WP_263027215.1|  dCTP deaminase [Actinoplanes sp. KI2]\n",
      "            7      1  ref|WP_203812694.1|  dCTP deaminase [Actinoplanes terel...\n",
      "            8      1  ref|WP_203818250.1|  dCTP deaminase [Actinoplanes ferru...\n",
      "            9      1  ref|WP_133873740.1|  dCTP deaminase [Actinoplanes brasi...\n"
     ]
    }
   ],
   "source": [
    "print(blast_qresult[:10])"
   ]
  },
  {
   "cell_type": "code",
   "execution_count": 13,
   "metadata": {},
   "outputs": [],
   "source": [
    "import requests\n",
    "\n",
    "# Send request to AlphaFold for UniProt ID A0A7W7G550\n",
    "url = \"https://alphafold.ebi.ac.uk/entry/A0A7W7G550\"\n",
    "response = requests.get(url)\n",
    "response.raise_for_status()\n",
    "\n",
    "# Save PDB file to disk\n",
    "pdb_data = response.content.decode(\"utf-8\")\n",
    "with open(\"A0A7W7G550.pdb\", \"w\") as f:\n",
    "    f.write(pdb_data)"
   ]
  },
  {
   "cell_type": "code",
   "execution_count": 7,
   "metadata": {},
   "outputs": [],
   "source": [
    "from Bio.PDB import PDBList"
   ]
  },
  {
   "cell_type": "code",
   "execution_count": 9,
   "metadata": {},
   "outputs": [
    {
     "name": "stderr",
     "output_type": "stream",
     "text": [
      "WARNING: The default download format has changed from PDB to PDBx/mmCif\n"
     ]
    },
    {
     "name": "stdout",
     "output_type": "stream",
     "text": [
      "Downloading PDB structure '1enh'...\n"
     ]
    },
    {
     "name": "stderr",
     "output_type": "stream",
     "text": [
      "WARNING: The default download format has changed from PDB to PDBx/mmCif\n"
     ]
    },
    {
     "name": "stdout",
     "output_type": "stream",
     "text": [
      "Downloading PDB structure '3hdd'...\n"
     ]
    }
   ],
   "source": [
    "# only works with PDB IDs and experimentally resolved structures (no AF structures or Uniprot IDs)\n",
    "pdbl = PDBList()\n",
    "PDBList2=['1ENH', '3HDD']\n",
    "for i in PDBList2:\n",
    "    pdbl.retrieve_pdb_file(i, pdir='positive_ctl', file_format='pdb')"
   ]
  },
  {
   "cell_type": "code",
   "execution_count": 37,
   "metadata": {},
   "outputs": [
    {
     "ename": "HTTPError",
     "evalue": "HTTP Error 404: Not Found",
     "output_type": "error",
     "traceback": [
      "\u001b[0;31m---------------------------------------------------------------------------\u001b[0m",
      "\u001b[0;31mHTTPError\u001b[0m                                 Traceback (most recent call last)",
      "\u001b[1;32m/home/chau_vuong/ValidProt/notebooks/blastp.ipynb Cell 8\u001b[0m in \u001b[0;36m<cell line: 8>\u001b[0;34m()\u001b[0m\n\u001b[1;32m      <a href='vscode-notebook-cell://wsl%2Bubuntu/home/chau_vuong/ValidProt/notebooks/blastp.ipynb#X20sdnNjb2RlLXJlbW90ZQ%3D%3D?line=5'>6</a>\u001b[0m prot \u001b[39m=\u001b[39m \u001b[39m'\u001b[39m\u001b[39mQ9BY15\u001b[39m\u001b[39m'\u001b[39m\n\u001b[1;32m      <a href='vscode-notebook-cell://wsl%2Bubuntu/home/chau_vuong/ValidProt/notebooks/blastp.ipynb#X20sdnNjb2RlLXJlbW90ZQ%3D%3D?line=6'>7</a>\u001b[0m alphaname \u001b[39m=\u001b[39m \u001b[39m'\u001b[39m\u001b[39mAF-\u001b[39m\u001b[39m'\u001b[39m \u001b[39m+\u001b[39m prot \u001b[39m+\u001b[39m \u001b[39m'\u001b[39m\u001b[39m-F1-model_v4.pdb\u001b[39m\u001b[39m'\u001b[39m\n\u001b[0;32m----> <a href='vscode-notebook-cell://wsl%2Bubuntu/home/chau_vuong/ValidProt/notebooks/blastp.ipynb#X20sdnNjb2RlLXJlbW90ZQ%3D%3D?line=7'>8</a>\u001b[0m urllib\u001b[39m.\u001b[39;49mrequest\u001b[39m.\u001b[39;49murlretrieve(\u001b[39m'\u001b[39;49m\u001b[39mhttps://alphafold.ebi.ac.uk/files/Q9BY15,\u001b[39;49m\u001b[39m%\u001b[39;49m\u001b[39m20AF-Q9BY15-F1-model_v2.pdb\u001b[39;49m\u001b[39m'\u001b[39;49m)\n",
      "File \u001b[0;32m~/anaconda3/lib/python3.9/urllib/request.py:239\u001b[0m, in \u001b[0;36murlretrieve\u001b[0;34m(url, filename, reporthook, data)\u001b[0m\n\u001b[1;32m    222\u001b[0m \u001b[39m\"\"\"\u001b[39;00m\n\u001b[1;32m    223\u001b[0m \u001b[39mRetrieve a URL into a temporary location on disk.\u001b[39;00m\n\u001b[1;32m    224\u001b[0m \n\u001b[0;32m   (...)\u001b[0m\n\u001b[1;32m    235\u001b[0m \u001b[39mdata file as well as the resulting HTTPMessage object.\u001b[39;00m\n\u001b[1;32m    236\u001b[0m \u001b[39m\"\"\"\u001b[39;00m\n\u001b[1;32m    237\u001b[0m url_type, path \u001b[39m=\u001b[39m _splittype(url)\n\u001b[0;32m--> 239\u001b[0m \u001b[39mwith\u001b[39;00m contextlib\u001b[39m.\u001b[39mclosing(urlopen(url, data)) \u001b[39mas\u001b[39;00m fp:\n\u001b[1;32m    240\u001b[0m     headers \u001b[39m=\u001b[39m fp\u001b[39m.\u001b[39minfo()\n\u001b[1;32m    242\u001b[0m     \u001b[39m# Just return the local path and the \"headers\" for file://\u001b[39;00m\n\u001b[1;32m    243\u001b[0m     \u001b[39m# URLs. No sense in performing a copy unless requested.\u001b[39;00m\n",
      "File \u001b[0;32m~/anaconda3/lib/python3.9/urllib/request.py:214\u001b[0m, in \u001b[0;36murlopen\u001b[0;34m(url, data, timeout, cafile, capath, cadefault, context)\u001b[0m\n\u001b[1;32m    212\u001b[0m \u001b[39melse\u001b[39;00m:\n\u001b[1;32m    213\u001b[0m     opener \u001b[39m=\u001b[39m _opener\n\u001b[0;32m--> 214\u001b[0m \u001b[39mreturn\u001b[39;00m opener\u001b[39m.\u001b[39;49mopen(url, data, timeout)\n",
      "File \u001b[0;32m~/anaconda3/lib/python3.9/urllib/request.py:523\u001b[0m, in \u001b[0;36mOpenerDirector.open\u001b[0;34m(self, fullurl, data, timeout)\u001b[0m\n\u001b[1;32m    521\u001b[0m \u001b[39mfor\u001b[39;00m processor \u001b[39min\u001b[39;00m \u001b[39mself\u001b[39m\u001b[39m.\u001b[39mprocess_response\u001b[39m.\u001b[39mget(protocol, []):\n\u001b[1;32m    522\u001b[0m     meth \u001b[39m=\u001b[39m \u001b[39mgetattr\u001b[39m(processor, meth_name)\n\u001b[0;32m--> 523\u001b[0m     response \u001b[39m=\u001b[39m meth(req, response)\n\u001b[1;32m    525\u001b[0m \u001b[39mreturn\u001b[39;00m response\n",
      "File \u001b[0;32m~/anaconda3/lib/python3.9/urllib/request.py:632\u001b[0m, in \u001b[0;36mHTTPErrorProcessor.http_response\u001b[0;34m(self, request, response)\u001b[0m\n\u001b[1;32m    629\u001b[0m \u001b[39m# According to RFC 2616, \"2xx\" code indicates that the client's\u001b[39;00m\n\u001b[1;32m    630\u001b[0m \u001b[39m# request was successfully received, understood, and accepted.\u001b[39;00m\n\u001b[1;32m    631\u001b[0m \u001b[39mif\u001b[39;00m \u001b[39mnot\u001b[39;00m (\u001b[39m200\u001b[39m \u001b[39m<\u001b[39m\u001b[39m=\u001b[39m code \u001b[39m<\u001b[39m \u001b[39m300\u001b[39m):\n\u001b[0;32m--> 632\u001b[0m     response \u001b[39m=\u001b[39m \u001b[39mself\u001b[39;49m\u001b[39m.\u001b[39;49mparent\u001b[39m.\u001b[39;49merror(\n\u001b[1;32m    633\u001b[0m         \u001b[39m'\u001b[39;49m\u001b[39mhttp\u001b[39;49m\u001b[39m'\u001b[39;49m, request, response, code, msg, hdrs)\n\u001b[1;32m    635\u001b[0m \u001b[39mreturn\u001b[39;00m response\n",
      "File \u001b[0;32m~/anaconda3/lib/python3.9/urllib/request.py:561\u001b[0m, in \u001b[0;36mOpenerDirector.error\u001b[0;34m(self, proto, *args)\u001b[0m\n\u001b[1;32m    559\u001b[0m \u001b[39mif\u001b[39;00m http_err:\n\u001b[1;32m    560\u001b[0m     args \u001b[39m=\u001b[39m (\u001b[39mdict\u001b[39m, \u001b[39m'\u001b[39m\u001b[39mdefault\u001b[39m\u001b[39m'\u001b[39m, \u001b[39m'\u001b[39m\u001b[39mhttp_error_default\u001b[39m\u001b[39m'\u001b[39m) \u001b[39m+\u001b[39m orig_args\n\u001b[0;32m--> 561\u001b[0m     \u001b[39mreturn\u001b[39;00m \u001b[39mself\u001b[39;49m\u001b[39m.\u001b[39;49m_call_chain(\u001b[39m*\u001b[39;49margs)\n",
      "File \u001b[0;32m~/anaconda3/lib/python3.9/urllib/request.py:494\u001b[0m, in \u001b[0;36mOpenerDirector._call_chain\u001b[0;34m(self, chain, kind, meth_name, *args)\u001b[0m\n\u001b[1;32m    492\u001b[0m \u001b[39mfor\u001b[39;00m handler \u001b[39min\u001b[39;00m handlers:\n\u001b[1;32m    493\u001b[0m     func \u001b[39m=\u001b[39m \u001b[39mgetattr\u001b[39m(handler, meth_name)\n\u001b[0;32m--> 494\u001b[0m     result \u001b[39m=\u001b[39m func(\u001b[39m*\u001b[39;49margs)\n\u001b[1;32m    495\u001b[0m     \u001b[39mif\u001b[39;00m result \u001b[39mis\u001b[39;00m \u001b[39mnot\u001b[39;00m \u001b[39mNone\u001b[39;00m:\n\u001b[1;32m    496\u001b[0m         \u001b[39mreturn\u001b[39;00m result\n",
      "File \u001b[0;32m~/anaconda3/lib/python3.9/urllib/request.py:641\u001b[0m, in \u001b[0;36mHTTPDefaultErrorHandler.http_error_default\u001b[0;34m(self, req, fp, code, msg, hdrs)\u001b[0m\n\u001b[1;32m    640\u001b[0m \u001b[39mdef\u001b[39;00m \u001b[39mhttp_error_default\u001b[39m(\u001b[39mself\u001b[39m, req, fp, code, msg, hdrs):\n\u001b[0;32m--> 641\u001b[0m     \u001b[39mraise\u001b[39;00m HTTPError(req\u001b[39m.\u001b[39mfull_url, code, msg, hdrs, fp)\n",
      "\u001b[0;31mHTTPError\u001b[0m: HTTP Error 404: Not Found"
     ]
    }
   ],
   "source": [
    "import os\n",
    "import urllib\n",
    "import urllib.request\n",
    "\n",
    "url = 'https://alphafold.ebi.ac.uk/files/'\n",
    "prot = 'Q9BY15'\n",
    "alphaname = 'AF-' + prot + '-F1-model_v4.pdb'\n",
    "urllib.request.urlretrieve('https://alphafold.ebi.ac.uk/files/Q9BY15,%20AF-Q9BY15-F1-model_v2.pdb')"
   ]
  },
  {
   "cell_type": "code",
   "execution_count": 1,
   "metadata": {},
   "outputs": [
    {
     "name": "stdout",
     "output_type": "stream",
     "text": [
      "Downloaded file for P0A9P0 to P0A9P0.cif\n",
      "Downloaded file for Q9H3D4 to Q9H3D4.cif\n",
      "Downloaded file for Q9NR30 to Q9NR30.cif\n"
     ]
    }
   ],
   "source": [
    "import requests\n",
    "\n",
    "uniprot_ids = ['P0A9P0', 'Q9H3D4', 'Q9NR30']\n",
    "for uniprot_id in uniprot_ids:\n",
    "    url = f'https://alphafold.ebi.ac.uk/files/AF-{uniprot_id}-F1-model_v4.cif'\n",
    "    response = requests.get(url)\n",
    "    if response.ok:\n",
    "        filename = f'{uniprot_id}.cif'\n",
    "        with open(filename, 'wb') as f:\n",
    "            f.write(response.content)\n",
    "        print(f\"Downloaded file for {uniprot_id} to {filename}\")\n",
    "    else:\n",
    "        print(f\"Failed to download file for {uniprot_id}: {response.status_code} - {response.reason}\")"
   ]
  },
  {
   "cell_type": "code",
   "execution_count": 2,
   "metadata": {},
   "outputs": [
    {
     "name": "stdout",
     "output_type": "stream",
     "text": [
      "Downloaded file for P0A9P0 to P0A9P0.cif\n",
      "Downloaded file for Q9H3D4 to Q9H3D4.cif\n",
      "Downloaded file for Q9NR30 to Q9NR30.cif\n"
     ]
    }
   ],
   "source": [
    "import requests\n",
    "\n",
    "uniprot_ids = ['P0A9P0', 'Q9H3D4', 'Q9NR30', 'A0JNW5', 'P0DO02', 'A2RVM0', 'A2AF47', 'A1L1K8', 'A8Y9T9', 'P62968']\n",
    "for uniprot_id in uniprot_ids:\n",
    "    url = f'https://alphafold.ebi.ac.uk/files/AF-{uniprot_id}-F1-model_v4.pdb'\n",
    "    response = requests.get(url)\n",
    "    if response.ok:\n",
    "        filename = f'{uniprot_id}.cif'\n",
    "        with open(filename, 'wb') as f:\n",
    "            f.write(response.content)\n",
    "        print(f\"Downloaded file for {uniprot_id} to {filename}\")\n",
    "    else:\n",
    "        print(f\"Failed to download file for {uniprot_id}: {response.status_code} - {response.reason}\")"
   ]
  },
  {
   "cell_type": "code",
   "execution_count": 7,
   "metadata": {},
   "outputs": [
    {
     "name": "stdout",
     "output_type": "stream",
     "text": [
      "Downloaded file for P0A9P0 to random_pdb/P0A9P0.pdb\n",
      "Downloaded file for Q9H3D4 to random_pdb/Q9H3D4.pdb\n",
      "Downloaded file for Q9NR30 to random_pdb/Q9NR30.pdb\n",
      "Downloaded file for A0JNW5 to random_pdb/A0JNW5.pdb\n",
      "Downloaded file for P0DO02 to random_pdb/P0DO02.pdb\n",
      "Downloaded file for A2RVM0 to random_pdb/A2RVM0.pdb\n",
      "Downloaded file for A2AF47 to random_pdb/A2AF47.pdb\n",
      "Downloaded file for A1L1K8 to random_pdb/A1L1K8.pdb\n",
      "Downloaded file for A8Y9T9 to random_pdb/A8Y9T9.pdb\n",
      "Failed to download file for P62968: 404 - Not Found\n"
     ]
    }
   ],
   "source": [
    "import os\n",
    "import requests\n",
    "\n",
    "uniprot_ids = ['P0A9P0', 'Q9H3D4', 'Q9NR30', 'A0JNW5', 'P0DO02', 'A2RVM0', 'A2AF47', 'A1L1K8', 'A8Y9T9', 'P62968']\n",
    "\n",
    "# Create a directory named \"random_pdb\" to store the downloaded files\n",
    "if not os.path.exists('random_pdb'):\n",
    "    os.makedirs('random_pdb')\n",
    "\n",
    "for uniprot_id in uniprot_ids:\n",
    "    url = f'https://alphafold.ebi.ac.uk/files/AF-{uniprot_id}-F1-model_v4.pdb'\n",
    "    response = requests.get(url)\n",
    "    if response.ok:\n",
    "        filename = f'random_pdb/{uniprot_id}.pdb'\n",
    "        with open(filename, 'wb') as f:\n",
    "            f.write(response.content)\n",
    "        print(f\"Downloaded file for {uniprot_id} to {filename}\")\n",
    "    else:\n",
    "        print(f\"Failed to download file for {uniprot_id}: {response.status_code} - {response.reason}\")\n"
   ]
  },
  {
   "cell_type": "code",
   "execution_count": null,
   "metadata": {},
   "outputs": [],
   "source": [
    "#fatcat command: FATCATQue.pl timeused pair.list -q >pair.aln\n",
    "# FATCAT -p1 A0JNW5.pdb -p2 A1L1K8.pdb -o A0JNW5_A1L1K8 -m"
   ]
  }
 ],
 "metadata": {
  "kernelspec": {
   "display_name": "base",
   "language": "python",
   "name": "python3"
  },
  "language_info": {
   "codemirror_mode": {
    "name": "ipython",
    "version": 3
   },
   "file_extension": ".py",
   "mimetype": "text/x-python",
   "name": "python",
   "nbconvert_exporter": "python",
   "pygments_lexer": "ipython3",
   "version": "3.9.12"
  },
  "orig_nbformat": 4
 },
 "nbformat": 4,
 "nbformat_minor": 2
}
