{
 "cells": [
  {
   "cell_type": "code",
   "execution_count": 1,
   "metadata": {},
   "outputs": [],
   "source": [
    "from Bio.PDB import PDBList\n",
    "import os\n",
    "import requests\n",
    "import pandas as pd\n",
    "import subprocess"
   ]
  },
  {
   "cell_type": "code",
   "execution_count": 4,
   "metadata": {},
   "outputs": [
    {
     "name": "stdout",
     "output_type": "stream",
     "text": [
      "  PDB IDs Uniprot IDs\n",
      "0    1ENH      Q9N2K0\n",
      "1    1YMG      P06624\n",
      "2    3HDD      P02836\n",
      "6    <NA>      P0A9P0\n",
      "7    <NA>      Q9H3D4\n",
      "8    <NA>      Q9NR30\n"
     ]
    }
   ],
   "source": [
    "# Define PDB and Uniprot IDs\n",
    "pdb_ids = ['1ENH', '1YMG', '3HDD']\n",
    "uniprot_ids = ['Q9N2K0', 'P06624', 'P02836', 'P0A9P0', 'Q9H3D4', 'Q9NR30']\n",
    "\n",
    "# Create dataframe with PDB IDs and Uniprot IDs\n",
    "df_test = pd.DataFrame({'PDB IDs': pdb_ids, 'Uniprot IDs': ['Q9N2K0', 'P06624', 'P02836']})\n",
    "\n",
    "# Add Uniprot IDs without PDB IDs\n",
    "df_test = pd.concat([df_test, pd.DataFrame({'PDB IDs': ['NaN'] * len(uniprot_ids), 'Uniprot IDs': uniprot_ids})], ignore_index=True)\n",
    "df_test = df_test.replace('NaN', pd.NA)\n",
    "df_test = df_test.drop(index=range(3, 6))\n",
    "print(df_test)"
   ]
  },
  {
   "cell_type": "code",
   "execution_count": 5,
   "metadata": {},
   "outputs": [],
   "source": [
    "# Problem: input is made up, need to test with real input, also need to change pdb_dir\n",
    "def download_structures(df, pdb_dir='checking'):\n",
    "    pdbl = PDBList()\n",
    "    if not os.path.exists(pdb_dir):\n",
    "        os.makedirs(pdb_dir)\n",
    "        \n",
    "    for i, row in df.iterrows():\n",
    "        pdb_id = row['PDB IDs']\n",
    "        uniprot_id = row['Uniprot IDs']\n",
    "        if not pd.isna(pdb_id):  # check for NaN value in PDB IDs column\n",
    "            pdbl.retrieve_pdb_file(pdb_id, pdir=pdb_dir, file_format='pdb')\n",
    "            os.rename(os.path.join(pdb_dir, f'{i}.ent'), os.path.join(pdb_dir, f'{i}.pdb'))\n",
    "        elif isinstance(uniprot_id, str):  # download structure using UniProt ID\n",
    "            url = f'https://alphafold.ebi.ac.uk/files/AF-{uniprot_id}-F1-model_v4.pdb'\n",
    "            response = requests.get(url)\n",
    "            if response.ok:\n",
    "                filename = f'{pdb_dir}/{uniprot_id}.pdb'\n",
    "                with open(filename, 'wb') as f:\n",
    "                    f.write(response.content)\n",
    "                print(f\"Downloaded file for {uniprot_id} to {filename}\")\n",
    "            else:\n",
    "                print(f\"Failed to download file for {uniprot_id}: {response.status_code} - {response.reason}\")\n",
    "        else:\n",
    "            print(f\"No PDB ID or UniProt ID available for index {i}\")\n",
    "            pass"
   ]
  },
  {
   "cell_type": "code",
   "execution_count": 6,
   "metadata": {},
   "outputs": [
    {
     "name": "stdout",
     "output_type": "stream",
     "text": [
      "Downloading PDB structure '1enh'...\n",
      "Downloading PDB structure '1ymg'...\n",
      "Downloading PDB structure '3hdd'...\n",
      "Downloaded file for P0A9P0 to checking/P0A9P0.pdb\n",
      "Downloaded file for Q9H3D4 to checking/Q9H3D4.pdb\n",
      "Downloaded file for Q9NR30 to checking/Q9NR30.pdb\n"
     ]
    }
   ],
   "source": [
    "download_structures(df=df_test, pdb_dir='checking')"
   ]
  },
  {
   "cell_type": "code",
   "execution_count": 15,
   "metadata": {},
   "outputs": [
    {
     "data": {
      "text/plain": [
       "CompletedProcess(args=['FATCAT', '-p1', 'P0A9P0.pdb', '-p2', 'Q9H3D4.pdb', '-i', './checking/', '-o', 'outfile', '-m'], returncode=1)"
      ]
     },
     "execution_count": 15,
     "metadata": {},
     "output_type": "execute_result"
    }
   ],
   "source": [
    "cmd = ['FATCAT', '-p1', 'P0A9P0.pdb', '-p2', 'Q9H3D4.pdb', '-i', './checking/', '-o', 'outfile', '-m']\n",
    "subprocess.run(cmd)"
   ]
  },
  {
   "cell_type": "code",
   "execution_count": 18,
   "metadata": {},
   "outputs": [],
   "source": [
    "# open the aln file and extract the p-value\n",
    "with open('./positive_ctl/pos_ctl.aln', 'r') as f:\n",
    "    for line in f:\n",
    "        if line.startswith('P-value'):\n",
    "            p_value = line.split()[1]\n",
    "            break"
   ]
  },
  {
   "cell_type": "code",
   "execution_count": 19,
   "metadata": {},
   "outputs": [
    {
     "data": {
      "text/plain": [
       "'4.53e-11'"
      ]
     },
     "execution_count": 19,
     "metadata": {},
     "output_type": "execute_result"
    }
   ],
   "source": [
    "p_value"
   ]
  },
  {
   "cell_type": "code",
   "execution_count": null,
   "metadata": {},
   "outputs": [],
   "source": [
    "def perform_flexible_alignment(protein_pairs, structures, chunk_size):\n",
    "    # Implement performing flexible alignment on the 3D structures of protein pairs in chunks\n",
    "    alignment_metrics = []\n",
    "\n",
    "    for index, row in protein_pairs.iterrows():\n",
    "        # TODO: Replace this with the actual subprocess call for structural alignment\n",
    "        # Example: result = subprocess.run([\"your_alignment_tool\", \"arg1\", \"arg2\"])\n",
    "        result = None\n",
    "\n",
    "        alignment_metrics.append({\"protein_id_1\": row[\"protein_id_1\"],\n",
    "                                  \"protein_id_2\": row[\"protein_id_2\"],\n",
    "                                  \"alignment_metric\": result})\n",
    "\n",
    "    return pd.DataFrame(alignment_metrics)"
   ]
  },
  {
   "cell_type": "code",
   "execution_count": 9,
   "metadata": {},
   "outputs": [
    {
     "ename": "TypeError",
     "evalue": "retrieve_pdb_file() got an unexpected keyword argument 'filename'",
     "output_type": "error",
     "traceback": [
      "\u001b[0;31m---------------------------------------------------------------------------\u001b[0m",
      "\u001b[0;31mTypeError\u001b[0m                                 Traceback (most recent call last)",
      "\u001b[1;32m/home/chau_vuong/ValidProt/notebooks/blastp.ipynb Cell 7\u001b[0m in \u001b[0;36m<cell line: 4>\u001b[0;34m()\u001b[0m\n\u001b[1;32m      <a href='vscode-notebook-cell://wsl%2Bubuntu/home/chau_vuong/ValidProt/notebooks/blastp.ipynb#W5sdnNjb2RlLXJlbW90ZQ%3D%3D?line=3'>4</a>\u001b[0m \u001b[39mfor\u001b[39;00m i \u001b[39min\u001b[39;00m PDBList2:\n\u001b[1;32m      <a href='vscode-notebook-cell://wsl%2Bubuntu/home/chau_vuong/ValidProt/notebooks/blastp.ipynb#W5sdnNjb2RlLXJlbW90ZQ%3D%3D?line=4'>5</a>\u001b[0m     filename \u001b[39m=\u001b[39m i \u001b[39m+\u001b[39m \u001b[39m\"\u001b[39m\u001b[39m.pdb\u001b[39m\u001b[39m\"\u001b[39m  \u001b[39m# create custom filename in the format PDBID.pdb\u001b[39;00m\n\u001b[0;32m----> <a href='vscode-notebook-cell://wsl%2Bubuntu/home/chau_vuong/ValidProt/notebooks/blastp.ipynb#W5sdnNjb2RlLXJlbW90ZQ%3D%3D?line=5'>6</a>\u001b[0m     pdbl\u001b[39m.\u001b[39;49mretrieve_pdb_file(i, pdir\u001b[39m=\u001b[39;49m\u001b[39m'\u001b[39;49m\u001b[39mpositive_ctl\u001b[39;49m\u001b[39m'\u001b[39;49m, file_format\u001b[39m=\u001b[39;49m\u001b[39m'\u001b[39;49m\u001b[39mpdb\u001b[39;49m\u001b[39m'\u001b[39;49m, filename\u001b[39m=\u001b[39;49mfilename)\n",
      "\u001b[0;31mTypeError\u001b[0m: retrieve_pdb_file() got an unexpected keyword argument 'filename'"
     ]
    }
   ],
   "source": [
    "# only works with PDB IDs and experimentally resolved structures (no AF structures or Uniprot IDs)\n",
    "pdbl = PDBList()\n",
    "PDBList2=['1ENH', '3HDD']\n",
    "for i in PDBList2:\n",
    "    pdbl.retrieve_pdb_file(i, pdir='positive_ctl', file_format='pdb')"
   ]
  },
  {
   "cell_type": "code",
   "execution_count": null,
   "metadata": {},
   "outputs": [],
   "source": [
    "os.rename(os.path.join('./positive_ctl', f'pdb1enh.ent'), os.path.join('./positive_ctl', f'1ENH.pdb'))"
   ]
  },
  {
   "cell_type": "code",
   "execution_count": 7,
   "metadata": {},
   "outputs": [
    {
     "name": "stdout",
     "output_type": "stream",
     "text": [
      "Downloaded file for P0A9P0 to random_pdb/P0A9P0.pdb\n",
      "Downloaded file for Q9H3D4 to random_pdb/Q9H3D4.pdb\n",
      "Downloaded file for Q9NR30 to random_pdb/Q9NR30.pdb\n",
      "Downloaded file for A0JNW5 to random_pdb/A0JNW5.pdb\n",
      "Downloaded file for P0DO02 to random_pdb/P0DO02.pdb\n",
      "Downloaded file for A2RVM0 to random_pdb/A2RVM0.pdb\n",
      "Downloaded file for A2AF47 to random_pdb/A2AF47.pdb\n",
      "Downloaded file for A1L1K8 to random_pdb/A1L1K8.pdb\n",
      "Downloaded file for A8Y9T9 to random_pdb/A8Y9T9.pdb\n",
      "Failed to download file for P62968: 404 - Not Found\n"
     ]
    }
   ],
   "source": [
    "uniprot_ids = ['P0A9P0', 'Q9H3D4', 'Q9NR30', 'A0JNW5', 'P0DO02', 'A2RVM0', 'A2AF47', 'A1L1K8', 'A8Y9T9', 'P62968']\n",
    "\n",
    "# Create a directory named \"random_pdb\" to store the downloaded files\n",
    "if not os.path.exists('random_pdb'):\n",
    "    os.makedirs('random_pdb')\n",
    "\n",
    "for uniprot_id in uniprot_ids:\n",
    "    url = f'https://alphafold.ebi.ac.uk/files/AF-{uniprot_id}-F1-model_v4.pdb'\n",
    "    response = requests.get(url)\n",
    "    if response.ok:\n",
    "        filename = f'random_pdb/{uniprot_id}.pdb'\n",
    "        with open(filename, 'wb') as f:\n",
    "            f.write(response.content)\n",
    "        print(f\"Downloaded file for {uniprot_id} to {filename}\")\n",
    "    else:\n",
    "        print(f\"Failed to download file for {uniprot_id}: {response.status_code} - {response.reason}\")\n"
   ]
  },
  {
   "cell_type": "code",
   "execution_count": null,
   "metadata": {},
   "outputs": [],
   "source": [
    "# fatcat command: \n",
    "# FATCATQue.pl timeused pair.list -q >pair.aln (only work when files are in the same directory)\n",
    "# FATCAT -p1 A0JNW5.pdb -p2 A1L1K8.pdb -o A0JNW5_A1L1K8 -m\n",
    "# FATCAT -p1 P0A9P0.pdb -p2 Q9H3D4.pdb -i ./checking -o test -m (-i directory of PDB files), result file is in ./"
   ]
  }
 ],
 "metadata": {
  "kernelspec": {
   "display_name": "base",
   "language": "python",
   "name": "python3"
  },
  "language_info": {
   "codemirror_mode": {
    "name": "ipython",
    "version": 3
   },
   "file_extension": ".py",
   "mimetype": "text/x-python",
   "name": "python",
   "nbconvert_exporter": "python",
   "pygments_lexer": "ipython3",
   "version": "3.9.12"
  },
  "orig_nbformat": 4
 },
 "nbformat": 4,
 "nbformat_minor": 2
}
