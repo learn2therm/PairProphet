{
 "cells": [
  {
   "cell_type": "markdown",
   "id": "6c1fdfb1",
   "metadata": {},
   "source": [
    "The purpose of this notebook is to document data exploration processes with an n=50,000 sample of our Learn2Therm protein database. Doing so provides a workspace to select and optimize a model for predicting protein pair functionality between two sequences. Several classifier architectures were tested prior to the release of the final version of this component."
   ]
  },
  {
   "cell_type": "markdown",
   "id": "84922e82",
   "metadata": {},
   "source": [
    "This notebook includes exploration of a Random Forest Classifier."
   ]
  },
  {
   "cell_type": "code",
   "execution_count": 1,
   "id": "61c53eee",
   "metadata": {},
   "outputs": [],
   "source": [
    "import matplotlib.pyplot as plt\n",
    "import pandas as pd\n",
    "import numpy as np\n",
    "import scipy.stats\n",
    "import sklearn.preprocessing\n",
    "import sklearn.model_selection\n",
    "import sklearn.ensemble\n",
    "import sklearn.feature_selection\n",
    "import unittest"
   ]
  },
  {
   "cell_type": "code",
   "execution_count": 2,
   "id": "ba87d47f",
   "metadata": {
    "scrolled": true
   },
   "outputs": [
    {
     "name": "stdout",
     "output_type": "stream",
     "text": [
      "/Users/loganroberts/Learn2Therm/PairProphet/notebooks\n"
     ]
    }
   ],
   "source": [
    "cd /Users/loganroberts/Learn2Therm/PairProphet/notebooks"
   ]
  },
  {
   "cell_type": "code",
   "execution_count": 3,
   "id": "f90c1cdd",
   "metadata": {},
   "outputs": [],
   "source": [
    "#convert to pandas df\n",
    "df = pd.read_csv('learn2therm_sample_50k_exploration.csv')"
   ]
  },
  {
   "cell_type": "code",
   "execution_count": 4,
   "id": "436da643-9b4e-4cbe-b4bb-bcd56de0af84",
   "metadata": {},
   "outputs": [
    {
     "data": {
      "text/html": [
       "<div>\n",
       "<style scoped>\n",
       "    .dataframe tbody tr th:only-of-type {\n",
       "        vertical-align: middle;\n",
       "    }\n",
       "\n",
       "    .dataframe tbody tr th {\n",
       "        vertical-align: top;\n",
       "    }\n",
       "\n",
       "    .dataframe thead th {\n",
       "        text-align: right;\n",
       "    }\n",
       "</style>\n",
       "<table border=\"1\" class=\"dataframe\">\n",
       "  <thead>\n",
       "    <tr style=\"text-align: right;\">\n",
       "      <th></th>\n",
       "      <th>Unnamed: 0</th>\n",
       "      <th>local_gap_compressed_percent_id</th>\n",
       "      <th>scaled_local_query_percent_id</th>\n",
       "      <th>scaled_local_symmetric_percent_id</th>\n",
       "      <th>query_align_len</th>\n",
       "      <th>query_align_cov</th>\n",
       "      <th>subject_align_len</th>\n",
       "      <th>subject_align_cov</th>\n",
       "      <th>bit_score</th>\n",
       "      <th>thermo_index</th>\n",
       "      <th>...</th>\n",
       "      <th>bit_score_16s</th>\n",
       "      <th>m_ogt</th>\n",
       "      <th>t_ogt</th>\n",
       "      <th>ogt_difference</th>\n",
       "      <th>m_protein_seq</th>\n",
       "      <th>t_protein_seq</th>\n",
       "      <th>m_protein_desc</th>\n",
       "      <th>t_protein_desc</th>\n",
       "      <th>m_protein_len</th>\n",
       "      <th>t_protein_len</th>\n",
       "    </tr>\n",
       "  </thead>\n",
       "  <tbody>\n",
       "    <tr>\n",
       "      <th>0</th>\n",
       "      <td>0</td>\n",
       "      <td>0.287582</td>\n",
       "      <td>0.217822</td>\n",
       "      <td>0.215686</td>\n",
       "      <td>160</td>\n",
       "      <td>0.792079</td>\n",
       "      <td>152</td>\n",
       "      <td>0.737864</td>\n",
       "      <td>131</td>\n",
       "      <td>875</td>\n",
       "      <td>...</td>\n",
       "      <td>1153.0</td>\n",
       "      <td>27.5</td>\n",
       "      <td>50.0</td>\n",
       "      <td>22.5</td>\n",
       "      <td>MAESGTSRRADHLVPVPGPDAEPPAVADELLRAVGRGDEQAFGRLY...</td>\n",
       "      <td>MPSQITESERIELAERFERDALPLLDQLYSAALRMTRNPADAEDLV...</td>\n",
       "      <td>ECF RNA polymerase sigma factor SigK</td>\n",
       "      <td>sigma-70 family RNA polymerase sigma factor</td>\n",
       "      <td>206</td>\n",
       "      <td>202</td>\n",
       "    </tr>\n",
       "    <tr>\n",
       "      <th>1</th>\n",
       "      <td>1</td>\n",
       "      <td>0.319635</td>\n",
       "      <td>0.295359</td>\n",
       "      <td>0.297872</td>\n",
       "      <td>218</td>\n",
       "      <td>0.919831</td>\n",
       "      <td>226</td>\n",
       "      <td>0.969957</td>\n",
       "      <td>282</td>\n",
       "      <td>11324</td>\n",
       "      <td>...</td>\n",
       "      <td>1014.0</td>\n",
       "      <td>25.0</td>\n",
       "      <td>54.0</td>\n",
       "      <td>29.0</td>\n",
       "      <td>MARIALVDDDRNILTSVSMTLEAEGFEVETYNDGQSALDAFNKRMP...</td>\n",
       "      <td>MRVLLVEDDPNTSRSIEMMLTHANLNVYATDMGEEGIDLAKLYDYD...</td>\n",
       "      <td>response regulator transcription factor</td>\n",
       "      <td>response regulator transcription factor</td>\n",
       "      <td>233</td>\n",
       "      <td>237</td>\n",
       "    </tr>\n",
       "    <tr>\n",
       "      <th>2</th>\n",
       "      <td>2</td>\n",
       "      <td>0.279621</td>\n",
       "      <td>0.234127</td>\n",
       "      <td>0.218924</td>\n",
       "      <td>211</td>\n",
       "      <td>0.837302</td>\n",
       "      <td>210</td>\n",
       "      <td>0.731707</td>\n",
       "      <td>96</td>\n",
       "      <td>875</td>\n",
       "      <td>...</td>\n",
       "      <td>1138.0</td>\n",
       "      <td>28.0</td>\n",
       "      <td>50.0</td>\n",
       "      <td>22.0</td>\n",
       "      <td>MKDTVVFVTGAARGIGAHTARLAVARGARVALVGLEPHLLADLAAE...</td>\n",
       "      <td>MTPEQIFSGQTAIVTGGASGIGAATVEHIARRGGRVFSVDLSYDSP...</td>\n",
       "      <td>SDR family oxidoreductase</td>\n",
       "      <td>SDR family oxidoreductase</td>\n",
       "      <td>287</td>\n",
       "      <td>252</td>\n",
       "    </tr>\n",
       "    <tr>\n",
       "      <th>3</th>\n",
       "      <td>3</td>\n",
       "      <td>0.327273</td>\n",
       "      <td>0.200743</td>\n",
       "      <td>0.214712</td>\n",
       "      <td>166</td>\n",
       "      <td>0.617100</td>\n",
       "      <td>163</td>\n",
       "      <td>0.696581</td>\n",
       "      <td>175</td>\n",
       "      <td>875</td>\n",
       "      <td>...</td>\n",
       "      <td>1077.0</td>\n",
       "      <td>28.0</td>\n",
       "      <td>50.0</td>\n",
       "      <td>22.0</td>\n",
       "      <td>MTSGLWERVLDGVWVTIQLLVLSALLATAVSFVVGIARTHRLWIVR...</td>\n",
       "      <td>MAMSRRKRGQLARGIQYAILVIVVVVLALLADWGKIGKAFFDWEAA...</td>\n",
       "      <td>ectoine/hydroxyectoine ABC transporter permeas...</td>\n",
       "      <td>amino acid ABC transporter permease</td>\n",
       "      <td>234</td>\n",
       "      <td>269</td>\n",
       "    </tr>\n",
       "    <tr>\n",
       "      <th>4</th>\n",
       "      <td>4</td>\n",
       "      <td>0.338710</td>\n",
       "      <td>0.318182</td>\n",
       "      <td>0.287671</td>\n",
       "      <td>60</td>\n",
       "      <td>0.909091</td>\n",
       "      <td>71</td>\n",
       "      <td>0.887500</td>\n",
       "      <td>61</td>\n",
       "      <td>9827</td>\n",
       "      <td>...</td>\n",
       "      <td>991.0</td>\n",
       "      <td>30.0</td>\n",
       "      <td>50.0</td>\n",
       "      <td>20.0</td>\n",
       "      <td>MIISLRRGLRFIRFIVFFAALVYLFYHVLDLFNGWISPVDQYQMPT...</td>\n",
       "      <td>MKRMVWRTLKVFIIFIACTLLFYFGLRFMHLEYEQFHRYEPPEGPA...</td>\n",
       "      <td>YqzK family protein</td>\n",
       "      <td>YqzK family protein</td>\n",
       "      <td>80</td>\n",
       "      <td>66</td>\n",
       "    </tr>\n",
       "  </tbody>\n",
       "</table>\n",
       "<p>5 rows × 30 columns</p>\n",
       "</div>"
      ],
      "text/plain": [
       "   Unnamed: 0  local_gap_compressed_percent_id  scaled_local_query_percent_id  \\\n",
       "0           0                         0.287582                       0.217822   \n",
       "1           1                         0.319635                       0.295359   \n",
       "2           2                         0.279621                       0.234127   \n",
       "3           3                         0.327273                       0.200743   \n",
       "4           4                         0.338710                       0.318182   \n",
       "\n",
       "   scaled_local_symmetric_percent_id  query_align_len  query_align_cov  \\\n",
       "0                           0.215686              160         0.792079   \n",
       "1                           0.297872              218         0.919831   \n",
       "2                           0.218924              211         0.837302   \n",
       "3                           0.214712              166         0.617100   \n",
       "4                           0.287671               60         0.909091   \n",
       "\n",
       "   subject_align_len  subject_align_cov  bit_score  thermo_index  ...  \\\n",
       "0                152           0.737864        131           875  ...   \n",
       "1                226           0.969957        282         11324  ...   \n",
       "2                210           0.731707         96           875  ...   \n",
       "3                163           0.696581        175           875  ...   \n",
       "4                 71           0.887500         61          9827  ...   \n",
       "\n",
       "   bit_score_16s  m_ogt  t_ogt  ogt_difference  \\\n",
       "0         1153.0   27.5   50.0            22.5   \n",
       "1         1014.0   25.0   54.0            29.0   \n",
       "2         1138.0   28.0   50.0            22.0   \n",
       "3         1077.0   28.0   50.0            22.0   \n",
       "4          991.0   30.0   50.0            20.0   \n",
       "\n",
       "                                       m_protein_seq  \\\n",
       "0  MAESGTSRRADHLVPVPGPDAEPPAVADELLRAVGRGDEQAFGRLY...   \n",
       "1  MARIALVDDDRNILTSVSMTLEAEGFEVETYNDGQSALDAFNKRMP...   \n",
       "2  MKDTVVFVTGAARGIGAHTARLAVARGARVALVGLEPHLLADLAAE...   \n",
       "3  MTSGLWERVLDGVWVTIQLLVLSALLATAVSFVVGIARTHRLWIVR...   \n",
       "4  MIISLRRGLRFIRFIVFFAALVYLFYHVLDLFNGWISPVDQYQMPT...   \n",
       "\n",
       "                                       t_protein_seq  \\\n",
       "0  MPSQITESERIELAERFERDALPLLDQLYSAALRMTRNPADAEDLV...   \n",
       "1  MRVLLVEDDPNTSRSIEMMLTHANLNVYATDMGEEGIDLAKLYDYD...   \n",
       "2  MTPEQIFSGQTAIVTGGASGIGAATVEHIARRGGRVFSVDLSYDSP...   \n",
       "3  MAMSRRKRGQLARGIQYAILVIVVVVLALLADWGKIGKAFFDWEAA...   \n",
       "4  MKRMVWRTLKVFIIFIACTLLFYFGLRFMHLEYEQFHRYEPPEGPA...   \n",
       "\n",
       "                                      m_protein_desc  \\\n",
       "0               ECF RNA polymerase sigma factor SigK   \n",
       "1            response regulator transcription factor   \n",
       "2                          SDR family oxidoreductase   \n",
       "3  ectoine/hydroxyectoine ABC transporter permeas...   \n",
       "4                                YqzK family protein   \n",
       "\n",
       "                                t_protein_desc  m_protein_len  t_protein_len  \n",
       "0  sigma-70 family RNA polymerase sigma factor            206            202  \n",
       "1      response regulator transcription factor            233            237  \n",
       "2                    SDR family oxidoreductase            287            252  \n",
       "3          amino acid ABC transporter permease            234            269  \n",
       "4                          YqzK family protein             80             66  \n",
       "\n",
       "[5 rows x 30 columns]"
      ]
     },
     "execution_count": 4,
     "metadata": {},
     "output_type": "execute_result"
    }
   ],
   "source": [
    "df.head()"
   ]
  },
  {
   "cell_type": "code",
   "execution_count": 5,
   "id": "b883627d",
   "metadata": {
    "scrolled": true
   },
   "outputs": [
    {
     "data": {
      "text/html": [
       "<div>\n",
       "<style scoped>\n",
       "    .dataframe tbody tr th:only-of-type {\n",
       "        vertical-align: middle;\n",
       "    }\n",
       "\n",
       "    .dataframe tbody tr th {\n",
       "        vertical-align: top;\n",
       "    }\n",
       "\n",
       "    .dataframe thead th {\n",
       "        text-align: right;\n",
       "    }\n",
       "</style>\n",
       "<table border=\"1\" class=\"dataframe\">\n",
       "  <thead>\n",
       "    <tr style=\"text-align: right;\">\n",
       "      <th></th>\n",
       "      <th>Unnamed: 0</th>\n",
       "      <th>prot_pair_index</th>\n",
       "      <th>protein_match</th>\n",
       "      <th>Jaccard_Score</th>\n",
       "      <th>structure_match</th>\n",
       "    </tr>\n",
       "  </thead>\n",
       "  <tbody>\n",
       "    <tr>\n",
       "      <th>0</th>\n",
       "      <td>0</td>\n",
       "      <td>48641291</td>\n",
       "      <td>1</td>\n",
       "      <td>1.00</td>\n",
       "      <td>0</td>\n",
       "    </tr>\n",
       "    <tr>\n",
       "      <th>1</th>\n",
       "      <td>1</td>\n",
       "      <td>92992745</td>\n",
       "      <td>1</td>\n",
       "      <td>1.00</td>\n",
       "      <td>1</td>\n",
       "    </tr>\n",
       "    <tr>\n",
       "      <th>2</th>\n",
       "      <td>2</td>\n",
       "      <td>157628663</td>\n",
       "      <td>1</td>\n",
       "      <td>1.00</td>\n",
       "      <td>1</td>\n",
       "    </tr>\n",
       "    <tr>\n",
       "      <th>3</th>\n",
       "      <td>3</td>\n",
       "      <td>136708305</td>\n",
       "      <td>1</td>\n",
       "      <td>1.00</td>\n",
       "      <td>1</td>\n",
       "    </tr>\n",
       "    <tr>\n",
       "      <th>4</th>\n",
       "      <td>4</td>\n",
       "      <td>133672542</td>\n",
       "      <td>1</td>\n",
       "      <td>1.00</td>\n",
       "      <td>1</td>\n",
       "    </tr>\n",
       "    <tr>\n",
       "      <th>...</th>\n",
       "      <td>...</td>\n",
       "      <td>...</td>\n",
       "      <td>...</td>\n",
       "      <td>...</td>\n",
       "      <td>...</td>\n",
       "    </tr>\n",
       "    <tr>\n",
       "      <th>48845</th>\n",
       "      <td>4875</td>\n",
       "      <td>78849058</td>\n",
       "      <td>0</td>\n",
       "      <td>0.25</td>\n",
       "      <td>1</td>\n",
       "    </tr>\n",
       "    <tr>\n",
       "      <th>48846</th>\n",
       "      <td>4876</td>\n",
       "      <td>108797464</td>\n",
       "      <td>1</td>\n",
       "      <td>1.00</td>\n",
       "      <td>1</td>\n",
       "    </tr>\n",
       "    <tr>\n",
       "      <th>48847</th>\n",
       "      <td>4877</td>\n",
       "      <td>161110219</td>\n",
       "      <td>0</td>\n",
       "      <td>0.25</td>\n",
       "      <td>1</td>\n",
       "    </tr>\n",
       "    <tr>\n",
       "      <th>48848</th>\n",
       "      <td>4878</td>\n",
       "      <td>74177185</td>\n",
       "      <td>1</td>\n",
       "      <td>0.50</td>\n",
       "      <td>0</td>\n",
       "    </tr>\n",
       "    <tr>\n",
       "      <th>48849</th>\n",
       "      <td>4879</td>\n",
       "      <td>143737378</td>\n",
       "      <td>0</td>\n",
       "      <td>0.25</td>\n",
       "      <td>0</td>\n",
       "    </tr>\n",
       "  </tbody>\n",
       "</table>\n",
       "<p>48850 rows × 5 columns</p>\n",
       "</div>"
      ],
      "text/plain": [
       "       Unnamed: 0  prot_pair_index  protein_match  Jaccard_Score  \\\n",
       "0               0         48641291              1           1.00   \n",
       "1               1         92992745              1           1.00   \n",
       "2               2        157628663              1           1.00   \n",
       "3               3        136708305              1           1.00   \n",
       "4               4        133672542              1           1.00   \n",
       "...           ...              ...            ...            ...   \n",
       "48845        4875         78849058              0           0.25   \n",
       "48846        4876        108797464              1           1.00   \n",
       "48847        4877        161110219              0           0.25   \n",
       "48848        4878         74177185              1           0.50   \n",
       "48849        4879        143737378              0           0.25   \n",
       "\n",
       "       structure_match  \n",
       "0                    0  \n",
       "1                    1  \n",
       "2                    1  \n",
       "3                    1  \n",
       "4                    1  \n",
       "...                ...  \n",
       "48845                1  \n",
       "48846                1  \n",
       "48847                1  \n",
       "48848                0  \n",
       "48849                0  \n",
       "\n",
       "[48850 rows x 5 columns]"
      ]
     },
     "execution_count": 5,
     "metadata": {},
     "output_type": "execute_result"
    }
   ],
   "source": [
    "hmmer_structure = pd.read_csv('protein_match_50k')\n",
    "hmmer_structure['protein_match'] = hmmer_structure['protein_match'].map({'Yes': 1, 'No': 0})\n",
    "hmmer_structure['structure_match']  = [np.random.randint(0,2) for i in range(len(hmmer_structure))]\n",
    "hmmer_structure"
   ]
  },
  {
   "cell_type": "code",
   "execution_count": 6,
   "id": "3e5a9b79-4459-4b59-805e-3e57c63be7c7",
   "metadata": {
    "scrolled": true
   },
   "outputs": [],
   "source": [
    "# from sklearn.utils import resample\n",
    "\n",
    "# # Assuming your data is in a pandas DataFrame called 'data'\n",
    "# # Separate the majority and minority classes\n",
    "# majority_class = hmmer_structure[hmmer_structure['protein_match'] == hmmer_structure['protein_match'].value_counts().idxmax()]\n",
    "# minority_class = hmmer_structure[hmmer_structure['protein_match'] == hmmer_structure['protein_match'].value_counts().idxmin()]\n",
    "\n",
    "# # Undersample the majority class to match the number of minority class samples\n",
    "# n_samples = len(minority_class)\n",
    "# undersampled_majority = resample(majority_class, n_samples=n_samples, replace=False)\n",
    "\n",
    "# # Combine the undersampled majority class with the minority class\n",
    "# balanced_data_hmmer = pd.concat([undersampled_majority, minority_class])"
   ]
  },
  {
   "cell_type": "code",
   "execution_count": 7,
   "id": "cdac604d-6d18-47b1-9ed1-467feb622dad",
   "metadata": {},
   "outputs": [],
   "source": [
    "# majority_class = hmmer_structure[hmmer_structure['structure_match'] == hmmer_structure['structure_match'].value_counts().idxmax()]\n",
    "# minority_class = hmmer_structure[hmmer_structure['structure_match'] == hmmer_structure['structure_match'].value_counts().idxmin()]\n",
    "\n",
    "# # Undersample the majority class to match the number of minority class samples\n",
    "# n_samples = len(minority_class)\n",
    "# undersampled_majority = resample(majority_class, n_samples=n_samples, replace=False)\n",
    "\n",
    "# # Combine the undersampled majority class with the minority class\n",
    "# balanced_data_structure = pd.concat([undersampled_majority, minority_class])\n",
    "# balanced_data_structure"
   ]
  },
  {
   "cell_type": "code",
   "execution_count": 8,
   "id": "7b69221b-c141-41dd-9234-d87b9117af2e",
   "metadata": {},
   "outputs": [],
   "source": [
    "def balance_data(dataframe, target_columns):\n",
    "    #balances data based on target columns\n",
    "    from sklearn.utils import resample\n",
    "    \n",
    "    # Ensure target_columns is a list, even if it's a single column.\n",
    "    if not isinstance(target_columns, list):\n",
    "        target_columns = [target_columns]\n",
    "\n",
    "    for target in target_columns:\n",
    "        # separate the majority and minority classes\n",
    "        majority_class = dataframe[dataframe[target] == dataframe[target].value_counts().idxmax()]\n",
    "        minority_class = dataframe[dataframe[target] == dataframe[target].value_counts().idxmin()]\n",
    "\n",
    "        #create new dataframe with len(minority_class)\n",
    "        n_samples = len(minority_class)\n",
    "        undersampled_majority = resample(majority_class, n_samples=n_samples, replace=False)\n",
    "\n",
    "        # Combine the undersampled majority class with the minority class\n",
    "        dataframe = pd.concat([undersampled_majority, minority_class])\n",
    "        print(f'DF length reduced to {dataframe.shape}')\n",
    "        print(f'{target} value counts: {dataframe[target].value_counts()}')\n",
    "    \n",
    "    return dataframe"
   ]
  },
  {
   "cell_type": "code",
   "execution_count": null,
   "id": "84a667bb-3f02-43ad-bbf7-6bd187cfc819",
   "metadata": {},
   "outputs": [],
   "source": [
    "df = pd.merge(df, hmmer_structure, on=['prot_pair_index'])\n",
    "df.shape"
   ]
  },
  {
   "cell_type": "code",
   "execution_count": 10,
   "id": "1963df60-2457-4d17-af91-e3f39fb25884",
   "metadata": {},
   "outputs": [
    {
     "name": "stdout",
     "output_type": "stream",
     "text": [
      "DF length reduced to (17108, 34)\n",
      "protein_match value counts: 1    8554\n",
      "0    8554\n",
      "Name: protein_match, dtype: int64\n",
      "DF length reduced to (17008, 34)\n",
      "structure_match value counts: 0    8504\n",
      "1    8504\n",
      "Name: structure_match, dtype: int64\n"
     ]
    }
   ],
   "source": [
    "balanced = balance_data(df, ['protein_match', 'structure_match'])"
   ]
  },
  {
   "cell_type": "code",
   "execution_count": 12,
   "id": "9897740c-efea-4392-a09f-7e88bd0424bc",
   "metadata": {
    "scrolled": true
   },
   "outputs": [
    {
     "data": {
      "text/plain": [
       "(17008, 34)"
      ]
     },
     "execution_count": 12,
     "metadata": {},
     "output_type": "execute_result"
    }
   ],
   "source": [
    "balanced.shape"
   ]
  },
  {
   "cell_type": "code",
   "execution_count": 8,
   "id": "337f87aa",
   "metadata": {},
   "outputs": [
    {
     "data": {
      "text/html": [
       "<div>\n",
       "<style scoped>\n",
       "    .dataframe tbody tr th:only-of-type {\n",
       "        vertical-align: middle;\n",
       "    }\n",
       "\n",
       "    .dataframe tbody tr th {\n",
       "        vertical-align: top;\n",
       "    }\n",
       "\n",
       "    .dataframe thead th {\n",
       "        text-align: right;\n",
       "    }\n",
       "</style>\n",
       "<table border=\"1\" class=\"dataframe\">\n",
       "  <thead>\n",
       "    <tr style=\"text-align: right;\">\n",
       "      <th></th>\n",
       "      <th>m_protein_seq</th>\n",
       "      <th>t_protein_seq</th>\n",
       "      <th>prot_pair_index</th>\n",
       "    </tr>\n",
       "  </thead>\n",
       "  <tbody>\n",
       "    <tr>\n",
       "      <th>0</th>\n",
       "      <td>MARIALVDDDRNILTSVSMTLEAEGFEVETYNDGQSALDAFNKRMP...</td>\n",
       "      <td>MRVLLVEDDPNTSRSIEMMLTHANLNVYATDMGEEGIDLAKLYDYD...</td>\n",
       "      <td>92992745</td>\n",
       "    </tr>\n",
       "    <tr>\n",
       "      <th>1</th>\n",
       "      <td>MVTTGERQRNARGEGARLRLEIVAATQALLADGETATLRSIARRAG...</td>\n",
       "      <td>MNRPTYHHGDLRAAILTEAARLVAERGAERVSLRELAREAGVSHAA...</td>\n",
       "      <td>20752996</td>\n",
       "    </tr>\n",
       "    <tr>\n",
       "      <th>2</th>\n",
       "      <td>MGSTDRPDLAAMLAPLTRTLIAMERPVLETYGLTMWAYSVLVALSR...</td>\n",
       "      <td>MGHKDELIARIQRAEREFRRSVVSQAATDFFSVDLTMPQLRVVFFL...</td>\n",
       "      <td>24980629</td>\n",
       "    </tr>\n",
       "    <tr>\n",
       "      <th>3</th>\n",
       "      <td>MPRWVKIAVIVAVAAIVGVASVPLSQLGSGTITVTAQFADAAGLYN...</td>\n",
       "      <td>MKVPFRERNPVPIALASFTALAVLMLGAYFIEDLPVIGGGTTYSAR...</td>\n",
       "      <td>86923756</td>\n",
       "    </tr>\n",
       "    <tr>\n",
       "      <th>4</th>\n",
       "      <td>MQIKDSVAVVTGGASGLGLATTKRLLDAGGSVVVIDLKGEDVVAEL...</td>\n",
       "      <td>MTGTVVITGGSRGIGAATAVLAAERGWQVAVSFRERRDAAEQVVRR...</td>\n",
       "      <td>85102366</td>\n",
       "    </tr>\n",
       "    <tr>\n",
       "      <th>...</th>\n",
       "      <td>...</td>\n",
       "      <td>...</td>\n",
       "      <td>...</td>\n",
       "    </tr>\n",
       "    <tr>\n",
       "      <th>17103</th>\n",
       "      <td>MSTTEQRVAIVTGAARGIGAATAVRLAAEGRAVAVLDLDEAACKDT...</td>\n",
       "      <td>MESSSFPLRGKTALVTGVSRRRGIGYAVATRLAELGADIVIHHFVP...</td>\n",
       "      <td>136836774</td>\n",
       "    </tr>\n",
       "    <tr>\n",
       "      <th>17104</th>\n",
       "      <td>MRRQVGSVPGVTRTAGAAGGGAAARTAPGGPPDVVLMSCSHPRAAE...</td>\n",
       "      <td>MAESHSTTRSGQIRVFVLDDHEVVRRGVRDLLDAEPDITVVGEAET...</td>\n",
       "      <td>14456723</td>\n",
       "    </tr>\n",
       "    <tr>\n",
       "      <th>17105</th>\n",
       "      <td>MDNATFRLGDDLSVRLPGHSRWIGQVEREQRWLPWLAPRLPLTVST...</td>\n",
       "      <td>MPPQPRPLRPNDPREIGGFALLGRLGEGGQGTVYLGGAPDGRRVAV...</td>\n",
       "      <td>78849058</td>\n",
       "    </tr>\n",
       "    <tr>\n",
       "      <th>17106</th>\n",
       "      <td>MIRLAELTKTYPGQQHPAVDGISMEVAEGEIVVLVGPSGCGKTTTL...</td>\n",
       "      <td>MTEQPILSARGLTVDFRLRGGRRARAVDGVDLDLAPGEVLALAGES...</td>\n",
       "      <td>161110219</td>\n",
       "    </tr>\n",
       "    <tr>\n",
       "      <th>17107</th>\n",
       "      <td>MTGQGASGSETGVSDDSPITVVVVDDQELLRTGLRDLAEHDGDIAV...</td>\n",
       "      <td>MTTEAQPRRVVLAEDEALIRLDLAEMLAEEGYEVVGQAADGETALA...</td>\n",
       "      <td>143737378</td>\n",
       "    </tr>\n",
       "  </tbody>\n",
       "</table>\n",
       "<p>17108 rows × 3 columns</p>\n",
       "</div>"
      ],
      "text/plain": [
       "                                           m_protein_seq  \\\n",
       "0      MARIALVDDDRNILTSVSMTLEAEGFEVETYNDGQSALDAFNKRMP...   \n",
       "1      MVTTGERQRNARGEGARLRLEIVAATQALLADGETATLRSIARRAG...   \n",
       "2      MGSTDRPDLAAMLAPLTRTLIAMERPVLETYGLTMWAYSVLVALSR...   \n",
       "3      MPRWVKIAVIVAVAAIVGVASVPLSQLGSGTITVTAQFADAAGLYN...   \n",
       "4      MQIKDSVAVVTGGASGLGLATTKRLLDAGGSVVVIDLKGEDVVAEL...   \n",
       "...                                                  ...   \n",
       "17103  MSTTEQRVAIVTGAARGIGAATAVRLAAEGRAVAVLDLDEAACKDT...   \n",
       "17104  MRRQVGSVPGVTRTAGAAGGGAAARTAPGGPPDVVLMSCSHPRAAE...   \n",
       "17105  MDNATFRLGDDLSVRLPGHSRWIGQVEREQRWLPWLAPRLPLTVST...   \n",
       "17106  MIRLAELTKTYPGQQHPAVDGISMEVAEGEIVVLVGPSGCGKTTTL...   \n",
       "17107  MTGQGASGSETGVSDDSPITVVVVDDQELLRTGLRDLAEHDGDIAV...   \n",
       "\n",
       "                                           t_protein_seq  prot_pair_index  \n",
       "0      MRVLLVEDDPNTSRSIEMMLTHANLNVYATDMGEEGIDLAKLYDYD...         92992745  \n",
       "1      MNRPTYHHGDLRAAILTEAARLVAERGAERVSLRELAREAGVSHAA...         20752996  \n",
       "2      MGHKDELIARIQRAEREFRRSVVSQAATDFFSVDLTMPQLRVVFFL...         24980629  \n",
       "3      MKVPFRERNPVPIALASFTALAVLMLGAYFIEDLPVIGGGTTYSAR...         86923756  \n",
       "4      MTGTVVITGGSRGIGAATAVLAAERGWQVAVSFRERRDAAEQVVRR...         85102366  \n",
       "...                                                  ...              ...  \n",
       "17103  MESSSFPLRGKTALVTGVSRRRGIGYAVATRLAELGADIVIHHFVP...        136836774  \n",
       "17104  MAESHSTTRSGQIRVFVLDDHEVVRRGVRDLLDAEPDITVVGEAET...         14456723  \n",
       "17105  MPPQPRPLRPNDPREIGGFALLGRLGEGGQGTVYLGGAPDGRRVAV...         78849058  \n",
       "17106  MTEQPILSARGLTVDFRLRGGRRARAVDGVDLDLAPGEVLALAGES...        161110219  \n",
       "17107  MTTEAQPRRVVLAEDEALIRLDLAEMLAEEGYEVVGQAADGETALA...        143737378  \n",
       "\n",
       "[17108 rows x 3 columns]"
      ]
     },
     "execution_count": 8,
     "metadata": {},
     "output_type": "execute_result"
    }
   ],
   "source": [
    "df_seqs = df[['m_protein_seq', 't_protein_seq', 'prot_pair_index']]\n",
    "df_seqs"
   ]
  },
  {
   "cell_type": "code",
   "execution_count": 9,
   "id": "084d9561",
   "metadata": {},
   "outputs": [],
   "source": [
    "#get rid of stuff that isn't quantitative\n",
    "\n",
    "df = df.drop(columns = ['Unnamed: 0_x', 'Unnamed: 0_y','thermo_index', 'm_protein_seq', 't_protein_seq',\n",
    "                        'm_protein_desc', 't_protein_desc'])"
   ]
  },
  {
   "cell_type": "code",
   "execution_count": 10,
   "id": "eea27e6c",
   "metadata": {
    "scrolled": true
   },
   "outputs": [
    {
     "data": {
      "text/plain": [
       "Index(['local_gap_compressed_percent_id', 'scaled_local_query_percent_id',\n",
       "       'scaled_local_symmetric_percent_id', 'query_align_len',\n",
       "       'query_align_cov', 'subject_align_len', 'subject_align_cov',\n",
       "       'bit_score', 'meso_index', 'prot_pair_index', 'meso_protein_int_index',\n",
       "       'thermo_protein_int_index', 'taxa_pair_index',\n",
       "       'local_gap_compressed_percent_id_16s',\n",
       "       'scaled_local_query_percent_id_16s',\n",
       "       'scaled_local_symmetric_percent_id_16s', 'query_align_cov_16s',\n",
       "       'subject_align_cov_16s', 'bit_score_16s', 'm_ogt', 't_ogt',\n",
       "       'ogt_difference', 'm_protein_len', 't_protein_len', 'protein_match',\n",
       "       'Jaccard_Score', 'structure_match'],\n",
       "      dtype='object')"
      ]
     },
     "execution_count": 10,
     "metadata": {},
     "output_type": "execute_result"
    }
   ],
   "source": [
    "df.columns"
   ]
  },
  {
   "cell_type": "markdown",
   "id": "07cc3a80",
   "metadata": {},
   "source": [
    "From pairplot below, it looks like query_align_cov_16s and subject_align_cov_16s dont correlate with target. Let's remove them."
   ]
  },
  {
   "cell_type": "code",
   "execution_count": 11,
   "id": "36d8dadb",
   "metadata": {
    "scrolled": true
   },
   "outputs": [],
   "source": [
    "# sns.pairplot(df.sample(500),height = 4)"
   ]
  },
  {
   "cell_type": "code",
   "execution_count": 12,
   "id": "91079edd",
   "metadata": {},
   "outputs": [],
   "source": [
    "df = df.drop(columns = ['query_align_cov_16s', 'subject_align_cov_16s'])"
   ]
  },
  {
   "cell_type": "code",
   "execution_count": 13,
   "id": "7929625e",
   "metadata": {},
   "outputs": [
    {
     "data": {
      "text/html": [
       "<div>\n",
       "<style scoped>\n",
       "    .dataframe tbody tr th:only-of-type {\n",
       "        vertical-align: middle;\n",
       "    }\n",
       "\n",
       "    .dataframe tbody tr th {\n",
       "        vertical-align: top;\n",
       "    }\n",
       "\n",
       "    .dataframe thead th {\n",
       "        text-align: right;\n",
       "    }\n",
       "</style>\n",
       "<table border=\"1\" class=\"dataframe\">\n",
       "  <thead>\n",
       "    <tr style=\"text-align: right;\">\n",
       "      <th></th>\n",
       "      <th>local_gap_compressed_percent_id</th>\n",
       "      <th>scaled_local_query_percent_id</th>\n",
       "      <th>scaled_local_symmetric_percent_id</th>\n",
       "      <th>query_align_len</th>\n",
       "      <th>query_align_cov</th>\n",
       "      <th>subject_align_len</th>\n",
       "      <th>subject_align_cov</th>\n",
       "      <th>bit_score</th>\n",
       "      <th>meso_index</th>\n",
       "      <th>prot_pair_index</th>\n",
       "      <th>...</th>\n",
       "      <th>scaled_local_symmetric_percent_id_16s</th>\n",
       "      <th>bit_score_16s</th>\n",
       "      <th>m_ogt</th>\n",
       "      <th>t_ogt</th>\n",
       "      <th>ogt_difference</th>\n",
       "      <th>m_protein_len</th>\n",
       "      <th>t_protein_len</th>\n",
       "      <th>protein_match</th>\n",
       "      <th>Jaccard_Score</th>\n",
       "      <th>structure_match</th>\n",
       "    </tr>\n",
       "  </thead>\n",
       "  <tbody>\n",
       "    <tr>\n",
       "      <th>count</th>\n",
       "      <td>17108.000000</td>\n",
       "      <td>17108.000000</td>\n",
       "      <td>17108.000000</td>\n",
       "      <td>17108.000000</td>\n",
       "      <td>17108.000000</td>\n",
       "      <td>17108.000000</td>\n",
       "      <td>17108.000000</td>\n",
       "      <td>17108.000000</td>\n",
       "      <td>17108.000000</td>\n",
       "      <td>1.710800e+04</td>\n",
       "      <td>...</td>\n",
       "      <td>17108.000000</td>\n",
       "      <td>17108.000000</td>\n",
       "      <td>17108.000000</td>\n",
       "      <td>17108.000000</td>\n",
       "      <td>17108.000000</td>\n",
       "      <td>17108.000000</td>\n",
       "      <td>17108.000000</td>\n",
       "      <td>17108.000000</td>\n",
       "      <td>17108.000000</td>\n",
       "      <td>17108.000000</td>\n",
       "    </tr>\n",
       "    <tr>\n",
       "      <th>mean</th>\n",
       "      <td>0.335235</td>\n",
       "      <td>0.253648</td>\n",
       "      <td>0.245991</td>\n",
       "      <td>199.571312</td>\n",
       "      <td>0.760849</td>\n",
       "      <td>198.742226</td>\n",
       "      <td>0.731154</td>\n",
       "      <td>205.394611</td>\n",
       "      <td>8120.993161</td>\n",
       "      <td>9.121505e+07</td>\n",
       "      <td>...</td>\n",
       "      <td>0.904765</td>\n",
       "      <td>1060.248714</td>\n",
       "      <td>27.375789</td>\n",
       "      <td>51.539689</td>\n",
       "      <td>24.163900</td>\n",
       "      <td>277.333762</td>\n",
       "      <td>264.007131</td>\n",
       "      <td>0.500000</td>\n",
       "      <td>0.452316</td>\n",
       "      <td>0.500000</td>\n",
       "    </tr>\n",
       "    <tr>\n",
       "      <th>std</th>\n",
       "      <td>0.081333</td>\n",
       "      <td>0.098624</td>\n",
       "      <td>0.100621</td>\n",
       "      <td>59.690919</td>\n",
       "      <td>0.145705</td>\n",
       "      <td>60.047306</td>\n",
       "      <td>0.190792</td>\n",
       "      <td>161.052698</td>\n",
       "      <td>4602.110894</td>\n",
       "      <td>5.224819e+07</td>\n",
       "      <td>...</td>\n",
       "      <td>0.015171</td>\n",
       "      <td>75.203055</td>\n",
       "      <td>3.758359</td>\n",
       "      <td>3.802579</td>\n",
       "      <td>3.614472</td>\n",
       "      <td>63.182764</td>\n",
       "      <td>68.397526</td>\n",
       "      <td>0.500015</td>\n",
       "      <td>0.338385</td>\n",
       "      <td>0.500015</td>\n",
       "    </tr>\n",
       "    <tr>\n",
       "      <th>min</th>\n",
       "      <td>0.164103</td>\n",
       "      <td>0.081301</td>\n",
       "      <td>0.045977</td>\n",
       "      <td>21.000000</td>\n",
       "      <td>0.284553</td>\n",
       "      <td>21.000000</td>\n",
       "      <td>0.083916</td>\n",
       "      <td>35.000000</td>\n",
       "      <td>5.000000</td>\n",
       "      <td>8.858000e+03</td>\n",
       "      <td>...</td>\n",
       "      <td>0.880026</td>\n",
       "      <td>891.000000</td>\n",
       "      <td>7.000000</td>\n",
       "      <td>41.000000</td>\n",
       "      <td>20.000000</td>\n",
       "      <td>30.000000</td>\n",
       "      <td>29.000000</td>\n",
       "      <td>0.000000</td>\n",
       "      <td>0.000000</td>\n",
       "      <td>0.000000</td>\n",
       "    </tr>\n",
       "    <tr>\n",
       "      <th>25%</th>\n",
       "      <td>0.290323</td>\n",
       "      <td>0.193370</td>\n",
       "      <td>0.189189</td>\n",
       "      <td>167.000000</td>\n",
       "      <td>0.638298</td>\n",
       "      <td>166.000000</td>\n",
       "      <td>0.613496</td>\n",
       "      <td>109.000000</td>\n",
       "      <td>4162.000000</td>\n",
       "      <td>4.676635e+07</td>\n",
       "      <td>...</td>\n",
       "      <td>0.893338</td>\n",
       "      <td>1008.000000</td>\n",
       "      <td>27.500000</td>\n",
       "      <td>50.000000</td>\n",
       "      <td>22.000000</td>\n",
       "      <td>239.000000</td>\n",
       "      <td>227.000000</td>\n",
       "      <td>0.000000</td>\n",
       "      <td>0.200000</td>\n",
       "      <td>0.000000</td>\n",
       "    </tr>\n",
       "    <tr>\n",
       "      <th>50%</th>\n",
       "      <td>0.318681</td>\n",
       "      <td>0.233577</td>\n",
       "      <td>0.229060</td>\n",
       "      <td>207.000000</td>\n",
       "      <td>0.761905</td>\n",
       "      <td>207.000000</td>\n",
       "      <td>0.756434</td>\n",
       "      <td>178.000000</td>\n",
       "      <td>8046.000000</td>\n",
       "      <td>9.146144e+07</td>\n",
       "      <td>...</td>\n",
       "      <td>0.903480</td>\n",
       "      <td>1055.000000</td>\n",
       "      <td>28.000000</td>\n",
       "      <td>52.500000</td>\n",
       "      <td>24.500000</td>\n",
       "      <td>271.000000</td>\n",
       "      <td>260.000000</td>\n",
       "      <td>0.500000</td>\n",
       "      <td>0.320513</td>\n",
       "      <td>0.500000</td>\n",
       "    </tr>\n",
       "    <tr>\n",
       "      <th>75%</th>\n",
       "      <td>0.353672</td>\n",
       "      <td>0.282700</td>\n",
       "      <td>0.273755</td>\n",
       "      <td>231.000000</td>\n",
       "      <td>0.890285</td>\n",
       "      <td>229.000000</td>\n",
       "      <td>0.890625</td>\n",
       "      <td>244.000000</td>\n",
       "      <td>12103.000000</td>\n",
       "      <td>1.360614e+08</td>\n",
       "      <td>...</td>\n",
       "      <td>0.914586</td>\n",
       "      <td>1107.000000</td>\n",
       "      <td>30.000000</td>\n",
       "      <td>52.500000</td>\n",
       "      <td>24.500000</td>\n",
       "      <td>326.000000</td>\n",
       "      <td>315.000000</td>\n",
       "      <td>1.000000</td>\n",
       "      <td>0.750000</td>\n",
       "      <td>1.000000</td>\n",
       "    </tr>\n",
       "    <tr>\n",
       "      <th>max</th>\n",
       "      <td>0.923077</td>\n",
       "      <td>0.918919</td>\n",
       "      <td>0.918919</td>\n",
       "      <td>399.000000</td>\n",
       "      <td>1.000000</td>\n",
       "      <td>399.000000</td>\n",
       "      <td>1.000000</td>\n",
       "      <td>1608.000000</td>\n",
       "      <td>16564.000000</td>\n",
       "      <td>1.814866e+08</td>\n",
       "      <td>...</td>\n",
       "      <td>0.996439</td>\n",
       "      <td>1679.000000</td>\n",
       "      <td>40.000000</td>\n",
       "      <td>78.000000</td>\n",
       "      <td>56.000000</td>\n",
       "      <td>400.000000</td>\n",
       "      <td>400.000000</td>\n",
       "      <td>1.000000</td>\n",
       "      <td>1.000000</td>\n",
       "      <td>1.000000</td>\n",
       "    </tr>\n",
       "  </tbody>\n",
       "</table>\n",
       "<p>8 rows × 25 columns</p>\n",
       "</div>"
      ],
      "text/plain": [
       "       local_gap_compressed_percent_id  scaled_local_query_percent_id  \\\n",
       "count                     17108.000000                   17108.000000   \n",
       "mean                          0.335235                       0.253648   \n",
       "std                           0.081333                       0.098624   \n",
       "min                           0.164103                       0.081301   \n",
       "25%                           0.290323                       0.193370   \n",
       "50%                           0.318681                       0.233577   \n",
       "75%                           0.353672                       0.282700   \n",
       "max                           0.923077                       0.918919   \n",
       "\n",
       "       scaled_local_symmetric_percent_id  query_align_len  query_align_cov  \\\n",
       "count                       17108.000000     17108.000000     17108.000000   \n",
       "mean                            0.245991       199.571312         0.760849   \n",
       "std                             0.100621        59.690919         0.145705   \n",
       "min                             0.045977        21.000000         0.284553   \n",
       "25%                             0.189189       167.000000         0.638298   \n",
       "50%                             0.229060       207.000000         0.761905   \n",
       "75%                             0.273755       231.000000         0.890285   \n",
       "max                             0.918919       399.000000         1.000000   \n",
       "\n",
       "       subject_align_len  subject_align_cov     bit_score    meso_index  \\\n",
       "count       17108.000000       17108.000000  17108.000000  17108.000000   \n",
       "mean          198.742226           0.731154    205.394611   8120.993161   \n",
       "std            60.047306           0.190792    161.052698   4602.110894   \n",
       "min            21.000000           0.083916     35.000000      5.000000   \n",
       "25%           166.000000           0.613496    109.000000   4162.000000   \n",
       "50%           207.000000           0.756434    178.000000   8046.000000   \n",
       "75%           229.000000           0.890625    244.000000  12103.000000   \n",
       "max           399.000000           1.000000   1608.000000  16564.000000   \n",
       "\n",
       "       prot_pair_index  ...  scaled_local_symmetric_percent_id_16s  \\\n",
       "count     1.710800e+04  ...                           17108.000000   \n",
       "mean      9.121505e+07  ...                               0.904765   \n",
       "std       5.224819e+07  ...                               0.015171   \n",
       "min       8.858000e+03  ...                               0.880026   \n",
       "25%       4.676635e+07  ...                               0.893338   \n",
       "50%       9.146144e+07  ...                               0.903480   \n",
       "75%       1.360614e+08  ...                               0.914586   \n",
       "max       1.814866e+08  ...                               0.996439   \n",
       "\n",
       "       bit_score_16s         m_ogt         t_ogt  ogt_difference  \\\n",
       "count   17108.000000  17108.000000  17108.000000    17108.000000   \n",
       "mean     1060.248714     27.375789     51.539689       24.163900   \n",
       "std        75.203055      3.758359      3.802579        3.614472   \n",
       "min       891.000000      7.000000     41.000000       20.000000   \n",
       "25%      1008.000000     27.500000     50.000000       22.000000   \n",
       "50%      1055.000000     28.000000     52.500000       24.500000   \n",
       "75%      1107.000000     30.000000     52.500000       24.500000   \n",
       "max      1679.000000     40.000000     78.000000       56.000000   \n",
       "\n",
       "       m_protein_len  t_protein_len  protein_match  Jaccard_Score  \\\n",
       "count   17108.000000   17108.000000   17108.000000   17108.000000   \n",
       "mean      277.333762     264.007131       0.500000       0.452316   \n",
       "std        63.182764      68.397526       0.500015       0.338385   \n",
       "min        30.000000      29.000000       0.000000       0.000000   \n",
       "25%       239.000000     227.000000       0.000000       0.200000   \n",
       "50%       271.000000     260.000000       0.500000       0.320513   \n",
       "75%       326.000000     315.000000       1.000000       0.750000   \n",
       "max       400.000000     400.000000       1.000000       1.000000   \n",
       "\n",
       "       structure_match  \n",
       "count     17108.000000  \n",
       "mean          0.500000  \n",
       "std           0.500015  \n",
       "min           0.000000  \n",
       "25%           0.000000  \n",
       "50%           0.500000  \n",
       "75%           1.000000  \n",
       "max           1.000000  \n",
       "\n",
       "[8 rows x 25 columns]"
      ]
     },
     "execution_count": 13,
     "metadata": {},
     "output_type": "execute_result"
    }
   ],
   "source": [
    "df.describe()"
   ]
  },
  {
   "cell_type": "markdown",
   "id": "90871d01",
   "metadata": {},
   "source": [
    "Split data into dev and test, and then split that into train and validation."
   ]
  },
  {
   "cell_type": "code",
   "execution_count": 14,
   "id": "6519dcaf",
   "metadata": {},
   "outputs": [],
   "source": [
    "#drop columns that don't exihibit signficant pearson correlation with bit_score\n",
    "\n",
    "df = df.drop(columns = ['meso_index', 'meso_protein_int_index', 'local_gap_compressed_percent_id_16s', \n",
    "                        'scaled_local_query_percent_id_16s', 'scaled_local_symmetric_percent_id_16s',\n",
    "                       'bit_score_16s', 'm_ogt', 't_ogt', 'taxa_pair_index', 'thermo_protein_int_index'\n",
    "                       , 'prot_pair_index', 'ogt_difference'])"
   ]
  },
  {
   "cell_type": "code",
   "execution_count": 15,
   "id": "b3b9a7c2",
   "metadata": {},
   "outputs": [],
   "source": [
    "df = df.drop(columns = ['Jaccard_Score'])\n"
   ]
  },
  {
   "cell_type": "code",
   "execution_count": 16,
   "id": "113e6608",
   "metadata": {},
   "outputs": [
    {
     "data": {
      "text/plain": [
       "Index(['local_gap_compressed_percent_id', 'scaled_local_query_percent_id',\n",
       "       'scaled_local_symmetric_percent_id', 'query_align_len',\n",
       "       'query_align_cov', 'subject_align_len', 'subject_align_cov',\n",
       "       'bit_score', 'm_protein_len', 't_protein_len', 'protein_match',\n",
       "       'structure_match'],\n",
       "      dtype='object')"
      ]
     },
     "execution_count": 16,
     "metadata": {},
     "output_type": "execute_result"
    }
   ],
   "source": [
    "df.columns"
   ]
  },
  {
   "cell_type": "code",
   "execution_count": 17,
   "id": "af9f23cf",
   "metadata": {
    "scrolled": true
   },
   "outputs": [
    {
     "name": "stdout",
     "output_type": "stream",
     "text": [
      "(14541, 12)\n",
      "(2567, 12)\n",
      "(12359, 12)\n",
      "(2182, 12)\n"
     ]
    }
   ],
   "source": [
    "#choosing 80/20 split instead of 85/15 because of volume of data\n",
    "\n",
    "dev, test = sklearn.model_selection.train_test_split(df, test_size=0.15, random_state=1)\n",
    "\n",
    "train, val = sklearn.model_selection.train_test_split(dev, test_size=0.15, random_state=1)\n",
    "\n",
    "print(dev.shape)\n",
    "print(test.shape)\n",
    "print(train.shape)\n",
    "print(val.shape)"
   ]
  },
  {
   "cell_type": "code",
   "execution_count": 18,
   "id": "8470550d",
   "metadata": {},
   "outputs": [],
   "source": [
    "#ID target and features, separate into separate arrays\n",
    "\n",
    "target = [columns for columns in df[['protein_match', 'structure_match']]]\n",
    "input_features = [columns for columns in df.drop(columns=['protein_match', 'structure_match'])]"
   ]
  },
  {
   "cell_type": "code",
   "execution_count": 19,
   "id": "73c0a63f",
   "metadata": {},
   "outputs": [
    {
     "data": {
      "text/plain": [
       "['local_gap_compressed_percent_id',\n",
       " 'scaled_local_query_percent_id',\n",
       " 'scaled_local_symmetric_percent_id',\n",
       " 'query_align_len',\n",
       " 'query_align_cov',\n",
       " 'subject_align_len',\n",
       " 'subject_align_cov',\n",
       " 'bit_score',\n",
       " 'm_protein_len',\n",
       " 't_protein_len']"
      ]
     },
     "execution_count": 19,
     "metadata": {},
     "output_type": "execute_result"
    }
   ],
   "source": [
    "input_features"
   ]
  },
  {
   "cell_type": "code",
   "execution_count": 20,
   "id": "c62edd28",
   "metadata": {},
   "outputs": [
    {
     "name": "stdout",
     "output_type": "stream",
     "text": [
      "['local_gap_compressed_percent_id', 'scaled_local_query_percent_id', 'scaled_local_symmetric_percent_id', 'query_align_len', 'query_align_cov', 'subject_align_len', 'subject_align_cov', 'bit_score', 'm_protein_len', 't_protein_len']\n",
      "['protein_match', 'structure_match']\n"
     ]
    }
   ],
   "source": [
    "print(input_features)\n",
    "print(target)"
   ]
  },
  {
   "cell_type": "code",
   "execution_count": 60,
   "id": "1ab62bff",
   "metadata": {
    "scrolled": true
   },
   "outputs": [
    {
     "name": "stdout",
     "output_type": "stream",
     "text": [
      "(14541, 10) (2567, 10) (14541, 2) (2567, 2)\n"
     ]
    }
   ],
   "source": [
    "#split X and y\n",
    "\n",
    "dev_X = dev[input_features].values\n",
    "test_X = test[input_features].values\n",
    "\n",
    "dev_y = dev[target].values\n",
    "test_y = test[target].values\n",
    "\n",
    "print(dev_X.shape, test_X.shape, dev_y.shape, test_y.shape)"
   ]
  },
  {
   "cell_type": "code",
   "execution_count": 61,
   "id": "9ac52ac0",
   "metadata": {},
   "outputs": [],
   "source": [
    "#same thing for training and validation data\n",
    "\n",
    "train_X = train[input_features].values\n",
    "val_X = val[input_features].values\n",
    "\n",
    "train_y = train[target].values\n",
    "val_y = val[target].values"
   ]
  },
  {
   "cell_type": "markdown",
   "id": "c374f2d7",
   "metadata": {},
   "source": [
    "Scale the data"
   ]
  },
  {
   "cell_type": "code",
   "execution_count": 62,
   "id": "2b48b2e5",
   "metadata": {},
   "outputs": [],
   "source": [
    "scaler = sklearn.preprocessing.StandardScaler()\n",
    "dev_X = scaler.fit_transform(dev_X)\n",
    "test_X = scaler.fit_transform(test_X)\n",
    "train_X = scaler.fit_transform(train_X)\n",
    "val_X = scaler.fit_transform(val_X)"
   ]
  },
  {
   "cell_type": "markdown",
   "id": "c3022371",
   "metadata": {},
   "source": [
    "Train the model"
   ]
  },
  {
   "cell_type": "code",
   "execution_count": 64,
   "id": "be4e09b0",
   "metadata": {},
   "outputs": [
    {
     "data": {
      "text/html": [
       "<style>#sk-container-id-4 {color: black;background-color: white;}#sk-container-id-4 pre{padding: 0;}#sk-container-id-4 div.sk-toggleable {background-color: white;}#sk-container-id-4 label.sk-toggleable__label {cursor: pointer;display: block;width: 100%;margin-bottom: 0;padding: 0.3em;box-sizing: border-box;text-align: center;}#sk-container-id-4 label.sk-toggleable__label-arrow:before {content: \"▸\";float: left;margin-right: 0.25em;color: #696969;}#sk-container-id-4 label.sk-toggleable__label-arrow:hover:before {color: black;}#sk-container-id-4 div.sk-estimator:hover label.sk-toggleable__label-arrow:before {color: black;}#sk-container-id-4 div.sk-toggleable__content {max-height: 0;max-width: 0;overflow: hidden;text-align: left;background-color: #f0f8ff;}#sk-container-id-4 div.sk-toggleable__content pre {margin: 0.2em;color: black;border-radius: 0.25em;background-color: #f0f8ff;}#sk-container-id-4 input.sk-toggleable__control:checked~div.sk-toggleable__content {max-height: 200px;max-width: 100%;overflow: auto;}#sk-container-id-4 input.sk-toggleable__control:checked~label.sk-toggleable__label-arrow:before {content: \"▾\";}#sk-container-id-4 div.sk-estimator input.sk-toggleable__control:checked~label.sk-toggleable__label {background-color: #d4ebff;}#sk-container-id-4 div.sk-label input.sk-toggleable__control:checked~label.sk-toggleable__label {background-color: #d4ebff;}#sk-container-id-4 input.sk-hidden--visually {border: 0;clip: rect(1px 1px 1px 1px);clip: rect(1px, 1px, 1px, 1px);height: 1px;margin: -1px;overflow: hidden;padding: 0;position: absolute;width: 1px;}#sk-container-id-4 div.sk-estimator {font-family: monospace;background-color: #f0f8ff;border: 1px dotted black;border-radius: 0.25em;box-sizing: border-box;margin-bottom: 0.5em;}#sk-container-id-4 div.sk-estimator:hover {background-color: #d4ebff;}#sk-container-id-4 div.sk-parallel-item::after {content: \"\";width: 100%;border-bottom: 1px solid gray;flex-grow: 1;}#sk-container-id-4 div.sk-label:hover label.sk-toggleable__label {background-color: #d4ebff;}#sk-container-id-4 div.sk-serial::before {content: \"\";position: absolute;border-left: 1px solid gray;box-sizing: border-box;top: 0;bottom: 0;left: 50%;z-index: 0;}#sk-container-id-4 div.sk-serial {display: flex;flex-direction: column;align-items: center;background-color: white;padding-right: 0.2em;padding-left: 0.2em;position: relative;}#sk-container-id-4 div.sk-item {position: relative;z-index: 1;}#sk-container-id-4 div.sk-parallel {display: flex;align-items: stretch;justify-content: center;background-color: white;position: relative;}#sk-container-id-4 div.sk-item::before, #sk-container-id-4 div.sk-parallel-item::before {content: \"\";position: absolute;border-left: 1px solid gray;box-sizing: border-box;top: 0;bottom: 0;left: 50%;z-index: -1;}#sk-container-id-4 div.sk-parallel-item {display: flex;flex-direction: column;z-index: 1;position: relative;background-color: white;}#sk-container-id-4 div.sk-parallel-item:first-child::after {align-self: flex-end;width: 50%;}#sk-container-id-4 div.sk-parallel-item:last-child::after {align-self: flex-start;width: 50%;}#sk-container-id-4 div.sk-parallel-item:only-child::after {width: 0;}#sk-container-id-4 div.sk-dashed-wrapped {border: 1px dashed gray;margin: 0 0.4em 0.5em 0.4em;box-sizing: border-box;padding-bottom: 0.4em;background-color: white;}#sk-container-id-4 div.sk-label label {font-family: monospace;font-weight: bold;display: inline-block;line-height: 1.2em;}#sk-container-id-4 div.sk-label-container {text-align: center;}#sk-container-id-4 div.sk-container {/* jupyter's `normalize.less` sets `[hidden] { display: none; }` but bootstrap.min.css set `[hidden] { display: none !important; }` so we also need the `!important` here to be able to override the default hidden behavior on the sphinx rendered scikit-learn.org. See: https://github.com/scikit-learn/scikit-learn/issues/21755 */display: inline-block !important;position: relative;}#sk-container-id-4 div.sk-text-repr-fallback {display: none;}</style><div id=\"sk-container-id-4\" class=\"sk-top-container\"><div class=\"sk-text-repr-fallback\"><pre>RandomForestClassifier(oob_score=True)</pre><b>In a Jupyter environment, please rerun this cell to show the HTML representation or trust the notebook. <br />On GitHub, the HTML representation is unable to render, please try loading this page with nbviewer.org.</b></div><div class=\"sk-container\" hidden><div class=\"sk-item\"><div class=\"sk-estimator sk-toggleable\"><input class=\"sk-toggleable__control sk-hidden--visually\" id=\"sk-estimator-id-4\" type=\"checkbox\" checked><label for=\"sk-estimator-id-4\" class=\"sk-toggleable__label sk-toggleable__label-arrow\">RandomForestClassifier</label><div class=\"sk-toggleable__content\"><pre>RandomForestClassifier(oob_score=True)</pre></div></div></div></div></div>"
      ],
      "text/plain": [
       "RandomForestClassifier(oob_score=True)"
      ]
     },
     "execution_count": 64,
     "metadata": {},
     "output_type": "execute_result"
    }
   ],
   "source": [
    "#Random Forest\n",
    "\n",
    "model = sklearn.ensemble.RandomForestClassifier(oob_score=True)\n",
    "model.fit(dev_X, dev_y)"
   ]
  },
  {
   "cell_type": "code",
   "execution_count": 79,
   "id": "c96904eb",
   "metadata": {},
   "outputs": [],
   "source": [
    "# Obtain predicted class probabilities\n",
    "y_pred_prob = model.predict_proba(dev_X)\n",
    "\n",
    "# Compute uncertainty estimates using out-of-bag samples\n",
    "oob_predictions = model.oob_decision_function_\n",
    "\n",
    "uncertainty = np.mean(np.var(oob_predictions, axis=1), axis=0)\n",
    "\n",
    "# 'y_pred_prob' contains predicted class probabilities, and 'uncertainty' represents the uncertainty estimates\n"
   ]
  },
  {
   "cell_type": "code",
   "execution_count": 80,
   "id": "b64e62db",
   "metadata": {},
   "outputs": [
    {
     "data": {
      "text/plain": [
       "array([0.09664674, 0.09664674])"
      ]
     },
     "execution_count": 80,
     "metadata": {},
     "output_type": "execute_result"
    }
   ],
   "source": [
    "uncertainty"
   ]
  },
  {
   "cell_type": "code",
   "execution_count": 25,
   "id": "b87faf14",
   "metadata": {},
   "outputs": [],
   "source": [
    "import joblib"
   ]
  },
  {
   "cell_type": "code",
   "execution_count": 26,
   "id": "5ad183bf",
   "metadata": {},
   "outputs": [
    {
     "data": {
      "text/plain": [
       "['trained_model.pkl']"
      ]
     },
     "execution_count": 26,
     "metadata": {},
     "output_type": "execute_result"
    }
   ],
   "source": [
    "joblib.dump(model, 'trained_model.pkl')"
   ]
  },
  {
   "cell_type": "code",
   "execution_count": 27,
   "id": "3e12d31d",
   "metadata": {},
   "outputs": [
    {
     "data": {
      "text/html": [
       "<style>#sk-container-id-2 {color: black;background-color: white;}#sk-container-id-2 pre{padding: 0;}#sk-container-id-2 div.sk-toggleable {background-color: white;}#sk-container-id-2 label.sk-toggleable__label {cursor: pointer;display: block;width: 100%;margin-bottom: 0;padding: 0.3em;box-sizing: border-box;text-align: center;}#sk-container-id-2 label.sk-toggleable__label-arrow:before {content: \"▸\";float: left;margin-right: 0.25em;color: #696969;}#sk-container-id-2 label.sk-toggleable__label-arrow:hover:before {color: black;}#sk-container-id-2 div.sk-estimator:hover label.sk-toggleable__label-arrow:before {color: black;}#sk-container-id-2 div.sk-toggleable__content {max-height: 0;max-width: 0;overflow: hidden;text-align: left;background-color: #f0f8ff;}#sk-container-id-2 div.sk-toggleable__content pre {margin: 0.2em;color: black;border-radius: 0.25em;background-color: #f0f8ff;}#sk-container-id-2 input.sk-toggleable__control:checked~div.sk-toggleable__content {max-height: 200px;max-width: 100%;overflow: auto;}#sk-container-id-2 input.sk-toggleable__control:checked~label.sk-toggleable__label-arrow:before {content: \"▾\";}#sk-container-id-2 div.sk-estimator input.sk-toggleable__control:checked~label.sk-toggleable__label {background-color: #d4ebff;}#sk-container-id-2 div.sk-label input.sk-toggleable__control:checked~label.sk-toggleable__label {background-color: #d4ebff;}#sk-container-id-2 input.sk-hidden--visually {border: 0;clip: rect(1px 1px 1px 1px);clip: rect(1px, 1px, 1px, 1px);height: 1px;margin: -1px;overflow: hidden;padding: 0;position: absolute;width: 1px;}#sk-container-id-2 div.sk-estimator {font-family: monospace;background-color: #f0f8ff;border: 1px dotted black;border-radius: 0.25em;box-sizing: border-box;margin-bottom: 0.5em;}#sk-container-id-2 div.sk-estimator:hover {background-color: #d4ebff;}#sk-container-id-2 div.sk-parallel-item::after {content: \"\";width: 100%;border-bottom: 1px solid gray;flex-grow: 1;}#sk-container-id-2 div.sk-label:hover label.sk-toggleable__label {background-color: #d4ebff;}#sk-container-id-2 div.sk-serial::before {content: \"\";position: absolute;border-left: 1px solid gray;box-sizing: border-box;top: 0;bottom: 0;left: 50%;z-index: 0;}#sk-container-id-2 div.sk-serial {display: flex;flex-direction: column;align-items: center;background-color: white;padding-right: 0.2em;padding-left: 0.2em;position: relative;}#sk-container-id-2 div.sk-item {position: relative;z-index: 1;}#sk-container-id-2 div.sk-parallel {display: flex;align-items: stretch;justify-content: center;background-color: white;position: relative;}#sk-container-id-2 div.sk-item::before, #sk-container-id-2 div.sk-parallel-item::before {content: \"\";position: absolute;border-left: 1px solid gray;box-sizing: border-box;top: 0;bottom: 0;left: 50%;z-index: -1;}#sk-container-id-2 div.sk-parallel-item {display: flex;flex-direction: column;z-index: 1;position: relative;background-color: white;}#sk-container-id-2 div.sk-parallel-item:first-child::after {align-self: flex-end;width: 50%;}#sk-container-id-2 div.sk-parallel-item:last-child::after {align-self: flex-start;width: 50%;}#sk-container-id-2 div.sk-parallel-item:only-child::after {width: 0;}#sk-container-id-2 div.sk-dashed-wrapped {border: 1px dashed gray;margin: 0 0.4em 0.5em 0.4em;box-sizing: border-box;padding-bottom: 0.4em;background-color: white;}#sk-container-id-2 div.sk-label label {font-family: monospace;font-weight: bold;display: inline-block;line-height: 1.2em;}#sk-container-id-2 div.sk-label-container {text-align: center;}#sk-container-id-2 div.sk-container {/* jupyter's `normalize.less` sets `[hidden] { display: none; }` but bootstrap.min.css set `[hidden] { display: none !important; }` so we also need the `!important` here to be able to override the default hidden behavior on the sphinx rendered scikit-learn.org. See: https://github.com/scikit-learn/scikit-learn/issues/21755 */display: inline-block !important;position: relative;}#sk-container-id-2 div.sk-text-repr-fallback {display: none;}</style><div id=\"sk-container-id-2\" class=\"sk-top-container\"><div class=\"sk-text-repr-fallback\"><pre>RandomForestClassifier()</pre><b>In a Jupyter environment, please rerun this cell to show the HTML representation or trust the notebook. <br />On GitHub, the HTML representation is unable to render, please try loading this page with nbviewer.org.</b></div><div class=\"sk-container\" hidden><div class=\"sk-item\"><div class=\"sk-estimator sk-toggleable\"><input class=\"sk-toggleable__control sk-hidden--visually\" id=\"sk-estimator-id-2\" type=\"checkbox\" checked><label for=\"sk-estimator-id-2\" class=\"sk-toggleable__label sk-toggleable__label-arrow\">RandomForestClassifier</label><div class=\"sk-toggleable__content\"><pre>RandomForestClassifier()</pre></div></div></div></div></div>"
      ],
      "text/plain": [
       "RandomForestClassifier()"
      ]
     },
     "execution_count": 27,
     "metadata": {},
     "output_type": "execute_result"
    }
   ],
   "source": [
    "joblib.load('trained_model.pkl')"
   ]
  },
  {
   "cell_type": "markdown",
   "id": "69ebf269",
   "metadata": {},
   "source": [
    "Test the model, report relevant statistics"
   ]
  },
  {
   "cell_type": "code",
   "execution_count": 28,
   "id": "c73327e9",
   "metadata": {},
   "outputs": [
    {
     "name": "stdout",
     "output_type": "stream",
     "text": [
      "Model score is: 0.7312037397740553\n"
     ]
    },
    {
     "data": {
      "text/plain": [
       "2567"
      ]
     },
     "execution_count": 28,
     "metadata": {},
     "output_type": "execute_result"
    }
   ],
   "source": [
    "score = model.score(test_X, test_y)\n",
    "print('Model score is: {}'.format(score))\n",
    "\n",
    "preds = model.predict(test_X)\n",
    "len(preds)"
   ]
  },
  {
   "cell_type": "code",
   "execution_count": 29,
   "id": "669f962e",
   "metadata": {
    "scrolled": true
   },
   "outputs": [
    {
     "data": {
      "text/plain": [
       "array([[0, 0],\n",
       "       [1, 1],\n",
       "       [0, 0],\n",
       "       ...,\n",
       "       [0, 0],\n",
       "       [1, 1],\n",
       "       [1, 1]])"
      ]
     },
     "execution_count": 29,
     "metadata": {},
     "output_type": "execute_result"
    }
   ],
   "source": [
    "preds"
   ]
  },
  {
   "cell_type": "code",
   "execution_count": 30,
   "id": "7f62dbd9",
   "metadata": {},
   "outputs": [
    {
     "name": "stdout",
     "output_type": "stream",
     "text": [
      "Accuracy: 0.7312037397740553\n",
      "Precision: [0.73941909 0.73941909]\n",
      "Recall: [0.70323599 0.70323599]\n",
      "F1 Score: [0.72087379 0.72087379]\n"
     ]
    }
   ],
   "source": [
    "from sklearn.metrics import accuracy_score, precision_score, recall_score, f1_score\n",
    "\n",
    "true_labels = test_y\n",
    "\n",
    "predicted_labels = preds\n",
    "\n",
    "# Calculate accuracy\n",
    "accuracy = accuracy_score(true_labels, predicted_labels)\n",
    "\n",
    "# Calculate precision\n",
    "precision = precision_score(true_labels, predicted_labels, average=None)\n",
    "\n",
    "# Calculate recall\n",
    "recall = recall_score(true_labels, predicted_labels, average=None)\n",
    "\n",
    "# Calculate F1 score\n",
    "f1 = f1_score(true_labels, predicted_labels, average=None)\n",
    "\n",
    "# Print the scores\n",
    "print(\"Accuracy:\", accuracy)\n",
    "print(\"Precision:\", precision)\n",
    "print(\"Recall:\", recall)\n",
    "print(\"F1 Score:\", f1)\n"
   ]
  },
  {
   "cell_type": "code",
   "execution_count": 31,
   "id": "12884481",
   "metadata": {},
   "outputs": [],
   "source": [
    "def train_model(dataframe, columns=[], target=[]):\n",
    "    '''\n",
    "    Takes dataframe and splits it into a training and testing set.\n",
    "    Trains a RF Classifier with data.\n",
    "\n",
    "    Args:\n",
    "        dataframe: Pandas dataframe\n",
    "        columns: list of strings, representing input features\n",
    "        target: list of strings, representing target feature(s)\n",
    "\n",
    "    Returns:\n",
    "        Sk-learn model object\n",
    "        train data (features)\n",
    "        train data (target)\n",
    "        validation data (features)\n",
    "        validation data (target)\n",
    "    '''\n",
    "    # split data\n",
    "    train, val = sklearn.model_selection.train_test_split(\n",
    "        dataframe, test_size=0.15, random_state=1)\n",
    "\n",
    "    # test input arguments\n",
    "    assert \"pandas.core.frame.DataFrame\" in str(type(train))\n",
    "    assert \"pandas.core.frame.DataFrame\" in str(type(val))\n",
    "    assert \"str\" in str(type(columns[0]))\n",
    "    assert \"str\" in str(type(target[0]))\n",
    "\n",
    "    # split into input and output feature(s)\n",
    "    train_X = train[columns].values\n",
    "    val_X = val[columns].values\n",
    "\n",
    "    train_y = train[target].values.reshape(-1, 1)\n",
    "    val_y = val[target].values.reshape(-1, 1)\n",
    "\n",
    "    # scale data\n",
    "    scaler = sklearn.preprocessing.StandardScaler()\n",
    "    train_X = scaler.fit_transform(train_X)\n",
    "    val_X = scaler.fit_transform(val_X)\n",
    "\n",
    "    # train model with hyperparams optimized\n",
    "    model = sklearn.ensemble.RandomForestClassifier(\n",
    "        n_estimators=200,\n",
    "        max_depth=None,\n",
    "        max_samples=0.3,\n",
    "        max_features=0.5,\n",
    "        min_weight_fraction_leaf=0,\n",
    "        min_samples_split=17)\n",
    "\n",
    "    model = model.fit(train_X, train_y.ravel())\n",
    "\n",
    "    return model, train_X, train_y, val_X, val_y\n",
    "\n",
    "def train_model_structure(dataframe, columns=[], target=[]):\n",
    "    '''\n",
    "    Takes dataframe and splits it into a training and testing set.\n",
    "    Trains a RF Classifier with data.\n",
    "\n",
    "    Args:\n",
    "        dataframe: Pandas dataframe\n",
    "        columns: list of strings, representing input features\n",
    "        target: list of strings, representing target feature(s)\n",
    "\n",
    "    Returns:\n",
    "        Sk-learn model object\n",
    "        train data (features)\n",
    "        train data (target)\n",
    "        validation data (features)\n",
    "        validation data (target)\n",
    "    '''\n",
    "    # split data\n",
    "    train, val = sklearn.model_selection.train_test_split(\n",
    "        dataframe, test_size=0.15, random_state=1)\n",
    "\n",
    "    # test input arguments\n",
    "    assert \"pandas.core.frame.DataFrame\" in str(type(train))\n",
    "    assert \"pandas.core.frame.DataFrame\" in str(type(val))\n",
    "    assert \"str\" in str(type(columns[0]))\n",
    "    assert \"str\" in str(type(target[0]))\n",
    "\n",
    "    # split into input and output feature(s)\n",
    "    train_X = train[columns].values\n",
    "    val_X = val[columns].values\n",
    "\n",
    "    train_y = train[target].values\n",
    "    val_y = val[target].values\n",
    "\n",
    "    # scale data\n",
    "    scaler = sklearn.preprocessing.StandardScaler()\n",
    "    train_X = scaler.fit_transform(train_X)\n",
    "    val_X = scaler.fit_transform(val_X)\n",
    "\n",
    "    # train model with hyperparams optimized\n",
    "    model = sklearn.ensemble.RandomForestClassifier(\n",
    "        n_estimators=200,\n",
    "        max_depth=None,\n",
    "        max_samples=0.3,\n",
    "        max_features=0.5,\n",
    "        min_weight_fraction_leaf=0,\n",
    "        min_samples_split=17)\n",
    "\n",
    "    model = model.fit(train_X, train_y)\n",
    "\n",
    "    return model, train_X, train_y, val_X, val_y\n",
    "\n",
    "\n",
    "def validate_model(model, val_X, val_y):\n",
    "    '''\n",
    "    Takes a trained model and test data and tests the model.\n",
    "\n",
    "    Args:\n",
    "        model: sklearn.neighbors.KNeighborsClassifier\n",
    "        test_X: numpy array\n",
    "        test_y: numpy array\n",
    "\n",
    "    Returns:\n",
    "        Vector of predictions based on the model (numpy array)\n",
    "         Precision score of model\n",
    "    '''\n",
    "    # test input arguments\n",
    "    assert \"sklearn\" in str(type(model))\n",
    "    assert \"numpy.ndarray\" in str(type(val_X))\n",
    "    assert \"numpy.ndarray\" in str(type(val_y))\n",
    "\n",
    "    preds = model.predict(val_X)\n",
    "\n",
    "    # not printed during model validation step\n",
    "    precision_score = sklearn.metrics.precision_score(val_y, preds, average=None)\n",
    "\n",
    "    return preds, precision_score\n",
    "\n",
    "\n",
    "def plot_model(model, val_X, val_y):\n",
    "    '''\n",
    "    Takes a test classifier model and plots the confusion matrix.\n",
    "\n",
    "    Args:\n",
    "        model: sklearn.neighbors.RandomForestClassifier\n",
    "        test_X: numpy array\n",
    "        test_y: numpy array\n",
    "\n",
    "    Returns:\n",
    "        Confusion predictions vs. observations\n",
    "        Model score\n",
    "    '''\n",
    "    # test input arguments\n",
    "    assert \"sklearn\" in str(type(model))\n",
    "    assert \"numpy.ndarray\" in str(type(val_X))\n",
    "    assert \"numpy.ndarray\" in str(type(val_y))\n",
    "\n",
    "    score = model.score(val_X, val_y)\n",
    "    preds = model.predict(val_X)\n",
    "\n",
    "    # plot confusion matrix\n",
    "    confusion_matrix = sklearn.metrics.confusion_matrix(preds, val_y)\n",
    "    cm_plot = sklearn.metrics.ConfusionMatrixDisplay(confusion_matrix)\n",
    "\n",
    "    cm_plot.plot(cmap=plt.cm.Blues)\n",
    "    cm_plot.ax_.set_title('Confusion Matrix')\n",
    "\n",
    "    return score\n",
    "\n",
    "\n",
    "def rf_wrapper(dataframe, target):\n",
    "    '''\n",
    "    Takes a test classifier model and plots the confusion matrix.\n",
    "\n",
    "    Args:\n",
    "        dataframe: Pandas dataframe\n",
    "\n",
    "    Returns:\n",
    "        Target feature predictions\n",
    "        Parity plot\n",
    "    '''\n",
    "    assert 'pandas.core.frame.DataFrame' in str(type(dataframe))\n",
    "\n",
    "    print(target)\n",
    "    print(dataframe.columns)\n",
    "\n",
    "    # define input features\n",
    "    input_features = [columns for columns in dataframe.drop(columns=target)]\n",
    "\n",
    "    print(input_features)\n",
    "\n",
    "\n",
    "    # train the model based off data split\n",
    "    if 'structure_match' not in target:\n",
    "        # if target is one class\n",
    "        print('hmmer')\n",
    "        model, _, _, val_X, val_y = train_model(\n",
    "            dataframe, columns=input_features,\n",
    "            target=target\n",
    "        )\n",
    "    else:\n",
    "        # if target is two class\n",
    "        print('hmmer + structures')\n",
    "        model, _, _, val_X, val_y = train_model_structure(\n",
    "            dataframe, columns=input_features,\n",
    "            target=target\n",
    "        )\n",
    "\n",
    "    # test the model and return predictions\n",
    "    preds, _ = validate_model(model, val_X, val_y)\n",
    "\n",
    "    # plot the results of the model\n",
    "    # score = plot_model(model, val_X, val_y)\n",
    "\n",
    "    return preds, score, model\n"
   ]
  },
  {
   "cell_type": "code",
   "execution_count": 32,
   "id": "38a7cd22",
   "metadata": {},
   "outputs": [],
   "source": [
    "def train_val_wrapper(dataframe, target, feature_list=None):\n",
    "    '''\n",
    "    Takes dataframe and runs it through cleaning script.\n",
    "    Generates features with iFeatureOmegaCLI.\n",
    "    Passes result through RF Classifier model.\n",
    "\n",
    "    Args:\n",
    "        Dataframe (pandas dataframe)\n",
    "        Features from iFeatureOmega (list)\n",
    "\n",
    "    Returns:\n",
    "        Vector of predictions (numpy arrray)\n",
    "        Parity plot\n",
    "        Model score\n",
    "    '''\n",
    "    # clean input dataframe\n",
    "    dataframe = input_cleaning_wrapper(dataframe)\n",
    "\n",
    "    if feature_list is not None:\n",
    "        # generate features from amino acid sequence\n",
    "        dataframe = create_new_dataframe(dataframe, ['sequences_a.fasta', \n",
    "                                    'sequeneces_b.fasta'], \n",
    "                                    descriptors=[feature for feature in feature_list])\n",
    "    else:\n",
    "        pass\n",
    "\n",
    "    #drop sequences\n",
    "    dataframe.drop(columns=['m_protein_seq', 't_protein_seq'])\n",
    "    # run through model\n",
    "    score = rf_wrapper(dataframe, target)[1]\n",
    "    model = rf_wrapper(dataframe, target)[2]\n",
    "\n",
    "    return score, model \n",
    "\n",
    "\n"
   ]
  },
  {
   "cell_type": "code",
   "execution_count": 33,
   "id": "12d53ead",
   "metadata": {},
   "outputs": [
    {
     "name": "stdout",
     "output_type": "stream",
     "text": [
      "['protein_match', 'structure_match']\n",
      "Index(['local_gap_compressed_percent_id', 'scaled_local_query_percent_id',\n",
      "       'scaled_local_symmetric_percent_id', 'query_align_len',\n",
      "       'query_align_cov', 'subject_align_len', 'subject_align_cov',\n",
      "       'bit_score', 'm_protein_len', 't_protein_len', 'protein_match',\n",
      "       'structure_match'],\n",
      "      dtype='object')\n",
      "['local_gap_compressed_percent_id', 'scaled_local_query_percent_id', 'scaled_local_symmetric_percent_id', 'query_align_len', 'query_align_cov', 'subject_align_len', 'subject_align_cov', 'bit_score', 'm_protein_len', 't_protein_len']\n",
      "hmmer + structures\n"
     ]
    },
    {
     "data": {
      "text/plain": [
       "(array([[0, 0],\n",
       "        [1, 1],\n",
       "        [0, 0],\n",
       "        ...,\n",
       "        [0, 0],\n",
       "        [0, 0],\n",
       "        [0, 0]]),\n",
       " 0.7312037397740553,\n",
       " RandomForestClassifier(max_features=0.5, max_samples=0.3, min_samples_split=17,\n",
       "                        min_weight_fraction_leaf=0, n_estimators=200))"
      ]
     },
     "execution_count": 33,
     "metadata": {},
     "output_type": "execute_result"
    }
   ],
   "source": [
    "rf_wrapper(df, target=['protein_match', 'structure_match'])"
   ]
  },
  {
   "cell_type": "code",
   "execution_count": null,
   "id": "1c9c424e",
   "metadata": {},
   "outputs": [],
   "source": []
  },
  {
   "cell_type": "code",
   "execution_count": null,
   "id": "0b68552b",
   "metadata": {},
   "outputs": [],
   "source": []
  },
  {
   "cell_type": "code",
   "execution_count": 34,
   "id": "bf1d563c",
   "metadata": {},
   "outputs": [],
   "source": [
    "def train_model(dataframe, columns = [],  target = []):\n",
    "    \"\"\"\n",
    "    Takes dataframe and splits it into a training and testing set. \n",
    "    Note: Data is called train and test, but this test set is currently\n",
    "    closer to a validation set. Keeping nomenclature to keep model robust.\n",
    "    Trains a KNN classifier model with selected data.\n",
    "    \n",
    "    Params\n",
    "    ----------\n",
    "    dataframe: Pandas dataframe \n",
    "    columns: list of strings, representing input features\n",
    "    target: list of strings, representing target feature(s)\n",
    "\n",
    "    Returns\n",
    "    -------\n",
    "    -Sk-learn model object\n",
    "    -train data (features)\n",
    "    -train data (target)\n",
    "    -validation data (features)\n",
    "    -validation data (target)\n",
    "    \"\"\"\n",
    "    #split data\n",
    "    dev, test = sklearn.model_selection.train_test_split(dataframe, test_size=0.15, random_state=1)\n",
    "    \n",
    "    #test input arguments\n",
    "    assert \"pandas.core.frame.DataFrame\" in str(type(dev))\n",
    "    assert \"pandas.core.frame.DataFrame\" in str(type(test))\n",
    "    assert \"str\" in str(type(columns[0]))\n",
    "    assert \"str\" in str(type(target[0]))\n",
    "   \n",
    "    #split into input and output feature(s)\n",
    "    dev_X = dev[columns].values\n",
    "    test_X = test[columns].values\n",
    "\n",
    "    dev_y = dev[target].values.reshape(-1,1)\n",
    "    test_y = test[target].values.reshape(-1,1)\n",
    "    \n",
    "    #scale data\n",
    "    scaler = sklearn.preprocessing.StandardScaler()\n",
    "    dev_X = scaler.fit_transform(dev_X)\n",
    "    test_X = scaler.fit_transform(test_X)\n",
    "    \n",
    "    #train model\n",
    "    model = sklearn.ensemble.RandomForestClassifier()\n",
    "    model = model.fit(dev_X, dev_y.ravel())\n",
    "    \n",
    "    return model, dev_X, dev_y, test_X, test_y\n",
    "    "
   ]
  },
  {
   "cell_type": "code",
   "execution_count": 35,
   "id": "e40acd6d",
   "metadata": {
    "scrolled": true
   },
   "outputs": [],
   "source": [
    "model, dev_X, dev_y, test_X, test_y = train_model(df, columns = input_features, \n",
    "                                          target='protein_match')"
   ]
  },
  {
   "cell_type": "code",
   "execution_count": 36,
   "id": "46729a81",
   "metadata": {
    "scrolled": true
   },
   "outputs": [
    {
     "name": "stderr",
     "output_type": "stream",
     "text": [
      ".E\n",
      "======================================================================\n",
      "ERROR: test_output_format (__main__.TestModelTraining)\n",
      "----------------------------------------------------------------------\n",
      "Traceback (most recent call last):\n",
      "  File \"<ipython-input-36-c2adb03a26fe>\", line 33, in test_output_format\n",
      "    assert len(train_model(df, columns = input_features,\n",
      "  File \"<ipython-input-34-13865bb0cfb5>\", line 45, in train_model\n",
      "    model = model.fit(dev_X, dev_y.ravel())\n",
      "  File \"/Library/Frameworks/Python.framework/Versions/3.9/lib/python3.9/site-packages/sklearn/ensemble/_forest.py\", line 345, in fit\n",
      "    X, y = self._validate_data(\n",
      "  File \"/Library/Frameworks/Python.framework/Versions/3.9/lib/python3.9/site-packages/sklearn/base.py\", line 565, in _validate_data\n",
      "    X, y = check_X_y(X, y, **check_params)\n",
      "  File \"/Library/Frameworks/Python.framework/Versions/3.9/lib/python3.9/site-packages/sklearn/utils/validation.py\", line 1124, in check_X_y\n",
      "    check_consistent_length(X, y)\n",
      "  File \"/Library/Frameworks/Python.framework/Versions/3.9/lib/python3.9/site-packages/sklearn/utils/validation.py\", line 397, in check_consistent_length\n",
      "    raise ValueError(\n",
      "ValueError: Found input variables with inconsistent numbers of samples: [14541, 29082]\n",
      "\n",
      "----------------------------------------------------------------------\n",
      "Ran 2 tests in 0.025s\n",
      "\n",
      "FAILED (errors=1)\n"
     ]
    }
   ],
   "source": [
    "class TestModelTraining(unittest.TestCase):\n",
    "    \n",
    "    def test_invalid_inputs(self):\n",
    "    \n",
    "        #test that input data type is correct\n",
    "        \n",
    "        try:\n",
    "            train_model([1,2,3], columns = 'string', target = 'string')\n",
    "            self.assertTrue(False)\n",
    "        except AssertionError:\n",
    "            self.assertTrue(True)\n",
    "    \n",
    "#     def test_input_distro(self):\n",
    "        \n",
    "#         #test that dev and test features have similar Jensen Shannon Distribution\n",
    "        \n",
    "#         JSD = (\n",
    "#             scipy.stats.bootstrap((train_reg(split_data(df)[0], split_data(df)[1],\n",
    "#                                 columns = input_features, target=target)[1], train_reg(split_data(df)[0], \n",
    "#                                 split_data(df)[1], columns = input_features, target=target)[3]), \n",
    "#                                   JSD_dev_and_test, n_resamples=1000, \n",
    "#                                   batch=5, method='percentile')\n",
    "#         )\n",
    "\n",
    "#         div = JSD.confidence_interval[1]\n",
    "        \n",
    "#         #asserts that the divergence between data sets is sufficiently low\n",
    "#         assert abs(div) < 0.3, \"Warning! High JSD between dev and test set!\"\n",
    "        \n",
    "    def test_output_format(self):\n",
    "        \n",
    "        #asserts that function returns 4 objects to be assigned to pearson_corr, model, test_X, test_y\n",
    "        assert len(train_model(df, columns = input_features, \n",
    "                                          target = target)) == 5\n",
    "        \n",
    "\n",
    "suite = unittest.TestLoader().loadTestsFromTestCase(TestModelTraining)\n",
    "_ = unittest.TextTestRunner().run(suite)"
   ]
  },
  {
   "cell_type": "code",
   "execution_count": 37,
   "id": "47f766ab",
   "metadata": {},
   "outputs": [],
   "source": [
    "#need to fix this\n",
    "\n",
    "def evaluate_model(model, test_X, test_y):\n",
    "    \n",
    "    \"\"\"\n",
    "    Takes a trained model and test data and tests the model.\n",
    "    \n",
    "    Params\n",
    "    ----------\n",
    "    model: sklearn.neighbors.KNeighborsClassifier\n",
    "    test_X: numpy array\n",
    "    test_y: numpy array\n",
    "\n",
    "    Returns\n",
    "    -------\n",
    "    Vector of predictions based on the model (numpy array)\n",
    "    \"\"\"\n",
    "    \n",
    "    #test input arguments\n",
    "    assert \"sklearn\" in str(type(model))\n",
    "    assert \"numpy.ndarray\" in str(type(test_X))\n",
    "    assert \"numpy.ndarray\" in str(type(test_y))\n",
    "    \n",
    "    preds = model.predict(test_X)\n",
    "    \n",
    "    return preds"
   ]
  },
  {
   "cell_type": "code",
   "execution_count": 38,
   "id": "7bbb0242",
   "metadata": {
    "scrolled": true
   },
   "outputs": [
    {
     "data": {
      "text/plain": [
       "array([0, 1, 0, ..., 0, 1, 1])"
      ]
     },
     "execution_count": 38,
     "metadata": {},
     "output_type": "execute_result"
    }
   ],
   "source": [
    "preds = evaluate_model(model, test_X, test_y)\n",
    "preds"
   ]
  },
  {
   "cell_type": "code",
   "execution_count": 39,
   "id": "8b2fdac6",
   "metadata": {},
   "outputs": [
    {
     "name": "stderr",
     "output_type": "stream",
     "text": [
      "...\n",
      "----------------------------------------------------------------------\n",
      "Ran 3 tests in 9.247s\n",
      "\n",
      "OK\n"
     ]
    }
   ],
   "source": [
    "class TestModelPerformance(unittest.TestCase):\n",
    "\n",
    "    def test_asserts(self):\n",
    "        model, _, _, test_X, test_y = train_model(\n",
    "            df, columns=input_features, target='protein_match'\n",
    "        )\n",
    "        # assert that input types are correct\n",
    "        with self.assertRaises(AssertionError):\n",
    "            evaluate_model(model, [1, 2, 3], test_y)\n",
    "            \n",
    "    def test_model_output(self):\n",
    "        model, _, _, test_X, test_y = train_model(\n",
    "            df, columns=input_features, target='protein_match'\n",
    "        )\n",
    "        # assert output type is correct\n",
    "        output = evaluate_model(model, test_X, test_y)\n",
    "        self.assertIsInstance(output, np.ndarray)\n",
    "        \n",
    "    def test_pred_dimension(self):\n",
    "        model, _, _, test_X, test_y = train_model(df, \n",
    "            columns=input_features, target='protein_match'\n",
    "        )\n",
    "        # want to check that the number of predictions is equal to the number of test examples\n",
    "        preds = evaluate_model(model, test_X, test_y)\n",
    "        self.assertEqual(len(test_y), len(preds))\n",
    "\n",
    "suite = unittest.TestLoader().loadTestsFromTestCase(TestModelPerformance)\n",
    "_ = unittest.TextTestRunner().run(suite)\n"
   ]
  },
  {
   "cell_type": "markdown",
   "id": "b9b79929",
   "metadata": {},
   "source": [
    "A good test here can be adding outliers and seeing how much the score and predictions change (probably for the above function)."
   ]
  },
  {
   "cell_type": "code",
   "execution_count": 40,
   "id": "dae1e64f",
   "metadata": {},
   "outputs": [],
   "source": [
    "def plot_model(model, test_X, test_y):\n",
    "    \"\"\"\n",
    "    Takes a test KNN Classifier model and plots the confusion matrix.\n",
    "    \n",
    "    Params\n",
    "    ----------\n",
    "    model: sklearn.neighbors.KNeighborsClassifier\n",
    "    test_X: numpy array\n",
    "    test_y: numpy array\n",
    "\n",
    "    Returns\n",
    "    -------\n",
    "    -Confusion predictions vs. observations\n",
    "    -Model score\n",
    "    \"\"\"\n",
    "    \n",
    "    #test input arguments\n",
    "    assert \"sklearn\" in str(type(model))\n",
    "    assert \"numpy.ndarray\" in str(type(test_X))\n",
    "    assert \"numpy.ndarray\" in str(type(test_y))\n",
    "    \n",
    "    score = model.score(test_X, test_y)\n",
    "    preds = evaluate_model(model, test_X, test_y)\n",
    "   \n",
    "    # plot confusion matrix\n",
    "    confusion_matrix = sklearn.metrics.confusion_matrix(preds, test_y)\n",
    "    cm_plot = sklearn.metrics.ConfusionMatrixDisplay(confusion_matrix)\n",
    "    \n",
    "    cm_plot.plot(cmap=plt.cm.Blues)\n",
    "    cm_plot.ax_.set_title('Confusion Matrix')\n",
    "    \n",
    "    return score\n",
    "    "
   ]
  },
  {
   "cell_type": "code",
   "execution_count": 41,
   "id": "c923e39b",
   "metadata": {},
   "outputs": [
    {
     "data": {
      "text/plain": [
       "0.7284768211920529"
      ]
     },
     "execution_count": 41,
     "metadata": {},
     "output_type": "execute_result"
    },
    {
     "data": {
      "image/png": "[encoded data removed]",
      "text/plain": [
       "<Figure size 432x288 with 2 Axes>"
      ]
     },
     "metadata": {
      "needs_background": "light"
     },
     "output_type": "display_data"
    }
   ],
   "source": [
    "#make some appropriate display labels here\n",
    "\n",
    "plot_model(model, test_X, test_y)"
   ]
  },
  {
   "cell_type": "code",
   "execution_count": 42,
   "id": "15e9e191",
   "metadata": {},
   "outputs": [],
   "source": [
    "#wrapper function\n",
    "\n",
    "def RF_wrapper(dataframe):\n",
    "    \"\"\"\n",
    "    Takes dataframe and runs it through kNN model.\n",
    "    \n",
    "    Params\n",
    "    ----------\n",
    "    dataframe: Pandas dataframe \n",
    "\n",
    "    Returns\n",
    "    -------\n",
    "    -Target feature predictions\n",
    "    -Parity plot\n",
    "    \"\"\"\n",
    "    \n",
    "    assert 'pandas.core.frame.DataFrame' in str(type(dataframe))\n",
    "\n",
    "    #user inputs target feature\n",
    "    target = 'protein_match'\n",
    "    \n",
    "    #define input features\n",
    "    input_features = [columns for columns in dataframe]\n",
    "    \n",
    "    input_features.remove(target)\n",
    "\n",
    "    #train the model based off data split\n",
    "    model, dev_X, dev_y, test_X, test_y = train_model(\n",
    "                                        dataframe, columns=input_features, \n",
    "                                        target=target\n",
    "                                                   )\n",
    "    \n",
    "    #test the model and return predictions\n",
    "    preds = evaluate_model(model, test_X, test_y)\n",
    "\n",
    "    #plot the results of the model\n",
    "    plot_model(model, test_X, test_y)\n",
    "    \n",
    "    return preds"
   ]
  },
  {
   "cell_type": "code",
   "execution_count": 43,
   "id": "cbbd8fa8",
   "metadata": {
    "scrolled": true
   },
   "outputs": [
    {
     "data": {
      "text/plain": [
       "array([1, 1, 1, ..., 0, 0, 0])"
      ]
     },
     "execution_count": 43,
     "metadata": {},
     "output_type": "execute_result"
    },
    {
     "data": {
      "image/png": "[encoded data removed]",
      "text/plain": [
       "<Figure size 432x288 with 2 Axes>"
      ]
     },
     "metadata": {
      "needs_background": "light"
     },
     "output_type": "display_data"
    }
   ],
   "source": [
    "RF_wrapper(df)"
   ]
  },
  {
   "cell_type": "code",
   "execution_count": 44,
   "id": "37c0e2b2",
   "metadata": {
    "scrolled": true
   },
   "outputs": [
    {
     "name": "stderr",
     "output_type": "stream",
     "text": [
      "...\n",
      "----------------------------------------------------------------------\n",
      "Ran 3 tests in 6.089s\n",
      "\n",
      "OK\n"
     ]
    }
   ],
   "source": [
    "class TestWrapper(unittest.TestCase):\n",
    "    \n",
    "    def test_wrapper_input(self):\n",
    "        #test that input data type is correct\n",
    "        try:\n",
    "            RF_wrapper([1,2,3])\n",
    "            self.assertTrue(False)\n",
    "        except AssertionError:\n",
    "            self.assertTrue(True)\n",
    "\n",
    "    def test_wrapper_output(self):\n",
    "        model, _, _, test_X, test_y = train_model(\n",
    "            df, \n",
    "            columns=input_features, target='protein_match'\n",
    "        )\n",
    "        # assert output type is correct\n",
    "        output = evaluate_model(model, test_X, test_y)\n",
    "        self.assertIsInstance(output, np.ndarray)\n",
    "        \n",
    "    def test_output_dimension(self):\n",
    "        model, _, _, test_X, test_y = train_model(\n",
    "            df, \n",
    "            columns=input_features, target='protein_match'\n",
    "        )\n",
    "        # want to check that the number of predictions is equal to the number of test examples\n",
    "        preds = evaluate_model(model, test_X, test_y)\n",
    "        self.assertEqual(len(test_y), len(preds))\n",
    "        \n",
    "\n",
    "suite = unittest.TestLoader().loadTestsFromTestCase(TestWrapper)\n",
    "_ = unittest.TextTestRunner().run(suite)"
   ]
  },
  {
   "cell_type": "markdown",
   "id": "02c53a58",
   "metadata": {},
   "source": [
    "**IGNORE BELOW**"
   ]
  },
  {
   "cell_type": "code",
   "execution_count": 45,
   "id": "13d52919",
   "metadata": {},
   "outputs": [],
   "source": [
    "# #plot empirical distribution of scaled_local_query_percent_id\n",
    "\n",
    "# target = df['protein_match']\n",
    "# #create histplot\n",
    "# fig, ax = plt.subplots()\n",
    "\n",
    "# sns.histplot(data = df, x = target)\n",
    "\n",
    "# ax.set_title('Sample Histogram', fontsize=16)\n",
    "# ax.set_xlabel('Class', fontsize=14)\n",
    "# ax.set_ylabel('Count', fontsize=14)"
   ]
  },
  {
   "cell_type": "markdown",
   "id": "2e3d1950",
   "metadata": {},
   "source": [
    "Things I've tried to improve model: \n",
    "\n",
    "1. drop bit scores over 1000\n",
    "2. Switch to 85/15 train/test split\n",
    "3. Lasso regression - not great\n",
    "4. Ridge regression - R2 = 0.87, about the same as normal Linear regression\n",
    "5. KNN regression (n_neighbors optimized at 8) gives best result, R2 = ~0.93 --> \n",
    "*got it up to .942 by removing a few features\n",
    "6. Decision tree regressor was slightly worse than KNN\n",
    "7. Input DT classifier and RF classifier. RF classifier has best performance\n",
    "8. Changed target to binary protein function match"
   ]
  }
 ],
 "metadata": {
  "kernelspec": {
   "display_name": "Python 3",
   "language": "python",
   "name": "python3"
  },
  "language_info": {
   "codemirror_mode": {
    "name": "ipython",
    "version": 3
   },
   "file_extension": ".py",
   "mimetype": "text/x-python",
   "name": "python",
   "nbconvert_exporter": "python",
   "pygments_lexer": "ipython3",
   "version": "3.9.0"
  }
 },
 "nbformat": 4,
 "nbformat_minor": 5
}
