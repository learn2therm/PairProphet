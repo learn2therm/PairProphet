{
 "cells": [
  {
   "cell_type": "markdown",
   "id": "6c1fdfb1",
   "metadata": {},
   "source": [
    "The purpose of this notebook is to document data exploration processes with an n=50,000 sample of our Learn2Therm protein database. Doing so provides a workspace to select and optimize a model for predicting protein pair functionality between two sequences. Several classifier architectures were tested prior to the release of the final version of this component."
   ]
  },
  {
   "cell_type": "markdown",
   "id": "84922e82",
   "metadata": {},
   "source": [
    "This notebook includes exploration of a Random Forest Classifier."
   ]
  },
  {
   "cell_type": "code",
   "execution_count": 1,
   "id": "61c53eee",
   "metadata": {},
   "outputs": [],
   "source": [
    "import matplotlib.pyplot as plt\n",
    "import seaborn as sns\n",
    "import pandas as pd\n",
    "import numpy as np\n",
    "import scipy.stats\n",
    "import sklearn.preprocessing\n",
    "import sklearn.model_selection\n",
    "import sklearn.ensemble\n",
    "import sklearn.feature_selection\n",
    "import unittest"
   ]
  },
  {
   "cell_type": "code",
   "execution_count": 7,
   "id": "ba87d47f",
   "metadata": {
    "scrolled": false
   },
   "outputs": [
    {
     "name": "stdout",
     "output_type": "stream",
     "text": [
      "/Users/loganroberts/Learn2Therm/ValidProt/FAFSA\n"
     ]
    }
   ],
   "source": [
    "cd /Users/loganroberts/Learn2Therm/ValidProt/FAFSA"
   ]
  },
  {
   "cell_type": "code",
   "execution_count": 8,
   "id": "f90c1cdd",
   "metadata": {},
   "outputs": [],
   "source": [
    "#convert to pandas df\n",
    "df_original = pd.read_csv('learn2therm_sample_50k.csv')"
   ]
  },
  {
   "cell_type": "code",
   "execution_count": 9,
   "id": "96d2c565",
   "metadata": {
    "scrolled": true
   },
   "outputs": [
    {
     "data": {
      "text/html": [
       "<div>\n",
       "<style scoped>\n",
       "    .dataframe tbody tr th:only-of-type {\n",
       "        vertical-align: middle;\n",
       "    }\n",
       "\n",
       "    .dataframe tbody tr th {\n",
       "        vertical-align: top;\n",
       "    }\n",
       "\n",
       "    .dataframe thead th {\n",
       "        text-align: right;\n",
       "    }\n",
       "</style>\n",
       "<table border=\"1\" class=\"dataframe\">\n",
       "  <thead>\n",
       "    <tr style=\"text-align: right;\">\n",
       "      <th></th>\n",
       "      <th>Unnamed: 0</th>\n",
       "      <th>local_gap_compressed_percent_id</th>\n",
       "      <th>scaled_local_query_percent_id</th>\n",
       "      <th>scaled_local_symmetric_percent_id</th>\n",
       "      <th>query_align_len</th>\n",
       "      <th>query_align_cov</th>\n",
       "      <th>subject_align_len</th>\n",
       "      <th>subject_align_cov</th>\n",
       "      <th>bit_score</th>\n",
       "      <th>thermo_index</th>\n",
       "      <th>...</th>\n",
       "      <th>bit_score_16s</th>\n",
       "      <th>m_ogt</th>\n",
       "      <th>t_ogt</th>\n",
       "      <th>ogt_difference</th>\n",
       "      <th>m_protein_seq</th>\n",
       "      <th>t_protein_seq</th>\n",
       "      <th>m_protein_desc</th>\n",
       "      <th>t_protein_desc</th>\n",
       "      <th>m_protein_len</th>\n",
       "      <th>t_protein_len</th>\n",
       "    </tr>\n",
       "  </thead>\n",
       "  <tbody>\n",
       "    <tr>\n",
       "      <th>0</th>\n",
       "      <td>0</td>\n",
       "      <td>0.287582</td>\n",
       "      <td>0.217822</td>\n",
       "      <td>0.215686</td>\n",
       "      <td>160</td>\n",
       "      <td>0.792079</td>\n",
       "      <td>152</td>\n",
       "      <td>0.737864</td>\n",
       "      <td>131</td>\n",
       "      <td>875</td>\n",
       "      <td>...</td>\n",
       "      <td>1153.0</td>\n",
       "      <td>27.5</td>\n",
       "      <td>50.0</td>\n",
       "      <td>22.5</td>\n",
       "      <td>MAESGTSRRADHLVPVPGPDAEPPAVADELLRAVGRGDEQAFGRLY...</td>\n",
       "      <td>MPSQITESERIELAERFERDALPLLDQLYSAALRMTRNPADAEDLV...</td>\n",
       "      <td>ECF RNA polymerase sigma factor SigK</td>\n",
       "      <td>sigma-70 family RNA polymerase sigma factor</td>\n",
       "      <td>206</td>\n",
       "      <td>202</td>\n",
       "    </tr>\n",
       "    <tr>\n",
       "      <th>1</th>\n",
       "      <td>1</td>\n",
       "      <td>0.319635</td>\n",
       "      <td>0.295359</td>\n",
       "      <td>0.297872</td>\n",
       "      <td>218</td>\n",
       "      <td>0.919831</td>\n",
       "      <td>226</td>\n",
       "      <td>0.969957</td>\n",
       "      <td>282</td>\n",
       "      <td>11324</td>\n",
       "      <td>...</td>\n",
       "      <td>1014.0</td>\n",
       "      <td>25.0</td>\n",
       "      <td>54.0</td>\n",
       "      <td>29.0</td>\n",
       "      <td>MARIALVDDDRNILTSVSMTLEAEGFEVETYNDGQSALDAFNKRMP...</td>\n",
       "      <td>MRVLLVEDDPNTSRSIEMMLTHANLNVYATDMGEEGIDLAKLYDYD...</td>\n",
       "      <td>response regulator transcription factor</td>\n",
       "      <td>response regulator transcription factor</td>\n",
       "      <td>233</td>\n",
       "      <td>237</td>\n",
       "    </tr>\n",
       "    <tr>\n",
       "      <th>2</th>\n",
       "      <td>2</td>\n",
       "      <td>0.279621</td>\n",
       "      <td>0.234127</td>\n",
       "      <td>0.218924</td>\n",
       "      <td>211</td>\n",
       "      <td>0.837302</td>\n",
       "      <td>210</td>\n",
       "      <td>0.731707</td>\n",
       "      <td>96</td>\n",
       "      <td>875</td>\n",
       "      <td>...</td>\n",
       "      <td>1138.0</td>\n",
       "      <td>28.0</td>\n",
       "      <td>50.0</td>\n",
       "      <td>22.0</td>\n",
       "      <td>MKDTVVFVTGAARGIGAHTARLAVARGARVALVGLEPHLLADLAAE...</td>\n",
       "      <td>MTPEQIFSGQTAIVTGGASGIGAATVEHIARRGGRVFSVDLSYDSP...</td>\n",
       "      <td>SDR family oxidoreductase</td>\n",
       "      <td>SDR family oxidoreductase</td>\n",
       "      <td>287</td>\n",
       "      <td>252</td>\n",
       "    </tr>\n",
       "    <tr>\n",
       "      <th>3</th>\n",
       "      <td>3</td>\n",
       "      <td>0.327273</td>\n",
       "      <td>0.200743</td>\n",
       "      <td>0.214712</td>\n",
       "      <td>166</td>\n",
       "      <td>0.617100</td>\n",
       "      <td>163</td>\n",
       "      <td>0.696581</td>\n",
       "      <td>175</td>\n",
       "      <td>875</td>\n",
       "      <td>...</td>\n",
       "      <td>1077.0</td>\n",
       "      <td>28.0</td>\n",
       "      <td>50.0</td>\n",
       "      <td>22.0</td>\n",
       "      <td>MTSGLWERVLDGVWVTIQLLVLSALLATAVSFVVGIARTHRLWIVR...</td>\n",
       "      <td>MAMSRRKRGQLARGIQYAILVIVVVVLALLADWGKIGKAFFDWEAA...</td>\n",
       "      <td>ectoine/hydroxyectoine ABC transporter permeas...</td>\n",
       "      <td>amino acid ABC transporter permease</td>\n",
       "      <td>234</td>\n",
       "      <td>269</td>\n",
       "    </tr>\n",
       "    <tr>\n",
       "      <th>4</th>\n",
       "      <td>4</td>\n",
       "      <td>0.338710</td>\n",
       "      <td>0.318182</td>\n",
       "      <td>0.287671</td>\n",
       "      <td>60</td>\n",
       "      <td>0.909091</td>\n",
       "      <td>71</td>\n",
       "      <td>0.887500</td>\n",
       "      <td>61</td>\n",
       "      <td>9827</td>\n",
       "      <td>...</td>\n",
       "      <td>991.0</td>\n",
       "      <td>30.0</td>\n",
       "      <td>50.0</td>\n",
       "      <td>20.0</td>\n",
       "      <td>MIISLRRGLRFIRFIVFFAALVYLFYHVLDLFNGWISPVDQYQMPT...</td>\n",
       "      <td>MKRMVWRTLKVFIIFIACTLLFYFGLRFMHLEYEQFHRYEPPEGPA...</td>\n",
       "      <td>YqzK family protein</td>\n",
       "      <td>YqzK family protein</td>\n",
       "      <td>80</td>\n",
       "      <td>66</td>\n",
       "    </tr>\n",
       "  </tbody>\n",
       "</table>\n",
       "<p>5 rows × 30 columns</p>\n",
       "</div>"
      ],
      "text/plain": [
       "   Unnamed: 0  local_gap_compressed_percent_id  scaled_local_query_percent_id  \\\n",
       "0           0                         0.287582                       0.217822   \n",
       "1           1                         0.319635                       0.295359   \n",
       "2           2                         0.279621                       0.234127   \n",
       "3           3                         0.327273                       0.200743   \n",
       "4           4                         0.338710                       0.318182   \n",
       "\n",
       "   scaled_local_symmetric_percent_id  query_align_len  query_align_cov  \\\n",
       "0                           0.215686              160         0.792079   \n",
       "1                           0.297872              218         0.919831   \n",
       "2                           0.218924              211         0.837302   \n",
       "3                           0.214712              166         0.617100   \n",
       "4                           0.287671               60         0.909091   \n",
       "\n",
       "   subject_align_len  subject_align_cov  bit_score  thermo_index  ...  \\\n",
       "0                152           0.737864        131           875  ...   \n",
       "1                226           0.969957        282         11324  ...   \n",
       "2                210           0.731707         96           875  ...   \n",
       "3                163           0.696581        175           875  ...   \n",
       "4                 71           0.887500         61          9827  ...   \n",
       "\n",
       "   bit_score_16s  m_ogt  t_ogt  ogt_difference  \\\n",
       "0         1153.0   27.5   50.0            22.5   \n",
       "1         1014.0   25.0   54.0            29.0   \n",
       "2         1138.0   28.0   50.0            22.0   \n",
       "3         1077.0   28.0   50.0            22.0   \n",
       "4          991.0   30.0   50.0            20.0   \n",
       "\n",
       "                                       m_protein_seq  \\\n",
       "0  MAESGTSRRADHLVPVPGPDAEPPAVADELLRAVGRGDEQAFGRLY...   \n",
       "1  MARIALVDDDRNILTSVSMTLEAEGFEVETYNDGQSALDAFNKRMP...   \n",
       "2  MKDTVVFVTGAARGIGAHTARLAVARGARVALVGLEPHLLADLAAE...   \n",
       "3  MTSGLWERVLDGVWVTIQLLVLSALLATAVSFVVGIARTHRLWIVR...   \n",
       "4  MIISLRRGLRFIRFIVFFAALVYLFYHVLDLFNGWISPVDQYQMPT...   \n",
       "\n",
       "                                       t_protein_seq  \\\n",
       "0  MPSQITESERIELAERFERDALPLLDQLYSAALRMTRNPADAEDLV...   \n",
       "1  MRVLLVEDDPNTSRSIEMMLTHANLNVYATDMGEEGIDLAKLYDYD...   \n",
       "2  MTPEQIFSGQTAIVTGGASGIGAATVEHIARRGGRVFSVDLSYDSP...   \n",
       "3  MAMSRRKRGQLARGIQYAILVIVVVVLALLADWGKIGKAFFDWEAA...   \n",
       "4  MKRMVWRTLKVFIIFIACTLLFYFGLRFMHLEYEQFHRYEPPEGPA...   \n",
       "\n",
       "                                      m_protein_desc  \\\n",
       "0               ECF RNA polymerase sigma factor SigK   \n",
       "1            response regulator transcription factor   \n",
       "2                          SDR family oxidoreductase   \n",
       "3  ectoine/hydroxyectoine ABC transporter permeas...   \n",
       "4                                YqzK family protein   \n",
       "\n",
       "                                t_protein_desc  m_protein_len  t_protein_len  \n",
       "0  sigma-70 family RNA polymerase sigma factor            206            202  \n",
       "1      response regulator transcription factor            233            237  \n",
       "2                    SDR family oxidoreductase            287            252  \n",
       "3          amino acid ABC transporter permease            234            269  \n",
       "4                          YqzK family protein             80             66  \n",
       "\n",
       "[5 rows x 30 columns]"
      ]
     },
     "execution_count": 9,
     "metadata": {},
     "output_type": "execute_result"
    }
   ],
   "source": [
    "df_original.head()"
   ]
  },
  {
   "cell_type": "code",
   "execution_count": 10,
   "id": "4dd5bd36",
   "metadata": {
    "scrolled": true
   },
   "outputs": [
    {
     "data": {
      "text/plain": [
       "['ABC transporter ATP-binding protein',\n",
       " 'SDR family oxidoreductase',\n",
       " 'ATP-binding cassette domain-containing protein',\n",
       " 'response regulator transcription factor',\n",
       " 'ABC transporter permease',\n",
       " 'TetR/AcrR family transcriptional regulator',\n",
       " 'carbohydrate ABC transporter permease',\n",
       " 'sugar ABC transporter permease',\n",
       " 'hypothetical protein',\n",
       " 'SDR family NAD(P)-dependent oxidoreductase',\n",
       " 'response regulator']"
      ]
     },
     "execution_count": 10,
     "metadata": {},
     "output_type": "execute_result"
    }
   ],
   "source": [
    "#isolate the categories that appear more than 500 times\n",
    "\n",
    "categories = df_original['t_protein_desc'].value_counts()\n",
    "categories = categories.iloc[categories.values > 500]\n",
    "categories_dict = {item: None for item in categories.index}\n",
    "\n",
    "list_of_cats = list(categories_dict.keys())\n",
    "list_of_cats"
   ]
  },
  {
   "cell_type": "code",
   "execution_count": 11,
   "id": "25da5fa7",
   "metadata": {},
   "outputs": [
    {
     "data": {
      "text/plain": [
       "(23783, 30)"
      ]
     },
     "execution_count": 11,
     "metadata": {},
     "output_type": "execute_result"
    }
   ],
   "source": [
    "df = df_original[df_original.t_protein_desc.isin(list_of_cats)]\n",
    "df.shape"
   ]
  },
  {
   "cell_type": "code",
   "execution_count": 12,
   "id": "1b76b012",
   "metadata": {
    "scrolled": true
   },
   "outputs": [
    {
     "name": "stderr",
     "output_type": "stream",
     "text": [
      "<ipython-input-12-e930591ead38>:3: SettingWithCopyWarning: \n",
      "A value is trying to be set on a copy of a slice from a DataFrame.\n",
      "Try using .loc[row_indexer,col_indexer] = value instead\n",
      "\n",
      "See the caveats in the documentation: https://pandas.pydata.org/pandas-docs/stable/user_guide/indexing.html#returning-a-view-versus-a-copy\n",
      "  df['protein_match'] = df['t_protein_desc'].eq(df['m_protein_desc'])\n"
     ]
    },
    {
     "data": {
      "text/plain": [
       "1      True\n",
       "2      True\n",
       "5      True\n",
       "9     False\n",
       "12    False\n",
       "Name: protein_match, dtype: bool"
      ]
     },
     "execution_count": 12,
     "metadata": {},
     "output_type": "execute_result"
    }
   ],
   "source": [
    "#create new \"dummy\" target feature \n",
    "\n",
    "df['protein_match'] = df['t_protein_desc'].eq(df['m_protein_desc'])\n",
    "df['protein_match'].head()"
   ]
  },
  {
   "cell_type": "code",
   "execution_count": 13,
   "id": "14015e54",
   "metadata": {},
   "outputs": [
    {
     "data": {
      "text/plain": [
       "True     13099\n",
       "False    10684\n",
       "Name: protein_match, dtype: int64"
      ]
     },
     "execution_count": 13,
     "metadata": {},
     "output_type": "execute_result"
    }
   ],
   "source": [
    "df['protein_match'].value_counts()"
   ]
  },
  {
   "cell_type": "code",
   "execution_count": 14,
   "id": "084d9561",
   "metadata": {},
   "outputs": [],
   "source": [
    "#get rid of stuff that isn't quantitative\n",
    "\n",
    "df = df.drop(columns = ['Unnamed: 0','thermo_index', 'm_protein_seq', 't_protein_seq',\n",
    "                        'm_protein_desc', 't_protein_desc'])"
   ]
  },
  {
   "cell_type": "code",
   "execution_count": 15,
   "id": "eea27e6c",
   "metadata": {
    "scrolled": true
   },
   "outputs": [
    {
     "data": {
      "text/html": [
       "<div>\n",
       "<style scoped>\n",
       "    .dataframe tbody tr th:only-of-type {\n",
       "        vertical-align: middle;\n",
       "    }\n",
       "\n",
       "    .dataframe tbody tr th {\n",
       "        vertical-align: top;\n",
       "    }\n",
       "\n",
       "    .dataframe thead th {\n",
       "        text-align: right;\n",
       "    }\n",
       "</style>\n",
       "<table border=\"1\" class=\"dataframe\">\n",
       "  <thead>\n",
       "    <tr style=\"text-align: right;\">\n",
       "      <th></th>\n",
       "      <th>local_gap_compressed_percent_id</th>\n",
       "      <th>scaled_local_query_percent_id</th>\n",
       "      <th>scaled_local_symmetric_percent_id</th>\n",
       "      <th>query_align_len</th>\n",
       "      <th>query_align_cov</th>\n",
       "      <th>subject_align_len</th>\n",
       "      <th>subject_align_cov</th>\n",
       "      <th>bit_score</th>\n",
       "      <th>meso_index</th>\n",
       "      <th>prot_pair_index</th>\n",
       "      <th>...</th>\n",
       "      <th>scaled_local_symmetric_percent_id_16s</th>\n",
       "      <th>query_align_cov_16s</th>\n",
       "      <th>subject_align_cov_16s</th>\n",
       "      <th>bit_score_16s</th>\n",
       "      <th>m_ogt</th>\n",
       "      <th>t_ogt</th>\n",
       "      <th>ogt_difference</th>\n",
       "      <th>m_protein_len</th>\n",
       "      <th>t_protein_len</th>\n",
       "      <th>protein_match</th>\n",
       "    </tr>\n",
       "  </thead>\n",
       "  <tbody>\n",
       "    <tr>\n",
       "      <th>1</th>\n",
       "      <td>0.319635</td>\n",
       "      <td>0.295359</td>\n",
       "      <td>0.297872</td>\n",
       "      <td>218</td>\n",
       "      <td>0.919831</td>\n",
       "      <td>226</td>\n",
       "      <td>0.969957</td>\n",
       "      <td>282</td>\n",
       "      <td>13026</td>\n",
       "      <td>92992745</td>\n",
       "      <td>...</td>\n",
       "      <td>0.902522</td>\n",
       "      <td>1.000000</td>\n",
       "      <td>1.000000</td>\n",
       "      <td>1014.0</td>\n",
       "      <td>25.0</td>\n",
       "      <td>54.0</td>\n",
       "      <td>29.0</td>\n",
       "      <td>233</td>\n",
       "      <td>237</td>\n",
       "      <td>True</td>\n",
       "    </tr>\n",
       "    <tr>\n",
       "      <th>2</th>\n",
       "      <td>0.279621</td>\n",
       "      <td>0.234127</td>\n",
       "      <td>0.218924</td>\n",
       "      <td>211</td>\n",
       "      <td>0.837302</td>\n",
       "      <td>210</td>\n",
       "      <td>0.731707</td>\n",
       "      <td>96</td>\n",
       "      <td>8203</td>\n",
       "      <td>157628663</td>\n",
       "      <td>...</td>\n",
       "      <td>0.923531</td>\n",
       "      <td>1.000000</td>\n",
       "      <td>1.000000</td>\n",
       "      <td>1138.0</td>\n",
       "      <td>28.0</td>\n",
       "      <td>50.0</td>\n",
       "      <td>22.0</td>\n",
       "      <td>287</td>\n",
       "      <td>252</td>\n",
       "      <td>True</td>\n",
       "    </tr>\n",
       "    <tr>\n",
       "      <th>5</th>\n",
       "      <td>0.333333</td>\n",
       "      <td>0.267380</td>\n",
       "      <td>0.254453</td>\n",
       "      <td>148</td>\n",
       "      <td>0.791444</td>\n",
       "      <td>163</td>\n",
       "      <td>0.791262</td>\n",
       "      <td>127</td>\n",
       "      <td>3582</td>\n",
       "      <td>20752996</td>\n",
       "      <td>...</td>\n",
       "      <td>0.880157</td>\n",
       "      <td>0.997391</td>\n",
       "      <td>0.997370</td>\n",
       "      <td>942.0</td>\n",
       "      <td>17.5</td>\n",
       "      <td>42.0</td>\n",
       "      <td>24.5</td>\n",
       "      <td>206</td>\n",
       "      <td>187</td>\n",
       "      <td>True</td>\n",
       "    </tr>\n",
       "    <tr>\n",
       "      <th>9</th>\n",
       "      <td>0.333333</td>\n",
       "      <td>0.295082</td>\n",
       "      <td>0.291498</td>\n",
       "      <td>218</td>\n",
       "      <td>0.893443</td>\n",
       "      <td>221</td>\n",
       "      <td>0.884000</td>\n",
       "      <td>158</td>\n",
       "      <td>742</td>\n",
       "      <td>85102366</td>\n",
       "      <td>...</td>\n",
       "      <td>0.910105</td>\n",
       "      <td>0.998040</td>\n",
       "      <td>0.998022</td>\n",
       "      <td>1085.0</td>\n",
       "      <td>26.0</td>\n",
       "      <td>50.0</td>\n",
       "      <td>24.0</td>\n",
       "      <td>250</td>\n",
       "      <td>244</td>\n",
       "      <td>False</td>\n",
       "    </tr>\n",
       "    <tr>\n",
       "      <th>12</th>\n",
       "      <td>0.354067</td>\n",
       "      <td>0.245847</td>\n",
       "      <td>0.225954</td>\n",
       "      <td>208</td>\n",
       "      <td>0.691030</td>\n",
       "      <td>216</td>\n",
       "      <td>0.610170</td>\n",
       "      <td>264</td>\n",
       "      <td>13575</td>\n",
       "      <td>55279368</td>\n",
       "      <td>...</td>\n",
       "      <td>0.912500</td>\n",
       "      <td>0.996721</td>\n",
       "      <td>0.996700</td>\n",
       "      <td>1095.0</td>\n",
       "      <td>28.0</td>\n",
       "      <td>52.5</td>\n",
       "      <td>24.5</td>\n",
       "      <td>354</td>\n",
       "      <td>301</td>\n",
       "      <td>False</td>\n",
       "    </tr>\n",
       "  </tbody>\n",
       "</table>\n",
       "<p>5 rows × 25 columns</p>\n",
       "</div>"
      ],
      "text/plain": [
       "    local_gap_compressed_percent_id  scaled_local_query_percent_id  \\\n",
       "1                          0.319635                       0.295359   \n",
       "2                          0.279621                       0.234127   \n",
       "5                          0.333333                       0.267380   \n",
       "9                          0.333333                       0.295082   \n",
       "12                         0.354067                       0.245847   \n",
       "\n",
       "    scaled_local_symmetric_percent_id  query_align_len  query_align_cov  \\\n",
       "1                            0.297872              218         0.919831   \n",
       "2                            0.218924              211         0.837302   \n",
       "5                            0.254453              148         0.791444   \n",
       "9                            0.291498              218         0.893443   \n",
       "12                           0.225954              208         0.691030   \n",
       "\n",
       "    subject_align_len  subject_align_cov  bit_score  meso_index  \\\n",
       "1                 226           0.969957        282       13026   \n",
       "2                 210           0.731707         96        8203   \n",
       "5                 163           0.791262        127        3582   \n",
       "9                 221           0.884000        158         742   \n",
       "12                216           0.610170        264       13575   \n",
       "\n",
       "    prot_pair_index  ...  scaled_local_symmetric_percent_id_16s  \\\n",
       "1          92992745  ...                               0.902522   \n",
       "2         157628663  ...                               0.923531   \n",
       "5          20752996  ...                               0.880157   \n",
       "9          85102366  ...                               0.910105   \n",
       "12         55279368  ...                               0.912500   \n",
       "\n",
       "    query_align_cov_16s  subject_align_cov_16s  bit_score_16s  m_ogt  t_ogt  \\\n",
       "1              1.000000               1.000000         1014.0   25.0   54.0   \n",
       "2              1.000000               1.000000         1138.0   28.0   50.0   \n",
       "5              0.997391               0.997370          942.0   17.5   42.0   \n",
       "9              0.998040               0.998022         1085.0   26.0   50.0   \n",
       "12             0.996721               0.996700         1095.0   28.0   52.5   \n",
       "\n",
       "    ogt_difference  m_protein_len  t_protein_len  protein_match  \n",
       "1             29.0            233            237           True  \n",
       "2             22.0            287            252           True  \n",
       "5             24.5            206            187           True  \n",
       "9             24.0            250            244          False  \n",
       "12            24.5            354            301          False  \n",
       "\n",
       "[5 rows x 25 columns]"
      ]
     },
     "execution_count": 15,
     "metadata": {},
     "output_type": "execute_result"
    }
   ],
   "source": [
    "df.head()"
   ]
  },
  {
   "cell_type": "markdown",
   "id": "07cc3a80",
   "metadata": {},
   "source": [
    "From pairplot below, it looks like query_align_cov_16s and subject_align_cov_16s dont correlate with target. Let's remove them."
   ]
  },
  {
   "cell_type": "code",
   "execution_count": 16,
   "id": "36d8dadb",
   "metadata": {
    "scrolled": true
   },
   "outputs": [],
   "source": [
    "# sns.pairplot(df.sample(500),height = 4)"
   ]
  },
  {
   "cell_type": "code",
   "execution_count": 17,
   "id": "91079edd",
   "metadata": {},
   "outputs": [],
   "source": [
    "df = df.drop(columns = ['query_align_cov_16s', 'subject_align_cov_16s'])"
   ]
  },
  {
   "cell_type": "code",
   "execution_count": 18,
   "id": "7929625e",
   "metadata": {
    "scrolled": false
   },
   "outputs": [
    {
     "data": {
      "text/html": [
       "<div>\n",
       "<style scoped>\n",
       "    .dataframe tbody tr th:only-of-type {\n",
       "        vertical-align: middle;\n",
       "    }\n",
       "\n",
       "    .dataframe tbody tr th {\n",
       "        vertical-align: top;\n",
       "    }\n",
       "\n",
       "    .dataframe thead th {\n",
       "        text-align: right;\n",
       "    }\n",
       "</style>\n",
       "<table border=\"1\" class=\"dataframe\">\n",
       "  <thead>\n",
       "    <tr style=\"text-align: right;\">\n",
       "      <th></th>\n",
       "      <th>local_gap_compressed_percent_id</th>\n",
       "      <th>scaled_local_query_percent_id</th>\n",
       "      <th>scaled_local_symmetric_percent_id</th>\n",
       "      <th>query_align_len</th>\n",
       "      <th>query_align_cov</th>\n",
       "      <th>subject_align_len</th>\n",
       "      <th>subject_align_cov</th>\n",
       "      <th>bit_score</th>\n",
       "      <th>meso_index</th>\n",
       "      <th>prot_pair_index</th>\n",
       "      <th>...</th>\n",
       "      <th>taxa_pair_index</th>\n",
       "      <th>local_gap_compressed_percent_id_16s</th>\n",
       "      <th>scaled_local_query_percent_id_16s</th>\n",
       "      <th>scaled_local_symmetric_percent_id_16s</th>\n",
       "      <th>bit_score_16s</th>\n",
       "      <th>m_ogt</th>\n",
       "      <th>t_ogt</th>\n",
       "      <th>ogt_difference</th>\n",
       "      <th>m_protein_len</th>\n",
       "      <th>t_protein_len</th>\n",
       "    </tr>\n",
       "  </thead>\n",
       "  <tbody>\n",
       "    <tr>\n",
       "      <th>count</th>\n",
       "      <td>23783.000000</td>\n",
       "      <td>23783.000000</td>\n",
       "      <td>23783.000000</td>\n",
       "      <td>23783.000000</td>\n",
       "      <td>23783.000000</td>\n",
       "      <td>23783.000000</td>\n",
       "      <td>23783.000000</td>\n",
       "      <td>23783.000000</td>\n",
       "      <td>23783.000000</td>\n",
       "      <td>2.378300e+04</td>\n",
       "      <td>...</td>\n",
       "      <td>23783.000000</td>\n",
       "      <td>23783.000000</td>\n",
       "      <td>23783.000000</td>\n",
       "      <td>23783.000000</td>\n",
       "      <td>23783.000000</td>\n",
       "      <td>23783.000000</td>\n",
       "      <td>23783.000000</td>\n",
       "      <td>23783.000000</td>\n",
       "      <td>23783.000000</td>\n",
       "      <td>23783.000000</td>\n",
       "    </tr>\n",
       "    <tr>\n",
       "      <th>mean</th>\n",
       "      <td>0.330515</td>\n",
       "      <td>0.255968</td>\n",
       "      <td>0.251793</td>\n",
       "      <td>206.720725</td>\n",
       "      <td>0.781491</td>\n",
       "      <td>206.319304</td>\n",
       "      <td>0.770447</td>\n",
       "      <td>209.895766</td>\n",
       "      <td>8057.971745</td>\n",
       "      <td>9.088823e+07</td>\n",
       "      <td>...</td>\n",
       "      <td>363429.641887</td>\n",
       "      <td>0.906876</td>\n",
       "      <td>0.903185</td>\n",
       "      <td>0.905010</td>\n",
       "      <td>1061.304503</td>\n",
       "      <td>27.371715</td>\n",
       "      <td>51.477799</td>\n",
       "      <td>24.106084</td>\n",
       "      <td>271.792961</td>\n",
       "      <td>267.108397</td>\n",
       "    </tr>\n",
       "    <tr>\n",
       "      <th>std</th>\n",
       "      <td>0.060568</td>\n",
       "      <td>0.075837</td>\n",
       "      <td>0.075889</td>\n",
       "      <td>45.130804</td>\n",
       "      <td>0.135684</td>\n",
       "      <td>45.314127</td>\n",
       "      <td>0.162151</td>\n",
       "      <td>115.963286</td>\n",
       "      <td>4602.593029</td>\n",
       "      <td>5.206080e+07</td>\n",
       "      <td>...</td>\n",
       "      <td>226799.643391</td>\n",
       "      <td>0.015064</td>\n",
       "      <td>0.015445</td>\n",
       "      <td>0.015098</td>\n",
       "      <td>74.656304</td>\n",
       "      <td>3.617415</td>\n",
       "      <td>3.577307</td>\n",
       "      <td>3.509046</td>\n",
       "      <td>48.848302</td>\n",
       "      <td>52.720419</td>\n",
       "    </tr>\n",
       "    <tr>\n",
       "      <th>min</th>\n",
       "      <td>0.179012</td>\n",
       "      <td>0.100817</td>\n",
       "      <td>0.059908</td>\n",
       "      <td>25.000000</td>\n",
       "      <td>0.481482</td>\n",
       "      <td>25.000000</td>\n",
       "      <td>0.082019</td>\n",
       "      <td>36.000000</td>\n",
       "      <td>5.000000</td>\n",
       "      <td>1.219000e+03</td>\n",
       "      <td>...</td>\n",
       "      <td>4885.000000</td>\n",
       "      <td>0.876590</td>\n",
       "      <td>0.836055</td>\n",
       "      <td>0.880026</td>\n",
       "      <td>891.000000</td>\n",
       "      <td>7.000000</td>\n",
       "      <td>41.000000</td>\n",
       "      <td>20.000000</td>\n",
       "      <td>52.000000</td>\n",
       "      <td>33.000000</td>\n",
       "    </tr>\n",
       "    <tr>\n",
       "      <th>25%</th>\n",
       "      <td>0.293333</td>\n",
       "      <td>0.205432</td>\n",
       "      <td>0.205288</td>\n",
       "      <td>188.000000</td>\n",
       "      <td>0.675035</td>\n",
       "      <td>188.000000</td>\n",
       "      <td>0.664506</td>\n",
       "      <td>135.000000</td>\n",
       "      <td>4081.000000</td>\n",
       "      <td>4.647432e+07</td>\n",
       "      <td>...</td>\n",
       "      <td>174094.000000</td>\n",
       "      <td>0.896178</td>\n",
       "      <td>0.893115</td>\n",
       "      <td>0.893770</td>\n",
       "      <td>1011.000000</td>\n",
       "      <td>27.500000</td>\n",
       "      <td>50.000000</td>\n",
       "      <td>22.000000</td>\n",
       "      <td>240.000000</td>\n",
       "      <td>237.000000</td>\n",
       "    </tr>\n",
       "    <tr>\n",
       "      <th>50%</th>\n",
       "      <td>0.321429</td>\n",
       "      <td>0.243590</td>\n",
       "      <td>0.239845</td>\n",
       "      <td>211.000000</td>\n",
       "      <td>0.786325</td>\n",
       "      <td>211.000000</td>\n",
       "      <td>0.791506</td>\n",
       "      <td>193.000000</td>\n",
       "      <td>7997.000000</td>\n",
       "      <td>9.155334e+07</td>\n",
       "      <td>...</td>\n",
       "      <td>312334.000000</td>\n",
       "      <td>0.906122</td>\n",
       "      <td>0.902487</td>\n",
       "      <td>0.903840</td>\n",
       "      <td>1057.000000</td>\n",
       "      <td>28.000000</td>\n",
       "      <td>52.500000</td>\n",
       "      <td>24.500000</td>\n",
       "      <td>263.000000</td>\n",
       "      <td>261.000000</td>\n",
       "    </tr>\n",
       "    <tr>\n",
       "      <th>75%</th>\n",
       "      <td>0.354665</td>\n",
       "      <td>0.290566</td>\n",
       "      <td>0.283247</td>\n",
       "      <td>232.000000</td>\n",
       "      <td>0.902174</td>\n",
       "      <td>230.000000</td>\n",
       "      <td>0.905455</td>\n",
       "      <td>253.000000</td>\n",
       "      <td>12100.000000</td>\n",
       "      <td>1.353189e+08</td>\n",
       "      <td>...</td>\n",
       "      <td>617843.000000</td>\n",
       "      <td>0.916392</td>\n",
       "      <td>0.912787</td>\n",
       "      <td>0.914921</td>\n",
       "      <td>1108.000000</td>\n",
       "      <td>29.000000</td>\n",
       "      <td>52.500000</td>\n",
       "      <td>24.500000</td>\n",
       "      <td>305.000000</td>\n",
       "      <td>305.000000</td>\n",
       "    </tr>\n",
       "    <tr>\n",
       "      <th>max</th>\n",
       "      <td>0.923077</td>\n",
       "      <td>0.914798</td>\n",
       "      <td>0.916854</td>\n",
       "      <td>388.000000</td>\n",
       "      <td>1.000000</td>\n",
       "      <td>388.000000</td>\n",
       "      <td>1.000000</td>\n",
       "      <td>1359.000000</td>\n",
       "      <td>16345.000000</td>\n",
       "      <td>1.814861e+08</td>\n",
       "      <td>...</td>\n",
       "      <td>744518.000000</td>\n",
       "      <td>0.999351</td>\n",
       "      <td>0.993544</td>\n",
       "      <td>0.996439</td>\n",
       "      <td>1618.000000</td>\n",
       "      <td>40.000000</td>\n",
       "      <td>78.000000</td>\n",
       "      <td>56.000000</td>\n",
       "      <td>400.000000</td>\n",
       "      <td>400.000000</td>\n",
       "    </tr>\n",
       "  </tbody>\n",
       "</table>\n",
       "<p>8 rows × 22 columns</p>\n",
       "</div>"
      ],
      "text/plain": [
       "       local_gap_compressed_percent_id  scaled_local_query_percent_id  \\\n",
       "count                     23783.000000                   23783.000000   \n",
       "mean                          0.330515                       0.255968   \n",
       "std                           0.060568                       0.075837   \n",
       "min                           0.179012                       0.100817   \n",
       "25%                           0.293333                       0.205432   \n",
       "50%                           0.321429                       0.243590   \n",
       "75%                           0.354665                       0.290566   \n",
       "max                           0.923077                       0.914798   \n",
       "\n",
       "       scaled_local_symmetric_percent_id  query_align_len  query_align_cov  \\\n",
       "count                       23783.000000     23783.000000     23783.000000   \n",
       "mean                            0.251793       206.720725         0.781491   \n",
       "std                             0.075889        45.130804         0.135684   \n",
       "min                             0.059908        25.000000         0.481482   \n",
       "25%                             0.205288       188.000000         0.675035   \n",
       "50%                             0.239845       211.000000         0.786325   \n",
       "75%                             0.283247       232.000000         0.902174   \n",
       "max                             0.916854       388.000000         1.000000   \n",
       "\n",
       "       subject_align_len  subject_align_cov     bit_score    meso_index  \\\n",
       "count       23783.000000       23783.000000  23783.000000  23783.000000   \n",
       "mean          206.319304           0.770447    209.895766   8057.971745   \n",
       "std            45.314127           0.162151    115.963286   4602.593029   \n",
       "min            25.000000           0.082019     36.000000      5.000000   \n",
       "25%           188.000000           0.664506    135.000000   4081.000000   \n",
       "50%           211.000000           0.791506    193.000000   7997.000000   \n",
       "75%           230.000000           0.905455    253.000000  12100.000000   \n",
       "max           388.000000           1.000000   1359.000000  16345.000000   \n",
       "\n",
       "       prot_pair_index  ...  taxa_pair_index  \\\n",
       "count     2.378300e+04  ...     23783.000000   \n",
       "mean      9.088823e+07  ...    363429.641887   \n",
       "std       5.206080e+07  ...    226799.643391   \n",
       "min       1.219000e+03  ...      4885.000000   \n",
       "25%       4.647432e+07  ...    174094.000000   \n",
       "50%       9.155334e+07  ...    312334.000000   \n",
       "75%       1.353189e+08  ...    617843.000000   \n",
       "max       1.814861e+08  ...    744518.000000   \n",
       "\n",
       "       local_gap_compressed_percent_id_16s  scaled_local_query_percent_id_16s  \\\n",
       "count                         23783.000000                       23783.000000   \n",
       "mean                              0.906876                           0.903185   \n",
       "std                               0.015064                           0.015445   \n",
       "min                               0.876590                           0.836055   \n",
       "25%                               0.896178                           0.893115   \n",
       "50%                               0.906122                           0.902487   \n",
       "75%                               0.916392                           0.912787   \n",
       "max                               0.999351                           0.993544   \n",
       "\n",
       "       scaled_local_symmetric_percent_id_16s  bit_score_16s         m_ogt  \\\n",
       "count                           23783.000000   23783.000000  23783.000000   \n",
       "mean                                0.905010    1061.304503     27.371715   \n",
       "std                                 0.015098      74.656304      3.617415   \n",
       "min                                 0.880026     891.000000      7.000000   \n",
       "25%                                 0.893770    1011.000000     27.500000   \n",
       "50%                                 0.903840    1057.000000     28.000000   \n",
       "75%                                 0.914921    1108.000000     29.000000   \n",
       "max                                 0.996439    1618.000000     40.000000   \n",
       "\n",
       "              t_ogt  ogt_difference  m_protein_len  t_protein_len  \n",
       "count  23783.000000    23783.000000   23783.000000   23783.000000  \n",
       "mean      51.477799       24.106084     271.792961     267.108397  \n",
       "std        3.577307        3.509046      48.848302      52.720419  \n",
       "min       41.000000       20.000000      52.000000      33.000000  \n",
       "25%       50.000000       22.000000     240.000000     237.000000  \n",
       "50%       52.500000       24.500000     263.000000     261.000000  \n",
       "75%       52.500000       24.500000     305.000000     305.000000  \n",
       "max       78.000000       56.000000     400.000000     400.000000  \n",
       "\n",
       "[8 rows x 22 columns]"
      ]
     },
     "execution_count": 18,
     "metadata": {},
     "output_type": "execute_result"
    }
   ],
   "source": [
    "df.describe()"
   ]
  },
  {
   "cell_type": "markdown",
   "id": "90871d01",
   "metadata": {},
   "source": [
    "Split data into dev and test, and then split that into train and validation."
   ]
  },
  {
   "cell_type": "code",
   "execution_count": 19,
   "id": "6519dcaf",
   "metadata": {},
   "outputs": [],
   "source": [
    "#drop columns that don't exihibit signficant pearson correlation with bit_score\n",
    "\n",
    "df = df.drop(columns = ['meso_index', 'meso_protein_int_index', 'local_gap_compressed_percent_id_16s', \n",
    "                        'scaled_local_query_percent_id_16s', 'scaled_local_symmetric_percent_id_16s',\n",
    "                       'bit_score_16s', 'm_ogt', 't_ogt', 'taxa_pair_index', 'thermo_protein_int_index'\n",
    "                       , 'prot_pair_index', 'ogt_difference'])"
   ]
  },
  {
   "cell_type": "code",
   "execution_count": 20,
   "id": "af9f23cf",
   "metadata": {
    "scrolled": true
   },
   "outputs": [
    {
     "name": "stdout",
     "output_type": "stream",
     "text": [
      "(20215, 11)\n",
      "(3568, 11)\n",
      "(17182, 11)\n",
      "(3033, 11)\n"
     ]
    }
   ],
   "source": [
    "#choosing 80/20 split instead of 85/15 because of volume of data\n",
    "\n",
    "dev, test = sklearn.model_selection.train_test_split(df, test_size=0.15, random_state=1)\n",
    "\n",
    "train, val = sklearn.model_selection.train_test_split(dev, test_size=0.15, random_state=1)\n",
    "\n",
    "print(dev.shape)\n",
    "print(test.shape)\n",
    "print(train.shape)\n",
    "print(val.shape)"
   ]
  },
  {
   "cell_type": "code",
   "execution_count": 21,
   "id": "8470550d",
   "metadata": {
    "scrolled": false
   },
   "outputs": [],
   "source": [
    "#ID target and features, separate into separate arrays\n",
    "\n",
    "target = 'protein_match'\n",
    "input_features = [columns for columns in df]\n",
    "input_features.remove(target)"
   ]
  },
  {
   "cell_type": "code",
   "execution_count": 22,
   "id": "c62edd28",
   "metadata": {},
   "outputs": [
    {
     "name": "stdout",
     "output_type": "stream",
     "text": [
      "['local_gap_compressed_percent_id', 'scaled_local_query_percent_id', 'scaled_local_symmetric_percent_id', 'query_align_len', 'query_align_cov', 'subject_align_len', 'subject_align_cov', 'bit_score', 'm_protein_len', 't_protein_len']\n",
      "protein_match\n"
     ]
    }
   ],
   "source": [
    "print(input_features)\n",
    "print(target)"
   ]
  },
  {
   "cell_type": "code",
   "execution_count": 23,
   "id": "1ab62bff",
   "metadata": {
    "scrolled": true
   },
   "outputs": [
    {
     "name": "stdout",
     "output_type": "stream",
     "text": [
      "(20215, 10) (3568, 10) (20215, 1) (3568, 1)\n"
     ]
    }
   ],
   "source": [
    "#split X and y\n",
    "\n",
    "dev_X = dev[input_features].values\n",
    "test_X = test[input_features].values\n",
    "\n",
    "dev_y = dev[target].values.reshape(-1,1)\n",
    "test_y = test[target].values.reshape(-1,1)  \n",
    "\n",
    "print(dev_X.shape, test_X.shape, dev_y.shape, test_y.shape)"
   ]
  },
  {
   "cell_type": "code",
   "execution_count": 24,
   "id": "9ac52ac0",
   "metadata": {},
   "outputs": [],
   "source": [
    "#same thing for training and validation data\n",
    "\n",
    "train_X = train[input_features].values\n",
    "val_X = val[input_features].values\n",
    "\n",
    "train_y = train[target].values.reshape(-1,1)\n",
    "val_y = val[target].values.reshape(-1,1) "
   ]
  },
  {
   "cell_type": "markdown",
   "id": "c374f2d7",
   "metadata": {},
   "source": [
    "Scale the data"
   ]
  },
  {
   "cell_type": "code",
   "execution_count": 25,
   "id": "2b48b2e5",
   "metadata": {
    "scrolled": false
   },
   "outputs": [],
   "source": [
    "scaler = sklearn.preprocessing.StandardScaler()\n",
    "dev_X = scaler.fit_transform(dev_X)\n",
    "test_X = scaler.fit_transform(test_X)\n",
    "train_X = scaler.fit_transform(train_X)\n",
    "val_X = scaler.fit_transform(val_X)"
   ]
  },
  {
   "cell_type": "markdown",
   "id": "c3022371",
   "metadata": {},
   "source": [
    "Train the model"
   ]
  },
  {
   "cell_type": "code",
   "execution_count": 26,
   "id": "be4e09b0",
   "metadata": {},
   "outputs": [
    {
     "data": {
      "text/html": [
       "<style>#sk-container-id-1 {color: black;background-color: white;}#sk-container-id-1 pre{padding: 0;}#sk-container-id-1 div.sk-toggleable {background-color: white;}#sk-container-id-1 label.sk-toggleable__label {cursor: pointer;display: block;width: 100%;margin-bottom: 0;padding: 0.3em;box-sizing: border-box;text-align: center;}#sk-container-id-1 label.sk-toggleable__label-arrow:before {content: \"▸\";float: left;margin-right: 0.25em;color: #696969;}#sk-container-id-1 label.sk-toggleable__label-arrow:hover:before {color: black;}#sk-container-id-1 div.sk-estimator:hover label.sk-toggleable__label-arrow:before {color: black;}#sk-container-id-1 div.sk-toggleable__content {max-height: 0;max-width: 0;overflow: hidden;text-align: left;background-color: #f0f8ff;}#sk-container-id-1 div.sk-toggleable__content pre {margin: 0.2em;color: black;border-radius: 0.25em;background-color: #f0f8ff;}#sk-container-id-1 input.sk-toggleable__control:checked~div.sk-toggleable__content {max-height: 200px;max-width: 100%;overflow: auto;}#sk-container-id-1 input.sk-toggleable__control:checked~label.sk-toggleable__label-arrow:before {content: \"▾\";}#sk-container-id-1 div.sk-estimator input.sk-toggleable__control:checked~label.sk-toggleable__label {background-color: #d4ebff;}#sk-container-id-1 div.sk-label input.sk-toggleable__control:checked~label.sk-toggleable__label {background-color: #d4ebff;}#sk-container-id-1 input.sk-hidden--visually {border: 0;clip: rect(1px 1px 1px 1px);clip: rect(1px, 1px, 1px, 1px);height: 1px;margin: -1px;overflow: hidden;padding: 0;position: absolute;width: 1px;}#sk-container-id-1 div.sk-estimator {font-family: monospace;background-color: #f0f8ff;border: 1px dotted black;border-radius: 0.25em;box-sizing: border-box;margin-bottom: 0.5em;}#sk-container-id-1 div.sk-estimator:hover {background-color: #d4ebff;}#sk-container-id-1 div.sk-parallel-item::after {content: \"\";width: 100%;border-bottom: 1px solid gray;flex-grow: 1;}#sk-container-id-1 div.sk-label:hover label.sk-toggleable__label {background-color: #d4ebff;}#sk-container-id-1 div.sk-serial::before {content: \"\";position: absolute;border-left: 1px solid gray;box-sizing: border-box;top: 0;bottom: 0;left: 50%;z-index: 0;}#sk-container-id-1 div.sk-serial {display: flex;flex-direction: column;align-items: center;background-color: white;padding-right: 0.2em;padding-left: 0.2em;position: relative;}#sk-container-id-1 div.sk-item {position: relative;z-index: 1;}#sk-container-id-1 div.sk-parallel {display: flex;align-items: stretch;justify-content: center;background-color: white;position: relative;}#sk-container-id-1 div.sk-item::before, #sk-container-id-1 div.sk-parallel-item::before {content: \"\";position: absolute;border-left: 1px solid gray;box-sizing: border-box;top: 0;bottom: 0;left: 50%;z-index: -1;}#sk-container-id-1 div.sk-parallel-item {display: flex;flex-direction: column;z-index: 1;position: relative;background-color: white;}#sk-container-id-1 div.sk-parallel-item:first-child::after {align-self: flex-end;width: 50%;}#sk-container-id-1 div.sk-parallel-item:last-child::after {align-self: flex-start;width: 50%;}#sk-container-id-1 div.sk-parallel-item:only-child::after {width: 0;}#sk-container-id-1 div.sk-dashed-wrapped {border: 1px dashed gray;margin: 0 0.4em 0.5em 0.4em;box-sizing: border-box;padding-bottom: 0.4em;background-color: white;}#sk-container-id-1 div.sk-label label {font-family: monospace;font-weight: bold;display: inline-block;line-height: 1.2em;}#sk-container-id-1 div.sk-label-container {text-align: center;}#sk-container-id-1 div.sk-container {/* jupyter's `normalize.less` sets `[hidden] { display: none; }` but bootstrap.min.css set `[hidden] { display: none !important; }` so we also need the `!important` here to be able to override the default hidden behavior on the sphinx rendered scikit-learn.org. See: https://github.com/scikit-learn/scikit-learn/issues/21755 */display: inline-block !important;position: relative;}#sk-container-id-1 div.sk-text-repr-fallback {display: none;}</style><div id=\"sk-container-id-1\" class=\"sk-top-container\"><div class=\"sk-text-repr-fallback\"><pre>RandomForestClassifier()</pre><b>In a Jupyter environment, please rerun this cell to show the HTML representation or trust the notebook. <br />On GitHub, the HTML representation is unable to render, please try loading this page with nbviewer.org.</b></div><div class=\"sk-container\" hidden><div class=\"sk-item\"><div class=\"sk-estimator sk-toggleable\"><input class=\"sk-toggleable__control sk-hidden--visually\" id=\"sk-estimator-id-1\" type=\"checkbox\" checked><label for=\"sk-estimator-id-1\" class=\"sk-toggleable__label sk-toggleable__label-arrow\">RandomForestClassifier</label><div class=\"sk-toggleable__content\"><pre>RandomForestClassifier()</pre></div></div></div></div></div>"
      ],
      "text/plain": [
       "RandomForestClassifier()"
      ]
     },
     "execution_count": 26,
     "metadata": {},
     "output_type": "execute_result"
    }
   ],
   "source": [
    "#Random Forest\n",
    "\n",
    "model = sklearn.ensemble.RandomForestClassifier()\n",
    "model.fit(dev_X, dev_y.ravel())"
   ]
  },
  {
   "cell_type": "markdown",
   "id": "69ebf269",
   "metadata": {},
   "source": [
    "Test the model, report relevant statistics"
   ]
  },
  {
   "cell_type": "code",
   "execution_count": 27,
   "id": "c73327e9",
   "metadata": {
    "scrolled": false
   },
   "outputs": [
    {
     "name": "stdout",
     "output_type": "stream",
     "text": [
      "Model score is: 0.649103139013453\n",
      "[ True  True  True ...  True False  True]\n"
     ]
    }
   ],
   "source": [
    "score = model.score(test_X, test_y)\n",
    "print('Model score is: {}'.format(score))\n",
    "\n",
    "preds = model.predict(test_X)\n",
    "print(preds)"
   ]
  },
  {
   "cell_type": "code",
   "execution_count": 28,
   "id": "4e9dce62",
   "metadata": {},
   "outputs": [
    {
     "data": {
      "text/plain": [
       "<sklearn.metrics._plot.confusion_matrix.ConfusionMatrixDisplay at 0x7fb18fe397c0>"
      ]
     },
     "execution_count": 28,
     "metadata": {},
     "output_type": "execute_result"
    },
    {
     "data": {
      "image/png": "[encoded data removed]",
      "text/plain": [
       "<Figure size 432x288 with 2 Axes>"
      ]
     },
     "metadata": {
      "needs_background": "light"
     },
     "output_type": "display_data"
    }
   ],
   "source": [
    "#confusion matrix\n",
    "\n",
    "confusion_matrix = sklearn.metrics.confusion_matrix(preds, test_y)\n",
    "sklearn.metrics.ConfusionMatrixDisplay(confusion_matrix).plot()"
   ]
  },
  {
   "cell_type": "code",
   "execution_count": 31,
   "id": "a9f0681d",
   "metadata": {},
   "outputs": [],
   "source": [
    "from sklearn.metrics import f1_score, confusion_matrix, classification_report"
   ]
  },
  {
   "cell_type": "code",
   "execution_count": 32,
   "id": "a8b8322a",
   "metadata": {},
   "outputs": [
    {
     "data": {
      "text/plain": [
       "0.687780548628429"
      ]
     },
     "execution_count": 32,
     "metadata": {},
     "output_type": "execute_result"
    }
   ],
   "source": [
    "f1_score(preds, test_y)"
   ]
  },
  {
   "cell_type": "markdown",
   "id": "21feaafb",
   "metadata": {},
   "source": [
    "Convert the above code into functions."
   ]
  },
  {
   "cell_type": "code",
   "execution_count": 24,
   "id": "bf1d563c",
   "metadata": {},
   "outputs": [],
   "source": [
    "def train_model(dataframe, columns = [],  target = []):\n",
    "    \"\"\"\n",
    "    Takes dataframe and splits it into a training and testing set. \n",
    "    Note: Data is called train and test, but this test set is currently\n",
    "    closer to a validation set. Keeping nomenclature to keep model robust.\n",
    "    Trains a KNN classifier model with selected data.\n",
    "    \n",
    "    Params\n",
    "    ----------\n",
    "    dataframe: Pandas dataframe \n",
    "    columns: list of strings, representing input features\n",
    "    target: list of strings, representing target feature(s)\n",
    "\n",
    "    Returns\n",
    "    -------\n",
    "    -Sk-learn model object\n",
    "    -train data (features)\n",
    "    -train data (target)\n",
    "    -validation data (features)\n",
    "    -validation data (target)\n",
    "    \"\"\"\n",
    "    #split data\n",
    "    dev, test = sklearn.model_selection.train_test_split(dataframe, test_size=0.15, random_state=1)\n",
    "    \n",
    "    #test input arguments\n",
    "    assert \"pandas.core.frame.DataFrame\" in str(type(dev))\n",
    "    assert \"pandas.core.frame.DataFrame\" in str(type(test))\n",
    "    assert \"str\" in str(type(columns[0]))\n",
    "    assert \"str\" in str(type(target[0]))\n",
    "   \n",
    "    #split into input and output feature(s)\n",
    "    dev_X = dev[columns].values\n",
    "    test_X = test[columns].values\n",
    "\n",
    "    dev_y = dev[target].values.reshape(-1,1)\n",
    "    test_y = test[target].values.reshape(-1,1)\n",
    "    \n",
    "    #scale data\n",
    "    scaler = sklearn.preprocessing.StandardScaler()\n",
    "    dev_X = scaler.fit_transform(dev_X)\n",
    "    test_X = scaler.fit_transform(test_X)\n",
    "    \n",
    "    #train model\n",
    "    model = sklearn.ensemble.RandomForestClassifier()\n",
    "    model = model.fit(dev_X, dev_y.ravel())\n",
    "    \n",
    "    return model, dev_X, dev_y, test_X, test_y\n",
    "    "
   ]
  },
  {
   "cell_type": "code",
   "execution_count": 25,
   "id": "e40acd6d",
   "metadata": {
    "scrolled": true
   },
   "outputs": [],
   "source": [
    "model, dev_X, dev_y, test_X, test_y = train_model(df, columns = input_features, \n",
    "                                          target='protein_match')"
   ]
  },
  {
   "cell_type": "code",
   "execution_count": 42,
   "id": "46729a81",
   "metadata": {
    "scrolled": true
   },
   "outputs": [
    {
     "name": "stderr",
     "output_type": "stream",
     "text": [
      "..\n",
      "----------------------------------------------------------------------\n",
      "Ran 2 tests in 4.490s\n",
      "\n",
      "OK\n"
     ]
    }
   ],
   "source": [
    "class TestModelTraining(unittest.TestCase):\n",
    "    \n",
    "    def test_invalid_inputs(self):\n",
    "    \n",
    "        #test that input data type is correct\n",
    "        \n",
    "        try:\n",
    "            train_model([1,2,3], columns = 'string', target = 'string')\n",
    "            self.assertTrue(False)\n",
    "        except AssertionError:\n",
    "            self.assertTrue(True)\n",
    "    \n",
    "#     def test_input_distro(self):\n",
    "        \n",
    "#         #test that dev and test features have similar Jensen Shannon Distribution\n",
    "        \n",
    "#         JSD = (\n",
    "#             scipy.stats.bootstrap((train_reg(split_data(df)[0], split_data(df)[1],\n",
    "#                                 columns = input_features, target=target)[1], train_reg(split_data(df)[0], \n",
    "#                                 split_data(df)[1], columns = input_features, target=target)[3]), \n",
    "#                                   JSD_dev_and_test, n_resamples=1000, \n",
    "#                                   batch=5, method='percentile')\n",
    "#         )\n",
    "\n",
    "#         div = JSD.confidence_interval[1]\n",
    "        \n",
    "#         #asserts that the divergence between data sets is sufficiently low\n",
    "#         assert abs(div) < 0.3, \"Warning! High JSD between dev and test set!\"\n",
    "        \n",
    "    def test_output_format(self):\n",
    "        \n",
    "        #asserts that function returns 4 objects to be assigned to pearson_corr, model, test_X, test_y\n",
    "        assert len(train_model(df, columns = input_features, \n",
    "                                          target = target)) == 5\n",
    "        \n",
    "\n",
    "suite = unittest.TestLoader().loadTestsFromTestCase(TestModelTraining)\n",
    "_ = unittest.TextTestRunner().run(suite)"
   ]
  },
  {
   "cell_type": "code",
   "execution_count": 43,
   "id": "47f766ab",
   "metadata": {},
   "outputs": [],
   "source": [
    "#need to fix this\n",
    "\n",
    "def evaluate_model(model, test_X, test_y):\n",
    "    \n",
    "    \"\"\"\n",
    "    Takes a trained model and test data and tests the model.\n",
    "    \n",
    "    Params\n",
    "    ----------\n",
    "    model: sklearn.neighbors.KNeighborsClassifier\n",
    "    test_X: numpy array\n",
    "    test_y: numpy array\n",
    "\n",
    "    Returns\n",
    "    -------\n",
    "    Vector of predictions based on the model (numpy array)\n",
    "    \"\"\"\n",
    "    \n",
    "    #test input arguments\n",
    "    assert \"sklearn\" in str(type(model))\n",
    "    assert \"numpy.ndarray\" in str(type(test_X))\n",
    "    assert \"numpy.ndarray\" in str(type(test_y))\n",
    "    \n",
    "    preds = model.predict(test_X)\n",
    "    \n",
    "    return preds"
   ]
  },
  {
   "cell_type": "code",
   "execution_count": 44,
   "id": "7bbb0242",
   "metadata": {
    "scrolled": true
   },
   "outputs": [
    {
     "data": {
      "text/plain": [
       "array([ True,  True,  True, ...,  True, False,  True])"
      ]
     },
     "execution_count": 44,
     "metadata": {},
     "output_type": "execute_result"
    }
   ],
   "source": [
    "preds = evaluate_model(model, test_X, test_y)\n",
    "preds"
   ]
  },
  {
   "cell_type": "code",
   "execution_count": 45,
   "id": "8b2fdac6",
   "metadata": {},
   "outputs": [
    {
     "name": "stderr",
     "output_type": "stream",
     "text": [
      "...\n",
      "----------------------------------------------------------------------\n",
      "Ran 3 tests in 13.083s\n",
      "\n",
      "OK\n"
     ]
    }
   ],
   "source": [
    "class TestModelPerformance(unittest.TestCase):\n",
    "\n",
    "    def test_asserts(self):\n",
    "        model, _, _, test_X, test_y = train_model(\n",
    "            df, columns=input_features, target='protein_match'\n",
    "        )\n",
    "        # assert that input types are correct\n",
    "        with self.assertRaises(AssertionError):\n",
    "            evaluate_model(model, [1, 2, 3], test_y)\n",
    "            \n",
    "    def test_model_output(self):\n",
    "        model, _, _, test_X, test_y = train_model(\n",
    "            df, columns=input_features, target='protein_match'\n",
    "        )\n",
    "        # assert output type is correct\n",
    "        output = evaluate_model(model, test_X, test_y)\n",
    "        self.assertIsInstance(output, np.ndarray)\n",
    "        \n",
    "    def test_pred_dimension(self):\n",
    "        model, _, _, test_X, test_y = train_model(df, \n",
    "            columns=input_features, target='protein_match'\n",
    "        )\n",
    "        # want to check that the number of predictions is equal to the number of test examples\n",
    "        preds = evaluate_model(model, test_X, test_y)\n",
    "        self.assertEqual(len(test_y), len(preds))\n",
    "\n",
    "suite = unittest.TestLoader().loadTestsFromTestCase(TestModelPerformance)\n",
    "_ = unittest.TextTestRunner().run(suite)\n"
   ]
  },
  {
   "cell_type": "markdown",
   "id": "b9b79929",
   "metadata": {},
   "source": [
    "A good test here can be adding outliers and seeing how much the score and predictions change (probably for the above function)."
   ]
  },
  {
   "cell_type": "code",
   "execution_count": 46,
   "id": "dae1e64f",
   "metadata": {},
   "outputs": [],
   "source": [
    "def plot_model(model, test_X, test_y):\n",
    "    \"\"\"\n",
    "    Takes a test KNN Classifier model and plots the confusion matrix.\n",
    "    \n",
    "    Params\n",
    "    ----------\n",
    "    model: sklearn.neighbors.KNeighborsClassifier\n",
    "    test_X: numpy array\n",
    "    test_y: numpy array\n",
    "\n",
    "    Returns\n",
    "    -------\n",
    "    -Confusion predictions vs. observations\n",
    "    -Model score\n",
    "    \"\"\"\n",
    "    \n",
    "    #test input arguments\n",
    "    assert \"sklearn\" in str(type(model))\n",
    "    assert \"numpy.ndarray\" in str(type(test_X))\n",
    "    assert \"numpy.ndarray\" in str(type(test_y))\n",
    "    \n",
    "    score = model.score(test_X, test_y)\n",
    "    preds = evaluate_model(model, test_X, test_y)\n",
    "   \n",
    "    # plot confusion matrix\n",
    "    confusion_matrix = sklearn.metrics.confusion_matrix(preds, test_y)\n",
    "    cm_plot = sklearn.metrics.ConfusionMatrixDisplay(confusion_matrix)\n",
    "    \n",
    "    cm_plot.plot(cmap=plt.cm.Blues)\n",
    "    cm_plot.ax_.set_title('Confusion Matrix')\n",
    "    \n",
    "    return score\n",
    "    "
   ]
  },
  {
   "cell_type": "code",
   "execution_count": 47,
   "id": "c923e39b",
   "metadata": {},
   "outputs": [
    {
     "data": {
      "text/plain": [
       "0.6423766816143498"
      ]
     },
     "execution_count": 47,
     "metadata": {},
     "output_type": "execute_result"
    },
    {
     "data": {
      "image/png": "[encoded data removed]",
      "text/plain": [
       "<Figure size 640x480 with 2 Axes>"
      ]
     },
     "metadata": {},
     "output_type": "display_data"
    }
   ],
   "source": [
    "#make some appropriate display labels here\n",
    "\n",
    "plot_model(model, test_X, test_y)"
   ]
  },
  {
   "cell_type": "code",
   "execution_count": 48,
   "id": "15e9e191",
   "metadata": {},
   "outputs": [],
   "source": [
    "#wrapper function\n",
    "\n",
    "def RF_wrapper(dataframe):\n",
    "    \"\"\"\n",
    "    Takes dataframe and runs it through kNN model.\n",
    "    \n",
    "    Params\n",
    "    ----------\n",
    "    dataframe: Pandas dataframe \n",
    "\n",
    "    Returns\n",
    "    -------\n",
    "    -Target feature predictions\n",
    "    -Parity plot\n",
    "    \"\"\"\n",
    "    \n",
    "    assert 'pandas.core.frame.DataFrame' in str(type(dataframe))\n",
    "\n",
    "    #user inputs target feature\n",
    "    target = 'protein_match'\n",
    "    \n",
    "    #define input features\n",
    "    input_features = [columns for columns in dataframe]\n",
    "    \n",
    "    input_features.remove(target)\n",
    "\n",
    "    #train the model based off data split\n",
    "    model, dev_X, dev_y, test_X, test_y = train_model(\n",
    "                                        dataframe, columns=input_features, \n",
    "                                        target=target\n",
    "                                                   )\n",
    "    \n",
    "    #test the model and return predictions\n",
    "    preds = evaluate_model(model, test_X, test_y)\n",
    "\n",
    "    #plot the results of the model\n",
    "    plot_model(model, test_X, test_y)\n",
    "    \n",
    "    return preds"
   ]
  },
  {
   "cell_type": "code",
   "execution_count": 49,
   "id": "cbbd8fa8",
   "metadata": {
    "scrolled": true
   },
   "outputs": [
    {
     "data": {
      "text/plain": [
       "array([ True,  True,  True, ...,  True,  True,  True])"
      ]
     },
     "execution_count": 49,
     "metadata": {},
     "output_type": "execute_result"
    },
    {
     "data": {
      "image/png": "[encoded data removed]",
      "text/plain": [
       "<Figure size 640x480 with 2 Axes>"
      ]
     },
     "metadata": {},
     "output_type": "display_data"
    }
   ],
   "source": [
    "RF_wrapper(df)"
   ]
  },
  {
   "cell_type": "code",
   "execution_count": 50,
   "id": "37c0e2b2",
   "metadata": {
    "scrolled": true
   },
   "outputs": [
    {
     "name": "stderr",
     "output_type": "stream",
     "text": [
      "...\n",
      "----------------------------------------------------------------------\n",
      "Ran 3 tests in 9.203s\n",
      "\n",
      "OK\n"
     ]
    }
   ],
   "source": [
    "class TestWrapper(unittest.TestCase):\n",
    "    \n",
    "    def test_wrapper_input(self):\n",
    "        #test that input data type is correct\n",
    "        try:\n",
    "            RF_wrapper([1,2,3])\n",
    "            self.assertTrue(False)\n",
    "        except AssertionError:\n",
    "            self.assertTrue(True)\n",
    "\n",
    "    def test_wrapper_output(self):\n",
    "        model, _, _, test_X, test_y = train_model(\n",
    "            df, \n",
    "            columns=input_features, target='protein_match'\n",
    "        )\n",
    "        # assert output type is correct\n",
    "        output = evaluate_model(model, test_X, test_y)\n",
    "        self.assertIsInstance(output, np.ndarray)\n",
    "        \n",
    "    def test_output_dimension(self):\n",
    "        model, _, _, test_X, test_y = train_model(\n",
    "            df, \n",
    "            columns=input_features, target='protein_match'\n",
    "        )\n",
    "        # want to check that the number of predictions is equal to the number of test examples\n",
    "        preds = evaluate_model(model, test_X, test_y)\n",
    "        self.assertEqual(len(test_y), len(preds))\n",
    "        \n",
    "\n",
    "suite = unittest.TestLoader().loadTestsFromTestCase(TestWrapper)\n",
    "_ = unittest.TextTestRunner().run(suite)"
   ]
  },
  {
   "cell_type": "markdown",
   "id": "02c53a58",
   "metadata": {},
   "source": [
    "**IGNORE BELOW**"
   ]
  },
  {
   "cell_type": "code",
   "execution_count": 35,
   "id": "13d52919",
   "metadata": {},
   "outputs": [],
   "source": [
    "# #plot empirical distribution of scaled_local_query_percent_id\n",
    "\n",
    "# target = df['protein_match']\n",
    "# #create histplot\n",
    "# fig, ax = plt.subplots()\n",
    "\n",
    "# sns.histplot(data = df, x = target)\n",
    "\n",
    "# ax.set_title('Sample Histogram', fontsize=16)\n",
    "# ax.set_xlabel('Class', fontsize=14)\n",
    "# ax.set_ylabel('Count', fontsize=14)"
   ]
  },
  {
   "cell_type": "markdown",
   "id": "2e3d1950",
   "metadata": {},
   "source": [
    "Things I've tried to improve model: \n",
    "\n",
    "1. drop bit scores over 1000\n",
    "2. Switch to 85/15 train/test split\n",
    "3. Lasso regression - not great\n",
    "4. Ridge regression - R2 = 0.87, about the same as normal Linear regression\n",
    "5. KNN regression (n_neighbors optimized at 8) gives best result, R2 = ~0.93 --> \n",
    "*got it up to .942 by removing a few features\n",
    "6. Decision tree regressor was slightly worse than KNN\n",
    "7. Input DT classifier and RF classifier. RF classifier has best performance\n",
    "8. Changed target to binary protein function match"
   ]
  },
  {
   "cell_type": "code",
   "execution_count": null,
   "id": "5220b26b",
   "metadata": {},
   "outputs": [],
   "source": []
  }
 ],
 "metadata": {
  "kernelspec": {
   "display_name": "Python 3",
   "language": "python",
   "name": "python3"
  }
 },
 "nbformat": 4,
 "nbformat_minor": 5
}
