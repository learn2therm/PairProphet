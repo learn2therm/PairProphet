{
 "cells": [
  {
   "attachments": {},
   "cell_type": "markdown",
   "id": "6c1fdfb1",
   "metadata": {},
   "source": [
    "The purpose of this notebook is to document data exploration processes with an n=50,000 sample of our Learn2Therm protein database. Doing so provides a workspace to select and optimize a model for predicting protein pair functionality between two sequences. Several classifier architectures were tested prior to the release of the final version of this component."
   ]
  },
  {
   "attachments": {},
   "cell_type": "markdown",
   "id": "84922e82",
   "metadata": {},
   "source": [
    "This notebook includes exploration of a Random Forest Classifier."
   ]
  },
  {
   "cell_type": "code",
   "execution_count": 71,
   "id": "61c53eee",
   "metadata": {},
   "outputs": [],
   "source": [
    "import matplotlib.pyplot as plt\n",
    "import pandas as pd\n",
    "import numpy as np\n",
    "import scipy.stats\n",
    "import sklearn.preprocessing\n",
    "import sklearn.model_selection\n",
    "import sklearn.ensemble\n",
    "import sklearn.feature_selection\n",
    "import unittest"
   ]
  },
  {
   "cell_type": "code",
   "execution_count": 72,
   "id": "ba87d47f",
   "metadata": {
    "scrolled": true
   },
   "outputs": [
    {
     "name": "stdout",
     "output_type": "stream",
     "text": [
      "/Users/loganroberts/Learn2Therm/ValidProt/notebooks\n"
     ]
    }
   ],
   "source": [
    "cd /Users/loganroberts/Learn2Therm/ValidProt/notebooks"
   ]
  },
  {
   "cell_type": "code",
   "execution_count": 73,
   "id": "f90c1cdd",
   "metadata": {},
   "outputs": [],
   "source": [
    "#convert to pandas df\n",
    "df = pd.read_csv('learn2therm_sample_50k_exploration.csv')"
   ]
  },
  {
   "cell_type": "code",
   "execution_count": 74,
   "id": "b883627d",
   "metadata": {},
   "outputs": [
    {
     "data": {
      "text/plain": [
       "(17108, 33)"
      ]
     },
     "execution_count": 74,
     "metadata": {},
     "output_type": "execute_result"
    }
   ],
   "source": [
    "hmmer_target = pd.read_csv('protein_match_50k')\n",
    "hmmer_target['protein_match'] = hmmer_target['protein_match'].map({'Yes': 1, 'No': 0})\n",
    "hmmer_target\n",
    "\n",
    "\n",
    "\n",
    "from sklearn.utils import resample\n",
    "\n",
    "# Assuming your data is in a pandas DataFrame called 'data'\n",
    "# Separate the majority and minority classes\n",
    "majority_class = hmmer_target[hmmer_target['protein_match'] == 1]\n",
    "minority_class = hmmer_target[hmmer_target['protein_match'] == 0]\n",
    "\n",
    "# Undersample the majority class to match the number of minority class samples\n",
    "n_samples = len(minority_class)\n",
    "undersampled_majority = resample(majority_class, n_samples=n_samples, replace=False)\n",
    "\n",
    "# Combine the undersampled majority class with the minority class\n",
    "balanced_data = pd.concat([undersampled_majority, minority_class])\n",
    "\n",
    "balanced_data\n",
    "\n",
    "df = pd.merge(df, balanced_data, on=['prot_pair_index'])\n",
    "df.shape"
   ]
  },
  {
   "cell_type": "code",
   "execution_count": 75,
   "id": "14015e54",
   "metadata": {},
   "outputs": [
    {
     "data": {
      "text/plain": [
       "1    8554\n",
       "0    8554\n",
       "Name: protein_match, dtype: int64"
      ]
     },
     "execution_count": 75,
     "metadata": {},
     "output_type": "execute_result"
    }
   ],
   "source": [
    "df['protein_match'].value_counts()"
   ]
  },
  {
   "cell_type": "code",
   "execution_count": 76,
   "id": "06ad97a2",
   "metadata": {},
   "outputs": [],
   "source": [
    "df['structure_match'] = df['protein_match']"
   ]
  },
  {
   "cell_type": "code",
   "execution_count": 77,
   "id": "fa81d559",
   "metadata": {
    "scrolled": true
   },
   "outputs": [
    {
     "data": {
      "text/html": [
       "<div>\n",
       "<style scoped>\n",
       "    .dataframe tbody tr th:only-of-type {\n",
       "        vertical-align: middle;\n",
       "    }\n",
       "\n",
       "    .dataframe tbody tr th {\n",
       "        vertical-align: top;\n",
       "    }\n",
       "\n",
       "    .dataframe thead th {\n",
       "        text-align: right;\n",
       "    }\n",
       "</style>\n",
       "<table border=\"1\" class=\"dataframe\">\n",
       "  <thead>\n",
       "    <tr style=\"text-align: right;\">\n",
       "      <th></th>\n",
       "      <th>Unnamed: 0_x</th>\n",
       "      <th>local_gap_compressed_percent_id</th>\n",
       "      <th>scaled_local_query_percent_id</th>\n",
       "      <th>scaled_local_symmetric_percent_id</th>\n",
       "      <th>query_align_len</th>\n",
       "      <th>query_align_cov</th>\n",
       "      <th>subject_align_len</th>\n",
       "      <th>subject_align_cov</th>\n",
       "      <th>bit_score</th>\n",
       "      <th>thermo_index</th>\n",
       "      <th>...</th>\n",
       "      <th>m_protein_seq</th>\n",
       "      <th>t_protein_seq</th>\n",
       "      <th>m_protein_desc</th>\n",
       "      <th>t_protein_desc</th>\n",
       "      <th>m_protein_len</th>\n",
       "      <th>t_protein_len</th>\n",
       "      <th>Unnamed: 0_y</th>\n",
       "      <th>protein_match</th>\n",
       "      <th>Jaccard_Score</th>\n",
       "      <th>structure_match</th>\n",
       "    </tr>\n",
       "  </thead>\n",
       "  <tbody>\n",
       "    <tr>\n",
       "      <th>0</th>\n",
       "      <td>0</td>\n",
       "      <td>0.287582</td>\n",
       "      <td>0.217822</td>\n",
       "      <td>0.215686</td>\n",
       "      <td>160</td>\n",
       "      <td>0.792079</td>\n",
       "      <td>152</td>\n",
       "      <td>0.737864</td>\n",
       "      <td>131</td>\n",
       "      <td>875</td>\n",
       "      <td>...</td>\n",
       "      <td>MAESGTSRRADHLVPVPGPDAEPPAVADELLRAVGRGDEQAFGRLY...</td>\n",
       "      <td>MPSQITESERIELAERFERDALPLLDQLYSAALRMTRNPADAEDLV...</td>\n",
       "      <td>ECF RNA polymerase sigma factor SigK</td>\n",
       "      <td>sigma-70 family RNA polymerase sigma factor</td>\n",
       "      <td>206</td>\n",
       "      <td>202</td>\n",
       "      <td>0</td>\n",
       "      <td>1</td>\n",
       "      <td>1.000000</td>\n",
       "      <td>1</td>\n",
       "    </tr>\n",
       "    <tr>\n",
       "      <th>1</th>\n",
       "      <td>3</td>\n",
       "      <td>0.327273</td>\n",
       "      <td>0.200743</td>\n",
       "      <td>0.214712</td>\n",
       "      <td>166</td>\n",
       "      <td>0.617100</td>\n",
       "      <td>163</td>\n",
       "      <td>0.696581</td>\n",
       "      <td>175</td>\n",
       "      <td>875</td>\n",
       "      <td>...</td>\n",
       "      <td>MTSGLWERVLDGVWVTIQLLVLSALLATAVSFVVGIARTHRLWIVR...</td>\n",
       "      <td>MAMSRRKRGQLARGIQYAILVIVVVVLALLADWGKIGKAFFDWEAA...</td>\n",
       "      <td>ectoine/hydroxyectoine ABC transporter permeas...</td>\n",
       "      <td>amino acid ABC transporter permease</td>\n",
       "      <td>234</td>\n",
       "      <td>269</td>\n",
       "      <td>3</td>\n",
       "      <td>1</td>\n",
       "      <td>1.000000</td>\n",
       "      <td>1</td>\n",
       "    </tr>\n",
       "    <tr>\n",
       "      <th>2</th>\n",
       "      <td>6</td>\n",
       "      <td>0.283582</td>\n",
       "      <td>0.231707</td>\n",
       "      <td>0.240506</td>\n",
       "      <td>133</td>\n",
       "      <td>0.810976</td>\n",
       "      <td>134</td>\n",
       "      <td>0.881579</td>\n",
       "      <td>99</td>\n",
       "      <td>7134</td>\n",
       "      <td>...</td>\n",
       "      <td>MGSTDRPDLAAMLAPLTRTLIAMERPVLETYGLTMWAYSVLVALSR...</td>\n",
       "      <td>MGHKDELIARIQRAEREFRRSVVSQAATDFFSVDLTMPQLRVVFFL...</td>\n",
       "      <td>MarR family transcriptional regulator</td>\n",
       "      <td>MarR family transcriptional regulator</td>\n",
       "      <td>152</td>\n",
       "      <td>164</td>\n",
       "      <td>6</td>\n",
       "      <td>1</td>\n",
       "      <td>1.000000</td>\n",
       "      <td>1</td>\n",
       "    </tr>\n",
       "    <tr>\n",
       "      <th>3</th>\n",
       "      <td>8</td>\n",
       "      <td>0.265306</td>\n",
       "      <td>0.201550</td>\n",
       "      <td>0.210243</td>\n",
       "      <td>320</td>\n",
       "      <td>0.826873</td>\n",
       "      <td>294</td>\n",
       "      <td>0.828169</td>\n",
       "      <td>140</td>\n",
       "      <td>1674</td>\n",
       "      <td>...</td>\n",
       "      <td>MSITTKEKRFGIIERYREFLPVTENTPKLTLHEGDTPLIHAASLSA...</td>\n",
       "      <td>MSGVEIEKGYFGQFGGSFVFPELQEVLDYLAEQFERYKDDPEFKQE...</td>\n",
       "      <td>threonine synthase</td>\n",
       "      <td>tryptophan synthase subunit beta</td>\n",
       "      <td>355</td>\n",
       "      <td>387</td>\n",
       "      <td>8</td>\n",
       "      <td>1</td>\n",
       "      <td>1.000000</td>\n",
       "      <td>1</td>\n",
       "    </tr>\n",
       "    <tr>\n",
       "      <th>4</th>\n",
       "      <td>10</td>\n",
       "      <td>0.334630</td>\n",
       "      <td>0.299652</td>\n",
       "      <td>0.299130</td>\n",
       "      <td>253</td>\n",
       "      <td>0.881533</td>\n",
       "      <td>256</td>\n",
       "      <td>0.888889</td>\n",
       "      <td>206</td>\n",
       "      <td>14963</td>\n",
       "      <td>...</td>\n",
       "      <td>MTLFVQQLANGLALGGIYCLAAIGLTLVFGVLGFPNLAHGALYMLG...</td>\n",
       "      <td>MSDFLQYLISGLAVGCGFALLASGLVTIHRVTHVVNFAQGMFAVVA...</td>\n",
       "      <td>branched-chain amino acid ABC transporter perm...</td>\n",
       "      <td>branched-chain amino acid ABC transporter perm...</td>\n",
       "      <td>288</td>\n",
       "      <td>287</td>\n",
       "      <td>10</td>\n",
       "      <td>1</td>\n",
       "      <td>1.000000</td>\n",
       "      <td>1</td>\n",
       "    </tr>\n",
       "    <tr>\n",
       "      <th>...</th>\n",
       "      <td>...</td>\n",
       "      <td>...</td>\n",
       "      <td>...</td>\n",
       "      <td>...</td>\n",
       "      <td>...</td>\n",
       "      <td>...</td>\n",
       "      <td>...</td>\n",
       "      <td>...</td>\n",
       "      <td>...</td>\n",
       "      <td>...</td>\n",
       "      <td>...</td>\n",
       "      <td>...</td>\n",
       "      <td>...</td>\n",
       "      <td>...</td>\n",
       "      <td>...</td>\n",
       "      <td>...</td>\n",
       "      <td>...</td>\n",
       "      <td>...</td>\n",
       "      <td>...</td>\n",
       "      <td>...</td>\n",
       "      <td>...</td>\n",
       "    </tr>\n",
       "    <tr>\n",
       "      <th>17103</th>\n",
       "      <td>49991</td>\n",
       "      <td>0.300000</td>\n",
       "      <td>0.300000</td>\n",
       "      <td>0.104803</td>\n",
       "      <td>80</td>\n",
       "      <td>1.000000</td>\n",
       "      <td>79</td>\n",
       "      <td>0.208995</td>\n",
       "      <td>104</td>\n",
       "      <td>4107</td>\n",
       "      <td>...</td>\n",
       "      <td>MKVLIIDDEKAMHLIMKRMLAKVADVEVVESFLETAPAFSYLANHE...</td>\n",
       "      <td>MKAIIVDDEPMTRSGLRRFVDWEGLGIEVAGEAEDGIEAYERFVQV...</td>\n",
       "      <td>response regulator</td>\n",
       "      <td>response regulator</td>\n",
       "      <td>378</td>\n",
       "      <td>80</td>\n",
       "      <td>4871</td>\n",
       "      <td>1</td>\n",
       "      <td>0.333333</td>\n",
       "      <td>1</td>\n",
       "    </tr>\n",
       "    <tr>\n",
       "      <th>17104</th>\n",
       "      <td>49995</td>\n",
       "      <td>0.344828</td>\n",
       "      <td>0.169972</td>\n",
       "      <td>0.192308</td>\n",
       "      <td>180</td>\n",
       "      <td>0.509915</td>\n",
       "      <td>200</td>\n",
       "      <td>0.738007</td>\n",
       "      <td>53</td>\n",
       "      <td>14963</td>\n",
       "      <td>...</td>\n",
       "      <td>MDNATFRLGDDLSVRLPGHSRWIGQVEREQRWLPWLAPRLPLTVST...</td>\n",
       "      <td>MPPQPRPLRPNDPREIGGFALLGRLGEGGQGTVYLGGAPDGRRVAV...</td>\n",
       "      <td>aminoglycoside phosphotransferase family protein</td>\n",
       "      <td>serine/threonine protein kinase</td>\n",
       "      <td>271</td>\n",
       "      <td>353</td>\n",
       "      <td>4875</td>\n",
       "      <td>0</td>\n",
       "      <td>0.250000</td>\n",
       "      <td>0</td>\n",
       "    </tr>\n",
       "    <tr>\n",
       "      <th>17105</th>\n",
       "      <td>49997</td>\n",
       "      <td>0.352174</td>\n",
       "      <td>0.239645</td>\n",
       "      <td>0.242152</td>\n",
       "      <td>230</td>\n",
       "      <td>0.680473</td>\n",
       "      <td>227</td>\n",
       "      <td>0.685801</td>\n",
       "      <td>279</td>\n",
       "      <td>7134</td>\n",
       "      <td>...</td>\n",
       "      <td>MIRLAELTKTYPGQQHPAVDGISMEVAEGEIVVLVGPSGCGKTTTL...</td>\n",
       "      <td>MTEQPILSARGLTVDFRLRGGRRARAVDGVDLDLAPGEVLALAGES...</td>\n",
       "      <td>ABC transporter ATP-binding protein</td>\n",
       "      <td>ABC transporter ATP-binding protein</td>\n",
       "      <td>331</td>\n",
       "      <td>338</td>\n",
       "      <td>4877</td>\n",
       "      <td>0</td>\n",
       "      <td>0.250000</td>\n",
       "      <td>0</td>\n",
       "    </tr>\n",
       "    <tr>\n",
       "      <th>17106</th>\n",
       "      <td>49998</td>\n",
       "      <td>0.334764</td>\n",
       "      <td>0.331915</td>\n",
       "      <td>0.329810</td>\n",
       "      <td>232</td>\n",
       "      <td>0.987234</td>\n",
       "      <td>230</td>\n",
       "      <td>0.966387</td>\n",
       "      <td>281</td>\n",
       "      <td>11324</td>\n",
       "      <td>...</td>\n",
       "      <td>MSESHAGALLSVRGLTAGYGGATALDGVSLTVAAGETVALLGANGA...</td>\n",
       "      <td>MSLLTTSGLTRHFSGIHAVEGVDFTLEAGEIRALIGSNGAGKTTLV...</td>\n",
       "      <td>ABC transporter ATP-binding protein</td>\n",
       "      <td>ABC transporter ATP-binding protein</td>\n",
       "      <td>238</td>\n",
       "      <td>235</td>\n",
       "      <td>4878</td>\n",
       "      <td>1</td>\n",
       "      <td>0.500000</td>\n",
       "      <td>1</td>\n",
       "    </tr>\n",
       "    <tr>\n",
       "      <th>17107</th>\n",
       "      <td>49999</td>\n",
       "      <td>0.336207</td>\n",
       "      <td>0.184834</td>\n",
       "      <td>0.174497</td>\n",
       "      <td>113</td>\n",
       "      <td>0.535545</td>\n",
       "      <td>117</td>\n",
       "      <td>0.495763</td>\n",
       "      <td>165</td>\n",
       "      <td>7134</td>\n",
       "      <td>...</td>\n",
       "      <td>MTGQGASGSETGVSDDSPITVVVVDDQELLRTGLRDLAEHDGDIAV...</td>\n",
       "      <td>MTTEAQPRRVVLAEDEALIRLDLAEMLAEEGYEVVGQAADGETALA...</td>\n",
       "      <td>response regulator transcription factor</td>\n",
       "      <td>response regulator</td>\n",
       "      <td>236</td>\n",
       "      <td>211</td>\n",
       "      <td>4879</td>\n",
       "      <td>0</td>\n",
       "      <td>0.250000</td>\n",
       "      <td>0</td>\n",
       "    </tr>\n",
       "  </tbody>\n",
       "</table>\n",
       "<p>17108 rows × 34 columns</p>\n",
       "</div>"
      ],
      "text/plain": [
       "       Unnamed: 0_x  local_gap_compressed_percent_id  \\\n",
       "0                 0                         0.287582   \n",
       "1                 3                         0.327273   \n",
       "2                 6                         0.283582   \n",
       "3                 8                         0.265306   \n",
       "4                10                         0.334630   \n",
       "...             ...                              ...   \n",
       "17103         49991                         0.300000   \n",
       "17104         49995                         0.344828   \n",
       "17105         49997                         0.352174   \n",
       "17106         49998                         0.334764   \n",
       "17107         49999                         0.336207   \n",
       "\n",
       "       scaled_local_query_percent_id  scaled_local_symmetric_percent_id  \\\n",
       "0                           0.217822                           0.215686   \n",
       "1                           0.200743                           0.214712   \n",
       "2                           0.231707                           0.240506   \n",
       "3                           0.201550                           0.210243   \n",
       "4                           0.299652                           0.299130   \n",
       "...                              ...                                ...   \n",
       "17103                       0.300000                           0.104803   \n",
       "17104                       0.169972                           0.192308   \n",
       "17105                       0.239645                           0.242152   \n",
       "17106                       0.331915                           0.329810   \n",
       "17107                       0.184834                           0.174497   \n",
       "\n",
       "       query_align_len  query_align_cov  subject_align_len  subject_align_cov  \\\n",
       "0                  160         0.792079                152           0.737864   \n",
       "1                  166         0.617100                163           0.696581   \n",
       "2                  133         0.810976                134           0.881579   \n",
       "3                  320         0.826873                294           0.828169   \n",
       "4                  253         0.881533                256           0.888889   \n",
       "...                ...              ...                ...                ...   \n",
       "17103               80         1.000000                 79           0.208995   \n",
       "17104              180         0.509915                200           0.738007   \n",
       "17105              230         0.680473                227           0.685801   \n",
       "17106              232         0.987234                230           0.966387   \n",
       "17107              113         0.535545                117           0.495763   \n",
       "\n",
       "       bit_score  thermo_index  ...  \\\n",
       "0            131           875  ...   \n",
       "1            175           875  ...   \n",
       "2             99          7134  ...   \n",
       "3            140          1674  ...   \n",
       "4            206         14963  ...   \n",
       "...          ...           ...  ...   \n",
       "17103        104          4107  ...   \n",
       "17104         53         14963  ...   \n",
       "17105        279          7134  ...   \n",
       "17106        281         11324  ...   \n",
       "17107        165          7134  ...   \n",
       "\n",
       "                                           m_protein_seq  \\\n",
       "0      MAESGTSRRADHLVPVPGPDAEPPAVADELLRAVGRGDEQAFGRLY...   \n",
       "1      MTSGLWERVLDGVWVTIQLLVLSALLATAVSFVVGIARTHRLWIVR...   \n",
       "2      MGSTDRPDLAAMLAPLTRTLIAMERPVLETYGLTMWAYSVLVALSR...   \n",
       "3      MSITTKEKRFGIIERYREFLPVTENTPKLTLHEGDTPLIHAASLSA...   \n",
       "4      MTLFVQQLANGLALGGIYCLAAIGLTLVFGVLGFPNLAHGALYMLG...   \n",
       "...                                                  ...   \n",
       "17103  MKVLIIDDEKAMHLIMKRMLAKVADVEVVESFLETAPAFSYLANHE...   \n",
       "17104  MDNATFRLGDDLSVRLPGHSRWIGQVEREQRWLPWLAPRLPLTVST...   \n",
       "17105  MIRLAELTKTYPGQQHPAVDGISMEVAEGEIVVLVGPSGCGKTTTL...   \n",
       "17106  MSESHAGALLSVRGLTAGYGGATALDGVSLTVAAGETVALLGANGA...   \n",
       "17107  MTGQGASGSETGVSDDSPITVVVVDDQELLRTGLRDLAEHDGDIAV...   \n",
       "\n",
       "                                           t_protein_seq  \\\n",
       "0      MPSQITESERIELAERFERDALPLLDQLYSAALRMTRNPADAEDLV...   \n",
       "1      MAMSRRKRGQLARGIQYAILVIVVVVLALLADWGKIGKAFFDWEAA...   \n",
       "2      MGHKDELIARIQRAEREFRRSVVSQAATDFFSVDLTMPQLRVVFFL...   \n",
       "3      MSGVEIEKGYFGQFGGSFVFPELQEVLDYLAEQFERYKDDPEFKQE...   \n",
       "4      MSDFLQYLISGLAVGCGFALLASGLVTIHRVTHVVNFAQGMFAVVA...   \n",
       "...                                                  ...   \n",
       "17103  MKAIIVDDEPMTRSGLRRFVDWEGLGIEVAGEAEDGIEAYERFVQV...   \n",
       "17104  MPPQPRPLRPNDPREIGGFALLGRLGEGGQGTVYLGGAPDGRRVAV...   \n",
       "17105  MTEQPILSARGLTVDFRLRGGRRARAVDGVDLDLAPGEVLALAGES...   \n",
       "17106  MSLLTTSGLTRHFSGIHAVEGVDFTLEAGEIRALIGSNGAGKTTLV...   \n",
       "17107  MTTEAQPRRVVLAEDEALIRLDLAEMLAEEGYEVVGQAADGETALA...   \n",
       "\n",
       "                                          m_protein_desc  \\\n",
       "0                   ECF RNA polymerase sigma factor SigK   \n",
       "1      ectoine/hydroxyectoine ABC transporter permeas...   \n",
       "2                  MarR family transcriptional regulator   \n",
       "3                                     threonine synthase   \n",
       "4      branched-chain amino acid ABC transporter perm...   \n",
       "...                                                  ...   \n",
       "17103                                 response regulator   \n",
       "17104   aminoglycoside phosphotransferase family protein   \n",
       "17105                ABC transporter ATP-binding protein   \n",
       "17106                ABC transporter ATP-binding protein   \n",
       "17107            response regulator transcription factor   \n",
       "\n",
       "                                          t_protein_desc  m_protein_len  \\\n",
       "0            sigma-70 family RNA polymerase sigma factor            206   \n",
       "1                    amino acid ABC transporter permease            234   \n",
       "2                  MarR family transcriptional regulator            152   \n",
       "3                       tryptophan synthase subunit beta            355   \n",
       "4      branched-chain amino acid ABC transporter perm...            288   \n",
       "...                                                  ...            ...   \n",
       "17103                                 response regulator            378   \n",
       "17104                    serine/threonine protein kinase            271   \n",
       "17105                ABC transporter ATP-binding protein            331   \n",
       "17106                ABC transporter ATP-binding protein            238   \n",
       "17107                                 response regulator            236   \n",
       "\n",
       "       t_protein_len  Unnamed: 0_y  protein_match  Jaccard_Score  \\\n",
       "0                202             0              1       1.000000   \n",
       "1                269             3              1       1.000000   \n",
       "2                164             6              1       1.000000   \n",
       "3                387             8              1       1.000000   \n",
       "4                287            10              1       1.000000   \n",
       "...              ...           ...            ...            ...   \n",
       "17103             80          4871              1       0.333333   \n",
       "17104            353          4875              0       0.250000   \n",
       "17105            338          4877              0       0.250000   \n",
       "17106            235          4878              1       0.500000   \n",
       "17107            211          4879              0       0.250000   \n",
       "\n",
       "       structure_match  \n",
       "0                    1  \n",
       "1                    1  \n",
       "2                    1  \n",
       "3                    1  \n",
       "4                    1  \n",
       "...                ...  \n",
       "17103                1  \n",
       "17104                0  \n",
       "17105                0  \n",
       "17106                1  \n",
       "17107                0  \n",
       "\n",
       "[17108 rows x 34 columns]"
      ]
     },
     "execution_count": 77,
     "metadata": {},
     "output_type": "execute_result"
    }
   ],
   "source": [
    "df"
   ]
  },
  {
   "cell_type": "code",
   "execution_count": 78,
   "id": "337f87aa",
   "metadata": {},
   "outputs": [
    {
     "data": {
      "text/html": [
       "<div>\n",
       "<style scoped>\n",
       "    .dataframe tbody tr th:only-of-type {\n",
       "        vertical-align: middle;\n",
       "    }\n",
       "\n",
       "    .dataframe tbody tr th {\n",
       "        vertical-align: top;\n",
       "    }\n",
       "\n",
       "    .dataframe thead th {\n",
       "        text-align: right;\n",
       "    }\n",
       "</style>\n",
       "<table border=\"1\" class=\"dataframe\">\n",
       "  <thead>\n",
       "    <tr style=\"text-align: right;\">\n",
       "      <th></th>\n",
       "      <th>m_protein_seq</th>\n",
       "      <th>t_protein_seq</th>\n",
       "      <th>prot_pair_index</th>\n",
       "    </tr>\n",
       "  </thead>\n",
       "  <tbody>\n",
       "    <tr>\n",
       "      <th>0</th>\n",
       "      <td>MAESGTSRRADHLVPVPGPDAEPPAVADELLRAVGRGDEQAFGRLY...</td>\n",
       "      <td>MPSQITESERIELAERFERDALPLLDQLYSAALRMTRNPADAEDLV...</td>\n",
       "      <td>48641291</td>\n",
       "    </tr>\n",
       "    <tr>\n",
       "      <th>1</th>\n",
       "      <td>MTSGLWERVLDGVWVTIQLLVLSALLATAVSFVVGIARTHRLWIVR...</td>\n",
       "      <td>MAMSRRKRGQLARGIQYAILVIVVVVLALLADWGKIGKAFFDWEAA...</td>\n",
       "      <td>136708305</td>\n",
       "    </tr>\n",
       "    <tr>\n",
       "      <th>2</th>\n",
       "      <td>MGSTDRPDLAAMLAPLTRTLIAMERPVLETYGLTMWAYSVLVALSR...</td>\n",
       "      <td>MGHKDELIARIQRAEREFRRSVVSQAATDFFSVDLTMPQLRVVFFL...</td>\n",
       "      <td>24980629</td>\n",
       "    </tr>\n",
       "    <tr>\n",
       "      <th>3</th>\n",
       "      <td>MSITTKEKRFGIIERYREFLPVTENTPKLTLHEGDTPLIHAASLSA...</td>\n",
       "      <td>MSGVEIEKGYFGQFGGSFVFPELQEVLDYLAEQFERYKDDPEFKQE...</td>\n",
       "      <td>180139301</td>\n",
       "    </tr>\n",
       "    <tr>\n",
       "      <th>4</th>\n",
       "      <td>MTLFVQQLANGLALGGIYCLAAIGLTLVFGVLGFPNLAHGALYMLG...</td>\n",
       "      <td>MSDFLQYLISGLAVGCGFALLASGLVTIHRVTHVVNFAQGMFAVVA...</td>\n",
       "      <td>85953105</td>\n",
       "    </tr>\n",
       "    <tr>\n",
       "      <th>...</th>\n",
       "      <td>...</td>\n",
       "      <td>...</td>\n",
       "      <td>...</td>\n",
       "    </tr>\n",
       "    <tr>\n",
       "      <th>17103</th>\n",
       "      <td>MKVLIIDDEKAMHLIMKRMLAKVADVEVVESFLETAPAFSYLANHE...</td>\n",
       "      <td>MKAIIVDDEPMTRSGLRRFVDWEGLGIEVAGEAEDGIEAYERFVQV...</td>\n",
       "      <td>4681374</td>\n",
       "    </tr>\n",
       "    <tr>\n",
       "      <th>17104</th>\n",
       "      <td>MDNATFRLGDDLSVRLPGHSRWIGQVEREQRWLPWLAPRLPLTVST...</td>\n",
       "      <td>MPPQPRPLRPNDPREIGGFALLGRLGEGGQGTVYLGGAPDGRRVAV...</td>\n",
       "      <td>78849058</td>\n",
       "    </tr>\n",
       "    <tr>\n",
       "      <th>17105</th>\n",
       "      <td>MIRLAELTKTYPGQQHPAVDGISMEVAEGEIVVLVGPSGCGKTTTL...</td>\n",
       "      <td>MTEQPILSARGLTVDFRLRGGRRARAVDGVDLDLAPGEVLALAGES...</td>\n",
       "      <td>161110219</td>\n",
       "    </tr>\n",
       "    <tr>\n",
       "      <th>17106</th>\n",
       "      <td>MSESHAGALLSVRGLTAGYGGATALDGVSLTVAAGETVALLGANGA...</td>\n",
       "      <td>MSLLTTSGLTRHFSGIHAVEGVDFTLEAGEIRALIGSNGAGKTTLV...</td>\n",
       "      <td>74177185</td>\n",
       "    </tr>\n",
       "    <tr>\n",
       "      <th>17107</th>\n",
       "      <td>MTGQGASGSETGVSDDSPITVVVVDDQELLRTGLRDLAEHDGDIAV...</td>\n",
       "      <td>MTTEAQPRRVVLAEDEALIRLDLAEMLAEEGYEVVGQAADGETALA...</td>\n",
       "      <td>143737378</td>\n",
       "    </tr>\n",
       "  </tbody>\n",
       "</table>\n",
       "<p>17108 rows × 3 columns</p>\n",
       "</div>"
      ],
      "text/plain": [
       "                                           m_protein_seq  \\\n",
       "0      MAESGTSRRADHLVPVPGPDAEPPAVADELLRAVGRGDEQAFGRLY...   \n",
       "1      MTSGLWERVLDGVWVTIQLLVLSALLATAVSFVVGIARTHRLWIVR...   \n",
       "2      MGSTDRPDLAAMLAPLTRTLIAMERPVLETYGLTMWAYSVLVALSR...   \n",
       "3      MSITTKEKRFGIIERYREFLPVTENTPKLTLHEGDTPLIHAASLSA...   \n",
       "4      MTLFVQQLANGLALGGIYCLAAIGLTLVFGVLGFPNLAHGALYMLG...   \n",
       "...                                                  ...   \n",
       "17103  MKVLIIDDEKAMHLIMKRMLAKVADVEVVESFLETAPAFSYLANHE...   \n",
       "17104  MDNATFRLGDDLSVRLPGHSRWIGQVEREQRWLPWLAPRLPLTVST...   \n",
       "17105  MIRLAELTKTYPGQQHPAVDGISMEVAEGEIVVLVGPSGCGKTTTL...   \n",
       "17106  MSESHAGALLSVRGLTAGYGGATALDGVSLTVAAGETVALLGANGA...   \n",
       "17107  MTGQGASGSETGVSDDSPITVVVVDDQELLRTGLRDLAEHDGDIAV...   \n",
       "\n",
       "                                           t_protein_seq  prot_pair_index  \n",
       "0      MPSQITESERIELAERFERDALPLLDQLYSAALRMTRNPADAEDLV...         48641291  \n",
       "1      MAMSRRKRGQLARGIQYAILVIVVVVLALLADWGKIGKAFFDWEAA...        136708305  \n",
       "2      MGHKDELIARIQRAEREFRRSVVSQAATDFFSVDLTMPQLRVVFFL...         24980629  \n",
       "3      MSGVEIEKGYFGQFGGSFVFPELQEVLDYLAEQFERYKDDPEFKQE...        180139301  \n",
       "4      MSDFLQYLISGLAVGCGFALLASGLVTIHRVTHVVNFAQGMFAVVA...         85953105  \n",
       "...                                                  ...              ...  \n",
       "17103  MKAIIVDDEPMTRSGLRRFVDWEGLGIEVAGEAEDGIEAYERFVQV...          4681374  \n",
       "17104  MPPQPRPLRPNDPREIGGFALLGRLGEGGQGTVYLGGAPDGRRVAV...         78849058  \n",
       "17105  MTEQPILSARGLTVDFRLRGGRRARAVDGVDLDLAPGEVLALAGES...        161110219  \n",
       "17106  MSLLTTSGLTRHFSGIHAVEGVDFTLEAGEIRALIGSNGAGKTTLV...         74177185  \n",
       "17107  MTTEAQPRRVVLAEDEALIRLDLAEMLAEEGYEVVGQAADGETALA...        143737378  \n",
       "\n",
       "[17108 rows x 3 columns]"
      ]
     },
     "execution_count": 78,
     "metadata": {},
     "output_type": "execute_result"
    }
   ],
   "source": [
    "df_seqs = df[['m_protein_seq', 't_protein_seq', 'prot_pair_index']]\n",
    "df_seqs"
   ]
  },
  {
   "cell_type": "code",
   "execution_count": 79,
   "id": "084d9561",
   "metadata": {},
   "outputs": [],
   "source": [
    "#get rid of stuff that isn't quantitative\n",
    "\n",
    "df = df.drop(columns = ['Unnamed: 0_x', 'Unnamed: 0_y','thermo_index', 'm_protein_seq', 't_protein_seq',\n",
    "                        'm_protein_desc', 't_protein_desc'])"
   ]
  },
  {
   "cell_type": "code",
   "execution_count": 80,
   "id": "eea27e6c",
   "metadata": {
    "scrolled": true
   },
   "outputs": [
    {
     "data": {
      "text/plain": [
       "Index(['local_gap_compressed_percent_id', 'scaled_local_query_percent_id',\n",
       "       'scaled_local_symmetric_percent_id', 'query_align_len',\n",
       "       'query_align_cov', 'subject_align_len', 'subject_align_cov',\n",
       "       'bit_score', 'meso_index', 'prot_pair_index', 'meso_protein_int_index',\n",
       "       'thermo_protein_int_index', 'taxa_pair_index',\n",
       "       'local_gap_compressed_percent_id_16s',\n",
       "       'scaled_local_query_percent_id_16s',\n",
       "       'scaled_local_symmetric_percent_id_16s', 'query_align_cov_16s',\n",
       "       'subject_align_cov_16s', 'bit_score_16s', 'm_ogt', 't_ogt',\n",
       "       'ogt_difference', 'm_protein_len', 't_protein_len', 'protein_match',\n",
       "       'Jaccard_Score', 'structure_match'],\n",
       "      dtype='object')"
      ]
     },
     "execution_count": 80,
     "metadata": {},
     "output_type": "execute_result"
    }
   ],
   "source": [
    "df.columns"
   ]
  },
  {
   "attachments": {},
   "cell_type": "markdown",
   "id": "07cc3a80",
   "metadata": {},
   "source": [
    "From pairplot below, it looks like query_align_cov_16s and subject_align_cov_16s dont correlate with target. Let's remove them."
   ]
  },
  {
   "cell_type": "code",
   "execution_count": 81,
   "id": "36d8dadb",
   "metadata": {
    "scrolled": true
   },
   "outputs": [],
   "source": [
    "# sns.pairplot(df.sample(500),height = 4)"
   ]
  },
  {
   "cell_type": "code",
   "execution_count": 82,
   "id": "91079edd",
   "metadata": {},
   "outputs": [],
   "source": [
    "df = df.drop(columns = ['query_align_cov_16s', 'subject_align_cov_16s'])"
   ]
  },
  {
   "cell_type": "code",
   "execution_count": 83,
   "id": "7929625e",
   "metadata": {
    "scrolled": false
   },
   "outputs": [
    {
     "data": {
      "text/html": [
       "<div>\n",
       "<style scoped>\n",
       "    .dataframe tbody tr th:only-of-type {\n",
       "        vertical-align: middle;\n",
       "    }\n",
       "\n",
       "    .dataframe tbody tr th {\n",
       "        vertical-align: top;\n",
       "    }\n",
       "\n",
       "    .dataframe thead th {\n",
       "        text-align: right;\n",
       "    }\n",
       "</style>\n",
       "<table border=\"1\" class=\"dataframe\">\n",
       "  <thead>\n",
       "    <tr style=\"text-align: right;\">\n",
       "      <th></th>\n",
       "      <th>local_gap_compressed_percent_id</th>\n",
       "      <th>scaled_local_query_percent_id</th>\n",
       "      <th>scaled_local_symmetric_percent_id</th>\n",
       "      <th>query_align_len</th>\n",
       "      <th>query_align_cov</th>\n",
       "      <th>subject_align_len</th>\n",
       "      <th>subject_align_cov</th>\n",
       "      <th>bit_score</th>\n",
       "      <th>meso_index</th>\n",
       "      <th>prot_pair_index</th>\n",
       "      <th>...</th>\n",
       "      <th>scaled_local_symmetric_percent_id_16s</th>\n",
       "      <th>bit_score_16s</th>\n",
       "      <th>m_ogt</th>\n",
       "      <th>t_ogt</th>\n",
       "      <th>ogt_difference</th>\n",
       "      <th>m_protein_len</th>\n",
       "      <th>t_protein_len</th>\n",
       "      <th>protein_match</th>\n",
       "      <th>Jaccard_Score</th>\n",
       "      <th>structure_match</th>\n",
       "    </tr>\n",
       "  </thead>\n",
       "  <tbody>\n",
       "    <tr>\n",
       "      <th>count</th>\n",
       "      <td>17108.000000</td>\n",
       "      <td>17108.000000</td>\n",
       "      <td>17108.000000</td>\n",
       "      <td>17108.000000</td>\n",
       "      <td>17108.000000</td>\n",
       "      <td>17108.000000</td>\n",
       "      <td>17108.000000</td>\n",
       "      <td>17108.000000</td>\n",
       "      <td>17108.000000</td>\n",
       "      <td>1.710800e+04</td>\n",
       "      <td>...</td>\n",
       "      <td>17108.000000</td>\n",
       "      <td>17108.000000</td>\n",
       "      <td>17108.000000</td>\n",
       "      <td>17108.000000</td>\n",
       "      <td>17108.000000</td>\n",
       "      <td>17108.000000</td>\n",
       "      <td>17108.000000</td>\n",
       "      <td>17108.000000</td>\n",
       "      <td>17108.000000</td>\n",
       "      <td>17108.000000</td>\n",
       "    </tr>\n",
       "    <tr>\n",
       "      <th>mean</th>\n",
       "      <td>0.335960</td>\n",
       "      <td>0.254207</td>\n",
       "      <td>0.246763</td>\n",
       "      <td>199.749766</td>\n",
       "      <td>0.760478</td>\n",
       "      <td>198.875789</td>\n",
       "      <td>0.731641</td>\n",
       "      <td>206.390519</td>\n",
       "      <td>8151.457330</td>\n",
       "      <td>9.168915e+07</td>\n",
       "      <td>...</td>\n",
       "      <td>0.904792</td>\n",
       "      <td>1060.500292</td>\n",
       "      <td>27.393149</td>\n",
       "      <td>51.562661</td>\n",
       "      <td>24.169511</td>\n",
       "      <td>277.264613</td>\n",
       "      <td>264.340133</td>\n",
       "      <td>0.500000</td>\n",
       "      <td>0.455235</td>\n",
       "      <td>0.500000</td>\n",
       "    </tr>\n",
       "    <tr>\n",
       "      <th>std</th>\n",
       "      <td>0.083039</td>\n",
       "      <td>0.100449</td>\n",
       "      <td>0.102609</td>\n",
       "      <td>59.839303</td>\n",
       "      <td>0.145881</td>\n",
       "      <td>60.176431</td>\n",
       "      <td>0.191291</td>\n",
       "      <td>161.014702</td>\n",
       "      <td>4609.513802</td>\n",
       "      <td>5.232882e+07</td>\n",
       "      <td>...</td>\n",
       "      <td>0.015275</td>\n",
       "      <td>75.661947</td>\n",
       "      <td>3.722314</td>\n",
       "      <td>3.822445</td>\n",
       "      <td>3.628175</td>\n",
       "      <td>62.922187</td>\n",
       "      <td>68.440077</td>\n",
       "      <td>0.500015</td>\n",
       "      <td>0.340461</td>\n",
       "      <td>0.500015</td>\n",
       "    </tr>\n",
       "    <tr>\n",
       "      <th>min</th>\n",
       "      <td>0.179012</td>\n",
       "      <td>0.081301</td>\n",
       "      <td>0.045977</td>\n",
       "      <td>23.000000</td>\n",
       "      <td>0.284553</td>\n",
       "      <td>23.000000</td>\n",
       "      <td>0.091575</td>\n",
       "      <td>35.000000</td>\n",
       "      <td>5.000000</td>\n",
       "      <td>8.557000e+03</td>\n",
       "      <td>...</td>\n",
       "      <td>0.880026</td>\n",
       "      <td>891.000000</td>\n",
       "      <td>7.000000</td>\n",
       "      <td>41.000000</td>\n",
       "      <td>20.000000</td>\n",
       "      <td>32.000000</td>\n",
       "      <td>27.000000</td>\n",
       "      <td>0.000000</td>\n",
       "      <td>0.000000</td>\n",
       "      <td>0.000000</td>\n",
       "    </tr>\n",
       "    <tr>\n",
       "      <th>25%</th>\n",
       "      <td>0.290323</td>\n",
       "      <td>0.193277</td>\n",
       "      <td>0.188552</td>\n",
       "      <td>167.000000</td>\n",
       "      <td>0.637789</td>\n",
       "      <td>166.000000</td>\n",
       "      <td>0.611562</td>\n",
       "      <td>108.000000</td>\n",
       "      <td>4162.000000</td>\n",
       "      <td>4.678179e+07</td>\n",
       "      <td>...</td>\n",
       "      <td>0.893249</td>\n",
       "      <td>1008.000000</td>\n",
       "      <td>27.500000</td>\n",
       "      <td>50.000000</td>\n",
       "      <td>22.000000</td>\n",
       "      <td>239.000000</td>\n",
       "      <td>227.000000</td>\n",
       "      <td>0.000000</td>\n",
       "      <td>0.200000</td>\n",
       "      <td>0.000000</td>\n",
       "    </tr>\n",
       "    <tr>\n",
       "      <th>50%</th>\n",
       "      <td>0.318681</td>\n",
       "      <td>0.233227</td>\n",
       "      <td>0.229226</td>\n",
       "      <td>207.000000</td>\n",
       "      <td>0.761317</td>\n",
       "      <td>207.000000</td>\n",
       "      <td>0.757455</td>\n",
       "      <td>178.000000</td>\n",
       "      <td>8142.000000</td>\n",
       "      <td>9.300390e+07</td>\n",
       "      <td>...</td>\n",
       "      <td>0.903417</td>\n",
       "      <td>1055.000000</td>\n",
       "      <td>28.000000</td>\n",
       "      <td>52.500000</td>\n",
       "      <td>24.500000</td>\n",
       "      <td>271.000000</td>\n",
       "      <td>261.000000</td>\n",
       "      <td>0.500000</td>\n",
       "      <td>0.320513</td>\n",
       "      <td>0.500000</td>\n",
       "    </tr>\n",
       "    <tr>\n",
       "      <th>75%</th>\n",
       "      <td>0.353659</td>\n",
       "      <td>0.282964</td>\n",
       "      <td>0.274194</td>\n",
       "      <td>231.000000</td>\n",
       "      <td>0.890688</td>\n",
       "      <td>230.000000</td>\n",
       "      <td>0.891566</td>\n",
       "      <td>245.000000</td>\n",
       "      <td>12205.000000</td>\n",
       "      <td>1.368311e+08</td>\n",
       "      <td>...</td>\n",
       "      <td>0.914689</td>\n",
       "      <td>1107.000000</td>\n",
       "      <td>30.000000</td>\n",
       "      <td>52.500000</td>\n",
       "      <td>24.500000</td>\n",
       "      <td>325.000000</td>\n",
       "      <td>315.000000</td>\n",
       "      <td>1.000000</td>\n",
       "      <td>0.750000</td>\n",
       "      <td>1.000000</td>\n",
       "    </tr>\n",
       "    <tr>\n",
       "      <th>max</th>\n",
       "      <td>0.985075</td>\n",
       "      <td>0.985075</td>\n",
       "      <td>0.985075</td>\n",
       "      <td>398.000000</td>\n",
       "      <td>1.000000</td>\n",
       "      <td>398.000000</td>\n",
       "      <td>1.000000</td>\n",
       "      <td>1675.000000</td>\n",
       "      <td>16345.000000</td>\n",
       "      <td>1.814866e+08</td>\n",
       "      <td>...</td>\n",
       "      <td>0.996439</td>\n",
       "      <td>1679.000000</td>\n",
       "      <td>40.000000</td>\n",
       "      <td>78.000000</td>\n",
       "      <td>56.000000</td>\n",
       "      <td>400.000000</td>\n",
       "      <td>400.000000</td>\n",
       "      <td>1.000000</td>\n",
       "      <td>1.000000</td>\n",
       "      <td>1.000000</td>\n",
       "    </tr>\n",
       "  </tbody>\n",
       "</table>\n",
       "<p>8 rows × 25 columns</p>\n",
       "</div>"
      ],
      "text/plain": [
       "       local_gap_compressed_percent_id  scaled_local_query_percent_id  \\\n",
       "count                     17108.000000                   17108.000000   \n",
       "mean                          0.335960                       0.254207   \n",
       "std                           0.083039                       0.100449   \n",
       "min                           0.179012                       0.081301   \n",
       "25%                           0.290323                       0.193277   \n",
       "50%                           0.318681                       0.233227   \n",
       "75%                           0.353659                       0.282964   \n",
       "max                           0.985075                       0.985075   \n",
       "\n",
       "       scaled_local_symmetric_percent_id  query_align_len  query_align_cov  \\\n",
       "count                       17108.000000     17108.000000     17108.000000   \n",
       "mean                            0.246763       199.749766         0.760478   \n",
       "std                             0.102609        59.839303         0.145881   \n",
       "min                             0.045977        23.000000         0.284553   \n",
       "25%                             0.188552       167.000000         0.637789   \n",
       "50%                             0.229226       207.000000         0.761317   \n",
       "75%                             0.274194       231.000000         0.890688   \n",
       "max                             0.985075       398.000000         1.000000   \n",
       "\n",
       "       subject_align_len  subject_align_cov     bit_score    meso_index  \\\n",
       "count       17108.000000       17108.000000  17108.000000  17108.000000   \n",
       "mean          198.875789           0.731641    206.390519   8151.457330   \n",
       "std            60.176431           0.191291    161.014702   4609.513802   \n",
       "min            23.000000           0.091575     35.000000      5.000000   \n",
       "25%           166.000000           0.611562    108.000000   4162.000000   \n",
       "50%           207.000000           0.757455    178.000000   8142.000000   \n",
       "75%           230.000000           0.891566    245.000000  12205.000000   \n",
       "max           398.000000           1.000000   1675.000000  16345.000000   \n",
       "\n",
       "       prot_pair_index  ...  scaled_local_symmetric_percent_id_16s  \\\n",
       "count     1.710800e+04  ...                           17108.000000   \n",
       "mean      9.168915e+07  ...                               0.904792   \n",
       "std       5.232882e+07  ...                               0.015275   \n",
       "min       8.557000e+03  ...                               0.880026   \n",
       "25%       4.678179e+07  ...                               0.893249   \n",
       "50%       9.300390e+07  ...                               0.903417   \n",
       "75%       1.368311e+08  ...                               0.914689   \n",
       "max       1.814866e+08  ...                               0.996439   \n",
       "\n",
       "       bit_score_16s         m_ogt         t_ogt  ogt_difference  \\\n",
       "count   17108.000000  17108.000000  17108.000000    17108.000000   \n",
       "mean     1060.500292     27.393149     51.562661       24.169511   \n",
       "std        75.661947      3.722314      3.822445        3.628175   \n",
       "min       891.000000      7.000000     41.000000       20.000000   \n",
       "25%      1008.000000     27.500000     50.000000       22.000000   \n",
       "50%      1055.000000     28.000000     52.500000       24.500000   \n",
       "75%      1107.000000     30.000000     52.500000       24.500000   \n",
       "max      1679.000000     40.000000     78.000000       56.000000   \n",
       "\n",
       "       m_protein_len  t_protein_len  protein_match  Jaccard_Score  \\\n",
       "count   17108.000000   17108.000000   17108.000000   17108.000000   \n",
       "mean      277.264613     264.340133       0.500000       0.455235   \n",
       "std        62.922187      68.440077       0.500015       0.340461   \n",
       "min        32.000000      27.000000       0.000000       0.000000   \n",
       "25%       239.000000     227.000000       0.000000       0.200000   \n",
       "50%       271.000000     261.000000       0.500000       0.320513   \n",
       "75%       325.000000     315.000000       1.000000       0.750000   \n",
       "max       400.000000     400.000000       1.000000       1.000000   \n",
       "\n",
       "       structure_match  \n",
       "count     17108.000000  \n",
       "mean          0.500000  \n",
       "std           0.500015  \n",
       "min           0.000000  \n",
       "25%           0.000000  \n",
       "50%           0.500000  \n",
       "75%           1.000000  \n",
       "max           1.000000  \n",
       "\n",
       "[8 rows x 25 columns]"
      ]
     },
     "execution_count": 83,
     "metadata": {},
     "output_type": "execute_result"
    }
   ],
   "source": [
    "df.describe()"
   ]
  },
  {
   "attachments": {},
   "cell_type": "markdown",
   "id": "90871d01",
   "metadata": {},
   "source": [
    "Split data into dev and test, and then split that into train and validation."
   ]
  },
  {
   "cell_type": "code",
   "execution_count": 84,
   "id": "6519dcaf",
   "metadata": {},
   "outputs": [],
   "source": [
    "#drop columns that don't exihibit signficant pearson correlation with bit_score\n",
    "\n",
    "df = df.drop(columns = ['meso_index', 'meso_protein_int_index', 'local_gap_compressed_percent_id_16s', \n",
    "                        'scaled_local_query_percent_id_16s', 'scaled_local_symmetric_percent_id_16s',\n",
    "                       'bit_score_16s', 'm_ogt', 't_ogt', 'taxa_pair_index', 'thermo_protein_int_index'\n",
    "                       , 'prot_pair_index', 'ogt_difference'])"
   ]
  },
  {
   "cell_type": "code",
   "execution_count": 85,
   "id": "b3b9a7c2",
   "metadata": {},
   "outputs": [],
   "source": [
    "df = df.drop(columns = ['Jaccard_Score'])\n"
   ]
  },
  {
   "cell_type": "code",
   "execution_count": 86,
   "id": "113e6608",
   "metadata": {},
   "outputs": [
    {
     "data": {
      "text/plain": [
       "Index(['local_gap_compressed_percent_id', 'scaled_local_query_percent_id',\n",
       "       'scaled_local_symmetric_percent_id', 'query_align_len',\n",
       "       'query_align_cov', 'subject_align_len', 'subject_align_cov',\n",
       "       'bit_score', 'm_protein_len', 't_protein_len', 'protein_match',\n",
       "       'structure_match'],\n",
       "      dtype='object')"
      ]
     },
     "execution_count": 86,
     "metadata": {},
     "output_type": "execute_result"
    }
   ],
   "source": [
    "df.columns"
   ]
  },
  {
   "cell_type": "code",
   "execution_count": 87,
   "id": "af9f23cf",
   "metadata": {
    "scrolled": true
   },
   "outputs": [
    {
     "name": "stdout",
     "output_type": "stream",
     "text": [
      "(14541, 12)\n",
      "(2567, 12)\n",
      "(12359, 12)\n",
      "(2182, 12)\n"
     ]
    }
   ],
   "source": [
    "#choosing 80/20 split instead of 85/15 because of volume of data\n",
    "\n",
    "dev, test = sklearn.model_selection.train_test_split(df, test_size=0.15, random_state=1)\n",
    "\n",
    "train, val = sklearn.model_selection.train_test_split(dev, test_size=0.15, random_state=1)\n",
    "\n",
    "print(dev.shape)\n",
    "print(test.shape)\n",
    "print(train.shape)\n",
    "print(val.shape)"
   ]
  },
  {
   "cell_type": "code",
   "execution_count": 88,
   "id": "8470550d",
   "metadata": {
    "scrolled": false
   },
   "outputs": [],
   "source": [
    "#ID target and features, separate into separate arrays\n",
    "\n",
    "target = [columns for columns in df[['protein_match', 'structure_match']]]\n",
    "input_features = [columns for columns in df.drop(columns=['protein_match', 'structure_match'])]"
   ]
  },
  {
   "cell_type": "code",
   "execution_count": 89,
   "id": "73c0a63f",
   "metadata": {},
   "outputs": [
    {
     "data": {
      "text/plain": [
       "['local_gap_compressed_percent_id',\n",
       " 'scaled_local_query_percent_id',\n",
       " 'scaled_local_symmetric_percent_id',\n",
       " 'query_align_len',\n",
       " 'query_align_cov',\n",
       " 'subject_align_len',\n",
       " 'subject_align_cov',\n",
       " 'bit_score',\n",
       " 'm_protein_len',\n",
       " 't_protein_len']"
      ]
     },
     "execution_count": 89,
     "metadata": {},
     "output_type": "execute_result"
    }
   ],
   "source": [
    "input_features"
   ]
  },
  {
   "cell_type": "code",
   "execution_count": 90,
   "id": "c62edd28",
   "metadata": {},
   "outputs": [
    {
     "name": "stdout",
     "output_type": "stream",
     "text": [
      "['local_gap_compressed_percent_id', 'scaled_local_query_percent_id', 'scaled_local_symmetric_percent_id', 'query_align_len', 'query_align_cov', 'subject_align_len', 'subject_align_cov', 'bit_score', 'm_protein_len', 't_protein_len']\n",
      "['protein_match', 'structure_match']\n"
     ]
    }
   ],
   "source": [
    "print(input_features)\n",
    "print(target)"
   ]
  },
  {
   "cell_type": "code",
   "execution_count": 91,
   "id": "1ab62bff",
   "metadata": {
    "scrolled": true
   },
   "outputs": [
    {
     "name": "stdout",
     "output_type": "stream",
     "text": [
      "(14541, 10) (2567, 10) (14541, 2) (2567, 2)\n"
     ]
    }
   ],
   "source": [
    "#split X and y\n",
    "\n",
    "dev_X = dev[input_features].values\n",
    "test_X = test[input_features].values\n",
    "\n",
    "dev_y = dev[target].values\n",
    "test_y = test[target].values\n",
    "\n",
    "print(dev_X.shape, test_X.shape, dev_y.shape, test_y.shape)"
   ]
  },
  {
   "cell_type": "code",
   "execution_count": 92,
   "id": "9ac52ac0",
   "metadata": {},
   "outputs": [],
   "source": [
    "#same thing for training and validation data\n",
    "\n",
    "train_X = train[input_features].values\n",
    "val_X = val[input_features].values\n",
    "\n",
    "train_y = train[target].values\n",
    "val_y = val[target].values"
   ]
  },
  {
   "attachments": {},
   "cell_type": "markdown",
   "id": "c374f2d7",
   "metadata": {},
   "source": [
    "Scale the data"
   ]
  },
  {
   "cell_type": "code",
   "execution_count": 93,
   "id": "2b48b2e5",
   "metadata": {
    "scrolled": false
   },
   "outputs": [],
   "source": [
    "scaler = sklearn.preprocessing.StandardScaler()\n",
    "dev_X = scaler.fit_transform(dev_X)\n",
    "test_X = scaler.fit_transform(test_X)\n",
    "train_X = scaler.fit_transform(train_X)\n",
    "val_X = scaler.fit_transform(val_X)"
   ]
  },
  {
   "attachments": {},
   "cell_type": "markdown",
   "id": "c3022371",
   "metadata": {},
   "source": [
    "Train the model"
   ]
  },
  {
   "cell_type": "code",
   "execution_count": 94,
   "id": "be4e09b0",
   "metadata": {},
   "outputs": [
    {
     "data": {
      "text/html": [
       "<style>#sk-container-id-5 {color: black;background-color: white;}#sk-container-id-5 pre{padding: 0;}#sk-container-id-5 div.sk-toggleable {background-color: white;}#sk-container-id-5 label.sk-toggleable__label {cursor: pointer;display: block;width: 100%;margin-bottom: 0;padding: 0.3em;box-sizing: border-box;text-align: center;}#sk-container-id-5 label.sk-toggleable__label-arrow:before {content: \"▸\";float: left;margin-right: 0.25em;color: #696969;}#sk-container-id-5 label.sk-toggleable__label-arrow:hover:before {color: black;}#sk-container-id-5 div.sk-estimator:hover label.sk-toggleable__label-arrow:before {color: black;}#sk-container-id-5 div.sk-toggleable__content {max-height: 0;max-width: 0;overflow: hidden;text-align: left;background-color: #f0f8ff;}#sk-container-id-5 div.sk-toggleable__content pre {margin: 0.2em;color: black;border-radius: 0.25em;background-color: #f0f8ff;}#sk-container-id-5 input.sk-toggleable__control:checked~div.sk-toggleable__content {max-height: 200px;max-width: 100%;overflow: auto;}#sk-container-id-5 input.sk-toggleable__control:checked~label.sk-toggleable__label-arrow:before {content: \"▾\";}#sk-container-id-5 div.sk-estimator input.sk-toggleable__control:checked~label.sk-toggleable__label {background-color: #d4ebff;}#sk-container-id-5 div.sk-label input.sk-toggleable__control:checked~label.sk-toggleable__label {background-color: #d4ebff;}#sk-container-id-5 input.sk-hidden--visually {border: 0;clip: rect(1px 1px 1px 1px);clip: rect(1px, 1px, 1px, 1px);height: 1px;margin: -1px;overflow: hidden;padding: 0;position: absolute;width: 1px;}#sk-container-id-5 div.sk-estimator {font-family: monospace;background-color: #f0f8ff;border: 1px dotted black;border-radius: 0.25em;box-sizing: border-box;margin-bottom: 0.5em;}#sk-container-id-5 div.sk-estimator:hover {background-color: #d4ebff;}#sk-container-id-5 div.sk-parallel-item::after {content: \"\";width: 100%;border-bottom: 1px solid gray;flex-grow: 1;}#sk-container-id-5 div.sk-label:hover label.sk-toggleable__label {background-color: #d4ebff;}#sk-container-id-5 div.sk-serial::before {content: \"\";position: absolute;border-left: 1px solid gray;box-sizing: border-box;top: 0;bottom: 0;left: 50%;z-index: 0;}#sk-container-id-5 div.sk-serial {display: flex;flex-direction: column;align-items: center;background-color: white;padding-right: 0.2em;padding-left: 0.2em;position: relative;}#sk-container-id-5 div.sk-item {position: relative;z-index: 1;}#sk-container-id-5 div.sk-parallel {display: flex;align-items: stretch;justify-content: center;background-color: white;position: relative;}#sk-container-id-5 div.sk-item::before, #sk-container-id-5 div.sk-parallel-item::before {content: \"\";position: absolute;border-left: 1px solid gray;box-sizing: border-box;top: 0;bottom: 0;left: 50%;z-index: -1;}#sk-container-id-5 div.sk-parallel-item {display: flex;flex-direction: column;z-index: 1;position: relative;background-color: white;}#sk-container-id-5 div.sk-parallel-item:first-child::after {align-self: flex-end;width: 50%;}#sk-container-id-5 div.sk-parallel-item:last-child::after {align-self: flex-start;width: 50%;}#sk-container-id-5 div.sk-parallel-item:only-child::after {width: 0;}#sk-container-id-5 div.sk-dashed-wrapped {border: 1px dashed gray;margin: 0 0.4em 0.5em 0.4em;box-sizing: border-box;padding-bottom: 0.4em;background-color: white;}#sk-container-id-5 div.sk-label label {font-family: monospace;font-weight: bold;display: inline-block;line-height: 1.2em;}#sk-container-id-5 div.sk-label-container {text-align: center;}#sk-container-id-5 div.sk-container {/* jupyter's `normalize.less` sets `[hidden] { display: none; }` but bootstrap.min.css set `[hidden] { display: none !important; }` so we also need the `!important` here to be able to override the default hidden behavior on the sphinx rendered scikit-learn.org. See: https://github.com/scikit-learn/scikit-learn/issues/21755 */display: inline-block !important;position: relative;}#sk-container-id-5 div.sk-text-repr-fallback {display: none;}</style><div id=\"sk-container-id-5\" class=\"sk-top-container\"><div class=\"sk-text-repr-fallback\"><pre>RandomForestClassifier()</pre><b>In a Jupyter environment, please rerun this cell to show the HTML representation or trust the notebook. <br />On GitHub, the HTML representation is unable to render, please try loading this page with nbviewer.org.</b></div><div class=\"sk-container\" hidden><div class=\"sk-item\"><div class=\"sk-estimator sk-toggleable\"><input class=\"sk-toggleable__control sk-hidden--visually\" id=\"sk-estimator-id-5\" type=\"checkbox\" checked><label for=\"sk-estimator-id-5\" class=\"sk-toggleable__label sk-toggleable__label-arrow\">RandomForestClassifier</label><div class=\"sk-toggleable__content\"><pre>RandomForestClassifier()</pre></div></div></div></div></div>"
      ],
      "text/plain": [
       "RandomForestClassifier()"
      ]
     },
     "execution_count": 94,
     "metadata": {},
     "output_type": "execute_result"
    }
   ],
   "source": [
    "#Random Forest\n",
    "\n",
    "model = sklearn.ensemble.RandomForestClassifier()\n",
    "model.fit(dev_X, dev_y)"
   ]
  },
  {
   "cell_type": "code",
   "execution_count": 95,
   "id": "b87faf14",
   "metadata": {},
   "outputs": [],
   "source": [
    "import joblib"
   ]
  },
  {
   "cell_type": "code",
   "execution_count": 96,
   "id": "5ad183bf",
   "metadata": {},
   "outputs": [
    {
     "data": {
      "text/plain": [
       "['trained_model.pkl']"
      ]
     },
     "execution_count": 96,
     "metadata": {},
     "output_type": "execute_result"
    }
   ],
   "source": [
    "joblib.dump(model, 'trained_model.pkl')"
   ]
  },
  {
   "cell_type": "code",
   "execution_count": 97,
   "id": "3e12d31d",
   "metadata": {},
   "outputs": [
    {
     "data": {
      "text/html": [
       "<style>#sk-container-id-6 {color: black;background-color: white;}#sk-container-id-6 pre{padding: 0;}#sk-container-id-6 div.sk-toggleable {background-color: white;}#sk-container-id-6 label.sk-toggleable__label {cursor: pointer;display: block;width: 100%;margin-bottom: 0;padding: 0.3em;box-sizing: border-box;text-align: center;}#sk-container-id-6 label.sk-toggleable__label-arrow:before {content: \"▸\";float: left;margin-right: 0.25em;color: #696969;}#sk-container-id-6 label.sk-toggleable__label-arrow:hover:before {color: black;}#sk-container-id-6 div.sk-estimator:hover label.sk-toggleable__label-arrow:before {color: black;}#sk-container-id-6 div.sk-toggleable__content {max-height: 0;max-width: 0;overflow: hidden;text-align: left;background-color: #f0f8ff;}#sk-container-id-6 div.sk-toggleable__content pre {margin: 0.2em;color: black;border-radius: 0.25em;background-color: #f0f8ff;}#sk-container-id-6 input.sk-toggleable__control:checked~div.sk-toggleable__content {max-height: 200px;max-width: 100%;overflow: auto;}#sk-container-id-6 input.sk-toggleable__control:checked~label.sk-toggleable__label-arrow:before {content: \"▾\";}#sk-container-id-6 div.sk-estimator input.sk-toggleable__control:checked~label.sk-toggleable__label {background-color: #d4ebff;}#sk-container-id-6 div.sk-label input.sk-toggleable__control:checked~label.sk-toggleable__label {background-color: #d4ebff;}#sk-container-id-6 input.sk-hidden--visually {border: 0;clip: rect(1px 1px 1px 1px);clip: rect(1px, 1px, 1px, 1px);height: 1px;margin: -1px;overflow: hidden;padding: 0;position: absolute;width: 1px;}#sk-container-id-6 div.sk-estimator {font-family: monospace;background-color: #f0f8ff;border: 1px dotted black;border-radius: 0.25em;box-sizing: border-box;margin-bottom: 0.5em;}#sk-container-id-6 div.sk-estimator:hover {background-color: #d4ebff;}#sk-container-id-6 div.sk-parallel-item::after {content: \"\";width: 100%;border-bottom: 1px solid gray;flex-grow: 1;}#sk-container-id-6 div.sk-label:hover label.sk-toggleable__label {background-color: #d4ebff;}#sk-container-id-6 div.sk-serial::before {content: \"\";position: absolute;border-left: 1px solid gray;box-sizing: border-box;top: 0;bottom: 0;left: 50%;z-index: 0;}#sk-container-id-6 div.sk-serial {display: flex;flex-direction: column;align-items: center;background-color: white;padding-right: 0.2em;padding-left: 0.2em;position: relative;}#sk-container-id-6 div.sk-item {position: relative;z-index: 1;}#sk-container-id-6 div.sk-parallel {display: flex;align-items: stretch;justify-content: center;background-color: white;position: relative;}#sk-container-id-6 div.sk-item::before, #sk-container-id-6 div.sk-parallel-item::before {content: \"\";position: absolute;border-left: 1px solid gray;box-sizing: border-box;top: 0;bottom: 0;left: 50%;z-index: -1;}#sk-container-id-6 div.sk-parallel-item {display: flex;flex-direction: column;z-index: 1;position: relative;background-color: white;}#sk-container-id-6 div.sk-parallel-item:first-child::after {align-self: flex-end;width: 50%;}#sk-container-id-6 div.sk-parallel-item:last-child::after {align-self: flex-start;width: 50%;}#sk-container-id-6 div.sk-parallel-item:only-child::after {width: 0;}#sk-container-id-6 div.sk-dashed-wrapped {border: 1px dashed gray;margin: 0 0.4em 0.5em 0.4em;box-sizing: border-box;padding-bottom: 0.4em;background-color: white;}#sk-container-id-6 div.sk-label label {font-family: monospace;font-weight: bold;display: inline-block;line-height: 1.2em;}#sk-container-id-6 div.sk-label-container {text-align: center;}#sk-container-id-6 div.sk-container {/* jupyter's `normalize.less` sets `[hidden] { display: none; }` but bootstrap.min.css set `[hidden] { display: none !important; }` so we also need the `!important` here to be able to override the default hidden behavior on the sphinx rendered scikit-learn.org. See: https://github.com/scikit-learn/scikit-learn/issues/21755 */display: inline-block !important;position: relative;}#sk-container-id-6 div.sk-text-repr-fallback {display: none;}</style><div id=\"sk-container-id-6\" class=\"sk-top-container\"><div class=\"sk-text-repr-fallback\"><pre>RandomForestClassifier()</pre><b>In a Jupyter environment, please rerun this cell to show the HTML representation or trust the notebook. <br />On GitHub, the HTML representation is unable to render, please try loading this page with nbviewer.org.</b></div><div class=\"sk-container\" hidden><div class=\"sk-item\"><div class=\"sk-estimator sk-toggleable\"><input class=\"sk-toggleable__control sk-hidden--visually\" id=\"sk-estimator-id-6\" type=\"checkbox\" checked><label for=\"sk-estimator-id-6\" class=\"sk-toggleable__label sk-toggleable__label-arrow\">RandomForestClassifier</label><div class=\"sk-toggleable__content\"><pre>RandomForestClassifier()</pre></div></div></div></div></div>"
      ],
      "text/plain": [
       "RandomForestClassifier()"
      ]
     },
     "execution_count": 97,
     "metadata": {},
     "output_type": "execute_result"
    }
   ],
   "source": [
    "joblib.load('trained_model.pkl')"
   ]
  },
  {
   "attachments": {},
   "cell_type": "markdown",
   "id": "69ebf269",
   "metadata": {},
   "source": [
    "Test the model, report relevant statistics"
   ]
  },
  {
   "cell_type": "code",
   "execution_count": 98,
   "id": "c73327e9",
   "metadata": {
    "scrolled": false
   },
   "outputs": [
    {
     "name": "stdout",
     "output_type": "stream",
     "text": [
      "Model score is: 0.7666536813400857\n"
     ]
    },
    {
     "data": {
      "text/plain": [
       "2567"
      ]
     },
     "execution_count": 98,
     "metadata": {},
     "output_type": "execute_result"
    }
   ],
   "source": [
    "score = model.score(test_X, test_y)\n",
    "print('Model score is: {}'.format(score))\n",
    "\n",
    "preds = model.predict(test_X)\n",
    "len(preds)"
   ]
  },
  {
   "cell_type": "code",
   "execution_count": 99,
   "id": "669f962e",
   "metadata": {},
   "outputs": [
    {
     "data": {
      "text/plain": [
       "array([0, 0])"
      ]
     },
     "execution_count": 99,
     "metadata": {},
     "output_type": "execute_result"
    }
   ],
   "source": [
    "preds[65]"
   ]
  },
  {
   "cell_type": "code",
   "execution_count": 100,
   "id": "e98e20b6",
   "metadata": {},
   "outputs": [],
   "source": [
    "# Create a DataFrame with two new columns\n",
    "preds_df = pd.DataFrame(preds, columns=['hmmer_pred', 'structure_pred'])"
   ]
  },
  {
   "cell_type": "code",
   "execution_count": 102,
   "id": "e77775d2",
   "metadata": {},
   "outputs": [],
   "source": [
    "test['hmmer_pred'] = preds_df['hmmer_pred'].values\n",
    "test['structure_pred'] = preds_df['structure_pred'].values"
   ]
  },
  {
   "cell_type": "code",
   "execution_count": 86,
   "id": "73afed60",
   "metadata": {},
   "outputs": [],
   "source": [
    "test['hmmer_strucutre_match'] = test['hmmer_pred'] == test['structure_pred']"
   ]
  },
  {
   "cell_type": "code",
   "execution_count": 102,
   "id": "8be99d2e",
   "metadata": {},
   "outputs": [
    {
     "data": {
      "text/html": [
       "<div>\n",
       "<style scoped>\n",
       "    .dataframe tbody tr th:only-of-type {\n",
       "        vertical-align: middle;\n",
       "    }\n",
       "\n",
       "    .dataframe tbody tr th {\n",
       "        vertical-align: top;\n",
       "    }\n",
       "\n",
       "    .dataframe thead th {\n",
       "        text-align: right;\n",
       "    }\n",
       "</style>\n",
       "<table border=\"1\" class=\"dataframe\">\n",
       "  <thead>\n",
       "    <tr style=\"text-align: right;\">\n",
       "      <th></th>\n",
       "      <th>local_gap_compressed_percent_id</th>\n",
       "      <th>scaled_local_query_percent_id</th>\n",
       "      <th>scaled_local_symmetric_percent_id</th>\n",
       "      <th>query_align_len</th>\n",
       "      <th>query_align_cov</th>\n",
       "      <th>subject_align_len</th>\n",
       "      <th>subject_align_cov</th>\n",
       "      <th>bit_score</th>\n",
       "      <th>m_protein_len</th>\n",
       "      <th>t_protein_len</th>\n",
       "      <th>protein_match</th>\n",
       "      <th>structure_match</th>\n",
       "      <th>hmmer_pred</th>\n",
       "      <th>structure_pred</th>\n",
       "      <th>both</th>\n",
       "      <th>hmmer_strucutre_match</th>\n",
       "    </tr>\n",
       "  </thead>\n",
       "  <tbody>\n",
       "    <tr>\n",
       "      <th>2712</th>\n",
       "      <td>0.295359</td>\n",
       "      <td>0.286885</td>\n",
       "      <td>0.280000</td>\n",
       "      <td>233</td>\n",
       "      <td>0.954918</td>\n",
       "      <td>250</td>\n",
       "      <td>0.976562</td>\n",
       "      <td>240</td>\n",
       "      <td>256</td>\n",
       "      <td>244</td>\n",
       "      <td>1</td>\n",
       "      <td>1</td>\n",
       "      <td>1</td>\n",
       "      <td>1</td>\n",
       "      <td>True</td>\n",
       "      <td>True</td>\n",
       "    </tr>\n",
       "    <tr>\n",
       "      <th>3270</th>\n",
       "      <td>0.372549</td>\n",
       "      <td>0.277372</td>\n",
       "      <td>0.247557</td>\n",
       "      <td>215</td>\n",
       "      <td>0.784672</td>\n",
       "      <td>208</td>\n",
       "      <td>0.611765</td>\n",
       "      <td>275</td>\n",
       "      <td>340</td>\n",
       "      <td>274</td>\n",
       "      <td>1</td>\n",
       "      <td>1</td>\n",
       "      <td>0</td>\n",
       "      <td>0</td>\n",
       "      <td>True</td>\n",
       "      <td>True</td>\n",
       "    </tr>\n",
       "    <tr>\n",
       "      <th>4563</th>\n",
       "      <td>0.300000</td>\n",
       "      <td>0.251908</td>\n",
       "      <td>0.261386</td>\n",
       "      <td>225</td>\n",
       "      <td>0.858779</td>\n",
       "      <td>215</td>\n",
       "      <td>0.884774</td>\n",
       "      <td>196</td>\n",
       "      <td>243</td>\n",
       "      <td>262</td>\n",
       "      <td>0</td>\n",
       "      <td>0</td>\n",
       "      <td>0</td>\n",
       "      <td>0</td>\n",
       "      <td>True</td>\n",
       "      <td>True</td>\n",
       "    </tr>\n",
       "    <tr>\n",
       "      <th>8451</th>\n",
       "      <td>0.328859</td>\n",
       "      <td>0.281609</td>\n",
       "      <td>0.281609</td>\n",
       "      <td>151</td>\n",
       "      <td>0.867816</td>\n",
       "      <td>151</td>\n",
       "      <td>0.867816</td>\n",
       "      <td>130</td>\n",
       "      <td>174</td>\n",
       "      <td>174</td>\n",
       "      <td>1</td>\n",
       "      <td>1</td>\n",
       "      <td>1</td>\n",
       "      <td>1</td>\n",
       "      <td>True</td>\n",
       "      <td>True</td>\n",
       "    </tr>\n",
       "    <tr>\n",
       "      <th>14189</th>\n",
       "      <td>0.351438</td>\n",
       "      <td>0.310734</td>\n",
       "      <td>0.324484</td>\n",
       "      <td>344</td>\n",
       "      <td>0.971751</td>\n",
       "      <td>320</td>\n",
       "      <td>0.987654</td>\n",
       "      <td>220</td>\n",
       "      <td>324</td>\n",
       "      <td>354</td>\n",
       "      <td>1</td>\n",
       "      <td>1</td>\n",
       "      <td>1</td>\n",
       "      <td>1</td>\n",
       "      <td>True</td>\n",
       "      <td>True</td>\n",
       "    </tr>\n",
       "    <tr>\n",
       "      <th>...</th>\n",
       "      <td>...</td>\n",
       "      <td>...</td>\n",
       "      <td>...</td>\n",
       "      <td>...</td>\n",
       "      <td>...</td>\n",
       "      <td>...</td>\n",
       "      <td>...</td>\n",
       "      <td>...</td>\n",
       "      <td>...</td>\n",
       "      <td>...</td>\n",
       "      <td>...</td>\n",
       "      <td>...</td>\n",
       "      <td>...</td>\n",
       "      <td>...</td>\n",
       "      <td>...</td>\n",
       "      <td>...</td>\n",
       "    </tr>\n",
       "    <tr>\n",
       "      <th>9973</th>\n",
       "      <td>0.324201</td>\n",
       "      <td>0.233553</td>\n",
       "      <td>0.266917</td>\n",
       "      <td>224</td>\n",
       "      <td>0.736842</td>\n",
       "      <td>223</td>\n",
       "      <td>0.978070</td>\n",
       "      <td>227</td>\n",
       "      <td>228</td>\n",
       "      <td>304</td>\n",
       "      <td>1</td>\n",
       "      <td>1</td>\n",
       "      <td>0</td>\n",
       "      <td>0</td>\n",
       "      <td>True</td>\n",
       "      <td>True</td>\n",
       "    </tr>\n",
       "    <tr>\n",
       "      <th>15223</th>\n",
       "      <td>0.276730</td>\n",
       "      <td>0.202765</td>\n",
       "      <td>0.199546</td>\n",
       "      <td>159</td>\n",
       "      <td>0.732719</td>\n",
       "      <td>172</td>\n",
       "      <td>0.767857</td>\n",
       "      <td>90</td>\n",
       "      <td>224</td>\n",
       "      <td>217</td>\n",
       "      <td>0</td>\n",
       "      <td>0</td>\n",
       "      <td>0</td>\n",
       "      <td>0</td>\n",
       "      <td>True</td>\n",
       "      <td>True</td>\n",
       "    </tr>\n",
       "    <tr>\n",
       "      <th>14453</th>\n",
       "      <td>0.326667</td>\n",
       "      <td>0.149390</td>\n",
       "      <td>0.138223</td>\n",
       "      <td>164</td>\n",
       "      <td>0.500000</td>\n",
       "      <td>148</td>\n",
       "      <td>0.388451</td>\n",
       "      <td>45</td>\n",
       "      <td>381</td>\n",
       "      <td>328</td>\n",
       "      <td>0</td>\n",
       "      <td>0</td>\n",
       "      <td>0</td>\n",
       "      <td>0</td>\n",
       "      <td>True</td>\n",
       "      <td>True</td>\n",
       "    </tr>\n",
       "    <tr>\n",
       "      <th>3105</th>\n",
       "      <td>0.328402</td>\n",
       "      <td>0.290576</td>\n",
       "      <td>0.294430</td>\n",
       "      <td>338</td>\n",
       "      <td>0.884817</td>\n",
       "      <td>335</td>\n",
       "      <td>0.900538</td>\n",
       "      <td>387</td>\n",
       "      <td>372</td>\n",
       "      <td>382</td>\n",
       "      <td>1</td>\n",
       "      <td>1</td>\n",
       "      <td>1</td>\n",
       "      <td>1</td>\n",
       "      <td>True</td>\n",
       "      <td>True</td>\n",
       "    </tr>\n",
       "    <tr>\n",
       "      <th>10108</th>\n",
       "      <td>0.296943</td>\n",
       "      <td>0.207317</td>\n",
       "      <td>0.226667</td>\n",
       "      <td>228</td>\n",
       "      <td>0.695122</td>\n",
       "      <td>233</td>\n",
       "      <td>0.856618</td>\n",
       "      <td>159</td>\n",
       "      <td>272</td>\n",
       "      <td>328</td>\n",
       "      <td>0</td>\n",
       "      <td>0</td>\n",
       "      <td>0</td>\n",
       "      <td>0</td>\n",
       "      <td>True</td>\n",
       "      <td>True</td>\n",
       "    </tr>\n",
       "  </tbody>\n",
       "</table>\n",
       "<p>2567 rows × 16 columns</p>\n",
       "</div>"
      ],
      "text/plain": [
       "       local_gap_compressed_percent_id  scaled_local_query_percent_id  \\\n",
       "2712                          0.295359                       0.286885   \n",
       "3270                          0.372549                       0.277372   \n",
       "4563                          0.300000                       0.251908   \n",
       "8451                          0.328859                       0.281609   \n",
       "14189                         0.351438                       0.310734   \n",
       "...                                ...                            ...   \n",
       "9973                          0.324201                       0.233553   \n",
       "15223                         0.276730                       0.202765   \n",
       "14453                         0.326667                       0.149390   \n",
       "3105                          0.328402                       0.290576   \n",
       "10108                         0.296943                       0.207317   \n",
       "\n",
       "       scaled_local_symmetric_percent_id  query_align_len  query_align_cov  \\\n",
       "2712                            0.280000              233         0.954918   \n",
       "3270                            0.247557              215         0.784672   \n",
       "4563                            0.261386              225         0.858779   \n",
       "8451                            0.281609              151         0.867816   \n",
       "14189                           0.324484              344         0.971751   \n",
       "...                                  ...              ...              ...   \n",
       "9973                            0.266917              224         0.736842   \n",
       "15223                           0.199546              159         0.732719   \n",
       "14453                           0.138223              164         0.500000   \n",
       "3105                            0.294430              338         0.884817   \n",
       "10108                           0.226667              228         0.695122   \n",
       "\n",
       "       subject_align_len  subject_align_cov  bit_score  m_protein_len  \\\n",
       "2712                 250           0.976562        240            256   \n",
       "3270                 208           0.611765        275            340   \n",
       "4563                 215           0.884774        196            243   \n",
       "8451                 151           0.867816        130            174   \n",
       "14189                320           0.987654        220            324   \n",
       "...                  ...                ...        ...            ...   \n",
       "9973                 223           0.978070        227            228   \n",
       "15223                172           0.767857         90            224   \n",
       "14453                148           0.388451         45            381   \n",
       "3105                 335           0.900538        387            372   \n",
       "10108                233           0.856618        159            272   \n",
       "\n",
       "       t_protein_len  protein_match  structure_match  hmmer_pred  \\\n",
       "2712             244              1                1           1   \n",
       "3270             274              1                1           0   \n",
       "4563             262              0                0           0   \n",
       "8451             174              1                1           1   \n",
       "14189            354              1                1           1   \n",
       "...              ...            ...              ...         ...   \n",
       "9973             304              1                1           0   \n",
       "15223            217              0                0           0   \n",
       "14453            328              0                0           0   \n",
       "3105             382              1                1           1   \n",
       "10108            328              0                0           0   \n",
       "\n",
       "       structure_pred  both  hmmer_strucutre_match  \n",
       "2712                1  True                   True  \n",
       "3270                0  True                   True  \n",
       "4563                0  True                   True  \n",
       "8451                1  True                   True  \n",
       "14189               1  True                   True  \n",
       "...               ...   ...                    ...  \n",
       "9973                0  True                   True  \n",
       "15223               0  True                   True  \n",
       "14453               0  True                   True  \n",
       "3105                1  True                   True  \n",
       "10108               0  True                   True  \n",
       "\n",
       "[2567 rows x 16 columns]"
      ]
     },
     "execution_count": 102,
     "metadata": {},
     "output_type": "execute_result"
    }
   ],
   "source": [
    "test"
   ]
  },
  {
   "attachments": {},
   "cell_type": "markdown",
   "id": "21feaafb",
   "metadata": {},
   "source": [
    "Convert the above code into functions."
   ]
  },
  {
   "cell_type": "code",
   "execution_count": 24,
   "id": "bf1d563c",
   "metadata": {},
   "outputs": [],
   "source": [
    "def train_model(dataframe, columns = [],  target = []):\n",
    "    \"\"\"\n",
    "    Takes dataframe and splits it into a training and testing set. \n",
    "    Note: Data is called train and test, but this test set is currently\n",
    "    closer to a validation set. Keeping nomenclature to keep model robust.\n",
    "    Trains a KNN classifier model with selected data.\n",
    "    \n",
    "    Params\n",
    "    ----------\n",
    "    dataframe: Pandas dataframe \n",
    "    columns: list of strings, representing input features\n",
    "    target: list of strings, representing target feature(s)\n",
    "\n",
    "    Returns\n",
    "    -------\n",
    "    -Sk-learn model object\n",
    "    -train data (features)\n",
    "    -train data (target)\n",
    "    -validation data (features)\n",
    "    -validation data (target)\n",
    "    \"\"\"\n",
    "    #split data\n",
    "    dev, test = sklearn.model_selection.train_test_split(dataframe, test_size=0.15, random_state=1)\n",
    "    \n",
    "    #test input arguments\n",
    "    assert \"pandas.core.frame.DataFrame\" in str(type(dev))\n",
    "    assert \"pandas.core.frame.DataFrame\" in str(type(test))\n",
    "    assert \"str\" in str(type(columns[0]))\n",
    "    assert \"str\" in str(type(target[0]))\n",
    "   \n",
    "    #split into input and output feature(s)\n",
    "    dev_X = dev[columns].values\n",
    "    test_X = test[columns].values\n",
    "\n",
    "    dev_y = dev[target].values.reshape(-1,1)\n",
    "    test_y = test[target].values.reshape(-1,1)\n",
    "    \n",
    "    #scale data\n",
    "    scaler = sklearn.preprocessing.StandardScaler()\n",
    "    dev_X = scaler.fit_transform(dev_X)\n",
    "    test_X = scaler.fit_transform(test_X)\n",
    "    \n",
    "    #train model\n",
    "    model = sklearn.ensemble.RandomForestClassifier()\n",
    "    model = model.fit(dev_X, dev_y.ravel())\n",
    "    \n",
    "    return model, dev_X, dev_y, test_X, test_y\n",
    "    "
   ]
  },
  {
   "cell_type": "code",
   "execution_count": 25,
   "id": "e40acd6d",
   "metadata": {
    "scrolled": true
   },
   "outputs": [],
   "source": [
    "model, dev_X, dev_y, test_X, test_y = train_model(df, columns = input_features, \n",
    "                                          target='protein_match')"
   ]
  },
  {
   "cell_type": "code",
   "execution_count": 42,
   "id": "46729a81",
   "metadata": {
    "scrolled": true
   },
   "outputs": [
    {
     "name": "stderr",
     "output_type": "stream",
     "text": [
      "..\n",
      "----------------------------------------------------------------------\n",
      "Ran 2 tests in 4.490s\n",
      "\n",
      "OK\n"
     ]
    }
   ],
   "source": [
    "class TestModelTraining(unittest.TestCase):\n",
    "    \n",
    "    def test_invalid_inputs(self):\n",
    "    \n",
    "        #test that input data type is correct\n",
    "        \n",
    "        try:\n",
    "            train_model([1,2,3], columns = 'string', target = 'string')\n",
    "            self.assertTrue(False)\n",
    "        except AssertionError:\n",
    "            self.assertTrue(True)\n",
    "    \n",
    "#     def test_input_distro(self):\n",
    "        \n",
    "#         #test that dev and test features have similar Jensen Shannon Distribution\n",
    "        \n",
    "#         JSD = (\n",
    "#             scipy.stats.bootstrap((train_reg(split_data(df)[0], split_data(df)[1],\n",
    "#                                 columns = input_features, target=target)[1], train_reg(split_data(df)[0], \n",
    "#                                 split_data(df)[1], columns = input_features, target=target)[3]), \n",
    "#                                   JSD_dev_and_test, n_resamples=1000, \n",
    "#                                   batch=5, method='percentile')\n",
    "#         )\n",
    "\n",
    "#         div = JSD.confidence_interval[1]\n",
    "        \n",
    "#         #asserts that the divergence between data sets is sufficiently low\n",
    "#         assert abs(div) < 0.3, \"Warning! High JSD between dev and test set!\"\n",
    "        \n",
    "    def test_output_format(self):\n",
    "        \n",
    "        #asserts that function returns 4 objects to be assigned to pearson_corr, model, test_X, test_y\n",
    "        assert len(train_model(df, columns = input_features, \n",
    "                                          target = target)) == 5\n",
    "        \n",
    "\n",
    "suite = unittest.TestLoader().loadTestsFromTestCase(TestModelTraining)\n",
    "_ = unittest.TextTestRunner().run(suite)"
   ]
  },
  {
   "cell_type": "code",
   "execution_count": 43,
   "id": "47f766ab",
   "metadata": {},
   "outputs": [],
   "source": [
    "#need to fix this\n",
    "\n",
    "def evaluate_model(model, test_X, test_y):\n",
    "    \n",
    "    \"\"\"\n",
    "    Takes a trained model and test data and tests the model.\n",
    "    \n",
    "    Params\n",
    "    ----------\n",
    "    model: sklearn.neighbors.KNeighborsClassifier\n",
    "    test_X: numpy array\n",
    "    test_y: numpy array\n",
    "\n",
    "    Returns\n",
    "    -------\n",
    "    Vector of predictions based on the model (numpy array)\n",
    "    \"\"\"\n",
    "    \n",
    "    #test input arguments\n",
    "    assert \"sklearn\" in str(type(model))\n",
    "    assert \"numpy.ndarray\" in str(type(test_X))\n",
    "    assert \"numpy.ndarray\" in str(type(test_y))\n",
    "    \n",
    "    preds = model.predict(test_X)\n",
    "    \n",
    "    return preds"
   ]
  },
  {
   "cell_type": "code",
   "execution_count": 44,
   "id": "7bbb0242",
   "metadata": {
    "scrolled": true
   },
   "outputs": [
    {
     "data": {
      "text/plain": [
       "array([ True,  True,  True, ...,  True, False,  True])"
      ]
     },
     "execution_count": 44,
     "metadata": {},
     "output_type": "execute_result"
    }
   ],
   "source": [
    "preds = evaluate_model(model, test_X, test_y)\n",
    "preds"
   ]
  },
  {
   "cell_type": "code",
   "execution_count": 45,
   "id": "8b2fdac6",
   "metadata": {},
   "outputs": [
    {
     "name": "stderr",
     "output_type": "stream",
     "text": [
      "...\n",
      "----------------------------------------------------------------------\n",
      "Ran 3 tests in 13.083s\n",
      "\n",
      "OK\n"
     ]
    }
   ],
   "source": [
    "class TestModelPerformance(unittest.TestCase):\n",
    "\n",
    "    def test_asserts(self):\n",
    "        model, _, _, test_X, test_y = train_model(\n",
    "            df, columns=input_features, target='protein_match'\n",
    "        )\n",
    "        # assert that input types are correct\n",
    "        with self.assertRaises(AssertionError):\n",
    "            evaluate_model(model, [1, 2, 3], test_y)\n",
    "            \n",
    "    def test_model_output(self):\n",
    "        model, _, _, test_X, test_y = train_model(\n",
    "            df, columns=input_features, target='protein_match'\n",
    "        )\n",
    "        # assert output type is correct\n",
    "        output = evaluate_model(model, test_X, test_y)\n",
    "        self.assertIsInstance(output, np.ndarray)\n",
    "        \n",
    "    def test_pred_dimension(self):\n",
    "        model, _, _, test_X, test_y = train_model(df, \n",
    "            columns=input_features, target='protein_match'\n",
    "        )\n",
    "        # want to check that the number of predictions is equal to the number of test examples\n",
    "        preds = evaluate_model(model, test_X, test_y)\n",
    "        self.assertEqual(len(test_y), len(preds))\n",
    "\n",
    "suite = unittest.TestLoader().loadTestsFromTestCase(TestModelPerformance)\n",
    "_ = unittest.TextTestRunner().run(suite)\n"
   ]
  },
  {
   "attachments": {},
   "cell_type": "markdown",
   "id": "b9b79929",
   "metadata": {},
   "source": [
    "A good test here can be adding outliers and seeing how much the score and predictions change (probably for the above function)."
   ]
  },
  {
   "cell_type": "code",
   "execution_count": 46,
   "id": "dae1e64f",
   "metadata": {},
   "outputs": [],
   "source": [
    "def plot_model(model, test_X, test_y):\n",
    "    \"\"\"\n",
    "    Takes a test KNN Classifier model and plots the confusion matrix.\n",
    "    \n",
    "    Params\n",
    "    ----------\n",
    "    model: sklearn.neighbors.KNeighborsClassifier\n",
    "    test_X: numpy array\n",
    "    test_y: numpy array\n",
    "\n",
    "    Returns\n",
    "    -------\n",
    "    -Confusion predictions vs. observations\n",
    "    -Model score\n",
    "    \"\"\"\n",
    "    \n",
    "    #test input arguments\n",
    "    assert \"sklearn\" in str(type(model))\n",
    "    assert \"numpy.ndarray\" in str(type(test_X))\n",
    "    assert \"numpy.ndarray\" in str(type(test_y))\n",
    "    \n",
    "    score = model.score(test_X, test_y)\n",
    "    preds = evaluate_model(model, test_X, test_y)\n",
    "   \n",
    "    # plot confusion matrix\n",
    "    confusion_matrix = sklearn.metrics.confusion_matrix(preds, test_y)\n",
    "    cm_plot = sklearn.metrics.ConfusionMatrixDisplay(confusion_matrix)\n",
    "    \n",
    "    cm_plot.plot(cmap=plt.cm.Blues)\n",
    "    cm_plot.ax_.set_title('Confusion Matrix')\n",
    "    \n",
    "    return score\n",
    "    "
   ]
  },
  {
   "cell_type": "code",
   "execution_count": 47,
   "id": "c923e39b",
   "metadata": {},
   "outputs": [
    {
     "data": {
      "text/plain": [
       "0.6423766816143498"
      ]
     },
     "execution_count": 47,
     "metadata": {},
     "output_type": "execute_result"
    },
    {
     "data": {
      "image/png": "[encoded data removed]",
      "text/plain": [
       "<Figure size 640x480 with 2 Axes>"
      ]
     },
     "metadata": {},
     "output_type": "display_data"
    }
   ],
   "source": [
    "#make some appropriate display labels here\n",
    "\n",
    "plot_model(model, test_X, test_y)"
   ]
  },
  {
   "cell_type": "code",
   "execution_count": 48,
   "id": "15e9e191",
   "metadata": {},
   "outputs": [],
   "source": [
    "#wrapper function\n",
    "\n",
    "def RF_wrapper(dataframe):\n",
    "    \"\"\"\n",
    "    Takes dataframe and runs it through kNN model.\n",
    "    \n",
    "    Params\n",
    "    ----------\n",
    "    dataframe: Pandas dataframe \n",
    "\n",
    "    Returns\n",
    "    -------\n",
    "    -Target feature predictions\n",
    "    -Parity plot\n",
    "    \"\"\"\n",
    "    \n",
    "    assert 'pandas.core.frame.DataFrame' in str(type(dataframe))\n",
    "\n",
    "    #user inputs target feature\n",
    "    target = 'protein_match'\n",
    "    \n",
    "    #define input features\n",
    "    input_features = [columns for columns in dataframe]\n",
    "    \n",
    "    input_features.remove(target)\n",
    "\n",
    "    #train the model based off data split\n",
    "    model, dev_X, dev_y, test_X, test_y = train_model(\n",
    "                                        dataframe, columns=input_features, \n",
    "                                        target=target\n",
    "                                                   )\n",
    "    \n",
    "    #test the model and return predictions\n",
    "    preds = evaluate_model(model, test_X, test_y)\n",
    "\n",
    "    #plot the results of the model\n",
    "    plot_model(model, test_X, test_y)\n",
    "    \n",
    "    return preds"
   ]
  },
  {
   "cell_type": "code",
   "execution_count": 49,
   "id": "cbbd8fa8",
   "metadata": {
    "scrolled": true
   },
   "outputs": [
    {
     "data": {
      "text/plain": [
       "array([ True,  True,  True, ...,  True,  True,  True])"
      ]
     },
     "execution_count": 49,
     "metadata": {},
     "output_type": "execute_result"
    },
    {
     "data": {
      "image/png": "[encoded data removed]",
      "text/plain": [
       "<Figure size 640x480 with 2 Axes>"
      ]
     },
     "metadata": {},
     "output_type": "display_data"
    }
   ],
   "source": [
    "RF_wrapper(df)"
   ]
  },
  {
   "cell_type": "code",
   "execution_count": 50,
   "id": "37c0e2b2",
   "metadata": {
    "scrolled": true
   },
   "outputs": [
    {
     "name": "stderr",
     "output_type": "stream",
     "text": [
      "...\n",
      "----------------------------------------------------------------------\n",
      "Ran 3 tests in 9.203s\n",
      "\n",
      "OK\n"
     ]
    }
   ],
   "source": [
    "class TestWrapper(unittest.TestCase):\n",
    "    \n",
    "    def test_wrapper_input(self):\n",
    "        #test that input data type is correct\n",
    "        try:\n",
    "            RF_wrapper([1,2,3])\n",
    "            self.assertTrue(False)\n",
    "        except AssertionError:\n",
    "            self.assertTrue(True)\n",
    "\n",
    "    def test_wrapper_output(self):\n",
    "        model, _, _, test_X, test_y = train_model(\n",
    "            df, \n",
    "            columns=input_features, target='protein_match'\n",
    "        )\n",
    "        # assert output type is correct\n",
    "        output = evaluate_model(model, test_X, test_y)\n",
    "        self.assertIsInstance(output, np.ndarray)\n",
    "        \n",
    "    def test_output_dimension(self):\n",
    "        model, _, _, test_X, test_y = train_model(\n",
    "            df, \n",
    "            columns=input_features, target='protein_match'\n",
    "        )\n",
    "        # want to check that the number of predictions is equal to the number of test examples\n",
    "        preds = evaluate_model(model, test_X, test_y)\n",
    "        self.assertEqual(len(test_y), len(preds))\n",
    "        \n",
    "\n",
    "suite = unittest.TestLoader().loadTestsFromTestCase(TestWrapper)\n",
    "_ = unittest.TextTestRunner().run(suite)"
   ]
  },
  {
   "attachments": {},
   "cell_type": "markdown",
   "id": "02c53a58",
   "metadata": {},
   "source": [
    "**IGNORE BELOW**"
   ]
  },
  {
   "cell_type": "code",
   "execution_count": 35,
   "id": "13d52919",
   "metadata": {},
   "outputs": [],
   "source": [
    "# #plot empirical distribution of scaled_local_query_percent_id\n",
    "\n",
    "# target = df['protein_match']\n",
    "# #create histplot\n",
    "# fig, ax = plt.subplots()\n",
    "\n",
    "# sns.histplot(data = df, x = target)\n",
    "\n",
    "# ax.set_title('Sample Histogram', fontsize=16)\n",
    "# ax.set_xlabel('Class', fontsize=14)\n",
    "# ax.set_ylabel('Count', fontsize=14)"
   ]
  },
  {
   "attachments": {},
   "cell_type": "markdown",
   "id": "2e3d1950",
   "metadata": {},
   "source": [
    "Things I've tried to improve model: \n",
    "\n",
    "1. drop bit scores over 1000\n",
    "2. Switch to 85/15 train/test split\n",
    "3. Lasso regression - not great\n",
    "4. Ridge regression - R2 = 0.87, about the same as normal Linear regression\n",
    "5. KNN regression (n_neighbors optimized at 8) gives best result, R2 = ~0.93 --> \n",
    "*got it up to .942 by removing a few features\n",
    "6. Decision tree regressor was slightly worse than KNN\n",
    "7. Input DT classifier and RF classifier. RF classifier has best performance\n",
    "8. Changed target to binary protein function match"
   ]
  },
  {
   "cell_type": "code",
   "execution_count": 105,
   "id": "5220b26b",
   "metadata": {},
   "outputs": [],
   "source": [
    "number= 5.13"
   ]
  },
  {
   "cell_type": "code",
   "execution_count": 106,
   "id": "3756ab4d",
   "metadata": {},
   "outputs": [
    {
     "data": {
      "text/plain": [
       "'5.13'"
      ]
     },
     "execution_count": 106,
     "metadata": {},
     "output_type": "execute_result"
    }
   ],
   "source": [
    "str(number)"
   ]
  },
  {
   "cell_type": "code",
   "execution_count": 107,
   "id": "611bdf1a",
   "metadata": {},
   "outputs": [],
   "source": [
    "number = 'number'"
   ]
  },
  {
   "cell_type": "code",
   "execution_count": 108,
   "id": "8f879844",
   "metadata": {},
   "outputs": [
    {
     "data": {
      "text/plain": [
       "'number'"
      ]
     },
     "execution_count": 108,
     "metadata": {},
     "output_type": "execute_result"
    }
   ],
   "source": [
    "str(number)"
   ]
  },
  {
   "cell_type": "code",
   "execution_count": null,
   "id": "32f5a649",
   "metadata": {},
   "outputs": [],
   "source": []
  }
 ],
 "metadata": {
  "kernelspec": {
   "display_name": "Python 3",
   "language": "python",
   "name": "python3"
  },
  "language_info": {
   "codemirror_mode": {
    "name": "ipython",
    "version": 3
   },
   "file_extension": ".py",
   "mimetype": "text/x-python",
   "name": "python",
   "nbconvert_exporter": "python",
   "pygments_lexer": "ipython3",
   "version": "3.9.0"
  }
 },
 "nbformat": 4,
 "nbformat_minor": 5
}
