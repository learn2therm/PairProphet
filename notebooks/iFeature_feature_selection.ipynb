{
 "cells": [
  {
   "cell_type": "markdown",
   "id": "265e8129",
   "metadata": {},
   "source": [
    "This notebook uses iFeatureOmega, a feature generation software, to add to our feature space for a RandomForestClassifier that predicts protein pair functionality."
   ]
  },
  {
   "cell_type": "markdown",
   "id": "0b88f847",
   "metadata": {},
   "source": [
    "To do:\n",
    "\n",
    "1) Write unit tests for iFeatureOmega\n",
    "2) time trial for different descriptors - DONE\n",
    "3) Figure out how to append meso and thermo descriptors\n",
    "4) Make sure protein length is in training\n",
    "5) try changing subject_align_len to subject_align_len/m_protein_len\n",
    "6) log(ratio) for proteins approacing zero or infinity\n",
    "    take distributions to assess for this.\n",
    "    Update -- taking log and then droping infinites and NaN improves score to 0.86 <-- cannot repeat this"
   ]
  },
  {
   "cell_type": "code",
   "execution_count": 44,
   "id": "c79d7dde",
   "metadata": {},
   "outputs": [
    {
     "ename": "NameError",
     "evalue": "name 'path_to_db' is not defined",
     "output_type": "error",
     "traceback": [
      "\u001b[0;31m---------------------------------------------------------------------------\u001b[0m",
      "\u001b[0;31mNameError\u001b[0m                                 Traceback (most recent call last)",
      "\u001b[0;32m<ipython-input-44-2e633829120f>\u001b[0m in \u001b[0;36m<module>\u001b[0;34m\u001b[0m\n\u001b[1;32m      1\u001b[0m \u001b[0;32mimport\u001b[0m \u001b[0mduckdb\u001b[0m\u001b[0;34m\u001b[0m\u001b[0;34m\u001b[0m\u001b[0m\n\u001b[1;32m      2\u001b[0m \u001b[0;34m\u001b[0m\u001b[0m\n\u001b[0;32m----> 3\u001b[0;31m \u001b[0mcon\u001b[0m \u001b[0;34m=\u001b[0m \u001b[0mduckdb\u001b[0m\u001b[0;34m.\u001b[0m\u001b[0mconnect\u001b[0m\u001b[0;34m(\u001b[0m\u001b[0mpath_to_db\u001b[0m\u001b[0;34m)\u001b[0m\u001b[0;34m\u001b[0m\u001b[0;34m\u001b[0m\u001b[0m\n\u001b[0m\u001b[1;32m      4\u001b[0m \u001b[0mcmd\u001b[0m \u001b[0;34m=\u001b[0m \u001b[0;34m\"\"\"SELECT list_of_column_names FROM fafsa_final\"\"\"\u001b[0m\u001b[0;34m\u001b[0m\u001b[0;34m\u001b[0m\u001b[0m\n\u001b[1;32m      5\u001b[0m \u001b[0mdf\u001b[0m \u001b[0;34m=\u001b[0m \u001b[0mcon\u001b[0m\u001b[0;34m.\u001b[0m\u001b[0mexecute\u001b[0m\u001b[0;34m(\u001b[0m\u001b[0mcmd\u001b[0m\u001b[0;34m)\u001b[0m\u001b[0;34m.\u001b[0m\u001b[0mdf\u001b[0m\u001b[0;34m(\u001b[0m\u001b[0;34m)\u001b[0m\u001b[0;34m\u001b[0m\u001b[0;34m\u001b[0m\u001b[0m\n",
      "\u001b[0;31mNameError\u001b[0m: name 'path_to_db' is not defined"
     ]
    }
   ],
   "source": [
    "import duckdb\n",
    "\n",
    "con = duckdb.connect(path_to_db)\n",
    "cmd = \"\"\"SELECT list_of_column_names FROM fafsa_final\"\"\"\n",
    "df = con.execute(cmd).df()"
   ]
  },
  {
   "cell_type": "code",
   "execution_count": null,
   "id": "af429c4b",
   "metadata": {},
   "outputs": [],
   "source": [
    "output_df.to_parquet(path)\n",
    "cmd = f\"\"\"CREATE OR REPLACE TABLE table_name AS SELECT * FROM '{path}'\"\"\"\n",
    "con.execute(cmd)"
   ]
  },
  {
   "cell_type": "markdown",
   "id": "95d37dbb",
   "metadata": {},
   "source": [
    " protein_pair_cmd = \"\"\"CREATE OR REPLACE TABLE fafsa_protein_pairs AS\n",
    "                          SELECT \n",
    "                          meso_pid,\n",
    "                          thermo_pid,\n",
    "                          bit_score,\n",
    "                          local_gap_compressed_percent_id,\n",
    "                          scaled_local_query_percent_id,\n",
    "                          scaled_local_symmetric_percent_id,\n",
    "                          query_align_len,\n",
    "                          query_align_cov,\n",
    "                          subject_align_len,\n",
    "                          subject_align_cov,\n",
    "                          FROM protein_pairs USING SAMPLE 100\n",
    "\"\"\""
   ]
  },
  {
   "cell_type": "code",
   "execution_count": 1,
   "id": "121b184a",
   "metadata": {},
   "outputs": [],
   "source": [
    "import matplotlib.pyplot as plt\n",
    "import seaborn as sns\n",
    "import pandas as pd\n",
    "import numpy as np\n",
    "import scipy.stats\n",
    "import sklearn.preprocessing\n",
    "import sklearn.model_selection\n",
    "import sklearn.ensemble\n",
    "import sklearn.feature_selection\n",
    "import unittest\n",
    "import iFeatureOmegaCLI\n",
    "import Bio.SeqIO\n",
    "import Bio.SeqRecord\n",
    "import io\n",
    "from io import StringIO\n",
    "import time"
   ]
  },
  {
   "cell_type": "code",
   "execution_count": 2,
   "id": "99990cd6",
   "metadata": {},
   "outputs": [],
   "source": [
    "def get_fasta_from_dataframe(dataframe, output_file_a, output_file_b):\n",
    "    #adjust this to write function with BioPython\n",
    "    #separate functions for each of the input sequences\n",
    "    #in training, seq_a = meso and seq_b = thermo\n",
    "    \n",
    "    \n",
    "    #meso sequence to fasta\n",
    "    with open(output_file_a, 'w') as f:\n",
    "        for _, row in df.iterrows():\n",
    "            f.write('>{}\\n{}\\n'.format((row['prot_pair_index']), row['m_protein_seq']))\n",
    "    \n",
    "    #thermo sequence to fasta\n",
    "    with open(output_file_b, 'w') as f:\n",
    "        for _, row in df.iterrows():\n",
    "            f.write('>{}\\n{}\\n'.format((row['prot_pair_index']), (row['t_protein_seq'])))\n",
    "   \n",
    "    #return output files\n",
    "    return [output_file_a, output_file_b]"
   ]
  },
  {
   "cell_type": "code",
   "execution_count": 3,
   "id": "653eb96d",
   "metadata": {},
   "outputs": [],
   "source": [
    "def get_protein_descriptors(fasta_file, descriptors=[]):\n",
    "    \n",
    "    \"\"\"\n",
    "    Generates features from a protein sequence\n",
    "\n",
    "    Parameters\n",
    "    ----------\n",
    "    Fasta file with amino acid sequences.\n",
    "\n",
    "    Returns\n",
    "    -------\n",
    "    Vector of descriptors\n",
    "    \"\"\"\n",
    "    \n",
    "    #create iProtein object\n",
    "    protein = iFeatureOmegaCLI.iProtein(fasta_file)\n",
    "    \n",
    "    #not sure why we need this yet. Right now it is stored in local directory.\n",
    "    params = protein.import_parameters('protein_parameters.json')\n",
    "    \n",
    "    protein_descriptors = {}\n",
    "    \n",
    "    for descriptor in descriptors:\n",
    "        protein.get_descriptor(descriptor)\n",
    "        protein_descriptors.update({f'{descriptor}':protein.encodings})\n",
    "        \n",
    "    return protein_descriptors"
   ]
  },
  {
   "cell_type": "code",
   "execution_count": 4,
   "id": "fe48f193",
   "metadata": {},
   "outputs": [],
   "source": [
    "def create_new_dataframe(dataframe, output_files, descriptors=[]):\n",
    "    \"\"\"\n",
    "    Creates new dataframe with descriptors added.\n",
    "\n",
    "    Parameters\n",
    "    ----------\n",
    "    Pandas dataframe, list of descriptors as strings, output file name.\n",
    "\n",
    "    Returns\n",
    "    -------\n",
    "    Dataframe including vector(s) of descriptors\n",
    "    \"\"\"\n",
    "\n",
    "    fasta_files = get_fasta_from_dataframe(dataframe, output_files[0], output_files[1])\n",
    "    \n",
    "    df = dataframe.reset_index()\n",
    "    \n",
    "    def compute_descriptor_ratio(fasta_files, descriptors=[]):\n",
    "        \"\"\"\n",
    "        Generates dictionary of descriptors for each of the two input sequences.\n",
    "        Computes the difference between each instance of a descriptor.\n",
    "        \n",
    "        Parameters\n",
    "        ----------\n",
    "        List of two fasta files (str) and list of descriptors (str).\n",
    "\n",
    "        Returns\n",
    "        -------\n",
    "        Dictionary with difference between descriptors for each of the \n",
    "        input sequences.\n",
    "        \"\"\"\n",
    "        desc_a = get_protein_descriptors(fasta_files[0], descriptors)\n",
    "        desc_b = get_protein_descriptors(fasta_files[1], descriptors)\n",
    "\n",
    "        feature_dict = {}\n",
    "\n",
    "        for key in desc_a:\n",
    "                        \n",
    "            if 'GDPC type 2' in key:\n",
    "                feature_dict[key] = np.log(desc_a[key] - desc_b[key])\n",
    "                \n",
    "            elif 'CKSAAGP type 2' in key:\n",
    "                feature_dict[key] = np.log(desc_a[key] - desc_b[key])\n",
    "                \n",
    "            else:\n",
    "                feature_dict[key] = (desc_a[key]) / desc_b[key]\n",
    "\n",
    "        return feature_dict\n",
    "    \n",
    "    feature_dict = compute_descriptor_ratio(fasta_files, descriptors)\n",
    "\n",
    "    for desc in descriptors:\n",
    "\n",
    "        feature_dict[desc].index = feature_dict[desc].index.astype(int)\n",
    "        features = feature_dict[desc].reset_index()\n",
    "\n",
    "        df = pd.merge(\n",
    "            df,\n",
    "            features,\n",
    "            how='outer',\n",
    "            left_index=True,\n",
    "            right_index=True)\n",
    "\n",
    "    return df"
   ]
  },
  {
   "cell_type": "code",
   "execution_count": 5,
   "id": "38c1120f",
   "metadata": {},
   "outputs": [
    {
     "name": "stdout",
     "output_type": "stream",
     "text": [
      "\n",
      "        ----- Available feature types ------        \n",
      "        \n",
      "        AAC                                                Amino acid composition\n",
      "        EAAC                                               Enhanced amino acid composition\n",
      "        CKSAAP type 1                                      Composition of k-spaced amino acid pairs type 1 - normalized\n",
      "        CKSAAP type 2                                      Composition of k-spaced amino acid pairs type 2 - raw count\n",
      "        DPC type 1                                         Dipeptide composition type 1 - normalized\n",
      "        DPC type 2                                         Dipeptide composition type 2 - raw count\n",
      "        TPC type 1                                         Tripeptide composition type 1 - normalized\n",
      "        TPC type 2                                         Tripeptide composition type 1 - raw count\n",
      "        CTDC                                               Composition\n",
      "        CTDT                                               Transition\n",
      "        CTDD                                               Distribution\n",
      "        CTriad                                             Conjoint triad\n",
      "        KSCTriad                                           Conjoint k-spaced triad\n",
      "        ASDC                                               Adaptive skip dipeptide composition\n",
      "        DistancePair                                       PseAAC of distance-pairs and reduced alphabe\n",
      "        GAAC                                               Grouped amino acid composition\n",
      "        EGAAC                                              Enhanced grouped amino acid composition\n",
      "        CKSAAGP type 1                                     Composition of k-spaced amino acid group pairs type 1- normalized\n",
      "        CKSAAGP type 2                                     Composition of k-spaced amino acid group pairs type 2- raw count\n",
      "        GDPC type 1                                        Grouped dipeptide composition type 1 - normalized\n",
      "        GDPC type 2                                        Grouped dipeptide composition type 2 - raw count\n",
      "        GTPC type 1                                        Grouped tripeptide composition type 1 - normalized\n",
      "        GTPC type 2                                        Grouped tripeptide composition type 1 - raw count\n",
      "        Moran                                              Moran\n",
      "        Geary                                              Geary\n",
      "        NMBroto                                            Normalized Moreau-Broto\n",
      "        AC                                                 Auto covariance\n",
      "        CC                                                 Cross covariance\n",
      "        ACC                                                Auto-cross covariance\n",
      "        SOCNumber                                          Sequence-order-coupling number\n",
      "        QSOrder                                            Quasi-sequence-order descriptors\n",
      "        PAAC                                               Pseudo-amino acid composition\n",
      "        APAAC                                              Amphiphilic PAAC\n",
      "        PseKRAAC type 1                                    Pseudo K-tuple reduced amino acids composition type 1\n",
      "        PseKRAAC type 2                                    Pseudo K-tuple reduced amino acids composition type 2\n",
      "        PseKRAAC type 3A                                   Pseudo K-tuple reduced amino acids composition type 3A\n",
      "        PseKRAAC type 3B                                   Pseudo K-tuple reduced amino acids composition type 3B\n",
      "        PseKRAAC type 4                                    Pseudo K-tuple reduced amino acids composition type 4\n",
      "        PseKRAAC type 5                                    Pseudo K-tuple reduced amino acids composition type 5\n",
      "        PseKRAAC type 6A                                   Pseudo K-tuple reduced amino acids composition type 6A\n",
      "        PseKRAAC type 6B                                   Pseudo K-tuple reduced amino acids composition type 6B\n",
      "        PseKRAAC type 6C                                   Pseudo K-tuple reduced amino acids composition type 6C\n",
      "        PseKRAAC type 7                                    Pseudo K-tuple reduced amino acids composition type 7\n",
      "        PseKRAAC type 8                                    Pseudo K-tuple reduced amino acids composition type 8\n",
      "        PseKRAAC type 9                                    Pseudo K-tuple reduced amino acids composition type 9\n",
      "        PseKRAAC type 10                                   Pseudo K-tuple reduced amino acids composition type 10\n",
      "        PseKRAAC type 11                                   Pseudo K-tuple reduced amino acids composition type 11\n",
      "        PseKRAAC type 12                                   Pseudo K-tuple reduced amino acids composition type 12\n",
      "        PseKRAAC type 13                                   Pseudo K-tuple reduced amino acids composition type 13\n",
      "        PseKRAAC type 14                                   Pseudo K-tuple reduced amino acids composition type 14\n",
      "        PseKRAAC type 15                                   Pseudo K-tuple reduced amino acids composition type 15\n",
      "        PseKRAAC type 16                                   Pseudo K-tuple reduced amino acids composition type 16\n",
      "        binary                                             Binary\n",
      "        binary_6bit                                        Binary\n",
      "        binary_5bit type 1                                 Binary\n",
      "        binary_5bit type 2                                 Binary\n",
      "        binary_3bit type 1                                 Binary\n",
      "        binary_3bit type 2                                 Binary\n",
      "        binary_3bit type 3                                 Binary\n",
      "        binary_3bit type 4                                 Binary\n",
      "        binary_3bit type 5                                 Binary\n",
      "        binary_3bit type 6                                 Binary\n",
      "        binary_3bit type 7                                 Binary\n",
      "        AESNN3                                             Learn from alignments\n",
      "        OPF_10bit                                          Overlapping property features - 10 bit\n",
      "        OPF_7bit type 1                                    Overlapping property features - 7 bit type 1\n",
      "        OPF_7bit type 2                                    Overlapping property features - 7 bit type 2\n",
      "        OPF_7bit type 3                                    Overlapping property features - 7 bit type 3\n",
      "        AAIndex                                            AAIndex\n",
      "        BLOSUM62                                           BLOSUM62\n",
      "        ZScale                                             Z-Scales index\n",
      "        KNN                                                K-nearest neighbor\n",
      "\n",
      "        Note: the first column is the names of availables feature types while the second column is description.  \n",
      "        \n",
      "        \n"
     ]
    }
   ],
   "source": [
    "#iFeature properties\n",
    "\n",
    "protein = iFeatureOmegaCLI.iProtein('meso_50k.fasta')\n",
    "protein.display_feature_types()"
   ]
  },
  {
   "cell_type": "code",
   "execution_count": 6,
   "id": "ba87d47f",
   "metadata": {
    "scrolled": false
   },
   "outputs": [
    {
     "name": "stdout",
     "output_type": "stream",
     "text": [
      "/Users/loganroberts/Learn2Therm/ValidProt/FAFSA\n"
     ]
    }
   ],
   "source": [
    "cd /Users/loganroberts/Learn2Therm/ValidProt/FAFSA"
   ]
  },
  {
   "cell_type": "code",
   "execution_count": 7,
   "id": "f90c1cdd",
   "metadata": {
    "scrolled": true
   },
   "outputs": [
    {
     "data": {
      "text/plain": [
       "Index(['Unnamed: 0', 'local_gap_compressed_percent_id',\n",
       "       'scaled_local_query_percent_id', 'scaled_local_symmetric_percent_id',\n",
       "       'query_align_len', 'query_align_cov', 'subject_align_len',\n",
       "       'subject_align_cov', 'bit_score', 'thermo_index', 'meso_index',\n",
       "       'prot_pair_index', 'meso_protein_int_index', 'thermo_protein_int_index',\n",
       "       'taxa_pair_index', 'local_gap_compressed_percent_id_16s',\n",
       "       'scaled_local_query_percent_id_16s',\n",
       "       'scaled_local_symmetric_percent_id_16s', 'query_align_cov_16s',\n",
       "       'subject_align_cov_16s', 'bit_score_16s', 'm_ogt', 't_ogt',\n",
       "       'ogt_difference', 'm_protein_seq', 't_protein_seq', 'm_protein_desc',\n",
       "       't_protein_desc', 'm_protein_len', 't_protein_len'],\n",
       "      dtype='object')"
      ]
     },
     "execution_count": 7,
     "metadata": {},
     "output_type": "execute_result"
    }
   ],
   "source": [
    "#convert to pandas df\n",
    "df = pd.read_csv('learn2therm_sample_50k.csv')\n",
    "df.columns"
   ]
  },
  {
   "cell_type": "code",
   "execution_count": 42,
   "id": "d7f0a563",
   "metadata": {
    "scrolled": false
   },
   "outputs": [
    {
     "name": "stdout",
     "output_type": "stream",
     "text": [
      "/Users/loganroberts/Learn2Therm/ValidProt/notebooks\n"
     ]
    }
   ],
   "source": [
    "cd /Users/loganroberts/Learn2Therm/ValidProt/notebooks"
   ]
  },
  {
   "cell_type": "code",
   "execution_count": 74,
   "id": "043bf4dc",
   "metadata": {},
   "outputs": [],
   "source": [
    "target = pd.read_csv('protein_match_50k')"
   ]
  },
  {
   "cell_type": "code",
   "execution_count": 75,
   "id": "c0781dff",
   "metadata": {
    "scrolled": true
   },
   "outputs": [],
   "source": [
    "target.drop(columns=[\"Unnamed: 0\"], inplace=True)"
   ]
  },
  {
   "cell_type": "code",
   "execution_count": 76,
   "id": "b70a62fd",
   "metadata": {},
   "outputs": [
    {
     "data": {
      "text/plain": [
       "Yes    40296\n",
       "No      8554\n",
       "Name: protein_match, dtype: int64"
      ]
     },
     "execution_count": 76,
     "metadata": {},
     "output_type": "execute_result"
    }
   ],
   "source": [
    "target['protein_match'].value_counts()"
   ]
  },
  {
   "cell_type": "code",
   "execution_count": 77,
   "id": "9ec6b6ec",
   "metadata": {},
   "outputs": [
    {
     "data": {
      "text/plain": [
       "False    25951\n",
       "True     22899\n",
       "Name: Jaccard_Score, dtype: int64"
      ]
     },
     "execution_count": 77,
     "metadata": {},
     "output_type": "execute_result"
    }
   ],
   "source": [
    "(target['Jaccard_Score'] < 0.60).value_counts()"
   ]
  },
  {
   "cell_type": "code",
   "execution_count": 78,
   "id": "65c12d41",
   "metadata": {},
   "outputs": [],
   "source": [
    "# Apply the mask to the DataFrame\n",
    "target = target[target['Jaccard_Score'] <= 0.45]"
   ]
  },
  {
   "cell_type": "code",
   "execution_count": 79,
   "id": "ea9040c0",
   "metadata": {},
   "outputs": [
    {
     "data": {
      "text/plain": [
       "No     8554\n",
       "Yes    7545\n",
       "Name: protein_match, dtype: int64"
      ]
     },
     "execution_count": 79,
     "metadata": {},
     "output_type": "execute_result"
    }
   ],
   "source": [
    "target['protein_match'].value_counts()"
   ]
  },
  {
   "cell_type": "code",
   "execution_count": 12,
   "id": "f76555ce",
   "metadata": {},
   "outputs": [],
   "source": [
    "from sklearn.utils import resample\n",
    "\n",
    "# Assuming your data is in a pandas DataFrame called 'data'\n",
    "# Separate the majority and minority classes\n",
    "majority_class = target[target['protein_match'] == 'Yes']\n",
    "minority_class = target[target['protein_match'] == 'No']\n",
    "\n",
    "# Undersample the majority class to match the number of minority class samples\n",
    "n_samples = len(minority_class)\n",
    "undersampled_majority = resample(majority_class, n_samples=n_samples, replace=False)\n",
    "\n",
    "# Combine the undersampled majority class with the minority class\n",
    "balanced_data = pd.concat([undersampled_majority, minority_class])"
   ]
  },
  {
   "cell_type": "code",
   "execution_count": 13,
   "id": "23220b7a",
   "metadata": {},
   "outputs": [
    {
     "data": {
      "text/html": [
       "<div>\n",
       "<style scoped>\n",
       "    .dataframe tbody tr th:only-of-type {\n",
       "        vertical-align: middle;\n",
       "    }\n",
       "\n",
       "    .dataframe tbody tr th {\n",
       "        vertical-align: top;\n",
       "    }\n",
       "\n",
       "    .dataframe thead th {\n",
       "        text-align: right;\n",
       "    }\n",
       "</style>\n",
       "<table border=\"1\" class=\"dataframe\">\n",
       "  <thead>\n",
       "    <tr style=\"text-align: right;\">\n",
       "      <th></th>\n",
       "      <th>prot_pair_index</th>\n",
       "      <th>protein_match</th>\n",
       "      <th>Jaccard_Score</th>\n",
       "    </tr>\n",
       "  </thead>\n",
       "  <tbody>\n",
       "    <tr>\n",
       "      <th>15103</th>\n",
       "      <td>40402339</td>\n",
       "      <td>Yes</td>\n",
       "      <td>0.666667</td>\n",
       "    </tr>\n",
       "    <tr>\n",
       "      <th>8701</th>\n",
       "      <td>47080120</td>\n",
       "      <td>Yes</td>\n",
       "      <td>1.000000</td>\n",
       "    </tr>\n",
       "    <tr>\n",
       "      <th>43869</th>\n",
       "      <td>176178293</td>\n",
       "      <td>Yes</td>\n",
       "      <td>0.600000</td>\n",
       "    </tr>\n",
       "    <tr>\n",
       "      <th>30414</th>\n",
       "      <td>140789469</td>\n",
       "      <td>Yes</td>\n",
       "      <td>0.600000</td>\n",
       "    </tr>\n",
       "    <tr>\n",
       "      <th>39720</th>\n",
       "      <td>94620951</td>\n",
       "      <td>Yes</td>\n",
       "      <td>0.500000</td>\n",
       "    </tr>\n",
       "    <tr>\n",
       "      <th>...</th>\n",
       "      <td>...</td>\n",
       "      <td>...</td>\n",
       "      <td>...</td>\n",
       "    </tr>\n",
       "    <tr>\n",
       "      <th>48833</th>\n",
       "      <td>70996712</td>\n",
       "      <td>No</td>\n",
       "      <td>0.285714</td>\n",
       "    </tr>\n",
       "    <tr>\n",
       "      <th>48839</th>\n",
       "      <td>14456723</td>\n",
       "      <td>No</td>\n",
       "      <td>0.250000</td>\n",
       "    </tr>\n",
       "    <tr>\n",
       "      <th>48845</th>\n",
       "      <td>78849058</td>\n",
       "      <td>No</td>\n",
       "      <td>0.250000</td>\n",
       "    </tr>\n",
       "    <tr>\n",
       "      <th>48847</th>\n",
       "      <td>161110219</td>\n",
       "      <td>No</td>\n",
       "      <td>0.250000</td>\n",
       "    </tr>\n",
       "    <tr>\n",
       "      <th>48849</th>\n",
       "      <td>143737378</td>\n",
       "      <td>No</td>\n",
       "      <td>0.250000</td>\n",
       "    </tr>\n",
       "  </tbody>\n",
       "</table>\n",
       "<p>17108 rows × 3 columns</p>\n",
       "</div>"
      ],
      "text/plain": [
       "       prot_pair_index protein_match  Jaccard_Score\n",
       "15103         40402339           Yes       0.666667\n",
       "8701          47080120           Yes       1.000000\n",
       "43869        176178293           Yes       0.600000\n",
       "30414        140789469           Yes       0.600000\n",
       "39720         94620951           Yes       0.500000\n",
       "...                ...           ...            ...\n",
       "48833         70996712            No       0.285714\n",
       "48839         14456723            No       0.250000\n",
       "48845         78849058            No       0.250000\n",
       "48847        161110219            No       0.250000\n",
       "48849        143737378            No       0.250000\n",
       "\n",
       "[17108 rows x 3 columns]"
      ]
     },
     "execution_count": 13,
     "metadata": {},
     "output_type": "execute_result"
    }
   ],
   "source": [
    "balanced_data"
   ]
  },
  {
   "cell_type": "code",
   "execution_count": 81,
   "id": "792508bb",
   "metadata": {},
   "outputs": [
    {
     "data": {
      "text/plain": [
       "(16099, 32)"
      ]
     },
     "execution_count": 81,
     "metadata": {},
     "output_type": "execute_result"
    }
   ],
   "source": [
    "df = pd.merge(df, target, on=['prot_pair_index'])\n",
    "df.shape"
   ]
  },
  {
   "cell_type": "code",
   "execution_count": 82,
   "id": "aabaa4a3",
   "metadata": {},
   "outputs": [],
   "source": [
    "\"\"\"\n",
    "this list comes from a combination of reading through the features and determining which might be useful\n",
    "and timing some of the feature generations. those that took more than 30ish seconds were eliminated\n",
    "Also removed those that have really high dimensionality (>4000)\n",
    "\"\"\"\n",
    "\n",
    "feature_list = ['AAC', 'GAAC', 'DistancePair',\n",
    "               'CTDC', 'CTDT', 'CTDD', 'CTriad', 'GDPC type 1', 'GDPC type 2',\n",
    "                'CKSAAGP type 1', 'CKSAAGP type 2', 'PseKRAAC type 2', 'PseKRAAC type 3A','PseKRAAC type 7',\n",
    "                'PseKRAAC type 9', 'Geary','APAAC', 'QSOrder']"
   ]
  },
  {
   "cell_type": "code",
   "execution_count": 83,
   "id": "10e7fe5d",
   "metadata": {
    "scrolled": true
   },
   "outputs": [],
   "source": [
    "# df = create_new_dataframe(df, 'seq_50k.fasta', descriptors= ['EGAAC', 'CKSAAGP type 1', 'CKSAAGP type 2',\n",
    "#                                                             'GDPC type 1', 'GDPC type 2', 'TPC type 1', 'TPC type 2',\n",
    "#                                                             'GTPC type 1', 'GTPC type 2', 'DPC type 1', 'DPC type 2',\n",
    "#                                                             'Moran', 'Geary', 'NMBroto', 'AC', 'CC', 'ACC',\n",
    "#                                                             'PAAC', 'APAAC'])"
   ]
  },
  {
   "cell_type": "code",
   "execution_count": 84,
   "id": "b68374d7",
   "metadata": {
    "scrolled": true
   },
   "outputs": [
    {
     "name": "stdout",
     "output_type": "stream",
     "text": [
      "File imported successfully.\n",
      "File imported successfully.\n"
     ]
    }
   ],
   "source": [
    "df = create_new_dataframe(df, ['seq_50k_a.fasta', 'seq_50k_b.fasta'], descriptors=['GAAC'])"
   ]
  },
  {
   "cell_type": "markdown",
   "id": "90871d01",
   "metadata": {},
   "source": [
    "Split data into dev and test, and then split that into train and validation."
   ]
  },
  {
   "cell_type": "code",
   "execution_count": 85,
   "id": "6519dcaf",
   "metadata": {},
   "outputs": [],
   "source": [
    "#drop columns that don't exihibit signficant pearson correlation with bit_score\n",
    "\n",
    "df = df.drop(columns = ['meso_index', 'meso_protein_int_index', 'local_gap_compressed_percent_id_16s', \n",
    "                        'scaled_local_query_percent_id_16s', 'scaled_local_symmetric_percent_id_16s',\n",
    "                       'bit_score_16s', 'm_ogt', 't_ogt', 'taxa_pair_index', 'thermo_protein_int_index'\n",
    "                       , 'prot_pair_index', 'ogt_difference', 'Jaccard_Score',\n",
    "                       'query_align_cov_16s', 'subject_align_cov_16s',\n",
    "                       'Unnamed: 0', 'thermo_index','m_protein_seq', 't_protein_seq', \n",
    "                       'm_protein_desc', 't_protein_desc'])"
   ]
  },
  {
   "cell_type": "code",
   "execution_count": 86,
   "id": "e571a475",
   "metadata": {
    "scrolled": true
   },
   "outputs": [
    {
     "data": {
      "text/html": [
       "<div>\n",
       "<style scoped>\n",
       "    .dataframe tbody tr th:only-of-type {\n",
       "        vertical-align: middle;\n",
       "    }\n",
       "\n",
       "    .dataframe tbody tr th {\n",
       "        vertical-align: top;\n",
       "    }\n",
       "\n",
       "    .dataframe thead th {\n",
       "        text-align: right;\n",
       "    }\n",
       "</style>\n",
       "<table border=\"1\" class=\"dataframe\">\n",
       "  <thead>\n",
       "    <tr style=\"text-align: right;\">\n",
       "      <th></th>\n",
       "      <th>local_gap_compressed_percent_id</th>\n",
       "      <th>scaled_local_query_percent_id</th>\n",
       "      <th>scaled_local_symmetric_percent_id</th>\n",
       "      <th>query_align_len</th>\n",
       "      <th>query_align_cov</th>\n",
       "      <th>subject_align_len</th>\n",
       "      <th>subject_align_cov</th>\n",
       "      <th>bit_score</th>\n",
       "      <th>m_protein_len</th>\n",
       "      <th>t_protein_len</th>\n",
       "      <th>protein_match</th>\n",
       "      <th>GAAC_alphatic</th>\n",
       "      <th>GAAC_aromatic</th>\n",
       "      <th>GAAC_postivecharge</th>\n",
       "      <th>GAAC_negativecharge</th>\n",
       "      <th>GAAC_uncharge</th>\n",
       "    </tr>\n",
       "  </thead>\n",
       "  <tbody>\n",
       "    <tr>\n",
       "      <th>0</th>\n",
       "      <td>0.275281</td>\n",
       "      <td>0.182156</td>\n",
       "      <td>0.152174</td>\n",
       "      <td>185</td>\n",
       "      <td>0.687732</td>\n",
       "      <td>197</td>\n",
       "      <td>0.525333</td>\n",
       "      <td>48</td>\n",
       "      <td>375</td>\n",
       "      <td>269</td>\n",
       "      <td>No</td>\n",
       "      <td>1.145322</td>\n",
       "      <td>0.868351</td>\n",
       "      <td>1.021657</td>\n",
       "      <td>1.099911</td>\n",
       "      <td>0.727882</td>\n",
       "    </tr>\n",
       "    <tr>\n",
       "      <th>1</th>\n",
       "      <td>0.354067</td>\n",
       "      <td>0.245847</td>\n",
       "      <td>0.225954</td>\n",
       "      <td>208</td>\n",
       "      <td>0.691030</td>\n",
       "      <td>216</td>\n",
       "      <td>0.610170</td>\n",
       "      <td>264</td>\n",
       "      <td>354</td>\n",
       "      <td>301</td>\n",
       "      <td>Yes</td>\n",
       "      <td>0.855840</td>\n",
       "      <td>1.700565</td>\n",
       "      <td>1.105367</td>\n",
       "      <td>1.118793</td>\n",
       "      <td>1.105367</td>\n",
       "    </tr>\n",
       "    <tr>\n",
       "      <th>2</th>\n",
       "      <td>0.270000</td>\n",
       "      <td>0.220408</td>\n",
       "      <td>0.222680</td>\n",
       "      <td>195</td>\n",
       "      <td>0.795918</td>\n",
       "      <td>210</td>\n",
       "      <td>0.875000</td>\n",
       "      <td>173</td>\n",
       "      <td>240</td>\n",
       "      <td>245</td>\n",
       "      <td>Yes</td>\n",
       "      <td>1.081477</td>\n",
       "      <td>0.850694</td>\n",
       "      <td>0.680556</td>\n",
       "      <td>0.922043</td>\n",
       "      <td>1.259752</td>\n",
       "    </tr>\n",
       "    <tr>\n",
       "      <th>3</th>\n",
       "      <td>0.268908</td>\n",
       "      <td>0.232727</td>\n",
       "      <td>0.247582</td>\n",
       "      <td>239</td>\n",
       "      <td>0.869091</td>\n",
       "      <td>236</td>\n",
       "      <td>0.975207</td>\n",
       "      <td>191</td>\n",
       "      <td>242</td>\n",
       "      <td>275</td>\n",
       "      <td>Yes</td>\n",
       "      <td>0.981818</td>\n",
       "      <td>1.217532</td>\n",
       "      <td>1.019814</td>\n",
       "      <td>1.409091</td>\n",
       "      <td>0.836490</td>\n",
       "    </tr>\n",
       "    <tr>\n",
       "      <th>4</th>\n",
       "      <td>0.253275</td>\n",
       "      <td>0.232000</td>\n",
       "      <td>0.230616</td>\n",
       "      <td>229</td>\n",
       "      <td>0.916000</td>\n",
       "      <td>227</td>\n",
       "      <td>0.897233</td>\n",
       "      <td>227</td>\n",
       "      <td>253</td>\n",
       "      <td>250</td>\n",
       "      <td>Yes</td>\n",
       "      <td>1.122453</td>\n",
       "      <td>0.790514</td>\n",
       "      <td>1.038816</td>\n",
       "      <td>1.018086</td>\n",
       "      <td>0.806983</td>\n",
       "    </tr>\n",
       "    <tr>\n",
       "      <th>...</th>\n",
       "      <td>...</td>\n",
       "      <td>...</td>\n",
       "      <td>...</td>\n",
       "      <td>...</td>\n",
       "      <td>...</td>\n",
       "      <td>...</td>\n",
       "      <td>...</td>\n",
       "      <td>...</td>\n",
       "      <td>...</td>\n",
       "      <td>...</td>\n",
       "      <td>...</td>\n",
       "      <td>...</td>\n",
       "      <td>...</td>\n",
       "      <td>...</td>\n",
       "      <td>...</td>\n",
       "      <td>...</td>\n",
       "    </tr>\n",
       "    <tr>\n",
       "      <th>16094</th>\n",
       "      <td>0.284091</td>\n",
       "      <td>0.223214</td>\n",
       "      <td>0.245700</td>\n",
       "      <td>190</td>\n",
       "      <td>0.848214</td>\n",
       "      <td>175</td>\n",
       "      <td>0.956284</td>\n",
       "      <td>112</td>\n",
       "      <td>183</td>\n",
       "      <td>224</td>\n",
       "      <td>No</td>\n",
       "      <td>1.086768</td>\n",
       "      <td>0.979235</td>\n",
       "      <td>1.142441</td>\n",
       "      <td>0.559563</td>\n",
       "      <td>1.041739</td>\n",
       "    </tr>\n",
       "    <tr>\n",
       "      <th>16095</th>\n",
       "      <td>0.300000</td>\n",
       "      <td>0.300000</td>\n",
       "      <td>0.104803</td>\n",
       "      <td>80</td>\n",
       "      <td>1.000000</td>\n",
       "      <td>79</td>\n",
       "      <td>0.208995</td>\n",
       "      <td>104</td>\n",
       "      <td>378</td>\n",
       "      <td>80</td>\n",
       "      <td>Yes</td>\n",
       "      <td>0.898041</td>\n",
       "      <td>1.128748</td>\n",
       "      <td>1.096681</td>\n",
       "      <td>0.697168</td>\n",
       "      <td>1.787184</td>\n",
       "    </tr>\n",
       "    <tr>\n",
       "      <th>16096</th>\n",
       "      <td>0.344828</td>\n",
       "      <td>0.169972</td>\n",
       "      <td>0.192308</td>\n",
       "      <td>180</td>\n",
       "      <td>0.509915</td>\n",
       "      <td>200</td>\n",
       "      <td>0.738007</td>\n",
       "      <td>53</td>\n",
       "      <td>271</td>\n",
       "      <td>353</td>\n",
       "      <td>No</td>\n",
       "      <td>1.008708</td>\n",
       "      <td>2.388069</td>\n",
       "      <td>0.817901</td>\n",
       "      <td>1.302583</td>\n",
       "      <td>0.784208</td>\n",
       "    </tr>\n",
       "    <tr>\n",
       "      <th>16097</th>\n",
       "      <td>0.352174</td>\n",
       "      <td>0.239645</td>\n",
       "      <td>0.242152</td>\n",
       "      <td>230</td>\n",
       "      <td>0.680473</td>\n",
       "      <td>227</td>\n",
       "      <td>0.685801</td>\n",
       "      <td>279</td>\n",
       "      <td>331</td>\n",
       "      <td>338</td>\n",
       "      <td>No</td>\n",
       "      <td>1.045903</td>\n",
       "      <td>1.106244</td>\n",
       "      <td>0.799159</td>\n",
       "      <td>1.134609</td>\n",
       "      <td>0.943592</td>\n",
       "    </tr>\n",
       "    <tr>\n",
       "      <th>16098</th>\n",
       "      <td>0.336207</td>\n",
       "      <td>0.184834</td>\n",
       "      <td>0.174497</td>\n",
       "      <td>113</td>\n",
       "      <td>0.535545</td>\n",
       "      <td>117</td>\n",
       "      <td>0.495763</td>\n",
       "      <td>165</td>\n",
       "      <td>236</td>\n",
       "      <td>211</td>\n",
       "      <td>No</td>\n",
       "      <td>1.084295</td>\n",
       "      <td>0.558792</td>\n",
       "      <td>0.960295</td>\n",
       "      <td>0.919613</td>\n",
       "      <td>0.989181</td>\n",
       "    </tr>\n",
       "  </tbody>\n",
       "</table>\n",
       "<p>16099 rows × 16 columns</p>\n",
       "</div>"
      ],
      "text/plain": [
       "       local_gap_compressed_percent_id  scaled_local_query_percent_id  \\\n",
       "0                             0.275281                       0.182156   \n",
       "1                             0.354067                       0.245847   \n",
       "2                             0.270000                       0.220408   \n",
       "3                             0.268908                       0.232727   \n",
       "4                             0.253275                       0.232000   \n",
       "...                                ...                            ...   \n",
       "16094                         0.284091                       0.223214   \n",
       "16095                         0.300000                       0.300000   \n",
       "16096                         0.344828                       0.169972   \n",
       "16097                         0.352174                       0.239645   \n",
       "16098                         0.336207                       0.184834   \n",
       "\n",
       "       scaled_local_symmetric_percent_id  query_align_len  query_align_cov  \\\n",
       "0                               0.152174              185         0.687732   \n",
       "1                               0.225954              208         0.691030   \n",
       "2                               0.222680              195         0.795918   \n",
       "3                               0.247582              239         0.869091   \n",
       "4                               0.230616              229         0.916000   \n",
       "...                                  ...              ...              ...   \n",
       "16094                           0.245700              190         0.848214   \n",
       "16095                           0.104803               80         1.000000   \n",
       "16096                           0.192308              180         0.509915   \n",
       "16097                           0.242152              230         0.680473   \n",
       "16098                           0.174497              113         0.535545   \n",
       "\n",
       "       subject_align_len  subject_align_cov  bit_score  m_protein_len  \\\n",
       "0                    197           0.525333         48            375   \n",
       "1                    216           0.610170        264            354   \n",
       "2                    210           0.875000        173            240   \n",
       "3                    236           0.975207        191            242   \n",
       "4                    227           0.897233        227            253   \n",
       "...                  ...                ...        ...            ...   \n",
       "16094                175           0.956284        112            183   \n",
       "16095                 79           0.208995        104            378   \n",
       "16096                200           0.738007         53            271   \n",
       "16097                227           0.685801        279            331   \n",
       "16098                117           0.495763        165            236   \n",
       "\n",
       "       t_protein_len protein_match  GAAC_alphatic  GAAC_aromatic  \\\n",
       "0                269            No       1.145322       0.868351   \n",
       "1                301           Yes       0.855840       1.700565   \n",
       "2                245           Yes       1.081477       0.850694   \n",
       "3                275           Yes       0.981818       1.217532   \n",
       "4                250           Yes       1.122453       0.790514   \n",
       "...              ...           ...            ...            ...   \n",
       "16094            224            No       1.086768       0.979235   \n",
       "16095             80           Yes       0.898041       1.128748   \n",
       "16096            353            No       1.008708       2.388069   \n",
       "16097            338            No       1.045903       1.106244   \n",
       "16098            211            No       1.084295       0.558792   \n",
       "\n",
       "       GAAC_postivecharge  GAAC_negativecharge  GAAC_uncharge  \n",
       "0                1.021657             1.099911       0.727882  \n",
       "1                1.105367             1.118793       1.105367  \n",
       "2                0.680556             0.922043       1.259752  \n",
       "3                1.019814             1.409091       0.836490  \n",
       "4                1.038816             1.018086       0.806983  \n",
       "...                   ...                  ...            ...  \n",
       "16094            1.142441             0.559563       1.041739  \n",
       "16095            1.096681             0.697168       1.787184  \n",
       "16096            0.817901             1.302583       0.784208  \n",
       "16097            0.799159             1.134609       0.943592  \n",
       "16098            0.960295             0.919613       0.989181  \n",
       "\n",
       "[16099 rows x 16 columns]"
      ]
     },
     "execution_count": 86,
     "metadata": {},
     "output_type": "execute_result"
    }
   ],
   "source": [
    "df=df.drop(columns=['index_y', 'index_x'])\n",
    "df"
   ]
  },
  {
   "cell_type": "code",
   "execution_count": 87,
   "id": "2eef6326",
   "metadata": {},
   "outputs": [
    {
     "data": {
      "text/plain": [
       "Index(['local_gap_compressed_percent_id', 'scaled_local_query_percent_id',\n",
       "       'scaled_local_symmetric_percent_id', 'query_align_len',\n",
       "       'query_align_cov', 'subject_align_len', 'subject_align_cov',\n",
       "       'bit_score', 'm_protein_len', 't_protein_len', 'protein_match',\n",
       "       'GAAC_alphatic', 'GAAC_aromatic', 'GAAC_postivecharge',\n",
       "       'GAAC_negativecharge', 'GAAC_uncharge'],\n",
       "      dtype='object')"
      ]
     },
     "execution_count": 87,
     "metadata": {},
     "output_type": "execute_result"
    }
   ],
   "source": [
    "df.columns"
   ]
  },
  {
   "cell_type": "code",
   "execution_count": 65,
   "id": "904999ad",
   "metadata": {},
   "outputs": [],
   "source": [
    "df=df.drop(columns=['local_gap_compressed_percent_id', 'scaled_local_query_percent_id',\n",
    "       'scaled_local_symmetric_percent_id', 'query_align_len',\n",
    "       'query_align_cov', 'subject_align_len', 'subject_align_cov',\n",
    "       'bit_score', 'm_protein_len', 't_protein_len'])"
   ]
  },
  {
   "cell_type": "code",
   "execution_count": 88,
   "id": "b58084c8",
   "metadata": {
    "scrolled": true
   },
   "outputs": [
    {
     "data": {
      "text/html": [
       "<div>\n",
       "<style scoped>\n",
       "    .dataframe tbody tr th:only-of-type {\n",
       "        vertical-align: middle;\n",
       "    }\n",
       "\n",
       "    .dataframe tbody tr th {\n",
       "        vertical-align: top;\n",
       "    }\n",
       "\n",
       "    .dataframe thead th {\n",
       "        text-align: right;\n",
       "    }\n",
       "</style>\n",
       "<table border=\"1\" class=\"dataframe\">\n",
       "  <thead>\n",
       "    <tr style=\"text-align: right;\">\n",
       "      <th></th>\n",
       "      <th>local_gap_compressed_percent_id</th>\n",
       "      <th>scaled_local_query_percent_id</th>\n",
       "      <th>scaled_local_symmetric_percent_id</th>\n",
       "      <th>query_align_len</th>\n",
       "      <th>query_align_cov</th>\n",
       "      <th>subject_align_len</th>\n",
       "      <th>subject_align_cov</th>\n",
       "      <th>bit_score</th>\n",
       "      <th>m_protein_len</th>\n",
       "      <th>t_protein_len</th>\n",
       "      <th>protein_match</th>\n",
       "      <th>GAAC_alphatic</th>\n",
       "      <th>GAAC_aromatic</th>\n",
       "      <th>GAAC_postivecharge</th>\n",
       "      <th>GAAC_negativecharge</th>\n",
       "      <th>GAAC_uncharge</th>\n",
       "    </tr>\n",
       "  </thead>\n",
       "  <tbody>\n",
       "    <tr>\n",
       "      <th>0</th>\n",
       "      <td>0.275281</td>\n",
       "      <td>0.182156</td>\n",
       "      <td>0.152174</td>\n",
       "      <td>185</td>\n",
       "      <td>0.687732</td>\n",
       "      <td>197</td>\n",
       "      <td>0.525333</td>\n",
       "      <td>48</td>\n",
       "      <td>375</td>\n",
       "      <td>269</td>\n",
       "      <td>No</td>\n",
       "      <td>1.145322</td>\n",
       "      <td>0.868351</td>\n",
       "      <td>1.021657</td>\n",
       "      <td>1.099911</td>\n",
       "      <td>0.727882</td>\n",
       "    </tr>\n",
       "    <tr>\n",
       "      <th>1</th>\n",
       "      <td>0.354067</td>\n",
       "      <td>0.245847</td>\n",
       "      <td>0.225954</td>\n",
       "      <td>208</td>\n",
       "      <td>0.691030</td>\n",
       "      <td>216</td>\n",
       "      <td>0.610170</td>\n",
       "      <td>264</td>\n",
       "      <td>354</td>\n",
       "      <td>301</td>\n",
       "      <td>Yes</td>\n",
       "      <td>0.855840</td>\n",
       "      <td>1.700565</td>\n",
       "      <td>1.105367</td>\n",
       "      <td>1.118793</td>\n",
       "      <td>1.105367</td>\n",
       "    </tr>\n",
       "    <tr>\n",
       "      <th>2</th>\n",
       "      <td>0.270000</td>\n",
       "      <td>0.220408</td>\n",
       "      <td>0.222680</td>\n",
       "      <td>195</td>\n",
       "      <td>0.795918</td>\n",
       "      <td>210</td>\n",
       "      <td>0.875000</td>\n",
       "      <td>173</td>\n",
       "      <td>240</td>\n",
       "      <td>245</td>\n",
       "      <td>Yes</td>\n",
       "      <td>1.081477</td>\n",
       "      <td>0.850694</td>\n",
       "      <td>0.680556</td>\n",
       "      <td>0.922043</td>\n",
       "      <td>1.259752</td>\n",
       "    </tr>\n",
       "    <tr>\n",
       "      <th>3</th>\n",
       "      <td>0.268908</td>\n",
       "      <td>0.232727</td>\n",
       "      <td>0.247582</td>\n",
       "      <td>239</td>\n",
       "      <td>0.869091</td>\n",
       "      <td>236</td>\n",
       "      <td>0.975207</td>\n",
       "      <td>191</td>\n",
       "      <td>242</td>\n",
       "      <td>275</td>\n",
       "      <td>Yes</td>\n",
       "      <td>0.981818</td>\n",
       "      <td>1.217532</td>\n",
       "      <td>1.019814</td>\n",
       "      <td>1.409091</td>\n",
       "      <td>0.836490</td>\n",
       "    </tr>\n",
       "    <tr>\n",
       "      <th>4</th>\n",
       "      <td>0.253275</td>\n",
       "      <td>0.232000</td>\n",
       "      <td>0.230616</td>\n",
       "      <td>229</td>\n",
       "      <td>0.916000</td>\n",
       "      <td>227</td>\n",
       "      <td>0.897233</td>\n",
       "      <td>227</td>\n",
       "      <td>253</td>\n",
       "      <td>250</td>\n",
       "      <td>Yes</td>\n",
       "      <td>1.122453</td>\n",
       "      <td>0.790514</td>\n",
       "      <td>1.038816</td>\n",
       "      <td>1.018086</td>\n",
       "      <td>0.806983</td>\n",
       "    </tr>\n",
       "    <tr>\n",
       "      <th>...</th>\n",
       "      <td>...</td>\n",
       "      <td>...</td>\n",
       "      <td>...</td>\n",
       "      <td>...</td>\n",
       "      <td>...</td>\n",
       "      <td>...</td>\n",
       "      <td>...</td>\n",
       "      <td>...</td>\n",
       "      <td>...</td>\n",
       "      <td>...</td>\n",
       "      <td>...</td>\n",
       "      <td>...</td>\n",
       "      <td>...</td>\n",
       "      <td>...</td>\n",
       "      <td>...</td>\n",
       "      <td>...</td>\n",
       "    </tr>\n",
       "    <tr>\n",
       "      <th>16094</th>\n",
       "      <td>0.284091</td>\n",
       "      <td>0.223214</td>\n",
       "      <td>0.245700</td>\n",
       "      <td>190</td>\n",
       "      <td>0.848214</td>\n",
       "      <td>175</td>\n",
       "      <td>0.956284</td>\n",
       "      <td>112</td>\n",
       "      <td>183</td>\n",
       "      <td>224</td>\n",
       "      <td>No</td>\n",
       "      <td>1.086768</td>\n",
       "      <td>0.979235</td>\n",
       "      <td>1.142441</td>\n",
       "      <td>0.559563</td>\n",
       "      <td>1.041739</td>\n",
       "    </tr>\n",
       "    <tr>\n",
       "      <th>16095</th>\n",
       "      <td>0.300000</td>\n",
       "      <td>0.300000</td>\n",
       "      <td>0.104803</td>\n",
       "      <td>80</td>\n",
       "      <td>1.000000</td>\n",
       "      <td>79</td>\n",
       "      <td>0.208995</td>\n",
       "      <td>104</td>\n",
       "      <td>378</td>\n",
       "      <td>80</td>\n",
       "      <td>Yes</td>\n",
       "      <td>0.898041</td>\n",
       "      <td>1.128748</td>\n",
       "      <td>1.096681</td>\n",
       "      <td>0.697168</td>\n",
       "      <td>1.787184</td>\n",
       "    </tr>\n",
       "    <tr>\n",
       "      <th>16096</th>\n",
       "      <td>0.344828</td>\n",
       "      <td>0.169972</td>\n",
       "      <td>0.192308</td>\n",
       "      <td>180</td>\n",
       "      <td>0.509915</td>\n",
       "      <td>200</td>\n",
       "      <td>0.738007</td>\n",
       "      <td>53</td>\n",
       "      <td>271</td>\n",
       "      <td>353</td>\n",
       "      <td>No</td>\n",
       "      <td>1.008708</td>\n",
       "      <td>2.388069</td>\n",
       "      <td>0.817901</td>\n",
       "      <td>1.302583</td>\n",
       "      <td>0.784208</td>\n",
       "    </tr>\n",
       "    <tr>\n",
       "      <th>16097</th>\n",
       "      <td>0.352174</td>\n",
       "      <td>0.239645</td>\n",
       "      <td>0.242152</td>\n",
       "      <td>230</td>\n",
       "      <td>0.680473</td>\n",
       "      <td>227</td>\n",
       "      <td>0.685801</td>\n",
       "      <td>279</td>\n",
       "      <td>331</td>\n",
       "      <td>338</td>\n",
       "      <td>No</td>\n",
       "      <td>1.045903</td>\n",
       "      <td>1.106244</td>\n",
       "      <td>0.799159</td>\n",
       "      <td>1.134609</td>\n",
       "      <td>0.943592</td>\n",
       "    </tr>\n",
       "    <tr>\n",
       "      <th>16098</th>\n",
       "      <td>0.336207</td>\n",
       "      <td>0.184834</td>\n",
       "      <td>0.174497</td>\n",
       "      <td>113</td>\n",
       "      <td>0.535545</td>\n",
       "      <td>117</td>\n",
       "      <td>0.495763</td>\n",
       "      <td>165</td>\n",
       "      <td>236</td>\n",
       "      <td>211</td>\n",
       "      <td>No</td>\n",
       "      <td>1.084295</td>\n",
       "      <td>0.558792</td>\n",
       "      <td>0.960295</td>\n",
       "      <td>0.919613</td>\n",
       "      <td>0.989181</td>\n",
       "    </tr>\n",
       "  </tbody>\n",
       "</table>\n",
       "<p>16099 rows × 16 columns</p>\n",
       "</div>"
      ],
      "text/plain": [
       "       local_gap_compressed_percent_id  scaled_local_query_percent_id  \\\n",
       "0                             0.275281                       0.182156   \n",
       "1                             0.354067                       0.245847   \n",
       "2                             0.270000                       0.220408   \n",
       "3                             0.268908                       0.232727   \n",
       "4                             0.253275                       0.232000   \n",
       "...                                ...                            ...   \n",
       "16094                         0.284091                       0.223214   \n",
       "16095                         0.300000                       0.300000   \n",
       "16096                         0.344828                       0.169972   \n",
       "16097                         0.352174                       0.239645   \n",
       "16098                         0.336207                       0.184834   \n",
       "\n",
       "       scaled_local_symmetric_percent_id  query_align_len  query_align_cov  \\\n",
       "0                               0.152174              185         0.687732   \n",
       "1                               0.225954              208         0.691030   \n",
       "2                               0.222680              195         0.795918   \n",
       "3                               0.247582              239         0.869091   \n",
       "4                               0.230616              229         0.916000   \n",
       "...                                  ...              ...              ...   \n",
       "16094                           0.245700              190         0.848214   \n",
       "16095                           0.104803               80         1.000000   \n",
       "16096                           0.192308              180         0.509915   \n",
       "16097                           0.242152              230         0.680473   \n",
       "16098                           0.174497              113         0.535545   \n",
       "\n",
       "       subject_align_len  subject_align_cov  bit_score  m_protein_len  \\\n",
       "0                    197           0.525333         48            375   \n",
       "1                    216           0.610170        264            354   \n",
       "2                    210           0.875000        173            240   \n",
       "3                    236           0.975207        191            242   \n",
       "4                    227           0.897233        227            253   \n",
       "...                  ...                ...        ...            ...   \n",
       "16094                175           0.956284        112            183   \n",
       "16095                 79           0.208995        104            378   \n",
       "16096                200           0.738007         53            271   \n",
       "16097                227           0.685801        279            331   \n",
       "16098                117           0.495763        165            236   \n",
       "\n",
       "       t_protein_len protein_match  GAAC_alphatic  GAAC_aromatic  \\\n",
       "0                269            No       1.145322       0.868351   \n",
       "1                301           Yes       0.855840       1.700565   \n",
       "2                245           Yes       1.081477       0.850694   \n",
       "3                275           Yes       0.981818       1.217532   \n",
       "4                250           Yes       1.122453       0.790514   \n",
       "...              ...           ...            ...            ...   \n",
       "16094            224            No       1.086768       0.979235   \n",
       "16095             80           Yes       0.898041       1.128748   \n",
       "16096            353            No       1.008708       2.388069   \n",
       "16097            338            No       1.045903       1.106244   \n",
       "16098            211            No       1.084295       0.558792   \n",
       "\n",
       "       GAAC_postivecharge  GAAC_negativecharge  GAAC_uncharge  \n",
       "0                1.021657             1.099911       0.727882  \n",
       "1                1.105367             1.118793       1.105367  \n",
       "2                0.680556             0.922043       1.259752  \n",
       "3                1.019814             1.409091       0.836490  \n",
       "4                1.038816             1.018086       0.806983  \n",
       "...                   ...                  ...            ...  \n",
       "16094            1.142441             0.559563       1.041739  \n",
       "16095            1.096681             0.697168       1.787184  \n",
       "16096            0.817901             1.302583       0.784208  \n",
       "16097            0.799159             1.134609       0.943592  \n",
       "16098            0.960295             0.919613       0.989181  \n",
       "\n",
       "[16099 rows x 16 columns]"
      ]
     },
     "execution_count": 88,
     "metadata": {},
     "output_type": "execute_result"
    }
   ],
   "source": [
    "df"
   ]
  },
  {
   "cell_type": "code",
   "execution_count": 67,
   "id": "a6f63660",
   "metadata": {},
   "outputs": [],
   "source": [
    "#maybe divide all of the AAC/GAAC columns by the protein length "
   ]
  },
  {
   "cell_type": "code",
   "execution_count": 89,
   "id": "63777c88",
   "metadata": {
    "scrolled": false
   },
   "outputs": [
    {
     "data": {
      "text/plain": [
       "(16099, 16)"
      ]
     },
     "execution_count": 89,
     "metadata": {},
     "output_type": "execute_result"
    }
   ],
   "source": [
    "df.shape"
   ]
  },
  {
   "cell_type": "code",
   "execution_count": 90,
   "id": "6894895e",
   "metadata": {},
   "outputs": [],
   "source": [
    "df = df.replace([np.inf, -np.inf], np.nan)"
   ]
  },
  {
   "cell_type": "code",
   "execution_count": 91,
   "id": "3ae4f2f0",
   "metadata": {
    "scrolled": false
   },
   "outputs": [
    {
     "name": "stdout",
     "output_type": "stream",
     "text": [
      "local_gap_compressed_percent_id      0\n",
      "scaled_local_query_percent_id        0\n",
      "scaled_local_symmetric_percent_id    0\n",
      "query_align_len                      0\n",
      "query_align_cov                      0\n",
      "subject_align_len                    0\n",
      "subject_align_cov                    0\n",
      "bit_score                            0\n",
      "m_protein_len                        0\n",
      "t_protein_len                        0\n",
      "protein_match                        0\n",
      "GAAC_alphatic                        0\n",
      "GAAC_aromatic                        3\n",
      "GAAC_postivecharge                   0\n",
      "GAAC_negativecharge                  1\n",
      "GAAC_uncharge                        0\n",
      "dtype: int64\n"
     ]
    },
    {
     "data": {
      "text/plain": [
       "array([0, 3, 1])"
      ]
     },
     "execution_count": 91,
     "metadata": {},
     "output_type": "execute_result"
    }
   ],
   "source": [
    "nan_counts = df.isna().sum()\n",
    "print(nan_counts)\n",
    "nan_counts.unique()"
   ]
  },
  {
   "cell_type": "code",
   "execution_count": 107,
   "id": "16e9a97d",
   "metadata": {
    "scrolled": false
   },
   "outputs": [
    {
     "data": {
      "text/plain": [
       "Index(['QSOrder_Grantham.Xd.2', 'QSOrder_Grantham.Xd.3'], dtype='object')"
      ]
     },
     "execution_count": 107,
     "metadata": {},
     "output_type": "execute_result"
    }
   ],
   "source": [
    "df.columns[36:]"
   ]
  },
  {
   "cell_type": "code",
   "execution_count": 110,
   "id": "d1ef5c39",
   "metadata": {},
   "outputs": [],
   "source": [
    "log_cols = df.columns[36:]\n",
    "df[log_cols] = df[log_cols].apply(lambda x: np.log(x))"
   ]
  },
  {
   "cell_type": "code",
   "execution_count": 92,
   "id": "76ebfd92",
   "metadata": {},
   "outputs": [],
   "source": [
    "df = df.dropna(axis=1, how='any')"
   ]
  },
  {
   "cell_type": "code",
   "execution_count": 93,
   "id": "2dd0aad6",
   "metadata": {
    "scrolled": true
   },
   "outputs": [
    {
     "data": {
      "text/plain": [
       "local_gap_compressed_percent_id      0\n",
       "scaled_local_query_percent_id        0\n",
       "scaled_local_symmetric_percent_id    0\n",
       "query_align_len                      0\n",
       "query_align_cov                      0\n",
       "subject_align_len                    0\n",
       "subject_align_cov                    0\n",
       "bit_score                            0\n",
       "m_protein_len                        0\n",
       "t_protein_len                        0\n",
       "protein_match                        0\n",
       "GAAC_alphatic                        0\n",
       "GAAC_postivecharge                   0\n",
       "GAAC_uncharge                        0\n",
       "dtype: int64"
      ]
     },
     "execution_count": 93,
     "metadata": {},
     "output_type": "execute_result"
    }
   ],
   "source": [
    "nan_counts = df.isna().sum()\n",
    "nan_counts"
   ]
  },
  {
   "cell_type": "code",
   "execution_count": 24,
   "id": "e42e3144",
   "metadata": {
    "scrolled": false
   },
   "outputs": [
    {
     "data": {
      "text/plain": [
       "(17108, 17)"
      ]
     },
     "execution_count": 24,
     "metadata": {},
     "output_type": "execute_result"
    }
   ],
   "source": [
    "df.shape"
   ]
  },
  {
   "cell_type": "markdown",
   "id": "f18fc46b",
   "metadata": {},
   "source": [
    "Use MRMR to select for the best features. Going to start by grouping into different categories of features generated from iFeature Omega."
   ]
  },
  {
   "cell_type": "code",
   "execution_count": 123,
   "id": "97e53ef4",
   "metadata": {
    "scrolled": true
   },
   "outputs": [
    {
     "name": "stdout",
     "output_type": "stream",
     "text": [
      "<class 'pandas.core.frame.DataFrame'>\n"
     ]
    },
    {
     "name": "stderr",
     "output_type": "stream",
     "text": [
      "100%|██████████| 20/20 [00:07<00:00,  2.83it/s]\n"
     ]
    },
    {
     "data": {
      "text/plain": [
       "['type3A_T1.G.1_T1.G.1_gap2',\n",
       " 'CTDC_solventaccess.G1',\n",
       " 'Geary_BEGF750102.lag2',\n",
       " 'type7_T1.G.2_T1.G.2_gap2',\n",
       " 'type9_T1.G.1_T1.G.1_gap2',\n",
       " 'CTDC_secondarystruct.G1',\n",
       " 'type2_T1.G.1_T1.G.1_gap2',\n",
       " 'APAAC_Pc1.G',\n",
       " 'CTDD_normwaalsvolume.3.residue50',\n",
       " 'CTDT_secondarystruct.Tr1221',\n",
       " 'APAAC_Pc1.V',\n",
       " 'QSOrder_Schneider.Xd.3',\n",
       " 'CTDC_hydrophobicity_ARGP820101.G2',\n",
       " 'CTDD_hydrophobicity_ENGD860101.3.residue75',\n",
       " 'CTDD_charge.2.residue0',\n",
       " 'CTDC_hydrophobicity_ENGD860101.G2',\n",
       " 'CTDD_secondarystruct.1.residue100',\n",
       " 'CTDD_secondarystruct.1.residue0',\n",
       " 'APAAC_Pc2.Hydrophobicity.1',\n",
       " 'GDPC_alphaticr.alphaticr_x']"
      ]
     },
     "execution_count": 123,
     "metadata": {},
     "output_type": "execute_result"
    }
   ],
   "source": [
    "#use MRMR to select for the best features from PseKRAAC\n",
    "df_subset = df.loc[:, df.columns != 'protein_match']\n",
    "print(type(df_subset))\n",
    "\n",
    "# select top 10 features using mRMR\n",
    "from mrmr import mrmr_classif\n",
    "selected_features = mrmr_classif(X=df_subset.iloc[:,10:], y=df['protein_match'], K=20)\n",
    "\n",
    "selected_features"
   ]
  },
  {
   "cell_type": "code",
   "execution_count": 124,
   "id": "f7126f8d",
   "metadata": {
    "scrolled": true
   },
   "outputs": [
    {
     "data": {
      "text/html": [
       "<div>\n",
       "<style scoped>\n",
       "    .dataframe tbody tr th:only-of-type {\n",
       "        vertical-align: middle;\n",
       "    }\n",
       "\n",
       "    .dataframe tbody tr th {\n",
       "        vertical-align: top;\n",
       "    }\n",
       "\n",
       "    .dataframe thead th {\n",
       "        text-align: right;\n",
       "    }\n",
       "</style>\n",
       "<table border=\"1\" class=\"dataframe\">\n",
       "  <thead>\n",
       "    <tr style=\"text-align: right;\">\n",
       "      <th></th>\n",
       "      <th>local_gap_compressed_percent_id</th>\n",
       "      <th>scaled_local_query_percent_id</th>\n",
       "      <th>scaled_local_symmetric_percent_id</th>\n",
       "      <th>query_align_len</th>\n",
       "      <th>query_align_cov</th>\n",
       "      <th>subject_align_len</th>\n",
       "      <th>subject_align_cov</th>\n",
       "      <th>bit_score</th>\n",
       "      <th>m_protein_len</th>\n",
       "      <th>t_protein_len</th>\n",
       "      <th>...</th>\n",
       "      <th>APAAC_Pc1.V</th>\n",
       "      <th>QSOrder_Schneider.Xd.3</th>\n",
       "      <th>CTDC_hydrophobicity_ARGP820101.G2</th>\n",
       "      <th>CTDD_hydrophobicity_ENGD860101.3.residue75</th>\n",
       "      <th>CTDD_charge.2.residue0</th>\n",
       "      <th>CTDC_hydrophobicity_ENGD860101.G2</th>\n",
       "      <th>CTDD_secondarystruct.1.residue100</th>\n",
       "      <th>CTDD_secondarystruct.1.residue0</th>\n",
       "      <th>APAAC_Pc2.Hydrophobicity.1</th>\n",
       "      <th>GDPC_alphaticr.alphaticr_x</th>\n",
       "    </tr>\n",
       "  </thead>\n",
       "  <tbody>\n",
       "    <tr>\n",
       "      <th>0</th>\n",
       "      <td>0.333333</td>\n",
       "      <td>0.267380</td>\n",
       "      <td>0.254453</td>\n",
       "      <td>148</td>\n",
       "      <td>0.791444</td>\n",
       "      <td>163</td>\n",
       "      <td>0.791262</td>\n",
       "      <td>127</td>\n",
       "      <td>206</td>\n",
       "      <td>187</td>\n",
       "      <td>...</td>\n",
       "      <td>1.458032</td>\n",
       "      <td>1.095793</td>\n",
       "      <td>0.974189</td>\n",
       "      <td>0.895744</td>\n",
       "      <td>0.907767</td>\n",
       "      <td>0.960391</td>\n",
       "      <td>1.000000</td>\n",
       "      <td>0.907767</td>\n",
       "      <td>-0.418672</td>\n",
       "      <td>1.017965</td>\n",
       "    </tr>\n",
       "    <tr>\n",
       "      <th>1</th>\n",
       "      <td>0.268482</td>\n",
       "      <td>0.190083</td>\n",
       "      <td>0.189300</td>\n",
       "      <td>248</td>\n",
       "      <td>0.683196</td>\n",
       "      <td>271</td>\n",
       "      <td>0.740437</td>\n",
       "      <td>132</td>\n",
       "      <td>366</td>\n",
       "      <td>363</td>\n",
       "      <td>...</td>\n",
       "      <td>1.036049</td>\n",
       "      <td>1.078083</td>\n",
       "      <td>1.111504</td>\n",
       "      <td>1.147146</td>\n",
       "      <td>0.991803</td>\n",
       "      <td>1.248937</td>\n",
       "      <td>1.002762</td>\n",
       "      <td>0.991803</td>\n",
       "      <td>0.721630</td>\n",
       "      <td>1.405023</td>\n",
       "    </tr>\n",
       "    <tr>\n",
       "      <th>2</th>\n",
       "      <td>0.333333</td>\n",
       "      <td>0.295082</td>\n",
       "      <td>0.291498</td>\n",
       "      <td>218</td>\n",
       "      <td>0.893443</td>\n",
       "      <td>221</td>\n",
       "      <td>0.884000</td>\n",
       "      <td>158</td>\n",
       "      <td>250</td>\n",
       "      <td>244</td>\n",
       "      <td>...</td>\n",
       "      <td>0.767388</td>\n",
       "      <td>0.992939</td>\n",
       "      <td>0.847094</td>\n",
       "      <td>0.986844</td>\n",
       "      <td>0.976000</td>\n",
       "      <td>0.903319</td>\n",
       "      <td>1.012448</td>\n",
       "      <td>0.976000</td>\n",
       "      <td>27.063868</td>\n",
       "      <td>0.948021</td>\n",
       "    </tr>\n",
       "    <tr>\n",
       "      <th>3</th>\n",
       "      <td>0.275281</td>\n",
       "      <td>0.182156</td>\n",
       "      <td>0.152174</td>\n",
       "      <td>185</td>\n",
       "      <td>0.687732</td>\n",
       "      <td>197</td>\n",
       "      <td>0.525333</td>\n",
       "      <td>48</td>\n",
       "      <td>375</td>\n",
       "      <td>269</td>\n",
       "      <td>...</td>\n",
       "      <td>1.320507</td>\n",
       "      <td>1.027001</td>\n",
       "      <td>1.152081</td>\n",
       "      <td>0.958679</td>\n",
       "      <td>0.717333</td>\n",
       "      <td>1.120330</td>\n",
       "      <td>1.003731</td>\n",
       "      <td>0.717333</td>\n",
       "      <td>-0.547390</td>\n",
       "      <td>1.328926</td>\n",
       "    </tr>\n",
       "    <tr>\n",
       "      <th>4</th>\n",
       "      <td>0.331915</td>\n",
       "      <td>0.245283</td>\n",
       "      <td>0.242613</td>\n",
       "      <td>239</td>\n",
       "      <td>0.751572</td>\n",
       "      <td>238</td>\n",
       "      <td>0.732308</td>\n",
       "      <td>202</td>\n",
       "      <td>325</td>\n",
       "      <td>318</td>\n",
       "      <td>...</td>\n",
       "      <td>1.753038</td>\n",
       "      <td>1.008479</td>\n",
       "      <td>1.048352</td>\n",
       "      <td>0.990743</td>\n",
       "      <td>0.978462</td>\n",
       "      <td>0.881497</td>\n",
       "      <td>1.000000</td>\n",
       "      <td>0.978462</td>\n",
       "      <td>0.579979</td>\n",
       "      <td>1.188936</td>\n",
       "    </tr>\n",
       "    <tr>\n",
       "      <th>...</th>\n",
       "      <td>...</td>\n",
       "      <td>...</td>\n",
       "      <td>...</td>\n",
       "      <td>...</td>\n",
       "      <td>...</td>\n",
       "      <td>...</td>\n",
       "      <td>...</td>\n",
       "      <td>...</td>\n",
       "      <td>...</td>\n",
       "      <td>...</td>\n",
       "      <td>...</td>\n",
       "      <td>...</td>\n",
       "      <td>...</td>\n",
       "      <td>...</td>\n",
       "      <td>...</td>\n",
       "      <td>...</td>\n",
       "      <td>...</td>\n",
       "      <td>...</td>\n",
       "      <td>...</td>\n",
       "      <td>...</td>\n",
       "      <td>...</td>\n",
       "    </tr>\n",
       "    <tr>\n",
       "      <th>17103</th>\n",
       "      <td>0.331707</td>\n",
       "      <td>0.294372</td>\n",
       "      <td>0.282158</td>\n",
       "      <td>202</td>\n",
       "      <td>0.874459</td>\n",
       "      <td>218</td>\n",
       "      <td>0.868526</td>\n",
       "      <td>232</td>\n",
       "      <td>251</td>\n",
       "      <td>231</td>\n",
       "      <td>...</td>\n",
       "      <td>0.897562</td>\n",
       "      <td>1.073475</td>\n",
       "      <td>0.965212</td>\n",
       "      <td>0.970336</td>\n",
       "      <td>0.920319</td>\n",
       "      <td>1.057680</td>\n",
       "      <td>1.008734</td>\n",
       "      <td>0.920319</td>\n",
       "      <td>-0.310949</td>\n",
       "      <td>1.070204</td>\n",
       "    </tr>\n",
       "    <tr>\n",
       "      <th>17104</th>\n",
       "      <td>0.304878</td>\n",
       "      <td>0.188679</td>\n",
       "      <td>0.163666</td>\n",
       "      <td>166</td>\n",
       "      <td>0.626415</td>\n",
       "      <td>170</td>\n",
       "      <td>0.491329</td>\n",
       "      <td>125</td>\n",
       "      <td>346</td>\n",
       "      <td>265</td>\n",
       "      <td>...</td>\n",
       "      <td>1.287880</td>\n",
       "      <td>1.090877</td>\n",
       "      <td>1.117224</td>\n",
       "      <td>0.944200</td>\n",
       "      <td>0.765896</td>\n",
       "      <td>0.968633</td>\n",
       "      <td>0.988439</td>\n",
       "      <td>0.765896</td>\n",
       "      <td>0.340536</td>\n",
       "      <td>0.869565</td>\n",
       "    </tr>\n",
       "    <tr>\n",
       "      <th>17105</th>\n",
       "      <td>0.344828</td>\n",
       "      <td>0.169972</td>\n",
       "      <td>0.192308</td>\n",
       "      <td>180</td>\n",
       "      <td>0.509915</td>\n",
       "      <td>200</td>\n",
       "      <td>0.738007</td>\n",
       "      <td>53</td>\n",
       "      <td>271</td>\n",
       "      <td>353</td>\n",
       "      <td>...</td>\n",
       "      <td>1.112860</td>\n",
       "      <td>1.001577</td>\n",
       "      <td>1.018956</td>\n",
       "      <td>1.170603</td>\n",
       "      <td>1.302583</td>\n",
       "      <td>1.089045</td>\n",
       "      <td>0.995440</td>\n",
       "      <td>1.302583</td>\n",
       "      <td>-3.313974</td>\n",
       "      <td>0.835708</td>\n",
       "    </tr>\n",
       "    <tr>\n",
       "      <th>17106</th>\n",
       "      <td>0.352174</td>\n",
       "      <td>0.239645</td>\n",
       "      <td>0.242152</td>\n",
       "      <td>230</td>\n",
       "      <td>0.680473</td>\n",
       "      <td>227</td>\n",
       "      <td>0.685801</td>\n",
       "      <td>279</td>\n",
       "      <td>331</td>\n",
       "      <td>338</td>\n",
       "      <td>...</td>\n",
       "      <td>0.872070</td>\n",
       "      <td>1.030476</td>\n",
       "      <td>0.857453</td>\n",
       "      <td>1.008222</td>\n",
       "      <td>1.021148</td>\n",
       "      <td>0.976361</td>\n",
       "      <td>1.015015</td>\n",
       "      <td>1.021148</td>\n",
       "      <td>-2.922809</td>\n",
       "      <td>0.940892</td>\n",
       "    </tr>\n",
       "    <tr>\n",
       "      <th>17107</th>\n",
       "      <td>0.336207</td>\n",
       "      <td>0.184834</td>\n",
       "      <td>0.174497</td>\n",
       "      <td>113</td>\n",
       "      <td>0.535545</td>\n",
       "      <td>117</td>\n",
       "      <td>0.495763</td>\n",
       "      <td>165</td>\n",
       "      <td>236</td>\n",
       "      <td>211</td>\n",
       "      <td>...</td>\n",
       "      <td>1.297430</td>\n",
       "      <td>0.982361</td>\n",
       "      <td>0.905385</td>\n",
       "      <td>1.151353</td>\n",
       "      <td>0.894068</td>\n",
       "      <td>1.095954</td>\n",
       "      <td>1.001528</td>\n",
       "      <td>0.894068</td>\n",
       "      <td>-0.223096</td>\n",
       "      <td>1.157640</td>\n",
       "    </tr>\n",
       "  </tbody>\n",
       "</table>\n",
       "<p>17108 rows × 31 columns</p>\n",
       "</div>"
      ],
      "text/plain": [
       "       local_gap_compressed_percent_id  scaled_local_query_percent_id  \\\n",
       "0                             0.333333                       0.267380   \n",
       "1                             0.268482                       0.190083   \n",
       "2                             0.333333                       0.295082   \n",
       "3                             0.275281                       0.182156   \n",
       "4                             0.331915                       0.245283   \n",
       "...                                ...                            ...   \n",
       "17103                         0.331707                       0.294372   \n",
       "17104                         0.304878                       0.188679   \n",
       "17105                         0.344828                       0.169972   \n",
       "17106                         0.352174                       0.239645   \n",
       "17107                         0.336207                       0.184834   \n",
       "\n",
       "       scaled_local_symmetric_percent_id  query_align_len  query_align_cov  \\\n",
       "0                               0.254453              148         0.791444   \n",
       "1                               0.189300              248         0.683196   \n",
       "2                               0.291498              218         0.893443   \n",
       "3                               0.152174              185         0.687732   \n",
       "4                               0.242613              239         0.751572   \n",
       "...                                  ...              ...              ...   \n",
       "17103                           0.282158              202         0.874459   \n",
       "17104                           0.163666              166         0.626415   \n",
       "17105                           0.192308              180         0.509915   \n",
       "17106                           0.242152              230         0.680473   \n",
       "17107                           0.174497              113         0.535545   \n",
       "\n",
       "       subject_align_len  subject_align_cov  bit_score  m_protein_len  \\\n",
       "0                    163           0.791262        127            206   \n",
       "1                    271           0.740437        132            366   \n",
       "2                    221           0.884000        158            250   \n",
       "3                    197           0.525333         48            375   \n",
       "4                    238           0.732308        202            325   \n",
       "...                  ...                ...        ...            ...   \n",
       "17103                218           0.868526        232            251   \n",
       "17104                170           0.491329        125            346   \n",
       "17105                200           0.738007         53            271   \n",
       "17106                227           0.685801        279            331   \n",
       "17107                117           0.495763        165            236   \n",
       "\n",
       "       t_protein_len  ... APAAC_Pc1.V  QSOrder_Schneider.Xd.3  \\\n",
       "0                187  ...    1.458032                1.095793   \n",
       "1                363  ...    1.036049                1.078083   \n",
       "2                244  ...    0.767388                0.992939   \n",
       "3                269  ...    1.320507                1.027001   \n",
       "4                318  ...    1.753038                1.008479   \n",
       "...              ...  ...         ...                     ...   \n",
       "17103            231  ...    0.897562                1.073475   \n",
       "17104            265  ...    1.287880                1.090877   \n",
       "17105            353  ...    1.112860                1.001577   \n",
       "17106            338  ...    0.872070                1.030476   \n",
       "17107            211  ...    1.297430                0.982361   \n",
       "\n",
       "       CTDC_hydrophobicity_ARGP820101.G2  \\\n",
       "0                               0.974189   \n",
       "1                               1.111504   \n",
       "2                               0.847094   \n",
       "3                               1.152081   \n",
       "4                               1.048352   \n",
       "...                                  ...   \n",
       "17103                           0.965212   \n",
       "17104                           1.117224   \n",
       "17105                           1.018956   \n",
       "17106                           0.857453   \n",
       "17107                           0.905385   \n",
       "\n",
       "       CTDD_hydrophobicity_ENGD860101.3.residue75  CTDD_charge.2.residue0  \\\n",
       "0                                        0.895744                0.907767   \n",
       "1                                        1.147146                0.991803   \n",
       "2                                        0.986844                0.976000   \n",
       "3                                        0.958679                0.717333   \n",
       "4                                        0.990743                0.978462   \n",
       "...                                           ...                     ...   \n",
       "17103                                    0.970336                0.920319   \n",
       "17104                                    0.944200                0.765896   \n",
       "17105                                    1.170603                1.302583   \n",
       "17106                                    1.008222                1.021148   \n",
       "17107                                    1.151353                0.894068   \n",
       "\n",
       "       CTDC_hydrophobicity_ENGD860101.G2  CTDD_secondarystruct.1.residue100  \\\n",
       "0                               0.960391                           1.000000   \n",
       "1                               1.248937                           1.002762   \n",
       "2                               0.903319                           1.012448   \n",
       "3                               1.120330                           1.003731   \n",
       "4                               0.881497                           1.000000   \n",
       "...                                  ...                                ...   \n",
       "17103                           1.057680                           1.008734   \n",
       "17104                           0.968633                           0.988439   \n",
       "17105                           1.089045                           0.995440   \n",
       "17106                           0.976361                           1.015015   \n",
       "17107                           1.095954                           1.001528   \n",
       "\n",
       "       CTDD_secondarystruct.1.residue0  APAAC_Pc2.Hydrophobicity.1  \\\n",
       "0                             0.907767                   -0.418672   \n",
       "1                             0.991803                    0.721630   \n",
       "2                             0.976000                   27.063868   \n",
       "3                             0.717333                   -0.547390   \n",
       "4                             0.978462                    0.579979   \n",
       "...                                ...                         ...   \n",
       "17103                         0.920319                   -0.310949   \n",
       "17104                         0.765896                    0.340536   \n",
       "17105                         1.302583                   -3.313974   \n",
       "17106                         1.021148                   -2.922809   \n",
       "17107                         0.894068                   -0.223096   \n",
       "\n",
       "       GDPC_alphaticr.alphaticr_x  \n",
       "0                        1.017965  \n",
       "1                        1.405023  \n",
       "2                        0.948021  \n",
       "3                        1.328926  \n",
       "4                        1.188936  \n",
       "...                           ...  \n",
       "17103                    1.070204  \n",
       "17104                    0.869565  \n",
       "17105                    0.835708  \n",
       "17106                    0.940892  \n",
       "17107                    1.157640  \n",
       "\n",
       "[17108 rows x 31 columns]"
      ]
     },
     "execution_count": 124,
     "metadata": {},
     "output_type": "execute_result"
    }
   ],
   "source": [
    "best_features_df = df[[feature for feature in selected_features]]\n",
    "\n",
    "#concatenates original feature vector back into the dataframe\n",
    "df = pd.concat([df.iloc[:, :11], best_features_df], axis=1)\n",
    "df"
   ]
  },
  {
   "cell_type": "code",
   "execution_count": 94,
   "id": "af9f23cf",
   "metadata": {
    "scrolled": true
   },
   "outputs": [
    {
     "name": "stdout",
     "output_type": "stream",
     "text": [
      "(13684, 14)\n",
      "(2415, 14)\n",
      "(11631, 14)\n",
      "(2053, 14)\n"
     ]
    }
   ],
   "source": [
    "#choosing 80/20 split instead of 85/15 because of volume of data\n",
    "\n",
    "dev, test = sklearn.model_selection.train_test_split(df, test_size=0.15, random_state=1)\n",
    "\n",
    "train, val = sklearn.model_selection.train_test_split(dev, test_size=0.15, random_state=1)\n",
    "\n",
    "print(dev.shape)\n",
    "print(test.shape)\n",
    "print(train.shape)\n",
    "print(val.shape)"
   ]
  },
  {
   "cell_type": "code",
   "execution_count": 95,
   "id": "8470550d",
   "metadata": {
    "scrolled": false
   },
   "outputs": [],
   "source": [
    "#ID target and features, separate into separate arrays\n",
    "\n",
    "target = 'protein_match'\n",
    "input_features = [columns for columns in df]\n",
    "input_features.remove(target)"
   ]
  },
  {
   "cell_type": "code",
   "execution_count": 96,
   "id": "1ab62bff",
   "metadata": {
    "scrolled": true
   },
   "outputs": [
    {
     "name": "stdout",
     "output_type": "stream",
     "text": [
      "(13684, 13) (2415, 13) (13684, 1) (2415, 1)\n"
     ]
    }
   ],
   "source": [
    "#split X and y\n",
    "\n",
    "dev_X = dev[input_features].values\n",
    "test_X = test[input_features].values\n",
    "\n",
    "dev_y = dev[target].values.reshape(-1,1)\n",
    "test_y = test[target].values.reshape(-1,1)  \n",
    "\n",
    "print(dev_X.shape, test_X.shape, dev_y.shape, test_y.shape)"
   ]
  },
  {
   "cell_type": "code",
   "execution_count": 97,
   "id": "9ac52ac0",
   "metadata": {},
   "outputs": [],
   "source": [
    "#same thing for training and validation data\n",
    "\n",
    "train_X = train[input_features].values\n",
    "val_X = val[input_features].values\n",
    "\n",
    "train_y = train[target].values.reshape(-1,1)\n",
    "val_y = val[target].values.reshape(-1,1) "
   ]
  },
  {
   "cell_type": "markdown",
   "id": "c374f2d7",
   "metadata": {},
   "source": [
    "Scale the data"
   ]
  },
  {
   "cell_type": "code",
   "execution_count": 98,
   "id": "2b48b2e5",
   "metadata": {
    "scrolled": false
   },
   "outputs": [],
   "source": [
    "scaler = sklearn.preprocessing.StandardScaler()\n",
    "dev_X = scaler.fit_transform(dev_X)\n",
    "test_X = scaler.fit_transform(test_X)\n",
    "train_X = scaler.fit_transform(train_X)\n",
    "val_X = scaler.fit_transform(val_X)"
   ]
  },
  {
   "cell_type": "markdown",
   "id": "c3022371",
   "metadata": {},
   "source": [
    "Train the model"
   ]
  },
  {
   "cell_type": "code",
   "execution_count": 99,
   "id": "be4e09b0",
   "metadata": {
    "scrolled": true
   },
   "outputs": [
    {
     "data": {
      "text/html": [
       "<style>#sk-container-id-1 {color: black;background-color: white;}#sk-container-id-1 pre{padding: 0;}#sk-container-id-1 div.sk-toggleable {background-color: white;}#sk-container-id-1 label.sk-toggleable__label {cursor: pointer;display: block;width: 100%;margin-bottom: 0;padding: 0.3em;box-sizing: border-box;text-align: center;}#sk-container-id-1 label.sk-toggleable__label-arrow:before {content: \"▸\";float: left;margin-right: 0.25em;color: #696969;}#sk-container-id-1 label.sk-toggleable__label-arrow:hover:before {color: black;}#sk-container-id-1 div.sk-estimator:hover label.sk-toggleable__label-arrow:before {color: black;}#sk-container-id-1 div.sk-toggleable__content {max-height: 0;max-width: 0;overflow: hidden;text-align: left;background-color: #f0f8ff;}#sk-container-id-1 div.sk-toggleable__content pre {margin: 0.2em;color: black;border-radius: 0.25em;background-color: #f0f8ff;}#sk-container-id-1 input.sk-toggleable__control:checked~div.sk-toggleable__content {max-height: 200px;max-width: 100%;overflow: auto;}#sk-container-id-1 input.sk-toggleable__control:checked~label.sk-toggleable__label-arrow:before {content: \"▾\";}#sk-container-id-1 div.sk-estimator input.sk-toggleable__control:checked~label.sk-toggleable__label {background-color: #d4ebff;}#sk-container-id-1 div.sk-label input.sk-toggleable__control:checked~label.sk-toggleable__label {background-color: #d4ebff;}#sk-container-id-1 input.sk-hidden--visually {border: 0;clip: rect(1px 1px 1px 1px);clip: rect(1px, 1px, 1px, 1px);height: 1px;margin: -1px;overflow: hidden;padding: 0;position: absolute;width: 1px;}#sk-container-id-1 div.sk-estimator {font-family: monospace;background-color: #f0f8ff;border: 1px dotted black;border-radius: 0.25em;box-sizing: border-box;margin-bottom: 0.5em;}#sk-container-id-1 div.sk-estimator:hover {background-color: #d4ebff;}#sk-container-id-1 div.sk-parallel-item::after {content: \"\";width: 100%;border-bottom: 1px solid gray;flex-grow: 1;}#sk-container-id-1 div.sk-label:hover label.sk-toggleable__label {background-color: #d4ebff;}#sk-container-id-1 div.sk-serial::before {content: \"\";position: absolute;border-left: 1px solid gray;box-sizing: border-box;top: 0;bottom: 0;left: 50%;z-index: 0;}#sk-container-id-1 div.sk-serial {display: flex;flex-direction: column;align-items: center;background-color: white;padding-right: 0.2em;padding-left: 0.2em;position: relative;}#sk-container-id-1 div.sk-item {position: relative;z-index: 1;}#sk-container-id-1 div.sk-parallel {display: flex;align-items: stretch;justify-content: center;background-color: white;position: relative;}#sk-container-id-1 div.sk-item::before, #sk-container-id-1 div.sk-parallel-item::before {content: \"\";position: absolute;border-left: 1px solid gray;box-sizing: border-box;top: 0;bottom: 0;left: 50%;z-index: -1;}#sk-container-id-1 div.sk-parallel-item {display: flex;flex-direction: column;z-index: 1;position: relative;background-color: white;}#sk-container-id-1 div.sk-parallel-item:first-child::after {align-self: flex-end;width: 50%;}#sk-container-id-1 div.sk-parallel-item:last-child::after {align-self: flex-start;width: 50%;}#sk-container-id-1 div.sk-parallel-item:only-child::after {width: 0;}#sk-container-id-1 div.sk-dashed-wrapped {border: 1px dashed gray;margin: 0 0.4em 0.5em 0.4em;box-sizing: border-box;padding-bottom: 0.4em;background-color: white;}#sk-container-id-1 div.sk-label label {font-family: monospace;font-weight: bold;display: inline-block;line-height: 1.2em;}#sk-container-id-1 div.sk-label-container {text-align: center;}#sk-container-id-1 div.sk-container {/* jupyter's `normalize.less` sets `[hidden] { display: none; }` but bootstrap.min.css set `[hidden] { display: none !important; }` so we also need the `!important` here to be able to override the default hidden behavior on the sphinx rendered scikit-learn.org. See: https://github.com/scikit-learn/scikit-learn/issues/21755 */display: inline-block !important;position: relative;}#sk-container-id-1 div.sk-text-repr-fallback {display: none;}</style><div id=\"sk-container-id-1\" class=\"sk-top-container\"><div class=\"sk-text-repr-fallback\"><pre>RandomForestClassifier(max_features=0.5, max_samples=0.5, min_samples_split=10,\n",
       "                       min_weight_fraction_leaf=0.000215, n_estimators=150)</pre><b>In a Jupyter environment, please rerun this cell to show the HTML representation or trust the notebook. <br />On GitHub, the HTML representation is unable to render, please try loading this page with nbviewer.org.</b></div><div class=\"sk-container\" hidden><div class=\"sk-item\"><div class=\"sk-estimator sk-toggleable\"><input class=\"sk-toggleable__control sk-hidden--visually\" id=\"sk-estimator-id-1\" type=\"checkbox\" checked><label for=\"sk-estimator-id-1\" class=\"sk-toggleable__label sk-toggleable__label-arrow\">RandomForestClassifier</label><div class=\"sk-toggleable__content\"><pre>RandomForestClassifier(max_features=0.5, max_samples=0.5, min_samples_split=10,\n",
       "                       min_weight_fraction_leaf=0.000215, n_estimators=150)</pre></div></div></div></div></div>"
      ],
      "text/plain": [
       "RandomForestClassifier(max_features=0.5, max_samples=0.5, min_samples_split=10,\n",
       "                       min_weight_fraction_leaf=0.000215, n_estimators=150)"
      ]
     },
     "execution_count": 99,
     "metadata": {},
     "output_type": "execute_result"
    }
   ],
   "source": [
    "#Random Forest\n",
    "\n",
    "#hyperparameters determiend with optuna\n",
    "model = sklearn.ensemble.RandomForestClassifier(n_estimators=150, max_depth=None, max_samples=0.5,\n",
    "                                                max_features=0.5, min_weight_fraction_leaf=0.000215,\n",
    "                                               min_samples_split=10)\n",
    "\n",
    "model.fit(train_X, train_y.ravel())"
   ]
  },
  {
   "cell_type": "markdown",
   "id": "69ebf269",
   "metadata": {},
   "source": [
    "Test the model, report relevant statistics"
   ]
  },
  {
   "cell_type": "code",
   "execution_count": 100,
   "id": "c73327e9",
   "metadata": {
    "scrolled": true
   },
   "outputs": [
    {
     "name": "stdout",
     "output_type": "stream",
     "text": [
      "Mean accuracy score is: 0.6244520214320507\n",
      "['No' 'Yes' 'No' ... 'Yes' 'Yes' 'No']\n"
     ]
    }
   ],
   "source": [
    "score = model.score(val_X, val_y)\n",
    "print('Mean accuracy score is: {}'.format(score))\n",
    "\n",
    "preds = model.predict(test_X)\n",
    "print(preds)"
   ]
  },
  {
   "cell_type": "code",
   "execution_count": 101,
   "id": "e56fdd8d",
   "metadata": {},
   "outputs": [],
   "source": [
    "from sklearn.metrics import f1_score, confusion_matrix, classification_report"
   ]
  },
  {
   "cell_type": "code",
   "execution_count": 102,
   "id": "02128b0c",
   "metadata": {
    "scrolled": true
   },
   "outputs": [
    {
     "data": {
      "text/plain": [
       "0.6308724832214765"
      ]
     },
     "execution_count": 102,
     "metadata": {},
     "output_type": "execute_result"
    }
   ],
   "source": [
    "f1_score(preds, test_y, pos_label='Yes')"
   ]
  },
  {
   "cell_type": "code",
   "execution_count": null,
   "id": "e1194f64",
   "metadata": {},
   "outputs": [],
   "source": []
  },
  {
   "cell_type": "code",
   "execution_count": null,
   "id": "d4c8e244",
   "metadata": {},
   "outputs": [],
   "source": [
    "%matplotlib notebook"
   ]
  },
  {
   "cell_type": "code",
   "execution_count": null,
   "id": "4e9dce62",
   "metadata": {
    "scrolled": true
   },
   "outputs": [],
   "source": [
    "#confusion matrix\n",
    "\n",
    "confusion_matrix = sklearn.metrics.confusion_matrix(preds, test_y)\n",
    "sklearn.metrics.ConfusionMatrixDisplay(confusion_matrix).plot()"
   ]
  },
  {
   "cell_type": "code",
   "execution_count": null,
   "id": "f838ddbc",
   "metadata": {},
   "outputs": [],
   "source": []
  },
  {
   "cell_type": "code",
   "execution_count": null,
   "id": "275d1994",
   "metadata": {},
   "outputs": [],
   "source": []
  }
 ],
 "metadata": {
  "kernelspec": {
   "display_name": "Python 3",
   "language": "python",
   "name": "python3"
  },
  "language_info": {
   "codemirror_mode": {
    "name": "ipython",
    "version": 3
   },
   "file_extension": ".py",
   "mimetype": "text/x-python",
   "name": "python",
   "nbconvert_exporter": "python",
   "pygments_lexer": "ipython3",
   "version": "3.9.0"
  }
 },
 "nbformat": 4,
 "nbformat_minor": 5
}
