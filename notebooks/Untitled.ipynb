{
 "cells": [
  {
   "cell_type": "code",
   "execution_count": 40,
   "id": "9473b191",
   "metadata": {},
   "outputs": [],
   "source": [
    "import duckdb"
   ]
  },
  {
   "cell_type": "code",
   "execution_count": 16,
   "id": "171c7ca2",
   "metadata": {},
   "outputs": [],
   "source": [
    "def build_sample_l2t(db_in, db_out, size):\n",
    "    '''\n",
    "    Generates a sample l2t relational database of given size. Note that the final\n",
    "    size will about 30% of 'size' due to pair filtering.\n",
    "\n",
    "    Args:\n",
    "        db_in (str): Path to full size l2t database\n",
    "        db_out (int): Path to sample l2t database to be created\n",
    "        size (str): Number of pairs to sample for test database. \n",
    "                    Final size will be about 30% of this.\n",
    "\n",
    "    Returns:\n",
    "        None. Database file is saved at db_out.\n",
    "\n",
    "    Raises:\n",
    "        None.\n",
    "    '''\n",
    "    con = duckdb.connect(db_in)    \n",
    "    \n",
    "    # Make sample protein pairs table\n",
    "    cmd1 = f\"\"\"CREATE TEMP TABLE samp_protein_pairs AS\n",
    "             SELECT * FROM protein_pairs \n",
    "             USING SAMPLE {size}\"\"\"\n",
    "\n",
    "    con.execute(cmd1)\n",
    "    \n",
    "    # Make sample proteins table\n",
    "    cmd2 = \"\"\"CREATE TEMP TABLE samp_proteins AS\n",
    "             SELECT * FROM proteins\n",
    "             WHERE proteins.pid IN \n",
    "             (SELECT DISTINCT meso_pid FROM samp_protein_pairs)\n",
    "             OR proteins.pid IN\n",
    "             (SELECT DISTINCT thermo_pid FROM samp_protein_pairs)\"\"\"\n",
    "\n",
    "    con.execute(cmd2)\n",
    "    \n",
    "    # Make sample taxa table\n",
    "    cmd3 = \"\"\"CREATE TEMP TABLE samp_taxa AS\n",
    "             SELECT * FROM taxa\n",
    "             WHERE taxa.taxid IN \n",
    "             (SELECT DISTINCT meso_taxid FROM samp_protein_pairs)\n",
    "             OR taxa.taxid IN\n",
    "             (SELECT DISTINCT thermo_taxid FROM samp_protein_pairs)\"\"\"\n",
    "\n",
    "    con.execute(cmd3)\n",
    "    \n",
    "    # Make sample taxa_pairs table\n",
    "    cmd4 = \"\"\"CREATE TEMP TABLE samp_taxa_pairs AS\n",
    "             SELECT * FROM taxa_pairs\n",
    "             WHERE taxa_pairs.query_id IN \n",
    "             (SELECT DISTINCT taxid FROM samp_taxa)\n",
    "             AND taxa_pairs.subject_id IN \n",
    "             (SELECT DISTINCT taxid FROM samp_taxa)\"\"\"\n",
    "\n",
    "    con.execute(cmd4)\n",
    "    \n",
    "    # Make sample taxa_lab table\n",
    "    cmd5 = \"\"\"CREATE TEMP TABLE samp_taxa_pairs_lab AS\n",
    "             SELECT * FROM taxa_pairs_lab\n",
    "             WHERE taxa_pairs_lab.__index_level_0__ IN \n",
    "             (SELECT __index_level_0__ FROM samp_taxa_pairs)\n",
    "          \"\"\"\n",
    "\n",
    "    con.execute(cmd5)\n",
    "    \n",
    "    # Grab new tables as df and close connection to large database\n",
    "    samp_protein_pairs = con.execute(\"\"\"SELECT * FROM samp_protein_pairs\"\"\").df()\n",
    "    samp_proteins = con.execute(\"\"\"SELECT * FROM samp_proteins\"\"\").df()\n",
    "    samp_taxa = con.execute(\"\"\"SELECT * FROM samp_taxa\"\"\").df()\n",
    "    samp_taxa_pairs = con.execute(\"\"\"SELECT * FROM samp_taxa_pairs\"\"\").df()\n",
    "    samp_taxa_pairs_lab = con.execute(\"\"\"SELECT * FROM samp_taxa_pairs_lab\"\"\").df()\n",
    "    con.close()\n",
    "    \n",
    "    con2 = duckdb.connect(db_out)\n",
    "    con2.execute(\"\"\"CREATE OR REPLACE TABLE protein_pairs AS SELECT * FROM samp_protein_pairs\"\"\")\n",
    "    con2.execute(\"\"\"CREATE OR REPLACE TABLE proteins AS SELECT * FROM samp_proteins\"\"\")\n",
    "    con2.execute(\"\"\"CREATE OR REPLACE TABLE taxa AS SELECT * FROM samp_taxa\"\"\")\n",
    "    con2.execute(\"\"\"CREATE OR REPLACE TABLE taxa_pairs AS SELECT * FROM samp_taxa_pairs\"\"\")\n",
    "    con2.execute(\"\"\"CREATE OR REPLACE TABLE taxa_pairs_lab AS SELECT * FROM samp_taxa_pairs_lab\"\"\")\n",
    "    del samp_protein_pairs, samp_proteins, samp_taxa, samp_taxa_pairs, samp_taxa_pairs_lab\n",
    "    con2.close()"
   ]
  },
  {
   "cell_type": "code",
   "execution_count": 17,
   "id": "37822700",
   "metadata": {
    "scrolled": true
   },
   "outputs": [
    {
     "data": {
      "application/vnd.jupyter.widget-view+json": {
       "model_id": "f18d42807a1147c69e4ad3e5465cf2aa",
       "version_major": 2,
       "version_minor": 0
      },
      "text/plain": [
       "FloatProgress(value=0.0, layout=Layout(width='100%'), style=ProgressStyle(bar_color='black'))"
      ]
     },
     "metadata": {},
     "output_type": "display_data"
    },
    {
     "data": {
      "application/vnd.jupyter.widget-view+json": {
       "model_id": "0ce918a097b74f19bd4b695418309d5f",
       "version_major": 2,
       "version_minor": 0
      },
      "text/plain": [
       "FloatProgress(value=0.0, layout=Layout(width='100%'), style=ProgressStyle(bar_color='black'))"
      ]
     },
     "metadata": {},
     "output_type": "display_data"
    },
    {
     "data": {
      "application/vnd.jupyter.widget-view+json": {
       "model_id": "7945dc1f3d9249baaf8b3cd5ad2546a9",
       "version_major": 2,
       "version_minor": 0
      },
      "text/plain": [
       "FloatProgress(value=0.0, layout=Layout(width='100%'), style=ProgressStyle(bar_color='black'))"
      ]
     },
     "metadata": {},
     "output_type": "display_data"
    },
    {
     "data": {
      "application/vnd.jupyter.widget-view+json": {
       "model_id": "12d48dd00e8d4e398d062ab44d84e5ae",
       "version_major": 2,
       "version_minor": 0
      },
      "text/plain": [
       "FloatProgress(value=0.0, layout=Layout(width='100%'), style=ProgressStyle(bar_color='black'))"
      ]
     },
     "metadata": {},
     "output_type": "display_data"
    },
    {
     "data": {
      "application/vnd.jupyter.widget-view+json": {
       "model_id": "6d6278a35ca84709b9ab66ec383f74f5",
       "version_major": 2,
       "version_minor": 0
      },
      "text/plain": [
       "FloatProgress(value=0.0, layout=Layout(width='100%'), style=ProgressStyle(bar_color='black'))"
      ]
     },
     "metadata": {},
     "output_type": "display_data"
    },
    {
     "data": {
      "application/vnd.jupyter.widget-view+json": {
       "model_id": "bd5053e70302416e9e9a358b5842cc47",
       "version_major": 2,
       "version_minor": 0
      },
      "text/plain": [
       "FloatProgress(value=0.0, layout=Layout(width='100%'), style=ProgressStyle(bar_color='black'))"
      ]
     },
     "metadata": {},
     "output_type": "display_data"
    },
    {
     "data": {
      "application/vnd.jupyter.widget-view+json": {
       "model_id": "3a9acb98fd524cb98b15051146bcb66c",
       "version_major": 2,
       "version_minor": 0
      },
      "text/plain": [
       "FloatProgress(value=0.0, layout=Layout(width='100%'), style=ProgressStyle(bar_color='black'))"
      ]
     },
     "metadata": {},
     "output_type": "display_data"
    },
    {
     "data": {
      "application/vnd.jupyter.widget-view+json": {
       "model_id": "790bdc1f421a4628abf07f300f3f59d9",
       "version_major": 2,
       "version_minor": 0
      },
      "text/plain": [
       "FloatProgress(value=0.0, layout=Layout(width='100%'), style=ProgressStyle(bar_color='black'))"
      ]
     },
     "metadata": {},
     "output_type": "display_data"
    },
    {
     "ename": "InvalidInputException",
     "evalue": "Invalid Input Error: Failed to cast value: Unimplemented type for cast (VARCHAR -> NULL)",
     "output_type": "error",
     "traceback": [
      "\u001b[0;31m---------------------------------------------------------------------------\u001b[0m",
      "\u001b[0;31mInvalidInputException\u001b[0m                     Traceback (most recent call last)",
      "Cell \u001b[0;32mIn[17], line 6\u001b[0m\n\u001b[1;32m      4\u001b[0m size \u001b[38;5;241m=\u001b[39m \u001b[38;5;241m1000\u001b[39m\u001b[38;5;241m*\u001b[39m(s\u001b[38;5;241m+\u001b[39m\u001b[38;5;241m1\u001b[39m)\n\u001b[1;32m      5\u001b[0m db_out \u001b[38;5;241m=\u001b[39m \u001b[38;5;124mf\u001b[39m\u001b[38;5;124m'\u001b[39m\u001b[38;5;124m/mnt/s/PairProphet/l2t_samples/l2t_\u001b[39m\u001b[38;5;132;01m{\u001b[39;00ms\u001b[38;5;241m+\u001b[39m\u001b[38;5;241m1\u001b[39m\u001b[38;5;132;01m}\u001b[39;00m\u001b[38;5;124mk.db\u001b[39m\u001b[38;5;124m'\u001b[39m\n\u001b[0;32m----> 6\u001b[0m \u001b[43mbuild_sample_l2t\u001b[49m\u001b[43m(\u001b[49m\u001b[43mdb_in\u001b[49m\u001b[43m,\u001b[49m\u001b[43m \u001b[49m\u001b[43mdb_out\u001b[49m\u001b[43m,\u001b[49m\u001b[43m \u001b[49m\u001b[43msize\u001b[49m\u001b[43m)\u001b[49m\n",
      "Cell \u001b[0;32mIn[16], line 76\u001b[0m, in \u001b[0;36mbuild_sample_l2t\u001b[0;34m(db_in, db_out, size)\u001b[0m\n\u001b[1;32m     74\u001b[0m con2 \u001b[38;5;241m=\u001b[39m duckdb\u001b[38;5;241m.\u001b[39mconnect(db_out)\n\u001b[1;32m     75\u001b[0m con2\u001b[38;5;241m.\u001b[39mexecute(\u001b[38;5;124m\"\"\"\u001b[39m\u001b[38;5;124mCREATE OR REPLACE TABLE protein_pairs AS SELECT * FROM samp_protein_pairs\u001b[39m\u001b[38;5;124m\"\"\"\u001b[39m)\n\u001b[0;32m---> 76\u001b[0m \u001b[43mcon2\u001b[49m\u001b[38;5;241;43m.\u001b[39;49m\u001b[43mexecute\u001b[49m\u001b[43m(\u001b[49m\u001b[38;5;124;43m\"\"\"\u001b[39;49m\u001b[38;5;124;43mCREATE OR REPLACE TABLE proteins AS SELECT * FROM samp_proteins\u001b[39;49m\u001b[38;5;124;43m\"\"\"\u001b[39;49m\u001b[43m)\u001b[49m\n\u001b[1;32m     77\u001b[0m con2\u001b[38;5;241m.\u001b[39mexecute(\u001b[38;5;124m\"\"\"\u001b[39m\u001b[38;5;124mCREATE OR REPLACE TABLE taxa AS SELECT * FROM samp_taxa\u001b[39m\u001b[38;5;124m\"\"\"\u001b[39m)\n\u001b[1;32m     78\u001b[0m con2\u001b[38;5;241m.\u001b[39mexecute(\u001b[38;5;124m\"\"\"\u001b[39m\u001b[38;5;124mCREATE OR REPLACE TABLE taxa_pairs AS SELECT * FROM samp_taxa_pairs\u001b[39m\u001b[38;5;124m\"\"\"\u001b[39m)\n",
      "\u001b[0;31mInvalidInputException\u001b[0m: Invalid Input Error: Failed to cast value: Unimplemented type for cast (VARCHAR -> NULL)"
     ]
    }
   ],
   "source": [
    "db_in = '/mnt/s/PairProphet/PairProphet.db'\n",
    "\n",
    "for s in range(10):\n",
    "    size = 1000*(s+1)\n",
    "    db_out = f'/mnt/s/PairProphet/l2t_samples/l2t_{s+1}k.db'\n",
    "    build_sample_l2t(db_in, db_out, size)"
   ]
  },
  {
   "cell_type": "code",
   "execution_count": 36,
   "id": "5391a03b",
   "metadata": {},
   "outputs": [
    {
     "name": "stdout",
     "output_type": "stream",
     "text": [
      "   count_star()\n",
      "0          3839\n"
     ]
    }
   ],
   "source": [
    "con = duckdb.connect('/mnt/s/PairProphet/l2t_samples/l2t_2k.db')\n",
    "\n",
    "print(con.execute(\"\"\"SELECT COUNT(*) FROM proteins\"\"\").df())\n"
   ]
  },
  {
   "cell_type": "code",
   "execution_count": 22,
   "id": "f5115be1",
   "metadata": {},
   "outputs": [
    {
     "data": {
      "text/html": [
       "<div>\n",
       "<style scoped>\n",
       "    .dataframe tbody tr th:only-of-type {\n",
       "        vertical-align: middle;\n",
       "    }\n",
       "\n",
       "    .dataframe tbody tr th {\n",
       "        vertical-align: top;\n",
       "    }\n",
       "\n",
       "    .dataframe thead th {\n",
       "        text-align: right;\n",
       "    }\n",
       "</style>\n",
       "<table border=\"1\" class=\"dataframe\">\n",
       "  <thead>\n",
       "    <tr style=\"text-align: right;\">\n",
       "      <th></th>\n",
       "      <th>pid</th>\n",
       "      <th>taxid</th>\n",
       "      <th>pdb_id</th>\n",
       "      <th>alphafold_id</th>\n",
       "      <th>proteome</th>\n",
       "      <th>protein_seq</th>\n",
       "    </tr>\n",
       "  </thead>\n",
       "  <tbody>\n",
       "    <tr>\n",
       "      <th>0</th>\n",
       "      <td>L0AJ51</td>\n",
       "      <td>44930</td>\n",
       "      <td>NaN</td>\n",
       "      <td>NaN</td>\n",
       "      <td>UP000010468</td>\n",
       "      <td>MVSRPAKYCPHCGTGLERITFDGHDRSHCPSCERVVWHNPVPCAGV...</td>\n",
       "    </tr>\n",
       "    <tr>\n",
       "      <th>1</th>\n",
       "      <td>A0A0K1IT22</td>\n",
       "      <td>35746</td>\n",
       "      <td>NaN</td>\n",
       "      <td>NaN</td>\n",
       "      <td>UP000663064</td>\n",
       "      <td>MELPTPQDLRERRNSLELTQSKLADMAGVSQPLIARIEGGDVDPRL...</td>\n",
       "    </tr>\n",
       "    <tr>\n",
       "      <th>2</th>\n",
       "      <td>M0B459</td>\n",
       "      <td>129789</td>\n",
       "      <td>NaN</td>\n",
       "      <td>M0B459</td>\n",
       "      <td>UP000011591</td>\n",
       "      <td>MVENDSTTRRTVLKISGAVGAAGLLAGCADNGGGGGNGGGNGGGNG...</td>\n",
       "    </tr>\n",
       "    <tr>\n",
       "      <th>3</th>\n",
       "      <td>A0A8I1AET8</td>\n",
       "      <td>2024</td>\n",
       "      <td>NaN</td>\n",
       "      <td>NaN</td>\n",
       "      <td>UP000633619</td>\n",
       "      <td>MGATEQRAVLDHQAHDHEHHEDQDRYVLGFWVFLASDLVLFASIIA...</td>\n",
       "    </tr>\n",
       "    <tr>\n",
       "      <th>4</th>\n",
       "      <td>A0A8I1DDH1</td>\n",
       "      <td>2024</td>\n",
       "      <td>NaN</td>\n",
       "      <td>NaN</td>\n",
       "      <td>UP000633619</td>\n",
       "      <td>MSQNKEVYLTEEGLEKVKEELEYLRTEKRQQVAQRLKEAIAQGDLS...</td>\n",
       "    </tr>\n",
       "    <tr>\n",
       "      <th>5</th>\n",
       "      <td>A0A3B0B641</td>\n",
       "      <td>400777</td>\n",
       "      <td>NaN</td>\n",
       "      <td>A0A3B0B641</td>\n",
       "      <td>UP000282311</td>\n",
       "      <td>MPQKLLLVDDERKVLEFMEPFLRSEGYETLTAESGLEALAKARTYR...</td>\n",
       "    </tr>\n",
       "    <tr>\n",
       "      <th>6</th>\n",
       "      <td>A0A8I1AFY4</td>\n",
       "      <td>2024</td>\n",
       "      <td>NaN</td>\n",
       "      <td>NaN</td>\n",
       "      <td>UP000633619</td>\n",
       "      <td>MARIRISRVGEQIKKELSQLIQQELKDPRIGFVTVTGVEMSGDLQI...</td>\n",
       "    </tr>\n",
       "    <tr>\n",
       "      <th>7</th>\n",
       "      <td>A0A8I1A8H8</td>\n",
       "      <td>2024</td>\n",
       "      <td>NaN</td>\n",
       "      <td>NaN</td>\n",
       "      <td>UP000633619</td>\n",
       "      <td>MSKKILVVDDEPSIVKLVQFNLKKEGYQVEVAYDGEMALEMADQFH...</td>\n",
       "    </tr>\n",
       "    <tr>\n",
       "      <th>8</th>\n",
       "      <td>A0A8I1DG37</td>\n",
       "      <td>2024</td>\n",
       "      <td>NaN</td>\n",
       "      <td>NaN</td>\n",
       "      <td>UP000633619</td>\n",
       "      <td>MIQGLYEAHLPVSDLDRSIEFYENLGLELAHRSENLAFFWIQKGKS...</td>\n",
       "    </tr>\n",
       "    <tr>\n",
       "      <th>9</th>\n",
       "      <td>A0A846LYF9</td>\n",
       "      <td>678932</td>\n",
       "      <td>NaN</td>\n",
       "      <td>A0A846LYF9</td>\n",
       "      <td>UP000564817</td>\n",
       "      <td>MNPIKIVLADDQALVRQGLAALLDLEQDLQVVAQLPDGASVVEAIA...</td>\n",
       "    </tr>\n",
       "  </tbody>\n",
       "</table>\n",
       "</div>"
      ],
      "text/plain": [
       "          pid   taxid pdb_id alphafold_id     proteome  \\\n",
       "0      L0AJ51   44930    NaN          NaN  UP000010468   \n",
       "1  A0A0K1IT22   35746    NaN          NaN  UP000663064   \n",
       "2      M0B459  129789    NaN       M0B459  UP000011591   \n",
       "3  A0A8I1AET8    2024    NaN          NaN  UP000633619   \n",
       "4  A0A8I1DDH1    2024    NaN          NaN  UP000633619   \n",
       "5  A0A3B0B641  400777    NaN   A0A3B0B641  UP000282311   \n",
       "6  A0A8I1AFY4    2024    NaN          NaN  UP000633619   \n",
       "7  A0A8I1A8H8    2024    NaN          NaN  UP000633619   \n",
       "8  A0A8I1DG37    2024    NaN          NaN  UP000633619   \n",
       "9  A0A846LYF9  678932    NaN   A0A846LYF9  UP000564817   \n",
       "\n",
       "                                         protein_seq  \n",
       "0  MVSRPAKYCPHCGTGLERITFDGHDRSHCPSCERVVWHNPVPCAGV...  \n",
       "1  MELPTPQDLRERRNSLELTQSKLADMAGVSQPLIARIEGGDVDPRL...  \n",
       "2  MVENDSTTRRTVLKISGAVGAAGLLAGCADNGGGGGNGGGNGGGNG...  \n",
       "3  MGATEQRAVLDHQAHDHEHHEDQDRYVLGFWVFLASDLVLFASIIA...  \n",
       "4  MSQNKEVYLTEEGLEKVKEELEYLRTEKRQQVAQRLKEAIAQGDLS...  \n",
       "5  MPQKLLLVDDERKVLEFMEPFLRSEGYETLTAESGLEALAKARTYR...  \n",
       "6  MARIRISRVGEQIKKELSQLIQQELKDPRIGFVTVTGVEMSGDLQI...  \n",
       "7  MSKKILVVDDEPSIVKLVQFNLKKEGYQVEVAYDGEMALEMADQFH...  \n",
       "8  MIQGLYEAHLPVSDLDRSIEFYENLGLELAHRSENLAFFWIQKGKS...  \n",
       "9  MNPIKIVLADDQALVRQGLAALLDLEQDLQVVAQLPDGASVVEAIA...  "
      ]
     },
     "execution_count": 22,
     "metadata": {},
     "output_type": "execute_result"
    }
   ],
   "source": [
    "con.execute(\"\"\"SELECT * FROM proteins LIMIT 10\"\"\").df()"
   ]
  },
  {
   "cell_type": "code",
   "execution_count": 38,
   "id": "99059cd1",
   "metadata": {},
   "outputs": [],
   "source": [
    "con.close()"
   ]
  },
  {
   "cell_type": "code",
   "execution_count": 8,
   "id": "0209fa8e",
   "metadata": {},
   "outputs": [
    {
     "name": "stdout",
     "output_type": "stream",
     "text": [
      "Connecting to database...\n",
      "Connection established! Execution time: 0.030165433883666992 seconds\n"
     ]
    }
   ],
   "source": [
    "con, _ = connect_db('/mnt/s/PairProphet/l2t_50k.db')"
   ]
  },
  {
   "cell_type": "code",
   "execution_count": 9,
   "id": "fee712bf",
   "metadata": {},
   "outputs": [
    {
     "name": "stdout",
     "output_type": "stream",
     "text": [
      "Constructing pairpro_taxa_pairs...\n",
      "Finished constructing pairpro_taxa_pairs. Execution time:\n",
      "          0.013725519180297852 seconds\n",
      "Constructing pairpro_taxa...\n",
      "Finished constructing pairpro_taxa. Execution time:\n",
      "          0.011551618576049805 seconds\n",
      "Filtering on ogt and 16S sequence parameters...\n",
      "Finished filtering. Execution time: 0.008179664611816406 seconds\n",
      "Constructing pairpro_protein_pairs...\n",
      "Finished constructing pairpro_protein_pairs. Execution time:\n",
      "          0.06876039505004883 seconds\n",
      "Constructing pairpro_proteins...\n",
      "Finished constructing pairpro_proteins. Execution time:\n",
      "          0.08545327186584473 seconds\n",
      "Constructing final dataset...\n",
      "Finishing up...\n",
      "Finished. Total execution time: 0.3300788402557373 seconds\n"
     ]
    }
   ],
   "source": [
    "build_pairpro(con)"
   ]
  },
  {
   "cell_type": "code",
   "execution_count": 45,
   "id": "9d3ccd42",
   "metadata": {},
   "outputs": [],
   "source": [
    "con = duckdb.connect('/mnt/s/PairProphet/PairProphet_lite.db')"
   ]
  },
  {
   "cell_type": "code",
   "execution_count": 71,
   "id": "3d29fe43",
   "metadata": {},
   "outputs": [
    {
     "data": {
      "text/html": [
       "<div>\n",
       "<style scoped>\n",
       "    .dataframe tbody tr th:only-of-type {\n",
       "        vertical-align: middle;\n",
       "    }\n",
       "\n",
       "    .dataframe tbody tr th {\n",
       "        vertical-align: top;\n",
       "    }\n",
       "\n",
       "    .dataframe thead th {\n",
       "        text-align: right;\n",
       "    }\n",
       "</style>\n",
       "<table border=\"1\" class=\"dataframe\">\n",
       "  <thead>\n",
       "    <tr style=\"text-align: right;\">\n",
       "      <th></th>\n",
       "      <th>m_protein_seq</th>\n",
       "      <th>t_protein_seq</th>\n",
       "    </tr>\n",
       "  </thead>\n",
       "  <tbody>\n",
       "    <tr>\n",
       "      <th>0</th>\n",
       "      <td>MGIALIFKSFFLALSQLGDPRFRRVLGLGIILTFALLIASYAGLLW...</td>\n",
       "      <td>MIADALAALSDVVSAPFRRVLLRSLGLTIAVLVGLWLLLVSVIGSY...</td>\n",
       "    </tr>\n",
       "    <tr>\n",
       "      <th>1</th>\n",
       "      <td>MEGKVKWFNAEKGYGFIETSEGGDVFVHFSAIQTDGFKTLDEGQSV...</td>\n",
       "      <td>MVGKVKWFNSEKGFGFIECEDGNDVFVHYTAINENGFKSLEEGQSV...</td>\n",
       "    </tr>\n",
       "    <tr>\n",
       "      <th>2</th>\n",
       "      <td>MGFPILETERLKLRELTLLDAETMFYYFEKASVIRYFGMDSFQNME...</td>\n",
       "      <td>MAVLETKRLILRQYEDEDIIPLHCIFSDPETMKFYPSPFSIQQTQD...</td>\n",
       "    </tr>\n",
       "    <tr>\n",
       "      <th>3</th>\n",
       "      <td>MSARILVVDNYDSFVFNLVQYLYQLGAECEVLRNDEVALSHAQDGF...</td>\n",
       "      <td>MALAKRVVILDYGSGNLRSAERAIARAGAEVEVTSDFDAAVEADGL...</td>\n",
       "    </tr>\n",
       "    <tr>\n",
       "      <th>4</th>\n",
       "      <td>MRINKYLAETGVVSRRGADAWIEAGRITINDELATLGSKVEDGDVV...</td>\n",
       "      <td>MERLQKVIAQAGIASRRKAEQLILEGKVKVNGEVVKALGTKVSRSD...</td>\n",
       "    </tr>\n",
       "  </tbody>\n",
       "</table>\n",
       "</div>"
      ],
      "text/plain": [
       "                                       m_protein_seq  \\\n",
       "0  MGIALIFKSFFLALSQLGDPRFRRVLGLGIILTFALLIASYAGLLW...   \n",
       "1  MEGKVKWFNAEKGYGFIETSEGGDVFVHFSAIQTDGFKTLDEGQSV...   \n",
       "2  MGFPILETERLKLRELTLLDAETMFYYFEKASVIRYFGMDSFQNME...   \n",
       "3  MSARILVVDNYDSFVFNLVQYLYQLGAECEVLRNDEVALSHAQDGF...   \n",
       "4  MRINKYLAETGVVSRRGADAWIEAGRITINDELATLGSKVEDGDVV...   \n",
       "\n",
       "                                       t_protein_seq  \n",
       "0  MIADALAALSDVVSAPFRRVLLRSLGLTIAVLVGLWLLLVSVIGSY...  \n",
       "1  MVGKVKWFNSEKGFGFIECEDGNDVFVHYTAINENGFKSLEEGQSV...  \n",
       "2  MAVLETKRLILRQYEDEDIIPLHCIFSDPETMKFYPSPFSIQQTQD...  \n",
       "3  MALAKRVVILDYGSGNLRSAERAIARAGAEVEVTSDFDAAVEADGL...  \n",
       "4  MERLQKVIAQAGIASRRKAEQLILEGKVKVNGEVVKALGTKVSRSD...  "
      ]
     },
     "execution_count": 71,
     "metadata": {},
     "output_type": "execute_result"
    }
   ],
   "source": [
    "df = con.execute(\"\"\"SELECT m_protein_seq, t_protein_seq FROM fafsa_final LIMIT 5\"\"\").df()\n",
    "df"
   ]
  },
  {
   "cell_type": "code",
   "execution_count": 72,
   "id": "95d50506",
   "metadata": {},
   "outputs": [],
   "source": [
    "df.to_csv('../data/make_blast_df_test.csv', index = False)"
   ]
  },
  {
   "cell_type": "code",
   "execution_count": 50,
   "id": "15c6ee29",
   "metadata": {},
   "outputs": [
    {
     "data": {
      "text/html": [
       "<div>\n",
       "<style scoped>\n",
       "    .dataframe tbody tr th:only-of-type {\n",
       "        vertical-align: middle;\n",
       "    }\n",
       "\n",
       "    .dataframe tbody tr th {\n",
       "        vertical-align: top;\n",
       "    }\n",
       "\n",
       "    .dataframe thead th {\n",
       "        text-align: right;\n",
       "    }\n",
       "</style>\n",
       "<table border=\"1\" class=\"dataframe\">\n",
       "  <thead>\n",
       "    <tr style=\"text-align: right;\">\n",
       "      <th></th>\n",
       "      <th>m_protein_seq</th>\n",
       "      <th>t_protein_seq</th>\n",
       "      <th>meso_alphafold_id</th>\n",
       "      <th>thermo_alphafold_id</th>\n",
       "      <th>meso_pid</th>\n",
       "      <th>thermo_pid</th>\n",
       "      <th>bit_score</th>\n",
       "      <th>local_gap_compressed_percent_id</th>\n",
       "      <th>scaled_local_query_percent_id</th>\n",
       "      <th>scaled_local_symmetric_percent_id</th>\n",
       "      <th>query_align_len</th>\n",
       "      <th>query_align_cov</th>\n",
       "      <th>subject_align_len</th>\n",
       "      <th>subject_align_cov</th>\n",
       "      <th>m_ogt</th>\n",
       "      <th>t_ogt</th>\n",
       "      <th>ogt_difference</th>\n",
       "      <th>m_protein_len</th>\n",
       "      <th>t_protein_len</th>\n",
       "    </tr>\n",
       "  </thead>\n",
       "  <tbody>\n",
       "    <tr>\n",
       "      <th>0</th>\n",
       "      <td>MGIALIFKSFFLALSQLGDPRFRRVLGLGIILTFALLIASYAGLLW...</td>\n",
       "      <td>MIADALAALSDVVSAPFRRVLLRSLGLTIAVLVGLWLLLVSVIGSY...</td>\n",
       "      <td>A0A4U7N8C1</td>\n",
       "      <td>A0A4R3MEU4</td>\n",
       "      <td>A0A4U7N8C1</td>\n",
       "      <td>A0A4R3MEU4</td>\n",
       "      <td>246.0</td>\n",
       "      <td>0.368664</td>\n",
       "      <td>0.349345</td>\n",
       "      <td>0.338983</td>\n",
       "      <td>218</td>\n",
       "      <td>0.951965</td>\n",
       "      <td>226</td>\n",
       "      <td>0.930041</td>\n",
       "      <td>28.0</td>\n",
       "      <td>50.0</td>\n",
       "      <td>22.0</td>\n",
       "      <td>243</td>\n",
       "      <td>229</td>\n",
       "    </tr>\n",
       "    <tr>\n",
       "      <th>1</th>\n",
       "      <td>MEGKVKWFNAEKGYGFIETSEGGDVFVHFSAIQTDGFKTLDEGQSV...</td>\n",
       "      <td>MVGKVKWFNSEKGFGFIECEDGNDVFVHYTAINENGFKSLEEGQSV...</td>\n",
       "      <td>A0A098MCX1</td>\n",
       "      <td>A0A419SWC1</td>\n",
       "      <td>A0A098MCX1</td>\n",
       "      <td>A0A419SWC1</td>\n",
       "      <td>264.0</td>\n",
       "      <td>0.723077</td>\n",
       "      <td>0.723077</td>\n",
       "      <td>0.723077</td>\n",
       "      <td>65</td>\n",
       "      <td>1.000000</td>\n",
       "      <td>65</td>\n",
       "      <td>1.000000</td>\n",
       "      <td>22.0</td>\n",
       "      <td>65.0</td>\n",
       "      <td>43.0</td>\n",
       "      <td>65</td>\n",
       "      <td>65</td>\n",
       "    </tr>\n",
       "    <tr>\n",
       "      <th>2</th>\n",
       "      <td>MGFPILETERLKLRELTLLDAETMFYYFEKASVIRYFGMDSFQNME...</td>\n",
       "      <td>MAVLETKRLILRQYEDEDIIPLHCIFSDPETMKFYPSPFSIQQTQD...</td>\n",
       "      <td>A0A2B6IPT3</td>\n",
       "      <td>A0A178TR74</td>\n",
       "      <td>A0A2B6IPT3</td>\n",
       "      <td>A0A178TR74</td>\n",
       "      <td>190.0</td>\n",
       "      <td>0.310811</td>\n",
       "      <td>0.275449</td>\n",
       "      <td>0.265130</td>\n",
       "      <td>147</td>\n",
       "      <td>0.880240</td>\n",
       "      <td>148</td>\n",
       "      <td>0.822222</td>\n",
       "      <td>30.0</td>\n",
       "      <td>55.0</td>\n",
       "      <td>25.0</td>\n",
       "      <td>180</td>\n",
       "      <td>167</td>\n",
       "    </tr>\n",
       "    <tr>\n",
       "      <th>3</th>\n",
       "      <td>MSARILVVDNYDSFVFNLVQYLYQLGAECEVLRNDEVALSHAQDGF...</td>\n",
       "      <td>MALAKRVVILDYGSGNLRSAERAIARAGAEVEVTSDFDAAVEADGL...</td>\n",
       "      <td>E2PWL5</td>\n",
       "      <td>D6YA12</td>\n",
       "      <td>E2PWL5</td>\n",
       "      <td>D6YA12</td>\n",
       "      <td>105.0</td>\n",
       "      <td>0.313830</td>\n",
       "      <td>0.278302</td>\n",
       "      <td>0.278302</td>\n",
       "      <td>207</td>\n",
       "      <td>0.976415</td>\n",
       "      <td>188</td>\n",
       "      <td>0.886792</td>\n",
       "      <td>28.0</td>\n",
       "      <td>52.5</td>\n",
       "      <td>24.5</td>\n",
       "      <td>212</td>\n",
       "      <td>212</td>\n",
       "    </tr>\n",
       "    <tr>\n",
       "      <th>4</th>\n",
       "      <td>MRINKYLAETGVVSRRGADAWIEAGRITINDELATLGSKVEDGDVV...</td>\n",
       "      <td>MERLQKVIAQAGIASRRKAEQLILEGKVKVNGEVVKALGTKVSRSD...</td>\n",
       "      <td>A0A1C0YLC9</td>\n",
       "      <td>A0A4P6URQ6</td>\n",
       "      <td>A0A1C0YLC9</td>\n",
       "      <td>A0A4P6URQ6</td>\n",
       "      <td>307.0</td>\n",
       "      <td>0.381579</td>\n",
       "      <td>0.356557</td>\n",
       "      <td>0.364780</td>\n",
       "      <td>232</td>\n",
       "      <td>0.950820</td>\n",
       "      <td>223</td>\n",
       "      <td>0.957082</td>\n",
       "      <td>29.0</td>\n",
       "      <td>50.0</td>\n",
       "      <td>21.0</td>\n",
       "      <td>233</td>\n",
       "      <td>244</td>\n",
       "    </tr>\n",
       "  </tbody>\n",
       "</table>\n",
       "</div>"
      ],
      "text/plain": [
       "                                       m_protein_seq  \\\n",
       "0  MGIALIFKSFFLALSQLGDPRFRRVLGLGIILTFALLIASYAGLLW...   \n",
       "1  MEGKVKWFNAEKGYGFIETSEGGDVFVHFSAIQTDGFKTLDEGQSV...   \n",
       "2  MGFPILETERLKLRELTLLDAETMFYYFEKASVIRYFGMDSFQNME...   \n",
       "3  MSARILVVDNYDSFVFNLVQYLYQLGAECEVLRNDEVALSHAQDGF...   \n",
       "4  MRINKYLAETGVVSRRGADAWIEAGRITINDELATLGSKVEDGDVV...   \n",
       "\n",
       "                                       t_protein_seq meso_alphafold_id  \\\n",
       "0  MIADALAALSDVVSAPFRRVLLRSLGLTIAVLVGLWLLLVSVIGSY...        A0A4U7N8C1   \n",
       "1  MVGKVKWFNSEKGFGFIECEDGNDVFVHYTAINENGFKSLEEGQSV...        A0A098MCX1   \n",
       "2  MAVLETKRLILRQYEDEDIIPLHCIFSDPETMKFYPSPFSIQQTQD...        A0A2B6IPT3   \n",
       "3  MALAKRVVILDYGSGNLRSAERAIARAGAEVEVTSDFDAAVEADGL...            E2PWL5   \n",
       "4  MERLQKVIAQAGIASRRKAEQLILEGKVKVNGEVVKALGTKVSRSD...        A0A1C0YLC9   \n",
       "\n",
       "  thermo_alphafold_id    meso_pid  thermo_pid  bit_score  \\\n",
       "0          A0A4R3MEU4  A0A4U7N8C1  A0A4R3MEU4      246.0   \n",
       "1          A0A419SWC1  A0A098MCX1  A0A419SWC1      264.0   \n",
       "2          A0A178TR74  A0A2B6IPT3  A0A178TR74      190.0   \n",
       "3              D6YA12      E2PWL5      D6YA12      105.0   \n",
       "4          A0A4P6URQ6  A0A1C0YLC9  A0A4P6URQ6      307.0   \n",
       "\n",
       "   local_gap_compressed_percent_id  scaled_local_query_percent_id  \\\n",
       "0                         0.368664                       0.349345   \n",
       "1                         0.723077                       0.723077   \n",
       "2                         0.310811                       0.275449   \n",
       "3                         0.313830                       0.278302   \n",
       "4                         0.381579                       0.356557   \n",
       "\n",
       "   scaled_local_symmetric_percent_id  query_align_len  query_align_cov  \\\n",
       "0                           0.338983              218         0.951965   \n",
       "1                           0.723077               65         1.000000   \n",
       "2                           0.265130              147         0.880240   \n",
       "3                           0.278302              207         0.976415   \n",
       "4                           0.364780              232         0.950820   \n",
       "\n",
       "   subject_align_len  subject_align_cov  m_ogt  t_ogt  ogt_difference  \\\n",
       "0                226           0.930041   28.0   50.0            22.0   \n",
       "1                 65           1.000000   22.0   65.0            43.0   \n",
       "2                148           0.822222   30.0   55.0            25.0   \n",
       "3                188           0.886792   28.0   52.5            24.5   \n",
       "4                223           0.957082   29.0   50.0            21.0   \n",
       "\n",
       "   m_protein_len  t_protein_len  \n",
       "0            243            229  \n",
       "1             65             65  \n",
       "2            180            167  \n",
       "3            212            212  \n",
       "4            233            244  "
      ]
     },
     "execution_count": 50,
     "metadata": {},
     "output_type": "execute_result"
    }
   ],
   "source": [
    "con.execute(\"\"\"SELECT * FROM fafsa_final LIMIT 5\"\"\").df()"
   ]
  },
  {
   "cell_type": "code",
   "execution_count": 73,
   "id": "494e7255",
   "metadata": {},
   "outputs": [
    {
     "data": {
      "text/html": [
       "<div>\n",
       "<style scoped>\n",
       "    .dataframe tbody tr th:only-of-type {\n",
       "        vertical-align: middle;\n",
       "    }\n",
       "\n",
       "    .dataframe tbody tr th {\n",
       "        vertical-align: top;\n",
       "    }\n",
       "\n",
       "    .dataframe thead th {\n",
       "        text-align: right;\n",
       "    }\n",
       "</style>\n",
       "<table border=\"1\" class=\"dataframe\">\n",
       "  <thead>\n",
       "    <tr style=\"text-align: right;\">\n",
       "      <th></th>\n",
       "      <th>m_protein_seq</th>\n",
       "      <th>t_protein_seq</th>\n",
       "    </tr>\n",
       "  </thead>\n",
       "  <tbody>\n",
       "    <tr>\n",
       "      <th>0</th>\n",
       "      <td>MGIALIFKSFFLALSQLGDPRFRRVLGLGIILTFALLIASYAGLLW...</td>\n",
       "      <td>MIADALAALSDVVSAPFRRVLLRSLGLTIAVLVGLWLLLVSVIGSY...</td>\n",
       "    </tr>\n",
       "    <tr>\n",
       "      <th>1</th>\n",
       "      <td>MEGKVKWFNAEKGYGFIETSEGGDVFVHFSAIQTDGFKTLDEGQSV...</td>\n",
       "      <td>MVGKVKWFNSEKGFGFIECEDGNDVFVHYTAINENGFKSLEEGQSV...</td>\n",
       "    </tr>\n",
       "    <tr>\n",
       "      <th>2</th>\n",
       "      <td>MGFPILETERLKLRELTLLDAETMFYYFEKASVIRYFGMDSFQNME...</td>\n",
       "      <td>MAVLETKRLILRQYEDEDIIPLHCIFSDPETMKFYPSPFSIQQTQD...</td>\n",
       "    </tr>\n",
       "    <tr>\n",
       "      <th>3</th>\n",
       "      <td>MSARILVVDNYDSFVFNLVQYLYQLGAECEVLRNDEVALSHAQDGF...</td>\n",
       "      <td>MALAKRVVILDYGSGNLRSAERAIARAGAEVEVTSDFDAAVEADGL...</td>\n",
       "    </tr>\n",
       "    <tr>\n",
       "      <th>4</th>\n",
       "      <td>MRINKYLAETGVVSRRGADAWIEAGRITINDELATLGSKVEDGDVV...</td>\n",
       "      <td>MERLQKVIAQAGIASRRKAEQLILEGKVKVNGEVVKALGTKVSRSD...</td>\n",
       "    </tr>\n",
       "  </tbody>\n",
       "</table>\n",
       "</div>"
      ],
      "text/plain": [
       "                                       m_protein_seq  \\\n",
       "0  MGIALIFKSFFLALSQLGDPRFRRVLGLGIILTFALLIASYAGLLW...   \n",
       "1  MEGKVKWFNAEKGYGFIETSEGGDVFVHFSAIQTDGFKTLDEGQSV...   \n",
       "2  MGFPILETERLKLRELTLLDAETMFYYFEKASVIRYFGMDSFQNME...   \n",
       "3  MSARILVVDNYDSFVFNLVQYLYQLGAECEVLRNDEVALSHAQDGF...   \n",
       "4  MRINKYLAETGVVSRRGADAWIEAGRITINDELATLGSKVEDGDVV...   \n",
       "\n",
       "                                       t_protein_seq  \n",
       "0  MIADALAALSDVVSAPFRRVLLRSLGLTIAVLVGLWLLLVSVIGSY...  \n",
       "1  MVGKVKWFNSEKGFGFIECEDGNDVFVHYTAINENGFKSLEEGQSV...  \n",
       "2  MAVLETKRLILRQYEDEDIIPLHCIFSDPETMKFYPSPFSIQQTQD...  \n",
       "3  MALAKRVVILDYGSGNLRSAERAIARAGAEVEVTSDFDAAVEADGL...  \n",
       "4  MERLQKVIAQAGIASRRKAEQLILEGKVKVNGEVVKALGTKVSRSD...  "
      ]
     },
     "execution_count": 73,
     "metadata": {},
     "output_type": "execute_result"
    }
   ],
   "source": [
    "pd.read_csv('../data/make_blast_df_test.csv')"
   ]
  },
  {
   "cell_type": "code",
   "execution_count": 74,
   "id": "3109338c",
   "metadata": {},
   "outputs": [],
   "source": [
    "con.close()"
   ]
  },
  {
   "cell_type": "code",
   "execution_count": null,
   "id": "b6c7c649",
   "metadata": {},
   "outputs": [],
   "source": []
  }
 ],
 "metadata": {
  "kernelspec": {
   "display_name": "Python 3 (ipykernel)",
   "language": "python",
   "name": "python3"
  },
  "language_info": {
   "codemirror_mode": {
    "name": "ipython",
    "version": 3
   },
   "file_extension": ".py",
   "mimetype": "text/x-python",
   "name": "python",
   "nbconvert_exporter": "python",
   "pygments_lexer": "ipython3",
   "version": "3.10.9"
  }
 },
 "nbformat": 4,
 "nbformat_minor": 5
}
