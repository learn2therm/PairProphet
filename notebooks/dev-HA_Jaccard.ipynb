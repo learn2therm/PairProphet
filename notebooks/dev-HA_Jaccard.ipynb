{
 "cells": [
  {
   "attachments": {},
   "cell_type": "markdown",
   "metadata": {},
   "source": [
    "# Dev-work: labeling"
   ]
  },
  {
   "cell_type": "code",
   "execution_count": 2,
   "metadata": {},
   "outputs": [],
   "source": [
    "# system dependecies\n",
    "import os\n",
    "from pathlib import Path\n",
    "import time\n",
    "import pickle\n",
    "\n",
    "from joblib import Parallel, delayed\n",
    "\n",
    "import csv\n",
    "from collections import defaultdict\n",
    "from typing import Dict, List, Tuple\n",
    "\n",
    "\n",
    "# library dependencies\n",
    "import matplotlib.pyplot as plt\n",
    "import numpy as np\n",
    "\n",
    "import pandas as pd\n",
    "import seaborn as sns\n",
    "from collections import defaultdict\n",
    "\n",
    "## biopython\n",
    "from Bio import SeqIO\n",
    "from Bio.Seq import Seq\n",
    "from Bio.SeqRecord import SeqRecord\n",
    "from Bio import SearchIO\n",
    "\n",
    "## pyhmmer\n",
    "import pyhmmer\n",
    "\n",
    "# local dependencies/utils\n",
    "\n",
    "## Paths\n",
    "PFAM_PATH = Path(\"/Users/humoodalanzi/pfam/Pfam-A.hmm\")\n",
    "ID_DB_PATH = Path(\"/Users/humoodalanzi/pfam/proteins_id.zip\")\n",
    "#probably need path of unit tests"
   ]
  },
  {
   "attachments": {},
   "cell_type": "markdown",
   "metadata": {},
   "source": [
    "Some exposition to clarify goals:\n",
    "\n",
    "Purpose:\n",
    " \n",
    "if two proteins share some amount of similarity on identified domains.\n",
    "E.g. if a protein is labeled with 4 domains, and three are shared with the other protein which has 5 domains, then the two proteins have Jaccard similarity of 3/9 = 0.33. Some threshold is set for this to be validated as a protein pair.\n",
    "\n",
    "* Calculate the Jaccard similarity between the domains of each pair of proteins. In accomplishing this step, you may need to save the HMMER domains to file, and then load and compute the Jaccard similarity in a separate step.\n",
    "Otherwise, do both at runtime\n",
    "* Save the results, including protein IDs in parquet files at `./data/taxa_pairs/hmmer_val` of the form `\"taxa_pair_XX-YY.parquet\"`, which are 1:1 mirrors of the blast files. Each parquet file should contain the domains IDs identified for each protein\n",
    "and the calculated Jaccard score."
   ]
  },
  {
   "cell_type": "code",
   "execution_count": null,
   "metadata": {},
   "outputs": [],
   "source": [
    "def find_jaccard_similarity(set1, set2):\n",
    "    \"\"\"_summary_\n",
    "    \"\"\"\n",
    "    intersection = set1.intersection(set2)\n",
    "    union = set1.union(set2)\n",
    "    return len(intersection) / len(union)"
   ]
  },
  {
   "cell_type": "code",
   "execution_count": null,
   "metadata": {},
   "outputs": [],
   "source": [
    "def process_parsed_protein_pairs():\n",
    "    \"\"\"_summary_\n",
    "    \"\"\"\n",
    "    \"TODO\"\n",
    "    pass"
   ]
  },
  {
   "attachments": {},
   "cell_type": "markdown",
   "metadata": {},
   "source": [
    "## function stubs"
   ]
  },
  {
   "attachments": {},
   "cell_type": "markdown",
   "metadata": {},
   "source": [
    "These should be ordered:"
   ]
  },
  {
   "cell_type": "code",
   "execution_count": null,
   "metadata": {},
   "outputs": [],
   "source": [
    "def read_csv(file_path: str) -> Dict[str, List[str]]:\n",
    "    \"\"\"\n",
    "    Reads a CSV file and returns a dictionary with query IDs as keys and a list\n",
    "    of accession IDs as values.\n",
    "    \"\"\"\n",
    "    # TODO: implement this function\n",
    "    pass"
   ]
  },
  {
   "cell_type": "code",
   "execution_count": null,
   "metadata": {},
   "outputs": [],
   "source": [
    "# stolen from Evan\n",
    "def find_jaccard_similarity(set1, set2):\n",
    "    \"\"\"\n",
    "    Calculates the Jaccard similarity score between two sets.\n",
    "    \"\"\"\n",
    "    intersection = set1.intersection(set2)\n",
    "    union = set1.union(set2)\n",
    "    return len(intersection) / len(union)"
   ]
  },
  {
   "cell_type": "code",
   "execution_count": null,
   "metadata": {},
   "outputs": [],
   "source": [
    "def calculate_similarity(file1: str, file2: str, threshold: float, n_jobs: int = -1) -> Dict[str, bool]:\n",
    "    \"\"\"\n",
    "    Calculates the Jaccard similarity score between each protein in file1 and file2,\n",
    "    and returns a dictionary with query IDs as keys and a boolean indicating whether\n",
    "    the score threshold was met or not.\n",
    "\n",
    "    This function uses joblib to parallelize the comparison of proteins between the\n",
    "    two files.\n",
    "    \"\"\"\n",
    "    # Read the CSV files and create dictionaries with query IDs and accession IDs\n",
    "    dict1 = read_csv(file1)\n",
    "    dict2 = read_csv(file2)\n",
    "\n",
    "    # Define a function to calculate the Jaccard similarity score between two proteins\n",
    "    def calculate_score(query1: str, accs1: List[str], query2: str, accs2: List[str]) -> Tuple[str, bool]:\n",
    "        score = find_jaccard_similarity(set(accs1), set(accs2))\n",
    "        functional = score >= threshold\n",
    "        return f'{query1}|{query2}', functional\n",
    "\n",
    "    # Parallelize the comparison of proteins between the two files\n",
    "    scores = Parallel(n_jobs=n_jobs)(\n",
    "        delayed(calculate_score)(query1, accs1, query2, accs2)\n",
    "        for query1, accs1 in dict1.items()\n",
    "        for query2, accs2 in dict2.items()\n",
    "    )\n",
    "\n",
    "    # Create a dictionary to store the functional boolean values\n",
    "    functional = {}\n",
    "    for query_pair, score in scores:\n",
    "        functional[query_pair] = score\n",
    "\n",
    "    return functional\n"
   ]
  },
  {
   "cell_type": "code",
   "execution_count": null,
   "metadata": {},
   "outputs": [],
   "source": [
    "def write_function_output(output_file: str, functional: Dict[str, bool]):\n",
    "    \"\"\"\n",
    "    Writes the output to a CSV file with two columns: query ID and a functional boolean.\n",
    "    \"\"\"\n",
    "    # TODO: implement this function\n",
    "    pass"
   ]
  },
  {
   "cell_type": "code",
   "execution_count": null,
   "metadata": {},
   "outputs": [],
   "source": [
    "if __name__ == '__main__':\n",
    "    # Set the input file paths\n",
    "    file1 = 'file1.csv'\n",
    "    file2 = 'file2.csv'\n",
    "    \n",
    "    # Set the Jaccard similarity score threshold\n",
    "    threshold = 0.33\n",
    "    \n",
    "    # Calculate the Jaccard similarity score and functional boolean values\n",
    "    functional = calculate_similarity(file1, file2, threshold)\n",
    "    \n",
    "    # Write the output to a CSV file\n",
    "    output_file = 'output.csv'\n",
    "    write_function_output(output_file, functional)"
   ]
  }
 ],
 "metadata": {
  "kernelspec": {
   "display_name": "pyhmmer",
   "language": "python",
   "name": "python3"
  },
  "language_info": {
   "codemirror_mode": {
    "name": "ipython",
    "version": 3
   },
   "file_extension": ".py",
   "mimetype": "text/x-python",
   "name": "python",
   "nbconvert_exporter": "python",
   "pygments_lexer": "ipython3",
   "version": "3.11.2"
  },
  "orig_nbformat": 4
 },
 "nbformat": 4,
 "nbformat_minor": 2
}
