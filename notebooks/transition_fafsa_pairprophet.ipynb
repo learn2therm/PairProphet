{
 "cells": [
  {
   "cell_type": "markdown",
   "id": "8bbd7eb5",
   "metadata": {},
   "source": [
    "### This notebook documents how existing FAFSA database was rebranded for PairProphet"
   ]
  },
  {
   "cell_type": "code",
   "execution_count": 2,
   "id": "029d479b",
   "metadata": {},
   "outputs": [],
   "source": [
    "import pandas as pd\n",
    "import numpy as np\n",
    "\n",
    "import duckdb"
   ]
  },
  {
   "cell_type": "code",
   "execution_count": 3,
   "id": "782ad4e6",
   "metadata": {},
   "outputs": [],
   "source": [
    "con = duckdb.connect('/mnt/s/PairProphet/PairProphet.db')"
   ]
  },
  {
   "cell_type": "code",
   "execution_count": 5,
   "id": "293e5f83",
   "metadata": {},
   "outputs": [
    {
     "name": "stdout",
     "output_type": "stream",
     "text": [
      "              table_name\n",
      "0                uniprot\n",
      "1            fafsa_final\n",
      "2         fafsa_proteins\n",
      "3    fafsa_protein_pairs\n",
      "4   fafsa_ogt_taxa_pairs\n",
      "5             fafsa_taxa\n",
      "6       fafsa_taxa_pairs\n",
      "7                   taxa\n",
      "8         taxa_pairs_lab\n",
      "9             taxa_pairs\n",
      "10              proteins\n",
      "11         protein_pairs\n"
     ]
    }
   ],
   "source": [
    "tabs = con.execute(\"\"\"SELECT TABLE_NAME\n",
    "FROM INFORMATION_SCHEMA.TABLES\n",
    "WHERE TABLE_TYPE='BASE TABLE'\"\"\").df()\n",
    "\n",
    "print(tabs)"
   ]
  },
  {
   "cell_type": "code",
   "execution_count": 15,
   "id": "e5775db2",
   "metadata": {},
   "outputs": [],
   "source": [
    "for tab in tabs['table_name'][1:7]:\n",
    "    new_name = 'pairpro' + tab.split('fafsa')[1]\n",
    "    cmd = f\"\"\"ALTER TABLE {tab}\n",
    "              RENAME TO {new_name}\"\"\"\n",
    "    con.execute(cmd)"
   ]
  },
  {
   "cell_type": "code",
   "execution_count": 16,
   "id": "66189e1e",
   "metadata": {},
   "outputs": [
    {
     "data": {
      "text/html": [
       "<div>\n",
       "<style scoped>\n",
       "    .dataframe tbody tr th:only-of-type {\n",
       "        vertical-align: middle;\n",
       "    }\n",
       "\n",
       "    .dataframe tbody tr th {\n",
       "        vertical-align: top;\n",
       "    }\n",
       "\n",
       "    .dataframe thead th {\n",
       "        text-align: right;\n",
       "    }\n",
       "</style>\n",
       "<table border=\"1\" class=\"dataframe\">\n",
       "  <thead>\n",
       "    <tr style=\"text-align: right;\">\n",
       "      <th></th>\n",
       "      <th>table_name</th>\n",
       "    </tr>\n",
       "  </thead>\n",
       "  <tbody>\n",
       "    <tr>\n",
       "      <th>0</th>\n",
       "      <td>uniprot</td>\n",
       "    </tr>\n",
       "    <tr>\n",
       "      <th>1</th>\n",
       "      <td>pairpro_final</td>\n",
       "    </tr>\n",
       "    <tr>\n",
       "      <th>2</th>\n",
       "      <td>pairpro_proteins</td>\n",
       "    </tr>\n",
       "    <tr>\n",
       "      <th>3</th>\n",
       "      <td>pairpro_protein_pairs</td>\n",
       "    </tr>\n",
       "    <tr>\n",
       "      <th>4</th>\n",
       "      <td>pairpro_ogt_taxa_pairs</td>\n",
       "    </tr>\n",
       "    <tr>\n",
       "      <th>5</th>\n",
       "      <td>pairpro_taxa</td>\n",
       "    </tr>\n",
       "    <tr>\n",
       "      <th>6</th>\n",
       "      <td>pairpro_taxa_pairs</td>\n",
       "    </tr>\n",
       "    <tr>\n",
       "      <th>7</th>\n",
       "      <td>taxa</td>\n",
       "    </tr>\n",
       "    <tr>\n",
       "      <th>8</th>\n",
       "      <td>taxa_pairs_lab</td>\n",
       "    </tr>\n",
       "    <tr>\n",
       "      <th>9</th>\n",
       "      <td>taxa_pairs</td>\n",
       "    </tr>\n",
       "    <tr>\n",
       "      <th>10</th>\n",
       "      <td>proteins</td>\n",
       "    </tr>\n",
       "    <tr>\n",
       "      <th>11</th>\n",
       "      <td>protein_pairs</td>\n",
       "    </tr>\n",
       "  </tbody>\n",
       "</table>\n",
       "</div>"
      ],
      "text/plain": [
       "                table_name\n",
       "0                  uniprot\n",
       "1            pairpro_final\n",
       "2         pairpro_proteins\n",
       "3    pairpro_protein_pairs\n",
       "4   pairpro_ogt_taxa_pairs\n",
       "5             pairpro_taxa\n",
       "6       pairpro_taxa_pairs\n",
       "7                     taxa\n",
       "8           taxa_pairs_lab\n",
       "9               taxa_pairs\n",
       "10                proteins\n",
       "11           protein_pairs"
      ]
     },
     "execution_count": 16,
     "metadata": {},
     "output_type": "execute_result"
    }
   ],
   "source": [
    "con.execute(\"\"\"SELECT TABLE_NAME\n",
    "FROM INFORMATION_SCHEMA.TABLES\n",
    "WHERE TABLE_TYPE='BASE TABLE'\"\"\").df()"
   ]
  }
 ],
 "metadata": {
  "kernelspec": {
   "display_name": "validprot",
   "language": "python",
   "name": "validprot"
  },
  "language_info": {
   "codemirror_mode": {
    "name": "ipython",
    "version": 3
   },
   "file_extension": ".py",
   "mimetype": "text/x-python",
   "name": "python",
   "nbconvert_exporter": "python",
   "pygments_lexer": "ipython3",
   "version": "3.10.9"
  }
 },
 "nbformat": 4,
 "nbformat_minor": 5
}
