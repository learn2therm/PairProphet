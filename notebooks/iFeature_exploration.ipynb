{
 "cells": [
  {
   "cell_type": "markdown",
   "id": "cf3075c3",
   "metadata": {},
   "source": [
    "This notebook uses iFeatureOmega, a feature generation software, to add to our feature space for a RandomForestClassifier that predicts protein pair functionality."
   ]
  },
  {
   "cell_type": "markdown",
   "id": "3f7bd6b3",
   "metadata": {},
   "source": [
    "To do:\n",
    "\n",
    "1) Write unit tests for iFeatureOmega\n",
    "2) time trial for different descriptors"
   ]
  },
  {
   "cell_type": "code",
   "execution_count": 24,
   "id": "61c53eee",
   "metadata": {},
   "outputs": [],
   "source": [
    "import matplotlib.pyplot as plt\n",
    "import seaborn as sns\n",
    "import pandas as pd\n",
    "import numpy as np\n",
    "import scipy.stats\n",
    "import sklearn.preprocessing\n",
    "import sklearn.model_selection\n",
    "import sklearn.ensemble\n",
    "import sklearn.feature_selection\n",
    "import unittest\n",
    "import iFeatureOmegaCLI\n",
    "import Bio.SeqIO\n",
    "import Bio.SeqRecord\n",
    "import io\n",
    "from io import StringIO\n",
    "import time"
   ]
  },
  {
   "cell_type": "code",
   "execution_count": 25,
   "id": "ba87d47f",
   "metadata": {
    "scrolled": false
   },
   "outputs": [
    {
     "name": "stdout",
     "output_type": "stream",
     "text": [
      "/Users/loganroberts/Learn2Therm/ValidProt/FAFSA\n"
     ]
    }
   ],
   "source": [
    "cd /Users/loganroberts/Learn2Therm/ValidProt/FAFSA"
   ]
  },
  {
   "cell_type": "code",
   "execution_count": 26,
   "id": "f90c1cdd",
   "metadata": {
    "scrolled": true
   },
   "outputs": [],
   "source": [
    "#convert to pandas df\n",
    "df = pd.read_csv('learn2therm_sample_50k.csv')"
   ]
  },
  {
   "cell_type": "code",
   "execution_count": 27,
   "id": "5d55b25f",
   "metadata": {
    "scrolled": true
   },
   "outputs": [
    {
     "name": "stdout",
     "output_type": "stream",
     "text": [
      "/Users/loganroberts/Learn2Therm/ValidProt/notebooks\n"
     ]
    }
   ],
   "source": [
    "cd /Users/loganroberts/Learn2Therm/ValidProt/notebooks"
   ]
  },
  {
   "cell_type": "code",
   "execution_count": 28,
   "id": "49d634f9",
   "metadata": {},
   "outputs": [],
   "source": [
    "def get_fasta_from_dataframe(dataframe, output_file:str):\n",
    "    #adjust this to write function with BioPython\n",
    "\n",
    "    with open(output_file, 'w') as f:\n",
    "        for _, row in df.iterrows():\n",
    "            f.write('>{}\\n{}\\n'.format((row['meso_index']), row['m_protein_seq']))\n",
    "    return output_file"
   ]
  },
  {
   "cell_type": "code",
   "execution_count": 29,
   "id": "bd684f14",
   "metadata": {},
   "outputs": [
    {
     "data": {
      "text/html": [
       "<div>\n",
       "<style scoped>\n",
       "    .dataframe tbody tr th:only-of-type {\n",
       "        vertical-align: middle;\n",
       "    }\n",
       "\n",
       "    .dataframe tbody tr th {\n",
       "        vertical-align: top;\n",
       "    }\n",
       "\n",
       "    .dataframe thead th {\n",
       "        text-align: right;\n",
       "    }\n",
       "</style>\n",
       "<table border=\"1\" class=\"dataframe\">\n",
       "  <thead>\n",
       "    <tr style=\"text-align: right;\">\n",
       "      <th></th>\n",
       "      <th>Unnamed: 0</th>\n",
       "      <th>local_gap_compressed_percent_id</th>\n",
       "      <th>scaled_local_query_percent_id</th>\n",
       "      <th>scaled_local_symmetric_percent_id</th>\n",
       "      <th>query_align_len</th>\n",
       "      <th>query_align_cov</th>\n",
       "      <th>subject_align_len</th>\n",
       "      <th>subject_align_cov</th>\n",
       "      <th>bit_score</th>\n",
       "      <th>thermo_index</th>\n",
       "      <th>...</th>\n",
       "      <th>bit_score_16s</th>\n",
       "      <th>m_ogt</th>\n",
       "      <th>t_ogt</th>\n",
       "      <th>ogt_difference</th>\n",
       "      <th>m_protein_seq</th>\n",
       "      <th>t_protein_seq</th>\n",
       "      <th>m_protein_desc</th>\n",
       "      <th>t_protein_desc</th>\n",
       "      <th>m_protein_len</th>\n",
       "      <th>t_protein_len</th>\n",
       "    </tr>\n",
       "  </thead>\n",
       "  <tbody>\n",
       "    <tr>\n",
       "      <th>0</th>\n",
       "      <td>0</td>\n",
       "      <td>0.287582</td>\n",
       "      <td>0.217822</td>\n",
       "      <td>0.215686</td>\n",
       "      <td>160</td>\n",
       "      <td>0.792079</td>\n",
       "      <td>152</td>\n",
       "      <td>0.737864</td>\n",
       "      <td>131</td>\n",
       "      <td>875</td>\n",
       "      <td>...</td>\n",
       "      <td>1153.0</td>\n",
       "      <td>27.5</td>\n",
       "      <td>50.0</td>\n",
       "      <td>22.5</td>\n",
       "      <td>MAESGTSRRADHLVPVPGPDAEPPAVADELLRAVGRGDEQAFGRLY...</td>\n",
       "      <td>MPSQITESERIELAERFERDALPLLDQLYSAALRMTRNPADAEDLV...</td>\n",
       "      <td>ECF RNA polymerase sigma factor SigK</td>\n",
       "      <td>sigma-70 family RNA polymerase sigma factor</td>\n",
       "      <td>206</td>\n",
       "      <td>202</td>\n",
       "    </tr>\n",
       "    <tr>\n",
       "      <th>1</th>\n",
       "      <td>1</td>\n",
       "      <td>0.319635</td>\n",
       "      <td>0.295359</td>\n",
       "      <td>0.297872</td>\n",
       "      <td>218</td>\n",
       "      <td>0.919831</td>\n",
       "      <td>226</td>\n",
       "      <td>0.969957</td>\n",
       "      <td>282</td>\n",
       "      <td>11324</td>\n",
       "      <td>...</td>\n",
       "      <td>1014.0</td>\n",
       "      <td>25.0</td>\n",
       "      <td>54.0</td>\n",
       "      <td>29.0</td>\n",
       "      <td>MARIALVDDDRNILTSVSMTLEAEGFEVETYNDGQSALDAFNKRMP...</td>\n",
       "      <td>MRVLLVEDDPNTSRSIEMMLTHANLNVYATDMGEEGIDLAKLYDYD...</td>\n",
       "      <td>response regulator transcription factor</td>\n",
       "      <td>response regulator transcription factor</td>\n",
       "      <td>233</td>\n",
       "      <td>237</td>\n",
       "    </tr>\n",
       "    <tr>\n",
       "      <th>2</th>\n",
       "      <td>2</td>\n",
       "      <td>0.279621</td>\n",
       "      <td>0.234127</td>\n",
       "      <td>0.218924</td>\n",
       "      <td>211</td>\n",
       "      <td>0.837302</td>\n",
       "      <td>210</td>\n",
       "      <td>0.731707</td>\n",
       "      <td>96</td>\n",
       "      <td>875</td>\n",
       "      <td>...</td>\n",
       "      <td>1138.0</td>\n",
       "      <td>28.0</td>\n",
       "      <td>50.0</td>\n",
       "      <td>22.0</td>\n",
       "      <td>MKDTVVFVTGAARGIGAHTARLAVARGARVALVGLEPHLLADLAAE...</td>\n",
       "      <td>MTPEQIFSGQTAIVTGGASGIGAATVEHIARRGGRVFSVDLSYDSP...</td>\n",
       "      <td>SDR family oxidoreductase</td>\n",
       "      <td>SDR family oxidoreductase</td>\n",
       "      <td>287</td>\n",
       "      <td>252</td>\n",
       "    </tr>\n",
       "    <tr>\n",
       "      <th>3</th>\n",
       "      <td>3</td>\n",
       "      <td>0.327273</td>\n",
       "      <td>0.200743</td>\n",
       "      <td>0.214712</td>\n",
       "      <td>166</td>\n",
       "      <td>0.617100</td>\n",
       "      <td>163</td>\n",
       "      <td>0.696581</td>\n",
       "      <td>175</td>\n",
       "      <td>875</td>\n",
       "      <td>...</td>\n",
       "      <td>1077.0</td>\n",
       "      <td>28.0</td>\n",
       "      <td>50.0</td>\n",
       "      <td>22.0</td>\n",
       "      <td>MTSGLWERVLDGVWVTIQLLVLSALLATAVSFVVGIARTHRLWIVR...</td>\n",
       "      <td>MAMSRRKRGQLARGIQYAILVIVVVVLALLADWGKIGKAFFDWEAA...</td>\n",
       "      <td>ectoine/hydroxyectoine ABC transporter permeas...</td>\n",
       "      <td>amino acid ABC transporter permease</td>\n",
       "      <td>234</td>\n",
       "      <td>269</td>\n",
       "    </tr>\n",
       "    <tr>\n",
       "      <th>4</th>\n",
       "      <td>4</td>\n",
       "      <td>0.338710</td>\n",
       "      <td>0.318182</td>\n",
       "      <td>0.287671</td>\n",
       "      <td>60</td>\n",
       "      <td>0.909091</td>\n",
       "      <td>71</td>\n",
       "      <td>0.887500</td>\n",
       "      <td>61</td>\n",
       "      <td>9827</td>\n",
       "      <td>...</td>\n",
       "      <td>991.0</td>\n",
       "      <td>30.0</td>\n",
       "      <td>50.0</td>\n",
       "      <td>20.0</td>\n",
       "      <td>MIISLRRGLRFIRFIVFFAALVYLFYHVLDLFNGWISPVDQYQMPT...</td>\n",
       "      <td>MKRMVWRTLKVFIIFIACTLLFYFGLRFMHLEYEQFHRYEPPEGPA...</td>\n",
       "      <td>YqzK family protein</td>\n",
       "      <td>YqzK family protein</td>\n",
       "      <td>80</td>\n",
       "      <td>66</td>\n",
       "    </tr>\n",
       "    <tr>\n",
       "      <th>...</th>\n",
       "      <td>...</td>\n",
       "      <td>...</td>\n",
       "      <td>...</td>\n",
       "      <td>...</td>\n",
       "      <td>...</td>\n",
       "      <td>...</td>\n",
       "      <td>...</td>\n",
       "      <td>...</td>\n",
       "      <td>...</td>\n",
       "      <td>...</td>\n",
       "      <td>...</td>\n",
       "      <td>...</td>\n",
       "      <td>...</td>\n",
       "      <td>...</td>\n",
       "      <td>...</td>\n",
       "      <td>...</td>\n",
       "      <td>...</td>\n",
       "      <td>...</td>\n",
       "      <td>...</td>\n",
       "      <td>...</td>\n",
       "      <td>...</td>\n",
       "    </tr>\n",
       "    <tr>\n",
       "      <th>49995</th>\n",
       "      <td>49995</td>\n",
       "      <td>0.344828</td>\n",
       "      <td>0.169972</td>\n",
       "      <td>0.192308</td>\n",
       "      <td>180</td>\n",
       "      <td>0.509915</td>\n",
       "      <td>200</td>\n",
       "      <td>0.738007</td>\n",
       "      <td>53</td>\n",
       "      <td>14963</td>\n",
       "      <td>...</td>\n",
       "      <td>1055.0</td>\n",
       "      <td>28.0</td>\n",
       "      <td>52.5</td>\n",
       "      <td>24.5</td>\n",
       "      <td>MDNATFRLGDDLSVRLPGHSRWIGQVEREQRWLPWLAPRLPLTVST...</td>\n",
       "      <td>MPPQPRPLRPNDPREIGGFALLGRLGEGGQGTVYLGGAPDGRRVAV...</td>\n",
       "      <td>aminoglycoside phosphotransferase family protein</td>\n",
       "      <td>serine/threonine protein kinase</td>\n",
       "      <td>271</td>\n",
       "      <td>353</td>\n",
       "    </tr>\n",
       "    <tr>\n",
       "      <th>49996</th>\n",
       "      <td>49996</td>\n",
       "      <td>0.417989</td>\n",
       "      <td>0.389163</td>\n",
       "      <td>0.392060</td>\n",
       "      <td>190</td>\n",
       "      <td>0.935961</td>\n",
       "      <td>187</td>\n",
       "      <td>0.935000</td>\n",
       "      <td>314</td>\n",
       "      <td>7134</td>\n",
       "      <td>...</td>\n",
       "      <td>1083.0</td>\n",
       "      <td>26.5</td>\n",
       "      <td>52.5</td>\n",
       "      <td>26.0</td>\n",
       "      <td>MFRTGVKAEIGRSLAVVGEAEDVERAVRVVLEQRPDVVLLDVHLPG...</td>\n",
       "      <td>MILEAEPDIVVVGEAGDGEKAVEEARALQPDVVLMDIRMPRKDGVE...</td>\n",
       "      <td>response regulator transcription factor</td>\n",
       "      <td>response regulator transcription factor</td>\n",
       "      <td>200</td>\n",
       "      <td>203</td>\n",
       "    </tr>\n",
       "    <tr>\n",
       "      <th>49997</th>\n",
       "      <td>49997</td>\n",
       "      <td>0.352174</td>\n",
       "      <td>0.239645</td>\n",
       "      <td>0.242152</td>\n",
       "      <td>230</td>\n",
       "      <td>0.680473</td>\n",
       "      <td>227</td>\n",
       "      <td>0.685801</td>\n",
       "      <td>279</td>\n",
       "      <td>7134</td>\n",
       "      <td>...</td>\n",
       "      <td>991.0</td>\n",
       "      <td>28.0</td>\n",
       "      <td>52.5</td>\n",
       "      <td>24.5</td>\n",
       "      <td>MIRLAELTKTYPGQQHPAVDGISMEVAEGEIVVLVGPSGCGKTTTL...</td>\n",
       "      <td>MTEQPILSARGLTVDFRLRGGRRARAVDGVDLDLAPGEVLALAGES...</td>\n",
       "      <td>ABC transporter ATP-binding protein</td>\n",
       "      <td>ABC transporter ATP-binding protein</td>\n",
       "      <td>331</td>\n",
       "      <td>338</td>\n",
       "    </tr>\n",
       "    <tr>\n",
       "      <th>49998</th>\n",
       "      <td>49998</td>\n",
       "      <td>0.334764</td>\n",
       "      <td>0.331915</td>\n",
       "      <td>0.329810</td>\n",
       "      <td>232</td>\n",
       "      <td>0.987234</td>\n",
       "      <td>230</td>\n",
       "      <td>0.966387</td>\n",
       "      <td>281</td>\n",
       "      <td>11324</td>\n",
       "      <td>...</td>\n",
       "      <td>907.0</td>\n",
       "      <td>29.0</td>\n",
       "      <td>54.0</td>\n",
       "      <td>25.0</td>\n",
       "      <td>MSESHAGALLSVRGLTAGYGGATALDGVSLTVAAGETVALLGANGA...</td>\n",
       "      <td>MSLLTTSGLTRHFSGIHAVEGVDFTLEAGEIRALIGSNGAGKTTLV...</td>\n",
       "      <td>ABC transporter ATP-binding protein</td>\n",
       "      <td>ABC transporter ATP-binding protein</td>\n",
       "      <td>238</td>\n",
       "      <td>235</td>\n",
       "    </tr>\n",
       "    <tr>\n",
       "      <th>49999</th>\n",
       "      <td>49999</td>\n",
       "      <td>0.336207</td>\n",
       "      <td>0.184834</td>\n",
       "      <td>0.174497</td>\n",
       "      <td>113</td>\n",
       "      <td>0.535545</td>\n",
       "      <td>117</td>\n",
       "      <td>0.495763</td>\n",
       "      <td>165</td>\n",
       "      <td>7134</td>\n",
       "      <td>...</td>\n",
       "      <td>978.0</td>\n",
       "      <td>26.0</td>\n",
       "      <td>52.5</td>\n",
       "      <td>26.5</td>\n",
       "      <td>MTGQGASGSETGVSDDSPITVVVVDDQELLRTGLRDLAEHDGDIAV...</td>\n",
       "      <td>MTTEAQPRRVVLAEDEALIRLDLAEMLAEEGYEVVGQAADGETALA...</td>\n",
       "      <td>response regulator transcription factor</td>\n",
       "      <td>response regulator</td>\n",
       "      <td>236</td>\n",
       "      <td>211</td>\n",
       "    </tr>\n",
       "  </tbody>\n",
       "</table>\n",
       "<p>50000 rows × 30 columns</p>\n",
       "</div>"
      ],
      "text/plain": [
       "       Unnamed: 0  local_gap_compressed_percent_id  \\\n",
       "0               0                         0.287582   \n",
       "1               1                         0.319635   \n",
       "2               2                         0.279621   \n",
       "3               3                         0.327273   \n",
       "4               4                         0.338710   \n",
       "...           ...                              ...   \n",
       "49995       49995                         0.344828   \n",
       "49996       49996                         0.417989   \n",
       "49997       49997                         0.352174   \n",
       "49998       49998                         0.334764   \n",
       "49999       49999                         0.336207   \n",
       "\n",
       "       scaled_local_query_percent_id  scaled_local_symmetric_percent_id  \\\n",
       "0                           0.217822                           0.215686   \n",
       "1                           0.295359                           0.297872   \n",
       "2                           0.234127                           0.218924   \n",
       "3                           0.200743                           0.214712   \n",
       "4                           0.318182                           0.287671   \n",
       "...                              ...                                ...   \n",
       "49995                       0.169972                           0.192308   \n",
       "49996                       0.389163                           0.392060   \n",
       "49997                       0.239645                           0.242152   \n",
       "49998                       0.331915                           0.329810   \n",
       "49999                       0.184834                           0.174497   \n",
       "\n",
       "       query_align_len  query_align_cov  subject_align_len  subject_align_cov  \\\n",
       "0                  160         0.792079                152           0.737864   \n",
       "1                  218         0.919831                226           0.969957   \n",
       "2                  211         0.837302                210           0.731707   \n",
       "3                  166         0.617100                163           0.696581   \n",
       "4                   60         0.909091                 71           0.887500   \n",
       "...                ...              ...                ...                ...   \n",
       "49995              180         0.509915                200           0.738007   \n",
       "49996              190         0.935961                187           0.935000   \n",
       "49997              230         0.680473                227           0.685801   \n",
       "49998              232         0.987234                230           0.966387   \n",
       "49999              113         0.535545                117           0.495763   \n",
       "\n",
       "       bit_score  thermo_index  ...  bit_score_16s  m_ogt  t_ogt  \\\n",
       "0            131           875  ...         1153.0   27.5   50.0   \n",
       "1            282         11324  ...         1014.0   25.0   54.0   \n",
       "2             96           875  ...         1138.0   28.0   50.0   \n",
       "3            175           875  ...         1077.0   28.0   50.0   \n",
       "4             61          9827  ...          991.0   30.0   50.0   \n",
       "...          ...           ...  ...            ...    ...    ...   \n",
       "49995         53         14963  ...         1055.0   28.0   52.5   \n",
       "49996        314          7134  ...         1083.0   26.5   52.5   \n",
       "49997        279          7134  ...          991.0   28.0   52.5   \n",
       "49998        281         11324  ...          907.0   29.0   54.0   \n",
       "49999        165          7134  ...          978.0   26.0   52.5   \n",
       "\n",
       "       ogt_difference                                      m_protein_seq  \\\n",
       "0                22.5  MAESGTSRRADHLVPVPGPDAEPPAVADELLRAVGRGDEQAFGRLY...   \n",
       "1                29.0  MARIALVDDDRNILTSVSMTLEAEGFEVETYNDGQSALDAFNKRMP...   \n",
       "2                22.0  MKDTVVFVTGAARGIGAHTARLAVARGARVALVGLEPHLLADLAAE...   \n",
       "3                22.0  MTSGLWERVLDGVWVTIQLLVLSALLATAVSFVVGIARTHRLWIVR...   \n",
       "4                20.0  MIISLRRGLRFIRFIVFFAALVYLFYHVLDLFNGWISPVDQYQMPT...   \n",
       "...               ...                                                ...   \n",
       "49995            24.5  MDNATFRLGDDLSVRLPGHSRWIGQVEREQRWLPWLAPRLPLTVST...   \n",
       "49996            26.0  MFRTGVKAEIGRSLAVVGEAEDVERAVRVVLEQRPDVVLLDVHLPG...   \n",
       "49997            24.5  MIRLAELTKTYPGQQHPAVDGISMEVAEGEIVVLVGPSGCGKTTTL...   \n",
       "49998            25.0  MSESHAGALLSVRGLTAGYGGATALDGVSLTVAAGETVALLGANGA...   \n",
       "49999            26.5  MTGQGASGSETGVSDDSPITVVVVDDQELLRTGLRDLAEHDGDIAV...   \n",
       "\n",
       "                                           t_protein_seq  \\\n",
       "0      MPSQITESERIELAERFERDALPLLDQLYSAALRMTRNPADAEDLV...   \n",
       "1      MRVLLVEDDPNTSRSIEMMLTHANLNVYATDMGEEGIDLAKLYDYD...   \n",
       "2      MTPEQIFSGQTAIVTGGASGIGAATVEHIARRGGRVFSVDLSYDSP...   \n",
       "3      MAMSRRKRGQLARGIQYAILVIVVVVLALLADWGKIGKAFFDWEAA...   \n",
       "4      MKRMVWRTLKVFIIFIACTLLFYFGLRFMHLEYEQFHRYEPPEGPA...   \n",
       "...                                                  ...   \n",
       "49995  MPPQPRPLRPNDPREIGGFALLGRLGEGGQGTVYLGGAPDGRRVAV...   \n",
       "49996  MILEAEPDIVVVGEAGDGEKAVEEARALQPDVVLMDIRMPRKDGVE...   \n",
       "49997  MTEQPILSARGLTVDFRLRGGRRARAVDGVDLDLAPGEVLALAGES...   \n",
       "49998  MSLLTTSGLTRHFSGIHAVEGVDFTLEAGEIRALIGSNGAGKTTLV...   \n",
       "49999  MTTEAQPRRVVLAEDEALIRLDLAEMLAEEGYEVVGQAADGETALA...   \n",
       "\n",
       "                                          m_protein_desc  \\\n",
       "0                   ECF RNA polymerase sigma factor SigK   \n",
       "1                response regulator transcription factor   \n",
       "2                              SDR family oxidoreductase   \n",
       "3      ectoine/hydroxyectoine ABC transporter permeas...   \n",
       "4                                    YqzK family protein   \n",
       "...                                                  ...   \n",
       "49995   aminoglycoside phosphotransferase family protein   \n",
       "49996            response regulator transcription factor   \n",
       "49997                ABC transporter ATP-binding protein   \n",
       "49998                ABC transporter ATP-binding protein   \n",
       "49999            response regulator transcription factor   \n",
       "\n",
       "                                    t_protein_desc  m_protein_len  \\\n",
       "0      sigma-70 family RNA polymerase sigma factor            206   \n",
       "1          response regulator transcription factor            233   \n",
       "2                        SDR family oxidoreductase            287   \n",
       "3              amino acid ABC transporter permease            234   \n",
       "4                              YqzK family protein             80   \n",
       "...                                            ...            ...   \n",
       "49995              serine/threonine protein kinase            271   \n",
       "49996      response regulator transcription factor            200   \n",
       "49997          ABC transporter ATP-binding protein            331   \n",
       "49998          ABC transporter ATP-binding protein            238   \n",
       "49999                           response regulator            236   \n",
       "\n",
       "       t_protein_len  \n",
       "0                202  \n",
       "1                237  \n",
       "2                252  \n",
       "3                269  \n",
       "4                 66  \n",
       "...              ...  \n",
       "49995            353  \n",
       "49996            203  \n",
       "49997            338  \n",
       "49998            235  \n",
       "49999            211  \n",
       "\n",
       "[50000 rows x 30 columns]"
      ]
     },
     "execution_count": 29,
     "metadata": {},
     "output_type": "execute_result"
    }
   ],
   "source": [
    "get_fasta_from_dataframe(df, 'meso_50k.fasta')\n",
    "df"
   ]
  },
  {
   "cell_type": "code",
   "execution_count": 30,
   "id": "e6cd0874",
   "metadata": {},
   "outputs": [],
   "source": [
    "#getting an error in the try/except block\n",
    "\n",
    "\n",
    "from Bio import Seq, SeqIO\n",
    "\n",
    "def get_fasta_from_dataframe_biopython(dataframe, output_file:str):\n",
    "    # Create a list of SeqRecord objects\n",
    "    records = []\n",
    "    for _, row in dataframe.iterrows():\n",
    "        try:\n",
    "            seq = Seq(row['m_protein_seq'])\n",
    "        except Exception as e:\n",
    "            print(f\"Skipping row {row.name}: {str(e)}\")\n",
    "            continue\n",
    "        record = SeqIO.SeqRecord(\n",
    "            seq=seq,\n",
    "            id=row['meso_index'],\n",
    "            description=\"\"\n",
    "        )\n",
    "        records.append(record)\n",
    "    \n",
    "    # Write the records to a FASTA file\n",
    "    with open(output_file, 'w') as f:\n",
    "        SeqIO.write(records, f, 'fasta')\n",
    "    \n",
    "    return output_file\n"
   ]
  },
  {
   "cell_type": "code",
   "execution_count": 31,
   "id": "653eb96d",
   "metadata": {},
   "outputs": [],
   "source": [
    "def get_protein_descriptors(fasta:str, descriptors=[]):\n",
    "    \n",
    "    \"\"\"\n",
    "    Generates features from a protein sequence\n",
    "\n",
    "    Parameters\n",
    "    ----------\n",
    "    Fasta file with protein sequences.\n",
    "\n",
    "    Returns\n",
    "    -------\n",
    "    Vector of descriptors\n",
    "    \"\"\"\n",
    "    \n",
    "    #create iProtein object\n",
    "    protein = iFeatureOmegaCLI.iProtein(fasta)\n",
    "    \n",
    "    #not sure why we need this yet. Right now it is stored in local directory.\n",
    "    params = protein.import_parameters('protein_parameters.json')\n",
    "    \n",
    "    protein_descriptors = {}\n",
    "    \n",
    "    for descriptor in descriptors:\n",
    "        protein.get_descriptor(descriptor)\n",
    "        protein_descriptors.update({f'{descriptor}':protein.encodings})\n",
    "        \n",
    "    return protein_descriptors"
   ]
  },
  {
   "cell_type": "code",
   "execution_count": 32,
   "id": "49cf5076",
   "metadata": {},
   "outputs": [],
   "source": [
    "#this function is only necessary if we get a fasta file with a descriptor generated from component 3\n",
    "\n",
    "def remove_fasta_description(filename:str):\n",
    "    \n",
    "    \"\"\"\n",
    "    Removes description from fasta file so that iProtein can read the input.\n",
    "    Might not be necessary in our current format.\n",
    "    \"\"\"\n",
    "    \n",
    "    #assign unwanted string to object\n",
    "    string_to_remove = \"<unknown description>\"\n",
    "\n",
    "    #open file\n",
    "    with open(filename, \"r\") as file:\n",
    "        content = file.read()\n",
    "    \n",
    "    # Remove the string\n",
    "    new_content = content.replace(string_to_remove, \"\")\n",
    "\n",
    "    #overwrite file without string\n",
    "    with open(filename, \"w\") as file:\n",
    "        seq = file.write(new_content)\n",
    "        \n",
    "    return seq"
   ]
  },
  {
   "cell_type": "code",
   "execution_count": 33,
   "id": "e93e310e",
   "metadata": {},
   "outputs": [],
   "source": [
    "#combine both of the above functions\n",
    "\n",
    "def fasta_to_descriptors(fasta:str, descriptors=[]):\n",
    "\n",
    "    #remove description from fasta file\n",
    "    remove_fasta_description(fasta)\n",
    "    \n",
    "    #return protein descriptors\n",
    "    return get_protein_descriptors(fasta, descriptors=descriptors)"
   ]
  },
  {
   "cell_type": "code",
   "execution_count": 34,
   "id": "114c3d10",
   "metadata": {},
   "outputs": [],
   "source": [
    "def create_new_dataframe(dataframe, output_file, descriptors=[]):\n",
    "    \"\"\"\n",
    "    Creates new dataframe with descriptors added.\n",
    "    \"\"\"\n",
    "    \n",
    "    fasta = get_fasta_from_dataframe(dataframe, output_file)\n",
    "    \n",
    "    feature_dict = get_protein_descriptors(fasta, descriptors)\n",
    "    \n",
    "    df = dataframe.reset_index()\n",
    "    \n",
    "    for desc in descriptors:\n",
    "        \n",
    "        feature_dict[desc].index = feature_dict[desc].index.astype(int)\n",
    "        features = feature_dict[desc].reset_index()\n",
    "        \n",
    "        df = pd.merge(df, features, how='outer', left_index=True, right_index=True)\n",
    "        \n",
    "    return df"
   ]
  },
  {
   "cell_type": "code",
   "execution_count": 35,
   "id": "29bdd03f",
   "metadata": {
    "scrolled": true
   },
   "outputs": [
    {
     "name": "stdout",
     "output_type": "stream",
     "text": [
      "File imported successfully.\n"
     ]
    }
   ],
   "source": [
    "df = create_new_dataframe(df, 'meso_50k.fasta', descriptors=['AAC', 'GAAC'])"
   ]
  },
  {
   "cell_type": "code",
   "execution_count": 37,
   "id": "6fe250af",
   "metadata": {},
   "outputs": [
    {
     "name": "stdout",
     "output_type": "stream",
     "text": [
      "File imported successfully.\n"
     ]
    },
    {
     "data": {
      "text/plain": [
       "{'AAC':           AAC_A     AAC_C     AAC_D     AAC_E     AAC_F     AAC_G     AAC_H  \\\n",
       " 12897  0.145631  0.009709  0.072816  0.067961  0.014563  0.067961  0.019417   \n",
       " 13026  0.064378  0.000000  0.115880  0.068670  0.030043  0.051502  0.008584   \n",
       " 8203   0.205575  0.006969  0.062718  0.034843  0.031359  0.094077  0.020906   \n",
       " 3340   0.119658  0.000000  0.012821  0.042735  0.055556  0.094017  0.004274   \n",
       " 14020  0.050000  0.000000  0.025000  0.050000  0.100000  0.075000  0.012500   \n",
       " ...         ...       ...       ...       ...       ...       ...       ...   \n",
       " 8772   0.158672  0.007380  0.092251  0.040590  0.036900  0.088561  0.014760   \n",
       " 1395   0.105000  0.000000  0.065000  0.090000  0.030000  0.080000  0.020000   \n",
       " 8513   0.126888  0.003021  0.063444  0.057402  0.018127  0.105740  0.021148   \n",
       " 4295   0.168067  0.000000  0.046218  0.054622  0.029412  0.126050  0.004202   \n",
       " 106    0.101695  0.000000  0.084746  0.067797  0.008475  0.088983  0.012712   \n",
       " \n",
       "           AAC_I     AAC_K     AAC_L     AAC_M     AAC_N     AAC_P     AAC_Q  \\\n",
       " 12897  0.014563  0.014563  0.106796  0.009709  0.004854  0.053398  0.038835   \n",
       " 13026  0.051502  0.055794  0.107296  0.055794  0.025751  0.025751  0.042918   \n",
       " 8203   0.024390  0.010453  0.094077  0.010453  0.020906  0.034843  0.013937   \n",
       " 3340   0.059829  0.038462  0.153846  0.029915  0.008547  0.047009  0.025641   \n",
       " 14020  0.062500  0.012500  0.100000  0.050000  0.037500  0.050000  0.037500   \n",
       " ...         ...       ...       ...       ...       ...       ...       ...   \n",
       " 8772   0.018450  0.011070  0.110701  0.011070  0.014760  0.081181  0.022140   \n",
       " 1395   0.040000  0.030000  0.100000  0.010000  0.005000  0.025000  0.020000   \n",
       " 8513   0.069486  0.024169  0.114804  0.015106  0.012085  0.060423  0.057402   \n",
       " 4295   0.008403  0.016807  0.159664  0.016807  0.008403  0.046218  0.016807   \n",
       " 106    0.059322  0.008475  0.118644  0.025424  0.016949  0.042373  0.029661   \n",
       " \n",
       "           AAC_R     AAC_S     AAC_T     AAC_V     AAC_W     AAC_Y  \n",
       " 12897  0.131068  0.033981  0.048544  0.106796  0.009709  0.029126  \n",
       " 13026  0.090129  0.042918  0.047210  0.081545  0.004292  0.030043  \n",
       " 8203   0.104530  0.031359  0.055749  0.114983  0.010453  0.017422  \n",
       " 3340   0.051282  0.055556  0.051282  0.094017  0.029915  0.025641  \n",
       " 14020  0.087500  0.037500  0.025000  0.087500  0.037500  0.062500  \n",
       " ...         ...       ...       ...       ...       ...       ...  \n",
       " 8772   0.073801  0.036900  0.055351  0.081181  0.036900  0.007380  \n",
       " 1395   0.120000  0.060000  0.030000  0.150000  0.005000  0.015000  \n",
       " 8513   0.063444  0.030211  0.057402  0.078550  0.009063  0.012085  \n",
       " 4295   0.096639  0.071429  0.029412  0.088235  0.004202  0.008403  \n",
       " 106    0.101695  0.076271  0.055085  0.088983  0.000000  0.012712  \n",
       " \n",
       " [50000 rows x 20 columns],\n",
       " 'GAAC':        GAAC_alphatic  GAAC_aromatic  GAAC_postivecharge  GAAC_negativecharge  \\\n",
       " 12897       0.451456       0.053398            0.165049             0.140777   \n",
       " 13026       0.412017       0.064378            0.154506             0.184549   \n",
       " 8203        0.543554       0.059233            0.135889             0.097561   \n",
       " 3340        0.551282       0.111111            0.094017             0.055556   \n",
       " 14020       0.425000       0.200000            0.112500             0.075000   \n",
       " ...              ...            ...                 ...                  ...   \n",
       " 8772        0.468635       0.081181            0.099631             0.132841   \n",
       " 1395        0.485000       0.050000            0.170000             0.155000   \n",
       " 8513        0.510574       0.039275            0.108761             0.120846   \n",
       " 4295        0.567227       0.042017            0.117647             0.100840   \n",
       " 106         0.483051       0.021186            0.122881             0.152542   \n",
       " \n",
       "        GAAC_uncharge  \n",
       " 12897       0.189320  \n",
       " 13026       0.184549  \n",
       " 8203        0.163763  \n",
       " 3340        0.188034  \n",
       " 14020       0.187500  \n",
       " ...              ...  \n",
       " 8772        0.217712  \n",
       " 1395        0.140000  \n",
       " 8513        0.220544  \n",
       " 4295        0.172269  \n",
       " 106         0.220339  \n",
       " \n",
       " [50000 rows x 5 columns],\n",
       " 'DistancePair':            DP_A      DP_C      DP_D      DP_E      DP_F      DP_G      DP_H  \\\n",
       " 12897  0.145631  0.009709  0.072816  0.067961  0.014563  0.067961  0.019417   \n",
       " 13026  0.064378  0.000000  0.115880  0.068670  0.030043  0.051502  0.008584   \n",
       " 8203   0.205575  0.006969  0.062718  0.034843  0.031359  0.094077  0.020906   \n",
       " 3340   0.119658  0.000000  0.012821  0.042735  0.055556  0.094017  0.004274   \n",
       " 14020  0.050000  0.000000  0.025000  0.050000  0.100000  0.075000  0.012500   \n",
       " ...         ...       ...       ...       ...       ...       ...       ...   \n",
       " 8772   0.158672  0.007380  0.092251  0.040590  0.036900  0.088561  0.014760   \n",
       " 1395   0.105000  0.000000  0.065000  0.090000  0.030000  0.080000  0.020000   \n",
       " 8513   0.126888  0.003021  0.063444  0.057402  0.018127  0.105740  0.021148   \n",
       " 4295   0.168067  0.000000  0.046218  0.054622  0.029412  0.126050  0.004202   \n",
       " 106    0.101695  0.000000  0.084746  0.067797  0.008475  0.088983  0.012712   \n",
       " \n",
       "            DP_I      DP_K      DP_L      DP_M      DP_N      DP_P      DP_Q  \\\n",
       " 12897  0.014563  0.014563  0.106796  0.009709  0.004854  0.053398  0.038835   \n",
       " 13026  0.051502  0.055794  0.107296  0.055794  0.025751  0.025751  0.042918   \n",
       " 8203   0.024390  0.010453  0.094077  0.010453  0.020906  0.034843  0.013937   \n",
       " 3340   0.059829  0.038462  0.153846  0.029915  0.008547  0.047009  0.025641   \n",
       " 14020  0.062500  0.012500  0.100000  0.050000  0.037500  0.050000  0.037500   \n",
       " ...         ...       ...       ...       ...       ...       ...       ...   \n",
       " 8772   0.018450  0.011070  0.110701  0.011070  0.014760  0.081181  0.022140   \n",
       " 1395   0.040000  0.030000  0.100000  0.010000  0.005000  0.025000  0.020000   \n",
       " 8513   0.069486  0.024169  0.114804  0.015106  0.012085  0.060423  0.057402   \n",
       " 4295   0.008403  0.016807  0.159664  0.016807  0.008403  0.046218  0.016807   \n",
       " 106    0.059322  0.008475  0.118644  0.025424  0.016949  0.042373  0.029661   \n",
       " \n",
       "            DP_R      DP_S      DP_T      DP_V      DP_W      DP_Y  \n",
       " 12897  0.131068  0.033981  0.048544  0.106796  0.009709  0.029126  \n",
       " 13026  0.090129  0.042918  0.047210  0.081545  0.004292  0.030043  \n",
       " 8203   0.104530  0.031359  0.055749  0.114983  0.010453  0.017422  \n",
       " 3340   0.051282  0.055556  0.051282  0.094017  0.029915  0.025641  \n",
       " 14020  0.087500  0.037500  0.025000  0.087500  0.037500  0.062500  \n",
       " ...         ...       ...       ...       ...       ...       ...  \n",
       " 8772   0.073801  0.036900  0.055351  0.081181  0.036900  0.007380  \n",
       " 1395   0.120000  0.060000  0.030000  0.150000  0.005000  0.015000  \n",
       " 8513   0.063444  0.030211  0.057402  0.078550  0.009063  0.012085  \n",
       " 4295   0.096639  0.071429  0.029412  0.088235  0.004202  0.008403  \n",
       " 106    0.101695  0.076271  0.055085  0.088983  0.000000  0.012712  \n",
       " \n",
       " [50000 rows x 20 columns]}"
      ]
     },
     "execution_count": 37,
     "metadata": {},
     "output_type": "execute_result"
    }
   ],
   "source": [
    "get_protein_descriptors('meso_50k.fasta', descriptors = ['AAC', 'GAAC', 'DistancePair'])"
   ]
  },
  {
   "cell_type": "markdown",
   "id": "e49fec3e",
   "metadata": {},
   "source": [
    "Let's see how long generating some of the descriptors takes:"
   ]
  },
  {
   "cell_type": "code",
   "execution_count": 38,
   "id": "5c1c5884",
   "metadata": {},
   "outputs": [
    {
     "name": "stdout",
     "output_type": "stream",
     "text": [
      "\n",
      "        ----- Available feature types ------        \n",
      "        \n",
      "        AAC                                                Amino acid composition\n",
      "        EAAC                                               Enhanced amino acid composition\n",
      "        CKSAAP type 1                                      Composition of k-spaced amino acid pairs type 1 - normalized\n",
      "        CKSAAP type 2                                      Composition of k-spaced amino acid pairs type 2 - raw count\n",
      "        DPC type 1                                         Dipeptide composition type 1 - normalized\n",
      "        DPC type 2                                         Dipeptide composition type 2 - raw count\n",
      "        TPC type 1                                         Tripeptide composition type 1 - normalized\n",
      "        TPC type 2                                         Tripeptide composition type 1 - raw count\n",
      "        CTDC                                               Composition\n",
      "        CTDT                                               Transition\n",
      "        CTDD                                               Distribution\n",
      "        CTriad                                             Conjoint triad\n",
      "        KSCTriad                                           Conjoint k-spaced triad\n",
      "        ASDC                                               Adaptive skip dipeptide composition\n",
      "        DistancePair                                       PseAAC of distance-pairs and reduced alphabe\n",
      "        GAAC                                               Grouped amino acid composition\n",
      "        EGAAC                                              Enhanced grouped amino acid composition\n",
      "        CKSAAGP type 1                                     Composition of k-spaced amino acid group pairs type 1- normalized\n",
      "        CKSAAGP type 2                                     Composition of k-spaced amino acid group pairs type 2- raw count\n",
      "        GDPC type 1                                        Grouped dipeptide composition type 1 - normalized\n",
      "        GDPC type 2                                        Grouped dipeptide composition type 2 - raw count\n",
      "        GTPC type 1                                        Grouped tripeptide composition type 1 - normalized\n",
      "        GTPC type 2                                        Grouped tripeptide composition type 1 - raw count\n",
      "        Moran                                              Moran\n",
      "        Geary                                              Geary\n",
      "        NMBroto                                            Normalized Moreau-Broto\n",
      "        AC                                                 Auto covariance\n",
      "        CC                                                 Cross covariance\n",
      "        ACC                                                Auto-cross covariance\n",
      "        SOCNumber                                          Sequence-order-coupling number\n",
      "        QSOrder                                            Quasi-sequence-order descriptors\n",
      "        PAAC                                               Pseudo-amino acid composition\n",
      "        APAAC                                              Amphiphilic PAAC\n",
      "        PseKRAAC type 1                                    Pseudo K-tuple reduced amino acids composition type 1\n",
      "        PseKRAAC type 2                                    Pseudo K-tuple reduced amino acids composition type 2\n",
      "        PseKRAAC type 3A                                   Pseudo K-tuple reduced amino acids composition type 3A\n",
      "        PseKRAAC type 3B                                   Pseudo K-tuple reduced amino acids composition type 3B\n",
      "        PseKRAAC type 4                                    Pseudo K-tuple reduced amino acids composition type 4\n",
      "        PseKRAAC type 5                                    Pseudo K-tuple reduced amino acids composition type 5\n",
      "        PseKRAAC type 6A                                   Pseudo K-tuple reduced amino acids composition type 6A\n",
      "        PseKRAAC type 6B                                   Pseudo K-tuple reduced amino acids composition type 6B\n",
      "        PseKRAAC type 6C                                   Pseudo K-tuple reduced amino acids composition type 6C\n",
      "        PseKRAAC type 7                                    Pseudo K-tuple reduced amino acids composition type 7\n",
      "        PseKRAAC type 8                                    Pseudo K-tuple reduced amino acids composition type 8\n",
      "        PseKRAAC type 9                                    Pseudo K-tuple reduced amino acids composition type 9\n",
      "        PseKRAAC type 10                                   Pseudo K-tuple reduced amino acids composition type 10\n",
      "        PseKRAAC type 11                                   Pseudo K-tuple reduced amino acids composition type 11\n",
      "        PseKRAAC type 12                                   Pseudo K-tuple reduced amino acids composition type 12\n",
      "        PseKRAAC type 13                                   Pseudo K-tuple reduced amino acids composition type 13\n",
      "        PseKRAAC type 14                                   Pseudo K-tuple reduced amino acids composition type 14\n",
      "        PseKRAAC type 15                                   Pseudo K-tuple reduced amino acids composition type 15\n",
      "        PseKRAAC type 16                                   Pseudo K-tuple reduced amino acids composition type 16\n",
      "        binary                                             Binary\n",
      "        binary_6bit                                        Binary\n",
      "        binary_5bit type 1                                 Binary\n",
      "        binary_5bit type 2                                 Binary\n",
      "        binary_3bit type 1                                 Binary\n",
      "        binary_3bit type 2                                 Binary\n",
      "        binary_3bit type 3                                 Binary\n",
      "        binary_3bit type 4                                 Binary\n",
      "        binary_3bit type 5                                 Binary\n",
      "        binary_3bit type 6                                 Binary\n",
      "        binary_3bit type 7                                 Binary\n",
      "        AESNN3                                             Learn from alignments\n",
      "        OPF_10bit                                          Overlapping property features - 10 bit\n",
      "        OPF_7bit type 1                                    Overlapping property features - 7 bit type 1\n",
      "        OPF_7bit type 2                                    Overlapping property features - 7 bit type 2\n",
      "        OPF_7bit type 3                                    Overlapping property features - 7 bit type 3\n",
      "        AAIndex                                            AAIndex\n",
      "        BLOSUM62                                           BLOSUM62\n",
      "        ZScale                                             Z-Scales index\n",
      "        KNN                                                K-nearest neighbor\n",
      "\n",
      "        Note: the first column is the names of availables feature types while the second column is description.  \n",
      "        \n",
      "        \n"
     ]
    }
   ],
   "source": [
    "#iFeature properties\n",
    "\n",
    "protein = iFeatureOmegaCLI.iProtein('meso_50k.fasta')\n",
    "protein.display_feature_types()"
   ]
  },
  {
   "cell_type": "code",
   "execution_count": 39,
   "id": "e7e807c0",
   "metadata": {},
   "outputs": [],
   "source": [
    "\"\"\"\n",
    "this list comes from a combination of reading through the features and determining which might be useful\n",
    "and timing some of the feature generations. those that took more than 30ish seconds were eliminated\n",
    "Also removed those that have really high dimensionality (>4000)\n",
    "\"\"\"\n",
    "\n",
    "feature_list = ['AAC', 'GAAC', 'DistancePair',\n",
    "               'DPC type 1', 'CTDC', 'CTDT', 'CTDD', 'CTriad',\n",
    "                'CKSAAGP type 1', 'PseKRAAC type 1', 'APAAC', 'QSOrder']"
   ]
  },
  {
   "cell_type": "code",
   "execution_count": 40,
   "id": "d0714bd7",
   "metadata": {},
   "outputs": [],
   "source": [
    "import time"
   ]
  },
  {
   "cell_type": "code",
   "execution_count": 41,
   "id": "6481c460",
   "metadata": {},
   "outputs": [],
   "source": [
    "def time_feature_generation(dataframe, file_name:str, descriptor:str):\n",
    "\n",
    "    # Record the current time\n",
    "    start_time = time.time()\n",
    "\n",
    "    # Code to be timed goes here\n",
    "    create_new_dataframe(dataframe, file_name, descriptors=[descriptor])\n",
    "\n",
    "    # Record the time again and calculate the elapsed time\n",
    "    end_time = time.time()\n",
    "    elapsed_time = end_time - start_time\n",
    "\n",
    "    # Print the elapsed time\n",
    "#     print(f\"Elapsed time: {elapsed_time:.2f} seconds\")\n",
    "    return elapsed_time"
   ]
  },
  {
   "cell_type": "code",
   "execution_count": 42,
   "id": "7fb5c1f5",
   "metadata": {},
   "outputs": [
    {
     "name": "stdout",
     "output_type": "stream",
     "text": [
      "File imported successfully.\n"
     ]
    },
    {
     "name": "stderr",
     "output_type": "stream",
     "text": [
      "<ipython-input-34-58a7bf96e801>:17: FutureWarning: Passing 'suffixes' which cause duplicate columns {'index_x'} in the result is deprecated and will raise a MergeError in a future version.\n",
      "  df = pd.merge(df, features, how='outer', left_index=True, right_index=True)\n"
     ]
    },
    {
     "data": {
      "text/plain": [
       "50.5052011013031"
      ]
     },
     "execution_count": 42,
     "metadata": {},
     "output_type": "execute_result"
    }
   ],
   "source": [
    "time_feature_generation(df, 'meso_50k.fasta', 'QSOrder')"
   ]
  },
  {
   "cell_type": "code",
   "execution_count": 43,
   "id": "55518967",
   "metadata": {},
   "outputs": [],
   "source": [
    "def time_feature_dict(dataframe, file_name:str, feature_list):\n",
    "    \n",
    "    #iterates through dictionary of protein descriptors and returns the time it takes to run the code\n",
    "    \n",
    "    protein = iFeatureOmegaCLI.iProtein(file_name)\n",
    "    \n",
    "    time_dict = {}\n",
    "    \n",
    "    for feature in feature_list:\n",
    "        time_dict[feature] = time_feature_generation(dataframe, file_name, feature)\n",
    "    \n",
    "    return time_dict"
   ]
  },
  {
   "cell_type": "code",
   "execution_count": 44,
   "id": "e9a9d39d",
   "metadata": {
    "scrolled": true
   },
   "outputs": [
    {
     "name": "stdout",
     "output_type": "stream",
     "text": [
      "File imported successfully.\n"
     ]
    },
    {
     "name": "stderr",
     "output_type": "stream",
     "text": [
      "<ipython-input-34-58a7bf96e801>:17: FutureWarning: Passing 'suffixes' which cause duplicate columns {'index_x'} in the result is deprecated and will raise a MergeError in a future version.\n",
      "  df = pd.merge(df, features, how='outer', left_index=True, right_index=True)\n"
     ]
    },
    {
     "name": "stdout",
     "output_type": "stream",
     "text": [
      "File imported successfully.\n"
     ]
    },
    {
     "name": "stderr",
     "output_type": "stream",
     "text": [
      "<ipython-input-34-58a7bf96e801>:17: FutureWarning: Passing 'suffixes' which cause duplicate columns {'index_x'} in the result is deprecated and will raise a MergeError in a future version.\n",
      "  df = pd.merge(df, features, how='outer', left_index=True, right_index=True)\n"
     ]
    },
    {
     "name": "stdout",
     "output_type": "stream",
     "text": [
      "File imported successfully.\n"
     ]
    },
    {
     "name": "stderr",
     "output_type": "stream",
     "text": [
      "<ipython-input-34-58a7bf96e801>:17: FutureWarning: Passing 'suffixes' which cause duplicate columns {'index_x'} in the result is deprecated and will raise a MergeError in a future version.\n",
      "  df = pd.merge(df, features, how='outer', left_index=True, right_index=True)\n"
     ]
    },
    {
     "name": "stdout",
     "output_type": "stream",
     "text": [
      "File imported successfully.\n"
     ]
    },
    {
     "name": "stderr",
     "output_type": "stream",
     "text": [
      "<ipython-input-34-58a7bf96e801>:17: FutureWarning: Passing 'suffixes' which cause duplicate columns {'index_x'} in the result is deprecated and will raise a MergeError in a future version.\n",
      "  df = pd.merge(df, features, how='outer', left_index=True, right_index=True)\n"
     ]
    },
    {
     "name": "stdout",
     "output_type": "stream",
     "text": [
      "File imported successfully.\n"
     ]
    },
    {
     "name": "stderr",
     "output_type": "stream",
     "text": [
      "<ipython-input-34-58a7bf96e801>:17: FutureWarning: Passing 'suffixes' which cause duplicate columns {'index_x'} in the result is deprecated and will raise a MergeError in a future version.\n",
      "  df = pd.merge(df, features, how='outer', left_index=True, right_index=True)\n"
     ]
    },
    {
     "name": "stdout",
     "output_type": "stream",
     "text": [
      "File imported successfully.\n"
     ]
    },
    {
     "name": "stderr",
     "output_type": "stream",
     "text": [
      "<ipython-input-34-58a7bf96e801>:17: FutureWarning: Passing 'suffixes' which cause duplicate columns {'index_x'} in the result is deprecated and will raise a MergeError in a future version.\n",
      "  df = pd.merge(df, features, how='outer', left_index=True, right_index=True)\n"
     ]
    },
    {
     "name": "stdout",
     "output_type": "stream",
     "text": [
      "File imported successfully.\n"
     ]
    },
    {
     "name": "stderr",
     "output_type": "stream",
     "text": [
      "<ipython-input-34-58a7bf96e801>:17: FutureWarning: Passing 'suffixes' which cause duplicate columns {'index_x'} in the result is deprecated and will raise a MergeError in a future version.\n",
      "  df = pd.merge(df, features, how='outer', left_index=True, right_index=True)\n"
     ]
    },
    {
     "name": "stdout",
     "output_type": "stream",
     "text": [
      "File imported successfully.\n"
     ]
    },
    {
     "name": "stderr",
     "output_type": "stream",
     "text": [
      "<ipython-input-34-58a7bf96e801>:17: FutureWarning: Passing 'suffixes' which cause duplicate columns {'index_x'} in the result is deprecated and will raise a MergeError in a future version.\n",
      "  df = pd.merge(df, features, how='outer', left_index=True, right_index=True)\n"
     ]
    },
    {
     "name": "stdout",
     "output_type": "stream",
     "text": [
      "File imported successfully.\n"
     ]
    },
    {
     "name": "stderr",
     "output_type": "stream",
     "text": [
      "<ipython-input-34-58a7bf96e801>:17: FutureWarning: Passing 'suffixes' which cause duplicate columns {'index_x'} in the result is deprecated and will raise a MergeError in a future version.\n",
      "  df = pd.merge(df, features, how='outer', left_index=True, right_index=True)\n"
     ]
    },
    {
     "name": "stdout",
     "output_type": "stream",
     "text": [
      "File imported successfully.\n"
     ]
    },
    {
     "name": "stderr",
     "output_type": "stream",
     "text": [
      "<ipython-input-34-58a7bf96e801>:17: FutureWarning: Passing 'suffixes' which cause duplicate columns {'index_x'} in the result is deprecated and will raise a MergeError in a future version.\n",
      "  df = pd.merge(df, features, how='outer', left_index=True, right_index=True)\n"
     ]
    },
    {
     "name": "stdout",
     "output_type": "stream",
     "text": [
      "File imported successfully.\n"
     ]
    },
    {
     "name": "stderr",
     "output_type": "stream",
     "text": [
      "<ipython-input-34-58a7bf96e801>:17: FutureWarning: Passing 'suffixes' which cause duplicate columns {'index_x'} in the result is deprecated and will raise a MergeError in a future version.\n",
      "  df = pd.merge(df, features, how='outer', left_index=True, right_index=True)\n"
     ]
    },
    {
     "name": "stdout",
     "output_type": "stream",
     "text": [
      "File imported successfully.\n"
     ]
    },
    {
     "name": "stderr",
     "output_type": "stream",
     "text": [
      "<ipython-input-34-58a7bf96e801>:17: FutureWarning: Passing 'suffixes' which cause duplicate columns {'index_x'} in the result is deprecated and will raise a MergeError in a future version.\n",
      "  df = pd.merge(df, features, how='outer', left_index=True, right_index=True)\n"
     ]
    },
    {
     "data": {
      "text/plain": [
       "{'AAC': 12.905656099319458,\n",
       " 'GAAC': 13.434737205505371,\n",
       " 'DistancePair': 17.440794229507446,\n",
       " 'DPC type 1': 140.17239379882812,\n",
       " 'CTDC': 10.232621908187866,\n",
       " 'CTDT': 84.93229627609253,\n",
       " 'CTDD': 136.90583610534668,\n",
       " 'CTriad': 62.94322204589844,\n",
       " 'CKSAAGP type 1': 66.76271605491638,\n",
       " 'PseKRAAC type 1': 7.033976793289185,\n",
       " 'APAAC': 31.77904224395752,\n",
       " 'QSOrder': 49.19735503196716}"
      ]
     },
     "execution_count": 44,
     "metadata": {},
     "output_type": "execute_result"
    }
   ],
   "source": [
    "time_feature_dict(df, 'meso_50k.fasta', feature_list)"
   ]
  },
  {
   "cell_type": "code",
   "execution_count": null,
   "id": "ee931b27",
   "metadata": {},
   "outputs": [
    {
     "name": "stdout",
     "output_type": "stream",
     "text": [
      "File imported successfully.\n"
     ]
    }
   ],
   "source": [
    "df = create_new_dataframe(df, 'meso_50k.fasta', descriptors=[feature for feature in feature_list])"
   ]
  },
  {
   "cell_type": "markdown",
   "id": "b7be5ead",
   "metadata": {},
   "source": [
    "# Scratch work for above function"
   ]
  },
  {
   "cell_type": "code",
   "execution_count": 27,
   "id": "d863dd63",
   "metadata": {
    "scrolled": true
   },
   "outputs": [],
   "source": [
    "# sequence = \"meso_input_copy.fasta.txt\"\n",
    "# string_to_remove = \"<unknown description>\"\n",
    "\n",
    "# with open(sequence, \"r\") as file:\n",
    "#     content = file.read()\n",
    "    \n",
    "# # Remove the string\n",
    "# new_content = content.replace(string_to_remove, \"\")\n",
    "\n",
    "# with open(sequence, \"w\") as file:\n",
    "#     file.write(new_content)\n"
   ]
  },
  {
   "cell_type": "code",
   "execution_count": null,
   "id": "96d2c565",
   "metadata": {
    "scrolled": true
   },
   "outputs": [],
   "source": [
    "df['t_protein_len'].describe()"
   ]
  },
  {
   "cell_type": "markdown",
   "id": "04026501",
   "metadata": {},
   "source": [
    "The bit-score provides a better rule-of-thumb for inferring homology. For average length proteins, a bit score of 50 is almost always significant. A bit score of 40 is only significant (E() < 0.001) in searches of protein databases with fewer than 7000 entries. Increasing the score by 10 bits increases the significance 210=1000-fold, so 50 bits would be significant in a database with less than 7 million entries (10 times SwissProt, and within a factor of 3 of the largest protein databases). Thus, the NCBI Blast web site uses a color code of blue for alignment with scores between 40–50 bits; and green for scores between 50–80 bits. In the yeast vs human example, the alignments with less than 20% identity had scores ranging from 55 – 170 bits. Except for very long proteins and very large databases, 50 bits of similarity score will always be statistically significant and is a much better rule-of-thumb for inferring homology in protein alignments.\n",
    "\n",
    "Pearson et al., 2013: An Introduction to Sequence Similarity (“Homology”) Searching"
   ]
  },
  {
   "cell_type": "code",
   "execution_count": null,
   "id": "273884e5",
   "metadata": {},
   "outputs": [],
   "source": [
    "df['protein_match'] = ((df['bit_score'] > 50 ) & (df['query_align_cov'] > 0.8))"
   ]
  },
  {
   "cell_type": "code",
   "execution_count": null,
   "id": "14015e54",
   "metadata": {},
   "outputs": [],
   "source": [
    "df['protein_match'].value_counts()"
   ]
  },
  {
   "cell_type": "code",
   "execution_count": null,
   "id": "b27836e4",
   "metadata": {},
   "outputs": [],
   "source": [
    "df"
   ]
  },
  {
   "cell_type": "code",
   "execution_count": 83,
   "id": "084d9561",
   "metadata": {},
   "outputs": [],
   "source": [
    "#get rid of stuff that isn't quantitative\n",
    "\n",
    "df = df.drop(columns = ['Unnamed: 0','thermo_index', 'm_protein_seq', 't_protein_seq',\n",
    "                        'm_protein_desc', 't_protein_desc'])"
   ]
  },
  {
   "cell_type": "code",
   "execution_count": 84,
   "id": "eea27e6c",
   "metadata": {
    "scrolled": false
   },
   "outputs": [
    {
     "data": {
      "text/html": [
       "<div>\n",
       "<style scoped>\n",
       "    .dataframe tbody tr th:only-of-type {\n",
       "        vertical-align: middle;\n",
       "    }\n",
       "\n",
       "    .dataframe tbody tr th {\n",
       "        vertical-align: top;\n",
       "    }\n",
       "\n",
       "    .dataframe thead th {\n",
       "        text-align: right;\n",
       "    }\n",
       "</style>\n",
       "<table border=\"1\" class=\"dataframe\">\n",
       "  <thead>\n",
       "    <tr style=\"text-align: right;\">\n",
       "      <th></th>\n",
       "      <th>index_x</th>\n",
       "      <th>local_gap_compressed_percent_id</th>\n",
       "      <th>scaled_local_query_percent_id</th>\n",
       "      <th>scaled_local_symmetric_percent_id</th>\n",
       "      <th>query_align_len</th>\n",
       "      <th>query_align_cov</th>\n",
       "      <th>subject_align_len</th>\n",
       "      <th>subject_align_cov</th>\n",
       "      <th>bit_score</th>\n",
       "      <th>meso_index</th>\n",
       "      <th>...</th>\n",
       "      <th>AAC_N</th>\n",
       "      <th>AAC_P</th>\n",
       "      <th>AAC_Q</th>\n",
       "      <th>AAC_R</th>\n",
       "      <th>AAC_S</th>\n",
       "      <th>AAC_T</th>\n",
       "      <th>AAC_V</th>\n",
       "      <th>AAC_W</th>\n",
       "      <th>AAC_Y</th>\n",
       "      <th>protein_match</th>\n",
       "    </tr>\n",
       "  </thead>\n",
       "  <tbody>\n",
       "    <tr>\n",
       "      <th>0</th>\n",
       "      <td>0</td>\n",
       "      <td>0.287582</td>\n",
       "      <td>0.217822</td>\n",
       "      <td>0.215686</td>\n",
       "      <td>160</td>\n",
       "      <td>0.792079</td>\n",
       "      <td>152</td>\n",
       "      <td>0.737864</td>\n",
       "      <td>131</td>\n",
       "      <td>12897</td>\n",
       "      <td>...</td>\n",
       "      <td>0.004854</td>\n",
       "      <td>0.053398</td>\n",
       "      <td>0.038835</td>\n",
       "      <td>0.131068</td>\n",
       "      <td>0.033981</td>\n",
       "      <td>0.048544</td>\n",
       "      <td>0.106796</td>\n",
       "      <td>0.009709</td>\n",
       "      <td>0.029126</td>\n",
       "      <td>False</td>\n",
       "    </tr>\n",
       "    <tr>\n",
       "      <th>1</th>\n",
       "      <td>1</td>\n",
       "      <td>0.319635</td>\n",
       "      <td>0.295359</td>\n",
       "      <td>0.297872</td>\n",
       "      <td>218</td>\n",
       "      <td>0.919831</td>\n",
       "      <td>226</td>\n",
       "      <td>0.969957</td>\n",
       "      <td>282</td>\n",
       "      <td>13026</td>\n",
       "      <td>...</td>\n",
       "      <td>0.025751</td>\n",
       "      <td>0.025751</td>\n",
       "      <td>0.042918</td>\n",
       "      <td>0.090129</td>\n",
       "      <td>0.042918</td>\n",
       "      <td>0.047210</td>\n",
       "      <td>0.081545</td>\n",
       "      <td>0.004292</td>\n",
       "      <td>0.030043</td>\n",
       "      <td>True</td>\n",
       "    </tr>\n",
       "    <tr>\n",
       "      <th>2</th>\n",
       "      <td>2</td>\n",
       "      <td>0.279621</td>\n",
       "      <td>0.234127</td>\n",
       "      <td>0.218924</td>\n",
       "      <td>211</td>\n",
       "      <td>0.837302</td>\n",
       "      <td>210</td>\n",
       "      <td>0.731707</td>\n",
       "      <td>96</td>\n",
       "      <td>8203</td>\n",
       "      <td>...</td>\n",
       "      <td>0.020906</td>\n",
       "      <td>0.034843</td>\n",
       "      <td>0.013937</td>\n",
       "      <td>0.104530</td>\n",
       "      <td>0.031359</td>\n",
       "      <td>0.055749</td>\n",
       "      <td>0.114983</td>\n",
       "      <td>0.010453</td>\n",
       "      <td>0.017422</td>\n",
       "      <td>True</td>\n",
       "    </tr>\n",
       "    <tr>\n",
       "      <th>3</th>\n",
       "      <td>3</td>\n",
       "      <td>0.327273</td>\n",
       "      <td>0.200743</td>\n",
       "      <td>0.214712</td>\n",
       "      <td>166</td>\n",
       "      <td>0.617100</td>\n",
       "      <td>163</td>\n",
       "      <td>0.696581</td>\n",
       "      <td>175</td>\n",
       "      <td>3340</td>\n",
       "      <td>...</td>\n",
       "      <td>0.008547</td>\n",
       "      <td>0.047009</td>\n",
       "      <td>0.025641</td>\n",
       "      <td>0.051282</td>\n",
       "      <td>0.055556</td>\n",
       "      <td>0.051282</td>\n",
       "      <td>0.094017</td>\n",
       "      <td>0.029915</td>\n",
       "      <td>0.025641</td>\n",
       "      <td>False</td>\n",
       "    </tr>\n",
       "    <tr>\n",
       "      <th>4</th>\n",
       "      <td>4</td>\n",
       "      <td>0.338710</td>\n",
       "      <td>0.318182</td>\n",
       "      <td>0.287671</td>\n",
       "      <td>60</td>\n",
       "      <td>0.909091</td>\n",
       "      <td>71</td>\n",
       "      <td>0.887500</td>\n",
       "      <td>61</td>\n",
       "      <td>14020</td>\n",
       "      <td>...</td>\n",
       "      <td>0.037500</td>\n",
       "      <td>0.050000</td>\n",
       "      <td>0.037500</td>\n",
       "      <td>0.087500</td>\n",
       "      <td>0.037500</td>\n",
       "      <td>0.025000</td>\n",
       "      <td>0.087500</td>\n",
       "      <td>0.037500</td>\n",
       "      <td>0.062500</td>\n",
       "      <td>True</td>\n",
       "    </tr>\n",
       "  </tbody>\n",
       "</table>\n",
       "<p>5 rows × 47 columns</p>\n",
       "</div>"
      ],
      "text/plain": [
       "   index_x  local_gap_compressed_percent_id  scaled_local_query_percent_id  \\\n",
       "0        0                         0.287582                       0.217822   \n",
       "1        1                         0.319635                       0.295359   \n",
       "2        2                         0.279621                       0.234127   \n",
       "3        3                         0.327273                       0.200743   \n",
       "4        4                         0.338710                       0.318182   \n",
       "\n",
       "   scaled_local_symmetric_percent_id  query_align_len  query_align_cov  \\\n",
       "0                           0.215686              160         0.792079   \n",
       "1                           0.297872              218         0.919831   \n",
       "2                           0.218924              211         0.837302   \n",
       "3                           0.214712              166         0.617100   \n",
       "4                           0.287671               60         0.909091   \n",
       "\n",
       "   subject_align_len  subject_align_cov  bit_score  meso_index  ...     AAC_N  \\\n",
       "0                152           0.737864        131       12897  ...  0.004854   \n",
       "1                226           0.969957        282       13026  ...  0.025751   \n",
       "2                210           0.731707         96        8203  ...  0.020906   \n",
       "3                163           0.696581        175        3340  ...  0.008547   \n",
       "4                 71           0.887500         61       14020  ...  0.037500   \n",
       "\n",
       "      AAC_P     AAC_Q     AAC_R     AAC_S     AAC_T     AAC_V     AAC_W  \\\n",
       "0  0.053398  0.038835  0.131068  0.033981  0.048544  0.106796  0.009709   \n",
       "1  0.025751  0.042918  0.090129  0.042918  0.047210  0.081545  0.004292   \n",
       "2  0.034843  0.013937  0.104530  0.031359  0.055749  0.114983  0.010453   \n",
       "3  0.047009  0.025641  0.051282  0.055556  0.051282  0.094017  0.029915   \n",
       "4  0.050000  0.037500  0.087500  0.037500  0.025000  0.087500  0.037500   \n",
       "\n",
       "      AAC_Y  protein_match  \n",
       "0  0.029126          False  \n",
       "1  0.030043           True  \n",
       "2  0.017422           True  \n",
       "3  0.025641          False  \n",
       "4  0.062500           True  \n",
       "\n",
       "[5 rows x 47 columns]"
      ]
     },
     "execution_count": 84,
     "metadata": {},
     "output_type": "execute_result"
    }
   ],
   "source": [
    "df.head()"
   ]
  },
  {
   "cell_type": "markdown",
   "id": "07cc3a80",
   "metadata": {},
   "source": [
    "From pairplot below, it looks like query_align_cov_16s and subject_align_cov_16s dont correlate with target. Let's remove them."
   ]
  },
  {
   "cell_type": "code",
   "execution_count": 85,
   "id": "91079edd",
   "metadata": {},
   "outputs": [],
   "source": [
    "df = df.drop(columns = ['query_align_cov_16s', 'subject_align_cov_16s'])"
   ]
  },
  {
   "cell_type": "code",
   "execution_count": 24,
   "id": "36d8dadb",
   "metadata": {
    "scrolled": true
   },
   "outputs": [],
   "source": [
    "# sns.pairplot(df.sample(500),height = 4)"
   ]
  },
  {
   "cell_type": "code",
   "execution_count": 86,
   "id": "7929625e",
   "metadata": {
    "scrolled": false
   },
   "outputs": [
    {
     "data": {
      "text/html": [
       "<div>\n",
       "<style scoped>\n",
       "    .dataframe tbody tr th:only-of-type {\n",
       "        vertical-align: middle;\n",
       "    }\n",
       "\n",
       "    .dataframe tbody tr th {\n",
       "        vertical-align: top;\n",
       "    }\n",
       "\n",
       "    .dataframe thead th {\n",
       "        text-align: right;\n",
       "    }\n",
       "</style>\n",
       "<table border=\"1\" class=\"dataframe\">\n",
       "  <thead>\n",
       "    <tr style=\"text-align: right;\">\n",
       "      <th></th>\n",
       "      <th>index_x</th>\n",
       "      <th>local_gap_compressed_percent_id</th>\n",
       "      <th>scaled_local_query_percent_id</th>\n",
       "      <th>scaled_local_symmetric_percent_id</th>\n",
       "      <th>query_align_len</th>\n",
       "      <th>query_align_cov</th>\n",
       "      <th>subject_align_len</th>\n",
       "      <th>subject_align_cov</th>\n",
       "      <th>bit_score</th>\n",
       "      <th>meso_index</th>\n",
       "      <th>...</th>\n",
       "      <th>AAC_M</th>\n",
       "      <th>AAC_N</th>\n",
       "      <th>AAC_P</th>\n",
       "      <th>AAC_Q</th>\n",
       "      <th>AAC_R</th>\n",
       "      <th>AAC_S</th>\n",
       "      <th>AAC_T</th>\n",
       "      <th>AAC_V</th>\n",
       "      <th>AAC_W</th>\n",
       "      <th>AAC_Y</th>\n",
       "    </tr>\n",
       "  </thead>\n",
       "  <tbody>\n",
       "    <tr>\n",
       "      <th>count</th>\n",
       "      <td>50000.000000</td>\n",
       "      <td>50000.000000</td>\n",
       "      <td>50000.000000</td>\n",
       "      <td>50000.000000</td>\n",
       "      <td>50000.000000</td>\n",
       "      <td>50000.000000</td>\n",
       "      <td>50000.000000</td>\n",
       "      <td>50000.000000</td>\n",
       "      <td>50000.00000</td>\n",
       "      <td>50000.000000</td>\n",
       "      <td>...</td>\n",
       "      <td>50000.000000</td>\n",
       "      <td>50000.000000</td>\n",
       "      <td>50000.000000</td>\n",
       "      <td>50000.000000</td>\n",
       "      <td>50000.000000</td>\n",
       "      <td>50000.000000</td>\n",
       "      <td>50000.000000</td>\n",
       "      <td>50000.000000</td>\n",
       "      <td>50000.000000</td>\n",
       "      <td>50000.000000</td>\n",
       "    </tr>\n",
       "    <tr>\n",
       "      <th>mean</th>\n",
       "      <td>24999.500000</td>\n",
       "      <td>0.349026</td>\n",
       "      <td>0.276478</td>\n",
       "      <td>0.270792</td>\n",
       "      <td>206.011660</td>\n",
       "      <td>0.791507</td>\n",
       "      <td>205.414920</td>\n",
       "      <td>0.770875</td>\n",
       "      <td>230.63206</td>\n",
       "      <td>8098.858120</td>\n",
       "      <td>...</td>\n",
       "      <td>0.023491</td>\n",
       "      <td>0.022455</td>\n",
       "      <td>0.048537</td>\n",
       "      <td>0.031111</td>\n",
       "      <td>0.076291</td>\n",
       "      <td>0.052291</td>\n",
       "      <td>0.057258</td>\n",
       "      <td>0.088333</td>\n",
       "      <td>0.009929</td>\n",
       "      <td>0.019106</td>\n",
       "    </tr>\n",
       "    <tr>\n",
       "      <th>std</th>\n",
       "      <td>14433.901067</td>\n",
       "      <td>0.096608</td>\n",
       "      <td>0.114404</td>\n",
       "      <td>0.116039</td>\n",
       "      <td>64.260901</td>\n",
       "      <td>0.144893</td>\n",
       "      <td>64.430548</td>\n",
       "      <td>0.179955</td>\n",
       "      <td>186.44859</td>\n",
       "      <td>4608.982941</td>\n",
       "      <td>...</td>\n",
       "      <td>0.011301</td>\n",
       "      <td>0.014033</td>\n",
       "      <td>0.016669</td>\n",
       "      <td>0.014472</td>\n",
       "      <td>0.026636</td>\n",
       "      <td>0.016411</td>\n",
       "      <td>0.016214</td>\n",
       "      <td>0.022656</td>\n",
       "      <td>0.008839</td>\n",
       "      <td>0.011123</td>\n",
       "    </tr>\n",
       "    <tr>\n",
       "      <th>min</th>\n",
       "      <td>0.000000</td>\n",
       "      <td>0.164103</td>\n",
       "      <td>0.081301</td>\n",
       "      <td>0.045977</td>\n",
       "      <td>19.000000</td>\n",
       "      <td>0.284553</td>\n",
       "      <td>19.000000</td>\n",
       "      <td>0.082019</td>\n",
       "      <td>35.00000</td>\n",
       "      <td>5.000000</td>\n",
       "      <td>...</td>\n",
       "      <td>0.000000</td>\n",
       "      <td>0.000000</td>\n",
       "      <td>0.000000</td>\n",
       "      <td>0.000000</td>\n",
       "      <td>0.000000</td>\n",
       "      <td>0.000000</td>\n",
       "      <td>0.000000</td>\n",
       "      <td>0.000000</td>\n",
       "      <td>0.000000</td>\n",
       "      <td>0.000000</td>\n",
       "    </tr>\n",
       "    <tr>\n",
       "      <th>25%</th>\n",
       "      <td>12499.750000</td>\n",
       "      <td>0.293750</td>\n",
       "      <td>0.204545</td>\n",
       "      <td>0.202020</td>\n",
       "      <td>172.000000</td>\n",
       "      <td>0.673288</td>\n",
       "      <td>172.000000</td>\n",
       "      <td>0.656854</td>\n",
       "      <td>118.00000</td>\n",
       "      <td>4121.000000</td>\n",
       "      <td>...</td>\n",
       "      <td>0.015228</td>\n",
       "      <td>0.012121</td>\n",
       "      <td>0.037344</td>\n",
       "      <td>0.020833</td>\n",
       "      <td>0.057428</td>\n",
       "      <td>0.041152</td>\n",
       "      <td>0.046296</td>\n",
       "      <td>0.072874</td>\n",
       "      <td>0.003690</td>\n",
       "      <td>0.011494</td>\n",
       "    </tr>\n",
       "    <tr>\n",
       "      <th>50%</th>\n",
       "      <td>24999.500000</td>\n",
       "      <td>0.325000</td>\n",
       "      <td>0.250000</td>\n",
       "      <td>0.244648</td>\n",
       "      <td>210.000000</td>\n",
       "      <td>0.811321</td>\n",
       "      <td>209.000000</td>\n",
       "      <td>0.806584</td>\n",
       "      <td>186.00000</td>\n",
       "      <td>8046.000000</td>\n",
       "      <td>...</td>\n",
       "      <td>0.021978</td>\n",
       "      <td>0.020000</td>\n",
       "      <td>0.047091</td>\n",
       "      <td>0.029703</td>\n",
       "      <td>0.076305</td>\n",
       "      <td>0.051370</td>\n",
       "      <td>0.056225</td>\n",
       "      <td>0.087500</td>\n",
       "      <td>0.007905</td>\n",
       "      <td>0.017391</td>\n",
       "    </tr>\n",
       "    <tr>\n",
       "      <th>75%</th>\n",
       "      <td>37499.250000</td>\n",
       "      <td>0.367257</td>\n",
       "      <td>0.308300</td>\n",
       "      <td>0.301639</td>\n",
       "      <td>240.000000</td>\n",
       "      <td>0.923077</td>\n",
       "      <td>240.000000</td>\n",
       "      <td>0.923077</td>\n",
       "      <td>267.00000</td>\n",
       "      <td>12103.000000</td>\n",
       "      <td>...</td>\n",
       "      <td>0.030189</td>\n",
       "      <td>0.030435</td>\n",
       "      <td>0.058172</td>\n",
       "      <td>0.039526</td>\n",
       "      <td>0.094862</td>\n",
       "      <td>0.062257</td>\n",
       "      <td>0.067114</td>\n",
       "      <td>0.103226</td>\n",
       "      <td>0.014409</td>\n",
       "      <td>0.025000</td>\n",
       "    </tr>\n",
       "    <tr>\n",
       "      <th>max</th>\n",
       "      <td>49999.000000</td>\n",
       "      <td>0.985075</td>\n",
       "      <td>0.985075</td>\n",
       "      <td>0.985075</td>\n",
       "      <td>400.000000</td>\n",
       "      <td>1.000000</td>\n",
       "      <td>399.000000</td>\n",
       "      <td>1.000000</td>\n",
       "      <td>1788.00000</td>\n",
       "      <td>16564.000000</td>\n",
       "      <td>...</td>\n",
       "      <td>0.116667</td>\n",
       "      <td>0.136986</td>\n",
       "      <td>0.343137</td>\n",
       "      <td>0.217391</td>\n",
       "      <td>0.272727</td>\n",
       "      <td>0.321101</td>\n",
       "      <td>0.208696</td>\n",
       "      <td>0.277778</td>\n",
       "      <td>0.107143</td>\n",
       "      <td>0.156863</td>\n",
       "    </tr>\n",
       "  </tbody>\n",
       "</table>\n",
       "<p>8 rows × 44 columns</p>\n",
       "</div>"
      ],
      "text/plain": [
       "            index_x  local_gap_compressed_percent_id  \\\n",
       "count  50000.000000                     50000.000000   \n",
       "mean   24999.500000                         0.349026   \n",
       "std    14433.901067                         0.096608   \n",
       "min        0.000000                         0.164103   \n",
       "25%    12499.750000                         0.293750   \n",
       "50%    24999.500000                         0.325000   \n",
       "75%    37499.250000                         0.367257   \n",
       "max    49999.000000                         0.985075   \n",
       "\n",
       "       scaled_local_query_percent_id  scaled_local_symmetric_percent_id  \\\n",
       "count                   50000.000000                       50000.000000   \n",
       "mean                        0.276478                           0.270792   \n",
       "std                         0.114404                           0.116039   \n",
       "min                         0.081301                           0.045977   \n",
       "25%                         0.204545                           0.202020   \n",
       "50%                         0.250000                           0.244648   \n",
       "75%                         0.308300                           0.301639   \n",
       "max                         0.985075                           0.985075   \n",
       "\n",
       "       query_align_len  query_align_cov  subject_align_len  subject_align_cov  \\\n",
       "count     50000.000000     50000.000000       50000.000000       50000.000000   \n",
       "mean        206.011660         0.791507         205.414920           0.770875   \n",
       "std          64.260901         0.144893          64.430548           0.179955   \n",
       "min          19.000000         0.284553          19.000000           0.082019   \n",
       "25%         172.000000         0.673288         172.000000           0.656854   \n",
       "50%         210.000000         0.811321         209.000000           0.806584   \n",
       "75%         240.000000         0.923077         240.000000           0.923077   \n",
       "max         400.000000         1.000000         399.000000           1.000000   \n",
       "\n",
       "         bit_score    meso_index  ...         AAC_M         AAC_N  \\\n",
       "count  50000.00000  50000.000000  ...  50000.000000  50000.000000   \n",
       "mean     230.63206   8098.858120  ...      0.023491      0.022455   \n",
       "std      186.44859   4608.982941  ...      0.011301      0.014033   \n",
       "min       35.00000      5.000000  ...      0.000000      0.000000   \n",
       "25%      118.00000   4121.000000  ...      0.015228      0.012121   \n",
       "50%      186.00000   8046.000000  ...      0.021978      0.020000   \n",
       "75%      267.00000  12103.000000  ...      0.030189      0.030435   \n",
       "max     1788.00000  16564.000000  ...      0.116667      0.136986   \n",
       "\n",
       "              AAC_P         AAC_Q         AAC_R         AAC_S         AAC_T  \\\n",
       "count  50000.000000  50000.000000  50000.000000  50000.000000  50000.000000   \n",
       "mean       0.048537      0.031111      0.076291      0.052291      0.057258   \n",
       "std        0.016669      0.014472      0.026636      0.016411      0.016214   \n",
       "min        0.000000      0.000000      0.000000      0.000000      0.000000   \n",
       "25%        0.037344      0.020833      0.057428      0.041152      0.046296   \n",
       "50%        0.047091      0.029703      0.076305      0.051370      0.056225   \n",
       "75%        0.058172      0.039526      0.094862      0.062257      0.067114   \n",
       "max        0.343137      0.217391      0.272727      0.321101      0.208696   \n",
       "\n",
       "              AAC_V         AAC_W         AAC_Y  \n",
       "count  50000.000000  50000.000000  50000.000000  \n",
       "mean       0.088333      0.009929      0.019106  \n",
       "std        0.022656      0.008839      0.011123  \n",
       "min        0.000000      0.000000      0.000000  \n",
       "25%        0.072874      0.003690      0.011494  \n",
       "50%        0.087500      0.007905      0.017391  \n",
       "75%        0.103226      0.014409      0.025000  \n",
       "max        0.277778      0.107143      0.156863  \n",
       "\n",
       "[8 rows x 44 columns]"
      ]
     },
     "execution_count": 86,
     "metadata": {},
     "output_type": "execute_result"
    }
   ],
   "source": [
    "df.describe()"
   ]
  },
  {
   "cell_type": "markdown",
   "id": "90871d01",
   "metadata": {},
   "source": [
    "Split data into dev and test, and then split that into train and validation."
   ]
  },
  {
   "cell_type": "code",
   "execution_count": 87,
   "id": "6519dcaf",
   "metadata": {},
   "outputs": [],
   "source": [
    "#drop columns that don't exihibit signficant pearson correlation with bit_score\n",
    "\n",
    "df = df.drop(columns = ['meso_index', 'meso_protein_int_index', 'local_gap_compressed_percent_id_16s', \n",
    "                        'scaled_local_query_percent_id_16s', 'scaled_local_symmetric_percent_id_16s',\n",
    "                       'bit_score_16s', 'm_ogt', 't_ogt', 'taxa_pair_index', 'thermo_protein_int_index'\n",
    "                       , 'prot_pair_index', 'ogt_difference'])"
   ]
  },
  {
   "cell_type": "code",
   "execution_count": 88,
   "id": "af9f23cf",
   "metadata": {
    "scrolled": false
   },
   "outputs": [
    {
     "name": "stdout",
     "output_type": "stream",
     "text": [
      "(42500, 33)\n",
      "(7500, 33)\n",
      "(36125, 33)\n",
      "(6375, 33)\n"
     ]
    }
   ],
   "source": [
    "#choosing 80/20 split instead of 85/15 because of volume of data\n",
    "\n",
    "dev, test = sklearn.model_selection.train_test_split(df, test_size=0.15, random_state=1)\n",
    "\n",
    "train, val = sklearn.model_selection.train_test_split(dev, test_size=0.15, random_state=1)\n",
    "\n",
    "print(dev.shape)\n",
    "print(test.shape)\n",
    "print(train.shape)\n",
    "print(val.shape)"
   ]
  },
  {
   "cell_type": "code",
   "execution_count": 89,
   "id": "8470550d",
   "metadata": {
    "scrolled": false
   },
   "outputs": [],
   "source": [
    "#ID target and features, separate into separate arrays\n",
    "\n",
    "target = 'protein_match'\n",
    "input_features = [columns for columns in df]\n",
    "input_features.remove(target)"
   ]
  },
  {
   "cell_type": "code",
   "execution_count": 90,
   "id": "c62edd28",
   "metadata": {
    "scrolled": true
   },
   "outputs": [
    {
     "name": "stdout",
     "output_type": "stream",
     "text": [
      "['index_x', 'local_gap_compressed_percent_id', 'scaled_local_query_percent_id', 'scaled_local_symmetric_percent_id', 'query_align_len', 'query_align_cov', 'subject_align_len', 'subject_align_cov', 'bit_score', 'm_protein_len', 't_protein_len', 'index_y', 'AAC_A', 'AAC_C', 'AAC_D', 'AAC_E', 'AAC_F', 'AAC_G', 'AAC_H', 'AAC_I', 'AAC_K', 'AAC_L', 'AAC_M', 'AAC_N', 'AAC_P', 'AAC_Q', 'AAC_R', 'AAC_S', 'AAC_T', 'AAC_V', 'AAC_W', 'AAC_Y']\n",
      "protein_match\n"
     ]
    }
   ],
   "source": [
    "print(input_features)\n",
    "print(target)"
   ]
  },
  {
   "cell_type": "code",
   "execution_count": 91,
   "id": "1ab62bff",
   "metadata": {
    "scrolled": true
   },
   "outputs": [
    {
     "name": "stdout",
     "output_type": "stream",
     "text": [
      "(42500, 32) (7500, 32) (42500, 1) (7500, 1)\n"
     ]
    }
   ],
   "source": [
    "#split X and y\n",
    "\n",
    "dev_X = dev[input_features].values\n",
    "test_X = test[input_features].values\n",
    "\n",
    "dev_y = dev[target].values.reshape(-1,1)\n",
    "test_y = test[target].values.reshape(-1,1)  \n",
    "\n",
    "print(dev_X.shape, test_X.shape, dev_y.shape, test_y.shape)"
   ]
  },
  {
   "cell_type": "code",
   "execution_count": 92,
   "id": "9ac52ac0",
   "metadata": {},
   "outputs": [],
   "source": [
    "#same thing for training and validation data\n",
    "\n",
    "train_X = train[input_features].values\n",
    "val_X = val[input_features].values\n",
    "\n",
    "train_y = train[target].values.reshape(-1,1)\n",
    "val_y = val[target].values.reshape(-1,1) "
   ]
  },
  {
   "cell_type": "markdown",
   "id": "c374f2d7",
   "metadata": {},
   "source": [
    "Scale the data"
   ]
  },
  {
   "cell_type": "code",
   "execution_count": 93,
   "id": "2b48b2e5",
   "metadata": {
    "scrolled": false
   },
   "outputs": [],
   "source": [
    "scaler = sklearn.preprocessing.StandardScaler()\n",
    "dev_X = scaler.fit_transform(dev_X)\n",
    "test_X = scaler.fit_transform(test_X)\n",
    "train_X = scaler.fit_transform(train_X)\n",
    "val_X = scaler.fit_transform(val_X)"
   ]
  },
  {
   "cell_type": "markdown",
   "id": "c3022371",
   "metadata": {},
   "source": [
    "Train the model"
   ]
  },
  {
   "cell_type": "code",
   "execution_count": 94,
   "id": "be4e09b0",
   "metadata": {},
   "outputs": [
    {
     "data": {
      "text/html": [
       "<style>#sk-container-id-2 {color: black;background-color: white;}#sk-container-id-2 pre{padding: 0;}#sk-container-id-2 div.sk-toggleable {background-color: white;}#sk-container-id-2 label.sk-toggleable__label {cursor: pointer;display: block;width: 100%;margin-bottom: 0;padding: 0.3em;box-sizing: border-box;text-align: center;}#sk-container-id-2 label.sk-toggleable__label-arrow:before {content: \"▸\";float: left;margin-right: 0.25em;color: #696969;}#sk-container-id-2 label.sk-toggleable__label-arrow:hover:before {color: black;}#sk-container-id-2 div.sk-estimator:hover label.sk-toggleable__label-arrow:before {color: black;}#sk-container-id-2 div.sk-toggleable__content {max-height: 0;max-width: 0;overflow: hidden;text-align: left;background-color: #f0f8ff;}#sk-container-id-2 div.sk-toggleable__content pre {margin: 0.2em;color: black;border-radius: 0.25em;background-color: #f0f8ff;}#sk-container-id-2 input.sk-toggleable__control:checked~div.sk-toggleable__content {max-height: 200px;max-width: 100%;overflow: auto;}#sk-container-id-2 input.sk-toggleable__control:checked~label.sk-toggleable__label-arrow:before {content: \"▾\";}#sk-container-id-2 div.sk-estimator input.sk-toggleable__control:checked~label.sk-toggleable__label {background-color: #d4ebff;}#sk-container-id-2 div.sk-label input.sk-toggleable__control:checked~label.sk-toggleable__label {background-color: #d4ebff;}#sk-container-id-2 input.sk-hidden--visually {border: 0;clip: rect(1px 1px 1px 1px);clip: rect(1px, 1px, 1px, 1px);height: 1px;margin: -1px;overflow: hidden;padding: 0;position: absolute;width: 1px;}#sk-container-id-2 div.sk-estimator {font-family: monospace;background-color: #f0f8ff;border: 1px dotted black;border-radius: 0.25em;box-sizing: border-box;margin-bottom: 0.5em;}#sk-container-id-2 div.sk-estimator:hover {background-color: #d4ebff;}#sk-container-id-2 div.sk-parallel-item::after {content: \"\";width: 100%;border-bottom: 1px solid gray;flex-grow: 1;}#sk-container-id-2 div.sk-label:hover label.sk-toggleable__label {background-color: #d4ebff;}#sk-container-id-2 div.sk-serial::before {content: \"\";position: absolute;border-left: 1px solid gray;box-sizing: border-box;top: 0;bottom: 0;left: 50%;z-index: 0;}#sk-container-id-2 div.sk-serial {display: flex;flex-direction: column;align-items: center;background-color: white;padding-right: 0.2em;padding-left: 0.2em;position: relative;}#sk-container-id-2 div.sk-item {position: relative;z-index: 1;}#sk-container-id-2 div.sk-parallel {display: flex;align-items: stretch;justify-content: center;background-color: white;position: relative;}#sk-container-id-2 div.sk-item::before, #sk-container-id-2 div.sk-parallel-item::before {content: \"\";position: absolute;border-left: 1px solid gray;box-sizing: border-box;top: 0;bottom: 0;left: 50%;z-index: -1;}#sk-container-id-2 div.sk-parallel-item {display: flex;flex-direction: column;z-index: 1;position: relative;background-color: white;}#sk-container-id-2 div.sk-parallel-item:first-child::after {align-self: flex-end;width: 50%;}#sk-container-id-2 div.sk-parallel-item:last-child::after {align-self: flex-start;width: 50%;}#sk-container-id-2 div.sk-parallel-item:only-child::after {width: 0;}#sk-container-id-2 div.sk-dashed-wrapped {border: 1px dashed gray;margin: 0 0.4em 0.5em 0.4em;box-sizing: border-box;padding-bottom: 0.4em;background-color: white;}#sk-container-id-2 div.sk-label label {font-family: monospace;font-weight: bold;display: inline-block;line-height: 1.2em;}#sk-container-id-2 div.sk-label-container {text-align: center;}#sk-container-id-2 div.sk-container {/* jupyter's `normalize.less` sets `[hidden] { display: none; }` but bootstrap.min.css set `[hidden] { display: none !important; }` so we also need the `!important` here to be able to override the default hidden behavior on the sphinx rendered scikit-learn.org. See: https://github.com/scikit-learn/scikit-learn/issues/21755 */display: inline-block !important;position: relative;}#sk-container-id-2 div.sk-text-repr-fallback {display: none;}</style><div id=\"sk-container-id-2\" class=\"sk-top-container\"><div class=\"sk-text-repr-fallback\"><pre>RandomForestClassifier(max_features=0.5, max_samples=0.5, min_samples_split=10,\n",
       "                       min_weight_fraction_leaf=0.000215, n_estimators=150)</pre><b>In a Jupyter environment, please rerun this cell to show the HTML representation or trust the notebook. <br />On GitHub, the HTML representation is unable to render, please try loading this page with nbviewer.org.</b></div><div class=\"sk-container\" hidden><div class=\"sk-item\"><div class=\"sk-estimator sk-toggleable\"><input class=\"sk-toggleable__control sk-hidden--visually\" id=\"sk-estimator-id-2\" type=\"checkbox\" checked><label for=\"sk-estimator-id-2\" class=\"sk-toggleable__label sk-toggleable__label-arrow\">RandomForestClassifier</label><div class=\"sk-toggleable__content\"><pre>RandomForestClassifier(max_features=0.5, max_samples=0.5, min_samples_split=10,\n",
       "                       min_weight_fraction_leaf=0.000215, n_estimators=150)</pre></div></div></div></div></div>"
      ],
      "text/plain": [
       "RandomForestClassifier(max_features=0.5, max_samples=0.5, min_samples_split=10,\n",
       "                       min_weight_fraction_leaf=0.000215, n_estimators=150)"
      ]
     },
     "execution_count": 94,
     "metadata": {},
     "output_type": "execute_result"
    }
   ],
   "source": [
    "#Random Forest\n",
    "\n",
    "model = sklearn.ensemble.RandomForestClassifier(n_estimators=150, max_depth=None, max_samples=0.5,\n",
    "                                                max_features=0.5, min_weight_fraction_leaf=0.000215,\n",
    "                                               min_samples_split=10)\n",
    "# model = sklearn.ensemble.RandomForestClassifier()\n",
    "model.fit(train_X, train_y.ravel())"
   ]
  },
  {
   "cell_type": "markdown",
   "id": "69ebf269",
   "metadata": {},
   "source": [
    "Test the model, report relevant statistics"
   ]
  },
  {
   "cell_type": "code",
   "execution_count": 95,
   "id": "c73327e9",
   "metadata": {
    "scrolled": false
   },
   "outputs": [
    {
     "name": "stdout",
     "output_type": "stream",
     "text": [
      "Model score is: 0.9927843137254901\n",
      "[False False False ... False  True False]\n"
     ]
    }
   ],
   "source": [
    "score = model.score(val_X, val_y)\n",
    "print('Model score is: {}'.format(score))\n",
    "\n",
    "preds = model.predict(test_X)\n",
    "print(preds)"
   ]
  },
  {
   "cell_type": "code",
   "execution_count": 96,
   "id": "4e9dce62",
   "metadata": {},
   "outputs": [
    {
     "data": {
      "text/plain": [
       "<sklearn.metrics._plot.confusion_matrix.ConfusionMatrixDisplay at 0x7f8061cd0dc0>"
      ]
     },
     "execution_count": 96,
     "metadata": {},
     "output_type": "execute_result"
    }
   ],
   "source": [
    "#confusion matrix\n",
    "\n",
    "confusion_matrix = sklearn.metrics.confusion_matrix(preds, test_y)\n",
    "sklearn.metrics.ConfusionMatrixDisplay(confusion_matrix).plot()"
   ]
  },
  {
   "cell_type": "markdown",
   "id": "21feaafb",
   "metadata": {},
   "source": [
    "Convert the above code into functions."
   ]
  },
  {
   "cell_type": "code",
   "execution_count": 37,
   "id": "bf1d563c",
   "metadata": {},
   "outputs": [],
   "source": [
    "def train_model(dataframe, columns = [],  target = []):\n",
    "    \"\"\"\n",
    "    Takes dataframe and splits it into a training and testing set. \n",
    "    Note: Data is called train and test, but this test set is currently\n",
    "    closer to a validation set. Keeping nomenclature to keep model robust.\n",
    "    Trains a KNN classifier model with selected data.\n",
    "    \n",
    "    Params\n",
    "    ----------\n",
    "    dataframe: Pandas dataframe \n",
    "    columns: list of strings, representing input features\n",
    "    target: list of strings, representing target feature(s)\n",
    "\n",
    "    Returns\n",
    "    -------\n",
    "    -Sk-learn model object\n",
    "    -train data (features)\n",
    "    -train data (target)\n",
    "    -validation data (features)\n",
    "    -validation data (target)\n",
    "    \"\"\"\n",
    "    #split data\n",
    "    dev, test = sklearn.model_selection.train_test_split(dataframe, test_size=0.15, random_state=1)\n",
    "    \n",
    "    #test input arguments\n",
    "    assert \"pandas.core.frame.DataFrame\" in str(type(dev))\n",
    "    assert \"pandas.core.frame.DataFrame\" in str(type(test))\n",
    "    assert \"str\" in str(type(columns[0]))\n",
    "    assert \"str\" in str(type(target[0]))\n",
    "   \n",
    "    #split into input and output feature(s)\n",
    "    dev_X = dev[columns].values\n",
    "    test_X = test[columns].values\n",
    "\n",
    "    dev_y = dev[target].values.reshape(-1,1)\n",
    "    test_y = test[target].values.reshape(-1,1)\n",
    "    \n",
    "    #scale data\n",
    "    scaler = sklearn.preprocessing.StandardScaler()\n",
    "    dev_X = scaler.fit_transform(dev_X)\n",
    "    test_X = scaler.fit_transform(test_X)\n",
    "    \n",
    "    #train model\n",
    "    model = sklearn.ensemble.RandomForestClassifier()\n",
    "    model = model.fit(dev_X, dev_y.ravel())\n",
    "    \n",
    "    return model, dev_X, dev_y, test_X, test_y\n",
    "    "
   ]
  },
  {
   "cell_type": "code",
   "execution_count": 38,
   "id": "e40acd6d",
   "metadata": {
    "scrolled": true
   },
   "outputs": [],
   "source": [
    "model, dev_X, dev_y, test_X, test_y = train_model(df, columns = input_features, \n",
    "                                          target='protein_match')"
   ]
  },
  {
   "cell_type": "code",
   "execution_count": 39,
   "id": "46729a81",
   "metadata": {
    "scrolled": true
   },
   "outputs": [
    {
     "name": "stderr",
     "output_type": "stream",
     "text": [
      "..\n",
      "----------------------------------------------------------------------\n",
      "Ran 2 tests in 12.454s\n",
      "\n",
      "OK\n"
     ]
    }
   ],
   "source": [
    "class TestModelTraining(unittest.TestCase):\n",
    "    \n",
    "    def test_invalid_inputs(self):\n",
    "    \n",
    "        #test that input data type is correct\n",
    "        \n",
    "        try:\n",
    "            train_model([1,2,3], columns = 'string', target = 'string')\n",
    "            self.assertTrue(False)\n",
    "        except AssertionError:\n",
    "            self.assertTrue(True)\n",
    "    \n",
    "#     def test_input_distro(self):\n",
    "        \n",
    "#         #test that dev and test features have similar Jensen Shannon Distribution\n",
    "        \n",
    "#         JSD = (\n",
    "#             scipy.stats.bootstrap((train_reg(split_data(df)[0], split_data(df)[1],\n",
    "#                                 columns = input_features, target=target)[1], train_reg(split_data(df)[0], \n",
    "#                                 split_data(df)[1], columns = input_features, target=target)[3]), \n",
    "#                                   JSD_dev_and_test, n_resamples=1000, \n",
    "#                                   batch=5, method='percentile')\n",
    "#         )\n",
    "\n",
    "#         div = JSD.confidence_interval[1]\n",
    "        \n",
    "#         #asserts that the divergence between data sets is sufficiently low\n",
    "#         assert abs(div) < 0.3, \"Warning! High JSD between dev and test set!\"\n",
    "        \n",
    "    def test_output_format(self):\n",
    "        \n",
    "        #asserts that function returns 4 objects to be assigned to pearson_corr, model, test_X, test_y\n",
    "        assert len(train_model(df, columns = input_features, \n",
    "                                          target = target)) == 5\n",
    "        \n",
    "\n",
    "suite = unittest.TestLoader().loadTestsFromTestCase(TestModelTraining)\n",
    "_ = unittest.TextTestRunner().run(suite)"
   ]
  },
  {
   "cell_type": "code",
   "execution_count": 40,
   "id": "47f766ab",
   "metadata": {},
   "outputs": [],
   "source": [
    "#need to fix this\n",
    "\n",
    "def evaluate_model(model, test_X, test_y):\n",
    "    \n",
    "    \"\"\"\n",
    "    Takes a trained model and test data and tests the model.\n",
    "    \n",
    "    Params\n",
    "    ----------\n",
    "    model: sklearn.neighbors.KNeighborsClassifier\n",
    "    test_X: numpy array\n",
    "    test_y: numpy array\n",
    "\n",
    "    Returns\n",
    "    -------\n",
    "    Vector of predictions based on the model (numpy array)\n",
    "    \"\"\"\n",
    "    \n",
    "    #test input arguments\n",
    "    assert \"sklearn\" in str(type(model))\n",
    "    assert \"numpy.ndarray\" in str(type(test_X))\n",
    "    assert \"numpy.ndarray\" in str(type(test_y))\n",
    "    \n",
    "    preds = model.predict(test_X)\n",
    "    \n",
    "    return preds"
   ]
  },
  {
   "cell_type": "code",
   "execution_count": 41,
   "id": "7bbb0242",
   "metadata": {
    "scrolled": true
   },
   "outputs": [
    {
     "data": {
      "text/plain": [
       "array([False, False, False, ..., False,  True, False])"
      ]
     },
     "execution_count": 41,
     "metadata": {},
     "output_type": "execute_result"
    }
   ],
   "source": [
    "preds = evaluate_model(model, test_X, test_y)\n",
    "preds"
   ]
  },
  {
   "cell_type": "code",
   "execution_count": 42,
   "id": "8b2fdac6",
   "metadata": {},
   "outputs": [
    {
     "name": "stderr",
     "output_type": "stream",
     "text": [
      "...\n",
      "----------------------------------------------------------------------\n",
      "Ran 3 tests in 34.427s\n",
      "\n",
      "OK\n"
     ]
    }
   ],
   "source": [
    "class TestModelPerformance(unittest.TestCase):\n",
    "\n",
    "    def test_asserts(self):\n",
    "        model, _, _, test_X, test_y = train_model(\n",
    "            df, columns=input_features, target='protein_match'\n",
    "        )\n",
    "        # assert that input types are correct\n",
    "        with self.assertRaises(AssertionError):\n",
    "            evaluate_model(model, [1, 2, 3], test_y)\n",
    "            \n",
    "    def test_model_output(self):\n",
    "        model, _, _, test_X, test_y = train_model(\n",
    "            df, columns=input_features, target='protein_match'\n",
    "        )\n",
    "        # assert output type is correct\n",
    "        output = evaluate_model(model, test_X, test_y)\n",
    "        self.assertIsInstance(output, np.ndarray)\n",
    "        \n",
    "    def test_pred_dimension(self):\n",
    "        model, _, _, test_X, test_y = train_model(df, \n",
    "            columns=input_features, target='protein_match'\n",
    "        )\n",
    "        # want to check that the number of predictions is equal to the number of test examples\n",
    "        preds = evaluate_model(model, test_X, test_y)\n",
    "        self.assertEqual(len(test_y), len(preds))\n",
    "\n",
    "suite = unittest.TestLoader().loadTestsFromTestCase(TestModelPerformance)\n",
    "_ = unittest.TextTestRunner().run(suite)\n"
   ]
  },
  {
   "cell_type": "markdown",
   "id": "b9b79929",
   "metadata": {},
   "source": [
    "A good test here can be adding outliers and seeing how much the score and predictions change (probably for the above function)."
   ]
  },
  {
   "cell_type": "code",
   "execution_count": 43,
   "id": "dae1e64f",
   "metadata": {},
   "outputs": [],
   "source": [
    "def plot_model(model, test_X, test_y):\n",
    "    \"\"\"\n",
    "    Takes a test KNN Classifier model and plots the confusion matrix.\n",
    "    \n",
    "    Params\n",
    "    ----------\n",
    "    model: sklearn.neighbors.KNeighborsClassifier\n",
    "    test_X: numpy array\n",
    "    test_y: numpy array\n",
    "\n",
    "    Returns\n",
    "    -------\n",
    "    -Confusion predictions vs. observations\n",
    "    -Model score\n",
    "    \"\"\"\n",
    "    \n",
    "    #test input arguments\n",
    "    assert \"sklearn\" in str(type(model))\n",
    "    assert \"numpy.ndarray\" in str(type(test_X))\n",
    "    assert \"numpy.ndarray\" in str(type(test_y))\n",
    "    \n",
    "    score = model.score(test_X, test_y)\n",
    "    preds = evaluate_model(model, test_X, test_y)\n",
    "   \n",
    "    # plot confusion matrix\n",
    "    confusion_matrix = sklearn.metrics.confusion_matrix(preds, test_y)\n",
    "    cm_plot = sklearn.metrics.ConfusionMatrixDisplay(confusion_matrix)\n",
    "    \n",
    "    cm_plot.plot(cmap=plt.cm.Blues)\n",
    "    cm_plot.ax_.set_title('Confusion Matrix')\n",
    "    \n",
    "    return score\n",
    "    "
   ]
  },
  {
   "cell_type": "code",
   "execution_count": 44,
   "id": "c923e39b",
   "metadata": {
    "scrolled": true
   },
   "outputs": [
    {
     "data": {
      "text/plain": [
       "0.9952"
      ]
     },
     "execution_count": 44,
     "metadata": {},
     "output_type": "execute_result"
    }
   ],
   "source": [
    "#make some appropriate display labels here\n",
    "\n",
    "plot_model(model, test_X, test_y)"
   ]
  },
  {
   "cell_type": "code",
   "execution_count": 45,
   "id": "15e9e191",
   "metadata": {},
   "outputs": [],
   "source": [
    "#wrapper function\n",
    "\n",
    "def RF_wrapper(dataframe):\n",
    "    \"\"\"\n",
    "    Takes dataframe and runs it through kNN model.\n",
    "    \n",
    "    Params\n",
    "    ----------\n",
    "    dataframe: Pandas dataframe \n",
    "\n",
    "    Returns\n",
    "    -------\n",
    "    -Target feature predictions\n",
    "    -Parity plot\n",
    "    \"\"\"\n",
    "    \n",
    "    assert 'pandas.core.frame.DataFrame' in str(type(dataframe))\n",
    "\n",
    "    #user inputs target feature\n",
    "    target = 'protein_match'\n",
    "    \n",
    "    #define input features\n",
    "    input_features = [columns for columns in dataframe]\n",
    "    \n",
    "    input_features.remove(target)\n",
    "\n",
    "    #train the model based off data split\n",
    "    model, dev_X, dev_y, test_X, test_y = train_model(\n",
    "                                        dataframe, columns=input_features, \n",
    "                                        target=target\n",
    "                                                   )\n",
    "    \n",
    "    #test the model and return predictions\n",
    "    preds = evaluate_model(model, test_X, test_y)\n",
    "\n",
    "    #plot the results of the model\n",
    "    plot_model(model, test_X, test_y)\n",
    "    \n",
    "    return preds"
   ]
  },
  {
   "cell_type": "code",
   "execution_count": 46,
   "id": "cbbd8fa8",
   "metadata": {
    "scrolled": true
   },
   "outputs": [
    {
     "data": {
      "text/plain": [
       "array([False, False, False, ..., False,  True, False])"
      ]
     },
     "execution_count": 46,
     "metadata": {},
     "output_type": "execute_result"
    }
   ],
   "source": [
    "RF_wrapper(df)"
   ]
  },
  {
   "cell_type": "code",
   "execution_count": 47,
   "id": "37c0e2b2",
   "metadata": {
    "scrolled": true
   },
   "outputs": [
    {
     "name": "stderr",
     "output_type": "stream",
     "text": [
      "...\n",
      "----------------------------------------------------------------------\n",
      "Ran 3 tests in 24.401s\n",
      "\n",
      "OK\n"
     ]
    }
   ],
   "source": [
    "class TestWrapper(unittest.TestCase):\n",
    "    \n",
    "    def test_wrapper_input(self):\n",
    "        #test that input data type is correct\n",
    "        try:\n",
    "            RF_wrapper([1,2,3])\n",
    "            self.assertTrue(False)\n",
    "        except AssertionError:\n",
    "            self.assertTrue(True)\n",
    "\n",
    "    def test_wrapper_output(self):\n",
    "        model, _, _, test_X, test_y = train_model(\n",
    "            df, \n",
    "            columns=input_features, target='protein_match'\n",
    "        )\n",
    "        # assert output type is correct\n",
    "        output = evaluate_model(model, test_X, test_y)\n",
    "        self.assertIsInstance(output, np.ndarray)\n",
    "        \n",
    "    def test_output_dimension(self):\n",
    "        model, _, _, test_X, test_y = train_model(\n",
    "            df, \n",
    "            columns=input_features, target='protein_match'\n",
    "        )\n",
    "        # want to check that the number of predictions is equal to the number of test examples\n",
    "        preds = evaluate_model(model, test_X, test_y)\n",
    "        self.assertEqual(len(test_y), len(preds))\n",
    "        \n",
    "\n",
    "suite = unittest.TestLoader().loadTestsFromTestCase(TestWrapper)\n",
    "_ = unittest.TextTestRunner().run(suite)"
   ]
  },
  {
   "cell_type": "markdown",
   "id": "02c53a58",
   "metadata": {},
   "source": [
    "**IGNORE BELOW**"
   ]
  },
  {
   "cell_type": "code",
   "execution_count": 48,
   "id": "13d52919",
   "metadata": {},
   "outputs": [],
   "source": [
    "# #plot empirical distribution of scaled_local_query_percent_id\n",
    "\n",
    "# target = df['protein_match']\n",
    "# #create histplot\n",
    "# fig, ax = plt.subplots()\n",
    "\n",
    "# sns.histplot(data = df, x = target)\n",
    "\n",
    "# ax.set_title('Sample Histogram', fontsize=16)\n",
    "# ax.set_xlabel('Class', fontsize=14)\n",
    "# ax.set_ylabel('Count', fontsize=14)"
   ]
  },
  {
   "cell_type": "markdown",
   "id": "2e3d1950",
   "metadata": {},
   "source": [
    "Things I've tried to improve model: \n",
    "\n",
    "1. drop bit scores over 1000\n",
    "2. Switch to 85/15 train/test split\n",
    "3. Lasso regression - not great\n",
    "4. Ridge regression - R2 = 0.87, about the same as normal Linear regression\n",
    "5. KNN regression (n_neighbors optimized at 8) gives best result, R2 = ~0.93 --> \n",
    "*got it up to .942 by removing a few features\n",
    "6. Decision tree regressor was slightly worse than KNN\n",
    "7. Input DT classifier and RF classifier. RF classifier has best performance\n",
    "8. Changed target to binary protein function match"
   ]
  },
  {
   "cell_type": "code",
   "execution_count": null,
   "id": "5220b26b",
   "metadata": {},
   "outputs": [],
   "source": []
  }
 ],
 "metadata": {
  "kernelspec": {
   "display_name": "Python 3",
   "language": "python",
   "name": "python3"
  }
 },
 "nbformat": 4,
 "nbformat_minor": 5
}
