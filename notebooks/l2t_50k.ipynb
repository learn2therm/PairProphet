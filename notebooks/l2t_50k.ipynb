{
 "cells": [
  {
   "cell_type": "markdown",
   "id": "4880112e",
   "metadata": {},
   "source": [
    "### This notebook details the construction of a sample l2t database for full pipeline testing"
   ]
  },
  {
   "cell_type": "code",
   "execution_count": 1,
   "id": "c456a321",
   "metadata": {},
   "outputs": [],
   "source": [
    "import pandas as pd\n",
    "import numpy as np\n",
    "\n",
    "import duckdb"
   ]
  },
  {
   "cell_type": "code",
   "execution_count": 2,
   "id": "2147594d",
   "metadata": {},
   "outputs": [],
   "source": [
    "con = duckdb.connect('/mnt/s/PairProphet/Pairprophet.db')"
   ]
  },
  {
   "cell_type": "code",
   "execution_count": 7,
   "id": "9b767e34",
   "metadata": {},
   "outputs": [
    {
     "data": {
      "text/plain": [
       "<duckdb.DuckDBPyConnection at 0x7f78723485b0>"
      ]
     },
     "execution_count": 7,
     "metadata": {},
     "output_type": "execute_result"
    }
   ],
   "source": [
    "# Make sample protein pairs table\n",
    "cmd = \"\"\"CREATE TEMP TABLE samp_protein_pairs AS\n",
    "         SELECT * FROM protein_pairs LIMIT 50000\"\"\"\n",
    "\n",
    "con.execute(cmd)"
   ]
  },
  {
   "cell_type": "code",
   "execution_count": null,
   "id": "a5469ef3",
   "metadata": {},
   "outputs": [],
   "source": [
    "# Make sample proteins table\n",
    "cmd = \"\"\"CREATE TEMP TABLE samp_proteins AS\n",
    "         SELECT * FROM proteins\n",
    "         WHERE proteins.pid IN \n",
    "         (SELECT DISTINCT meso_pid FROM samp_protein_pairs)\n",
    "         OR proteins.pid IN\n",
    "         (SELECT DISTINCT thermo_pid FROM samp_protein_pairs)\"\"\"\n",
    "\n",
    "con.execute(cmd)"
   ]
  },
  {
   "cell_type": "code",
   "execution_count": 8,
   "id": "3a3d6ec3",
   "metadata": {},
   "outputs": [
    {
     "data": {
      "text/plain": [
       "<duckdb.DuckDBPyConnection at 0x7f78723485b0>"
      ]
     },
     "execution_count": 8,
     "metadata": {},
     "output_type": "execute_result"
    }
   ],
   "source": [
    "# Make sample taxa table\n",
    "cmd = \"\"\"CREATE TEMP TABLE samp_taxa AS\n",
    "         SELECT * FROM taxa\n",
    "         WHERE taxa.taxid IN \n",
    "         (SELECT DISTINCT meso_taxid FROM samp_protein_pairs)\n",
    "         OR taxa.taxid IN\n",
    "         (SELECT DISTINCT thermo_taxid FROM samp_protein_pairs)\"\"\"\n",
    "\n",
    "con.execute(cmd)"
   ]
  },
  {
   "cell_type": "code",
   "execution_count": 9,
   "id": "d3b64c9e",
   "metadata": {},
   "outputs": [
    {
     "data": {
      "text/plain": [
       "<duckdb.DuckDBPyConnection at 0x7f78723485b0>"
      ]
     },
     "execution_count": 9,
     "metadata": {},
     "output_type": "execute_result"
    }
   ],
   "source": [
    "# Make sample taxa_pairs table\n",
    "cmd = \"\"\"CREATE TEMP TABLE samp_taxa_pairs AS\n",
    "         SELECT * FROM taxa_pairs\n",
    "         WHERE taxa_pairs.query_id IN \n",
    "         (SELECT DISTINCT taxid FROM samp_taxa)\n",
    "         AND taxa_pairs.subject_id IN \n",
    "         (SELECT DISTINCT taxid FROM samp_taxa)\"\"\"\n",
    "\n",
    "con.execute(cmd)"
   ]
  },
  {
   "cell_type": "code",
   "execution_count": null,
   "id": "904ece8b",
   "metadata": {},
   "outputs": [],
   "source": [
    "# Make sample taxa_lab table\n",
    "cmd = \"\"\"CREATE TEMP TABLE samp_taxa_pairs_lab AS\n",
    "         SELECT * FROM taxa_pairs_lab\n",
    "         WHERE taxa_pairs_lab.__index_level_0__ IN \n",
    "         (SELECT __index_level_0__ FROM samp_taxa_pairs)\n",
    "      \"\"\"\n",
    "\n",
    "con.execute(cmd)"
   ]
  },
  {
   "cell_type": "code",
   "execution_count": 11,
   "id": "b3e4efd8",
   "metadata": {},
   "outputs": [],
   "source": [
    "# Grab new tables as df and close connection to large database\n",
    "samp_protein_pairs = con.execute(\"\"\"SELECT * FROM samp_protein_pairs\"\"\").df()\n",
    "samp_proteins = con.execute(\"\"\"SELECT * FROM samp_proteins\"\"\").df()\n",
    "samp_taxa = con.execute(\"\"\"SELECT * FROM samp_taxa\"\"\").df()\n",
    "samp_taxa_pairs = con.execute(\"\"\"SELECT * FROM samp_taxa_pairs\"\"\").df()\n",
    "samp_taxa_pairs_lab = con.execute(\"\"\"SELECT * FROM samp_taxa_pairs_lab\"\"\").df()\n",
    "con.close()"
   ]
  },
  {
   "cell_type": "code",
   "execution_count": 15,
   "id": "caf031e1",
   "metadata": {},
   "outputs": [
    {
     "data": {
      "text/plain": [
       "<duckdb.DuckDBPyConnection at 0x7f780ba9bdf0>"
      ]
     },
     "execution_count": 15,
     "metadata": {},
     "output_type": "execute_result"
    }
   ],
   "source": [
    "# Connect to new sample database and create tables\n",
    "con = duckdb.connect('/mnt/s/PairProphet/l2t_50k.db')\n",
    "con.execute(\"\"\"CREATE OR REPLACE TABLE protein_pairs AS SELECT * FROM samp_protein_pairs\"\"\")\n",
    "con.execute(\"\"\"CREATE OR REPLACE TABLE proteins AS SELECT * FROM samp_proteins\"\"\")\n",
    "con.execute(\"\"\"CREATE OR REPLACE TABLE taxa AS SELECT * FROM samp_taxa\"\"\")\n",
    "con.execute(\"\"\"CREATE OR REPLACE TABLE taxa_pairs AS SELECT * FROM samp_taxa_pairs\"\"\")\n",
    "con.execute(\"\"\"CREATE OR REPLACE TABLE taxa_pairs_lab AS SELECT * FROM samp_taxa_pairs_lab\"\"\")"
   ]
  },
  {
   "cell_type": "code",
   "execution_count": 17,
   "id": "1cf71c28",
   "metadata": {
    "scrolled": true
   },
   "outputs": [
    {
     "ename": "ConnectionException",
     "evalue": "Connection Error: Connection has already been closed",
     "output_type": "error",
     "traceback": [
      "\u001b[0;31m---------------------------------------------------------------------------\u001b[0m",
      "\u001b[0;31mConnectionException\u001b[0m                       Traceback (most recent call last)",
      "Cell \u001b[0;32mIn[17], line 1\u001b[0m\n\u001b[0;32m----> 1\u001b[0m \u001b[43mcon\u001b[49m\u001b[38;5;241;43m.\u001b[39;49m\u001b[43mexecute\u001b[49m\u001b[43m(\u001b[49m\u001b[38;5;124;43m\"\"\"\u001b[39;49m\u001b[38;5;124;43mSELECT TABLE_NAME\u001b[39;49m\n\u001b[1;32m      2\u001b[0m \u001b[38;5;124;43mFROM INFORMATION_SCHEMA.TABLES\u001b[39;49m\n\u001b[1;32m      3\u001b[0m \u001b[38;5;124;43mWHERE TABLE_TYPE=\u001b[39;49m\u001b[38;5;124;43m'\u001b[39;49m\u001b[38;5;124;43mBASE TABLE\u001b[39;49m\u001b[38;5;124;43m'\u001b[39;49m\u001b[38;5;124;43m\"\"\"\u001b[39;49m\u001b[43m)\u001b[49m\u001b[38;5;241m.\u001b[39mdf()\n",
      "\u001b[0;31mConnectionException\u001b[0m: Connection Error: Connection has already been closed"
     ]
    }
   ],
   "source": [
    "con.execute(\"\"\"SELECT TABLE_NAME\n",
    "FROM INFORMATION_SCHEMA.TABLES\n",
    "WHERE TABLE_TYPE='BASE TABLE'\"\"\").df()"
   ]
  },
  {
   "cell_type": "code",
   "execution_count": null,
   "id": "590bdab7",
   "metadata": {},
   "outputs": [],
   "source": []
  }
 ],
 "metadata": {
  "kernelspec": {
   "display_name": "Python 3 (ipykernel)",
   "language": "python",
   "name": "python3"
  },
  "language_info": {
   "codemirror_mode": {
    "name": "ipython",
    "version": 3
   },
   "file_extension": ".py",
   "mimetype": "text/x-python",
   "name": "python",
   "nbconvert_exporter": "python",
   "pygments_lexer": "ipython3",
   "version": "3.10.9"
  }
 },
 "nbformat": 4,
 "nbformat_minor": 5
}
