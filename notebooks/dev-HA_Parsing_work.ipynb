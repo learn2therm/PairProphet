{
 "cells": [
  {
   "attachments": {},
   "cell_type": "markdown",
   "metadata": {},
   "source": [
    "# Dev-work: hashing as parsing"
   ]
  },
  {
   "cell_type": "code",
   "execution_count": 3,
   "metadata": {},
   "outputs": [],
   "source": [
    "# system dependecies\n",
    "import os\n",
    "from pathlib import Path\n",
    "import time\n",
    "\n",
    "# library dependencies\n",
    "import matplotlib.pyplot as plt\n",
    "import numpy as np\n",
    "\n",
    "import pandas as pd\n",
    "import seaborn as sns\n",
    "from collections import defaultdict\n",
    "\n",
    "## biopython\n",
    "from Bio import SeqIO\n",
    "from Bio.Seq import Seq\n",
    "from Bio.SeqRecord import SeqRecord\n",
    "from Bio import SearchIO\n",
    "\n",
    "## pyhmmer\n",
    "import pyhmmer\n",
    "\n",
    "## datasketch\n",
    "from datasketch import MinHash\n",
    "\n",
    "# local dependencies/utils\n",
    "\n",
    "## Paths\n",
    "PFAM_PATH = Path(\"/Users/humoodalanzi/pfam/Pfam-A.hmm\")\n",
    "ID_DB_PATH = Path(\"/Users/humoodalanzi/pfam/proteins_id.zip\")\n",
    "#probably need path of unit tests"
   ]
  },
  {
   "cell_type": "code",
   "execution_count": 3,
   "metadata": {},
   "outputs": [],
   "source": [
    "meso_output = os.path.abspath(os.path.join('..', 'examples', \"meso_output.domtblout\"))\n",
    "thermo_output = os.path.abspath(os.path.join('..', 'examples', \"thermo_output.domtblout\"))"
   ]
  },
  {
   "cell_type": "code",
   "execution_count": null,
   "metadata": {},
   "outputs": [],
   "source": []
  }
 ],
 "metadata": {
  "kernelspec": {
   "display_name": "validprot",
   "language": "python",
   "name": "python3"
  },
  "language_info": {
   "codemirror_mode": {
    "name": "ipython",
    "version": 3
   },
   "file_extension": ".py",
   "mimetype": "text/x-python",
   "name": "python",
   "nbconvert_exporter": "python",
   "pygments_lexer": "ipython3",
   "version": "3.11.2"
  },
  "orig_nbformat": 4
 },
 "nbformat": 4,
 "nbformat_minor": 2
}
